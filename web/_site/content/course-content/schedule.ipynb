{
 "cells": [
  {
   "cell_type": "markdown",
   "metadata": {},
   "source": [
    "# Schedule\n",
    "\n",
    "This is the schedule for the semester.  This page will be frequently updated based on how we progress and everything is subject to change. Homeworks and links to the lecture will be provided here for easy reference to the calendar."
   ]
  },
  {
   "cell_type": "markdown",
   "metadata": {
    "tags": [
     "schedule"
    ]
   },
   "source": [
    "**Date** | **Lecture** | **Lab** \n",
    ":---|:---|:------|\n",
    "*Wed, Sept 4* | Introductions, course policies <br> -- [HW1](https://forms.gle/Nqqm2LhR1x3Z53Kj7) - Due Sun Sept 8th  | -- \n",
    "*Mon, Sept 9* | What is cognitive science? Introduction to Jupyter | Accessing JupyterHub, Basics of Jupyter, python, and markdown  \n",
    "*Wed, Sept 11* | Why do we do statistics? | intro to Python: Indenting, variables, functions, importing libraries\n",
    "*Mon, Sept 16* | What is an experiment? | Lists and dictionaries \n",
    "*Wed, Sept 18* | Random processes, random walks, samples and their relation to the population  | Loops, and other control structures \n",
    "*Mon, Sept 23* | Summarizing data with histograms, distributions | Functions and organizing code blocks  \n",
    "*Wed, Sept 25* | Measures of central tendency, variance | Reading in data and manipulating it \n",
    "*Mon, Sept 30* | Comparing two groups | Tidy data formats and preparing data for analysis \n",
    "*Wed, Oct 2* | Comparing more than two groups | Visualizing data with Seaborn \n",
    "*Mon, Oct 7* | Relating multiple variables (correlation) | Accessing existing  data sets \n",
    "*Wed, Oct 9* | Regression | Catch up day  \n",
    "~~Mon, Oct 14~~ | **No class, University holiday**  | \n",
    "**Tues, Oct 15th** (Rescheduled class) | Multiple-regression | Lab 1: Regression \n",
    "*Wed, Oct 16* | Experiment Design: Randomization, stratification, counter-balancing | Lab 1: Regression \n",
    "*Mon, Oct 21* | Replication crisis, HARKing, p-hacking | Lab 1: Regression \n",
    "*Wed, Oct 23* | Blinding, preregistration, open science | Lab 2: Signal Detection Theory \n",
    "*Mon, Oct 28* | Signal Detection Theory | Lab 2: Signal Detection Theory \n",
    "*Wed, Oct 30* | Informed consent, institutional review boards, ethics in research | Lab 2: Signal Detection Theory \n",
    "*Mon, Nov 4* | Literature reviews, findings papers online, reference managers and citations| Lab 2: Signal Detection Theory \n",
    "*Wed, Nov 6* | Writing papers, scientific communcation, publishing  | Lab 2: Signal Detection Theory \n",
    "*Mon, Nov 11* | Writing an abstract and introductions| Lab 3: Reinforcement Learning \n",
    "*Wed, Nov 13* | Writing a methods section  | Lab 3: Reinforcement Learning \n",
    "*Mon, Nov 18* | Writing a results section | Lab 3: Reinforcement Learning \n",
    "*Wed, Nov 20* | Writing a discussion section | Lab 3: Reinforcement Learning \n",
    "*Mon, Nov 25* | Reference managers and citations | Lab 3: Reinforcement Learning \n",
    "~~Wed, Nov 27~~ | No class, Thanksgiving break  | \n",
    "*Mon, Dec 2* | Giving Presentations |  \n",
    "*Wed, Dec 4* | In-class final project time | \n",
    "*Mon, Dec 9* | In-class final project time | \n",
    "*Wed, Dec 11* | In-class final project time | \n",
    "**Final exam time (TBD)** | Final oral presentation, final papers due | "
   ]
  },
  {
   "cell_type": "code",
   "execution_count": null,
   "metadata": {},
   "outputs": [],
   "source": []
  }
 ],
 "metadata": {
  "celltoolbar": "Tags",
  "kernelspec": {
   "display_name": "Python 3",
   "language": "python",
   "name": "python3"
  },
  "language_info": {
   "codemirror_mode": {
    "name": "ipython",
    "version": 3
   },
   "file_extension": ".py",
   "mimetype": "text/x-python",
   "name": "python",
   "nbconvert_exporter": "python",
   "pygments_lexer": "ipython3",
   "version": "3.7.3"
  },
  "toc": {
   "base_numbering": 1,
   "nav_menu": {},
   "number_sections": true,
   "sideBar": true,
   "skip_h1_title": false,
   "title_cell": "Table of Contents",
   "title_sidebar": "Contents",
   "toc_cell": false,
   "toc_position": {},
   "toc_section_display": true,
   "toc_window_display": false
  }
 },
 "nbformat": 4,
 "nbformat_minor": 2
}
