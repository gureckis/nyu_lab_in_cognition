{
 "cells": [
  {
   "cell_type": "markdown",
   "metadata": {},
   "source": [
    "# NYU JupyterHub Setup"
   ]
  },
  {
   "cell_type": "markdown",
   "metadata": {},
   "source": [
    "```{note}\n",
    "This document authored by [Denis Pelli](https://psych.nyu.edu/pelli/) and [Todd M. Gureckis](http://gureckislab.org/~gureckis) with help from Sergey Samsonau and Eric Borenstein.\n",
    "```"
   ]
  },
  {
   "cell_type": "markdown",
   "metadata": {},
   "source": [
    "Psychology is reorganizing the labs for cognition and perception. Todd Gureckis has developed several easy python Jupyter notebooks to introduce undergraduates to basic concepts, like hypothesis testing.\n",
    "http://gureckislab.org/courses/fall19/labincp/chapters/09/00-hypothesistesting.html\n",
    "Here is what you need to do to use these notebooks in your class. You’ll need to create (currently free) accounts at the High Performance Computing center (HPC), and install necessary python modules."
   ]
  },
  {
   "cell_type": "markdown",
   "metadata": {},
   "source": [
    "## Overview and FAQ"
   ]
  },
  {
   "cell_type": "markdown",
   "metadata": {},
   "source": [
    "- https://sites.google.com/a/nyu.edu/nyu-hpc/services/resources-for-classes/rc-jupyterhub\n",
    "- https://sites.google.com/a/nyu.edu/nyu-hpc/services/resources-for-classes/rc-jupyterhub/faq\n",
    "- You can send questions by emailing hpc@nyu.edu"
   ]
  },
  {
   "cell_type": "markdown",
   "metadata": {},
   "source": [
    "## Request Account"
   ]
  },
  {
   "cell_type": "markdown",
   "metadata": {},
   "source": [
    "Apply for an account for yourself and students:\n",
    "https://sites.google.com/a/nyu.edu/nyu-hpc/services/resources-for-classes/rc-jupyterhub/intake-form\n",
    "\n",
    "Wait, about a day, for an email announcing accounts for you and your class. It will provide an instructor link (for you and TAs) and a student link for all your students."
   ]
  },
  {
   "cell_type": "markdown",
   "metadata": {},
   "source": [
    "## Read the manual\n",
    "Log in as the instructor and read the ~/tuning/MANUAL.html"
   ]
  },
  {
   "cell_type": "markdown",
   "metadata": {},
   "source": [
    "## Add students\n",
    "\n",
    "There are several ways to add students. The recommended way is to add their NYU ids to the white list.\n",
    "Edit the file /tuning/settings.txt, and add the student NYU IDs to this line:\n",
    "STUD_WHITELIST:xx123,xy123,xx234,xx234\n",
    "(Those IDs are for a hypothetical class. Yours will be different.)\n",
    "\n",
    "## Turbo \n",
    "Before doing custom software installations (see below), turn on TURBO mode, as explained in the MANUAL. TURBO temporarily increases your resources, hopefully enough to allow installations, and turns itself off some hours later. You have to wait around 10 m or more for your request to be acted on. I’m not sure how you can tell that you’re in TURBO mode. Without TURBO, our every attempt to install died with a “Kill” error message. Even with TURBO, some installation attempts were Killed. For example, trying to install two scikit modules in one install failed, but succeeded when installed in separate commands.\n"
   ]
  },
  {
   "cell_type": "markdown",
   "metadata": {},
   "source": [
    "## Install \n",
    "\n",
    "As explained in MANUAL, use Terminal to load Python modules. These are commands to load the modules needed by Todd Gureckis’s teaching notebooks for Cognition and Perception:\n",
    "\n",
    "```\n",
    "conda create --name perception python=3.7\n",
    "conda install -n perception ipykernel\n",
    "conda activate perception\n",
    "conda install -c conda-forge pandas\n",
    "conda install -c conda-forge seaborn\n",
    "conda install scikit-learn\n",
    "conda install scikit-image\n",
    "conda install colorlover matplotlib pingouin\n",
    "pip install celluloid\n",
    "```\n",
    "\n",
    "To do further installations at a later time, begin with\n",
    "conda activate perception\n"
   ]
  },
  {
   "cell_type": "markdown",
   "metadata": {},
   "source": [
    "## Persistant storage for students\n",
    "\n",
    "The default is for student accounts to remember nothing from session to session. There's an option one can edit to make their changes persistent (until end of semester).  Edit the file `~/tuning/settings.txt` and change this\n",
    "`PERSISTENTSTORAGE:no`\n",
    "to\n",
    "`PERSISTENTSTORAGE:yes`\n",
    "Save the file."
   ]
  },
  {
   "cell_type": "markdown",
   "metadata": {},
   "source": [
    "## Change kernel\n",
    "\n",
    "Every time you or a student spawns a new session, to use the modules you installed above, you and each student must use the Kernel menu to select Change Kernel, and select the “Python [env:Perception]” kernel."
   ]
  },
  {
   "cell_type": "markdown",
   "metadata": {},
   "source": [
    "## Shared folder is read-only\n",
    "\n",
    "The shared folder helpfully allows the instructor(s) to provide files for student use. However, the student have only read access to that folder, so if you want them to modify anything, they’ll first need to copy the file outside of that folder."
   ]
  },
  {
   "cell_type": "code",
   "execution_count": null,
   "metadata": {},
   "outputs": [],
   "source": []
  }
 ],
 "metadata": {
  "celltoolbar": "Tags",
  "kernelspec": {
   "display_name": "Python 3",
   "language": "python",
   "name": "python3"
  },
  "language_info": {
   "codemirror_mode": {
    "name": "ipython",
    "version": 3
   },
   "file_extension": ".py",
   "mimetype": "text/x-python",
   "name": "python",
   "nbconvert_exporter": "python",
   "pygments_lexer": "ipython3",
   "version": "3.7.3"
  },
  "toc": {
   "base_numbering": 1,
   "nav_menu": {},
   "number_sections": true,
   "sideBar": true,
   "skip_h1_title": false,
   "title_cell": "Table of Contents",
   "title_sidebar": "Contents",
   "toc_cell": false,
   "toc_position": {},
   "toc_section_display": true,
   "toc_window_display": false
  }
 },
 "nbformat": 4,
 "nbformat_minor": 2
}
