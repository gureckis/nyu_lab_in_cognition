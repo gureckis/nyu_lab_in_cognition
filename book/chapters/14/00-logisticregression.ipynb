{
 "cells": [
  {
   "cell_type": "markdown",
   "metadata": {},
   "source": [
    "# Logistic regression"
   ]
  },
  {
   "cell_type": "markdown",
   "metadata": {},
   "source": [
    "```{note}\n",
    "This chapter authored by [Todd M. Gureckis](http://gureckislab.org/~gureckis) is released under the [license](/LICENSE.html) for the book. \n",
    "```"
   ]
  },
  {
   "cell_type": "code",
   "execution_count": 2,
   "metadata": {
    "tags": [
     "hide_input"
    ]
   },
   "outputs": [],
   "source": [
    "from IPython.core.display import HTML, Markdown, display\n",
    "\n",
    "import numpy.random as npr\n",
    "import numpy as np\n",
    "import pandas as pd\n",
    "import seaborn as sns\n",
    "import matplotlib.pyplot as plt\n",
    "import scipy.stats as stats\n",
    "import statsmodels.formula.api as smf\n",
    "\n",
    "import warnings\n",
    "warnings.filterwarnings(\"ignore\")\n",
    "\n",
    "from myst_nb import glue # for the Jupyter book chapter"
   ]
  },
  {
   "cell_type": "markdown",
   "metadata": {},
   "source": [
    "The goal in this chapter is to build upon the previous chapter on linear regression to introduce the concept of **_logistic regression_**.  A very short summary is that while linear regression is about fitting lines, logistic regression is about fitting a particular type of \"squiggle\" to particular kinds of data.  We are going to talk first about why logistic regression is necessary, the types of datasets it applies to, then step through some of the details on fitting a logistic regression model and interpreting it.\n",
    "\n",
    "Logistic regression is something you might not have heard about before in a psychology statistics course but it is becoming more common.  In addition, logistic regression is a very popular tool in data science and machine learning."
   ]
  },
  {
   "cell_type": "markdown",
   "metadata": {},
   "source": [
    "## Predicting binary outcomes"
   ]
  },
  {
   "cell_type": "markdown",
   "metadata": {},
   "source": [
    "In much of the previous chapter we talked about regression in the context where we aimed to predict data that was on an interval scale (e.g., grumpiness given sleep).  However, often we are interested in a discrete, nominal outcome: a case where something happens or it doesn't.  We sometimes call these \"binary\" outcomes.\n",
    "\n",
    "Examples include:\n",
    "\n",
    "- predicting if someone will or will not graduate from high school\n",
    "- predicting if someone will or will not get a disease\n",
    "- predicting is a job applicant gets a “good” or “poor” rating on their annual review\n",
    "- predicting if an infant will look at a stimulus or not in a looking time study\n",
    "- predicting how a person will answer a true/false question\n",
    "\n",
    "Each of these cases the thing that is being predicted is a dichotomous outcome with two levels or values (graduate/not, disease/no disease, good/poor, look/no look, true/false, etc..). These case come up enough in psychological research it is useful to know about the best way to approach the analysis of this data. \n",
    "\n",
    "I think a lot of students, fresh off the chapter on linear regression would just get to work trying to perform a normal linear regression on data where the predicted value is binary.  Why not?  It isn't like the statistics software (like `statsmodels`) will usually **stop** you from doing this.  Why do we need to learn an entirely different type of regression approach to handle these types of data?"
   ]
  },
  {
   "cell_type": "markdown",
   "metadata": {},
   "source": [
    "## Why do we need logistic regression?"
   ]
  },
  {
   "cell_type": "markdown",
   "metadata": {},
   "source": [
    "I'm about to show you the **wrong** way to analyze data with discrete, binary outcomes.  The reason is that doing this analysis the wrong way illustrates a bit why we need a different approach. "
   ]
  },
  {
   "cell_type": "markdown",
   "metadata": {},
   "source": [
    "```{caution} Don't get confused, this next section is not the right way to do things, and you will see why!\n",
    "```"
   ]
  },
  {
   "cell_type": "markdown",
   "metadata": {},
   "source": [
    "To make things concrete, imagine the following data set which contains some hypothetical data on the high school GPA of several students and if they were admitted to NYU (loaded from 'nyu_admission_fake.csv' in the current folder):"
   ]
  },
  {
   "cell_type": "code",
   "execution_count": 3,
   "metadata": {
    "tags": [
     "output_scroll"
    ]
   },
   "outputs": [
    {
     "data": {
      "text/html": [
       "<div>\n",
       "<style scoped>\n",
       "    .dataframe tbody tr th:only-of-type {\n",
       "        vertical-align: middle;\n",
       "    }\n",
       "\n",
       "    .dataframe tbody tr th {\n",
       "        vertical-align: top;\n",
       "    }\n",
       "\n",
       "    .dataframe thead th {\n",
       "        text-align: right;\n",
       "    }\n",
       "</style>\n",
       "<table border=\"1\" class=\"dataframe\">\n",
       "  <thead>\n",
       "    <tr style=\"text-align: right;\">\n",
       "      <th></th>\n",
       "      <th>student</th>\n",
       "      <th>gpa</th>\n",
       "      <th>admit</th>\n",
       "    </tr>\n",
       "  </thead>\n",
       "  <tbody>\n",
       "    <tr>\n",
       "      <th>0</th>\n",
       "      <td>0</td>\n",
       "      <td>3.085283</td>\n",
       "      <td>1</td>\n",
       "    </tr>\n",
       "    <tr>\n",
       "      <th>1</th>\n",
       "      <td>1</td>\n",
       "      <td>0.083008</td>\n",
       "      <td>0</td>\n",
       "    </tr>\n",
       "    <tr>\n",
       "      <th>2</th>\n",
       "      <td>2</td>\n",
       "      <td>2.534593</td>\n",
       "      <td>1</td>\n",
       "    </tr>\n",
       "    <tr>\n",
       "      <th>3</th>\n",
       "      <td>3</td>\n",
       "      <td>2.995216</td>\n",
       "      <td>1</td>\n",
       "    </tr>\n",
       "    <tr>\n",
       "      <th>4</th>\n",
       "      <td>4</td>\n",
       "      <td>1.994028</td>\n",
       "      <td>0</td>\n",
       "    </tr>\n",
       "    <tr>\n",
       "      <th>5</th>\n",
       "      <td>5</td>\n",
       "      <td>0.899187</td>\n",
       "      <td>0</td>\n",
       "    </tr>\n",
       "    <tr>\n",
       "      <th>6</th>\n",
       "      <td>6</td>\n",
       "      <td>0.792251</td>\n",
       "      <td>0</td>\n",
       "    </tr>\n",
       "    <tr>\n",
       "      <th>7</th>\n",
       "      <td>7</td>\n",
       "      <td>3.042123</td>\n",
       "      <td>1</td>\n",
       "    </tr>\n",
       "    <tr>\n",
       "      <th>8</th>\n",
       "      <td>8</td>\n",
       "      <td>0.676443</td>\n",
       "      <td>0</td>\n",
       "    </tr>\n",
       "    <tr>\n",
       "      <th>9</th>\n",
       "      <td>9</td>\n",
       "      <td>0.353359</td>\n",
       "      <td>0</td>\n",
       "    </tr>\n",
       "    <tr>\n",
       "      <th>10</th>\n",
       "      <td>10</td>\n",
       "      <td>2.741439</td>\n",
       "      <td>1</td>\n",
       "    </tr>\n",
       "    <tr>\n",
       "      <th>11</th>\n",
       "      <td>11</td>\n",
       "      <td>3.813573</td>\n",
       "      <td>1</td>\n",
       "    </tr>\n",
       "    <tr>\n",
       "      <th>12</th>\n",
       "      <td>12</td>\n",
       "      <td>0.015793</td>\n",
       "      <td>0</td>\n",
       "    </tr>\n",
       "    <tr>\n",
       "      <th>13</th>\n",
       "      <td>13</td>\n",
       "      <td>2.048769</td>\n",
       "      <td>0</td>\n",
       "    </tr>\n",
       "    <tr>\n",
       "      <th>14</th>\n",
       "      <td>14</td>\n",
       "      <td>3.250484</td>\n",
       "      <td>1</td>\n",
       "    </tr>\n",
       "    <tr>\n",
       "      <th>15</th>\n",
       "      <td>15</td>\n",
       "      <td>2.450104</td>\n",
       "      <td>0</td>\n",
       "    </tr>\n",
       "    <tr>\n",
       "      <th>16</th>\n",
       "      <td>16</td>\n",
       "      <td>2.887021</td>\n",
       "      <td>0</td>\n",
       "    </tr>\n",
       "    <tr>\n",
       "      <th>17</th>\n",
       "      <td>17</td>\n",
       "      <td>1.167504</td>\n",
       "      <td>0</td>\n",
       "    </tr>\n",
       "    <tr>\n",
       "      <th>18</th>\n",
       "      <td>18</td>\n",
       "      <td>3.671096</td>\n",
       "      <td>1</td>\n",
       "    </tr>\n",
       "    <tr>\n",
       "      <th>19</th>\n",
       "      <td>19</td>\n",
       "      <td>2.858303</td>\n",
       "      <td>1</td>\n",
       "    </tr>\n",
       "    <tr>\n",
       "      <th>20</th>\n",
       "      <td>20</td>\n",
       "      <td>2.170177</td>\n",
       "      <td>1</td>\n",
       "    </tr>\n",
       "    <tr>\n",
       "      <th>21</th>\n",
       "      <td>21</td>\n",
       "      <td>0.568680</td>\n",
       "      <td>0</td>\n",
       "    </tr>\n",
       "    <tr>\n",
       "      <th>22</th>\n",
       "      <td>22</td>\n",
       "      <td>1.493363</td>\n",
       "      <td>0</td>\n",
       "    </tr>\n",
       "    <tr>\n",
       "      <th>23</th>\n",
       "      <td>23</td>\n",
       "      <td>2.696534</td>\n",
       "      <td>1</td>\n",
       "    </tr>\n",
       "    <tr>\n",
       "      <th>24</th>\n",
       "      <td>24</td>\n",
       "      <td>1.767333</td>\n",
       "      <td>0</td>\n",
       "    </tr>\n",
       "    <tr>\n",
       "      <th>25</th>\n",
       "      <td>25</td>\n",
       "      <td>1.736056</td>\n",
       "      <td>0</td>\n",
       "    </tr>\n",
       "    <tr>\n",
       "      <th>26</th>\n",
       "      <td>26</td>\n",
       "      <td>2.471068</td>\n",
       "      <td>1</td>\n",
       "    </tr>\n",
       "    <tr>\n",
       "      <th>27</th>\n",
       "      <td>27</td>\n",
       "      <td>2.052553</td>\n",
       "      <td>0</td>\n",
       "    </tr>\n",
       "    <tr>\n",
       "      <th>28</th>\n",
       "      <td>28</td>\n",
       "      <td>2.601589</td>\n",
       "      <td>1</td>\n",
       "    </tr>\n",
       "    <tr>\n",
       "      <th>29</th>\n",
       "      <td>29</td>\n",
       "      <td>2.404156</td>\n",
       "      <td>0</td>\n",
       "    </tr>\n",
       "    <tr>\n",
       "      <th>30</th>\n",
       "      <td>30</td>\n",
       "      <td>3.220893</td>\n",
       "      <td>1</td>\n",
       "    </tr>\n",
       "    <tr>\n",
       "      <th>31</th>\n",
       "      <td>31</td>\n",
       "      <td>2.086589</td>\n",
       "      <td>0</td>\n",
       "    </tr>\n",
       "    <tr>\n",
       "      <th>32</th>\n",
       "      <td>32</td>\n",
       "      <td>3.634596</td>\n",
       "      <td>1</td>\n",
       "    </tr>\n",
       "    <tr>\n",
       "      <th>33</th>\n",
       "      <td>33</td>\n",
       "      <td>1.276944</td>\n",
       "      <td>0</td>\n",
       "    </tr>\n",
       "    <tr>\n",
       "      <th>34</th>\n",
       "      <td>34</td>\n",
       "      <td>0.361837</td>\n",
       "      <td>0</td>\n",
       "    </tr>\n",
       "    <tr>\n",
       "      <th>35</th>\n",
       "      <td>35</td>\n",
       "      <td>1.202800</td>\n",
       "      <td>0</td>\n",
       "    </tr>\n",
       "    <tr>\n",
       "      <th>36</th>\n",
       "      <td>36</td>\n",
       "      <td>0.455937</td>\n",
       "      <td>0</td>\n",
       "    </tr>\n",
       "    <tr>\n",
       "      <th>37</th>\n",
       "      <td>37</td>\n",
       "      <td>3.314725</td>\n",
       "      <td>1</td>\n",
       "    </tr>\n",
       "    <tr>\n",
       "      <th>38</th>\n",
       "      <td>38</td>\n",
       "      <td>0.187585</td>\n",
       "      <td>0</td>\n",
       "    </tr>\n",
       "    <tr>\n",
       "      <th>39</th>\n",
       "      <td>39</td>\n",
       "      <td>2.505149</td>\n",
       "      <td>1</td>\n",
       "    </tr>\n",
       "  </tbody>\n",
       "</table>\n",
       "</div>"
      ],
      "text/plain": [
       "    student       gpa  admit\n",
       "0         0  3.085283      1\n",
       "1         1  0.083008      0\n",
       "2         2  2.534593      1\n",
       "3         3  2.995216      1\n",
       "4         4  1.994028      0\n",
       "5         5  0.899187      0\n",
       "6         6  0.792251      0\n",
       "7         7  3.042123      1\n",
       "8         8  0.676443      0\n",
       "9         9  0.353359      0\n",
       "10       10  2.741439      1\n",
       "11       11  3.813573      1\n",
       "12       12  0.015793      0\n",
       "13       13  2.048769      0\n",
       "14       14  3.250484      1\n",
       "15       15  2.450104      0\n",
       "16       16  2.887021      0\n",
       "17       17  1.167504      0\n",
       "18       18  3.671096      1\n",
       "19       19  2.858303      1\n",
       "20       20  2.170177      1\n",
       "21       21  0.568680      0\n",
       "22       22  1.493363      0\n",
       "23       23  2.696534      1\n",
       "24       24  1.767333      0\n",
       "25       25  1.736056      0\n",
       "26       26  2.471068      1\n",
       "27       27  2.052553      0\n",
       "28       28  2.601589      1\n",
       "29       29  2.404156      0\n",
       "30       30  3.220893      1\n",
       "31       31  2.086589      0\n",
       "32       32  3.634596      1\n",
       "33       33  1.276944      0\n",
       "34       34  0.361837      0\n",
       "35       35  1.202800      0\n",
       "36       36  0.455937      0\n",
       "37       37  3.314725      1\n",
       "38       38  0.187585      0\n",
       "39       39  2.505149      1"
      ]
     },
     "execution_count": 3,
     "metadata": {},
     "output_type": "execute_result"
    }
   ],
   "source": [
    "nyu_df = pd.read_csv('nyu_admission_fake.csv')\n",
    "nyu_df"
   ]
  },
  {
   "cell_type": "markdown",
   "metadata": {},
   "source": [
    "The `student` column is an anonymous identifier, `gpa` is the grade point average in high school on a 4.0 scale, and `admit` codes a binary variable about if the student was admitted to NYU (1=admit, 0=not admitted).  Taking what we learned from the last chapter let's conduct a typical linear regression analysis to assess how GPA influences if a student was admitted."
   ]
  },
  {
   "cell_type": "code",
   "execution_count": 161,
   "metadata": {},
   "outputs": [
    {
     "data": {
      "image/png": "[encoded data removed]",
      "text/plain": [
       "<Figure size 432x288 with 1 Axes>"
      ]
     },
     "metadata": {
      "needs_background": "light"
     },
     "output_type": "display_data"
    },
    {
     "data": {
      "text/html": [
       "<table class=\"simpletable\">\n",
       "<caption>OLS Regression Results</caption>\n",
       "<tr>\n",
       "  <th>Dep. Variable:</th>          <td>admit</td>      <th>  R-squared:         </th> <td>   0.598</td>\n",
       "</tr>\n",
       "<tr>\n",
       "  <th>Model:</th>                   <td>OLS</td>       <th>  Adj. R-squared:    </th> <td>   0.587</td>\n",
       "</tr>\n",
       "<tr>\n",
       "  <th>Method:</th>             <td>Least Squares</td>  <th>  F-statistic:       </th> <td>   56.45</td>\n",
       "</tr>\n",
       "<tr>\n",
       "  <th>Date:</th>             <td>Mon, 04 Jan 2021</td> <th>  Prob (F-statistic):</th> <td>5.02e-09</td>\n",
       "</tr>\n",
       "<tr>\n",
       "  <th>Time:</th>                 <td>12:38:28</td>     <th>  Log-Likelihood:    </th> <td> -10.367</td>\n",
       "</tr>\n",
       "<tr>\n",
       "  <th>No. Observations:</th>      <td>    40</td>      <th>  AIC:               </th> <td>   24.73</td>\n",
       "</tr>\n",
       "<tr>\n",
       "  <th>Df Residuals:</th>          <td>    38</td>      <th>  BIC:               </th> <td>   28.11</td>\n",
       "</tr>\n",
       "<tr>\n",
       "  <th>Df Model:</th>              <td>     1</td>      <th>                     </th>     <td> </td>   \n",
       "</tr>\n",
       "<tr>\n",
       "  <th>Covariance Type:</th>      <td>nonrobust</td>    <th>                     </th>     <td> </td>   \n",
       "</tr>\n",
       "</table>\n",
       "<table class=\"simpletable\">\n",
       "<tr>\n",
       "      <td></td>         <th>coef</th>     <th>std err</th>      <th>t</th>      <th>P>|t|</th>  <th>[0.025</th>    <th>0.975]</th>  \n",
       "</tr>\n",
       "<tr>\n",
       "  <th>Intercept</th> <td>   -0.2671</td> <td>    0.105</td> <td>   -2.539</td> <td> 0.015</td> <td>   -0.480</td> <td>   -0.054</td>\n",
       "</tr>\n",
       "<tr>\n",
       "  <th>gpa</th>       <td>    0.3479</td> <td>    0.046</td> <td>    7.513</td> <td> 0.000</td> <td>    0.254</td> <td>    0.442</td>\n",
       "</tr>\n",
       "</table>\n",
       "<table class=\"simpletable\">\n",
       "<tr>\n",
       "  <th>Omnibus:</th>       <td> 3.244</td> <th>  Durbin-Watson:     </th> <td>   2.086</td>\n",
       "</tr>\n",
       "<tr>\n",
       "  <th>Prob(Omnibus):</th> <td> 0.198</td> <th>  Jarque-Bera (JB):  </th> <td>   2.891</td>\n",
       "</tr>\n",
       "<tr>\n",
       "  <th>Skew:</th>          <td>-0.576</td> <th>  Prob(JB):          </th> <td>   0.236</td>\n",
       "</tr>\n",
       "<tr>\n",
       "  <th>Kurtosis:</th>      <td> 2.360</td> <th>  Cond. No.          </th> <td>    5.43</td>\n",
       "</tr>\n",
       "</table><br/><br/>Notes:<br/>[1] Standard Errors assume that the covariance matrix of the errors is correctly specified."
      ],
      "text/plain": [
       "<class 'statsmodels.iolib.summary.Summary'>\n",
       "\"\"\"\n",
       "                            OLS Regression Results                            \n",
       "==============================================================================\n",
       "Dep. Variable:                  admit   R-squared:                       0.598\n",
       "Model:                            OLS   Adj. R-squared:                  0.587\n",
       "Method:                 Least Squares   F-statistic:                     56.45\n",
       "Date:                Mon, 04 Jan 2021   Prob (F-statistic):           5.02e-09\n",
       "Time:                        12:38:28   Log-Likelihood:                -10.367\n",
       "No. Observations:                  40   AIC:                             24.73\n",
       "Df Residuals:                      38   BIC:                             28.11\n",
       "Df Model:                           1                                         \n",
       "Covariance Type:            nonrobust                                         \n",
       "==============================================================================\n",
       "                 coef    std err          t      P>|t|      [0.025      0.975]\n",
       "------------------------------------------------------------------------------\n",
       "Intercept     -0.2671      0.105     -2.539      0.015      -0.480      -0.054\n",
       "gpa            0.3479      0.046      7.513      0.000       0.254       0.442\n",
       "==============================================================================\n",
       "Omnibus:                        3.244   Durbin-Watson:                   2.086\n",
       "Prob(Omnibus):                  0.198   Jarque-Bera (JB):                2.891\n",
       "Skew:                          -0.576   Prob(JB):                        0.236\n",
       "Kurtosis:                       2.360   Cond. No.                         5.43\n",
       "==============================================================================\n",
       "\n",
       "Notes:\n",
       "[1] Standard Errors assume that the covariance matrix of the errors is correctly specified.\n",
       "\"\"\""
      ]
     },
     "execution_count": 161,
     "metadata": {},
     "output_type": "execute_result"
    },
    {
     "data": {
      "text/plain": [
       "<Figure size 432x288 with 0 Axes>"
      ]
     },
     "metadata": {},
     "output_type": "display_data"
    }
   ],
   "source": [
    "import statsmodels.formula.api as smf\n",
    "\n",
    "lr=smf.ols(formula=\"admit ~ gpa\", data=nyu_df).fit()\n",
    "\n",
    "sns.regplot(x='gpa',y='admit', scatter=False,data=nyu_df, color='gray')\n",
    "sns.scatterplot(x='gpa', y='admit', hue='admit', data=nyu_df)\n",
    "plt.xlabel(\"gpa\")\n",
    "plt.ylabel(\"admit? yes=1, no=0\")\n",
    "plt.show()\n",
    "fig=plt.gcf()\n",
    "\n",
    "lr.summary()"
   ]
  },
  {
   "cell_type": "markdown",
   "metadata": {},
   "source": [
    "Ok, so the first thing to note is that the regression worked!  The reason is that OLS linear regression is happy to regress on any numbers you give it.  However there's a few troubling things.  First the regression plot doesn't look like the line is doing that great a job.  Remember with linear regression we often focus on the *residuals*, how far the predictions of the line are from the real data.  If we do this for this dataset it looks like this:"
   ]
  },
  {
   "cell_type": "code",
   "execution_count": 164,
   "metadata": {
    "tags": [
     "hide_input"
    ]
   },
   "outputs": [
    {
     "data": {
      "application/papermill.record/image/png": "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\n",
      "application/papermill.record/text/plain": "<Figure size 648x432 with 1 Axes>"
     },
     "metadata": {
      "scrapbook": {
       "mime_prefix": "application/papermill.record/",
       "name": "resid2_fig"
      }
     },
     "output_type": "display_data"
    },
    {
     "data": {
      "image/png": "[encoded data removed]",
      "text/plain": [
       "<Figure size 648x432 with 1 Axes>"
      ]
     },
     "metadata": {
      "needs_background": "light"
     },
     "output_type": "display_data"
    }
   ],
   "source": [
    "import statsmodels.formula.api as smf\n",
    "import seaborn as sns\n",
    "\n",
    "# fit a linear regression to the mpg column given hp\n",
    "#display(fit.summary())\n",
    "\n",
    "predict = lr.params['Intercept']+lr.params['gpa']*nyu_df.gpa\n",
    "resid = nyu_df.admit-predict\n",
    "fig, ax = plt.subplots(figsize=(9,6))\n",
    "\n",
    "x1 = np.linspace(nyu_df['gpa'].min(), nyu_df['gpa'].max(),400)\n",
    "y1 = lr.params['gpa']*x1+lr.params['Intercept']\n",
    "\n",
    "ax.plot(nyu_df.gpa, nyu_df.admit,'ko',markersize=4)\n",
    "ax.plot(nyu_df.gpa, nyu_df.admit-resid,'o',markersize=4,markeredgecolor='r', markeredgewidth=.4, markerfacecolor='white')\n",
    "\n",
    "ax.plot(x1,y1,'-',color='steelblue',linewidth=1)\n",
    "\n",
    "ax.vlines(nyu_df.gpa, nyu_df.admit, nyu_df.admit-resid,'r',linewidth=0.5)\n",
    "glue(\"resid2_fig\",fig,display=False)"
   ]
  },
  {
   "cell_type": "markdown",
   "metadata": {},
   "source": [
    "Which is kind of a sign of misspecified model (another way of saying using the wrong model/statistical technique).  The reason is that remember that one assumption of linear regression is *homogeneity of variance* which is the idea that the errors should be random and the same for all values of the input variable in simple linear regression.  If we plot the predicted values versus the residuals we should get a very well mixed cloud of points with no real patterns or correlation.  However, instead we get this weird striped pattern:"
   ]
  },
  {
   "cell_type": "code",
   "execution_count": 106,
   "metadata": {
    "tags": [
     "hide_input"
    ]
   },
   "outputs": [
    {
     "data": {
      "text/plain": [
       "<AxesSubplot:>"
      ]
     },
     "execution_count": 106,
     "metadata": {},
     "output_type": "execute_result"
    },
    {
     "data": {
      "image/png": "[encoded data removed]",
      "text/plain": [
       "<Figure size 432x288 with 1 Axes>"
      ]
     },
     "metadata": {
      "needs_background": "light"
     },
     "output_type": "display_data"
    }
   ],
   "source": [
    "sns.regplot(lr.fittedvalues, np.sqrt(lr.resid))"
   ]
  },
  {
   "cell_type": "markdown",
   "metadata": {},
   "source": [
    "which again looks like an error of some kind and violates on of the assumptions of the regression.\n",
    "\n",
    "Furthermore, the models makes weird predictions.  Let's take a great student who has 2.5 GPA.  What would the predicted admission decision be for this person?"
   ]
  },
  {
   "cell_type": "code",
   "execution_count": 72,
   "metadata": {},
   "outputs": [
    {
     "data": {
      "text/plain": [
       "0    0.602731\n",
       "dtype: float64"
      ]
     },
     "execution_count": 72,
     "metadata": {},
     "output_type": "execute_result"
    }
   ],
   "source": [
    "X_new = pd.DataFrame({'gpa': [2.5]})\n",
    "lr.predict(X_new)"
   ]
  },
  {
   "cell_type": "markdown",
   "metadata": {},
   "source": [
    "This is kind of hard to interpret.  Our model is saying if a person with a 2.5 GPA comes along our prediction about if they are admitted is 0.602.  Maybe that makes sense as a probability?  Like they have a probability of 0.6 to be admitted?  Ok but how about a student with a 4.0 GPA?"
   ]
  },
  {
   "cell_type": "code",
   "execution_count": 73,
   "metadata": {},
   "outputs": [
    {
     "data": {
      "text/plain": [
       "0    1.124653\n",
       "dtype: float64"
      ]
     },
     "execution_count": 73,
     "metadata": {},
     "output_type": "execute_result"
    }
   ],
   "source": [
    "X_new = pd.DataFrame({'gpa': [4.0]})\n",
    "lr.predict(X_new)"
   ]
  },
  {
   "cell_type": "markdown",
   "metadata": {},
   "source": [
    "The probability of being admitted is 1.124!  This isn't a probability even because probabilities stop a 1.0 (1.0 is \"certain\").  Although you might be saying p=1.12 is **extra** certain it can't work that way and still be a probability, sorry."
   ]
  },
  {
   "cell_type": "code",
   "execution_count": 74,
   "metadata": {},
   "outputs": [
    {
     "data": {
      "text/plain": [
       "0   -0.26714\n",
       "dtype: float64"
      ]
     },
     "execution_count": 74,
     "metadata": {},
     "output_type": "execute_result"
    }
   ],
   "source": [
    "X_new = pd.DataFrame({'gpa': [0.0]})\n",
    "lr.predict(X_new)"
   ]
  },
  {
   "cell_type": "markdown",
   "metadata": {},
   "source": [
    "To top things off a student with a 0.0 GPA would have a -0.267 probability of admission.  This also makes no sense because probabilities can be less than 0.0.  And even if they could a negative probability means maybe they *do* have a 25% chance to get into NYU?  It's all a big mess and encourages us to do very bad and unreasonable things with the math.  **We do not want to do this, so we cannot use linear regression for this data**.\n",
    "\n",
    "This is unfortunate because this kind of data is pretty common in psychology and many other areas of science as noted above.  So what can we do?"
   ]
  },
  {
   "cell_type": "markdown",
   "metadata": {},
   "source": [
    "## Regression with probabilities"
   ]
  },
  {
   "cell_type": "markdown",
   "metadata": {},
   "source": [
    "The last section kind of anticipated our solution... we really want to organize our thinking about this issue around probabilities.\n",
    "\n",
    "Often we are not interested in predicting exactly these dichotomous outcomes but instead the *probability* of one or another outcome where there is a natural tradeoff between the two outcomes.  For instance if you are admitted to NYU you can't also not be admitted to NYU so the probabilities of these events a inversely related to one other.  The higher the likelihood you are admitted, the less likely you are not admitted."
   ]
  },
  {
   "cell_type": "markdown",
   "metadata": {},
   "source": [
    "\n",
    "\n",
    "\n",
    "\n",
    "Remember the canonical formula we had for a simple linear regression looked something like this:\n",
    "\n",
    "$\n",
    "Y_i = b_1 X_i + b_0 + \\epsilon_i\n",
    "$\n",
    "\n",
    "where $\\epsilon_i$ is the random residuals.\n",
    "\n",
    "One might imagine, ok fine, let's let $Y_i$ just be the probability of some event (usually denoted $\\pi$) and so we have\n",
    "\n",
    "$\n",
    "\\pi_i = Y_i = b_1 X_i + b_0 + \\epsilon_i\n",
    "$\n",
    "\n",
    "However there are a couple of problems with this approach, which is one interpretation we tried to apply above.  We didn't like it because it makes weird predictions (probabilities less or greater than 1.0 or 0.0) and looks like a terrible OLS fit.\n",
    "\n",
    "More importantly we don't know how to compute the difference between the predicted outcome in our data because the data is unlikely to be probabilities but just a binary indicator of what happened.  To be clear, in our example,  we are interested if high school GPA is a good predictor of if people will be admitted to NYU.  What we observe in this case is values of the GPA ($X_i$ in the equation above) and also if the person is admitted (yes/no).  We do not know the *probability* that student 1 will be admitted, we only know that they did get admitted.  Thus if we tried to predict $\\pi_i$ from the GPA all we can say is that the person did graduate and there is no \"empirical\" probability we can measure the error to.  \n",
    "\n",
    "You might think we could make a guess about the probability by for instance binning the GPAs into ranges (e.g., 3.5-4.0) and counting the probability of admission in that bin compared to the (e.g., 2.5-3.0).  However, this abstracts away from the raw data and as a result loses some of the subtle variation in GPA scores that might be informative.  Logistic regression offers a clean way to do regression in this context.\n",
    "\n",
    "\n",
    "In addition to this practical reason (no obvious ground-truth probability for least-squares regression), there are a few mathematical reasons why linear regression is inappropriate in this situation.  The first is that in a standard linear equation like this the value of $Y_i$ and thus the value of $\\pi_i$ is not bounded between 0 and 1 (in fact it is unbounded such that the range of the predicted Y values can go from negative infinity to infinity).  As a result it is not a proper probability and thus mathematically wrong to do this.  Perhaps as a beginning student being mathematically wrong is not such a major concern for you but a key point is that choosing the \"right\" model for your data often pays off with cleaner and easier to interpret results.  The math is your friend here.  A second reason is that if we are truly predicting $\\pi_i$ we have to realize that it is a binomial random variable and the variance will be a function of the value of $\\pi$.  As you remember this is a violation of the assumptions of a traditional least-squares linear regression where we assume that there is equal variance across all values of the predictors.  \n",
    "\n",
    "Given these mathematical and conceptual limitations of linear regression, we need to take a slightly different approach."
   ]
  },
  {
   "cell_type": "markdown",
   "metadata": {},
   "source": [
    "## The Logit Model"
   ]
  },
  {
   "cell_type": "markdown",
   "metadata": {},
   "source": [
    "One way to model the relationship between a continuous predictor variable $X$ and a probability $\\pi$ is with the logistic response function.  A plot of this function appears in {numref}`fig:sigmoid`."
   ]
  },
  {
   "cell_type": "code",
   "execution_count": 107,
   "metadata": {
    "tags": [
     "hide_cell"
    ]
   },
   "outputs": [
    {
     "data": {
      "application/papermill.record/image/png": "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\n",
      "application/papermill.record/text/plain": "<Figure size 432x288 with 1 Axes>"
     },
     "metadata": {
      "scrapbook": {
       "mime_prefix": "application/papermill.record/",
       "name": "sigmoid_fig"
      }
     },
     "output_type": "display_data"
    },
    {
     "data": {
      "image/png": "[encoded data removed]",
      "text/plain": [
       "<Figure size 432x288 with 1 Axes>"
      ]
     },
     "metadata": {
      "needs_background": "light"
     },
     "output_type": "display_data"
    }
   ],
   "source": [
    "x=np.linspace(-10,10,200)\n",
    "y=np.exp(x)/(1.0+np.exp(x))\n",
    "plt.plot(x,y,'k--',linewidth=0.4)\n",
    "plt.xlabel(\"X\")\n",
    "plt.ylabel(\"$\\pi$\")\n",
    "fig=plt.gcf()\n",
    "glue(\"sigmoid_fig\",fig,display=False)"
   ]
  },
  {
   "cell_type": "markdown",
   "metadata": {},
   "source": [
    "```{glue:figure} sigmoid_fig\n",
    ":figwidth: 550px\n",
    ":name: \"fig:sigmoid\"\n",
    "\n",
    "Example of a logistic response function (also known as a sigmoid).\n",
    "```"
   ]
  },
  {
   "cell_type": "markdown",
   "metadata": {},
   "source": [
    "This is also know as a sigmoid or s-shaped curve.  Notice that the X value varies along a continuous range (here is plotted just between -10 and 10) but the y value ($\\pi$) is bounded between 0 and 1.0.  As X increases the predictor value $\\pi$ increases gradually up to one.  The sigmoid function is very important in many aspects of computational modeling exactly because of this bounded range.  One nice way to think about it is as a function that maps the real number line to a range bounded by 0 and 1.\n",
    "\n",
    "Let's play with it a little to make sure everyone understands, we will put \"in\" a x value and get a y value \"out\".\n",
    "\n",
    "If we put in a zero we get 0.5 for this particular sigmoid"
   ]
  },
  {
   "cell_type": "code",
   "execution_count": 81,
   "metadata": {},
   "outputs": [
    {
     "name": "stdout",
     "output_type": "stream",
     "text": [
      "x_in is 0 and y_out is 0.5\n"
     ]
    }
   ],
   "source": [
    "x_in=0\n",
    "y_out=np.exp(x_in)/(1.0+np.exp(x_in))\n",
    "print(f'x_in is {x_in} and y_out is {y_out}')"
   ]
  },
  {
   "cell_type": "markdown",
   "metadata": {},
   "source": [
    "If we put in a really big number like 100 we get a number that will eventually to 1.0 but will never exceed it.  If you open this notebook chapter yourself in Jupyter you can play with it but you'll never get a number bigger than 1.0."
   ]
  },
  {
   "cell_type": "code",
   "execution_count": 95,
   "metadata": {},
   "outputs": [
    {
     "name": "stdout",
     "output_type": "stream",
     "text": [
      "x_in is 50 and y_out is 1.000000000\n"
     ]
    }
   ],
   "source": [
    "x_in=50\n",
    "y_out=np.exp(x_in)/(1.0+np.exp(x_in))\n",
    "print(f'x_in is {x_in} and y_out is {y_out:.9f}')"
   ]
  },
  {
   "cell_type": "markdown",
   "metadata": {},
   "source": [
    "On the other side you'll also never get a number less than 0 even with a very negative input:"
   ]
  },
  {
   "cell_type": "code",
   "execution_count": 96,
   "metadata": {},
   "outputs": [
    {
     "name": "stdout",
     "output_type": "stream",
     "text": [
      "x_in is -100 and y_out is 0.000000000\n"
     ]
    }
   ],
   "source": [
    "x_in=-100\n",
    "y_out=np.exp(x_in)/(1.0+np.exp(x_in))\n",
    "print(f'x_in is {x_in} and y_out is {y_out:.9f}')"
   ]
  },
  {
   "cell_type": "markdown",
   "metadata": {},
   "source": [
    "So the logit function takes as input any number on the real number line and converts it to a number between 0.0 and 1.0 which would really be handy if you wanted to predict probabilities!"
   ]
  },
  {
   "cell_type": "markdown",
   "metadata": {},
   "source": [
    "We can use this to modify our regression equation:\n",
    "\n",
    "$\n",
    "\\pi = P(Y=1 | X=x_i) = \\frac{e^{b_1 x_i + b_0}}{1.0+e^{b_1 x_i + b_0}}\n",
    "$\n",
    "\n",
    "if you multiply the left hand size by a special version of the number 1, (i.e., $\\frac{e^{-(b_1 x_i + b_0)}}{e^{-(b_1 x_i + b_0)}}$) then you get \n",
    "\n",
    "$\n",
    "\\pi = P(Y=1 | X=x_i) = \\frac{e^{b_1 x_i + b_0}}{1.0+e^{b_1 x_i + b_0}} \\frac{e^{-(b_1 x_i + b_0)}}{e^{-(b_1 x_i + b_0)}}\n",
    "$\n",
    "\n",
    "$\n",
    "\\pi = P(Y=1 | X=x_i) = \\frac{1}{1.0+e^{-(b_1 x_i + b_0)}} \n",
    "$\n",
    "\n",
    "which is a slightly more common way to write a sigmoid function which I used above.\n",
    "\n",
    "\n",
    "You can extend this easily to the mulitple regression case just by including more regressors in the exponential term:\n",
    "\n",
    "$\n",
    "\\pi = P(Y=1 | X={x_n...x_1}) = \\frac{1}{1+e^{-(b_n x_n + ... + b_1 x_1 + b_0)}} \n",
    "$"
   ]
  },
  {
   "cell_type": "markdown",
   "metadata": {},
   "source": [
    "```{admonition} General Linear Models\n",
    "In general, we can think about what we are doing here as applying a simple _function_ to the output of our normal linear regression.   If $Y_i$ is our equation for the simple linear regression:\n",
    "\n",
    "$\n",
    "Y_i = b_1 X_i + b_0 + \\epsilon_i\n",
    "$\n",
    "\n",
    "we have\n",
    "\n",
    "$\n",
    "\\pi_i = f(Y_i)\n",
    "$\n",
    "\n",
    "where $f()$ is a function sometimes known as a _linking function_ because it links the linear regression equation to the type of data we are modeling (in this case probabilities which are numbers between zero and one).\n",
    "\n",
    "In the case of logistic regression the linking function, $f(x)$ is:\n",
    "\n",
    "$\n",
    "f(x) = \\frac{1}{1+e^{-x}} \n",
    "$\n",
    "\n",
    "which is the logistic function we just described.  There are several other linking functions that can be used depending on the type of data you are modeling.  For instance as we will encounter later, in fMRI data analysis it is common to combine linear regression with a special linking function called the _hemodynamic response function_ which models the biophysical response of the fMRI signal.  In general talking about regression with this output function $f(x)$ is known as the [generalized linear model](https://en.wikipedia.org/wiki/Generalized_linear_model).\n",
    "\n",
    "```"
   ]
  },
  {
   "cell_type": "markdown",
   "metadata": {},
   "source": [
    "## Log Odds"
   ]
  },
  {
   "cell_type": "markdown",
   "metadata": {},
   "source": [
    "In general the equation above is somewhat bad news.  The first is that this equation is **non-linear** in terms of the predictors $x_n$.   This means we fall well outside the scope of linear regression!  However, this function has a special form that can be linearized by the logit transformation.  "
   ]
  },
  {
   "cell_type": "markdown",
   "metadata": {},
   "source": [
    "```{hint}\n",
    "**Linearization** in this case simply means rearranging the equation with algebra to solve for a slightly different form of the equation which is linear in the parameters.\n",
    "```"
   ]
  },
  {
   "cell_type": "markdown",
   "metadata": {},
   "source": [
    "Instead of prediction $\\pi$ directly instead we predict $\\pi/(1-\\pi)$ which is the \"odds ratio\" of the predicted event happening compared to not happening (that is the $1-\\pi$ term).\n",
    "\n",
    "Since \n",
    "\n",
    "$\n",
    "\\pi = \\frac{1}{1+e^{-(b_n x_n + ... + b_1 x_i + b_0)}} \n",
    "$\n",
    "\n",
    "then\n",
    "\n",
    "$\n",
    "1-\\pi =  \\frac{1+e^{-(b_n x_n + ... + b_1 x_i + b_0)}}{1+e^{-(b_n x_n + ... + b_1 x_i + b_0)}} - \\frac{1}{1+e^{-(b_n x_n + ... + b_1 x_i + b_0)}} \n",
    "$\n",
    "\n",
    "$\n",
    "1-\\pi =  \\frac{e^{-(b_n x_n + ... + b_1 x_i + b_0)}}{1+e^{-(b_n x_n + ... + b_1 x_i + b_0)}}\n",
    "$\n",
    "\n",
    "and then\n",
    "$\n",
    "\\frac{\\pi}{1-\\pi} = e^{(b_n x_n + ... + b_1 x_i + b_0)}\n",
    "$\n",
    "\n",
    "(you can check the algebra yourself!)\n",
    "\n",
    "If we take the natural log of both sides we get\n",
    "\n",
    "$\n",
    "ln(\\frac{\\pi}{1-\\pi}) = b_0 + b_1 x_1 + ... + b_n x_n\n",
    "$\n",
    "\n",
    "Which is now a linear function of the parameters ($b_n$) and predictors ($x_n$).   The log odd ratio is known as the **logit**.  Interestingly, while $\\pi$ ranges between 0 and 1 (a proper probability) the logit ranges between negative infinity and positive infinity making it an appropriate target for linear regression methods (we've fixed at least one of the math problems!)."
   ]
  },
  {
   "cell_type": "markdown",
   "metadata": {},
   "source": [
    "Now, if your eyes are blurry from all this math yet, you might still be a little confused.  If you think back to what we did in our linear regression, our approach was to adjust the parameters of the equations (the $b_n$s) to minimize the sum of squared errors between the predicted and actual data for each data point.  Although the previous section got us to an equation which is linear in the parameter $b_n$ it is hard to imagine how we measure if this model predicts the data well.  One one hand we will have various yes/no values (i.e., yes the person with a 3.4 GPA graduated college) and this $ln(\\frac{\\pi}{1-\\pi})$ logit predictor.  How do we connect the two in the same way that we estimated the squared error in the linear regression case?\n",
    "\n",
    "The problem here is that the actual data in this case are, in log odds space, transformed to -inf and +inf.  The situation looks somewhat like this where we have our proposed \"best fit line\" and then when we try to compute the distance of each actual data point from the line we find that all points are infinite distance away in log odds space.  If we added them up, no matter what line we drew we would get the same sum of squared error so this approach will not work.\n",
    "\n",
    "<img src=\"images/logodd-problem.png\">\n",
    "\n",
    "\n"
   ]
  },
  {
   "cell_type": "markdown",
   "metadata": {},
   "source": [
    "Lets use Python as a calculator to check what the issue is.  So imagine a person did get into NYU.  Then their log odd of addmition should be $log(\\frac{1}{0}) = log(1)-log(0)$ but "
   ]
  },
  {
   "cell_type": "code",
   "execution_count": 115,
   "metadata": {},
   "outputs": [
    {
     "data": {
      "text/plain": [
       "inf"
      ]
     },
     "execution_count": 115,
     "metadata": {},
     "output_type": "execute_result"
    }
   ],
   "source": [
    "np.log(1)-np.log(0)"
   ]
  },
  {
   "cell_type": "markdown",
   "metadata": {},
   "source": [
    "So the log odds value of the data point here is +inf and the residual would then always be infinite. Same with the people who did not get into NYU who have $log(0/1) = log(0)$, but "
   ]
  },
  {
   "cell_type": "code",
   "execution_count": 116,
   "metadata": {},
   "outputs": [
    {
     "data": {
      "text/plain": [
       "-inf"
      ]
     },
     "execution_count": 116,
     "metadata": {},
     "output_type": "execute_result"
    }
   ],
   "source": [
    "np.log(0)"
   ]
  },
  {
   "cell_type": "markdown",
   "metadata": {},
   "source": [
    "This makes computing a typical \"square residual\" impossible in log odds space.  The solution takes advantage of the fact we are talking about probabilities.  In particular, logistic regression models are typically fit using the concept of maximum likelihood estimation (or MLE).  [Here](https://en.wikipedia.org/wiki/Maximum_likelihood_estimation) is a Wikipedia entry on this.  The mechanics of it actually aren't that complex and we might as well run through them with a concrete example."
   ]
  },
  {
   "cell_type": "markdown",
   "metadata": {},
   "source": [
    "## Maximum Likelihood Fitting"
   ]
  },
  {
   "cell_type": "markdown",
   "metadata": {},
   "source": [
    "Remember when we considered ordinary least squares regression (OLS) we came up with a way of \"scoring\" how well the line fits the data by summing up the squared residuals.  This gave us a \"number\" of how good a line we had found and then we searched around in the parameters to find the line which minimized the best fit.\n",
    "\n",
    "We are going to do a similar thing with the log odds regression but instead of computing residuals we will instead convert the predicted values of the regression line into probabilities and compute the \"likelihood\" of the data under those probabilities.  We'll walk through an example here to make it more clear."
   ]
  },
  {
   "cell_type": "markdown",
   "metadata": {},
   "source": [
    "Let's start by reloading the hypothetical dataset we considered from the start of the chapter on admissions into NYU."
   ]
  },
  {
   "cell_type": "code",
   "execution_count": 130,
   "metadata": {
    "tags": [
     "output_scroll"
    ]
   },
   "outputs": [
    {
     "data": {
      "text/html": [
       "<div>\n",
       "<style scoped>\n",
       "    .dataframe tbody tr th:only-of-type {\n",
       "        vertical-align: middle;\n",
       "    }\n",
       "\n",
       "    .dataframe tbody tr th {\n",
       "        vertical-align: top;\n",
       "    }\n",
       "\n",
       "    .dataframe thead th {\n",
       "        text-align: right;\n",
       "    }\n",
       "</style>\n",
       "<table border=\"1\" class=\"dataframe\">\n",
       "  <thead>\n",
       "    <tr style=\"text-align: right;\">\n",
       "      <th></th>\n",
       "      <th>student</th>\n",
       "      <th>gpa</th>\n",
       "      <th>admit</th>\n",
       "    </tr>\n",
       "  </thead>\n",
       "  <tbody>\n",
       "    <tr>\n",
       "      <th>0</th>\n",
       "      <td>0</td>\n",
       "      <td>3.085283</td>\n",
       "      <td>1</td>\n",
       "    </tr>\n",
       "    <tr>\n",
       "      <th>1</th>\n",
       "      <td>1</td>\n",
       "      <td>0.083008</td>\n",
       "      <td>0</td>\n",
       "    </tr>\n",
       "    <tr>\n",
       "      <th>2</th>\n",
       "      <td>2</td>\n",
       "      <td>2.534593</td>\n",
       "      <td>1</td>\n",
       "    </tr>\n",
       "    <tr>\n",
       "      <th>3</th>\n",
       "      <td>3</td>\n",
       "      <td>2.995216</td>\n",
       "      <td>1</td>\n",
       "    </tr>\n",
       "    <tr>\n",
       "      <th>4</th>\n",
       "      <td>4</td>\n",
       "      <td>1.994028</td>\n",
       "      <td>0</td>\n",
       "    </tr>\n",
       "    <tr>\n",
       "      <th>5</th>\n",
       "      <td>5</td>\n",
       "      <td>0.899187</td>\n",
       "      <td>0</td>\n",
       "    </tr>\n",
       "    <tr>\n",
       "      <th>6</th>\n",
       "      <td>6</td>\n",
       "      <td>0.792251</td>\n",
       "      <td>0</td>\n",
       "    </tr>\n",
       "    <tr>\n",
       "      <th>7</th>\n",
       "      <td>7</td>\n",
       "      <td>3.042123</td>\n",
       "      <td>1</td>\n",
       "    </tr>\n",
       "    <tr>\n",
       "      <th>8</th>\n",
       "      <td>8</td>\n",
       "      <td>0.676443</td>\n",
       "      <td>0</td>\n",
       "    </tr>\n",
       "    <tr>\n",
       "      <th>9</th>\n",
       "      <td>9</td>\n",
       "      <td>0.353359</td>\n",
       "      <td>0</td>\n",
       "    </tr>\n",
       "    <tr>\n",
       "      <th>10</th>\n",
       "      <td>10</td>\n",
       "      <td>2.741439</td>\n",
       "      <td>1</td>\n",
       "    </tr>\n",
       "    <tr>\n",
       "      <th>11</th>\n",
       "      <td>11</td>\n",
       "      <td>3.813573</td>\n",
       "      <td>1</td>\n",
       "    </tr>\n",
       "    <tr>\n",
       "      <th>12</th>\n",
       "      <td>12</td>\n",
       "      <td>0.015793</td>\n",
       "      <td>0</td>\n",
       "    </tr>\n",
       "    <tr>\n",
       "      <th>13</th>\n",
       "      <td>13</td>\n",
       "      <td>2.048769</td>\n",
       "      <td>0</td>\n",
       "    </tr>\n",
       "    <tr>\n",
       "      <th>14</th>\n",
       "      <td>14</td>\n",
       "      <td>3.250484</td>\n",
       "      <td>1</td>\n",
       "    </tr>\n",
       "    <tr>\n",
       "      <th>15</th>\n",
       "      <td>15</td>\n",
       "      <td>2.450104</td>\n",
       "      <td>0</td>\n",
       "    </tr>\n",
       "    <tr>\n",
       "      <th>16</th>\n",
       "      <td>16</td>\n",
       "      <td>2.887021</td>\n",
       "      <td>0</td>\n",
       "    </tr>\n",
       "    <tr>\n",
       "      <th>17</th>\n",
       "      <td>17</td>\n",
       "      <td>1.167504</td>\n",
       "      <td>0</td>\n",
       "    </tr>\n",
       "    <tr>\n",
       "      <th>18</th>\n",
       "      <td>18</td>\n",
       "      <td>3.671096</td>\n",
       "      <td>1</td>\n",
       "    </tr>\n",
       "    <tr>\n",
       "      <th>19</th>\n",
       "      <td>19</td>\n",
       "      <td>2.858303</td>\n",
       "      <td>1</td>\n",
       "    </tr>\n",
       "    <tr>\n",
       "      <th>20</th>\n",
       "      <td>20</td>\n",
       "      <td>2.170177</td>\n",
       "      <td>1</td>\n",
       "    </tr>\n",
       "    <tr>\n",
       "      <th>21</th>\n",
       "      <td>21</td>\n",
       "      <td>0.568680</td>\n",
       "      <td>0</td>\n",
       "    </tr>\n",
       "    <tr>\n",
       "      <th>22</th>\n",
       "      <td>22</td>\n",
       "      <td>1.493363</td>\n",
       "      <td>0</td>\n",
       "    </tr>\n",
       "    <tr>\n",
       "      <th>23</th>\n",
       "      <td>23</td>\n",
       "      <td>2.696534</td>\n",
       "      <td>1</td>\n",
       "    </tr>\n",
       "    <tr>\n",
       "      <th>24</th>\n",
       "      <td>24</td>\n",
       "      <td>1.767333</td>\n",
       "      <td>0</td>\n",
       "    </tr>\n",
       "    <tr>\n",
       "      <th>25</th>\n",
       "      <td>25</td>\n",
       "      <td>1.736056</td>\n",
       "      <td>0</td>\n",
       "    </tr>\n",
       "    <tr>\n",
       "      <th>26</th>\n",
       "      <td>26</td>\n",
       "      <td>2.471068</td>\n",
       "      <td>1</td>\n",
       "    </tr>\n",
       "    <tr>\n",
       "      <th>27</th>\n",
       "      <td>27</td>\n",
       "      <td>2.052553</td>\n",
       "      <td>0</td>\n",
       "    </tr>\n",
       "    <tr>\n",
       "      <th>28</th>\n",
       "      <td>28</td>\n",
       "      <td>2.601589</td>\n",
       "      <td>1</td>\n",
       "    </tr>\n",
       "    <tr>\n",
       "      <th>29</th>\n",
       "      <td>29</td>\n",
       "      <td>2.404156</td>\n",
       "      <td>0</td>\n",
       "    </tr>\n",
       "    <tr>\n",
       "      <th>30</th>\n",
       "      <td>30</td>\n",
       "      <td>3.220893</td>\n",
       "      <td>1</td>\n",
       "    </tr>\n",
       "    <tr>\n",
       "      <th>31</th>\n",
       "      <td>31</td>\n",
       "      <td>2.086589</td>\n",
       "      <td>0</td>\n",
       "    </tr>\n",
       "    <tr>\n",
       "      <th>32</th>\n",
       "      <td>32</td>\n",
       "      <td>3.634596</td>\n",
       "      <td>1</td>\n",
       "    </tr>\n",
       "    <tr>\n",
       "      <th>33</th>\n",
       "      <td>33</td>\n",
       "      <td>1.276944</td>\n",
       "      <td>0</td>\n",
       "    </tr>\n",
       "    <tr>\n",
       "      <th>34</th>\n",
       "      <td>34</td>\n",
       "      <td>0.361837</td>\n",
       "      <td>0</td>\n",
       "    </tr>\n",
       "    <tr>\n",
       "      <th>35</th>\n",
       "      <td>35</td>\n",
       "      <td>1.202800</td>\n",
       "      <td>0</td>\n",
       "    </tr>\n",
       "    <tr>\n",
       "      <th>36</th>\n",
       "      <td>36</td>\n",
       "      <td>0.455937</td>\n",
       "      <td>0</td>\n",
       "    </tr>\n",
       "    <tr>\n",
       "      <th>37</th>\n",
       "      <td>37</td>\n",
       "      <td>3.314725</td>\n",
       "      <td>1</td>\n",
       "    </tr>\n",
       "    <tr>\n",
       "      <th>38</th>\n",
       "      <td>38</td>\n",
       "      <td>0.187585</td>\n",
       "      <td>0</td>\n",
       "    </tr>\n",
       "    <tr>\n",
       "      <th>39</th>\n",
       "      <td>39</td>\n",
       "      <td>2.505149</td>\n",
       "      <td>1</td>\n",
       "    </tr>\n",
       "  </tbody>\n",
       "</table>\n",
       "</div>"
      ],
      "text/plain": [
       "    student       gpa  admit\n",
       "0         0  3.085283      1\n",
       "1         1  0.083008      0\n",
       "2         2  2.534593      1\n",
       "3         3  2.995216      1\n",
       "4         4  1.994028      0\n",
       "5         5  0.899187      0\n",
       "6         6  0.792251      0\n",
       "7         7  3.042123      1\n",
       "8         8  0.676443      0\n",
       "9         9  0.353359      0\n",
       "10       10  2.741439      1\n",
       "11       11  3.813573      1\n",
       "12       12  0.015793      0\n",
       "13       13  2.048769      0\n",
       "14       14  3.250484      1\n",
       "15       15  2.450104      0\n",
       "16       16  2.887021      0\n",
       "17       17  1.167504      0\n",
       "18       18  3.671096      1\n",
       "19       19  2.858303      1\n",
       "20       20  2.170177      1\n",
       "21       21  0.568680      0\n",
       "22       22  1.493363      0\n",
       "23       23  2.696534      1\n",
       "24       24  1.767333      0\n",
       "25       25  1.736056      0\n",
       "26       26  2.471068      1\n",
       "27       27  2.052553      0\n",
       "28       28  2.601589      1\n",
       "29       29  2.404156      0\n",
       "30       30  3.220893      1\n",
       "31       31  2.086589      0\n",
       "32       32  3.634596      1\n",
       "33       33  1.276944      0\n",
       "34       34  0.361837      0\n",
       "35       35  1.202800      0\n",
       "36       36  0.455937      0\n",
       "37       37  3.314725      1\n",
       "38       38  0.187585      0\n",
       "39       39  2.505149      1"
      ]
     },
     "execution_count": 130,
     "metadata": {},
     "output_type": "execute_result"
    }
   ],
   "source": [
    "nyu_df = pd.read_csv('nyu_admission_fake.csv')\n",
    "nyu_df"
   ]
  },
  {
   "cell_type": "markdown",
   "metadata": {},
   "source": [
    "Now lets plot the admission decision as a function of high school GPA:"
   ]
  },
  {
   "cell_type": "code",
   "execution_count": 133,
   "metadata": {},
   "outputs": [
    {
     "data": {
      "image/png": "[encoded data removed]",
      "text/plain": [
       "<Figure size 432x288 with 1 Axes>"
      ]
     },
     "metadata": {
      "needs_background": "light"
     },
     "output_type": "display_data"
    }
   ],
   "source": [
    "sns.scatterplot(x='gpa',y='admit',hue='admit',data=nyu_df)\n",
    "plt.show()"
   ]
  },
  {
   "cell_type": "markdown",
   "metadata": {},
   "source": [
    "As expected that data on the y-axis fall into a dichtomous variable, but generally it looks like a higher GPA makes it more likely you are admitted.\n",
    "\n",
    "As mentioned before we actually will be fitting the line not in the space of $p(admitted)$ but in the *log odds* of being admitted (i.e., $log(p/1-p)$)."
   ]
  },
  {
   "cell_type": "markdown",
   "metadata": {},
   "source": [
    "To begin with let's propose a particular linear regression line in the log-odds space.  To do this we need to chose values of the slope and intercept for the line.  For now lets just throw out a first pass of setting the slope to 2.0 and the intercept to -3.  Just like how when we started with linear regression we said we could try particular values of the parameters of the line and kind of \"wiggle\" them around to find a proper setting.\n",
    "\n",
    "So here is our line plotted in log-odds space:"
   ]
  },
  {
   "cell_type": "code",
   "execution_count": 165,
   "metadata": {},
   "outputs": [
    {
     "data": {
      "image/png": "[encoded data removed]",
      "text/plain": [
       "<Figure size 432x288 with 1 Axes>"
      ]
     },
     "metadata": {
      "needs_background": "light"
     },
     "output_type": "display_data"
    }
   ],
   "source": [
    "x = np.linspace(0,4.0,200)\n",
    "y = 2.0*x-3\n",
    "plt.plot(x,y,'b-')\n",
    "plt.xlabel('high school gpa')\n",
    "plt.ylabel('log odds of admissions')\n",
    "plt.show()"
   ]
  },
  {
   "cell_type": "markdown",
   "metadata": {},
   "source": [
    "Rather than compute the residuals (as above we said those were all infinite).  Instead what we do is project the data onto our log odds line to compute the predicted log odds of admissions for each data point under our current linear regression model.  Then we transform this back into probability space as shown in the following figure:"
   ]
  },
  {
   "cell_type": "markdown",
   "metadata": {
    "tags": [
     "full_width"
    ]
   },
   "source": [
    "<img src=\"images/logodd-transform.png\">"
   ]
  },
  {
   "cell_type": "markdown",
   "metadata": {},
   "source": [
    "The panel on the right show a proposed line in our log odds space.  This function is used to get a predicted log odds value for each data point (only four are shown here through the linear projection).  Then the log odds value is converted into a probability using the equation shown \n",
    "\n",
    "$\n",
    "p = \\frac{e^{log(odds)}}{1+e^{log(odds)}}\n",
    "$\n",
    "\n",
    "which is basically just an inversion of the logic we used above to get the log odds in the first place.  We can then plot this in the original probability space (left panel) and it has this nice sigmoid shape which looks like a roughly nice fit to the data at least to start.\n",
    "\n",
    "\n",
    "The reason it looks nice is that it assigned higher probability to admissions when the GPA is higher.  Of course it misses a few cases for example the person with the extremely low GPA who still was admitted and the few cases of a very high GPA where people still were not admitted."
   ]
  },
  {
   "cell_type": "markdown",
   "metadata": {},
   "source": [
    "```{admonition} Inverting the log odds\n",
    "For those that want more proof about the equation for converting log odds into probabilities...\n",
    "\n",
    "We started with defining log odds as:\n",
    "$\n",
    "log(\\frac{\\pi}{1-\\pi}) = log(odds)\n",
    "$\n",
    "\n",
    "first exponentiate both sides\n",
    "$\n",
    "\\frac{\\pi}{1-\\pi} = e^{log(odds)}\n",
    "$\n",
    "\n",
    "then multiply both sides by $(1-\\pi)$:\n",
    "$\n",
    "\\pi = (1-\\pi)*e^{log(odds)}\n",
    "$\n",
    "\n",
    "then distribute the $e^{log(odds)}$:\n",
    "$\n",
    "\\pi = (e^{log(odds)}-\\pi*e^{log(odds)})\n",
    "$\n",
    "\n",
    "move one term to the other side:\n",
    "$\n",
    "\\pi + \\pi*e^{log(odds)} = e^{log(odds)}\n",
    "$\n",
    "\n",
    "pull the $\\pi$ out:\n",
    "    \n",
    "$\n",
    "\\pi * (1 + e^{log(odds)}) = e^{log(odds)}\n",
    "$\n",
    "\n",
    "then divide both sides:\n",
    "$\n",
    "\\pi = \\frac{e^{log(odds)}}{(1 + e^{log(odds)})}\n",
    "$\n",
    "```"
   ]
  },
  {
   "cell_type": "markdown",
   "metadata": {},
   "source": [
    "Let's try this with python.  So our linear equation is $y = 2.0*x-3$ in log odds space.  So we can use this to get a predicted log odd for each student.  We will add this as a new column to our dataframe:"
   ]
  },
  {
   "cell_type": "code",
   "execution_count": 142,
   "metadata": {
    "tags": [
     "output_scroll"
    ]
   },
   "outputs": [
    {
     "data": {
      "text/html": [
       "<div>\n",
       "<style scoped>\n",
       "    .dataframe tbody tr th:only-of-type {\n",
       "        vertical-align: middle;\n",
       "    }\n",
       "\n",
       "    .dataframe tbody tr th {\n",
       "        vertical-align: top;\n",
       "    }\n",
       "\n",
       "    .dataframe thead th {\n",
       "        text-align: right;\n",
       "    }\n",
       "</style>\n",
       "<table border=\"1\" class=\"dataframe\">\n",
       "  <thead>\n",
       "    <tr style=\"text-align: right;\">\n",
       "      <th></th>\n",
       "      <th>student</th>\n",
       "      <th>gpa</th>\n",
       "      <th>admit</th>\n",
       "      <th>log_odds</th>\n",
       "    </tr>\n",
       "  </thead>\n",
       "  <tbody>\n",
       "    <tr>\n",
       "      <th>0</th>\n",
       "      <td>0</td>\n",
       "      <td>3.085283</td>\n",
       "      <td>1</td>\n",
       "      <td>3.170565</td>\n",
       "    </tr>\n",
       "    <tr>\n",
       "      <th>1</th>\n",
       "      <td>1</td>\n",
       "      <td>0.083008</td>\n",
       "      <td>0</td>\n",
       "      <td>-2.833984</td>\n",
       "    </tr>\n",
       "    <tr>\n",
       "      <th>2</th>\n",
       "      <td>2</td>\n",
       "      <td>2.534593</td>\n",
       "      <td>1</td>\n",
       "      <td>2.069186</td>\n",
       "    </tr>\n",
       "    <tr>\n",
       "      <th>3</th>\n",
       "      <td>3</td>\n",
       "      <td>2.995216</td>\n",
       "      <td>1</td>\n",
       "      <td>2.990431</td>\n",
       "    </tr>\n",
       "    <tr>\n",
       "      <th>4</th>\n",
       "      <td>4</td>\n",
       "      <td>1.994028</td>\n",
       "      <td>0</td>\n",
       "      <td>0.988056</td>\n",
       "    </tr>\n",
       "    <tr>\n",
       "      <th>5</th>\n",
       "      <td>5</td>\n",
       "      <td>0.899187</td>\n",
       "      <td>0</td>\n",
       "      <td>-1.201627</td>\n",
       "    </tr>\n",
       "    <tr>\n",
       "      <th>6</th>\n",
       "      <td>6</td>\n",
       "      <td>0.792251</td>\n",
       "      <td>0</td>\n",
       "      <td>-1.415497</td>\n",
       "    </tr>\n",
       "    <tr>\n",
       "      <th>7</th>\n",
       "      <td>7</td>\n",
       "      <td>3.042123</td>\n",
       "      <td>1</td>\n",
       "      <td>3.084246</td>\n",
       "    </tr>\n",
       "    <tr>\n",
       "      <th>8</th>\n",
       "      <td>8</td>\n",
       "      <td>0.676443</td>\n",
       "      <td>0</td>\n",
       "      <td>-1.647113</td>\n",
       "    </tr>\n",
       "    <tr>\n",
       "      <th>9</th>\n",
       "      <td>9</td>\n",
       "      <td>0.353359</td>\n",
       "      <td>0</td>\n",
       "      <td>-2.293281</td>\n",
       "    </tr>\n",
       "    <tr>\n",
       "      <th>10</th>\n",
       "      <td>10</td>\n",
       "      <td>2.741439</td>\n",
       "      <td>1</td>\n",
       "      <td>2.482879</td>\n",
       "    </tr>\n",
       "    <tr>\n",
       "      <th>11</th>\n",
       "      <td>11</td>\n",
       "      <td>3.813573</td>\n",
       "      <td>1</td>\n",
       "      <td>4.627147</td>\n",
       "    </tr>\n",
       "    <tr>\n",
       "      <th>12</th>\n",
       "      <td>12</td>\n",
       "      <td>0.015793</td>\n",
       "      <td>0</td>\n",
       "      <td>-2.968414</td>\n",
       "    </tr>\n",
       "    <tr>\n",
       "      <th>13</th>\n",
       "      <td>13</td>\n",
       "      <td>2.048769</td>\n",
       "      <td>0</td>\n",
       "      <td>1.097538</td>\n",
       "    </tr>\n",
       "    <tr>\n",
       "      <th>14</th>\n",
       "      <td>14</td>\n",
       "      <td>3.250484</td>\n",
       "      <td>1</td>\n",
       "      <td>3.500968</td>\n",
       "    </tr>\n",
       "    <tr>\n",
       "      <th>15</th>\n",
       "      <td>15</td>\n",
       "      <td>2.450104</td>\n",
       "      <td>0</td>\n",
       "      <td>1.900209</td>\n",
       "    </tr>\n",
       "    <tr>\n",
       "      <th>16</th>\n",
       "      <td>16</td>\n",
       "      <td>2.887021</td>\n",
       "      <td>0</td>\n",
       "      <td>2.774043</td>\n",
       "    </tr>\n",
       "    <tr>\n",
       "      <th>17</th>\n",
       "      <td>17</td>\n",
       "      <td>1.167504</td>\n",
       "      <td>0</td>\n",
       "      <td>-0.664991</td>\n",
       "    </tr>\n",
       "    <tr>\n",
       "      <th>18</th>\n",
       "      <td>18</td>\n",
       "      <td>3.671096</td>\n",
       "      <td>1</td>\n",
       "      <td>4.342193</td>\n",
       "    </tr>\n",
       "    <tr>\n",
       "      <th>19</th>\n",
       "      <td>19</td>\n",
       "      <td>2.858303</td>\n",
       "      <td>1</td>\n",
       "      <td>2.716606</td>\n",
       "    </tr>\n",
       "    <tr>\n",
       "      <th>20</th>\n",
       "      <td>20</td>\n",
       "      <td>2.170177</td>\n",
       "      <td>1</td>\n",
       "      <td>1.340355</td>\n",
       "    </tr>\n",
       "    <tr>\n",
       "      <th>21</th>\n",
       "      <td>21</td>\n",
       "      <td>0.568680</td>\n",
       "      <td>0</td>\n",
       "      <td>-1.862640</td>\n",
       "    </tr>\n",
       "    <tr>\n",
       "      <th>22</th>\n",
       "      <td>22</td>\n",
       "      <td>1.493363</td>\n",
       "      <td>0</td>\n",
       "      <td>-0.013274</td>\n",
       "    </tr>\n",
       "    <tr>\n",
       "      <th>23</th>\n",
       "      <td>23</td>\n",
       "      <td>2.696534</td>\n",
       "      <td>1</td>\n",
       "      <td>2.393069</td>\n",
       "    </tr>\n",
       "    <tr>\n",
       "      <th>24</th>\n",
       "      <td>24</td>\n",
       "      <td>1.767333</td>\n",
       "      <td>0</td>\n",
       "      <td>0.534665</td>\n",
       "    </tr>\n",
       "    <tr>\n",
       "      <th>25</th>\n",
       "      <td>25</td>\n",
       "      <td>1.736056</td>\n",
       "      <td>0</td>\n",
       "      <td>0.472112</td>\n",
       "    </tr>\n",
       "    <tr>\n",
       "      <th>26</th>\n",
       "      <td>26</td>\n",
       "      <td>2.471068</td>\n",
       "      <td>1</td>\n",
       "      <td>1.942136</td>\n",
       "    </tr>\n",
       "    <tr>\n",
       "      <th>27</th>\n",
       "      <td>27</td>\n",
       "      <td>2.052553</td>\n",
       "      <td>0</td>\n",
       "      <td>1.105106</td>\n",
       "    </tr>\n",
       "    <tr>\n",
       "      <th>28</th>\n",
       "      <td>28</td>\n",
       "      <td>2.601589</td>\n",
       "      <td>1</td>\n",
       "      <td>2.203177</td>\n",
       "    </tr>\n",
       "    <tr>\n",
       "      <th>29</th>\n",
       "      <td>29</td>\n",
       "      <td>2.404156</td>\n",
       "      <td>0</td>\n",
       "      <td>1.808312</td>\n",
       "    </tr>\n",
       "    <tr>\n",
       "      <th>30</th>\n",
       "      <td>30</td>\n",
       "      <td>3.220893</td>\n",
       "      <td>1</td>\n",
       "      <td>3.441786</td>\n",
       "    </tr>\n",
       "    <tr>\n",
       "      <th>31</th>\n",
       "      <td>31</td>\n",
       "      <td>2.086589</td>\n",
       "      <td>0</td>\n",
       "      <td>1.173177</td>\n",
       "    </tr>\n",
       "    <tr>\n",
       "      <th>32</th>\n",
       "      <td>32</td>\n",
       "      <td>3.634596</td>\n",
       "      <td>1</td>\n",
       "      <td>4.269191</td>\n",
       "    </tr>\n",
       "    <tr>\n",
       "      <th>33</th>\n",
       "      <td>33</td>\n",
       "      <td>1.276944</td>\n",
       "      <td>0</td>\n",
       "      <td>-0.446111</td>\n",
       "    </tr>\n",
       "    <tr>\n",
       "      <th>34</th>\n",
       "      <td>34</td>\n",
       "      <td>0.361837</td>\n",
       "      <td>0</td>\n",
       "      <td>-2.276325</td>\n",
       "    </tr>\n",
       "    <tr>\n",
       "      <th>35</th>\n",
       "      <td>35</td>\n",
       "      <td>1.202800</td>\n",
       "      <td>0</td>\n",
       "      <td>-0.594400</td>\n",
       "    </tr>\n",
       "    <tr>\n",
       "      <th>36</th>\n",
       "      <td>36</td>\n",
       "      <td>0.455937</td>\n",
       "      <td>0</td>\n",
       "      <td>-2.088125</td>\n",
       "    </tr>\n",
       "    <tr>\n",
       "      <th>37</th>\n",
       "      <td>37</td>\n",
       "      <td>3.314725</td>\n",
       "      <td>1</td>\n",
       "      <td>3.629451</td>\n",
       "    </tr>\n",
       "    <tr>\n",
       "      <th>38</th>\n",
       "      <td>38</td>\n",
       "      <td>0.187585</td>\n",
       "      <td>0</td>\n",
       "      <td>-2.624829</td>\n",
       "    </tr>\n",
       "    <tr>\n",
       "      <th>39</th>\n",
       "      <td>39</td>\n",
       "      <td>2.505149</td>\n",
       "      <td>1</td>\n",
       "      <td>2.010297</td>\n",
       "    </tr>\n",
       "  </tbody>\n",
       "</table>\n",
       "</div>"
      ],
      "text/plain": [
       "    student       gpa  admit  log_odds\n",
       "0         0  3.085283      1  3.170565\n",
       "1         1  0.083008      0 -2.833984\n",
       "2         2  2.534593      1  2.069186\n",
       "3         3  2.995216      1  2.990431\n",
       "4         4  1.994028      0  0.988056\n",
       "5         5  0.899187      0 -1.201627\n",
       "6         6  0.792251      0 -1.415497\n",
       "7         7  3.042123      1  3.084246\n",
       "8         8  0.676443      0 -1.647113\n",
       "9         9  0.353359      0 -2.293281\n",
       "10       10  2.741439      1  2.482879\n",
       "11       11  3.813573      1  4.627147\n",
       "12       12  0.015793      0 -2.968414\n",
       "13       13  2.048769      0  1.097538\n",
       "14       14  3.250484      1  3.500968\n",
       "15       15  2.450104      0  1.900209\n",
       "16       16  2.887021      0  2.774043\n",
       "17       17  1.167504      0 -0.664991\n",
       "18       18  3.671096      1  4.342193\n",
       "19       19  2.858303      1  2.716606\n",
       "20       20  2.170177      1  1.340355\n",
       "21       21  0.568680      0 -1.862640\n",
       "22       22  1.493363      0 -0.013274\n",
       "23       23  2.696534      1  2.393069\n",
       "24       24  1.767333      0  0.534665\n",
       "25       25  1.736056      0  0.472112\n",
       "26       26  2.471068      1  1.942136\n",
       "27       27  2.052553      0  1.105106\n",
       "28       28  2.601589      1  2.203177\n",
       "29       29  2.404156      0  1.808312\n",
       "30       30  3.220893      1  3.441786\n",
       "31       31  2.086589      0  1.173177\n",
       "32       32  3.634596      1  4.269191\n",
       "33       33  1.276944      0 -0.446111\n",
       "34       34  0.361837      0 -2.276325\n",
       "35       35  1.202800      0 -0.594400\n",
       "36       36  0.455937      0 -2.088125\n",
       "37       37  3.314725      1  3.629451\n",
       "38       38  0.187585      0 -2.624829\n",
       "39       39  2.505149      1  2.010297"
      ]
     },
     "execution_count": 142,
     "metadata": {},
     "output_type": "execute_result"
    }
   ],
   "source": [
    "nyu_df['log_odds']=2.0*nyu_df['gpa']-3\n",
    "nyu_df"
   ]
  },
  {
   "cell_type": "markdown",
   "metadata": {},
   "source": [
    "Next we want to convert the log-odds into a probability using the equation we just described.  Let's make a new column for \"predicted probability\":"
   ]
  },
  {
   "cell_type": "code",
   "execution_count": 144,
   "metadata": {
    "tags": [
     "output_scroll"
    ]
   },
   "outputs": [
    {
     "data": {
      "text/html": [
       "<div>\n",
       "<style scoped>\n",
       "    .dataframe tbody tr th:only-of-type {\n",
       "        vertical-align: middle;\n",
       "    }\n",
       "\n",
       "    .dataframe tbody tr th {\n",
       "        vertical-align: top;\n",
       "    }\n",
       "\n",
       "    .dataframe thead th {\n",
       "        text-align: right;\n",
       "    }\n",
       "</style>\n",
       "<table border=\"1\" class=\"dataframe\">\n",
       "  <thead>\n",
       "    <tr style=\"text-align: right;\">\n",
       "      <th></th>\n",
       "      <th>student</th>\n",
       "      <th>gpa</th>\n",
       "      <th>admit</th>\n",
       "      <th>log_odds</th>\n",
       "      <th>pred_p</th>\n",
       "    </tr>\n",
       "  </thead>\n",
       "  <tbody>\n",
       "    <tr>\n",
       "      <th>0</th>\n",
       "      <td>0</td>\n",
       "      <td>3.085283</td>\n",
       "      <td>1</td>\n",
       "      <td>3.170565</td>\n",
       "      <td>0.959711</td>\n",
       "    </tr>\n",
       "    <tr>\n",
       "      <th>1</th>\n",
       "      <td>1</td>\n",
       "      <td>0.083008</td>\n",
       "      <td>0</td>\n",
       "      <td>-2.833984</td>\n",
       "      <td>0.055515</td>\n",
       "    </tr>\n",
       "    <tr>\n",
       "      <th>2</th>\n",
       "      <td>2</td>\n",
       "      <td>2.534593</td>\n",
       "      <td>1</td>\n",
       "      <td>2.069186</td>\n",
       "      <td>0.887872</td>\n",
       "    </tr>\n",
       "    <tr>\n",
       "      <th>3</th>\n",
       "      <td>3</td>\n",
       "      <td>2.995216</td>\n",
       "      <td>1</td>\n",
       "      <td>2.990431</td>\n",
       "      <td>0.952140</td>\n",
       "    </tr>\n",
       "    <tr>\n",
       "      <th>4</th>\n",
       "      <td>4</td>\n",
       "      <td>1.994028</td>\n",
       "      <td>0</td>\n",
       "      <td>0.988056</td>\n",
       "      <td>0.728704</td>\n",
       "    </tr>\n",
       "    <tr>\n",
       "      <th>5</th>\n",
       "      <td>5</td>\n",
       "      <td>0.899187</td>\n",
       "      <td>0</td>\n",
       "      <td>-1.201627</td>\n",
       "      <td>0.231186</td>\n",
       "    </tr>\n",
       "    <tr>\n",
       "      <th>6</th>\n",
       "      <td>6</td>\n",
       "      <td>0.792251</td>\n",
       "      <td>0</td>\n",
       "      <td>-1.415497</td>\n",
       "      <td>0.195368</td>\n",
       "    </tr>\n",
       "    <tr>\n",
       "      <th>7</th>\n",
       "      <td>7</td>\n",
       "      <td>3.042123</td>\n",
       "      <td>1</td>\n",
       "      <td>3.084246</td>\n",
       "      <td>0.956238</td>\n",
       "    </tr>\n",
       "    <tr>\n",
       "      <th>8</th>\n",
       "      <td>8</td>\n",
       "      <td>0.676443</td>\n",
       "      <td>0</td>\n",
       "      <td>-1.647113</td>\n",
       "      <td>0.161499</td>\n",
       "    </tr>\n",
       "    <tr>\n",
       "      <th>9</th>\n",
       "      <td>9</td>\n",
       "      <td>0.353359</td>\n",
       "      <td>0</td>\n",
       "      <td>-2.293281</td>\n",
       "      <td>0.091681</td>\n",
       "    </tr>\n",
       "    <tr>\n",
       "      <th>10</th>\n",
       "      <td>10</td>\n",
       "      <td>2.741439</td>\n",
       "      <td>1</td>\n",
       "      <td>2.482879</td>\n",
       "      <td>0.922933</td>\n",
       "    </tr>\n",
       "    <tr>\n",
       "      <th>11</th>\n",
       "      <td>11</td>\n",
       "      <td>3.813573</td>\n",
       "      <td>1</td>\n",
       "      <td>4.627147</td>\n",
       "      <td>0.990312</td>\n",
       "    </tr>\n",
       "    <tr>\n",
       "      <th>12</th>\n",
       "      <td>12</td>\n",
       "      <td>0.015793</td>\n",
       "      <td>0</td>\n",
       "      <td>-2.968414</td>\n",
       "      <td>0.048873</td>\n",
       "    </tr>\n",
       "    <tr>\n",
       "      <th>13</th>\n",
       "      <td>13</td>\n",
       "      <td>2.048769</td>\n",
       "      <td>0</td>\n",
       "      <td>1.097538</td>\n",
       "      <td>0.749799</td>\n",
       "    </tr>\n",
       "    <tr>\n",
       "      <th>14</th>\n",
       "      <td>14</td>\n",
       "      <td>3.250484</td>\n",
       "      <td>1</td>\n",
       "      <td>3.500968</td>\n",
       "      <td>0.970715</td>\n",
       "    </tr>\n",
       "    <tr>\n",
       "      <th>15</th>\n",
       "      <td>15</td>\n",
       "      <td>2.450104</td>\n",
       "      <td>0</td>\n",
       "      <td>1.900209</td>\n",
       "      <td>0.869915</td>\n",
       "    </tr>\n",
       "    <tr>\n",
       "      <th>16</th>\n",
       "      <td>16</td>\n",
       "      <td>2.887021</td>\n",
       "      <td>0</td>\n",
       "      <td>2.774043</td>\n",
       "      <td>0.941257</td>\n",
       "    </tr>\n",
       "    <tr>\n",
       "      <th>17</th>\n",
       "      <td>17</td>\n",
       "      <td>1.167504</td>\n",
       "      <td>0</td>\n",
       "      <td>-0.664991</td>\n",
       "      <td>0.339619</td>\n",
       "    </tr>\n",
       "    <tr>\n",
       "      <th>18</th>\n",
       "      <td>18</td>\n",
       "      <td>3.671096</td>\n",
       "      <td>1</td>\n",
       "      <td>4.342193</td>\n",
       "      <td>0.987159</td>\n",
       "    </tr>\n",
       "    <tr>\n",
       "      <th>19</th>\n",
       "      <td>19</td>\n",
       "      <td>2.858303</td>\n",
       "      <td>1</td>\n",
       "      <td>2.716606</td>\n",
       "      <td>0.937999</td>\n",
       "    </tr>\n",
       "    <tr>\n",
       "      <th>20</th>\n",
       "      <td>20</td>\n",
       "      <td>2.170177</td>\n",
       "      <td>1</td>\n",
       "      <td>1.340355</td>\n",
       "      <td>0.792548</td>\n",
       "    </tr>\n",
       "    <tr>\n",
       "      <th>21</th>\n",
       "      <td>21</td>\n",
       "      <td>0.568680</td>\n",
       "      <td>0</td>\n",
       "      <td>-1.862640</td>\n",
       "      <td>0.134396</td>\n",
       "    </tr>\n",
       "    <tr>\n",
       "      <th>22</th>\n",
       "      <td>22</td>\n",
       "      <td>1.493363</td>\n",
       "      <td>0</td>\n",
       "      <td>-0.013274</td>\n",
       "      <td>0.496682</td>\n",
       "    </tr>\n",
       "    <tr>\n",
       "      <th>23</th>\n",
       "      <td>23</td>\n",
       "      <td>2.696534</td>\n",
       "      <td>1</td>\n",
       "      <td>2.393069</td>\n",
       "      <td>0.916297</td>\n",
       "    </tr>\n",
       "    <tr>\n",
       "      <th>24</th>\n",
       "      <td>24</td>\n",
       "      <td>1.767333</td>\n",
       "      <td>0</td>\n",
       "      <td>0.534665</td>\n",
       "      <td>0.630571</td>\n",
       "    </tr>\n",
       "    <tr>\n",
       "      <th>25</th>\n",
       "      <td>25</td>\n",
       "      <td>1.736056</td>\n",
       "      <td>0</td>\n",
       "      <td>0.472112</td>\n",
       "      <td>0.615884</td>\n",
       "    </tr>\n",
       "    <tr>\n",
       "      <th>26</th>\n",
       "      <td>26</td>\n",
       "      <td>2.471068</td>\n",
       "      <td>1</td>\n",
       "      <td>1.942136</td>\n",
       "      <td>0.874587</td>\n",
       "    </tr>\n",
       "    <tr>\n",
       "      <th>27</th>\n",
       "      <td>27</td>\n",
       "      <td>2.052553</td>\n",
       "      <td>0</td>\n",
       "      <td>1.105106</td>\n",
       "      <td>0.751216</td>\n",
       "    </tr>\n",
       "    <tr>\n",
       "      <th>28</th>\n",
       "      <td>28</td>\n",
       "      <td>2.601589</td>\n",
       "      <td>1</td>\n",
       "      <td>2.203177</td>\n",
       "      <td>0.900534</td>\n",
       "    </tr>\n",
       "    <tr>\n",
       "      <th>29</th>\n",
       "      <td>29</td>\n",
       "      <td>2.404156</td>\n",
       "      <td>0</td>\n",
       "      <td>1.808312</td>\n",
       "      <td>0.859158</td>\n",
       "    </tr>\n",
       "    <tr>\n",
       "      <th>30</th>\n",
       "      <td>30</td>\n",
       "      <td>3.220893</td>\n",
       "      <td>1</td>\n",
       "      <td>3.441786</td>\n",
       "      <td>0.968985</td>\n",
       "    </tr>\n",
       "    <tr>\n",
       "      <th>31</th>\n",
       "      <td>31</td>\n",
       "      <td>2.086589</td>\n",
       "      <td>0</td>\n",
       "      <td>1.173177</td>\n",
       "      <td>0.763719</td>\n",
       "    </tr>\n",
       "    <tr>\n",
       "      <th>32</th>\n",
       "      <td>32</td>\n",
       "      <td>3.634596</td>\n",
       "      <td>1</td>\n",
       "      <td>4.269191</td>\n",
       "      <td>0.986200</td>\n",
       "    </tr>\n",
       "    <tr>\n",
       "      <th>33</th>\n",
       "      <td>33</td>\n",
       "      <td>1.276944</td>\n",
       "      <td>0</td>\n",
       "      <td>-0.446111</td>\n",
       "      <td>0.390286</td>\n",
       "    </tr>\n",
       "    <tr>\n",
       "      <th>34</th>\n",
       "      <td>34</td>\n",
       "      <td>0.361837</td>\n",
       "      <td>0</td>\n",
       "      <td>-2.276325</td>\n",
       "      <td>0.093103</td>\n",
       "    </tr>\n",
       "    <tr>\n",
       "      <th>35</th>\n",
       "      <td>35</td>\n",
       "      <td>1.202800</td>\n",
       "      <td>0</td>\n",
       "      <td>-0.594400</td>\n",
       "      <td>0.355626</td>\n",
       "    </tr>\n",
       "    <tr>\n",
       "      <th>36</th>\n",
       "      <td>36</td>\n",
       "      <td>0.455937</td>\n",
       "      <td>0</td>\n",
       "      <td>-2.088125</td>\n",
       "      <td>0.110256</td>\n",
       "    </tr>\n",
       "    <tr>\n",
       "      <th>37</th>\n",
       "      <td>37</td>\n",
       "      <td>3.314725</td>\n",
       "      <td>1</td>\n",
       "      <td>3.629451</td>\n",
       "      <td>0.974155</td>\n",
       "    </tr>\n",
       "    <tr>\n",
       "      <th>38</th>\n",
       "      <td>38</td>\n",
       "      <td>0.187585</td>\n",
       "      <td>0</td>\n",
       "      <td>-2.624829</td>\n",
       "      <td>0.067557</td>\n",
       "    </tr>\n",
       "    <tr>\n",
       "      <th>39</th>\n",
       "      <td>39</td>\n",
       "      <td>2.505149</td>\n",
       "      <td>1</td>\n",
       "      <td>2.010297</td>\n",
       "      <td>0.881874</td>\n",
       "    </tr>\n",
       "  </tbody>\n",
       "</table>\n",
       "</div>"
      ],
      "text/plain": [
       "    student       gpa  admit  log_odds    pred_p\n",
       "0         0  3.085283      1  3.170565  0.959711\n",
       "1         1  0.083008      0 -2.833984  0.055515\n",
       "2         2  2.534593      1  2.069186  0.887872\n",
       "3         3  2.995216      1  2.990431  0.952140\n",
       "4         4  1.994028      0  0.988056  0.728704\n",
       "5         5  0.899187      0 -1.201627  0.231186\n",
       "6         6  0.792251      0 -1.415497  0.195368\n",
       "7         7  3.042123      1  3.084246  0.956238\n",
       "8         8  0.676443      0 -1.647113  0.161499\n",
       "9         9  0.353359      0 -2.293281  0.091681\n",
       "10       10  2.741439      1  2.482879  0.922933\n",
       "11       11  3.813573      1  4.627147  0.990312\n",
       "12       12  0.015793      0 -2.968414  0.048873\n",
       "13       13  2.048769      0  1.097538  0.749799\n",
       "14       14  3.250484      1  3.500968  0.970715\n",
       "15       15  2.450104      0  1.900209  0.869915\n",
       "16       16  2.887021      0  2.774043  0.941257\n",
       "17       17  1.167504      0 -0.664991  0.339619\n",
       "18       18  3.671096      1  4.342193  0.987159\n",
       "19       19  2.858303      1  2.716606  0.937999\n",
       "20       20  2.170177      1  1.340355  0.792548\n",
       "21       21  0.568680      0 -1.862640  0.134396\n",
       "22       22  1.493363      0 -0.013274  0.496682\n",
       "23       23  2.696534      1  2.393069  0.916297\n",
       "24       24  1.767333      0  0.534665  0.630571\n",
       "25       25  1.736056      0  0.472112  0.615884\n",
       "26       26  2.471068      1  1.942136  0.874587\n",
       "27       27  2.052553      0  1.105106  0.751216\n",
       "28       28  2.601589      1  2.203177  0.900534\n",
       "29       29  2.404156      0  1.808312  0.859158\n",
       "30       30  3.220893      1  3.441786  0.968985\n",
       "31       31  2.086589      0  1.173177  0.763719\n",
       "32       32  3.634596      1  4.269191  0.986200\n",
       "33       33  1.276944      0 -0.446111  0.390286\n",
       "34       34  0.361837      0 -2.276325  0.093103\n",
       "35       35  1.202800      0 -0.594400  0.355626\n",
       "36       36  0.455937      0 -2.088125  0.110256\n",
       "37       37  3.314725      1  3.629451  0.974155\n",
       "38       38  0.187585      0 -2.624829  0.067557\n",
       "39       39  2.505149      1  2.010297  0.881874"
      ]
     },
     "execution_count": 144,
     "metadata": {},
     "output_type": "execute_result"
    }
   ],
   "source": [
    "nyu_df['pred_p']=np.exp(nyu_df['log_odds'])/(1+np.exp(nyu_df['log_odds']))\n",
    "nyu_df"
   ]
  },
  {
   "cell_type": "markdown",
   "metadata": {},
   "source": [
    "Ok now we can plot our predicted probabilities along with the actual data:"
   ]
  },
  {
   "cell_type": "code",
   "execution_count": 153,
   "metadata": {},
   "outputs": [
    {
     "data": {
      "text/plain": [
       "[<matplotlib.lines.Line2D at 0x12daa4048>]"
      ]
     },
     "execution_count": 153,
     "metadata": {},
     "output_type": "execute_result"
    },
    {
     "data": {
      "image/png": "[encoded data removed]",
      "text/plain": [
       "<Figure size 432x288 with 1 Axes>"
      ]
     },
     "metadata": {
      "needs_background": "light"
     },
     "output_type": "display_data"
    }
   ],
   "source": [
    "x = np.linspace(0.0,4.0)\n",
    "y = 1/(1+np.exp(-2.0*x+3))\n",
    "sns.scatterplot(x='gpa',y='pred_p',hue='admit',data=nyu_df)\n",
    "plt.plot(x,y,'k--',linewidth=0.3)"
   ]
  },
  {
   "cell_type": "markdown",
   "metadata": {},
   "source": [
    "The line here is the logistic fit of our model and the colored dots show the data.  The overall fit looks reasonable because it is giving a high predicted probability (`pred_p`) to people who were admitted.  However, is this the best we can do?  To search for better parameters we need a way to \"score\" how good of a fit to the data this is.  We can use this using likelihood.  So lets compute the likelihood of the data given this particular logistic curve.\n",
    "\n",
    "\n",
    "### Intuition of computing the likelihood\n",
    "\n",
    "There are more formal approaches to defining maximum likelihood estimation but lets just use intuition here.  We can think of a binary prediction as predicting the outcome of a coin toss.  If we have a fair coin (i.e., one that has equal probability of heads and tails) then the probability of say \"heads\" is 0.5 on a single flip.  We can consider this probability the _likelihood_ of getting a heads.  \n",
    "\n",
    "<img src=\"./images/coinflip.png\" width=\"150\">\n",
    "\n",
    "Let's write this down using some notation to make it easier to build up.  We will call the underlying probability of getting a heads $\\theta$ and we assume with a fair coin this is 0.5.  Now we can talk about the _likelihood_ of getting a particular event or data $d$.  For instance the probability of getting a single coin flip to turn up heads could written:\n",
    "\n",
    "$\n",
    "p(d=heads|\\theta = 0.5)=\\theta = 0.5\n",
    "$\n",
    "\n",
    "Notice the `|` symbol in the equation which means \"given\".  So what this simple line says is the probability of getting our \"data\" to be a single heads given the underlying probability of getting heads is 0.5 is, you guessed it, 0.5.\n",
    "\n",
    "How about if the coin flip came up tails?  Then we would have:\n",
    "\n",
    "$\n",
    "p(d=tails|\\theta = 0.5) = (1-\\theta) = 0.5\n",
    "$\n",
    "\n",
    "\n",
    "We talk about the expressions here $p(d|\\theta)$ as the *likelihood* of the event.\n",
    "\n",
    "\n",
    "Ok, what if $\\theta$ was different than 0.5?  Imagine a coin was a trick coin that was somehow modified to be slightly heavier on one side it might bias it to one or another outcome.  For example, imagine we change the coin so that it has a 0.7 probability of getting heads.  Then if we see a heads from this coin the _likelihood_ of this event is 0.7 (i.e., $\\theta=0.7$).  In contrast if we flip a tails the probability/likelihood of that events is (1-0.7)=0.3.  In other words, the likelihood of getting a tails is 0.3.  Formally\n",
    "\n",
    "$\n",
    "p(d=heads|\\theta = 0.7)=\\theta = 0.7\n",
    "$\n",
    "\n",
    "and\n",
    "\n",
    "$\n",
    "p(d=tails|\\theta = 0.7) = (1-\\theta) = 0.3\n",
    "$\n",
    "\n",
    "So the probability of a binary event like heads/tails is a function of the outcome and the probability we assigned to that outcome.\n",
    "\n",
    "Now, where this all comes together is that we can think of the `pred_p` value we just computed as the probability assigned to each student of being admitted. In other words `pred_p` is the $\\theta$ on this coin.   Imagine our model predict that student $s$ has a 0.76 probability of getting into NYU given their GPA.  If they _do_ get in then:\n",
    "\n",
    "$\n",
    "p(d_s=admit_s | \\theta_s=0.76) = 0.76\n",
    "$\n",
    "\n",
    "and if they don't get in we assign that a lower probability of happening given their GPA\n",
    "\n",
    "$\n",
    "p(d_s=reject_s | \\theta_s=0.76) = 0.24\n",
    "$\n",
    "\n",
    "\n",
    "This is where the regression element come in.  We want to move the parameters of our regression line to that we **maximize the likelihood** of the data.  Meaning, we want to try to assign higher probabilities to things that happened and low probabilities to things that didn't.  Our main limitation here is that we are using the sigmoid function and so generally we have this kind of s-shaped squiggle and we want to adjust it to match the data.  In an ideal case we could assign `pred_p` = 1.0 to only the student who were admitted and `pred_p`=0.0 to all the students who were not admitted only based on their GPA.  This is difficult because in our dataset there doesn't appear to be some GPA threshold that was used for admissions, so all we can do is see that admission probabilities go up somewhat with higher GPA but we don't know exactly how to fit this.\n",
    "\n",
    "So, to summarize where we are so far, we understand that the logistic regression curve will assign a \"probability\" of some event happening to each item in our dataset (using the mechanics of linear regression in log-odd space and so forth).  We want to try \"wiggling\" the parameters of the regression around so that we assign high probabilities to things that actually happen (i.e., students who were admitted) and low probabilities to things that didn't actually happen (i.e., students who were not admitted).  Our hands are tied in one way which is that since we are using a logistic regression model we generally can only adjust this s-shaped probability curve.  \n",
    "\n"
   ]
  },
  {
   "cell_type": "markdown",
   "metadata": {},
   "source": [
    "### Fitting all the data with the joint likelihood\n",
    "\n",
    "Ok but there is still two pieces missing.  The first is how do we assess _all_ the students at once.  The model predicts a logodds for each student in our data set, which we convert to a probability.  But then we want to do this for all the students in our data set together.  In other words we aren't assessing the probability of one coin event we are doing it for all the coin flips associated with each student in our dataset.  Luckily the probability of a bunch of independent data is simply the multiplication of all the probabilities (you can read it in your head as what is the probability of student 1 having such and such outcome **AND** student 2 having such and such outcome **AND** student 3 having such and such outcome, etc...).\n",
    "\n",
    "Let's denote the entire dataset as a capital $D$ (as opposed to the small $d$ we used for the individual data points).  Then\n",
    "\n",
    "$\n",
    "p(D|model) = p(d_0 | \\theta_{0,model}) * p(d_1 | \\theta_{1,model}) * p(d_2 | \\theta_{2,model}) ...\n",
    "$\n",
    "\n",
    "here $\\theta_{0,model}$ means the probability that student 0 is admitted given the current regression model. If student was admitted we set the probability of that student's outcome equal to the the probability the logistic model assigned.  If a student was not admitted, but we assigned a high probability then we set probability of them _not_ being admitted is 1-`pred_p`.  This gives us the likelihood of a single data point/student given our logistic regression model.  We can write more simply like this:\n",
    "\n",
    "$\n",
    "p(D|model) = \\prod_s p(d_s | \\theta_{s,model})\n",
    "$\n",
    "\n",
    "However, more often we are interested in the log likelihood (logs really do show up a lot in this chapter!).  The log of the likelihood is nice because if we multiply a bunch of small probabilities together, Python can often return a numeric error.  Thus if we first take the log, we can instead add the numbers up.  So we end up with\n",
    "\n",
    "$\n",
    "log(p(D|model)) = log(p(d_0 | \\theta_{0,model})) + log(p(d_1 | \\theta_{1,model})) + log(p(d_2 | \\theta_{2,model})) + ...\n",
    "$\n",
    "\n",
    "which can be written:\n",
    "\n",
    "$\n",
    "log(p(D|model)) = \\sum_s log(p(d_s | \\theta_{s,model}))\n",
    "$\n",
    "\n",
    "\n",
    "So the log likelihood in this formula plays a similar role to the least-squares error we used in standard regression.  We want to maximize this value (meaning increase the likelihood of the data given the model) by adjusting the parameters of our logistic regression.\n",
    "\n",
    "Before computing this by hand, let's just think about a few consequences for some simple data."
   ]
  },
  {
   "cell_type": "code",
   "execution_count": 171,
   "metadata": {},
   "outputs": [
    {
     "data": {
      "text/html": [
       "<div>\n",
       "<style scoped>\n",
       "    .dataframe tbody tr th:only-of-type {\n",
       "        vertical-align: middle;\n",
       "    }\n",
       "\n",
       "    .dataframe tbody tr th {\n",
       "        vertical-align: top;\n",
       "    }\n",
       "\n",
       "    .dataframe thead th {\n",
       "        text-align: right;\n",
       "    }\n",
       "</style>\n",
       "<table border=\"1\" class=\"dataframe\">\n",
       "  <thead>\n",
       "    <tr style=\"text-align: right;\">\n",
       "      <th></th>\n",
       "      <th>student</th>\n",
       "      <th>outcome</th>\n",
       "      <th>probability</th>\n",
       "    </tr>\n",
       "  </thead>\n",
       "  <tbody>\n",
       "    <tr>\n",
       "      <th>0</th>\n",
       "      <td>1</td>\n",
       "      <td>0</td>\n",
       "      <td>0</td>\n",
       "    </tr>\n",
       "    <tr>\n",
       "      <th>1</th>\n",
       "      <td>2</td>\n",
       "      <td>0</td>\n",
       "      <td>0</td>\n",
       "    </tr>\n",
       "    <tr>\n",
       "      <th>2</th>\n",
       "      <td>3</td>\n",
       "      <td>0</td>\n",
       "      <td>0</td>\n",
       "    </tr>\n",
       "    <tr>\n",
       "      <th>3</th>\n",
       "      <td>4</td>\n",
       "      <td>1</td>\n",
       "      <td>1</td>\n",
       "    </tr>\n",
       "    <tr>\n",
       "      <th>4</th>\n",
       "      <td>5</td>\n",
       "      <td>1</td>\n",
       "      <td>1</td>\n",
       "    </tr>\n",
       "    <tr>\n",
       "      <th>5</th>\n",
       "      <td>6</td>\n",
       "      <td>1</td>\n",
       "      <td>1</td>\n",
       "    </tr>\n",
       "  </tbody>\n",
       "</table>\n",
       "</div>"
      ],
      "text/plain": [
       "   student  outcome  probability\n",
       "0        1        0            0\n",
       "1        2        0            0\n",
       "2        3        0            0\n",
       "3        4        1            1\n",
       "4        5        1            1\n",
       "5        6        1            1"
      ]
     },
     "execution_count": 171,
     "metadata": {},
     "output_type": "execute_result"
    }
   ],
   "source": [
    "example_df=pd.DataFrame({'student':[1,2,3,4,5,6], 'outcome':[0,0,0,1,1,1], 'probability': [0,0,0,1,1,1]})\n",
    "example_df"
   ]
  },
  {
   "cell_type": "markdown",
   "metadata": {},
   "source": [
    "In this example data set we have six students, a binary 'outcome' measure, and a probability which we could assume come from some model like our logistic regression.  We want to know the likelihood of the outcomes given these probabilities.  If you look at the data closely you can see that the model is perfect... is assign 1.0 probability to each case where the actual outcome was 1 and 0 to the cases where the outcome was 0.  This is the best possible model.  What is the $log(p(D|model))$?"
   ]
  },
  {
   "cell_type": "markdown",
   "metadata": {},
   "source": [
    "First lets consider the cases where the outcome was 1, take the log of the probability column and add them up:"
   ]
  },
  {
   "cell_type": "code",
   "execution_count": 180,
   "metadata": {},
   "outputs": [
    {
     "data": {
      "text/plain": [
       "0.0"
      ]
     },
     "execution_count": 180,
     "metadata": {},
     "output_type": "execute_result"
    }
   ],
   "source": [
    "part1=np.log(example_df[example_df['outcome']==1]['probability']).sum()\n",
    "part1"
   ]
  },
  {
   "cell_type": "markdown",
   "metadata": {},
   "source": [
    "Next, lets do the same thing for the case where the outcome was 0.  However here we need to take the log of 1-probability because our model is predicting when the outcome will occur:"
   ]
  },
  {
   "cell_type": "code",
   "execution_count": 181,
   "metadata": {},
   "outputs": [
    {
     "data": {
      "text/plain": [
       "0.0"
      ]
     },
     "execution_count": 181,
     "metadata": {},
     "output_type": "execute_result"
    }
   ],
   "source": [
    "part2=np.log(1.0-example_df[example_df['outcome']==0]['probability']).sum()\n",
    "part2"
   ]
  },
  {
   "cell_type": "markdown",
   "metadata": {},
   "source": [
    "Then we just add these two value together to get the total log likelihood of the data:"
   ]
  },
  {
   "cell_type": "code",
   "execution_count": 183,
   "metadata": {},
   "outputs": [
    {
     "data": {
      "text/plain": [
       "0.0"
      ]
     },
     "execution_count": 183,
     "metadata": {},
     "output_type": "execute_result"
    }
   ],
   "source": [
    "part1+part2"
   ]
  },
  {
   "cell_type": "markdown",
   "metadata": {},
   "source": [
    "Alright so the log likelihood here is zero, which is the best we can possibly hope for.  To convert this back to a probability we just raise it to e:"
   ]
  },
  {
   "cell_type": "code",
   "execution_count": 184,
   "metadata": {},
   "outputs": [
    {
     "data": {
      "text/plain": [
       "1.0"
      ]
     },
     "execution_count": 184,
     "metadata": {},
     "output_type": "execute_result"
    }
   ],
   "source": [
    "np.exp(part1+part2)"
   ]
  },
  {
   "cell_type": "markdown",
   "metadata": {},
   "source": [
    "And so we can see the probabilty of the data given the model is 1.0 which means the data are **certain** under the model.  Wow!  Great job.\n",
    "\n",
    "Let's consider another case where instead of getting the probabilities perfectly right we get them perfectly wrong (assign high probability to events that don't happen and low probability to events that do):"
   ]
  },
  {
   "cell_type": "code",
   "execution_count": 188,
   "metadata": {},
   "outputs": [
    {
     "name": "stdout",
     "output_type": "stream",
     "text": [
      "   student  outcome  probability\n",
      "0        1        0            1\n",
      "1        2        0            1\n",
      "2        3        0            1\n",
      "3        4        1            0\n",
      "4        5        1            0\n",
      "5        6        1            0\n",
      "log likelihood is: -inf\n",
      "likelihood is: 0.0\n"
     ]
    }
   ],
   "source": [
    "example_df=pd.DataFrame({'student':[1,2,3,4,5,6], 'outcome':[0,0,0,1,1,1], 'probability': [1,1,1,0,0,0]})\n",
    "print(example_df)\n",
    "part1=np.log(example_df[example_df['outcome']==1]['probability']).sum()\n",
    "part2=np.log(1.0-example_df[example_df['outcome']==0]['probability']).sum()\n",
    "print(f\"log likelihood is: {part1+part2}\")\n",
    "print(f'likelihood is: {np.exp(part1+part2)}')"
   ]
  },
  {
   "cell_type": "markdown",
   "metadata": {},
   "source": [
    "I did all the calculations this time in one cell block so step through and make sure you understand the output.  Notice how the log likelihood is negative infinity in this case (very far from zero which was the maximum we saw in the previous example).\n",
    "\n",
    "One final case where the model is really unsure and so just assigns 0.5 probability to everyone:"
   ]
  },
  {
   "cell_type": "code",
   "execution_count": 190,
   "metadata": {},
   "outputs": [
    {
     "name": "stdout",
     "output_type": "stream",
     "text": [
      "   student  outcome  probability\n",
      "0        1        0          0.5\n",
      "1        2        0          0.5\n",
      "2        3        0          0.5\n",
      "3        4        1          0.5\n",
      "4        5        1          0.5\n",
      "5        6        1          0.5\n",
      "log likelihood is: -4.1588830833596715\n",
      "likelihood is: 0.015625000000000007\n"
     ]
    }
   ],
   "source": [
    "example_df=pd.DataFrame({'student':[1,2,3,4,5,6], 'outcome':[0,0,0,1,1,1], 'probability': [0.5,0.5,0.5,0.5,0.5,0.5]})\n",
    "print(example_df)\n",
    "part1=np.log(example_df[example_df['outcome']==1]['probability']).sum()\n",
    "part2=np.log(1.0-example_df[example_df['outcome']==0]['probability']).sum()\n",
    "print(f\"log likelihood is: {part1+part2}\")\n",
    "print(f'likelihood is: {np.exp(part1+part2)}')"
   ]
  },
  {
   "cell_type": "markdown",
   "metadata": {},
   "source": [
    "So you can see there is log likelihood is -4.16 and the overall likelihood of the data remains low (0.015).  This shows how different assignments of probabilities to the data implies different likelihoods and therefore \"fits\".  Let's try it now for our regression model:"
   ]
  },
  {
   "cell_type": "code",
   "execution_count": 191,
   "metadata": {},
   "outputs": [
    {
     "name": "stdout",
     "output_type": "stream",
     "text": [
      "log likelihood is: -52.62649758803535\n",
      "likelihood is: 1.395090867057656e-23\n"
     ]
    }
   ],
   "source": [
    "part1=np.log(nyu_df[nyu_df['admit']==1]['pred_p']).sum()\n",
    "part2=np.log(1.0-nyu_df[nyu_df['admit']==1]['pred_p']).sum()\n",
    "print(f\"log likelihood is: {part1+part2}\")\n",
    "print(f'likelihood is: {np.exp(part1+part2)}')"
   ]
  },
  {
   "cell_type": "markdown",
   "metadata": {},
   "source": [
    "Ok so here the log likelihood is -52.626.  Can we do better?  To try we need to adjust the parameters our regression to find ones that give a higher (less negative) log likelihood.\n",
    "\n",
    "As you know now we could search around for better parameters by hand (or write our own python function to do this) but it turns out the statistical packages for Python provide a simple way to fit these models so in the next section we will learn to use them."
   ]
  },
  {
   "cell_type": "markdown",
   "metadata": {},
   "source": [
    "```{admonition} Followup video\n",
    "This is a great and instructive video about maximum likelihood estimation: [https://www.youtube.com/watch?v=BfKanl1aSG0](https://www.youtube.com/watch?v=BfKanl1aSG0)\n",
    "```"
   ]
  },
  {
   "cell_type": "markdown",
   "metadata": {},
   "source": [
    "## Fitting logistic regression models"
   ]
  },
  {
   "cell_type": "markdown",
   "metadata": {},
   "source": [
    "There are several packages that provide logistic regression fitting and summarizing routines in Python.  The one most similar to what we learned about with linear regression is `statsmodels` and so we will begin there.  However, later we will also quickly learn how to use `scikit-learn` a machine learning package because of some of the issue we will explore later in the chapter."
   ]
  },
  {
   "cell_type": "markdown",
   "metadata": {},
   "source": [
    "Let's perform the logistic regression on the NYU admissions data.  It operates similar to the ordinary least square (OLS) regression.  We need to first import two modules from the `statsmodels` package.  Instead of `smf.ols()` which we used for OLS regression we just change the command to `smf.logit()`:"
   ]
  },
  {
   "cell_type": "code",
   "execution_count": 198,
   "metadata": {},
   "outputs": [
    {
     "name": "stdout",
     "output_type": "stream",
     "text": [
      "Optimization terminated successfully.\n",
      "         Current function value: 0.213802\n",
      "         Iterations 9\n"
     ]
    },
    {
     "data": {
      "text/html": [
       "<table class=\"simpletable\">\n",
       "<caption>Logit Regression Results</caption>\n",
       "<tr>\n",
       "  <th>Dep. Variable:</th>         <td>admit</td>      <th>  No. Observations:  </th>  <td>    40</td>  \n",
       "</tr>\n",
       "<tr>\n",
       "  <th>Model:</th>                 <td>Logit</td>      <th>  Df Residuals:      </th>  <td>    38</td>  \n",
       "</tr>\n",
       "<tr>\n",
       "  <th>Method:</th>                 <td>MLE</td>       <th>  Df Model:          </th>  <td>     1</td>  \n",
       "</tr>\n",
       "<tr>\n",
       "  <th>Date:</th>            <td>Tue, 05 Jan 2021</td> <th>  Pseudo R-squ.:     </th>  <td>0.6864</td>  \n",
       "</tr>\n",
       "<tr>\n",
       "  <th>Time:</th>                <td>10:45:16</td>     <th>  Log-Likelihood:    </th> <td> -8.5521</td> \n",
       "</tr>\n",
       "<tr>\n",
       "  <th>converged:</th>             <td>True</td>       <th>  LL-Null:           </th> <td> -27.274</td> \n",
       "</tr>\n",
       "<tr>\n",
       "  <th>Covariance Type:</th>     <td>nonrobust</td>    <th>  LLR p-value:       </th> <td>9.406e-10</td>\n",
       "</tr>\n",
       "</table>\n",
       "<table class=\"simpletable\">\n",
       "<tr>\n",
       "      <td></td>         <th>coef</th>     <th>std err</th>      <th>z</th>      <th>P>|z|</th>  <th>[0.025</th>    <th>0.975]</th>  \n",
       "</tr>\n",
       "<tr>\n",
       "  <th>Intercept</th> <td>  -12.4491</td> <td>    4.842</td> <td>   -2.571</td> <td> 0.010</td> <td>  -21.939</td> <td>   -2.959</td>\n",
       "</tr>\n",
       "<tr>\n",
       "  <th>gpa</th>       <td>    5.1953</td> <td>    1.970</td> <td>    2.637</td> <td> 0.008</td> <td>    1.334</td> <td>    9.057</td>\n",
       "</tr>\n",
       "</table><br/><br/>Possibly complete quasi-separation: A fraction 0.17 of observations can be<br/>perfectly predicted. This might indicate that there is complete<br/>quasi-separation. In this case some parameters will not be identified."
      ],
      "text/plain": [
       "<class 'statsmodels.iolib.summary.Summary'>\n",
       "\"\"\"\n",
       "                           Logit Regression Results                           \n",
       "==============================================================================\n",
       "Dep. Variable:                  admit   No. Observations:                   40\n",
       "Model:                          Logit   Df Residuals:                       38\n",
       "Method:                           MLE   Df Model:                            1\n",
       "Date:                Tue, 05 Jan 2021   Pseudo R-squ.:                  0.6864\n",
       "Time:                        10:45:16   Log-Likelihood:                -8.5521\n",
       "converged:                       True   LL-Null:                       -27.274\n",
       "Covariance Type:            nonrobust   LLR p-value:                 9.406e-10\n",
       "==============================================================================\n",
       "                 coef    std err          z      P>|z|      [0.025      0.975]\n",
       "------------------------------------------------------------------------------\n",
       "Intercept    -12.4491      4.842     -2.571      0.010     -21.939      -2.959\n",
       "gpa            5.1953      1.970      2.637      0.008       1.334       9.057\n",
       "==============================================================================\n",
       "\n",
       "Possibly complete quasi-separation: A fraction 0.17 of observations can be\n",
       "perfectly predicted. This might indicate that there is complete\n",
       "quasi-separation. In this case some parameters will not be identified.\n",
       "\"\"\""
      ]
     },
     "execution_count": 198,
     "metadata": {},
     "output_type": "execute_result"
    }
   ],
   "source": [
    "import statsmodels.api as sm\n",
    "import statsmodels.formula.api as smf\n",
    "\n",
    "logitfit = smf.logit('admit ~ gpa', data=nyu_df).fit()\n",
    "logitfit.summary()"
   ]
  },
  {
   "cell_type": "markdown",
   "metadata": {},
   "source": [
    "A couple of notes here, about the output.  First notice the output `summary()` provides include the `Log-likelihood` which is -8.551.  This is a much better (larger) likelihood than the -52.626 we found by hand above and is not surprising because the parameters we used earlier we just randomly chosen and were not \"fit\" with any particular goal in mind."
   ]
  },
  {
   "cell_type": "markdown",
   "metadata": {},
   "source": [
    "## Interpreting the fits"
   ]
  },
  {
   "cell_type": "markdown",
   "metadata": {},
   "source": [
    "Fitting a logistic regression is fun but pointless unless we are going to interpret the fit of the model!  We learned about interpreting the coefficients, corresponding hypothesis tests, and issues in overall model fit in the chapter on linear regression.  In order to provide the same interpretation to a logistic regression we need to learn a few other things because the interpretation is a little different."
   ]
  },
  {
   "cell_type": "markdown",
   "metadata": {},
   "source": [
    "### Interpretting overall fit quality"
   ]
  },
  {
   "cell_type": "markdown",
   "metadata": {},
   "source": [
    "If you remember from our discussion about linear regression, the first question we had after fitting a model is \"Is this model any good?\"  To answer that we turned to the $R^2$ value which computes the percentage of the total variation in the output explained by the regression model.  To do this we compared the total sum of squared error of the \"output\" variables around their mean to the residuals from the linear regression line.  However, as the above discussion about **fitting** the logistic regression model anticipates, we can't count on standard residuals in this case because they are infinite in the log-odds space.\n",
    "\n",
    "Instead there are several different metrics that people use to assess how \"well\" a logistic regression model accounts for a data set.  Perhaps the most common is pseudo-$R^2$ which is a measure of the proportional log odds improvement of the fitted logistic regression compared to a model which only includes an intercept but no slope.\n",
    "\n",
    "You can see that in the regression we did above the pseudo-$R^2$ value is 0.6864.  Generally speaking we want this value to be closer to 1.0 than to 0.0.  The formula for this value (also known as McFadden's pseudo-$R^2$) is:\n",
    "\n",
    "$\n",
    "R^2 = 1 - \\frac{ln L(M_{full})}{ln L(M_{null})}\n",
    "$\n",
    "\n",
    "here the term $L(M_{null})$ refers to the likelihood of a model with only an intercept term but not slope.  This is computed already for us in the output of the `statsmodels` `logit()` fitting routine (see `LL-null` in the output).\n",
    "\n",
    "so in our case:"
   ]
  },
  {
   "cell_type": "code",
   "execution_count": 7,
   "metadata": {},
   "outputs": [
    {
     "name": "stdout",
     "output_type": "stream",
     "text": [
      "0.6864376329104642\n"
     ]
    }
   ],
   "source": [
    "r_sq = 1.0 - (-8.5521/-27.274)\n",
    "print(r_sq)"
   ]
  },
  {
   "cell_type": "markdown",
   "metadata": {},
   "source": [
    "which is exactly what we found for the pseudo-$R^2$.  \n",
    "\n",
    "You can easily prove to yourself that `LL-null` in the output corresponds to a model with no slope by fitting such a model yourself: "
   ]
  },
  {
   "cell_type": "code",
   "execution_count": 8,
   "metadata": {},
   "outputs": [
    {
     "name": "stdout",
     "output_type": "stream",
     "text": [
      "Optimization terminated successfully.\n",
      "         Current function value: 0.681855\n",
      "         Iterations 4\n"
     ]
    },
    {
     "data": {
      "text/html": [
       "<table class=\"simpletable\">\n",
       "<caption>Logit Regression Results</caption>\n",
       "<tr>\n",
       "  <th>Dep. Variable:</th>         <td>admit</td>      <th>  No. Observations:  </th>  <td>    40</td>  \n",
       "</tr>\n",
       "<tr>\n",
       "  <th>Model:</th>                 <td>Logit</td>      <th>  Df Residuals:      </th>  <td>    39</td>  \n",
       "</tr>\n",
       "<tr>\n",
       "  <th>Method:</th>                 <td>MLE</td>       <th>  Df Model:          </th>  <td>     0</td>  \n",
       "</tr>\n",
       "<tr>\n",
       "  <th>Date:</th>            <td>Sun, 24 Jan 2021</td> <th>  Pseudo R-squ.:     </th> <td>1.708e-10</td>\n",
       "</tr>\n",
       "<tr>\n",
       "  <th>Time:</th>                <td>00:54:25</td>     <th>  Log-Likelihood:    </th> <td> -27.274</td> \n",
       "</tr>\n",
       "<tr>\n",
       "  <th>converged:</th>             <td>True</td>       <th>  LL-Null:           </th> <td> -27.274</td> \n",
       "</tr>\n",
       "<tr>\n",
       "  <th>Covariance Type:</th>     <td>nonrobust</td>    <th>  LLR p-value:       </th>  <td>   nan</td>  \n",
       "</tr>\n",
       "</table>\n",
       "<table class=\"simpletable\">\n",
       "<tr>\n",
       "      <td></td>         <th>coef</th>     <th>std err</th>      <th>z</th>      <th>P>|z|</th>  <th>[0.025</th>    <th>0.975]</th>  \n",
       "</tr>\n",
       "<tr>\n",
       "  <th>Intercept</th> <td>   -0.3023</td> <td>    0.320</td> <td>   -0.945</td> <td> 0.345</td> <td>   -0.929</td> <td>    0.325</td>\n",
       "</tr>\n",
       "</table>"
      ],
      "text/plain": [
       "<class 'statsmodels.iolib.summary.Summary'>\n",
       "\"\"\"\n",
       "                           Logit Regression Results                           \n",
       "==============================================================================\n",
       "Dep. Variable:                  admit   No. Observations:                   40\n",
       "Model:                          Logit   Df Residuals:                       39\n",
       "Method:                           MLE   Df Model:                            0\n",
       "Date:                Sun, 24 Jan 2021   Pseudo R-squ.:               1.708e-10\n",
       "Time:                        00:54:25   Log-Likelihood:                -27.274\n",
       "converged:                       True   LL-Null:                       -27.274\n",
       "Covariance Type:            nonrobust   LLR p-value:                       nan\n",
       "==============================================================================\n",
       "                 coef    std err          z      P>|z|      [0.025      0.975]\n",
       "------------------------------------------------------------------------------\n",
       "Intercept     -0.3023      0.320     -0.945      0.345      -0.929       0.325\n",
       "==============================================================================\n",
       "\"\"\""
      ]
     },
     "execution_count": 8,
     "metadata": {},
     "output_type": "execute_result"
    }
   ],
   "source": [
    "logitfit = smf.logit('admit ~ 1', data=nyu_df).fit()\n",
    "logitfit.summary()"
   ]
  },
  {
   "cell_type": "markdown",
   "metadata": {},
   "source": [
    "Note that in this case the `Log-likelihood` and `LL-null` is the same thing."
   ]
  },
  {
   "cell_type": "markdown",
   "metadata": {},
   "source": [
    "Although pseudo-$R^2$ has a similar profile to the $R^2$ we considered with OLS regression, the interpretation is a little more complex.  As a result, people often prefer a different measure of how good a logistic regression model \"fits.\"\n",
    "\n",
    "One very natural one is just to see how accurate the model is.  Imagine we find the model's predicted probability for each data point.  Then we assume that anytime $p>=0.5$ we should guess \"yes\" and anytime is it $p<0.5$ we should predict \"no\".  We can compare these guesses from the model to the actual data we fitted to to obtain a within-sample accuracy score.  Ideally we would want this number to be high (closer to one) and a model that, even after fitting, is getting a low accuracy would be a sign that the data is either very noisy or not a good fit to the logistic.\n",
    "\n",
    "Let's try this for the example above:"
   ]
  },
  {
   "cell_type": "markdown",
   "metadata": {},
   "source": [
    "First we fit the model like above:"
   ]
  },
  {
   "cell_type": "code",
   "execution_count": 10,
   "metadata": {},
   "outputs": [
    {
     "name": "stdout",
     "output_type": "stream",
     "text": [
      "Optimization terminated successfully.\n",
      "         Current function value: 0.213802\n",
      "         Iterations 9\n"
     ]
    },
    {
     "data": {
      "text/html": [
       "<table class=\"simpletable\">\n",
       "<caption>Logit Regression Results</caption>\n",
       "<tr>\n",
       "  <th>Dep. Variable:</th>         <td>admit</td>      <th>  No. Observations:  </th>  <td>    40</td>  \n",
       "</tr>\n",
       "<tr>\n",
       "  <th>Model:</th>                 <td>Logit</td>      <th>  Df Residuals:      </th>  <td>    38</td>  \n",
       "</tr>\n",
       "<tr>\n",
       "  <th>Method:</th>                 <td>MLE</td>       <th>  Df Model:          </th>  <td>     1</td>  \n",
       "</tr>\n",
       "<tr>\n",
       "  <th>Date:</th>            <td>Mon, 25 Jan 2021</td> <th>  Pseudo R-squ.:     </th>  <td>0.6864</td>  \n",
       "</tr>\n",
       "<tr>\n",
       "  <th>Time:</th>                <td>14:35:59</td>     <th>  Log-Likelihood:    </th> <td> -8.5521</td> \n",
       "</tr>\n",
       "<tr>\n",
       "  <th>converged:</th>             <td>True</td>       <th>  LL-Null:           </th> <td> -27.274</td> \n",
       "</tr>\n",
       "<tr>\n",
       "  <th>Covariance Type:</th>     <td>nonrobust</td>    <th>  LLR p-value:       </th> <td>9.406e-10</td>\n",
       "</tr>\n",
       "</table>\n",
       "<table class=\"simpletable\">\n",
       "<tr>\n",
       "      <td></td>         <th>coef</th>     <th>std err</th>      <th>z</th>      <th>P>|z|</th>  <th>[0.025</th>    <th>0.975]</th>  \n",
       "</tr>\n",
       "<tr>\n",
       "  <th>Intercept</th> <td>  -12.4491</td> <td>    4.842</td> <td>   -2.571</td> <td> 0.010</td> <td>  -21.939</td> <td>   -2.959</td>\n",
       "</tr>\n",
       "<tr>\n",
       "  <th>gpa</th>       <td>    5.1953</td> <td>    1.970</td> <td>    2.637</td> <td> 0.008</td> <td>    1.334</td> <td>    9.057</td>\n",
       "</tr>\n",
       "</table><br/><br/>Possibly complete quasi-separation: A fraction 0.17 of observations can be<br/>perfectly predicted. This might indicate that there is complete<br/>quasi-separation. In this case some parameters will not be identified."
      ],
      "text/plain": [
       "<class 'statsmodels.iolib.summary.Summary'>\n",
       "\"\"\"\n",
       "                           Logit Regression Results                           \n",
       "==============================================================================\n",
       "Dep. Variable:                  admit   No. Observations:                   40\n",
       "Model:                          Logit   Df Residuals:                       38\n",
       "Method:                           MLE   Df Model:                            1\n",
       "Date:                Mon, 25 Jan 2021   Pseudo R-squ.:                  0.6864\n",
       "Time:                        14:35:59   Log-Likelihood:                -8.5521\n",
       "converged:                       True   LL-Null:                       -27.274\n",
       "Covariance Type:            nonrobust   LLR p-value:                 9.406e-10\n",
       "==============================================================================\n",
       "                 coef    std err          z      P>|z|      [0.025      0.975]\n",
       "------------------------------------------------------------------------------\n",
       "Intercept    -12.4491      4.842     -2.571      0.010     -21.939      -2.959\n",
       "gpa            5.1953      1.970      2.637      0.008       1.334       9.057\n",
       "==============================================================================\n",
       "\n",
       "Possibly complete quasi-separation: A fraction 0.17 of observations can be\n",
       "perfectly predicted. This might indicate that there is complete\n",
       "quasi-separation. In this case some parameters will not be identified.\n",
       "\"\"\""
      ]
     },
     "execution_count": 10,
     "metadata": {},
     "output_type": "execute_result"
    }
   ],
   "source": [
    "import statsmodels.api as sm\n",
    "import statsmodels.formula.api as smf\n",
    "\n",
    "logitfit = smf.logit('admit ~ gpa', data=nyu_df).fit()\n",
    "logitfit.summary()"
   ]
  },
  {
   "cell_type": "markdown",
   "metadata": {},
   "source": [
    "then we just find the predictions for each data point using `logitfit.predict()` and see which of these are greated at 0.5.  Then are compare that the the `admit` column of our fitted nyu dataset and compute the mean."
   ]
  },
  {
   "cell_type": "code",
   "execution_count": 15,
   "metadata": {},
   "outputs": [
    {
     "data": {
      "text/plain": [
       "0.9"
      ]
     },
     "execution_count": 15,
     "metadata": {},
     "output_type": "execute_result"
    }
   ],
   "source": [
    "np.mean(nyu_df['admit']==(logitfit.predict()>=0.5))"
   ]
  },
  {
   "cell_type": "markdown",
   "metadata": {},
   "source": [
    "With this we find that the accuracy is 90\\% which is a good sign.  However, there is a risk with an accuracy score like this being too optimistic about how good of a model we have.  We'll discuss the issues in evaluating the predictive performance of a model on the data it was fitted to below."
   ]
  },
  {
   "cell_type": "markdown",
   "metadata": {},
   "source": [
    "### Interpretting coefficients"
   ]
  },
  {
   "cell_type": "markdown",
   "metadata": {},
   "source": [
    "As we did for linear regression, we can also try to interpret the meaning of the fitted regression coefficients in a logistic regression model.    The interpretation of these terms is less straight forward than in regular linear regression because of the nonlinearity introduced by the sigmoid.  Usually we like to talk about how the regression coefficient means for each single unit increase in the input variable there is a corresponding increase in the output prediction.  However, the increase in predicted probability is nonlinear in a logistic regression.  A unit increase in some areas of the input space might result in a larger increase than a increase in a region closer to 0 or 1.  \n",
    "\n",
    "One important thing to note about the typical output of the regression, and the approach used by `statsmodels` is that the coefficients are the ones of the linear regression in the log-odds space rather than in the original probability space.  For example, in the grade example above the intercept is -12.4491.  This means that if a person had a zero GPA, they would have a very negative log odds of being admitted to NYU.  Unfortunately the deck would be stacked against you in that case.  The standard error and z-score are what is used to compute a probability for the hypothesis test that this intercept is different than zero.  In this example we are able to reject that null hypothesis because the p value is 0.01. Typically the intercept is ignored in logistic regression, except in special cases. \n",
    "\n",
    "The estimated slope is 5.1953.  This means that for every one GPA unit gained the log odds of being admitted to NYU increases by 5.1953.  Again the output includes a hypothesis test on the coefficient asking if this is significantly different than zero (and we reject the null hypothesis of a zero slope because the p-value is 0.008 which is less than 0.05).\n",
    "\n",
    "Interpreting changes in the output prediction in terms of log odds can be difficult, and people often prefer directly in terms of probabilities (which is possible via the transformations described above).  However, due to the nonlinearity of the logistic function, the rate of change is highest near the inflection or turning point (which is near the mean of the output data) because that is the part that has the highest tangent (i.e., first derivative).  Thus often people report the change in the probability of the outcome variable as a function of the maximum possible change (basically an upper estimate of what it could be) by using the derivative at this point.  I won't go into the details of that here, but the book on regression by Gelman and Hill provides a useful starting point."
   ]
  },
  {
   "cell_type": "markdown",
   "metadata": {},
   "source": [
    "## Logistic regression for a discrete variable"
   ]
  },
  {
   "cell_type": "markdown",
   "metadata": {},
   "source": [
    "In the previous example we have focused on fitting a logistic regression model where the input predictor was continuous (gpa) and the output was discrete (accepted to NYU or not).  Another interesting use of logistic regression is to model a discrete variable, such as would be the case when predicting the effect of a experimental treatment.  For example, imagine we did an experiment where we randomly assigned high school students to a college-entrance tutoring course or to a course on improving writing skills and were are interested in which treatment results in more students being admitted to college."
   ]
  },
  {
   "cell_type": "markdown",
   "metadata": {},
   "source": [
    "## Classification "
   ]
  },
  {
   "cell_type": "markdown",
   "metadata": {},
   "source": [
    "## Summary\n",
    "\n",
    "Ok, we've come a long way and covered a lot of the details about regression, perhaps more than you will need for the labs but hopefully something you can come back and refer to sometime in the future.\n",
    "\n",
    "We covered: \n",
    "- Basic ideas in linear regression and how regression models are estimated.\n",
    "- Multiple linear regression.\n",
    "- Measuring the overall performance of a regression model using $R^2$\n",
    "- Hypothesis tests for regression models\n",
    "- Calculating confidence intervals for regression coefficients, and standardised coefficients \n",
    "- The assumptions of regression and how to check them \n",
    "- Selecting a regression model (aka variable selection)"
   ]
  },
  {
   "cell_type": "markdown",
   "metadata": {},
   "source": [
    "## Further Reading\n",
    "\n",
    "- [Guide to an in-depth understanding of logistic regression](https://www.dataschool.io/guide-to-logistic-regression/)\n",
    "- [StatQuest: Logistic Regression](https://www.youtube.com/watch?v=yIYKR4sgzI8) - nice youtube channel on many stats concepts\n",
    "- [StatQuest: Maximum Likelihood](https://www.youtube.com/watch?v=BfKanl1aSG0)\n",
    "- [Interpreting odds ratio in logistic regression](https://stats.idre.ucla.edu/other/mult-pkg/faq/general/faq-how-do-i-interpret-odds-ratios-in-logistic-regression/)\n"
   ]
  }
 ],
 "metadata": {
  "celltoolbar": "Tags",
  "kernelspec": {
   "display_name": "Python 3",
   "language": "python",
   "name": "python3"
  },
  "language_info": {
   "codemirror_mode": {
    "name": "ipython",
    "version": 3
   },
   "file_extension": ".py",
   "mimetype": "text/x-python",
   "name": "python",
   "nbconvert_exporter": "python",
   "pygments_lexer": "ipython3",
   "version": "3.7.3"
  },
  "toc": {
   "base_numbering": 1,
   "nav_menu": {},
   "number_sections": true,
   "sideBar": true,
   "skip_h1_title": false,
   "title_cell": "Table of Contents",
   "title_sidebar": "Contents",
   "toc_cell": false,
   "toc_position": {},
   "toc_section_display": true,
   "toc_window_display": false
  }
 },
 "nbformat": 4,
 "nbformat_minor": 2
}
