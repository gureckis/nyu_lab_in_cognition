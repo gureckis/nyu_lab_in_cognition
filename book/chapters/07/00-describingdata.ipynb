{
 "cells": [
  {
   "cell_type": "code",
   "execution_count": 14,
   "metadata": {
    "tags": [
     "hide_input"
    ]
   },
   "outputs": [],
   "source": [
    "from myst_nb import glue # for the Jupyter book chapter"
   ]
  },
  {
   "cell_type": "markdown",
   "metadata": {},
   "source": [
    "# Describing Data\n",
    "\n",
    "```{note}\n",
    "This chapter by [Todd M. Gureckis](https://gureckislab.org/~gureckis) and is released under the [license for this book](../../LICENSE). Elements of this chapter are adapted from Matthew Crump's excellent [Answering questions with data](https://crumplab.github.io/statistics/) book {cite}`Crump2019` which also draws from from Danielle Navarro's excellent [Learning Statistics with R](https://learningstatisticswithr.com) book {cite}`Navarro2011`.  One major change is the code was adapted to use python and jupyter.  In addition the introduction was replaced/shortened.  A chapter on descriptive statistics and correlation were merged.\n",
    "```\n",
    "\n",
    "We previously considered ways to visualize data using computer graphics.  Visualizations help us see patterns in data and to verify our understanding.  Visualization also sometimes help to summarize data in a more compact form than looking at the raw data.  However, in some cases it is more precise to summarize our data using numbers which we call **descriptive statistics**.  \n",
    "\n",
    "Descriptive statistics are probably the simplest and most straightforward aspect of statistical data analysis.  We are simplying taking a collection of numbers and computing a new number which summarizes the data in some way.  There are many different descriptive statistics and which is most appropriate depends a lot on the nature of the data and what you want to communicate about the data to others.  Simply put, a descriptive statistic is a number, computed on a collection of numbers (i.e., data), that captures something important about the data.  \n",
    "\n",
    "<div style=\"text-align: center\">\n",
    "    <img src=\"./images/descriptivestats.png\" width=\"500\">\n",
    "</div>\n",
    "\n",
    "Academic papers in psychology are littered with descriptive statitics even if inferential statistics (things we will discuss later) end up being the \"flashiest\" findings.  We need descriptive statistics to tell readers of our papers or audience members at our talks/posters what basically went on in a dataset without showing them all of the data or giving too many plots/visualizations.  Descriptive statistics tend to be quick, easy to convey summaries.  In addition, since they are usually numbers, they admit easy comparison to one another.\n",
    "\n",
    "There are lots of different descriptive statistics.  The one you are perhaps most familiar with is the arithmetic average or _mean_ (e.g., when you compute your average grade for the class it summarizes your performance in the class across many different assignments).  However there are many others we will discuss, and it fact it is possible to compute new statistics yourself!  \n",
    "\n",
    "Most of the statistical concepts in this chapter should be review if you have taken an introductory statistics course in psychology.  What you will learn by reading carefully is how to easily compute descriptive statistics for different datasets using Python and Pandas, a review of the merits and meaning of various statistics, and how to report them in papers and talks."
   ]
  },
  {
   "cell_type": "markdown",
   "metadata": {},
   "source": [
    "## Example Dataset"
   ]
  },
  {
   "cell_type": "markdown",
   "metadata": {},
   "source": [
    "We begin by loading an example dataset into a Pandas dataframe that we will use as an example throughout this chapter.  "
   ]
  },
  {
   "cell_type": "code",
   "execution_count": 13,
   "metadata": {},
   "outputs": [],
   "source": [
    "import numpy as np\n",
    "import pandas as pd\n",
    "import seaborn as sns\n",
    "import matplotlib.pyplot as plt\n",
    "\n",
    "%matplotlib inline"
   ]
  },
  {
   "cell_type": "code",
   "execution_count": 28,
   "metadata": {},
   "outputs": [],
   "source": [
    "df = pd.read_csv('https://tinyurl.com/yya6yyt8')"
   ]
  },
  {
   "cell_type": "markdown",
   "metadata": {},
   "source": [
    "```{admonition} About the data\n",
    ":class: tip\n",
    "\n",
    "The data is from the [OMNI](http://gureckislab.org/omni/index.html) project which examines how people learn and forget information.  In this specific dataset a set of participants studied a list of 45 Lithuanian-English vocabulary words five times for each word.  Immediately after study, participant gave each word pair a \"judgement-of-learning\" (JOL) rating of how likely they felt they would remember this pair at a later test.  They then came back for a test session several hours later (depending on a between-subject condition) and were presented with the Lithuanian word of each pair and asked to type in the corresponding English word.\n",
    "\n",
    "The columns of the dataset are as follows:\n",
    "\n",
    "* `delay_group`: the approximate time betwen the study to recall test for this participant (Note that the exact time between study and test for a particular person should be obtained from the included timestamps)\n",
    "    * A: immediate recall after end of study and JOL blocks\n",
    "    * C: 24h study-recall lag\n",
    "    * E: 48h study-recall lag (n = 1, due to an error)\n",
    "    * F: 72h study-recall lag\n",
    "    * PRISMAF: 72h study-recall lag (study session in an MRI scanner)\n",
    "    * H: 168h study-recall lag\n",
    "   \n",
    "   \n",
    "* `participant_id`: unique identifier for each participant (delay-group + numeric)\n",
    "\n",
    "\n",
    "* `lith_word_studied`: the lithuanian word in a studied pair\n",
    "\n",
    "\n",
    "* `eng_word_studied`: the english word in a studied pair\n",
    "\n",
    "\n",
    "* `studyN_start`: a numeric timestamp in seconds for the start time of study trial N  (Note that all study events were four seconds duration)\n",
    "\n",
    "\n",
    "* `jol_start`: a numeric timestamp in seconds for the start time of the JOL trial\n",
    "\n",
    "\n",
    "* `recall_trial`: a numeric timestamp in seconds for the start time of the recall trial\n",
    "\n",
    "\n",
    "* `jol_value`: numeric responses from 0-100 indicating confidence that a given word will be remembered\n",
    "\n",
    "\n",
    "* `eng_word_response`: the participant's english response for a given recall test trial\n",
    "\n",
    "\n",
    "* `recall_accuracy`: the participant's recall accuracy\n",
    "\n",
    "\n",
    "* `study_test_lag`: the time between the 5th study repetition and the recall trial for the given word\n",
    "```"
   ]
  },
  {
   "cell_type": "markdown",
   "metadata": {},
   "source": [
    "We can first verify the columns and type of data within each column of the loaded dataframe."
   ]
  },
  {
   "cell_type": "code",
   "execution_count": 6,
   "metadata": {},
   "outputs": [
    {
     "data": {
      "text/html": [
       "<div>\n",
       "<style scoped>\n",
       "    .dataframe tbody tr th:only-of-type {\n",
       "        vertical-align: middle;\n",
       "    }\n",
       "\n",
       "    .dataframe tbody tr th {\n",
       "        vertical-align: top;\n",
       "    }\n",
       "\n",
       "    .dataframe thead th {\n",
       "        text-align: right;\n",
       "    }\n",
       "</style>\n",
       "<table border=\"1\" class=\"dataframe\">\n",
       "  <thead>\n",
       "    <tr style=\"text-align: right;\">\n",
       "      <th></th>\n",
       "      <th>lith_word_studied</th>\n",
       "      <th>eng_word_studied</th>\n",
       "      <th>participant_id</th>\n",
       "      <th>delay_group</th>\n",
       "      <th>study1_start</th>\n",
       "      <th>study2_start</th>\n",
       "      <th>study3_start</th>\n",
       "      <th>study4_start</th>\n",
       "      <th>study5_start</th>\n",
       "      <th>jol_start</th>\n",
       "      <th>recall_start</th>\n",
       "      <th>jol_value</th>\n",
       "      <th>eng_word_response</th>\n",
       "      <th>recall_accuracy</th>\n",
       "      <th>study_test_lag</th>\n",
       "    </tr>\n",
       "  </thead>\n",
       "  <tbody>\n",
       "    <tr>\n",
       "      <th>0</th>\n",
       "      <td>pastatas</td>\n",
       "      <td>building</td>\n",
       "      <td>A1</td>\n",
       "      <td>A</td>\n",
       "      <td>1461597222</td>\n",
       "      <td>1461598097</td>\n",
       "      <td>1461598653</td>\n",
       "      <td>1461599383</td>\n",
       "      <td>1461599951</td>\n",
       "      <td>1461600711</td>\n",
       "      <td>1461601222</td>\n",
       "      <td>100</td>\n",
       "      <td>building</td>\n",
       "      <td>1</td>\n",
       "      <td>21.183333</td>\n",
       "    </tr>\n",
       "    <tr>\n",
       "      <th>1</th>\n",
       "      <td>mesa</td>\n",
       "      <td>meat</td>\n",
       "      <td>A1</td>\n",
       "      <td>A</td>\n",
       "      <td>1461597234</td>\n",
       "      <td>1461598070</td>\n",
       "      <td>1461598710</td>\n",
       "      <td>1461599353</td>\n",
       "      <td>1461599975</td>\n",
       "      <td>1461600707</td>\n",
       "      <td>1461601232</td>\n",
       "      <td>100</td>\n",
       "      <td>meat</td>\n",
       "      <td>1</td>\n",
       "      <td>20.950000</td>\n",
       "    </tr>\n",
       "    <tr>\n",
       "      <th>2</th>\n",
       "      <td>kreida</td>\n",
       "      <td>chalk</td>\n",
       "      <td>A1</td>\n",
       "      <td>A</td>\n",
       "      <td>1461597248</td>\n",
       "      <td>1461598054</td>\n",
       "      <td>1461598669</td>\n",
       "      <td>1461599403</td>\n",
       "      <td>1461599965</td>\n",
       "      <td>1461600699</td>\n",
       "      <td>1461601238</td>\n",
       "      <td>75</td>\n",
       "      <td>sword</td>\n",
       "      <td>0</td>\n",
       "      <td>21.216667</td>\n",
       "    </tr>\n",
       "    <tr>\n",
       "      <th>3</th>\n",
       "      <td>bugnas</td>\n",
       "      <td>drum</td>\n",
       "      <td>A1</td>\n",
       "      <td>A</td>\n",
       "      <td>1461597262</td>\n",
       "      <td>1461598085</td>\n",
       "      <td>1461598683</td>\n",
       "      <td>1461599393</td>\n",
       "      <td>1461599985</td>\n",
       "      <td>1461600719</td>\n",
       "      <td>1461601235</td>\n",
       "      <td>100</td>\n",
       "      <td>drum</td>\n",
       "      <td>1</td>\n",
       "      <td>20.833333</td>\n",
       "    </tr>\n",
       "    <tr>\n",
       "      <th>4</th>\n",
       "      <td>muilas</td>\n",
       "      <td>soap</td>\n",
       "      <td>A1</td>\n",
       "      <td>A</td>\n",
       "      <td>1461597274</td>\n",
       "      <td>1461598111</td>\n",
       "      <td>1461598700</td>\n",
       "      <td>1461599369</td>\n",
       "      <td>1461599995</td>\n",
       "      <td>1461600716</td>\n",
       "      <td>1461601249</td>\n",
       "      <td>100</td>\n",
       "      <td>soap</td>\n",
       "      <td>1</td>\n",
       "      <td>20.900000</td>\n",
       "    </tr>\n",
       "  </tbody>\n",
       "</table>\n",
       "</div>"
      ],
      "text/plain": [
       "  lith_word_studied eng_word_studied participant_id delay_group  study1_start  \\\n",
       "0          pastatas         building             A1           A    1461597222   \n",
       "1              mesa             meat             A1           A    1461597234   \n",
       "2            kreida            chalk             A1           A    1461597248   \n",
       "3            bugnas             drum             A1           A    1461597262   \n",
       "4            muilas             soap             A1           A    1461597274   \n",
       "\n",
       "   study2_start  study3_start  study4_start  study5_start   jol_start  \\\n",
       "0    1461598097    1461598653    1461599383    1461599951  1461600711   \n",
       "1    1461598070    1461598710    1461599353    1461599975  1461600707   \n",
       "2    1461598054    1461598669    1461599403    1461599965  1461600699   \n",
       "3    1461598085    1461598683    1461599393    1461599985  1461600719   \n",
       "4    1461598111    1461598700    1461599369    1461599995  1461600716   \n",
       "\n",
       "   recall_start  jol_value eng_word_response  recall_accuracy  study_test_lag  \n",
       "0    1461601222        100          building                1       21.183333  \n",
       "1    1461601232        100              meat                1       20.950000  \n",
       "2    1461601238         75             sword                0       21.216667  \n",
       "3    1461601235        100              drum                1       20.833333  \n",
       "4    1461601249        100              soap                1       20.900000  "
      ]
     },
     "execution_count": 6,
     "metadata": {},
     "output_type": "execute_result"
    }
   ],
   "source": [
    "df.head()"
   ]
  },
  {
   "cell_type": "markdown",
   "metadata": {},
   "source": [
    "We will start with a very simple and broad approach to computing descriptive statistics using the `.describe()` method of Pandas.  This function computes several descriptive statistics for each column of a dataset.  Which statistics is computed in the output depends somewhat on the nature of the dataset."
   ]
  },
  {
   "cell_type": "code",
   "execution_count": 7,
   "metadata": {},
   "outputs": [
    {
     "data": {
      "text/html": [
       "<div>\n",
       "<style scoped>\n",
       "    .dataframe tbody tr th:only-of-type {\n",
       "        vertical-align: middle;\n",
       "    }\n",
       "\n",
       "    .dataframe tbody tr th {\n",
       "        vertical-align: top;\n",
       "    }\n",
       "\n",
       "    .dataframe thead th {\n",
       "        text-align: right;\n",
       "    }\n",
       "</style>\n",
       "<table border=\"1\" class=\"dataframe\">\n",
       "  <thead>\n",
       "    <tr style=\"text-align: right;\">\n",
       "      <th></th>\n",
       "      <th>study1_start</th>\n",
       "      <th>study2_start</th>\n",
       "      <th>study3_start</th>\n",
       "      <th>study4_start</th>\n",
       "      <th>study5_start</th>\n",
       "      <th>jol_start</th>\n",
       "      <th>recall_start</th>\n",
       "      <th>jol_value</th>\n",
       "      <th>recall_accuracy</th>\n",
       "      <th>study_test_lag</th>\n",
       "    </tr>\n",
       "  </thead>\n",
       "  <tbody>\n",
       "    <tr>\n",
       "      <th>count</th>\n",
       "      <td>8.550000e+03</td>\n",
       "      <td>8.550000e+03</td>\n",
       "      <td>8.550000e+03</td>\n",
       "      <td>8.550000e+03</td>\n",
       "      <td>8.550000e+03</td>\n",
       "      <td>8.550000e+03</td>\n",
       "      <td>8.550000e+03</td>\n",
       "      <td>8550.000000</td>\n",
       "      <td>8550.000000</td>\n",
       "      <td>8550.000000</td>\n",
       "    </tr>\n",
       "    <tr>\n",
       "      <th>mean</th>\n",
       "      <td>1.481107e+09</td>\n",
       "      <td>1.481108e+09</td>\n",
       "      <td>1.481109e+09</td>\n",
       "      <td>1.481109e+09</td>\n",
       "      <td>1.481110e+09</td>\n",
       "      <td>1.481111e+09</td>\n",
       "      <td>1.481385e+09</td>\n",
       "      <td>61.665146</td>\n",
       "      <td>0.418129</td>\n",
       "      <td>4583.718248</td>\n",
       "    </tr>\n",
       "    <tr>\n",
       "      <th>std</th>\n",
       "      <td>1.244130e+07</td>\n",
       "      <td>1.244130e+07</td>\n",
       "      <td>1.244131e+07</td>\n",
       "      <td>1.244130e+07</td>\n",
       "      <td>1.244130e+07</td>\n",
       "      <td>1.244149e+07</td>\n",
       "      <td>1.248592e+07</td>\n",
       "      <td>31.876645</td>\n",
       "      <td>0.493280</td>\n",
       "      <td>3585.115929</td>\n",
       "    </tr>\n",
       "    <tr>\n",
       "      <th>min</th>\n",
       "      <td>1.461597e+09</td>\n",
       "      <td>1.461598e+09</td>\n",
       "      <td>1.461599e+09</td>\n",
       "      <td>1.461599e+09</td>\n",
       "      <td>1.461600e+09</td>\n",
       "      <td>1.461601e+09</td>\n",
       "      <td>1.461601e+09</td>\n",
       "      <td>0.000000</td>\n",
       "      <td>0.000000</td>\n",
       "      <td>10.050000</td>\n",
       "    </tr>\n",
       "    <tr>\n",
       "      <th>25%</th>\n",
       "      <td>1.471894e+09</td>\n",
       "      <td>1.471895e+09</td>\n",
       "      <td>1.471896e+09</td>\n",
       "      <td>1.471897e+09</td>\n",
       "      <td>1.471897e+09</td>\n",
       "      <td>1.471898e+09</td>\n",
       "      <td>1.472154e+09</td>\n",
       "      <td>37.000000</td>\n",
       "      <td>0.000000</td>\n",
       "      <td>1405.112500</td>\n",
       "    </tr>\n",
       "    <tr>\n",
       "      <th>50%</th>\n",
       "      <td>1.479028e+09</td>\n",
       "      <td>1.479029e+09</td>\n",
       "      <td>1.479030e+09</td>\n",
       "      <td>1.479030e+09</td>\n",
       "      <td>1.479031e+09</td>\n",
       "      <td>1.479032e+09</td>\n",
       "      <td>1.479421e+09</td>\n",
       "      <td>66.000000</td>\n",
       "      <td>0.000000</td>\n",
       "      <td>4268.191666</td>\n",
       "    </tr>\n",
       "    <tr>\n",
       "      <th>75%</th>\n",
       "      <td>1.488220e+09</td>\n",
       "      <td>1.488221e+09</td>\n",
       "      <td>1.488221e+09</td>\n",
       "      <td>1.488222e+09</td>\n",
       "      <td>1.488222e+09</td>\n",
       "      <td>1.488223e+09</td>\n",
       "      <td>1.488492e+09</td>\n",
       "      <td>91.000000</td>\n",
       "      <td>1.000000</td>\n",
       "      <td>9983.912500</td>\n",
       "    </tr>\n",
       "    <tr>\n",
       "      <th>max</th>\n",
       "      <td>1.516474e+09</td>\n",
       "      <td>1.516475e+09</td>\n",
       "      <td>1.516475e+09</td>\n",
       "      <td>1.516476e+09</td>\n",
       "      <td>1.516477e+09</td>\n",
       "      <td>1.516478e+09</td>\n",
       "      <td>1.516735e+09</td>\n",
       "      <td>100.000000</td>\n",
       "      <td>1.000000</td>\n",
       "      <td>11518.816670</td>\n",
       "    </tr>\n",
       "  </tbody>\n",
       "</table>\n",
       "</div>"
      ],
      "text/plain": [
       "       study1_start  study2_start  study3_start  study4_start  study5_start  \\\n",
       "count  8.550000e+03  8.550000e+03  8.550000e+03  8.550000e+03  8.550000e+03   \n",
       "mean   1.481107e+09  1.481108e+09  1.481109e+09  1.481109e+09  1.481110e+09   \n",
       "std    1.244130e+07  1.244130e+07  1.244131e+07  1.244130e+07  1.244130e+07   \n",
       "min    1.461597e+09  1.461598e+09  1.461599e+09  1.461599e+09  1.461600e+09   \n",
       "25%    1.471894e+09  1.471895e+09  1.471896e+09  1.471897e+09  1.471897e+09   \n",
       "50%    1.479028e+09  1.479029e+09  1.479030e+09  1.479030e+09  1.479031e+09   \n",
       "75%    1.488220e+09  1.488221e+09  1.488221e+09  1.488222e+09  1.488222e+09   \n",
       "max    1.516474e+09  1.516475e+09  1.516475e+09  1.516476e+09  1.516477e+09   \n",
       "\n",
       "          jol_start  recall_start    jol_value  recall_accuracy  \\\n",
       "count  8.550000e+03  8.550000e+03  8550.000000      8550.000000   \n",
       "mean   1.481111e+09  1.481385e+09    61.665146         0.418129   \n",
       "std    1.244149e+07  1.248592e+07    31.876645         0.493280   \n",
       "min    1.461601e+09  1.461601e+09     0.000000         0.000000   \n",
       "25%    1.471898e+09  1.472154e+09    37.000000         0.000000   \n",
       "50%    1.479032e+09  1.479421e+09    66.000000         0.000000   \n",
       "75%    1.488223e+09  1.488492e+09    91.000000         1.000000   \n",
       "max    1.516478e+09  1.516735e+09   100.000000         1.000000   \n",
       "\n",
       "       study_test_lag  \n",
       "count     8550.000000  \n",
       "mean      4583.718248  \n",
       "std       3585.115929  \n",
       "min         10.050000  \n",
       "25%       1405.112500  \n",
       "50%       4268.191666  \n",
       "75%       9983.912500  \n",
       "max      11518.816670  "
      ]
     },
     "execution_count": 7,
     "metadata": {},
     "output_type": "execute_result"
    }
   ],
   "source": [
    "df.describe()"
   ]
  },
  {
   "cell_type": "markdown",
   "metadata": {},
   "source": [
    "If you look at the rows of the resulting dataframe the include the `count` (the number of rows in that column), `std` the standard deviaion of the values, `min` the minimum value in the column, `50%` which is the median (and `25%` and `75%` which show alternative quartiles), the `mean`, and the `max`.\n",
    "\n",
    "Also note that several columns in the original dataframe such as `participant_id` is missing from this output.  This is because the set of descriptive statistics here only apply to columns made up with real numbers (you can't take the mean of a string).  To get descriptive statistics for individual columns we can first _select_ a column and then do `.describe()`."
   ]
  },
  {
   "cell_type": "code",
   "execution_count": 9,
   "metadata": {},
   "outputs": [
    {
     "data": {
      "text/plain": [
       "count     8550\n",
       "unique     190\n",
       "top        H47\n",
       "freq        45\n",
       "Name: participant_id, dtype: object"
      ]
     },
     "execution_count": 9,
     "metadata": {},
     "output_type": "execute_result"
    }
   ],
   "source": [
    "df['participant_id'].describe()"
   ]
  },
  {
   "cell_type": "markdown",
   "metadata": {},
   "source": [
    "The statistics for discrete data include the number of rows (`count`), the number of unique values (`unique`), the most frequent value (`H47`), and the frequency of the most common elements (`freq`).  From this we can see there is 190 participants in this data set and 8550 trials."
   ]
  },
  {
   "cell_type": "markdown",
   "metadata": {},
   "source": [
    "The `.describe()` dataframe method is sort of the \"ultra-simple\" descriptive statistic function.  However as we will step through in the following sections there are specific methods for specific statistics as well as the ability to write your own custom descriptive statistics.  As one example `.mean()` computes the mean within each column (if the column is a number and not a string):"
   ]
  },
  {
   "cell_type": "code",
   "execution_count": 12,
   "metadata": {},
   "outputs": [
    {
     "data": {
      "text/plain": [
       "study1_start       1.481107e+09\n",
       "study2_start       1.481108e+09\n",
       "study3_start       1.481109e+09\n",
       "study4_start       1.481109e+09\n",
       "study5_start       1.481110e+09\n",
       "jol_start          1.481111e+09\n",
       "recall_start       1.481385e+09\n",
       "jol_value          6.166515e+01\n",
       "recall_accuracy    4.181287e-01\n",
       "study_test_lag     4.583718e+03\n",
       "dtype: float64"
      ]
     },
     "execution_count": 12,
     "metadata": {},
     "output_type": "execute_result"
    }
   ],
   "source": [
    "df.mean()"
   ]
  },
  {
   "cell_type": "markdown",
   "metadata": {},
   "source": [
    "## Measures of Central Tendency\n",
    "\n",
    "Measures of central tendency have one important summary goal: to reduce a pile of numbers to a single number that summarizes in some sense the average or typical value. Take a moment here to listen to this interesting National Public Radio [Planet Money](https://www.npr.org/sections/money/) podcast about \"the modal american\" which discusses exactly how difficult it can be to compute the average or typical value of some population or dataset.  After you listen, test your understanding with the questions below.\n",
    "\n",
    "<iframe src=\"https://www.npr.org/player/embed/755191639/755262760\" width=\"100%\" height=\"290\" frameborder=\"0\" scrolling=\"no\" title=\"NPR embedded audio player\"></iframe>\n",
    "\n",
    "```{admonition} Test yourself: What is the median age of an American?\n",
    ":class: hint\n",
    "- 26\n",
    "- 38\n",
    "- 56\n",
    "- 78\n",
    "```\n",
    "```{admonition} Click the button to reveal the answer!\n",
    ":class: dropdown\n",
    "Around 5:52 in the podcast they discuss the distribution of ages in the American population, and the bimodal hump which is the Millenials (\"echo boomers\") and the Boomers.  The median age is 38 but their analysis but fewer Americans are this age.  The most common (modal) age is 26.\n",
    "```\n",
    "\n",
    "```{admonition} Test yourself: When they analyze data in terms of multiple traits and category \"buckets\" who was the modal American?\n",
    ":class: hint\n",
    "- a child, gen-z, unmarried, no college degree, unemployed\n",
    "- a college student, married, mid-20s\n",
    "- a retiree, late 60s, unmarried, college educated\n",
    "```\n",
    "```{admonition} Click the button to reveal the answer!\n",
    ":class: dropdown\n",
    "Around 13:47 in the podcast they discuss that all the children in the US fall into one of the categories because the categories were slanted towards adults (employed, college, etc...).\n",
    "The modal american in their analysis actually is male, gen-x, 39-54 years old, lives in suburbs, did not complete college, white, married, working full time, household income \\$75-165k/year.  Partly because this middle age generation is more homogenous (generally working full-time, etc...) while older and younger generations have more varied work and marriage relationships.\n",
    "```\n",
    "\n",
    "Ok with some of the trickiness of defining a central tendency for real data, let's look at the traditional statistics for this.\n",
    "\n",
    "\n",
    "### Mode\n",
    "\n",
    "The **mode** is the most frequently occurring number in your measurement. That is it. How do you find it? You have to count the number of times each number appears in your measure, then whichever one occurs the most, is the mode.\n",
    "\n",
    "> Example: 1 1 1 2 3 4 5 6\n",
    "\n",
    "The mode of the above set is 1, which occurs three times. Every other number only occurs once.\n",
    "\n",
    "OK fine. What happens here:\n",
    "\n",
    "> Example: 1 1 1 2 2 2 3 4 5 6\n",
    "\n",
    "Hmm, now 1 and 2 both occur three times each. What do we do? We say there are two modes, and they are 1 and 2.\n",
    "\n",
    "Why is the mode a measure of central tendency? Well, when we ask, \"what are my numbers like\", we can say, \"most of the number are, like a 1 (or whatever the mode is)\".\n",
    "\n",
    "Is the mode a good measure of central tendency? That depends on your numbers. For example, consider these numbers\n",
    "\n",
    "> 1 1 2 3 4 5 6 7 8 9\n",
    "\n",
    "Here, the mode is 1 again, because there are two 1s, and all of the other numbers occur once. But, are most of the numbers like, a 1. No, they are mostly not 1s. \n",
    "\n",
    "\n",
    "When is the mode a good summary of a set of data?  Well generally mode is useful for things that have a chance of repeating.  For instance since we usually think of people's age in whole numbers (36, 24, 56, etc...) then we can find the modal age to find the most common age.  However, it might make less sense on more fine-grained measurements.  For instance if you recorded the altitude of every US city to the closest millimeter it might not make sense to report the mode since at the scale of a millimeter maybe very few cities have the same value (and thus there are many modes with only one occurence).  As the podcast above points out the mode is good for gauging \"who is most common/typical in a population\" and that is why talking about the \"modal american\" is an appealing statistical concept."
   ]
  },
  {
   "cell_type": "markdown",
   "metadata": {},
   "source": [
    "How do we compute the mode in Pandas.  Well you saw already that when you call `.describe()` on a column that has nominal (i.e., string data) it reports the most common value or mode.  You can request this statistic directly like this:"
   ]
  },
  {
   "cell_type": "code",
   "execution_count": 20,
   "metadata": {},
   "outputs": [
    {
     "data": {
      "text/plain": [
       "0    100\n",
       "dtype: int64"
      ]
     },
     "execution_count": 20,
     "metadata": {},
     "output_type": "execute_result"
    }
   ],
   "source": [
    "df['jol_value'].mode()"
   ]
  },
  {
   "cell_type": "markdown",
   "metadata": {},
   "source": [
    "This shows us that 100 is the most common judgment of learning (JOL) rating that people gave overall.  If we ask for the modal `participant_id` that is the id of the subject with the most trials in the data frame (i.e., they appear in the most rows).  However, since all subjects had exactly 45 trials there are multiple modes in the participant id column.  In fact if we run that command we get 190 different modes each picking out a different subject with 45 trials."
   ]
  },
  {
   "cell_type": "code",
   "execution_count": 21,
   "metadata": {},
   "outputs": [
    {
     "data": {
      "text/plain": [
       "0             A1\n",
       "1            A10\n",
       "2            A11\n",
       "3            A12\n",
       "4            A13\n",
       "         ...    \n",
       "185    PRISMAF28\n",
       "186    PRISMAF29\n",
       "187    PRISMAF30\n",
       "188    PRISMAF31\n",
       "189    PRISMAF32\n",
       "Length: 190, dtype: object"
      ]
     },
     "execution_count": 21,
     "metadata": {},
     "output_type": "execute_result"
    }
   ],
   "source": [
    "df['participant_id'].mode()"
   ]
  },
  {
   "cell_type": "markdown",
   "metadata": {},
   "source": [
    "The mode is the **value** which is most common.  Sometimes you want to know how often the modal value appears.  The `.value_counts()` function computes a tally of how often each value repeats in a list sorted from biggest to smallest. "
   ]
  },
  {
   "cell_type": "code",
   "execution_count": 27,
   "metadata": {},
   "outputs": [
    {
     "data": {
      "text/plain": [
       "100    1616\n",
       "50      370\n",
       "80      324\n",
       "90      308\n",
       "70      302\n",
       "       ... \n",
       "12       23\n",
       "3        22\n",
       "17       20\n",
       "2        20\n",
       "27       17\n",
       "Name: jol_value, Length: 101, dtype: int64"
      ]
     },
     "execution_count": 27,
     "metadata": {},
     "output_type": "execute_result"
    }
   ],
   "source": [
    "df['jol_value'].value_counts()"
   ]
  },
  {
   "cell_type": "markdown",
   "metadata": {},
   "source": [
    " Thus the first entry of this series shows that the value 100 appears 1616 times.  It also shows the second most common rating is 50 which appears 370 times.  If you only one the count for the mode there a few tricks you could do, e.g., we can use `.iat[0]` to extract the first entry to the `.value_counts()`:"
   ]
  },
  {
   "cell_type": "code",
   "execution_count": 30,
   "metadata": {},
   "outputs": [
    {
     "data": {
      "text/plain": [
       "1616"
      ]
     },
     "execution_count": 30,
     "metadata": {},
     "output_type": "execute_result"
    }
   ],
   "source": [
    "df['jol_value'].value_counts().iat[0]"
   ]
  },
  {
   "cell_type": "markdown",
   "metadata": {},
   "source": [
    "### Median\n",
    "\n",
    "The **median** is the exact middle of the data. After all, we are asking about central tendency, so why not go to the center of the data and see where we are. What do you mean middle of the data? Let's look at these numbers:\n",
    "\n",
    "> 1 5 4 3 6 7 9\n",
    "\n",
    "Umm, OK. So, three is in the middle? Isn't that kind of arbitrary. Yes. Before we can compute the median, we need to order the numbers from smallest to largest.\n",
    "\n",
    "> 1 3 4 **5** 6 7 9\n",
    "\n",
    "Now, 5 is in the middle. And, by middle we mean in the middle. There are three numbers to the left of 5, and three numbers to the right. So, five is definitely in the middle.\n",
    "\n",
    "OK fine, but what happens when there aren't an even number of numbers? Then the middle will be missing right? Let's see:\n",
    "\n",
    "> 1 2 3 4 5 6\n",
    "\n",
    "There is no number between 3 and 4 in the data, the middle is empty. In this case, we compute the median by figuring out the number in between 3 and 4. So, the median would be 3.5.\n",
    "\n",
    "Is the median a good measure of central tendency? Sure, it is often very useful. One property of the median is that it stays in the middle even when some of the other numbers get really weird. For example, consider these numbers:\n",
    "\n",
    "> 1 2 3 4 4 4 **5** 6 6 6 7 7 1000\n",
    "\n",
    "Most of these numbers are smallish, but the 1000 is a big old weird number, very different from the rest. The median is still 5, because it is in the middle of these ordered numbers. We can also see that five is pretty similar to most of the numbers (except for 1000). So, the median does a pretty good job of representing most of the numbers in the set, and it does so even if one or two of the numbers are very different from the others.\n",
    "\n",
    "Finally, **outlier** is a term will we use to describe numbers that appear in data that are very different from the rest. 1000 is an outlier, because it lies way out there on the number line compared to the other numbers. What to do with outliers is another topic we discuss later.\n",
    "\n"
   ]
  },
  {
   "cell_type": "markdown",
   "metadata": {},
   "source": [
    "We can compute the median of a single column just like we computed the mean using Pandas:"
   ]
  },
  {
   "cell_type": "code",
   "execution_count": 31,
   "metadata": {},
   "outputs": [
    {
     "data": {
      "text/plain": [
       "66.0"
      ]
     },
     "execution_count": 31,
     "metadata": {},
     "output_type": "execute_result"
    }
   ],
   "source": [
    "df['jol_value'].median()"
   ]
  },
  {
   "cell_type": "markdown",
   "metadata": {},
   "source": [
    "As you can see the median is quite different than the mode.  The most common JOL rating was 100 but the median is 66!"
   ]
  },
  {
   "cell_type": "markdown",
   "metadata": {},
   "source": [
    "### Mean\n",
    "\n",
    "Perhaps the most well known measure of central tendency is the **mean** or arithmetic average.  It is best represented as a formula where we sum up the numbers then divide by the number of numbers:\n",
    "\n",
    "$Mean = \\bar{X} = \\frac{\\sum_{i=1}^{n} x_{i}}{N}$\n",
    "\n",
    "The $\\sum$ symbol is called **sigma**, and it stands for the operation of summing. The little \"i\" on the bottom, and the little \"n\" on the top refers to all of the numbers in the set, from the first number \"i\" to the last number \"n\". The letters are just arbitrary labels, called **variables** that we use for descriptive purposes. The $x_{i}$ refers to individual numbers in the set. We sum up all of the numbers, then divide the sum by $N$, which is the total number of numbers. Sometimes you will see $\\bar{X}$ to refer to the mean of all of the numbers.\n",
    "\n",
    "In plain English, the formula looks like:\n",
    "\n",
    "$mean = \\frac{\\text{Sum of my numbers}}{\\text{Count of my numbers}}$\n",
    "\n",
    "Let's compute the mean for these five numbers:\n",
    "\n",
    "> 3 7 9 2 6\n",
    "\n",
    "Add em up:\n",
    "\n",
    "> 3+7+9+2+6 = 27\n",
    "\n",
    "Count em up:\n",
    "\n",
    "> $i_{1}$ = 3, $i_{2}$ = 7, $i_{3}$ = 9, $i_{4}$ = 2, $i_{5}$ = 6; N=5, because $i$ went from 1 to 5\n",
    "\n",
    "Divide em:\n",
    "\n",
    "> mean = 27 / 5 = 5.4\n",
    "\n",
    "Or, to put the numbers in the formula, it looks like this:\n",
    "\n",
    "$Mean = \\bar{X} = \\frac{\\sum_{i=1}^{n} x_{i}}{N} = \\frac{3+7+9+2+6}{5} = \\frac{27}{5} = 5.4$\n",
    "\n",
    "\n",
    "\n",
    "> Pro tip: The mean is the one and only number that can take the place of every number in the data, such that when you add up all the equal parts, you get back the original sum of the data.\n"
   ]
  },
  {
   "cell_type": "markdown",
   "metadata": {},
   "source": [
    "Computing the mean of a column in Pandas is trivial:"
   ]
  },
  {
   "cell_type": "code",
   "execution_count": 33,
   "metadata": {},
   "outputs": [
    {
     "data": {
      "text/plain": [
       "61.665146198830406"
      ]
     },
     "execution_count": 33,
     "metadata": {},
     "output_type": "execute_result"
    }
   ],
   "source": [
    "df['jol_value'].mean()"
   ]
  },
  {
   "cell_type": "markdown",
   "metadata": {},
   "source": [
    "or all columns:"
   ]
  },
  {
   "cell_type": "code",
   "execution_count": 34,
   "metadata": {},
   "outputs": [
    {
     "data": {
      "text/plain": [
       "study1_start       1.481107e+09\n",
       "study2_start       1.481108e+09\n",
       "study3_start       1.481109e+09\n",
       "study4_start       1.481109e+09\n",
       "study5_start       1.481110e+09\n",
       "jol_start          1.481111e+09\n",
       "recall_start       1.481385e+09\n",
       "jol_value          6.166515e+01\n",
       "recall_accuracy    4.181287e-01\n",
       "study_test_lag     4.583718e+03\n",
       "dtype: float64"
      ]
     },
     "execution_count": 34,
     "metadata": {},
     "output_type": "execute_result"
    }
   ],
   "source": [
    "df.mean()"
   ]
  },
  {
   "cell_type": "markdown",
   "metadata": {},
   "source": [
    "### Mean, median or mode? What's the difference? When should I use one or the other?\n",
    "\n",
    "```{figure} ./images/meanmedian.png\n",
    ":width: 500px\n",
    ":name: fig:meanmedian\n",
    "\n",
    "Illustration of the intuitive difference between the mean and median\n",
    "```\n",
    "\n",
    "Knowing how to calculate means and medians is only a part of the story. You also need to understand what each one is saying about the data, and what that implies for when you should use each one. This is illustrated in {numref}`fig:meanmedian` the mean is kind of like the \"centre of gravity\" of the data set, whereas the median is the \"middle value\" in the data. What this implies, as far as which one you should use, depends a little on what type of data you've got and what you're trying to achieve. As a rough guide:\n",
    " \n",
    "- If your data are nominal scale, you probably shouldn't be using either the mean or the median. Both the mean and the median rely on the idea that the numbers assigned to values are meaningful. If the numbering scheme is arbitrary, then it's probably best to use the mode instead. \n",
    "- If your data are ordinal scale, you're more likely to want to use the median than the mean. The median only makes use of the order information in your data (i.e., which numbers are bigger), but doesn't depend on the precise numbers involved. That's exactly the situation that applies when your data are ordinal scale. The mean, on the other hand, makes use of the precise numeric values assigned to the observations, so it's not really appropriate for ordinal data.\n",
    "- For interval and ratio scale data, either one is generally acceptable. Which one you pick depends a bit on what you're trying to achieve. The mean has the advantage that it uses all the information in the data (which is useful when you don't have a lot of data), but it's very sensitive to extreme values.  \n",
    "\n",
    "\n",
    "Let's expand on that last part a little. One consequence is that there's systematic differences between the mean and the median when the histogram is asymmetric (also known as \"skewed\"). This is illustrated in {numref}`fig:meanmedian` notice that the median (right hand side) is located closer to the \"body\" of the histogram, whereas the mean (left hand side) gets dragged towards the \"tail\" (where the extreme values are). To give a concrete example, suppose Bob (income \\$50,000), Kate (income \\$60,000) and Jane (income \\$65,000) are sitting at a table: the average income at the table is \\$58,333 and the median income is \\$60,000. Then Bill sits down with them (income \\$100,000,000). The average income has now jumped to \\$25,043,750 but the median rises only to \\$62,500. If you're interested in looking at the overall income at the table, the mean might be the right answer; but if you're interested in what counts as a typical income at the table, the median would be a better choice here."
   ]
  },
  {
   "cell_type": "markdown",
   "metadata": {},
   "source": [
    "## Measures of variability\n",
    "\n",
    "The statistics that we've discussed so far all relate to *central tendency*. That is, they all talk about which values are \"in the middle\" or \"popular\" in the data. However, central tendency is not the only type of summary statistic that we want to calculate. The second thing that we really want is a measure of the **_variability_** of the data. That is, how \"spread out\" are the data? How \"far\" away from the mean or median do the observed values tend to be? \n",
    "\n",
    "### Range\n",
    "\n",
    "The **_range_** of a variable is very simple: it's the biggest value minus the smallest value. For the OMNI JOL data, the maximum value is 100, and the minimum value is 0. We can calculate these values in R using the `max()` and `min()` functions:"
   ]
  },
  {
   "cell_type": "code",
   "execution_count": 44,
   "metadata": {},
   "outputs": [
    {
     "data": {
      "text/plain": [
       "100"
      ]
     },
     "execution_count": 44,
     "metadata": {},
     "output_type": "execute_result"
    }
   ],
   "source": [
    "df['jol_value'].max()"
   ]
  },
  {
   "cell_type": "code",
   "execution_count": 53,
   "metadata": {},
   "outputs": [
    {
     "data": {
      "text/plain": [
       "0"
      ]
     },
     "execution_count": 53,
     "metadata": {},
     "output_type": "execute_result"
    }
   ],
   "source": [
    "df['jol_value'].min()"
   ]
  },
  {
   "cell_type": "code",
   "execution_count": 54,
   "metadata": {},
   "outputs": [
    {
     "data": {
      "text/plain": [
       "100"
      ]
     },
     "execution_count": 54,
     "metadata": {},
     "output_type": "execute_result"
    }
   ],
   "source": [
    "range_vals = df['jol_value'].max()-df['jol_value'].min()\n",
    "range_vals"
   ]
  },
  {
   "cell_type": "markdown",
   "metadata": {},
   "source": [
    "Although the range is the simplest way to quantify the notion of \"variability\", it's one of the worst. We generally want our summary measure to be \"robust\" to outliers. If the data set has one or two extremely weird values in it, we'd like our statistics not to be unduly influenced by these cases. If we look once again at our toy example of a data set containing very extreme outliers...\n",
    "\n",
    "$-100,2,3,4,5,6,7,8,9,10$\n",
    "\n",
    "... it is clear that the range is not robust, since this has a range of 110, but if the outlier were removed we would have a range of only 8.\n",
    "\n"
   ]
  },
  {
   "cell_type": "markdown",
   "metadata": {},
   "source": [
    "### Interquartile range\n",
    "\n",
    "The **_interquartile range_** (IQR) is like the range, but instead of calculating the difference between the biggest and smallest value, it calculates the difference between the 25th quantile and the 75th quantile. Probably you already know what a **_quantile_** is (they're more commonly called percentiles), but if not: the 10th percentile of a data set is the smallest number $x$ such that 10% of the data is less than $x$. In fact, we've already come across the idea: the median of a data set is its 50th quantile / percentile! Pandas actually provides you with a way of calculating quantiles, using the (surprise, surprise) `.quantile()` function. Let's use it to calculate the median JOL in the OMNI dataset:"
   ]
  },
  {
   "cell_type": "code",
   "execution_count": 56,
   "metadata": {},
   "outputs": [
    {
     "data": {
      "text/plain": [
       "66.0"
      ]
     },
     "execution_count": 56,
     "metadata": {},
     "output_type": "execute_result"
    }
   ],
   "source": [
    "df['jol_value'].median()"
   ]
  },
  {
   "cell_type": "code",
   "execution_count": 48,
   "metadata": {},
   "outputs": [
    {
     "data": {
      "text/plain": [
       "66.0"
      ]
     },
     "execution_count": 48,
     "metadata": {},
     "output_type": "execute_result"
    }
   ],
   "source": [
    "df['jol_value'].quantile(q=0.5)"
   ]
  },
  {
   "cell_type": "markdown",
   "metadata": {},
   "source": [
    "And not surprisingly, this agrees with the answer that we saw earlier with the `.median()` function. Now, we can actually input lots of quantiles at once, by specifying a list for the `probs` argument. So lets do that, and get the 25th and 75th percentile:"
   ]
  },
  {
   "cell_type": "code",
   "execution_count": 50,
   "metadata": {},
   "outputs": [
    {
     "data": {
      "text/plain": [
       "0.25    37.0\n",
       "0.75    91.0\n",
       "Name: jol_value, dtype: float64"
      ]
     },
     "execution_count": 50,
     "metadata": {},
     "output_type": "execute_result"
    }
   ],
   "source": [
    "df['jol_value'].quantile(q=[0.25,0.75])"
   ]
  },
  {
   "cell_type": "markdown",
   "metadata": {},
   "source": [
    "We can just subtract them to get the IQR:"
   ]
  },
  {
   "cell_type": "code",
   "execution_count": 55,
   "metadata": {},
   "outputs": [
    {
     "data": {
      "text/plain": [
       "54.0"
      ]
     },
     "execution_count": 55,
     "metadata": {},
     "output_type": "execute_result"
    }
   ],
   "source": [
    "iqr=df['jol_value'].quantile(q=0.75)-df['jol_value'].quantile(q=0.25)\n",
    "iqr"
   ]
  },
  {
   "cell_type": "markdown",
   "metadata": {},
   "source": [
    "While it's obvious how to interpret the range, it's a little less obvious how to interpret the IQR. The simplest way to think about it is like this: the interquartile range is the range spanned by the \"middle half\" of the data. That is, one quarter of the data falls below the 25th percentile, one quarter of the data is above the 75th percentile, leaving the \"middle half\" of the data lying in between the two. And the IQR is the range covered by that middle half."
   ]
  },
  {
   "cell_type": "markdown",
   "metadata": {},
   "source": [
    "### Variance \n",
    "\n",
    "The two measures we’ve looked at so far, the range and the interquartile range, both rely on the idea that we can measure the spread of the data by looking at the quantiles of the data. However, this isn’t the only way to think about the problem. A different approach is to select a meaningful reference point (usually the mean or the median) and then report the “typical” deviations from that reference point. What do we mean by “typical” deviation? Usually, the mean or median value of these deviations!\n",
    "\n",
    "[^variance1]: Well, I will very briefly mention the one that I think is coolest, for a very particular definition of \"cool\", that is. Variances are *additive*. Here's what that means: suppose I have two variables $X$ and $Y$, whose variances are $\\mbox{Var}(X)$ and $\\mbox{Var}(Y)$ respectively. Now imagine I want to define a new variable $Z$ that is the sum of the two, $Z = X+Y$. As it turns out, the variance of $Z$ is equal to $\\mbox{Var}(X) + \\mbox{Var}(Y)$. This is a *very* useful property, but it's not true of the other measures that I talk about in this section.\n",
    "\n",
    "From a purely mathematical perspective, there are some solid reasons to prefer squared deviations rather than absolute deviations. If we do that, we obtain a measure is called the **_variance_**, which has a lot of really nice statistical properties that I'm going to ignore [^variance1], and one massive psychological flaw that I'm going to make a big deal out of in a moment. The variance of a data set $X$ is sometimes written as $\\mbox{Var}(X)$, but it's more commonly denoted $s^2$ (the reason for this will become clearer shortly). The formula that we use to calculate the variance of a set of observations is as follows:\n",
    "\n",
    "$\\mbox{Var}(X) = \\frac{1}{N} \\sum_{i=1}^N \\left( X_i - \\bar{X} \\right)^2$\n",
    "\n",
    "$\\mbox{Var}(X) = \\frac{\\sum_{i=1}^N \\left( X_i - \\bar{X} \\right)^2}{N}$\n",
    "\n",
    "The variance is sometimes referred to as the \"mean square deviation\" because it, well, is the average of the squared deviations from the mean.\n"
   ]
  },
  {
   "cell_type": "markdown",
   "metadata": {},
   "source": [
    "As you might expect by now computing the variance is quite simple in Pandas:"
   ]
  },
  {
   "cell_type": "code",
   "execution_count": 4,
   "metadata": {},
   "outputs": [
    {
     "data": {
      "text/plain": [
       "1016.1205186065329"
      ]
     },
     "execution_count": 4,
     "metadata": {},
     "output_type": "execute_result"
    }
   ],
   "source": [
    "df['jol_value'].var()"
   ]
  },
  {
   "cell_type": "markdown",
   "metadata": {},
   "source": [
    "We can double check this is the right formula by hand taking advantage of the ability of Pandas columns to \"broadcast\" over integers (see [here](../../chapters/05/00-data.html#arithmetic) for a reminder):"
   ]
  },
  {
   "cell_type": "code",
   "execution_count": 10,
   "metadata": {},
   "outputs": [
    {
     "data": {
      "text/plain": [
       "1016.0016741014326"
      ]
     },
     "execution_count": 10,
     "metadata": {},
     "output_type": "execute_result"
    }
   ],
   "source": [
    "((df['jol_value']-df['jol_value'].mean())**2).mean()"
   ]
  },
  {
   "cell_type": "markdown",
   "metadata": {},
   "source": [
    "Oh, weird the numbers are not exactly the same!  What happened?  The reason is that Panda's `.var()` function gives you the **sample variance** by default which computes the formula for variance like this:\n",
    "\n",
    "$\\mbox{Var}(X) = \\frac{\\sum_{i=1}^N \\left( X_i - \\bar{X} \\right)^2}{N-1}$"
   ]
  },
  {
   "cell_type": "markdown",
   "metadata": {},
   "source": [
    "We can force it to use the other formula by manually setting an argument `ddof=0`:"
   ]
  },
  {
   "cell_type": "code",
   "execution_count": 11,
   "metadata": {},
   "outputs": [
    {
     "data": {
      "text/plain": [
       "1016.0016741014326"
      ]
     },
     "execution_count": 11,
     "metadata": {},
     "output_type": "execute_result"
    }
   ],
   "source": [
    "df['jol_value'].var(ddof=0)"
   ]
  },
  {
   "cell_type": "markdown",
   "metadata": {},
   "source": [
    "Read more about the arguments to `.var()` [here](https://pandas.pydata.org/pandas-docs/stable/reference/api/pandas.DataFrame.var.html)."
   ]
  },
  {
   "cell_type": "markdown",
   "metadata": {},
   "source": [
    "So *why* Python is dividing by $N-1$ and not by $N$. After all, the variance is supposed to be the *mean* squared deviation, right? So shouldn't we be dividing by $N$, the actual number of observations in the sample? Well, yes, we should. However, as we'll discuss in an [upcoming chapter](../../chapters/08/02-estimation.html), there's a subtle distinction between \"describing a sample\" and \"making guesses about the population from which the sample came\". Up to this point, it's been a distinction without a difference. Regardless of whether you're describing a sample or drawing inferences about the population, the mean is calculated exactly the same way. Not so for the variance, or the standard deviation, or for many other measures besides. What I outlined to you initially (i.e., take the actual average, and thus divide by $N$) assumes that you literally intend to calculate the variance of the sample. Most of the time, however, you're not terribly interested in the sample *in and of itself*. Rather, the sample exists to tell you something about the world. If so, you're actually starting to move away from calculating a \"sample statistic\", and towards the idea of estimating a \"population parameter\". \n",
    "\n",
    "Okay, one last thing. This section so far has read a bit like a mystery novel. I've shown you how to calculate the variance, described the weird \"$N-1$\" thing that Pandas does and hinted at the reason why it's there, but I haven't mentioned the single most important thing... how do you *interpret* the variance? Descriptive statistics are supposed to describe things, after all, and right now the variance is really just a gibberish number. Unfortunately, the reason why I haven't given you the human-friendly interpretation of the variance is that there really isn't one. This is the most serious problem with the variance. Although it has some elegant mathematical properties that suggest that it really is a fundamental quantity for expressing variation, it's completely useless if you want to communicate with an actual human... variances are completely uninterpretable in terms of the original variable! All the numbers have been squared, and they don't mean anything anymore. This is a huge issue. For instance, according to the table I presented earlier, the margin in game 1 was \"376.36 points-squared higher than the average margin\". This is *exactly* as stupid as it sounds; and so when we calculate a variance of 324.64, we're in the same situation. I've watched a lot of footy games, and never has anyone referred to \"points squared\". It's *not* a real unit of measurement, and since the variance is expressed in terms of this gibberish unit, it is totally meaningless to a human."
   ]
  },
  {
   "cell_type": "markdown",
   "metadata": {},
   "source": [
    "### Standard deviation\n",
    "\n",
    "Okay, suppose that you like the idea of using the variance because of those nice mathematical properties that I haven't talked about, but -- since you're a human and not a robot -- you'd like to have a measure that is expressed in the same units as the data itself (i.e., points, not points-squared). What should you do? The solution to the problem is obvious: take the square root of the variance, known as the **_standard deviation_**, also called the \"root mean squared deviation\", or RMSD. This solves our problem fairly neatly: while nobody has a clue what \"a variance of 324.68 points-squared\" really means, it's much easier to understand \"a standard deviation of 18.01 points\", since it's expressed in the original units. It is traditional to refer to the standard deviation of a sample of data as $s$, though \"sd\" and \"std dev.\" are also used at times. Because the standard deviation is equal to the square root of the variance, you probably won't be surprised to see that the formula is:\n",
    "\n",
    "$s = \\sqrt{ \\frac{1}{N} \\sum_{i=1}^N \\left( X_i - \\bar{X} \\right)^2 }$\n",
    "\n",
    "and the Python function that we use to calculate it is `std()`. However, as you might have guessed from our discussion of the variance, what Python actually calculates is slightly different to the formula given above. Just like the we saw with the variance, what Python calculates is a version that divides by $N-1$ rather than $N$:\n",
    "$$\n",
    "\\hat\\sigma = \\sqrt{ \\frac{1}{N-1} \\sum_{i=1}^N \\left( X_i - \\bar{X} \\right)^2 }\n",
    "$$\n",
    "With that in mind, calculating standard deviations in Python is again simple:"
   ]
  },
  {
   "cell_type": "code",
   "execution_count": 15,
   "metadata": {},
   "outputs": [
    {
     "data": {
      "text/plain": [
       "31.876645347441013"
      ]
     },
     "execution_count": 15,
     "metadata": {},
     "output_type": "execute_result"
    }
   ],
   "source": [
    "df['jol_value'].std()"
   ]
  },
  {
   "cell_type": "code",
   "execution_count": 17,
   "metadata": {},
   "outputs": [
    {
     "data": {
      "text/plain": [
       "31.876645347441013"
      ]
     },
     "execution_count": 17,
     "metadata": {},
     "output_type": "execute_result"
    }
   ],
   "source": [
    "np.sqrt(df['jol_value'].var()) # notice same value!"
   ]
  },
  {
   "cell_type": "markdown",
   "metadata": {},
   "source": [
    "### Which measure to use?\n",
    "\n",
    "We've discussed quite a few measures of spread (range, IQR, variance and standard deviation), and hinted at their strengths and weaknesses. Here's a quick summary:\n",
    "\n",
    "\n",
    "- *Range*. Gives you the full spread of the data. It's very vulnerable to outliers, and as a consequence it isn't often used unless you have good reasons to care about the extremes in the data.\n",
    "- *Interquartile range*. Tells you where the \"middle half\" of the data sits. It's pretty robust, and complements the median nicely. This is used a lot.\n",
    "- *Variance*. Tells you the average squared deviation from the mean. It's mathematically elegant, and is probably the \"right\" way to describe variation around the mean, but it's completely uninterpretable because it doesn't use the same units as the data. Almost never used except as a mathematical tool; but it's buried \"under the hood\" of a very large number of statistical tools.\n",
    "- *Standard deviation*. This is the square root of the variance. It's fairly elegant mathematically, and it's expressed in the same units as the data so it can be interpreted pretty well. In situations where the mean is the measure of central tendency, this is the default. This is by far the most popular measure of variation. \n",
    "\n",
    "In short, the IQR and the standard deviation are easily the two most common measures used to report the variability of the data; but there are situations in which the others are used. I've described a few of them in this book because there's a fair chance you'll run into most of these somewhere."
   ]
  },
  {
   "cell_type": "markdown",
   "metadata": {},
   "source": [
    "## Remember to look at your data\n",
    "\n",
    "Descriptive statistics are great and we will use them a lot in the course to describe data. You may suspect that descriptive statistics also have some short-comings. This is very true. They are compressed summaries of large piles of numbers. They will almost always be unable to represent all of the numbers fairly. There are also different kinds of descriptive statistics that you could use, and it sometimes not clear which one's you should use. \n",
    "\n",
    "Perhaps the most important thing you can do when using descriptives is to use them in combination with looking at the data in a graph form (i.e., [visualization](../../chapters/06/00-plots.html)). This can help you see whether or not your descriptives are doing a good job of representing the data.  For instance remember the discussion from the previous chapter on [Anscombe's Quartet](../../chapters/06/00-plots.html#why-create-visualizations) where we were arguing that visualization provide an important check on the validity of various quantitative summaries of data {cite}`Anscombe1973`.  It is up to you to check that your descriptive statistics reflect the data in a faithful way.  What you might typically do in an analysis is compute descriptive statistics, plot your data, and then so long as everything seems reasonable report only the descriptive statistics in the paper except for the key/most important findings.\n",
    "\n",
    "```{note}\n",
    "If you thought that Anscombe's quartet was neat, you should take a look at the [Datasaurus Dozen](https://www.autodeskresearch.com/publications/samestats) {cite}`matejka2017same`. Scroll down to see the examples. You will be looking at dot plots. The dot plots show many different patterns, including dinosaurs! What's amazing is that all of the dots have very nearly the same descriptive statistics. Just another reminder to look at your data, it might look like a dinosaur!\n",
    "```"
   ]
  },
  {
   "cell_type": "markdown",
   "metadata": {},
   "source": [
    "## Summarizing at different levels"
   ]
  },
  {
   "cell_type": "markdown",
   "metadata": {},
   "source": [
    "So far we have mostly examined how to apply descriptive statistics to the entire column of a dataframe.  However, often we want to apply descriptive statistics to smaller groups of data.  For instance consider the `recall_accuracy` column of the OMNI dataset we have been exploring in this chapter.  This is a 0/1 column coding if the person got a particular word correct at test.  Although we could computed the `.mean()` on this column to find the average accuracy of the entire group of subjects there are several reasons we might not find that as useful.  First is that there are different participants in the dataset and we might be interested in the range of individual performances in the task.  In addition, there was an experimental condition: delay between study and test.  If you compute the mean of the entire `recall_accuracy` column, we will be obscuring how study-test delay might be influencing performance by putting all the data into one summary.  \n",
    "\n",
    "For this reason is it often that we want to apply descriptive statistics to sub-groups of data and then submit these values to further inspection, visualization, description, and analysis.  To do this we will combine a bit of what we learned in the previous chapter on the [Split-apply-combine](../../chapters/05/00-data.html#the-split-apply-combine-workflow) workflow with the information we gained in this chapter about descriptive statistics."
   ]
  },
  {
   "cell_type": "markdown",
   "metadata": {},
   "source": [
    "For instance, let's say we are interested in average memory performance as a function of the delay condition the subjects were in.  One simple way to do this is using `.groupby()` to first group based on condition then to \"apply\" the mean function to each group:"
   ]
  },
  {
   "cell_type": "code",
   "execution_count": 19,
   "metadata": {},
   "outputs": [
    {
     "data": {
      "text/plain": [
       "delay_group\n",
       "A          0.613333\n",
       "C          0.524263\n",
       "E          0.222222\n",
       "F          0.424444\n",
       "H          0.248980\n",
       "PRISMAF    0.373545\n",
       "Name: recall_accuracy, dtype: float64"
      ]
     },
     "execution_count": 19,
     "metadata": {},
     "output_type": "execute_result"
    }
   ],
   "source": [
    "df.groupby(\"delay_group\")['recall_accuracy'].mean()"
   ]
  },
  {
   "cell_type": "markdown",
   "metadata": {},
   "source": [
    "This command does quite a lot so maybe we should step through it.  The first thing to recognize is that this command combines several steps using **chaining** where multiuple methods are computed in a sequence in a single line strung together by dots (`.`).  The first step does a `.groupby()` on the `delay_group` column.  If you remember from our earlier discussion of grouping this will form groups where each group contains all the rows that share the same value on the `delay_group` column (meaning were in the same condition).  Next you see the column indexing operation `['recall_accuracy']` which means we just pulled out the accuracy column.  Then we use `.mean()` to summarize the groups.  This results not in one mean but serveral, one for each group.  As we can see performance was highest in the A group which was the immediate test condition.  Performance was low (~23\\%) in the E and H groups which were 48 hours or more of delay."
   ]
  },
  {
   "cell_type": "markdown",
   "metadata": {},
   "source": [
    "We can easily reorganize this for different analyses.  For instance imagine we want to focus on group A but find how hard different words were.  For this we first select the A group then group by the word pair:"
   ]
  },
  {
   "cell_type": "code",
   "execution_count": 20,
   "metadata": {
    "tags": [
     "output_scroll"
    ]
   },
   "outputs": [
    {
     "data": {
      "text/plain": [
       "lith_word_studied\n",
       "akis         0.90\n",
       "arbata       0.95\n",
       "batas        0.70\n",
       "bugnas       0.65\n",
       "burna        0.70\n",
       "daina        0.60\n",
       "dirzas       0.50\n",
       "duona        0.65\n",
       "gelezis      0.40\n",
       "kamuolys     0.40\n",
       "karalius     0.50\n",
       "kardas       0.45\n",
       "kirvis       0.20\n",
       "knyga        0.70\n",
       "kreida       0.55\n",
       "kriaukle     0.35\n",
       "kumpis       0.55\n",
       "kunigas      0.50\n",
       "laikrodis    0.50\n",
       "laiptelis    0.45\n",
       "lietus       0.45\n",
       "lova         1.00\n",
       "masina       0.55\n",
       "mesa         0.95\n",
       "miestas      0.50\n",
       "mokykla      0.80\n",
       "muilas       0.70\n",
       "nafta        0.80\n",
       "padazas      0.20\n",
       "pastatas     0.90\n",
       "pinigine     0.30\n",
       "plyta        0.55\n",
       "pupa         0.85\n",
       "purvas       0.60\n",
       "rusys        0.75\n",
       "sausainis    0.75\n",
       "sesuo        0.90\n",
       "smegenys     0.70\n",
       "smuikas      0.25\n",
       "tiltas       0.75\n",
       "traukinys    0.90\n",
       "upe          0.85\n",
       "vaistas      0.30\n",
       "varpas       0.15\n",
       "zele         0.95\n",
       "Name: recall_accuracy, dtype: float64"
      ]
     },
     "execution_count": 20,
     "metadata": {},
     "output_type": "execute_result"
    }
   ],
   "source": [
    "df[df['delay_group']=='A'].groupby(\"lith_word_studied\")['recall_accuracy'].mean()"
   ]
  },
  {
   "cell_type": "markdown",
   "metadata": {},
   "source": [
    "In this analysis, we get a much longer list which shows the recall accuracy for each word pair in the experiment."
   ]
  },
  {
   "cell_type": "markdown",
   "metadata": {},
   "source": [
    "We can also group by multiple factors to see how word difficulty changes across the different conditions rather than focusing only on group A:"
   ]
  },
  {
   "cell_type": "code",
   "execution_count": 23,
   "metadata": {},
   "outputs": [
    {
     "data": {
      "text/plain": [
       "delay_group  lith_word_studied\n",
       "A            akis                 0.900000\n",
       "             arbata               0.950000\n",
       "             batas                0.700000\n",
       "             bugnas               0.650000\n",
       "             burna                0.700000\n",
       "                                    ...   \n",
       "PRISMAF      traukinys            0.380952\n",
       "             upe                  0.380952\n",
       "             vaistas              0.238095\n",
       "             varpas               0.238095\n",
       "             zele                 0.428571\n",
       "Name: recall_accuracy, Length: 270, dtype: float64"
      ]
     },
     "execution_count": 23,
     "metadata": {},
     "output_type": "execute_result"
    }
   ],
   "source": [
    "df.groupby([\"delay_group\",\"lith_word_studied\"])['recall_accuracy'].mean()"
   ]
  },
  {
   "cell_type": "markdown",
   "metadata": {},
   "source": [
    "The output for this one is too long, but we can do a few minor transformations of the data (using `.unstack()` to get rid of the heirarchical index, and `.transpose()` to swap the rows and columns), which gives us a nicer view of how each word varies across condition."
   ]
  },
  {
   "cell_type": "code",
   "execution_count": 25,
   "metadata": {
    "tags": [
     "output_scroll"
    ]
   },
   "outputs": [
    {
     "data": {
      "text/html": [
       "<div>\n",
       "<style scoped>\n",
       "    .dataframe tbody tr th:only-of-type {\n",
       "        vertical-align: middle;\n",
       "    }\n",
       "\n",
       "    .dataframe tbody tr th {\n",
       "        vertical-align: top;\n",
       "    }\n",
       "\n",
       "    .dataframe thead th {\n",
       "        text-align: right;\n",
       "    }\n",
       "</style>\n",
       "<table border=\"1\" class=\"dataframe\">\n",
       "  <thead>\n",
       "    <tr style=\"text-align: right;\">\n",
       "      <th>delay_group</th>\n",
       "      <th>A</th>\n",
       "      <th>C</th>\n",
       "      <th>E</th>\n",
       "      <th>F</th>\n",
       "      <th>H</th>\n",
       "      <th>PRISMAF</th>\n",
       "    </tr>\n",
       "    <tr>\n",
       "      <th>lith_word_studied</th>\n",
       "      <th></th>\n",
       "      <th></th>\n",
       "      <th></th>\n",
       "      <th></th>\n",
       "      <th></th>\n",
       "      <th></th>\n",
       "    </tr>\n",
       "  </thead>\n",
       "  <tbody>\n",
       "    <tr>\n",
       "      <th>akis</th>\n",
       "      <td>0.90</td>\n",
       "      <td>0.714286</td>\n",
       "      <td>0.0</td>\n",
       "      <td>0.58</td>\n",
       "      <td>0.306122</td>\n",
       "      <td>0.523810</td>\n",
       "    </tr>\n",
       "    <tr>\n",
       "      <th>arbata</th>\n",
       "      <td>0.95</td>\n",
       "      <td>0.591837</td>\n",
       "      <td>0.0</td>\n",
       "      <td>0.44</td>\n",
       "      <td>0.204082</td>\n",
       "      <td>0.428571</td>\n",
       "    </tr>\n",
       "    <tr>\n",
       "      <th>batas</th>\n",
       "      <td>0.70</td>\n",
       "      <td>0.530612</td>\n",
       "      <td>0.0</td>\n",
       "      <td>0.34</td>\n",
       "      <td>0.346939</td>\n",
       "      <td>0.428571</td>\n",
       "    </tr>\n",
       "    <tr>\n",
       "      <th>bugnas</th>\n",
       "      <td>0.65</td>\n",
       "      <td>0.510204</td>\n",
       "      <td>1.0</td>\n",
       "      <td>0.50</td>\n",
       "      <td>0.244898</td>\n",
       "      <td>0.333333</td>\n",
       "    </tr>\n",
       "    <tr>\n",
       "      <th>burna</th>\n",
       "      <td>0.70</td>\n",
       "      <td>0.632653</td>\n",
       "      <td>0.0</td>\n",
       "      <td>0.54</td>\n",
       "      <td>0.204082</td>\n",
       "      <td>0.428571</td>\n",
       "    </tr>\n",
       "    <tr>\n",
       "      <th>daina</th>\n",
       "      <td>0.60</td>\n",
       "      <td>0.591837</td>\n",
       "      <td>0.0</td>\n",
       "      <td>0.46</td>\n",
       "      <td>0.387755</td>\n",
       "      <td>0.428571</td>\n",
       "    </tr>\n",
       "    <tr>\n",
       "      <th>dirzas</th>\n",
       "      <td>0.50</td>\n",
       "      <td>0.367347</td>\n",
       "      <td>0.0</td>\n",
       "      <td>0.30</td>\n",
       "      <td>0.183673</td>\n",
       "      <td>0.238095</td>\n",
       "    </tr>\n",
       "    <tr>\n",
       "      <th>duona</th>\n",
       "      <td>0.65</td>\n",
       "      <td>0.530612</td>\n",
       "      <td>0.0</td>\n",
       "      <td>0.42</td>\n",
       "      <td>0.244898</td>\n",
       "      <td>0.333333</td>\n",
       "    </tr>\n",
       "    <tr>\n",
       "      <th>gelezis</th>\n",
       "      <td>0.40</td>\n",
       "      <td>0.408163</td>\n",
       "      <td>0.0</td>\n",
       "      <td>0.24</td>\n",
       "      <td>0.122449</td>\n",
       "      <td>0.285714</td>\n",
       "    </tr>\n",
       "    <tr>\n",
       "      <th>kamuolys</th>\n",
       "      <td>0.40</td>\n",
       "      <td>0.367347</td>\n",
       "      <td>0.0</td>\n",
       "      <td>0.20</td>\n",
       "      <td>0.061224</td>\n",
       "      <td>0.190476</td>\n",
       "    </tr>\n",
       "    <tr>\n",
       "      <th>karalius</th>\n",
       "      <td>0.50</td>\n",
       "      <td>0.551020</td>\n",
       "      <td>1.0</td>\n",
       "      <td>0.52</td>\n",
       "      <td>0.285714</td>\n",
       "      <td>0.428571</td>\n",
       "    </tr>\n",
       "    <tr>\n",
       "      <th>kardas</th>\n",
       "      <td>0.45</td>\n",
       "      <td>0.428571</td>\n",
       "      <td>1.0</td>\n",
       "      <td>0.34</td>\n",
       "      <td>0.265306</td>\n",
       "      <td>0.428571</td>\n",
       "    </tr>\n",
       "    <tr>\n",
       "      <th>kirvis</th>\n",
       "      <td>0.20</td>\n",
       "      <td>0.408163</td>\n",
       "      <td>0.0</td>\n",
       "      <td>0.26</td>\n",
       "      <td>0.204082</td>\n",
       "      <td>0.190476</td>\n",
       "    </tr>\n",
       "    <tr>\n",
       "      <th>knyga</th>\n",
       "      <td>0.70</td>\n",
       "      <td>0.489796</td>\n",
       "      <td>0.0</td>\n",
       "      <td>0.36</td>\n",
       "      <td>0.244898</td>\n",
       "      <td>0.333333</td>\n",
       "    </tr>\n",
       "    <tr>\n",
       "      <th>kreida</th>\n",
       "      <td>0.55</td>\n",
       "      <td>0.408163</td>\n",
       "      <td>1.0</td>\n",
       "      <td>0.32</td>\n",
       "      <td>0.306122</td>\n",
       "      <td>0.428571</td>\n",
       "    </tr>\n",
       "    <tr>\n",
       "      <th>kriaukle</th>\n",
       "      <td>0.35</td>\n",
       "      <td>0.265306</td>\n",
       "      <td>1.0</td>\n",
       "      <td>0.16</td>\n",
       "      <td>0.081633</td>\n",
       "      <td>0.238095</td>\n",
       "    </tr>\n",
       "    <tr>\n",
       "      <th>kumpis</th>\n",
       "      <td>0.55</td>\n",
       "      <td>0.346939</td>\n",
       "      <td>0.0</td>\n",
       "      <td>0.28</td>\n",
       "      <td>0.122449</td>\n",
       "      <td>0.190476</td>\n",
       "    </tr>\n",
       "    <tr>\n",
       "      <th>kunigas</th>\n",
       "      <td>0.50</td>\n",
       "      <td>0.387755</td>\n",
       "      <td>0.0</td>\n",
       "      <td>0.34</td>\n",
       "      <td>0.224490</td>\n",
       "      <td>0.333333</td>\n",
       "    </tr>\n",
       "    <tr>\n",
       "      <th>laikrodis</th>\n",
       "      <td>0.50</td>\n",
       "      <td>0.265306</td>\n",
       "      <td>0.0</td>\n",
       "      <td>0.18</td>\n",
       "      <td>0.142857</td>\n",
       "      <td>0.190476</td>\n",
       "    </tr>\n",
       "    <tr>\n",
       "      <th>laiptelis</th>\n",
       "      <td>0.45</td>\n",
       "      <td>0.265306</td>\n",
       "      <td>0.0</td>\n",
       "      <td>0.34</td>\n",
       "      <td>0.122449</td>\n",
       "      <td>0.238095</td>\n",
       "    </tr>\n",
       "    <tr>\n",
       "      <th>lietus</th>\n",
       "      <td>0.45</td>\n",
       "      <td>0.326531</td>\n",
       "      <td>0.0</td>\n",
       "      <td>0.42</td>\n",
       "      <td>0.122449</td>\n",
       "      <td>0.285714</td>\n",
       "    </tr>\n",
       "    <tr>\n",
       "      <th>lova</th>\n",
       "      <td>1.00</td>\n",
       "      <td>0.857143</td>\n",
       "      <td>0.0</td>\n",
       "      <td>0.70</td>\n",
       "      <td>0.489796</td>\n",
       "      <td>0.523810</td>\n",
       "    </tr>\n",
       "    <tr>\n",
       "      <th>masina</th>\n",
       "      <td>0.55</td>\n",
       "      <td>0.448980</td>\n",
       "      <td>0.0</td>\n",
       "      <td>0.44</td>\n",
       "      <td>0.142857</td>\n",
       "      <td>0.380952</td>\n",
       "    </tr>\n",
       "    <tr>\n",
       "      <th>mesa</th>\n",
       "      <td>0.95</td>\n",
       "      <td>0.918367</td>\n",
       "      <td>1.0</td>\n",
       "      <td>0.82</td>\n",
       "      <td>0.653061</td>\n",
       "      <td>0.523810</td>\n",
       "    </tr>\n",
       "    <tr>\n",
       "      <th>miestas</th>\n",
       "      <td>0.50</td>\n",
       "      <td>0.530612</td>\n",
       "      <td>0.0</td>\n",
       "      <td>0.34</td>\n",
       "      <td>0.265306</td>\n",
       "      <td>0.285714</td>\n",
       "    </tr>\n",
       "    <tr>\n",
       "      <th>mokykla</th>\n",
       "      <td>0.80</td>\n",
       "      <td>0.693878</td>\n",
       "      <td>0.0</td>\n",
       "      <td>0.60</td>\n",
       "      <td>0.387755</td>\n",
       "      <td>0.666667</td>\n",
       "    </tr>\n",
       "    <tr>\n",
       "      <th>muilas</th>\n",
       "      <td>0.70</td>\n",
       "      <td>0.469388</td>\n",
       "      <td>0.0</td>\n",
       "      <td>0.28</td>\n",
       "      <td>0.183673</td>\n",
       "      <td>0.285714</td>\n",
       "    </tr>\n",
       "    <tr>\n",
       "      <th>nafta</th>\n",
       "      <td>0.80</td>\n",
       "      <td>0.693878</td>\n",
       "      <td>1.0</td>\n",
       "      <td>0.64</td>\n",
       "      <td>0.428571</td>\n",
       "      <td>0.666667</td>\n",
       "    </tr>\n",
       "    <tr>\n",
       "      <th>padazas</th>\n",
       "      <td>0.20</td>\n",
       "      <td>0.306122</td>\n",
       "      <td>0.0</td>\n",
       "      <td>0.18</td>\n",
       "      <td>0.040816</td>\n",
       "      <td>0.142857</td>\n",
       "    </tr>\n",
       "    <tr>\n",
       "      <th>pastatas</th>\n",
       "      <td>0.90</td>\n",
       "      <td>0.795918</td>\n",
       "      <td>1.0</td>\n",
       "      <td>0.74</td>\n",
       "      <td>0.510204</td>\n",
       "      <td>0.571429</td>\n",
       "    </tr>\n",
       "    <tr>\n",
       "      <th>pinigine</th>\n",
       "      <td>0.30</td>\n",
       "      <td>0.469388</td>\n",
       "      <td>0.0</td>\n",
       "      <td>0.32</td>\n",
       "      <td>0.061224</td>\n",
       "      <td>0.142857</td>\n",
       "    </tr>\n",
       "    <tr>\n",
       "      <th>plyta</th>\n",
       "      <td>0.55</td>\n",
       "      <td>0.367347</td>\n",
       "      <td>0.0</td>\n",
       "      <td>0.26</td>\n",
       "      <td>0.163265</td>\n",
       "      <td>0.238095</td>\n",
       "    </tr>\n",
       "    <tr>\n",
       "      <th>pupa</th>\n",
       "      <td>0.85</td>\n",
       "      <td>0.734694</td>\n",
       "      <td>1.0</td>\n",
       "      <td>0.66</td>\n",
       "      <td>0.346939</td>\n",
       "      <td>0.761905</td>\n",
       "    </tr>\n",
       "    <tr>\n",
       "      <th>purvas</th>\n",
       "      <td>0.60</td>\n",
       "      <td>0.591837</td>\n",
       "      <td>0.0</td>\n",
       "      <td>0.42</td>\n",
       "      <td>0.265306</td>\n",
       "      <td>0.476190</td>\n",
       "    </tr>\n",
       "    <tr>\n",
       "      <th>rusys</th>\n",
       "      <td>0.75</td>\n",
       "      <td>0.591837</td>\n",
       "      <td>0.0</td>\n",
       "      <td>0.46</td>\n",
       "      <td>0.163265</td>\n",
       "      <td>0.238095</td>\n",
       "    </tr>\n",
       "    <tr>\n",
       "      <th>sausainis</th>\n",
       "      <td>0.75</td>\n",
       "      <td>0.632653</td>\n",
       "      <td>0.0</td>\n",
       "      <td>0.50</td>\n",
       "      <td>0.306122</td>\n",
       "      <td>0.380952</td>\n",
       "    </tr>\n",
       "    <tr>\n",
       "      <th>sesuo</th>\n",
       "      <td>0.90</td>\n",
       "      <td>0.795918</td>\n",
       "      <td>0.0</td>\n",
       "      <td>0.60</td>\n",
       "      <td>0.428571</td>\n",
       "      <td>0.666667</td>\n",
       "    </tr>\n",
       "    <tr>\n",
       "      <th>smegenys</th>\n",
       "      <td>0.70</td>\n",
       "      <td>0.653061</td>\n",
       "      <td>0.0</td>\n",
       "      <td>0.50</td>\n",
       "      <td>0.265306</td>\n",
       "      <td>0.476190</td>\n",
       "    </tr>\n",
       "    <tr>\n",
       "      <th>smuikas</th>\n",
       "      <td>0.25</td>\n",
       "      <td>0.326531</td>\n",
       "      <td>0.0</td>\n",
       "      <td>0.14</td>\n",
       "      <td>0.163265</td>\n",
       "      <td>0.380952</td>\n",
       "    </tr>\n",
       "    <tr>\n",
       "      <th>tiltas</th>\n",
       "      <td>0.75</td>\n",
       "      <td>0.530612</td>\n",
       "      <td>0.0</td>\n",
       "      <td>0.54</td>\n",
       "      <td>0.306122</td>\n",
       "      <td>0.428571</td>\n",
       "    </tr>\n",
       "    <tr>\n",
       "      <th>traukinys</th>\n",
       "      <td>0.90</td>\n",
       "      <td>0.714286</td>\n",
       "      <td>0.0</td>\n",
       "      <td>0.62</td>\n",
       "      <td>0.285714</td>\n",
       "      <td>0.380952</td>\n",
       "    </tr>\n",
       "    <tr>\n",
       "      <th>upe</th>\n",
       "      <td>0.85</td>\n",
       "      <td>0.693878</td>\n",
       "      <td>0.0</td>\n",
       "      <td>0.52</td>\n",
       "      <td>0.306122</td>\n",
       "      <td>0.380952</td>\n",
       "    </tr>\n",
       "    <tr>\n",
       "      <th>vaistas</th>\n",
       "      <td>0.30</td>\n",
       "      <td>0.387755</td>\n",
       "      <td>0.0</td>\n",
       "      <td>0.38</td>\n",
       "      <td>0.061224</td>\n",
       "      <td>0.238095</td>\n",
       "    </tr>\n",
       "    <tr>\n",
       "      <th>varpas</th>\n",
       "      <td>0.15</td>\n",
       "      <td>0.204082</td>\n",
       "      <td>1.0</td>\n",
       "      <td>0.14</td>\n",
       "      <td>0.122449</td>\n",
       "      <td>0.238095</td>\n",
       "    </tr>\n",
       "    <tr>\n",
       "      <th>zele</th>\n",
       "      <td>0.95</td>\n",
       "      <td>0.795918</td>\n",
       "      <td>0.0</td>\n",
       "      <td>0.76</td>\n",
       "      <td>0.428571</td>\n",
       "      <td>0.428571</td>\n",
       "    </tr>\n",
       "  </tbody>\n",
       "</table>\n",
       "</div>"
      ],
      "text/plain": [
       "delay_group           A         C    E     F         H   PRISMAF\n",
       "lith_word_studied                                               \n",
       "akis               0.90  0.714286  0.0  0.58  0.306122  0.523810\n",
       "arbata             0.95  0.591837  0.0  0.44  0.204082  0.428571\n",
       "batas              0.70  0.530612  0.0  0.34  0.346939  0.428571\n",
       "bugnas             0.65  0.510204  1.0  0.50  0.244898  0.333333\n",
       "burna              0.70  0.632653  0.0  0.54  0.204082  0.428571\n",
       "daina              0.60  0.591837  0.0  0.46  0.387755  0.428571\n",
       "dirzas             0.50  0.367347  0.0  0.30  0.183673  0.238095\n",
       "duona              0.65  0.530612  0.0  0.42  0.244898  0.333333\n",
       "gelezis            0.40  0.408163  0.0  0.24  0.122449  0.285714\n",
       "kamuolys           0.40  0.367347  0.0  0.20  0.061224  0.190476\n",
       "karalius           0.50  0.551020  1.0  0.52  0.285714  0.428571\n",
       "kardas             0.45  0.428571  1.0  0.34  0.265306  0.428571\n",
       "kirvis             0.20  0.408163  0.0  0.26  0.204082  0.190476\n",
       "knyga              0.70  0.489796  0.0  0.36  0.244898  0.333333\n",
       "kreida             0.55  0.408163  1.0  0.32  0.306122  0.428571\n",
       "kriaukle           0.35  0.265306  1.0  0.16  0.081633  0.238095\n",
       "kumpis             0.55  0.346939  0.0  0.28  0.122449  0.190476\n",
       "kunigas            0.50  0.387755  0.0  0.34  0.224490  0.333333\n",
       "laikrodis          0.50  0.265306  0.0  0.18  0.142857  0.190476\n",
       "laiptelis          0.45  0.265306  0.0  0.34  0.122449  0.238095\n",
       "lietus             0.45  0.326531  0.0  0.42  0.122449  0.285714\n",
       "lova               1.00  0.857143  0.0  0.70  0.489796  0.523810\n",
       "masina             0.55  0.448980  0.0  0.44  0.142857  0.380952\n",
       "mesa               0.95  0.918367  1.0  0.82  0.653061  0.523810\n",
       "miestas            0.50  0.530612  0.0  0.34  0.265306  0.285714\n",
       "mokykla            0.80  0.693878  0.0  0.60  0.387755  0.666667\n",
       "muilas             0.70  0.469388  0.0  0.28  0.183673  0.285714\n",
       "nafta              0.80  0.693878  1.0  0.64  0.428571  0.666667\n",
       "padazas            0.20  0.306122  0.0  0.18  0.040816  0.142857\n",
       "pastatas           0.90  0.795918  1.0  0.74  0.510204  0.571429\n",
       "pinigine           0.30  0.469388  0.0  0.32  0.061224  0.142857\n",
       "plyta              0.55  0.367347  0.0  0.26  0.163265  0.238095\n",
       "pupa               0.85  0.734694  1.0  0.66  0.346939  0.761905\n",
       "purvas             0.60  0.591837  0.0  0.42  0.265306  0.476190\n",
       "rusys              0.75  0.591837  0.0  0.46  0.163265  0.238095\n",
       "sausainis          0.75  0.632653  0.0  0.50  0.306122  0.380952\n",
       "sesuo              0.90  0.795918  0.0  0.60  0.428571  0.666667\n",
       "smegenys           0.70  0.653061  0.0  0.50  0.265306  0.476190\n",
       "smuikas            0.25  0.326531  0.0  0.14  0.163265  0.380952\n",
       "tiltas             0.75  0.530612  0.0  0.54  0.306122  0.428571\n",
       "traukinys          0.90  0.714286  0.0  0.62  0.285714  0.380952\n",
       "upe                0.85  0.693878  0.0  0.52  0.306122  0.380952\n",
       "vaistas            0.30  0.387755  0.0  0.38  0.061224  0.238095\n",
       "varpas             0.15  0.204082  1.0  0.14  0.122449  0.238095\n",
       "zele               0.95  0.795918  0.0  0.76  0.428571  0.428571"
      ]
     },
     "execution_count": 25,
     "metadata": {},
     "output_type": "execute_result"
    }
   ],
   "source": [
    "df.groupby([\"delay_group\",\"lith_word_studied\"])['recall_accuracy'].mean().unstack().transpose()"
   ]
  },
  {
   "cell_type": "markdown",
   "metadata": {},
   "source": [
    "Of course, one of the most important transformation is to find the accuracy per-subject (since subjects are often our unit of analysis).  In this case we might like to compute the average performance of each person but copy over several of the other attributes such as the condition.  For this we are going to use a more complex command called [named aggregation](https://pandas.pydata.org/pandas-docs/stable/user_guide/groupby.html#named-aggregation) which results in a new dataframe that is \"tidy\" in the sense of each row being an observation (person) and each column being a descriptor or variable but we got rid of the individual trials here and replaced them with the average across the trials.  This is a very common type of step in behavior data analysis."
   ]
  },
  {
   "cell_type": "code",
   "execution_count": 37,
   "metadata": {},
   "outputs": [
    {
     "data": {
      "text/html": [
       "<div>\n",
       "<style scoped>\n",
       "    .dataframe tbody tr th:only-of-type {\n",
       "        vertical-align: middle;\n",
       "    }\n",
       "\n",
       "    .dataframe tbody tr th {\n",
       "        vertical-align: top;\n",
       "    }\n",
       "\n",
       "    .dataframe thead th {\n",
       "        text-align: right;\n",
       "    }\n",
       "</style>\n",
       "<table border=\"1\" class=\"dataframe\">\n",
       "  <thead>\n",
       "    <tr style=\"text-align: right;\">\n",
       "      <th></th>\n",
       "      <th>participant_id</th>\n",
       "      <th>delay_group</th>\n",
       "      <th>recall_accuracy</th>\n",
       "    </tr>\n",
       "  </thead>\n",
       "  <tbody>\n",
       "    <tr>\n",
       "      <th>0</th>\n",
       "      <td>A1</td>\n",
       "      <td>A</td>\n",
       "      <td>0.644444</td>\n",
       "    </tr>\n",
       "    <tr>\n",
       "      <th>1</th>\n",
       "      <td>A10</td>\n",
       "      <td>A</td>\n",
       "      <td>0.555556</td>\n",
       "    </tr>\n",
       "    <tr>\n",
       "      <th>2</th>\n",
       "      <td>A11</td>\n",
       "      <td>A</td>\n",
       "      <td>0.444444</td>\n",
       "    </tr>\n",
       "    <tr>\n",
       "      <th>3</th>\n",
       "      <td>A12</td>\n",
       "      <td>A</td>\n",
       "      <td>0.955556</td>\n",
       "    </tr>\n",
       "    <tr>\n",
       "      <th>4</th>\n",
       "      <td>A13</td>\n",
       "      <td>A</td>\n",
       "      <td>0.400000</td>\n",
       "    </tr>\n",
       "    <tr>\n",
       "      <th>...</th>\n",
       "      <td>...</td>\n",
       "      <td>...</td>\n",
       "      <td>...</td>\n",
       "    </tr>\n",
       "    <tr>\n",
       "      <th>185</th>\n",
       "      <td>PRISMAF28</td>\n",
       "      <td>PRISMAF</td>\n",
       "      <td>0.244444</td>\n",
       "    </tr>\n",
       "    <tr>\n",
       "      <th>186</th>\n",
       "      <td>PRISMAF29</td>\n",
       "      <td>PRISMAF</td>\n",
       "      <td>0.644444</td>\n",
       "    </tr>\n",
       "    <tr>\n",
       "      <th>187</th>\n",
       "      <td>PRISMAF30</td>\n",
       "      <td>PRISMAF</td>\n",
       "      <td>0.866667</td>\n",
       "    </tr>\n",
       "    <tr>\n",
       "      <th>188</th>\n",
       "      <td>PRISMAF31</td>\n",
       "      <td>PRISMAF</td>\n",
       "      <td>0.511111</td>\n",
       "    </tr>\n",
       "    <tr>\n",
       "      <th>189</th>\n",
       "      <td>PRISMAF32</td>\n",
       "      <td>PRISMAF</td>\n",
       "      <td>0.222222</td>\n",
       "    </tr>\n",
       "  </tbody>\n",
       "</table>\n",
       "<p>190 rows × 3 columns</p>\n",
       "</div>"
      ],
      "text/plain": [
       "    participant_id delay_group  recall_accuracy\n",
       "0               A1           A         0.644444\n",
       "1              A10           A         0.555556\n",
       "2              A11           A         0.444444\n",
       "3              A12           A         0.955556\n",
       "4              A13           A         0.400000\n",
       "..             ...         ...              ...\n",
       "185      PRISMAF28     PRISMAF         0.244444\n",
       "186      PRISMAF29     PRISMAF         0.644444\n",
       "187      PRISMAF30     PRISMAF         0.866667\n",
       "188      PRISMAF31     PRISMAF         0.511111\n",
       "189      PRISMAF32     PRISMAF         0.222222\n",
       "\n",
       "[190 rows x 3 columns]"
      ]
     },
     "execution_count": 37,
     "metadata": {},
     "output_type": "execute_result"
    }
   ],
   "source": [
    "df.groupby(\"participant_id\").agg(delay_group=pd.NamedAgg(column='delay_group', aggfunc='first'),\n",
    "                                 recall_accuracy=pd.NamedAgg(column='recall_accuracy', aggfunc='mean')).reset_index()"
   ]
  },
  {
   "cell_type": "markdown",
   "metadata": {},
   "source": [
    "Explaining all the ins and out of aggregating descriptive statistics is beyond the scope here.  In reality is it something you have to kind of wrestle with sometimes when working with data.  However, hopefully knowledge about a few of these commands and the general operations available to you can help you think forward about how best to design a data transformation for your problem."
   ]
  },
  {
   "cell_type": "markdown",
   "metadata": {},
   "source": [
    "## Creating your own custom descriptive statistics\n",
    "\n",
    "In addition to the standard statistics like mean, median, variance, etc... it is possible to compute custom descriptive statistics on your data.  This sometimes comes up in the context of a psychology experiment where something like \"proportion of learning blocks where people reached some criterion\" might be your statistic.  In those cases you might need to write a custom definition of a statistic and apply it to your data.\n",
    "\n",
    "One way to do this in Pandas is with the `.apply()` function (docs [here](https://pandas.pydata.org/pandas-docs/stable/user_guide/groupby.html#flexible-apply)).  Let's look at an example by using `.apply()` to compute a custom variation measure called the mean absolute deviation.  This is related to the mean squared deviation used in the normal variance but instead of squaring the numbers we take their absolute value."
   ]
  },
  {
   "cell_type": "code",
   "execution_count": 54,
   "metadata": {},
   "outputs": [
    {
     "data": {
      "text/plain": [
       "participant_id\n",
       "A1           13.556543\n",
       "A10          25.723457\n",
       "A11          16.192593\n",
       "A12           4.933333\n",
       "A13          20.847407\n",
       "               ...    \n",
       "PRISMAF28    23.782716\n",
       "PRISMAF29    18.267654\n",
       "PRISMAF30    21.901235\n",
       "PRISMAF31    10.641975\n",
       "PRISMAF32    23.976296\n",
       "Name: jol_value, Length: 190, dtype: float64"
      ]
     },
     "execution_count": 54,
     "metadata": {},
     "output_type": "execute_result"
    }
   ],
   "source": [
    "def mean_absolute_deviation(x):\n",
    "    return np.mean(np.abs(x-x.mean()))\n",
    "df.groupby('participant_id')['jol_value'].apply(mean_absolute_deviation)"
   ]
  },
  {
   "cell_type": "markdown",
   "metadata": {},
   "source": [
    "In this cell we defined a new function which takes as input a vector of data `x` and the computes the mean absolute deviation using Numpy functions (e.g., `np.abs` is the absolute value, and `np.mean` is another function for computing a mean).  Then we grouped the data by `participant_id`, selected the `jol_value` column and `.apply()` the custom function we wrote."
   ]
  },
  {
   "cell_type": "markdown",
   "metadata": {},
   "source": [
    "## Correlations and Covariance\n",
    "\n",
    ">\"Correlation does not equal causation.\" ---Every statistics and research methods instructor ever\n",
    "\n",
    "Up to this point we have focused entirely on how to construct descriptive statistics for a single variable. What we haven't done is talked about how to describe the relationships *between* variables in the data. To do that, we want to talk mostly about the **_correlation_** between variables. This is also a descriptive statistic in the traditional definition, but here described the relationship between two variables rather than summarizing the properties of just a single variable.\n",
    "\n",
    "### The strength and direction of a relationship"
   ]
  },
  {
   "cell_type": "markdown",
   "metadata": {},
   "source": [
    "We can draw scatterplots to give us a general sense of how closely related two variables are. For example, we can first you the split-apply-combine workflow to organize the data into the average JOL and average recall accuracy for each word and store this in a new dataframe:"
   ]
  },
  {
   "cell_type": "code",
   "execution_count": 29,
   "metadata": {},
   "outputs": [],
   "source": [
    "corr_df=df.groupby(\"lith_word_studied\")[['jol_value','recall_accuracy']].mean().reset_index()"
   ]
  },
  {
   "cell_type": "code",
   "execution_count": 61,
   "metadata": {},
   "outputs": [
    {
     "data": {
      "text/plain": [
       "<matplotlib.axes._subplots.AxesSubplot at 0x12b7444a8>"
      ]
     },
     "execution_count": 61,
     "metadata": {},
     "output_type": "execute_result"
    },
    {
     "data": {
      "image/png": "[encoded data removed]",
      "text/plain": [
       "<Figure size 432x288 with 1 Axes>"
      ]
     },
     "metadata": {
      "needs_background": "light"
     },
     "output_type": "display_data"
    }
   ],
   "source": [
    "sns.scatterplot(x='jol_value', y='recall_accuracy', data=corr_df)"
   ]
  },
  {
   "cell_type": "markdown",
   "metadata": {},
   "source": [
    "This scatter plot shows that the average JOL rating seems to be related to recall accuracy such that higher JOL ratings were given to word that were more accurately remembered.  This suggests that people have some reasonably calibrated \"meta-cognition\" about how well they learned something.  What is your JOL for the material in this chapter?"
   ]
  },
  {
   "cell_type": "markdown",
   "metadata": {},
   "source": [
    "### The correlation coefficient\n",
    "\n",
    "We can make these ideas a bit more explicit by introducing the idea of a **_correlation coefficient_** (or, more specifically, Pearson's correlation coefficient), which is traditionally denoted by $r$. The correlation coefficient between two variables $X$ and $Y$ (sometimes denoted $r_{XY}$), which we'll define more precisely in the next section, is a measure that varies from $-1$ to $1$. When $r = -1$ it means that we have a perfect negative relationship, and when $r = 1$ it means we have a perfect positive relationship. When $r = 0$, there's no relationship at all. If you look at {numref}`fig:corr`, you can see several plots showing what different correlations look like."
   ]
  },
  {
   "cell_type": "code",
   "execution_count": 26,
   "metadata": {
    "tags": [
     "hide-cell"
    ]
   },
   "outputs": [
    {
     "data": {
      "application/papermill.record/image/png": "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\n",
      "application/papermill.record/text/plain": "<Figure size 432x864 with 8 Axes>"
     },
     "metadata": {
      "scrapbook": {
       "mime_prefix": "application/papermill.record/",
       "name": "cor_fig"
      }
     },
     "output_type": "display_data"
    },
    {
     "data": {
      "image/png": "[encoded data removed]",
      "text/plain": [
       "<Figure size 432x864 with 8 Axes>"
      ]
     },
     "metadata": {
      "needs_background": "light"
     },
     "output_type": "display_data"
    }
   ],
   "source": [
    "import numpy.random as npr\n",
    "fig, ax=plt.subplots(4,2,figsize=(6,12),sharex='all', sharey='all')\n",
    "axes = ax.ravel()\n",
    "\n",
    "for idx, cor in enumerate([0,0,0.33,-0.33,0.66,-0.66,1,-1]):\n",
    "    df=pd.DataFrame(npr.multivariate_normal([0,0], cov=np.array([[1,cor],[cor,1]]), size=100), columns=[\"x\",\"y\"] )\n",
    "    sns.scatterplot(x='x', y='y',data=df,  ax=axes[idx])\n",
    "    axes[idx].set_title(f\"r = {cor:.2f}\")\n",
    "plt.tight_layout()\n",
    "\n",
    "glue(\"cor_fig\",fig,display=False)"
   ]
  },
  {
   "cell_type": "markdown",
   "metadata": {},
   "source": [
    "```{glue:figure} cor_fig\n",
    ":figwidth: 400px\n",
    ":name: \"fig:corr\"\n",
    "\n",
    "Illustration of the effect of varying the strength and direction of a correlation\n",
    "```"
   ]
  },
  {
   "cell_type": "markdown",
   "metadata": {},
   "source": [
    "The formula for the Pearson's correlation coefficient can be written in several different ways. I think the simplest way to write down the formula is to break it into two steps. Firstly, let's introduce the idea of a **_covariance_**. The covariance between two variables $X$ and $Y$ is a generalization of the notion of the variance; it's a mathematically simple way of describing the relationship between two variables that isn't terribly informative to humans:\n",
    "\n",
    "$\n",
    "\\mbox{Cov}(X,Y) = \\frac{1}{N-1} \\sum_{i=1}^N \\left( X_i - \\bar{X} \\right) \\left( Y_i - \\bar{Y} \\right)\n",
    "$\n",
    "\n",
    "Because we're multiplying (i.e., taking the \"product\" of) a quantity that depends on $X$ by a quantity that depends on $Y$ and then averaging [^covariance], you can think of the formula for the covariance as an \"average cross product\" between $X$ and $Y$. The covariance has the nice property that, if $X$ and $Y$ are entirely unrelated, then the covariance is exactly zero. If the relationship between them is positive (in the sense shown in {numref}`fig:corr`) then the covariance is also positive; and if the relationship is negative then the covariance is also negative. In other words, the covariance captures the basic qualitative idea of correlation. Unfortunately, the raw magnitude of the covariance isn't easy to interpret: it depends on the units in which $X$ and $Y$ are expressed, and worse yet, the actual units that the covariance itself is expressed in are really weird. For instance, if $X$ refers to the `jol_value` variable (units: rating points on a judgement) and $Y$ refers to the `recall_accuracy` variable (units: proportion accurate), then the units for their covariance are \"rating points $\\times$ accuracy\". And I have no freaking idea what that would even mean. \n",
    "\n",
    "[^covariance]: Just like we saw with the variance and the standard deviation, in practice we divide by $N-1$ rather than $N$.\n",
    "\n",
    "The Pearson correlation coefficient $r$ fixes this interpretation problem by standardizing the covariance, in pretty much the exact same way that the $z$-score standardizes a raw score: by dividing by the standard deviation. However, because we have two variables that contribute to the covariance, the standardization only works if we divide by both standard deviations [^corsimple].  In other words, the correlation between $X$ and $Y$ can be written as follows:\n",
    "\n",
    "$\n",
    "r_{XY}  = \\frac{\\mbox{Cov}(X,Y)}{ \\hat{\\sigma}_X \\ \\hat{\\sigma}_Y}\n",
    "$\n",
    "\n",
    "By doing this standardization, not only do we keep all of the nice properties of the covariance discussed earlier, but the actual values of $r$ are on a meaningful scale: $r= 1$ implies a perfect positive relationship, and $r = -1$ implies a perfect negative relationship. I'll expand a little more on this point later. But before I do, let's look at how to calculate correlations in R.\n",
    "\n",
    "[^corsimple]: This is an oversimplification, but it'll do for our purposes."
   ]
  },
  {
   "cell_type": "markdown",
   "metadata": {},
   "source": [
    "### Calculating correlations in Python\n",
    "\n",
    "\n",
    "There are several methods for computing the correlation coefficient in Python including using [Scipy](https://docs.scipy.org/doc/scipy-0.14.0/reference/generated/scipy.stats.pearsonr.html), [Numpy](https://numpy.org/doc/stable/reference/generated/numpy.corrcoef.html), and [Pandas](https://numpy.org/doc/stable/reference/generated/numpy.corrcoef.html).\n",
    "\n",
    "Usually one is interested in just the regular correlation coefficient, $r$, which is easy to do with Scipy's `pearsonr` command:\n",
    "\n",
    "```{python}\n",
    "import scipy.stats as stats\n",
    "stats.pearsonr( x = corr_df['jol_value'], y = corr_df['recall_accuracy'] )\n",
    "```\n",
    "\n",
    "You simply specify the vector of numbers to use as x and y and the function returns a tuple. The first is the pearson $r$ value and the second is the $p$-value from a hypothesis test that the correlation coefficient is greater than 0 (a future chapter will go more deeply into the logic of hypothesis testing).\n",
    "\n",
    "However, there is also a `corr()` function available as a dataframe method in Pandsa that is a bit more powerful than this simple example suggests. For example, you can also calculate a complete \"correlation matrix\", between all pairs of variables in the data frame:\n",
    "\n",
    "\n",
    "```{python}\n",
    "# correlate all pairs of variables in \"corr_df\" dataframe:\n",
    "corr_df.corr()  \n",
    "```"
   ]
  },
  {
   "cell_type": "code",
   "execution_count": 36,
   "metadata": {},
   "outputs": [
    {
     "data": {
      "text/plain": [
       "(0.9274668603778027, 5.528157257418477e-20)"
      ]
     },
     "execution_count": 36,
     "metadata": {},
     "output_type": "execute_result"
    }
   ],
   "source": [
    "import scipy.stats as stats\n",
    "stats.pearsonr( x = corr_df['jol_value'], y = corr_df['recall_accuracy'] )"
   ]
  },
  {
   "cell_type": "code",
   "execution_count": 37,
   "metadata": {},
   "outputs": [
    {
     "data": {
      "text/html": [
       "<div>\n",
       "<style scoped>\n",
       "    .dataframe tbody tr th:only-of-type {\n",
       "        vertical-align: middle;\n",
       "    }\n",
       "\n",
       "    .dataframe tbody tr th {\n",
       "        vertical-align: top;\n",
       "    }\n",
       "\n",
       "    .dataframe thead th {\n",
       "        text-align: right;\n",
       "    }\n",
       "</style>\n",
       "<table border=\"1\" class=\"dataframe\">\n",
       "  <thead>\n",
       "    <tr style=\"text-align: right;\">\n",
       "      <th></th>\n",
       "      <th>jol_value</th>\n",
       "      <th>recall_accuracy</th>\n",
       "    </tr>\n",
       "  </thead>\n",
       "  <tbody>\n",
       "    <tr>\n",
       "      <th>jol_value</th>\n",
       "      <td>1.000000</td>\n",
       "      <td>0.927467</td>\n",
       "    </tr>\n",
       "    <tr>\n",
       "      <th>recall_accuracy</th>\n",
       "      <td>0.927467</td>\n",
       "      <td>1.000000</td>\n",
       "    </tr>\n",
       "  </tbody>\n",
       "</table>\n",
       "</div>"
      ],
      "text/plain": [
       "                 jol_value  recall_accuracy\n",
       "jol_value         1.000000         0.927467\n",
       "recall_accuracy   0.927467         1.000000"
      ]
     },
     "execution_count": 37,
     "metadata": {},
     "output_type": "execute_result"
    }
   ],
   "source": [
    "corr_df.corr()"
   ]
  },
  {
   "cell_type": "markdown",
   "metadata": {},
   "source": [
    "### Interpreting a correlation\n",
    " \n",
    "Naturally, in real life you don't see many correlations of 1. So how should you interpret a correlation of, say $r= .4$? The honest answer is that it really depends on what you want to use the data for, and on how strong the correlations in your field tend to be. A friend of mine in engineering once argued that any correlation less than $.95$ is completely useless (I think he was exaggerating, even for engineering). On the other hand there are real cases -- even in psychology -- where you should really expect correlations that strong. For instance, one of the benchmark data sets used to test theories of how people judge similarities is so clean that any theory that can't achieve a correlation of at least $.9$ really isn't deemed to be successful. However, when looking for (say) elementary correlates of intelligence (e.g., inspection time, response time), if you get a correlation above $.3$ you're doing very very well. In short, the interpretation of a correlation depends a lot on the context. \n",
    "\n",
    "However, something that can never be stressed enough is that you should *always* look at the scatterplot before attaching any interpretation to the data. A correlation might not mean what you think it means (see above)."
   ]
  },
  {
   "cell_type": "markdown",
   "metadata": {},
   "source": [
    "### Spearman's rank correlations\n",
    "\n",
    "The Pearson correlation coefficient is useful for a lot of things, but it does have shortcomings. One issue in particular stands out: what it actually measures is the strength of the *linear* relationship between two variables. In other words, what it gives you is a measure of the extent to which the data all tend to fall on a single, perfectly straight line. Often, this is a pretty good approximation to what we mean when we say \"relationship\", and so the Pearson correlation is a good thing to calculation. Sometimes, it isn't. \n",
    "\n",
    "One very common situation where the Pearson correlation isn't quite the right thing to use arises when an increase in one variable $X$ really is reflected in an increase in another variable $Y$, but the nature of the relationship isn't necessarily linear. An example of this might be the relationship between effort and reward when studying for an exam. If you put in zero effort ($X$) into learning a subject, then you should expect a grade of 0% ($Y$). However, a little bit of effort will cause a *massive* improvement: just turning up to lectures means that you learn a fair bit, and if you just turn up to classes, and scribble a few things down so your grade might rise to 35%, all without a lot of effort. However, you just don't get the same effect at the other end of the scale. As everyone knows, it takes *a lot* more effort to get a grade of 90% than it takes to get a grade of 55%. What this means is that, if I've got data looking at study effort and grades, there's a pretty good chance that Pearson correlations will be misleading. \n",
    "\n"
   ]
  },
  {
   "cell_type": "code",
   "execution_count": 53,
   "metadata": {
    "tags": [
     "hide-cell"
    ]
   },
   "outputs": [
    {
     "data": {
      "application/papermill.record/image/png": "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\n",
      "application/papermill.record/text/plain": "<Figure size 576x432 with 1 Axes>"
     },
     "metadata": {
      "scrapbook": {
       "mime_prefix": "application/papermill.record/",
       "name": "grades_fig"
      }
     },
     "output_type": "display_data"
    },
    {
     "data": {
      "image/png": "[encoded data removed]",
      "text/plain": [
       "<Figure size 576x432 with 1 Axes>"
      ]
     },
     "metadata": {
      "needs_background": "light"
     },
     "output_type": "display_data"
    }
   ],
   "source": [
    "grades_df=pd.DataFrame({'hours':[2,76,40,6,16,28,27,59,46,68],'grade':[13,91,79,14,21,74,47,85,84,88]})\n",
    "fig,ax=plt.subplots(figsize=(8,6))\n",
    "sns.lineplot(x='hours',y='grade',data=grades_df,marker='o',ax=ax)\n",
    "glue(\"grades_fig\",fig,display=False)"
   ]
  },
  {
   "cell_type": "markdown",
   "metadata": {},
   "source": [
    "```{glue:figure} grades_fig\n",
    ":figwidth: 600px\n",
    ":name: \"fig:grades\"\n",
    "\n",
    "The relationship between hours worked and grade received, for a toy data set consisting of only 10 students (each circle corresponds to one student). The dashed line through the middle shows the linear relationship between the two variables. This produces a strong Pearson correlation of $r = .91$. However, the interesting thing to note here is that there's actually a perfect monotonic relationship between the two variables: in this toy example at least, increasing the hours worked always increases the grade received, as illustrated by the solid line. This is reflected in a Spearman correlation of $rho = 1$. With such a small data set, however, it's an open question as to which version better describes the actual relationship involved. \n",
    "``"
   ]
  },
  {
   "cell_type": "markdown",
   "metadata": {},
   "source": [
    "To illustrate, consider the data plotted in {numref}`fig:grades`, showing the relationship between hours worked and grade received for 10 students taking some class. The curious thing about this -- highly fictitious -- data set is that increasing your effort *always* increases your grade. It might be by a lot or it might be by a little, but increasing effort will never decrease your grade. \n",
    "\n",
    "The raw data look like this:"
   ]
  },
  {
   "cell_type": "code",
   "execution_count": 54,
   "metadata": {},
   "outputs": [
    {
     "data": {
      "text/html": [
       "<div>\n",
       "<style scoped>\n",
       "    .dataframe tbody tr th:only-of-type {\n",
       "        vertical-align: middle;\n",
       "    }\n",
       "\n",
       "    .dataframe tbody tr th {\n",
       "        vertical-align: top;\n",
       "    }\n",
       "\n",
       "    .dataframe thead th {\n",
       "        text-align: right;\n",
       "    }\n",
       "</style>\n",
       "<table border=\"1\" class=\"dataframe\">\n",
       "  <thead>\n",
       "    <tr style=\"text-align: right;\">\n",
       "      <th></th>\n",
       "      <th>hours</th>\n",
       "      <th>grade</th>\n",
       "    </tr>\n",
       "  </thead>\n",
       "  <tbody>\n",
       "    <tr>\n",
       "      <th>0</th>\n",
       "      <td>2</td>\n",
       "      <td>13</td>\n",
       "    </tr>\n",
       "    <tr>\n",
       "      <th>1</th>\n",
       "      <td>76</td>\n",
       "      <td>91</td>\n",
       "    </tr>\n",
       "    <tr>\n",
       "      <th>2</th>\n",
       "      <td>40</td>\n",
       "      <td>79</td>\n",
       "    </tr>\n",
       "    <tr>\n",
       "      <th>3</th>\n",
       "      <td>6</td>\n",
       "      <td>14</td>\n",
       "    </tr>\n",
       "    <tr>\n",
       "      <th>4</th>\n",
       "      <td>16</td>\n",
       "      <td>21</td>\n",
       "    </tr>\n",
       "    <tr>\n",
       "      <th>5</th>\n",
       "      <td>28</td>\n",
       "      <td>74</td>\n",
       "    </tr>\n",
       "    <tr>\n",
       "      <th>6</th>\n",
       "      <td>27</td>\n",
       "      <td>47</td>\n",
       "    </tr>\n",
       "    <tr>\n",
       "      <th>7</th>\n",
       "      <td>59</td>\n",
       "      <td>85</td>\n",
       "    </tr>\n",
       "    <tr>\n",
       "      <th>8</th>\n",
       "      <td>46</td>\n",
       "      <td>84</td>\n",
       "    </tr>\n",
       "    <tr>\n",
       "      <th>9</th>\n",
       "      <td>68</td>\n",
       "      <td>88</td>\n",
       "    </tr>\n",
       "  </tbody>\n",
       "</table>\n",
       "</div>"
      ],
      "text/plain": [
       "   hours  grade\n",
       "0      2     13\n",
       "1     76     91\n",
       "2     40     79\n",
       "3      6     14\n",
       "4     16     21\n",
       "5     28     74\n",
       "6     27     47\n",
       "7     59     85\n",
       "8     46     84\n",
       "9     68     88"
      ]
     },
     "execution_count": 54,
     "metadata": {},
     "output_type": "execute_result"
    }
   ],
   "source": [
    "grades_df"
   ]
  },
  {
   "cell_type": "markdown",
   "metadata": {},
   "source": [
    "If we run a standard Pearson correlation, it shows a strong relationship between hours worked and grade received,"
   ]
  },
  {
   "cell_type": "code",
   "execution_count": 59,
   "metadata": {},
   "outputs": [
    {
     "name": "stdout",
     "output_type": "stream",
     "text": [
      "r = 0.9094019658612522\n"
     ]
    }
   ],
   "source": [
    "print(\"r =\", stats.pearsonr(grades_df['hours'], grades_df['grade'])[0])"
   ]
  },
  {
   "cell_type": "markdown",
   "metadata": {},
   "source": [
    "but this doesn't actually capture the observation that increasing hours worked *always* increases the grade. There's a sense here in which we want to be able to say that the correlation is *perfect* but for a somewhat different notion of what a \"relationship\" is. What we're looking for is something that captures the fact that there is a perfect **_ordinal relationship_** here. That is, if student 1 works more hours than student 2, then we can guarantee that student 1 will get the better grade. That's not what a correlation of $r = .91$ says at all.\n",
    "\n",
    "How should we address this? Actually, it's really easy: if we're looking for ordinal relationships, all we have to do is treat the data as if it were ordinal scale! So, instead of measuring effort in terms of \"hours worked\", lets rank all 10 of our students in order of hours worked. That is, student 1 did the least work out of anyone (2 hours) so they get the lowest rank (rank = 1). Student 4 was the next laziest, putting in only  6 hours of work in over the whole semester, so they get the next lowest rank (rank = 2). Notice that I'm using \"rank =1\" to mean \"low rank\". Sometimes in everyday language we talk about \"rank = 1\" to mean \"top rank\" rather than \"bottom rank\". So be careful: you can rank \"from smallest value to largest value\" (i.e., small equals rank 1) or you can rank \"from largest value to smallest value\" (i.e., large equals rank 1). In this case, I'm ranking from smallest to largest, because that's the default way that Python does it. But in real life, it's really easy to forget which way you set things up, so you have to put a bit of effort into remembering! \n",
    "\n",
    "Okay, so let's have a look at our students when we rank them from worst to best in terms of effort and reward: "
   ]
  },
  {
   "cell_type": "code",
   "execution_count": 63,
   "metadata": {},
   "outputs": [
    {
     "data": {
      "text/html": [
       "<div>\n",
       "<style scoped>\n",
       "    .dataframe tbody tr th:only-of-type {\n",
       "        vertical-align: middle;\n",
       "    }\n",
       "\n",
       "    .dataframe tbody tr th {\n",
       "        vertical-align: top;\n",
       "    }\n",
       "\n",
       "    .dataframe thead th {\n",
       "        text-align: right;\n",
       "    }\n",
       "</style>\n",
       "<table border=\"1\" class=\"dataframe\">\n",
       "  <thead>\n",
       "    <tr style=\"text-align: right;\">\n",
       "      <th></th>\n",
       "      <th>hours</th>\n",
       "      <th>grade</th>\n",
       "      <th>rank_grade</th>\n",
       "      <th>rank_hours</th>\n",
       "    </tr>\n",
       "  </thead>\n",
       "  <tbody>\n",
       "    <tr>\n",
       "      <th>0</th>\n",
       "      <td>2</td>\n",
       "      <td>13</td>\n",
       "      <td>1.0</td>\n",
       "      <td>1.0</td>\n",
       "    </tr>\n",
       "    <tr>\n",
       "      <th>1</th>\n",
       "      <td>76</td>\n",
       "      <td>91</td>\n",
       "      <td>10.0</td>\n",
       "      <td>10.0</td>\n",
       "    </tr>\n",
       "    <tr>\n",
       "      <th>2</th>\n",
       "      <td>40</td>\n",
       "      <td>79</td>\n",
       "      <td>6.0</td>\n",
       "      <td>6.0</td>\n",
       "    </tr>\n",
       "    <tr>\n",
       "      <th>3</th>\n",
       "      <td>6</td>\n",
       "      <td>14</td>\n",
       "      <td>2.0</td>\n",
       "      <td>2.0</td>\n",
       "    </tr>\n",
       "    <tr>\n",
       "      <th>4</th>\n",
       "      <td>16</td>\n",
       "      <td>21</td>\n",
       "      <td>3.0</td>\n",
       "      <td>3.0</td>\n",
       "    </tr>\n",
       "    <tr>\n",
       "      <th>5</th>\n",
       "      <td>28</td>\n",
       "      <td>74</td>\n",
       "      <td>5.0</td>\n",
       "      <td>5.0</td>\n",
       "    </tr>\n",
       "    <tr>\n",
       "      <th>6</th>\n",
       "      <td>27</td>\n",
       "      <td>47</td>\n",
       "      <td>4.0</td>\n",
       "      <td>4.0</td>\n",
       "    </tr>\n",
       "    <tr>\n",
       "      <th>7</th>\n",
       "      <td>59</td>\n",
       "      <td>85</td>\n",
       "      <td>8.0</td>\n",
       "      <td>8.0</td>\n",
       "    </tr>\n",
       "    <tr>\n",
       "      <th>8</th>\n",
       "      <td>46</td>\n",
       "      <td>84</td>\n",
       "      <td>7.0</td>\n",
       "      <td>7.0</td>\n",
       "    </tr>\n",
       "    <tr>\n",
       "      <th>9</th>\n",
       "      <td>68</td>\n",
       "      <td>88</td>\n",
       "      <td>9.0</td>\n",
       "      <td>9.0</td>\n",
       "    </tr>\n",
       "  </tbody>\n",
       "</table>\n",
       "</div>"
      ],
      "text/plain": [
       "   hours  grade  rank_grade  rank_hours\n",
       "0      2     13         1.0         1.0\n",
       "1     76     91        10.0        10.0\n",
       "2     40     79         6.0         6.0\n",
       "3      6     14         2.0         2.0\n",
       "4     16     21         3.0         3.0\n",
       "5     28     74         5.0         5.0\n",
       "6     27     47         4.0         4.0\n",
       "7     59     85         8.0         8.0\n",
       "8     46     84         7.0         7.0\n",
       "9     68     88         9.0         9.0"
      ]
     },
     "execution_count": 63,
     "metadata": {},
     "output_type": "execute_result"
    }
   ],
   "source": [
    "grades_df['rank_grade']=grades_df['grade'].rank()\n",
    "grades_df['rank_hours']=grades_df['hours'].rank()\n",
    "grades_df"
   ]
  },
  {
   "cell_type": "markdown",
   "metadata": {},
   "source": [
    "Hm. These two new columns are *identical*. The student who put in the most effort got the best grade, the student with the least effort got the worst grade, etc. (We used Pandas' `.rank()` method to rank each column and assign it to a new column of the data frame.\n",
    "\n",
    "As the table above shows, these two rankings are identical, so if we now correlate them we get a perfect relationship:"
   ]
  },
  {
   "cell_type": "code",
   "execution_count": 64,
   "metadata": {},
   "outputs": [
    {
     "name": "stdout",
     "output_type": "stream",
     "text": [
      "r = 1.0\n"
     ]
    }
   ],
   "source": [
    "print(\"r =\", stats.pearsonr(grades_df['rank_hours'], grades_df['rank_grade'])[0])"
   ]
  },
  {
   "cell_type": "markdown",
   "metadata": {},
   "source": [
    "What we've just re-invented is **_Spearman's rank order correlation_**, usually denoted $\\rho$ to distinguish it from the Pearson correlation $r$. We can calculate Spearman's $\\rho$ using Python also uses the Scipy stats library `spearmanr()` method:"
   ]
  },
  {
   "cell_type": "code",
   "execution_count": 65,
   "metadata": {},
   "outputs": [
    {
     "name": "stdout",
     "output_type": "stream",
     "text": [
      "r = 0.9999999999999999\n"
     ]
    }
   ],
   "source": [
    "print(\"r =\", stats.spearmanr(grades_df['rank_hours'], grades_df['rank_grade'])[0])"
   ]
  },
  {
   "cell_type": "markdown",
   "metadata": {},
   "source": [
    "## Reporting Descriptive Statistics"
   ]
  },
  {
   "cell_type": "markdown",
   "metadata": {},
   "source": [
    "Reporting descriptive statistics in papers is fairly straight forward.  You just mention the numbers in the text or include a table of numbers summarizing the key results.  Let's look at one example from one of my papers:\n",
    "\n",
    "```{figure} ./images/descriptivestats-methods.png\n",
    ":width: 550px\n",
    ":name: fig:methods\n",
    "\n",
    "Example methods/results section taken from {cite}`pamop:2020`.\n",
    "```\n",
    "\n",
    "There are a few descriptive statistics reported in this one paragraph.  For instance $N=50$ reports the number of subjects in the experiment.  Also the average duration of the task is reported using both a mean ($M=13.7$ minutes) and variability ($SD=4.6$).  Typically descriptive statistics are woven into the text this way using capital letters for things like \"mean\" and \"standard deviation\" and $r$ for correlation.  Here, the statistics are used just to give the reader a sense of how long the task took in general without showing a table of all the task durations for all 50 subjects (too much detail) but also more precise than the qualitative statement \"about 15 minutes\" which is good for intuition but also too vague by itself for a scientific report."
   ]
  },
  {
   "cell_type": "markdown",
   "metadata": {},
   "source": [
    "## Summary"
   ]
  },
  {
   "cell_type": "markdown",
   "metadata": {},
   "source": [
    "In this chapter you received a refresher on descriptive statistics and an overview of how to compute descriptive statistics using Python.  The key ideas are about being careful to choose the right descriptive statistics to summarize you data without hiding too much of the reality of the data from your audience.  In most cases, reporting descriptive statistics should go hand in hand with data visualization techniques considered in the previous chapter."
   ]
  },
  {
   "cell_type": "markdown",
   "metadata": {},
   "source": [
    "## References\n",
    "\n",
    "```{bibliography} ../../references.bib\n",
    ":filter: docname in docnames\n",
    "```"
   ]
  }
 ],
 "metadata": {
  "celltoolbar": "Tags",
  "kernelspec": {
   "display_name": "Python 3",
   "language": "python",
   "name": "python3"
  },
  "language_info": {
   "codemirror_mode": {
    "name": "ipython",
    "version": 3
   },
   "file_extension": ".py",
   "mimetype": "text/x-python",
   "name": "python",
   "nbconvert_exporter": "python",
   "pygments_lexer": "ipython3",
   "version": "3.7.3"
  },
  "toc": {
   "base_numbering": 1,
   "nav_menu": {},
   "number_sections": true,
   "sideBar": true,
   "skip_h1_title": false,
   "title_cell": "Table of Contents",
   "title_sidebar": "Contents",
   "toc_cell": false,
   "toc_position": {},
   "toc_section_display": true,
   "toc_window_display": false
  }
 },
 "nbformat": 4,
 "nbformat_minor": 2
}