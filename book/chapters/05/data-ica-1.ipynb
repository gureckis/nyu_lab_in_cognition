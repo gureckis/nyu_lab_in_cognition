{
 "cells": [
  {
   "source": [
    "# In Class Activity - Data and Dataframes (Pandas)"
   ],
   "cell_type": "markdown",
   "metadata": {}
  },
  {
   "source": [
    "```{note}\n",
    "This exercise authored by [Todd M. Gureckis](http://gureckislab.org/~gureckis) is released under the [license](/LICENSE.html).  *Based on a notebook written by Jin Cheong & Luke Chang*\n",
    "```"
   ],
   "cell_type": "markdown",
   "metadata": {}
  },
  {
   "cell_type": "markdown",
   "metadata": {},
   "source": [
    "In this lab we are going to learn how to load and manipulate datasets in a dataframe format using Pandas and create beautiful plots using Matplotlib and Seaborn. Pandas is akin to a data frame in R and provides an intuitive way to interact with data in a 2D data frame. Matplotlib is a standard plotting library that is similar in functionality to Matlab's object oriented plotting. Seaborn is also a plotting library built on the Matplotlib framework which carries useful pre-configured plotting schemes. \n",
    "\n",
    "After the tutorial you will have the chance to apply the methods to a new set of data. \n",
    "\n",
    "Also, [here is a great set of notebooks](https://github.com/jakevdp/PythonDataScienceHandbook) that also covers the topic.  In addition, here is a brief [video](https://neurohackademy.org/course/complex-data-structures/) providing a useful introduction to pandas. \n",
    "\n",
    "First, we load the basic packages we will be using in this tutorial.  Notice how we import the modules using an abbreviated name.  This is to reduce the amount of text we type when we use the functions.\n",
    "\n",
    "**Note**: `%matplotlib inline` is an example of 'cell magic' and enables plotting *within* the notebook and not opening a separate window. In addition, you may want to try using `%matplotlib notebook`, which will allow more interactive plotting."
   ]
  },
  {
   "cell_type": "code",
   "execution_count": null,
   "metadata": {
    "ExecuteTime": {
     "end_time": "2019-04-12T04:17:24.542921Z",
     "start_time": "2019-04-12T04:17:23.189489Z"
    }
   },
   "outputs": [],
   "source": [
    "%matplotlib inline \n",
    "\n",
    "import pandas as pd\n",
    "import numpy as np\n",
    "import matplotlib.pyplot as plt\n",
    "import seaborn as sns"
   ]
  },
  {
   "source": [
    "The first part of this exercise you just have to go through each cell and execute it.  However, read the surrounding explanation and thing about what each line of the code is doing.  This is a great way to learn.  You can ask your group members if you don't understand anything and also feel free to change the code slightly to experiment with what happens if you repeat an analysis on a different column, etc..."
   ],
   "cell_type": "markdown",
   "metadata": {}
  },
  {
   "cell_type": "markdown",
   "metadata": {},
   "source": [
    "## Pandas\n",
    "\n",
    "### Loading Data\n",
    "We use the pd.read_csv() to load a .csv file into a dataframe. \n",
    "Note that read_csv() has many options that can be used to make sure you load the data correctly. "
   ]
  },
  {
   "cell_type": "markdown",
   "metadata": {
    "ExecuteTime": {
     "end_time": "2019-04-12T03:32:48.507978Z",
     "start_time": "2019-04-12T03:32:48.503985Z"
    }
   },
   "source": [
    "Pandas has many ways to read data different data formats into a dataframe.  Here we will use the `pd.read_csv` function."
   ]
  },
  {
   "cell_type": "code",
   "execution_count": null,
   "metadata": {
    "ExecuteTime": {
     "end_time": "2019-04-12T04:17:24.573626Z",
     "start_time": "2019-04-12T04:17:24.552588Z"
    }
   },
   "outputs": [],
   "source": [
    "df = pd.read_csv('http://gureckislab.org/courses/fall19/labincp/data/salary.csv', sep = ',', header='infer')"
   ]
  },
  {
   "cell_type": "markdown",
   "metadata": {},
   "source": [
    "You can always use the `?` to access the docstring for a function for more information about the inputs and general useage guidelines."
   ]
  },
  {
   "cell_type": "code",
   "execution_count": null,
   "metadata": {
    "ExecuteTime": {
     "end_time": "2019-04-12T04:17:24.600516Z",
     "start_time": "2019-04-12T04:17:24.575246Z"
    }
   },
   "outputs": [],
   "source": [
    "pd.read_csv?"
   ]
  },
  {
   "cell_type": "markdown",
   "metadata": {},
   "source": [
    "### Ways to check the dataframe\n",
    "There are many ways to examine your dataframe. One easy way is to execute the dataframe itself. "
   ]
  },
  {
   "cell_type": "code",
   "execution_count": null,
   "metadata": {
    "ExecuteTime": {
     "end_time": "2019-04-12T04:17:24.636033Z",
     "start_time": "2019-04-12T04:17:24.602988Z"
    },
    "scrolled": true
   },
   "outputs": [],
   "source": [
    "df"
   ]
  },
  {
   "cell_type": "markdown",
   "metadata": {
    "ExecuteTime": {
     "end_time": "2017-01-16T18:35:36.660858",
     "start_time": "2017-01-16T18:35:36.656319"
    }
   },
   "source": [
    "However, often the dataframes can be large and we may be only interested in seeing the first few rows.  `df.head()` is useful for this purpose.  `shape` is another useful method for getting the dimensions of the matrix.  We will print the number of rows and columns in this data set by using output formatting.  Use the `%` sign to indicate the type of data (e.g., `%i`=integer, `%d`=float, `%s`=string), then use the `%` followed by a tuple of the values you would like to insert into the text.  See [here](https://pyformat.info/) for more info about formatting text."
   ]
  },
  {
   "cell_type": "code",
   "execution_count": null,
   "metadata": {
    "ExecuteTime": {
     "end_time": "2019-04-12T04:17:24.641059Z",
     "start_time": "2019-04-12T04:17:24.637682Z"
    }
   },
   "outputs": [],
   "source": [
    "print('There are %i rows and %i columns in this data set' % df.shape) "
   ]
  },
  {
   "cell_type": "code",
   "execution_count": null,
   "metadata": {
    "ExecuteTime": {
     "end_time": "2019-04-12T04:17:24.652327Z",
     "start_time": "2019-04-12T04:17:24.643901Z"
    }
   },
   "outputs": [],
   "source": [
    "df.head()"
   ]
  },
  {
   "cell_type": "markdown",
   "metadata": {},
   "source": [
    "On the top row, you have column names, that can be called like a dictionary (a dataframe can be essentially thought of as a dictionary with column names as the keys). The left most column (0,1,2,3,4...) is called the index of the dataframe. The default index is sequential integers, but it can be set to anything as long as each row is unique (e.g., subject IDs)"
   ]
  },
  {
   "cell_type": "code",
   "execution_count": null,
   "metadata": {
    "ExecuteTime": {
     "end_time": "2019-04-12T04:17:24.660372Z",
     "start_time": "2019-04-12T04:17:24.654691Z"
    }
   },
   "outputs": [],
   "source": [
    "print(\"Indexes\")\n",
    "print(df.index)\n",
    "print(\"Columns\")\n",
    "print(df.columns)\n",
    "print(\"Columns are like keys of a dictionary\")\n",
    "print(df.keys())"
   ]
  },
  {
   "cell_type": "markdown",
   "metadata": {},
   "source": [
    "You can access the values of a column by calling it directly. Double bracket returns a dataframe\n"
   ]
  },
  {
   "cell_type": "code",
   "execution_count": null,
   "metadata": {
    "ExecuteTime": {
     "end_time": "2019-04-12T04:17:24.674131Z",
     "start_time": "2019-04-12T04:17:24.662560Z"
    },
    "scrolled": false
   },
   "outputs": [],
   "source": [
    "df[['salary']]"
   ]
  },
  {
   "cell_type": "markdown",
   "metadata": {},
   "source": [
    "Single bracket returns a Series"
   ]
  },
  {
   "cell_type": "code",
   "execution_count": null,
   "metadata": {
    "ExecuteTime": {
     "end_time": "2019-04-12T04:17:24.681517Z",
     "start_time": "2019-04-12T04:17:24.675691Z"
    },
    "scrolled": false
   },
   "outputs": [],
   "source": [
    "df['salary']"
   ]
  },
  {
   "cell_type": "markdown",
   "metadata": {},
   "source": [
    "You can also call a column like an attribute if the column name is a string \n"
   ]
  },
  {
   "cell_type": "code",
   "execution_count": null,
   "metadata": {
    "ExecuteTime": {
     "end_time": "2019-04-12T04:17:24.688413Z",
     "start_time": "2019-04-12T04:17:24.683117Z"
    }
   },
   "outputs": [],
   "source": [
    "df.salary"
   ]
  },
  {
   "cell_type": "markdown",
   "metadata": {},
   "source": [
    "You can create new columns to fit your needs. \n",
    "For instance you can set initialize a new column with zeros. "
   ]
  },
  {
   "cell_type": "code",
   "execution_count": null,
   "metadata": {
    "ExecuteTime": {
     "end_time": "2019-04-12T04:17:24.693168Z",
     "start_time": "2019-04-12T04:17:24.689956Z"
    }
   },
   "outputs": [],
   "source": [
    "df['pubperyear'] = 0"
   ]
  },
  {
   "cell_type": "markdown",
   "metadata": {},
   "source": [
    "Here we can create a new column pubperyear, which is the ratio of the number of papers published per year"
   ]
  },
  {
   "cell_type": "code",
   "execution_count": null,
   "metadata": {
    "ExecuteTime": {
     "end_time": "2019-04-12T04:17:24.712650Z",
     "start_time": "2019-04-12T04:17:24.695229Z"
    }
   },
   "outputs": [],
   "source": [
    "df['pubperyear'] = df['publications']/df['years']"
   ]
  },
  {
   "cell_type": "code",
   "execution_count": null,
   "metadata": {
    "ExecuteTime": {
     "end_time": "2019-04-12T04:17:24.722940Z",
     "start_time": "2019-04-12T04:17:24.714142Z"
    }
   },
   "outputs": [],
   "source": [
    "df.head()"
   ]
  },
  {
   "cell_type": "markdown",
   "metadata": {},
   "source": [
    "### Indexing and slicing\n",
    "Indexing in Pandas can be tricky. There are four ways to index: loc, iloc, and explicit indexing(useful for booleans).  \n",
    "\n",
    "\n",
    "First, we will try using `.loc`.  This method references the explicit index. it works for both index names and also column names."
   ]
  },
  {
   "cell_type": "code",
   "execution_count": null,
   "metadata": {
    "ExecuteTime": {
     "end_time": "2019-04-12T04:17:24.730970Z",
     "start_time": "2019-04-12T04:17:24.724365Z"
    }
   },
   "outputs": [],
   "source": [
    "df.loc[0, ['salary']]"
   ]
  },
  {
   "cell_type": "markdown",
   "metadata": {},
   "source": [
    "Next we wil try `.iloc`.  This method references the implicit python index (starting from 0, exclusive of last number).  You can think of this like row by column indexing using integers."
   ]
  },
  {
   "cell_type": "code",
   "execution_count": null,
   "metadata": {
    "ExecuteTime": {
     "end_time": "2019-04-12T04:17:24.739640Z",
     "start_time": "2019-04-12T04:17:24.732567Z"
    }
   },
   "outputs": [],
   "source": [
    "df.iloc[0:3, 0:3]"
   ]
  },
  {
   "cell_type": "markdown",
   "metadata": {},
   "source": [
    "Let's make a new data frame with just Males and another for just Females. Notice, how we added the `.reset_index(drop=True)` method?   This is because assigning a new dataframe based on indexing another dataframe will retain the *original* index.  We need to explicitly tell pandas to reset the index if we want it to start from zero."
   ]
  },
  {
   "cell_type": "code",
   "execution_count": null,
   "metadata": {
    "ExecuteTime": {
     "end_time": "2019-04-12T04:32:16.707415Z",
     "start_time": "2019-04-12T04:32:16.700793Z"
    }
   },
   "outputs": [],
   "source": [
    "male_df = df.query('gender == 0').reset_index(drop=True)\n",
    "female_df = df.query('gender == 1').reset_index(drop=True)"
   ]
  },
  {
   "cell_type": "markdown",
   "metadata": {},
   "source": [
    "\n",
    "Boolean or logical indexing is useful if you need to sort the data based on some True or False value.  \n",
    "\n",
    "For instance, who are the people with salaries greater than 90K but lower than 100K ?"
   ]
  },
  {
   "cell_type": "code",
   "execution_count": null,
   "metadata": {
    "ExecuteTime": {
     "end_time": "2019-04-12T04:17:24.769793Z",
     "start_time": "2019-04-12T04:17:24.758785Z"
    }
   },
   "outputs": [],
   "source": [
    "df.query('salary > 90000 & df.salary < 100000')"
   ]
  },
  {
   "cell_type": "markdown",
   "metadata": {
    "ExecuteTime": {
     "end_time": "2017-01-16T18:36:01.082619",
     "start_time": "2017-01-16T18:36:01.078188"
    }
   },
   "source": [
    "### Dealing with missing values\n",
    "It is easy to quickly count the number of missing values for each column in the dataset using the `isnull()` method.  One thing that is  nice about Python is that you can chain commands, which means that the output of one method can be the input into the next method.  This allows us to write intuitive and concise code.  Notice how we take the `sum()` of all of the null cases.\n",
    "\n",
    "The `isnull()` method will return a dataframe with True/False values on whether a datapoint is null or not a number (nan)."
   ]
  },
  {
   "cell_type": "code",
   "execution_count": null,
   "metadata": {
    "ExecuteTime": {
     "end_time": "2019-04-12T04:17:24.794016Z",
     "start_time": "2019-04-12T04:17:24.771482Z"
    },
    "scrolled": false
   },
   "outputs": [],
   "source": [
    "df.isnull()"
   ]
  },
  {
   "cell_type": "markdown",
   "metadata": {},
   "source": [
    "We can chain the `.null()` and `.sum()` methods to see how many null values are added up.\n"
   ]
  },
  {
   "cell_type": "code",
   "execution_count": null,
   "metadata": {
    "ExecuteTime": {
     "end_time": "2019-04-12T04:17:24.800106Z",
     "start_time": "2019-04-12T04:17:24.795519Z"
    }
   },
   "outputs": [],
   "source": [
    "df.isnull().sum()"
   ]
  },
  {
   "cell_type": "markdown",
   "metadata": {},
   "source": [
    "You can use the boolean indexing once again to see the datapoints that have missing values. We chained the method `.any()` which will check if there are any True values for a given axis.  Axis=0 indicates rows, while Axis=1 indicates columns.  So here we are creating a boolean index for row where *any* column has a missing value."
   ]
  },
  {
   "cell_type": "code",
   "execution_count": null,
   "metadata": {
    "ExecuteTime": {
     "end_time": "2019-04-12T04:17:24.812997Z",
     "start_time": "2019-04-12T04:17:24.803552Z"
    }
   },
   "outputs": [],
   "source": [
    "df[df.isnull().any(axis=1)]"
   ]
  },
  {
   "cell_type": "markdown",
   "metadata": {
    "ExecuteTime": {
     "end_time": "2019-04-12T04:32:55.078779Z",
     "start_time": "2019-04-12T04:32:55.074997Z"
    }
   },
   "source": [
    "You may look at where the values are not null. Note that indexes 18, and 24 are missing. "
   ]
  },
  {
   "cell_type": "code",
   "execution_count": null,
   "metadata": {
    "ExecuteTime": {
     "end_time": "2019-04-12T04:32:44.114287Z",
     "start_time": "2019-04-12T04:32:44.083218Z"
    },
    "scrolled": false
   },
   "outputs": [],
   "source": [
    "df[~df.isnull().any(axis=1)]"
   ]
  },
  {
   "cell_type": "markdown",
   "metadata": {
    "ExecuteTime": {
     "end_time": "2017-01-16T18:36:16.705384",
     "start_time": "2017-01-16T18:36:16.701256"
    }
   },
   "source": [
    "There are different techniques for dealing with missing data.  An easy one is to simply remove rows that have any missing values using the `dropna()` method."
   ]
  },
  {
   "cell_type": "code",
   "execution_count": null,
   "metadata": {
    "ExecuteTime": {
     "end_time": "2019-04-12T04:17:24.847189Z",
     "start_time": "2019-04-12T04:17:24.843067Z"
    }
   },
   "outputs": [],
   "source": [
    "df = df.dropna()"
   ]
  },
  {
   "cell_type": "markdown",
   "metadata": {},
   "source": [
    "Now we can check to make sure the missing rows are removed.  Let's also check the new dimensions of the dataframe."
   ]
  },
  {
   "cell_type": "code",
   "execution_count": null,
   "metadata": {
    "ExecuteTime": {
     "end_time": "2019-04-12T04:17:24.854664Z",
     "start_time": "2019-04-12T04:17:24.848861Z"
    }
   },
   "outputs": [],
   "source": [
    "print('There are %i rows and %i columns in this data set' % df.shape)\n",
    "df.isnull().sum()"
   ]
  },
  {
   "cell_type": "markdown",
   "metadata": {
    "ExecuteTime": {
     "end_time": "2017-01-16T18:36:43.976308",
     "start_time": "2017-01-16T18:36:43.972047"
    }
   },
   "source": [
    "### Describing the data\n",
    "We can use the `.describe()` method to get a quick summary of the continuous values of the data frame. We will `.transpose()` the output to make it slightly easier to read. "
   ]
  },
  {
   "cell_type": "code",
   "execution_count": null,
   "metadata": {
    "ExecuteTime": {
     "end_time": "2019-04-12T04:17:24.881209Z",
     "start_time": "2019-04-12T04:17:24.856281Z"
    }
   },
   "outputs": [],
   "source": [
    "df.describe().transpose()"
   ]
  },
  {
   "cell_type": "markdown",
   "metadata": {},
   "source": [
    "We can also get quick summary of a pandas series, or specific column of a pandas dataframe."
   ]
  },
  {
   "cell_type": "code",
   "execution_count": null,
   "metadata": {
    "ExecuteTime": {
     "end_time": "2019-04-12T04:17:24.889835Z",
     "start_time": "2019-04-12T04:17:24.882809Z"
    }
   },
   "outputs": [],
   "source": [
    "df.departm.describe()"
   ]
  },
  {
   "cell_type": "markdown",
   "metadata": {},
   "source": [
    "### Manipulating data in Groups\n",
    "One manipulation we often do is look at variables in groups. \n",
    "One way to do this is to usethe `.groupby(key)` method. \n",
    "The key is a column that is used to group the variables together. \n",
    "For instance, if we want to group the data by gender and get group means, we perform the following."
   ]
  },
  {
   "cell_type": "code",
   "execution_count": null,
   "metadata": {
    "ExecuteTime": {
     "end_time": "2019-04-12T04:17:24.903536Z",
     "start_time": "2019-04-12T04:17:24.891523Z"
    }
   },
   "outputs": [],
   "source": [
    "df.groupby('gender').mean()"
   ]
  },
  {
   "cell_type": "markdown",
   "metadata": {},
   "source": [
    "Other default aggregation methods include .count(), .mean(), .median(), .min(), .max(), .std(), .var(), and .sum()\n",
    "\n",
    "Before we move on, it looks like there were more than 2 genders specified in our data. \n",
    "This is likely an error in the data collection process so let recap on how we might remove this datapoint. "
   ]
  },
  {
   "cell_type": "code",
   "execution_count": null,
   "metadata": {
    "ExecuteTime": {
     "end_time": "2019-04-12T04:17:24.914062Z",
     "start_time": "2019-04-12T04:17:24.905159Z"
    }
   },
   "outputs": [],
   "source": [
    "df.query('gender==1')"
   ]
  },
  {
   "cell_type": "markdown",
   "metadata": {},
   "source": [
    "replace original dataframe without the miscoded data\n"
   ]
  },
  {
   "cell_type": "code",
   "execution_count": null,
   "metadata": {
    "ExecuteTime": {
     "end_time": "2019-04-12T04:17:24.918957Z",
     "start_time": "2019-04-12T04:17:24.915715Z"
    }
   },
   "outputs": [],
   "source": [
    "df = df.query('gender!=2')"
   ]
  },
  {
   "cell_type": "markdown",
   "metadata": {},
   "source": [
    "Now we have a corrected dataframe!\n"
   ]
  },
  {
   "cell_type": "code",
   "execution_count": null,
   "metadata": {
    "ExecuteTime": {
     "end_time": "2019-04-12T04:17:24.930270Z",
     "start_time": "2019-04-12T04:17:24.920291Z"
    }
   },
   "outputs": [],
   "source": [
    "df.groupby('gender').mean()"
   ]
  },
  {
   "cell_type": "markdown",
   "metadata": {},
   "source": [
    "Another powerful tool in Pandas is the split-apply-combine method. \n",
    "For instance, let's say we also want to look at how much each professor is earning in respect to the department. \n",
    "Let's say we want to subtract the departmental mean from professor and divide it by the departmental standard deviation. \n",
    "We can do this by using the `groupby(key)` method chained with the `.transform(function)` method. \n",
    "It will group the dataframe by the key column, perform the \"function\" transformation of the data and return data in same format.\n",
    "To learn more, see link [here](http://nbviewer.jupyter.org/github/jakevdp/PythonDataScienceHandbook/blob/master/notebooks/03.08-Aggregation-and-Grouping.ipynb)"
   ]
  },
  {
   "cell_type": "code",
   "execution_count": null,
   "metadata": {
    "ExecuteTime": {
     "end_time": "2019-04-12T04:17:25.013043Z",
     "start_time": "2019-04-12T04:17:24.931766Z"
    }
   },
   "outputs": [],
   "source": [
    "# key: We use the departm as the grouping factor. \n",
    "key = df['departm']\n",
    "\n",
    "# Let's create an anonmyous function for calculating zscores using lambda:\n",
    "# We want to standardize salary for each department.\n",
    "zscore = lambda x: (x - x.mean()) / x.std()\n",
    "\n",
    "# Now let's calculate zscores separately within each department\n",
    "transformed = df.groupby(key).transform(zscore)\n",
    "df['salary_in_departm'] = transformed['salary']"
   ]
  },
  {
   "cell_type": "markdown",
   "metadata": {},
   "source": [
    "Now we have `salary_in_departm` column showing standardized salary per department.\n"
   ]
  },
  {
   "cell_type": "code",
   "execution_count": null,
   "metadata": {
    "ExecuteTime": {
     "end_time": "2019-04-12T04:17:25.025408Z",
     "start_time": "2019-04-12T04:17:25.014815Z"
    }
   },
   "outputs": [],
   "source": [
    "df.head()"
   ]
  },
  {
   "cell_type": "markdown",
   "metadata": {},
   "source": [
    "### Combining datasets - pd.concat\n",
    "Recall that we sliced the dataframes into male and female dataframe in 2.3 Indexing and Slicing. Now we will learn how to put dataframes together which is done by the pd.concat method. Note how the index of this output retains the old index."
   ]
  },
  {
   "cell_type": "code",
   "execution_count": null,
   "metadata": {
    "ExecuteTime": {
     "end_time": "2019-04-12T04:33:34.916815Z",
     "start_time": "2019-04-12T04:33:34.888222Z"
    },
    "scrolled": true
   },
   "outputs": [],
   "source": [
    "pd.concat([femaledf, maledf],axis = 0)"
   ]
  },
  {
   "cell_type": "markdown",
   "metadata": {},
   "source": [
    "We can reset the index to start at zero using the .reset_index() method"
   ]
  },
  {
   "cell_type": "code",
   "execution_count": null,
   "metadata": {
    "ExecuteTime": {
     "end_time": "2019-04-12T04:33:40.834384Z",
     "start_time": "2019-04-12T04:33:40.806809Z"
    }
   },
   "outputs": [],
   "source": [
    "pd.concat([maledf, femaledf], axis = 0).reset_index(drop=True)"
   ]
  }
 ],
 "metadata": {
  "anaconda-cloud": {},
  "kernel_info": {
   "name": "python3"
  },
  "kernelspec": {
   "display_name": "Python 3",
   "language": "python",
   "name": "python3"
  },
  "language_info": {
   "codemirror_mode": {
    "name": "ipython",
    "version": 3
   },
   "file_extension": ".py",
   "mimetype": "text/x-python",
   "name": "python",
   "nbconvert_exporter": "python",
   "pygments_lexer": "ipython3",
   "version": "3.7.3"
  },
  "nteract": {
   "version": "0.15.0"
  },
  "toc": {
   "base_numbering": 1,
   "nav_menu": {
    "height": "44px",
    "width": "252px"
   },
   "number_sections": true,
   "sideBar": true,
   "skip_h1_title": false,
   "title_cell": "Table of Contents",
   "title_sidebar": "Contents",
   "toc_cell": false,
   "toc_position": {},
   "toc_section_display": "block",
   "toc_window_display": true
  }
 },
 "nbformat": 4,
 "nbformat_minor": 2
}