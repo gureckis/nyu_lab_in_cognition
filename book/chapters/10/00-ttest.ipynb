{
 "cells": [
  {
   "cell_type": "code",
   "execution_count": 8,
   "metadata": {
    "tags": [
     "hide_input"
    ]
   },
   "outputs": [],
   "source": [
    "from IPython.core.display import HTML, Markdown, display\n",
    "\n",
    "import numpy.random as npr\n",
    "import numpy as np\n",
    "import pandas as pd\n",
    "import pingouin as pg\n",
    "import seaborn as sns\n",
    "#from cycler import cycler\n",
    "import matplotlib.pyplot as plt\n",
    "import scipy.stats as stats\n",
    "#import statsmodels.formula.api as smf\n",
    "import ipywidgets as widgets\n",
    "# from matplotlib.patches import Polygon\n",
    "# from matplotlib.gridspec import GridSpec\n",
    "\n",
    "from myst_nb import glue # for the Jupyter book chapter"
   ]
  },
  {
   "cell_type": "markdown",
   "metadata": {},
   "source": [
    "# Comparing one or two means"
   ]
  },
  {
   "cell_type": "markdown",
   "metadata": {},
   "source": [
    "```{note}\n",
    "This chapter is adapted from Danielle Navarro's excellent [Learning Statistics with R](https://learningstatisticswithr.com) book.  The main text has mainly be left intact with a few modifications, also the code adapted to use python and jupyter.\n",
    "```"
   ]
  },
  {
   "cell_type": "markdown",
   "metadata": {},
   "source": [
    "In many cases in science you will find yourself in a situation where your outcome variable is interval scale or higher, and what you're interested in is whether the average value of the outcome variable is higher in one group or another. For instance, a psychologist might want to know if anxiety levels are higher among parents than non-parents, or if working memory capacity is reduced by listening to music (relative to not listening to music). In a medical context, we might want to know if a new drug increases or decreases blood pressure. An agricultural scientist might want to know whether adding phosphorus to Australian native plants will kill them. In all these situations, our outcome variable is a fairly continuous, interval or ratio scale variable; and our predictor is a binary \"grouping\" variable. In other words, we want to compare the means of the two groups. "
   ]
  },
  {
   "cell_type": "markdown",
   "metadata": {
    "tags": [
     "popout"
    ]
   },
   "source": [
    "Informal experimentation in my garden suggests that yes, it does. Australian natives are adapted to low phosphorus levels relative to everywhere else on Earth, apparently, so if you've bought a house with a bunch of exotics and you want to plant natives, don't follow my example: keep them separate. Nutrients to European plants are poison to Australian ones. There's probably a joke in that, but I can't figure out what it is."
   ]
  },
  {
   "cell_type": "markdown",
   "metadata": {},
   "source": [
    "The standard answer to the problem of comparing means is to use a $t$-test, of which there are several varieties depending on exactly what question you want to solve. As a consequence, the majority of this chapter focuses on different types of $t$-test: one sample $t$-tests, independent samples $t$-tests and Welcht test, and paired samples $t$-tests. After that, we'll talk a bit about Cohen's $d$, which is the standard measure of effect size for a $t$-test. The later sections of the chapter focus on the assumptions of the $t$-tests, and possible remedies if they are violated. However, before discussing any of these useful things, we'll start with a discussion of the $z$-test. "
   ]
  },
  {
   "cell_type": "markdown",
   "metadata": {},
   "source": [
    "## The one-sample $z$-test\n",
    "\n",
    "In this section I'll describe one of the most useless tests in all of statistics: the **_$z$-test_**. Seriously -- this test is almost never used in real life. Its only real purpose is that, when teaching statistics, it's a very convenient stepping stone along the way towards the $t$-test, which is probably the most (over)used tool in all statistics."
   ]
  },
  {
   "cell_type": "markdown",
   "metadata": {},
   "source": [
    "### The inference problem that the test addresses\n",
    "\n",
    "To introduce the idea behind the $z$-test, let's use a simple example. A friend of mine, Dr Zeppo, grades his introductory statistics class on a curve. Let's suppose that the average grade in his class is 67.5, and the standard deviation is 9.5. Of his many hundreds of students, it turns out that 20 of them also take psychology classes. Out of curiosity, I find myself wondering: do the psychology students tend to get the same grades as everyone else (i.e., mean 67.5) or do they tend to score higher or lower? He emails me the `zeppo.csv` file, which I use to pull up the `grades` of those students, "
   ]
  },
  {
   "cell_type": "code",
   "execution_count": 25,
   "metadata": {},
   "outputs": [
    {
     "data": {
      "text/plain": [
       "1     50\n",
       "2     60\n",
       "3     60\n",
       "4     64\n",
       "5     66\n",
       "6     66\n",
       "7     67\n",
       "8     69\n",
       "9     70\n",
       "10    74\n",
       "11    76\n",
       "12    76\n",
       "13    77\n",
       "14    79\n",
       "15    79\n",
       "16    79\n",
       "17    81\n",
       "18    82\n",
       "19    82\n",
       "20    89\n",
       "Name: grades, dtype: int64"
      ]
     },
     "execution_count": 25,
     "metadata": {},
     "output_type": "execute_result"
    }
   ],
   "source": [
    "zeppo_df=pd.read_csv('http://gureckislab.org/courses/fall19/labincp/data/zeppo.csv',index_col=0)\n",
    "zeppo_df.columns=[\"grades\"]\n",
    "zeppo_df.grades"
   ]
  },
  {
   "cell_type": "markdown",
   "metadata": {},
   "source": [
    "and calculate the mean:"
   ]
  },
  {
   "cell_type": "code",
   "execution_count": 14,
   "metadata": {},
   "outputs": [
    {
     "data": {
      "text/plain": [
       "72.3"
      ]
     },
     "execution_count": 14,
     "metadata": {},
     "output_type": "execute_result"
    }
   ],
   "source": [
    "zeppo_df.grades.mean()"
   ]
  },
  {
   "cell_type": "markdown",
   "metadata": {},
   "source": [
    "Hm. It *might* be that the psychology students are scoring a bit higher than normal: that sample mean of $\\bar{X} = 72.3$ is a fair bit higher than the hypothesised population mean of $\\mu = 67.5$, but on the other hand, a sample size of $N = 20$ isn't all that big. Maybe it's pure chance. \n",
    "\n",
    "To answer the question, it helps to be able to write down what it is that I think I know. Firstly, I know that the sample mean is $\\bar{X} = 72.3$. If I'm willing to assume that the psychology students have the same standard deviation as the rest of the class then I can say that the population standard deviation is $\\sigma = 9.5$. I'll also assume that since Dr Zeppo is grading to a curve, the psychology student grades are normally distributed. \n",
    "\n",
    "Next, it helps to be clear about what I want to learn from the data. In this case, my research hypothesis relates to the *population* mean $\\mu$ for the psychology student grades, which is unknown. Specifically, I want to know if $\\mu = 67.5$ or not. Given that this is what I know, can we devise a hypothesis test to solve our problem? The data, along with the hypothesised distribution from which they are thought to arise, are shown in {numref}`fig:zeppo`. Not entirely obvious what the right answer is, is it? For this, we are going to need some statistics."
   ]
  },
  {
   "cell_type": "code",
   "execution_count": 4,
   "metadata": {
    "tags": [
     "hide_cell"
    ]
   },
   "outputs": [
    {
     "data": {
      "application/papermill.record/image/png": "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\n",
      "application/papermill.record/text/plain": "<Figure size 360x360 with 1 Axes>"
     },
     "metadata": {
      "scrapbook": {
       "mime_prefix": "application/papermill.record/",
       "name": "zeppo_fig"
      }
     },
     "output_type": "display_data"
    },
    {
     "data": {
      "image/png": "[encoded data removed]",
      "text/plain": [
       "<Figure size 360x360 with 1 Axes>"
      ]
     },
     "metadata": {
      "needs_background": "light"
     },
     "output_type": "display_data"
    }
   ],
   "source": [
    "sns_fig=sns.displot(zeppo_df.grades,bins=np.arange(31,101,5),kde=False)\n",
    "\n",
    "x=np.arange(20,101)\n",
    "y=stats.norm.pdf(x,67.5,9.5)\n",
    "plt.plot(x,y*100)  # just for display purposes scaling the size of the normal distribution\n",
    "#plt.show()\n",
    "\n",
    "glue(\"zeppo_fig\",sns_fig.fig,display=False)"
   ]
  },
  {
   "cell_type": "markdown",
   "metadata": {},
   "source": [
    "```{glue:figure} zeppo_fig\n",
    ":figwidth: 550px\n",
    ":name: \"fig:zeppo\"\n",
    "\n",
    "The theoretical distribution (solid line) from which the psychology student grades (grey bars) are supposed to have been generated.\n",
    "```"
   ]
  },
  {
   "cell_type": "markdown",
   "metadata": {},
   "source": [
    "### Constructing the hypothesis test\n",
    "\n",
    "The first step in constructing a hypothesis test is to be clear about what the null and alternative hypotheses are. This isn't too hard to do. Our null hypothesis, $H_0$, is that the true population mean $\\mu$ for psychology student grades is 67.5\\%; and our alternative hypothesis is that the population mean *isn't* 67.5\\%. If we write this in mathematical notation, these hypotheses become,\n",
    "\n",
    "$\n",
    "\\begin{array}{ll}\n",
    "H_0: & \\mu = 67.5 \\\\\n",
    "H_1: & \\mu \\neq 67.5\n",
    "\\end{array}\n",
    "$\n",
    "\n",
    "though to be honest this notation doesn't add much to our understanding of the problem, it's just a compact way of writing down what we're trying to learn from the data. The null hypotheses $H_0$ and the alternative hypothesis $H_1$ for our test are both illustrated in Figure 2. In addition to providing us with these hypotheses, the scenario outlined above provides us with a fair amount of background knowledge that might be useful. Specifically, there are two special pieces of information that we can add:\n",
    "\n",
    "1. The psychology grades are normally distributed.\n",
    "1. The true standard deviation of these scores $\\sigma$ is known to be 9.5.\n",
    "\n",
    "For the moment, we'll act as if these are absolutely trustworthy facts. In real life, this kind of absolutely trustworthy background knowledge doesn't exist, and so if we want to rely on these facts we'll just have make the *assumption* that these things are true. However, since these assumptions may or may not be warranted, we might need to check them. For now though, we'll keep things simple."
   ]
  },
  {
   "cell_type": "code",
   "execution_count": 26,
   "metadata": {
    "tags": [
     "hide_cell"
    ]
   },
   "outputs": [
    {
     "data": {
      "application/papermill.record/image/png": "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\n",
      "application/papermill.record/text/plain": "<Figure size 720x288 with 2 Axes>"
     },
     "metadata": {
      "scrapbook": {
       "mime_prefix": "application/papermill.record/",
       "name": "ztest_hypo_fig"
      }
     },
     "output_type": "display_data"
    },
    {
     "data": {
      "image/png": "[encoded data removed]",
      "text/plain": [
       "<Figure size 720x288 with 2 Axes>"
      ]
     },
     "metadata": {
      "needs_background": "light"
     },
     "output_type": "display_data"
    }
   ],
   "source": [
    "fig, ax = plt.subplots(1,2,figsize=(10,4))\n",
    "\n",
    "\n",
    "x = np.linspace(-5,30,100)\n",
    "x2 = np.linspace(-5,30,100)\n",
    "y=stats.norm.pdf(x, 12,3.5)\n",
    "y2=stats.norm.pdf(x2,15,3.5)\n",
    "\n",
    "ax[0].plot(x,y)\n",
    "ax[0].set_ylabel(\"probability\")\n",
    "ax[0].set_xlabel(\"value of X\")\n",
    "ax[0].set_title(\"null hypothesis\")\n",
    "ax[0].set_ylim(0,0.13)\n",
    "ax[0].fill_between(x,y, where=y>0.0,interpolate=True,facecolor='lightblue',alpha=0.2)\n",
    "ax[0].plot([12,12],[0,0.113],color='k')\n",
    "ax[0].plot([8,12],[0.06,0.06],color='r')\n",
    "ax[0].set_xticklabels([])\n",
    "ax[0].set_yticklabels([])\n",
    "ax[0].annotate(\"$\\sigma$ = $\\sigma_0$\", xy=(2,0.06),xytext=(2,0.06))\n",
    "ax[0].annotate(\"$\\mu$ = $\\mu_0$\", xy=(10,0.12),xytext=(10,0.12))\n",
    "\n",
    "\n",
    "\n",
    "\n",
    "\n",
    "ax[1].plot(x,y)\n",
    "ax[1].set_ylabel(\"probability\")\n",
    "ax[1].set_xlabel(\"value of X\")\n",
    "ax[1].set_title(\"alternative hypothesis\")\n",
    "ax[1].set_ylim(0,0.13)\n",
    "ax[1].fill_between(x,y, where=y>0.0,interpolate=True,facecolor='lightblue',alpha=0.2)\n",
    "ax[1].plot([8,12],[0.06,0.06],color='r')\n",
    "ax[1].plot([18,18],[0,0.113],color='k')\n",
    "ax[1].annotate(\"$\\sigma$ = $\\sigma_0$\", xy=(2,0.06),xytext=(2,0.06))\n",
    "ax[1].annotate(\"$\\mu \\\\neq \\mu_0$\", xy=(16,0.12),xytext=(16,0.12))\n",
    "ax[1].set_xticklabels([])\n",
    "ax[1].set_yticklabels([])\n",
    "\n",
    "sns.despine(top=True, right=True)\n",
    "\n",
    "#plt.show()\n",
    "glue(\"ztest_hypo_fig\",fig,display=False)"
   ]
  },
  {
   "cell_type": "markdown",
   "metadata": {
    "tags": [
     "full_width"
    ]
   },
   "source": [
    "```{glue:figure} ztest_hypo_fig\n",
    ":figwidth: 650px\n",
    ":name: \"fig:ztest_hypo\"\n",
    "\n",
    "Graphical illustration of the null and alternative hypotheses assumed by the one sample $z$-test (the two sided version, that is). The null and alternative hypotheses both assume that the population distribution is normal, and additionally assumes that the population standard deviation is known (fixed at some value $\\\\sigma_0$). The null hypothesis (left) is that the population mean $\\mu$ is equal to some specified value $\\mu_0$. The alternative hypothesis is that the population mean differs from this value, $\\mu \\neq \\mu_0$.\n",
    "```"
   ]
  },
  {
   "cell_type": "markdown",
   "metadata": {},
   "source": [
    "The next step is to figure out what we would be a good choice for a diagnostic test statistic; something that would help us discriminate between $H_0$ and $H_1$. Given that the hypotheses all refer to the population mean $\\mu$, you'd feel pretty confident that the sample mean $\\bar{X}$ would be a pretty useful place to start. What we could do, is look at the difference between the sample mean $\\bar{X}$ and the value that the null hypothesis predicts for the population mean. In our example, that would mean we calculate $\\bar{X} - 67.5$. More generally, if we let $\\mu_0$ refer to the value that the null hypothesis claims is our population mean, then we'd want to calculate\n",
    "$\n",
    "\\bar{X} - \\mu_0\n",
    "$\n",
    "If this quantity equals or is very close to 0, things are looking good for the null hypothesis. If this quantity is a long way away from 0, then it's looking less likely that the null hypothesis is worth retaining. But how far away from zero should it be for us to reject $H_0$? \n",
    "\n",
    "To figure that out, we need to be a bit more sneaky, and we'll need to rely on those two pieces of background knowledge that I wrote down previously, namely that the raw data are normally distributed, and we know the value of the population standard deviation $\\sigma$. If the null hypothesis is actually true, and the true mean is $\\mu_0$, then these facts together mean that we know the complete population distribution of the data: a normal distribution with mean $\\mu_0$ and standard deviation $\\sigma$. A statistician might write this as:\n",
    "\n",
    "$\n",
    "X \\sim \\mbox{Normal}(\\mu_0,\\sigma^2)\n",
    "$\n",
    "\n",
    "Okay, if that's true, then what can we say about the distribution of $\\bar{X}$? Well, as we discussed earlier, the sampling distribution of the mean $\\bar{X}$ is also normal, and has mean $\\mu$. But the standard deviation of this sampling distribution $\\mbox{SE}({\\bar{X}})$, which is called the *standard error of the mean*, is\n",
    "$\n",
    "\\mbox{SE}({\\bar{X}}) = \\frac{\\sigma}{\\sqrt{N}}\n",
    "$\n",
    "In other words, if the null hypothesis is true then the sampling distribution of the mean can be written as follows:\n",
    "$\n",
    "\\bar{X} \\sim \\mbox{Normal}(\\mu_0,\\mbox{SE}({\\bar{X}}))\n",
    "$\n",
    "Now comes the trick. What we can do is convert the sample mean $\\bar{X}$ into a standard score. This is conventionally written as $z$, but for now I'm going to refer to it as $z_{\\bar{X}}$. (The reason for using this expanded notation is to help you remember that we're calculating standardised version of a sample mean, *not* a standardised version of a single observation, which is what a $z$-score usually refers to). When we do so, the $z$-score for our sample mean is \n",
    "$\n",
    "z_{\\bar{X}} = \\frac{\\bar{X} - \\mu_0}{\\mbox{SE}({\\bar{X}})}\n",
    "$\n",
    "or, equivalently\n",
    "$\n",
    "z_{\\bar{X}} =  \\frac{\\bar{X} - \\mu_0}{\\sigma / \\sqrt{N}}\n",
    "$\n",
    "This $z$-score is our test statistic. The nice thing about using this as our test statistic is that like all $z$-scores, it has a standard normal distribution:\n",
    "$\n",
    "z_{\\bar{X}} \\sim \\mbox{Normal}(0,1)\n",
    "$\n",
    "In other words, regardless of what scale the original data are on, the $z$-statistic iteself always has the same interpretation: it's equal to the number of standard errors that separate the observed sample mean $\\bar{X}$ from the population mean $\\mu_0$ predicted by the null hypothesis. Better yet, regardless of what the population parameters for the raw scores actually are, the 5\\% critical regions for $z$-test are always the same, as illustrated in {numref}`fig:ztest_twoside_fig` and {numref}`fig:ztest_twoside_fig`. And what this meant, way back in the days where people did all their statistics by hand, is that someone could publish a table like this:"
   ]
  },
  {
   "cell_type": "code",
   "execution_count": 28,
   "metadata": {
    "tags": [
     "hide_input"
    ]
   },
   "outputs": [
    {
     "data": {
      "text/html": [
       "<div>\n",
       "<style scoped>\n",
       "    .dataframe tbody tr th:only-of-type {\n",
       "        vertical-align: middle;\n",
       "    }\n",
       "\n",
       "    .dataframe tbody tr th {\n",
       "        vertical-align: top;\n",
       "    }\n",
       "\n",
       "    .dataframe thead th {\n",
       "        text-align: right;\n",
       "    }\n",
       "</style>\n",
       "<table border=\"1\" class=\"dataframe\">\n",
       "  <thead>\n",
       "    <tr style=\"text-align: right;\">\n",
       "      <th></th>\n",
       "      <th>desired alpha level</th>\n",
       "      <th>two-sided test</th>\n",
       "      <th>one-sided test</th>\n",
       "    </tr>\n",
       "  </thead>\n",
       "  <tbody>\n",
       "    <tr>\n",
       "      <th>0</th>\n",
       "      <td>0.100</td>\n",
       "      <td>1.644854</td>\n",
       "      <td>1.281552</td>\n",
       "    </tr>\n",
       "    <tr>\n",
       "      <th>1</th>\n",
       "      <td>0.050</td>\n",
       "      <td>1.959964</td>\n",
       "      <td>1.644854</td>\n",
       "    </tr>\n",
       "    <tr>\n",
       "      <th>2</th>\n",
       "      <td>0.010</td>\n",
       "      <td>2.575829</td>\n",
       "      <td>2.326348</td>\n",
       "    </tr>\n",
       "    <tr>\n",
       "      <th>3</th>\n",
       "      <td>0.001</td>\n",
       "      <td>3.290527</td>\n",
       "      <td>3.090232</td>\n",
       "    </tr>\n",
       "  </tbody>\n",
       "</table>\n",
       "</div>"
      ],
      "text/plain": [
       "   desired alpha level  two-sided test  one-sided test\n",
       "0                0.100        1.644854        1.281552\n",
       "1                0.050        1.959964        1.644854\n",
       "2                0.010        2.575829        2.326348\n",
       "3                0.001        3.290527        3.090232"
      ]
     },
     "execution_count": 28,
     "metadata": {},
     "output_type": "execute_result"
    }
   ],
   "source": [
    "pd.DataFrame({\"desired alpha level\": [.1, 0.05, 0.01, 0.001], \"two-sided test\": [1.644854,1.959964,2.575829,3.290527],\"one-sided test\":[1.281552,1.644854,2.326348,3.090232]})"
   ]
  },
  {
   "cell_type": "markdown",
   "metadata": {},
   "source": [
    "which in turn meant that researchers could calculate their $z$-statistic by hand, and then look up the critical value in a text book.  That was an incredibly handy thing to be able to do back then, but it's kind of unnecessary these days, since it's trivially easy to do it with software like R."
   ]
  },
  {
   "cell_type": "code",
   "execution_count": 32,
   "metadata": {
    "tags": [
     "hide_cell"
    ]
   },
   "outputs": [
    {
     "data": {
      "application/papermill.record/image/png": "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\n",
      "application/papermill.record/text/plain": "<Figure size 720x432 with 1 Axes>"
     },
     "metadata": {
      "scrapbook": {
       "mime_prefix": "application/papermill.record/",
       "name": "ztest_twoside_fig"
      }
     },
     "output_type": "display_data"
    },
    {
     "data": {
      "image/png": "[encoded data removed]",
      "text/plain": [
       "<Figure size 720x432 with 1 Axes>"
      ]
     },
     "metadata": {
      "needs_background": "light"
     },
     "output_type": "display_data"
    }
   ],
   "source": [
    "fig, ax = plt.subplots(1,1,figsize=(10,6))\n",
    "x=np.linspace(-3.5,3.5,100)\n",
    "y=stats.norm.pdf(x,0,1.0)\n",
    "\n",
    "ax.plot(x,y)\n",
    "ax.set_ylabel(\"probability\")\n",
    "ax.set_xlabel(\"value of z statistic\")\n",
    "ax.set_title(\"Two Sided Test\")\n",
    "#ax.set_ylim(0,0.5)\n",
    "#ax.set_xlim(-3,3)\n",
    "ax.fill_between(x,y,where=x<-1.96,interpolate=True,facecolor='lightblue',alpha=0.2,hatch='/',edgecolor='b')\n",
    "ax.fill_between(x,y,where=x>1.96,interpolate=True,facecolor='lightblue',alpha=0.2,hatch='/',edgecolor='b')\n",
    "ax.set_xticks([-1.96, 0, 1.96])\n",
    "#ax.set_yticklabels([])\n",
    "\n",
    "\n",
    "sns.despine(top=True, right=True, left=True)\n",
    "\n",
    "#plt.show()\n",
    "glue(\"ztest_twoside_fig\",fig,display=False)"
   ]
  },
  {
   "cell_type": "markdown",
   "metadata": {},
   "source": [
    "```{glue:figure} ztest_twoside_fig\n",
    ":figwidth: 650px\n",
    ":name: \"fig:ztest_twoside_hypo\"\n",
    "\n",
    "Rejection regions for the two-sided $z$-test\n",
    "```"
   ]
  },
  {
   "cell_type": "code",
   "execution_count": 34,
   "metadata": {
    "tags": [
     "hide_cell"
    ]
   },
   "outputs": [
    {
     "data": {
      "application/papermill.record/image/png": "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\n",
      "application/papermill.record/text/plain": "<Figure size 720x432 with 1 Axes>"
     },
     "metadata": {
      "scrapbook": {
       "mime_prefix": "application/papermill.record/",
       "name": "ztest_oneside_fig"
      }
     },
     "output_type": "display_data"
    },
    {
     "data": {
      "image/png": "[encoded data removed]",
      "text/plain": [
       "<Figure size 720x432 with 1 Axes>"
      ]
     },
     "metadata": {
      "needs_background": "light"
     },
     "output_type": "display_data"
    }
   ],
   "source": [
    "fig, ax = plt.subplots(1,1,figsize=(10,6))\n",
    "\n",
    "\n",
    "x=np.linspace(-3.5,3.5,100)\n",
    "y=stats.norm.pdf(x,0,1.0)\n",
    "\n",
    "ax.plot(x,y)\n",
    "ax.set_ylabel(\"probability\")\n",
    "ax.set_xlabel(\"value of z statistic\")\n",
    "ax.set_title(\"One Sided Test\")\n",
    "ax.fill_between(x,y,where=x>1.64,interpolate=True,facecolor='lightblue',alpha=0.2,hatch='/',edgecolor='b')\n",
    "ax.set_xticks([0, 1.64])\n",
    "#ax.set_yticklabels([])\n",
    "\n",
    "\n",
    "sns.despine(top=True, right=True, left=True)\n",
    "\n",
    "#plt.show()\n",
    "glue(\"ztest_oneside_fig\",fig,display=False)"
   ]
  },
  {
   "cell_type": "markdown",
   "metadata": {},
   "source": [
    "```{glue:figure} ztest_oneside_fig\n",
    ":figwidth: 650px\n",
    ":name: \"fig:ztest_oneside_hypo\"\n",
    "\n",
    "Rejection regions for the one-sided $z$-test\n",
    "```"
   ]
  },
  {
   "cell_type": "markdown",
   "metadata": {},
   "source": [
    "### A worked example using Python\n",
    "\n",
    "Now, as I mentioned earlier, the $z$-test is almost never used in practice.  There is a function called [ztest](https://www.statsmodels.org/stable/generated/statsmodels.stats.weightstats.ztest.html) in statsmodels.  However, the test is so incredibly simple that it's really easy to do one manually. Let's go back to the data from Dr Zeppo's class. Having loaded the `grades` data, the first thing I need to do is calculate the sample mean:"
   ]
  },
  {
   "cell_type": "code",
   "execution_count": 35,
   "metadata": {},
   "outputs": [
    {
     "name": "stdout",
     "output_type": "stream",
     "text": [
      "72.3\n"
     ]
    }
   ],
   "source": [
    "zeppo_df=pd.read_csv('http://gureckislab.org/courses/fall19/labincp/data/zeppo.csv',index_col=0)\n",
    "zeppo_df.columns=[\"grades\"]\n",
    "sample_mean = zeppo_df.grades.mean()\n",
    "print(sample_mean)"
   ]
  },
  {
   "cell_type": "markdown",
   "metadata": {},
   "source": [
    "Then, I create variables corresponding to known population standard deviation ($\\sigma = 9.5$), and the value of the population mean that the null hypothesis specifies ($\\mu_0 = 67.5$):"
   ]
  },
  {
   "cell_type": "code",
   "execution_count": 36,
   "metadata": {},
   "outputs": [],
   "source": [
    "mu_null = 67.5\n",
    "sd_true = 9.5 "
   ]
  },
  {
   "cell_type": "markdown",
   "metadata": {},
   "source": [
    "Let's also create a variable for the sample size. We could count up the number of observations ourselves, and type `N <- 20` at the command prompt, but counting is tedious and repetitive. Let's get R to do the tedious repetitive bit by using the `length()` function, which tells us how many elements there are in a vector:"
   ]
  },
  {
   "cell_type": "code",
   "execution_count": 37,
   "metadata": {},
   "outputs": [
    {
     "name": "stdout",
     "output_type": "stream",
     "text": [
      "20\n"
     ]
    }
   ],
   "source": [
    "N = len( zeppo_df.grades )\n",
    "print( N )"
   ]
  },
  {
   "cell_type": "markdown",
   "metadata": {},
   "source": [
    "Next, let's calculate the (true) standard error of the mean:"
   ]
  },
  {
   "cell_type": "code",
   "execution_count": 38,
   "metadata": {},
   "outputs": [
    {
     "name": "stdout",
     "output_type": "stream",
     "text": [
      "2.1242645786248002\n"
     ]
    }
   ],
   "source": [
    "sem_true = sd_true / np.sqrt(N)\n",
    "print(sem_true)"
   ]
  },
  {
   "cell_type": "markdown",
   "metadata": {},
   "source": [
    "And finally, we calculate our $z$-score:"
   ]
  },
  {
   "cell_type": "code",
   "execution_count": 39,
   "metadata": {},
   "outputs": [
    {
     "name": "stdout",
     "output_type": "stream",
     "text": [
      "2.259605535157681\n"
     ]
    }
   ],
   "source": [
    "z_score = (sample_mean - mu_null) / sem_true\n",
    "print( z_score )"
   ]
  },
  {
   "cell_type": "markdown",
   "metadata": {},
   "source": [
    "At this point, we would traditionally look up the value 2.26 in our table of critical values. Our original hypothesis was two-sided (we didn't really have any theory about whether psych students would be better or worse at statistics than other students) so our hypothesis test is two-sided (or two-tailed) also. Looking at the little table that I showed earlier, we can see that 2.26 is bigger than the critical value of 1.96 that would be required to be significant at $\\alpha = .05$, but smaller than the value of 2.58 that would be required to be significant at a level of $\\alpha = .01$. Therefore, we can conclude that we have a significant effect, which we might write up by saying something like this:\n",
    "\n",
    "> With a mean grade of 73.2 in the sample of psychology students, and assuming a true population standard deviation of 9.5, we can conclude that the psychology students have significantly different statistics scores to the class average ($z = 2.26$, $N=20$, $p<.05$).\n",
    "                                                                                                                                     \n",
    "However, what if want an exact $p$-value? Well, back in the day, the tables of critical values were huge, and so you could look up your actual $z$-value, and find the smallest value of $\\alpha$ for which your data would be significant (which, as discussed earlier, is the very definition of a $p$-value). However, looking things up in books is tedious, and typing things into computers is awesome. So let's do it using python instead. Now, notice that the $\\alpha$ level of a $z$-test (or any other test, for that matter) defines the total area \"under the curve\" for the critical region, right? That is, if we set $\\alpha = .05$ for a two-sided test, then the critical region is set up such that the area under the curve for the critical region is $.05$. And, for the $z$-test, the critical value of 1.96 is chosen that way because the area in the lower tail (i.e., below $-1.96$) is exactly $.025$ and the area under the upper tail (i.e., above $1.96$) is exactly $.025$. So, since our observed $z$-statistic is $2.26$, why not calculate the area under the curve below $-2.26$ or above $2.26$? In R we can calculate this using the `stats.norm.cdf()` function (stands for cumulative density function). For the upper tail:"
   ]
  },
  {
   "cell_type": "code",
   "execution_count": 40,
   "metadata": {},
   "outputs": [
    {
     "name": "stdout",
     "output_type": "stream",
     "text": [
      "0.011922871882469877\n"
     ]
    }
   ],
   "source": [
    "upper_area = 1.0-stats.norm.cdf(z_score)\n",
    "print(upper_area)"
   ]
  },
  {
   "cell_type": "markdown",
   "metadata": {},
   "source": [
    "Notice that I subtract this cdf from 1.0.  This allows me to compute area under the curve from 2.26 *and upwards*. To get the area in the lower tail I just compute the CDF up to the negative of the zscore (the value it would take on the other side of the distribution. There is no need to subtract from 1.0 this time because the CDF calculates from the left up to the z-score you give it."
   ]
  },
  {
   "cell_type": "code",
   "execution_count": 41,
   "metadata": {},
   "outputs": [
    {
     "name": "stdout",
     "output_type": "stream",
     "text": [
      "0.011922871882469896\n"
     ]
    }
   ],
   "source": [
    "lower_area = stats.norm.cdf(-z_score)\n",
    "print(lower_area)"
   ]
  },
  {
   "cell_type": "markdown",
   "metadata": {},
   "source": [
    "Thus we get our $p$-value:"
   ]
  },
  {
   "cell_type": "code",
   "execution_count": 42,
   "metadata": {},
   "outputs": [
    {
     "name": "stdout",
     "output_type": "stream",
     "text": [
      "0.023845743764939774\n"
     ]
    }
   ],
   "source": [
    "p_value = lower_area + upper_area\n",
    "print( p_value )"
   ]
  },
  {
   "cell_type": "markdown",
   "metadata": {},
   "source": [
    "### Assumptions of the $z$-test\n",
    "\n",
    "As I've said before, all statistical tests make assumptions. Some tests make reasonable assumptions, while other tests do not. The test I've just described -- the one sample $z$-test -- makes three basic assumptions.  These are:\n",
    "\n",
    "- *Normality*. As usually described, the $z$-test assumes that the true population distribution is normal.[^normality] is often pretty reasonable, and not only that, it's an assumption that we can check if we feel worried about it (see below). \n",
    "- *Independence*. The second assumption of the test is that the observations in your data set are not correlated with each other, or related to each other in some funny way. This isn't as easy to check statistically: it relies a bit on good experimental design. An obvious (and stupid) example of something that violates this assumption is a data set where you \"copy\" the same observation over and over again in your data file: so you end up with a massive \"sample size\", consisting of only one genuine observation. More realistically, you have to ask yourself if it's really plausible to imagine that each observation is a completely random sample from the population that you're interested in. In practice, this assumption is never met; but we try our best to design studies that minimize the problems of correlated data. \n",
    "- *Known standard deviation*. The third assumption of the $z$-test is that the true standard deviation of the population is known to the researcher. This is just stupid. In no real world data analysis problem do you know the standard deviation $\\sigma$ of some population, but are completely ignorant about the mean $\\mu$. In other words, this assumption is *always* wrong. \n",
    "\n",
    "In view of the stupidity of assuming that $\\sigma$ is known, let's see if we can live without it. This takes us out of the dreary domain of the $z$-test, and into the magical kingdom of the $t$-test, with unicorns and fairies and leprechauns, and um...\n",
    "\n",
    "[^normality]: Actually this is too strong. Strictly speaking the $z$ test only requires that the sampling distribution of the mean be normally distributed; if the population is normal then it necessarily follows that the sampling distribution of the mean is also normal. However, as we saw when talking about the central limit theorem, it's quite possible (even commonplace) for the sampling distribution to be normal even if the population distribution itself is non-normal. However, in light of the sheer ridiculousness of the assumption that the true standard deviation is known, there really isn't much point in going into details on this front!"
   ]
  },
  {
   "cell_type": "markdown",
   "metadata": {},
   "source": [
    "## The one-sample $t$-test\n",
    "\n",
    "After some thought, I decided that it might not be safe to assume that the psychology student grades necessarily have the same standard deviation as the other students in Dr Zeppo's class. After all, if I'm entertaining the hypothesis that they don't have the same mean, then why should I believe that they absolutely have the same standard deviation? In view of this, I should really stop assuming that I know the true value of $\\sigma$. This violates the assumptions of my $z$-test, so in one sense I'm back to square one. However, it's not like I'm completely bereft of options. After all, I've still got my raw data, and those raw data give me an *estimate* of the population standard deviation:"
   ]
  },
  {
   "cell_type": "code",
   "execution_count": 52,
   "metadata": {},
   "outputs": [
    {
     "data": {
      "text/plain": [
       "9.520614752375915"
      ]
     },
     "execution_count": 52,
     "metadata": {},
     "output_type": "execute_result"
    }
   ],
   "source": [
    "zeppo_df['grades'].std(ddof=1)"
   ]
  },
  {
   "cell_type": "markdown",
   "metadata": {},
   "source": [
    "In other words, while I can't say that I know that $\\sigma = 9.5$, I *can* say that $\\hat\\sigma = 9.52$. \n",
    "\n",
    "Okay, cool. The obvious thing that you might think to do is run a $z$-test, but using the estimated standard deviation of 9.52 instead of relying on my assumption that the true standard deviation is 9.5. So, we could just type this new number into python and out would come the answer. And you probably wouldn't be surprised to hear that this would still give us a significant result. This approach is close, but it's not *quite* correct. Because we are now relying on an *estimate* of the population standard deviation, we need to make some adjustment for the fact that we have some uncertainty about what the true population standard deviation actually is. Maybe our data are just a fluke ... maybe the true population standard deviation is 11, for instance. But if that were actually true, and we ran the $z$-test assuming $\\sigma=11$, then the result would end up being *non-significant*. That's a problem, and it's one we're going to have to address."
   ]
  },
  {
   "cell_type": "code",
   "execution_count": 94,
   "metadata": {
    "tags": [
     "hide_cell"
    ]
   },
   "outputs": [
    {
     "data": {
      "application/papermill.record/image/png": "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\n",
      "application/papermill.record/text/plain": "<Figure size 720x288 with 2 Axes>"
     },
     "metadata": {
      "scrapbook": {
       "mime_prefix": "application/papermill.record/",
       "name": "ttest_hypo_fig"
      }
     },
     "output_type": "display_data"
    },
    {
     "data": {
      "image/png": "[encoded data removed]",
      "text/plain": [
       "<Figure size 720x288 with 2 Axes>"
      ]
     },
     "metadata": {
      "needs_background": "light"
     },
     "output_type": "display_data"
    }
   ],
   "source": [
    "fig, ax = plt.subplots(1,2,figsize=(10,4))\n",
    "\n",
    "\n",
    "x = np.linspace(-5,30,100)\n",
    "x2 = np.linspace(-5,30,100)\n",
    "y=stats.norm.pdf(x, 12,3.5)\n",
    "y2=stats.norm.pdf(x2,15,3.5)\n",
    "\n",
    "ax[0].plot(x,y)\n",
    "ax[0].set_ylabel(\"probability\")\n",
    "ax[0].set_xlabel(\"value of X\")\n",
    "ax[0].set_title(\"null hypothesis\")\n",
    "ax[0].set_ylim(0,0.13)\n",
    "ax[0].fill_between(x,y, where=y>0.0,interpolate=True,facecolor='lightblue',alpha=0.2)\n",
    "ax[0].plot([12,12],[0,0.113],color='k')\n",
    "ax[0].plot([8,12],[0.06,0.06],color='r')\n",
    "ax[0].set_xticklabels([])\n",
    "ax[0].set_yticklabels([])\n",
    "ax[0].annotate(\"$\\sigma$ = ??\", xy=(2,0.06),xytext=(2,0.06))\n",
    "ax[0].annotate(\"$\\mu$ = $\\mu_0$\", xy=(10,0.12),xytext=(10,0.12))\n",
    "\n",
    "\n",
    "\n",
    "\n",
    "\n",
    "ax[1].plot(x,y)\n",
    "ax[1].set_ylabel(\"probability\")\n",
    "ax[1].set_xlabel(\"value of X\")\n",
    "ax[1].set_title(\"alternative hypothesis\")\n",
    "ax[1].set_ylim(0,0.13)\n",
    "ax[1].fill_between(x,y, where=y>0.0,interpolate=True,facecolor='lightblue',alpha=0.2)\n",
    "ax[1].plot([8,12],[0.06,0.06],color='r')\n",
    "ax[1].plot([18,18],[0,0.113],color='k')\n",
    "ax[1].annotate(\"$\\sigma$ = ??\", xy=(2,0.06),xytext=(2,0.06))\n",
    "ax[1].annotate(\"$\\mu \\\\neq \\mu_0$\", xy=(16,0.12),xytext=(16,0.12))\n",
    "ax[1].set_xticklabels([])\n",
    "ax[1].set_yticklabels([])\n",
    "\n",
    "sns.despine(top=True, right=True)\n",
    "\n",
    "#plt.show()\n",
    "glue(\"ttest_hypo_fig\",fig,display=False)"
   ]
  },
  {
   "cell_type": "markdown",
   "metadata": {},
   "source": [
    "```{glue:figure} ttest_hypo_fig\n",
    ":figwidth: 650px\n",
    ":name: \"fig:ttest_hypo\"\n",
    "\n",
    "Graphical illustration of the null and alternative hypotheses assumed by the (two sided) one sample $t$-test. Note the similarity to the $z$-test. The null hypothesis is that the population mean $\\mu$ is equal to some specified value $\\mu_0$, and the alternative hypothesis is that it is not. Like the $z$-test, we assume that the data are normally distributed; but we do not assume that the population standard deviation $\\sigma$ is known in advance.\n",
    "```"
   ]
  },
  {
   "cell_type": "markdown",
   "metadata": {},
   "source": [
    "### Introducing the $t$-test\n",
    "\n",
    "This ambiguity is annoying, and it was resolved in 1908 by a guy called William Sealy Gosset {cite}`Student1908`, who was working as a chemist for the Guinness brewery at the time (see {cite}`Box1987`). [^gosset] Because Guinness took a dim view of its employees publishing statistical analysis (apparently they felt it was a trade secret), he published the work under the pseudonym \"A Student\", and to this day, the full name of the $t$-test is actually **_Student's $t$-test_**. The key thing that Gosset figured out is how we should accommodate the fact that we aren't completely sure what the true standard deviation is. The answer is that it subtly changes the sampling distribution. In the $t$-test, our test statistic (now called a $t$-statistic) is calculated in exactly the same way I mentioned above. If our null hypothesis is that the true mean is $\\mu$, but our sample has mean $\\bar{X}$ and our estimate of the population standard deviation is $\\hat{\\sigma}$, then our $t$ statistic is:\n",
    "$\n",
    "t = \\frac{\\bar{X} - \\mu}{\\hat{\\sigma}/\\sqrt{N} }\n",
    "$\n",
    "The only thing that has changed in the equation is that instead of using the known true value $\\sigma$, we use the estimate $\\hat{\\sigma}$. And if this estimate has been constructed from $N$ observations, then the sampling distribution turns into a $t$-distribution with $N-1$ **_degrees of freedom_** (df). The $t$ distribution is very similar to the normal distribution, but has \"heavier\" tails as illustrated in Figure \\@ref(fig:ttestdist). Notice, though, that as df gets larger, the $t$-distribution starts to look identical to the standard normal distribution. This is as it should be: if you have a sample size of $N = 70,000,000$ then your \"estimate\" of the standard deviation would be pretty much perfect, right? So, you should expect that for large $N$, the $t$-test would behave exactly the same way as a $z$-test. And that's exactly what happens!  \n",
    "\n",
    "\n",
    "[^gosset]: Well, sort of. As I understand the history, Gosset only provided a partial solution: the general solution to the problem was provided by Sir Ronald Fisher."
   ]
  },
  {
   "cell_type": "code",
   "execution_count": 68,
   "metadata": {
    "tags": [
     "hide_cell"
    ]
   },
   "outputs": [
    {
     "data": {
      "application/papermill.record/image/png": "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\n",
      "application/papermill.record/text/plain": "<Figure size 720x288 with 2 Axes>"
     },
     "metadata": {
      "scrapbook": {
       "mime_prefix": "application/papermill.record/",
       "name": "ttestdist_fig"
      }
     },
     "output_type": "display_data"
    },
    {
     "data": {
      "image/png": "[encoded data removed]",
      "text/plain": [
       "<Figure size 720x288 with 2 Axes>"
      ]
     },
     "metadata": {
      "needs_background": "light"
     },
     "output_type": "display_data"
    }
   ],
   "source": [
    "fig, ax = plt.subplots(1,2,figsize=(10,4))\n",
    "\n",
    "\n",
    "x = np.linspace(-5,5,100)\n",
    "y= stats.norm.pdf(x, 0,1)\n",
    "y2= stats.t.pdf(x,df=2,loc=0,scale=1)\n",
    "\n",
    "ax[0].plot(x,y,label='N($\\mu$=0,sd=1)')\n",
    "ax[0].plot(x,y2,'r',label='t (2)')\n",
    "ax[0].set_ylabel(\"probability\")\n",
    "ax[0].set_xlabel(\"value of X\")\n",
    "#ax[0].fill_between(x,y, where=y>0.0,interpolate=True,facecolor='lightblue',alpha=0.2)\n",
    "ax[0].fill_between(x,y2, where=y>0.0,interpolate=True,facecolor='pink',alpha=0.2)\n",
    "ax[0].legend(loc='best', frameon=False)\n",
    "#ax[0].set_xticklabels([])\n",
    "#ax[0].set_yticklabels([])\n",
    "\n",
    "\n",
    "x = np.linspace(-5,5,100)\n",
    "y=stats.norm.pdf(x,0,1)\n",
    "y2=stats.t.pdf(x,10,0,1)\n",
    "\n",
    "ax[1].plot(x,y,label='N($\\mu$=0,sd=1)')\n",
    "ax[1].plot(x,y2,'r',label='t (10)')\n",
    "ax[1].set_ylabel(\"probability\")\n",
    "ax[1].set_xlabel(\"value of X\")\n",
    "#ax[1].fill_between(x,y, where=y>0.0,interpolate=True,facecolor='lightblue',alpha=0.2)\n",
    "ax[1].fill_between(x,y2, where=y>0.0,interpolate=True,facecolor='pink',alpha=0.2)\n",
    "ax[1].legend(loc='best', frameon=False)\n",
    "sns.despine(top=True, right=True)\n",
    "\n",
    "glue(\"ttestdist_fig\",fig,display=False)"
   ]
  },
  {
   "cell_type": "markdown",
   "metadata": {
    "tags": [
     "full_width"
    ]
   },
   "source": [
    "```{glue:figure} ttestdist_fig\n",
    ":figwidth: 650px\n",
    ":name: \"fig:ttestdist\"\n",
    "\n",
    "The $t$ distribution with 2 degrees of freedom (left) and 10 degrees of freedom (right), with a standard normal distribution (i.e., mean 0 and std dev 1) plotted as a blue line for comparison purposes. Notice that the $t$ distribution has heavier tails (higher kurtosis) than the normal distribution; this effect is quite exaggerated when the degrees of freedom are very small, but negligible for larger values. In other words, for large $df$ the $t$ distribution is essentially identical to a normal distribution.\"))\n",
    "```"
   ]
  },
  {
   "cell_type": "markdown",
   "metadata": {},
   "source": [
    "### Doing the test in Python\n",
    "\n",
    "As you might expect, the mechanics of the $t$-test are almost identical to the mechanics of the $z$-test. So there's not much point in going through the tedious exercise of showing you how to do the calculations using low level commands: it's pretty much identical to the calculations that we did earlier, except that we use the estimated standard deviation (i.e., something like `se_est = grades.std(ddof=1)`), and then we test our hypothesis using the $t$ distribution rather than the normal distribution  (i.e. we use `stats.t.cdf()` rather than `stats.norm.cdf()`. And so instead of going through the calculations in tedious detail for a second time, I'll jump straight to showing you how $t$-tests are actually done in practice. \n",
    "\n",
    "Python has a nice package called [pingouin](https://pingouin-stats.org/index.html) which provides easy access to most common statistics.  Although you can definitely find a t-test in [statsmodels](https://www.statsmodels.org/stable/generated/statsmodels.stats.weightstats.ttest_ind.html) pingouin is really simple and fun.\n",
    "\n",
    "\n",
    "To use this function we just import pinguoin:"
   ]
  },
  {
   "cell_type": "code",
   "execution_count": 5,
   "metadata": {},
   "outputs": [],
   "source": [
    "import pingouin as pg"
   ]
  },
  {
   "cell_type": "markdown",
   "metadata": {},
   "source": [
    "Next we run the function `pg.ttest`.  The documentation for this command is [here](https://pingouin-stats.org/generated/pingouin.ttest.html#pingouin.ttest). It's pretty straightforward to use: all you need to do is specify `x`, the variable containing the data, and `y`, the true population mean according to the null hypothesis. All you need to type is this:"
   ]
  },
  {
   "cell_type": "code",
   "execution_count": 6,
   "metadata": {},
   "outputs": [
    {
     "data": {
      "text/html": [
       "<div>\n",
       "<style scoped>\n",
       "    .dataframe tbody tr th:only-of-type {\n",
       "        vertical-align: middle;\n",
       "    }\n",
       "\n",
       "    .dataframe tbody tr th {\n",
       "        vertical-align: top;\n",
       "    }\n",
       "\n",
       "    .dataframe thead th {\n",
       "        text-align: right;\n",
       "    }\n",
       "</style>\n",
       "<table border=\"1\" class=\"dataframe\">\n",
       "  <thead>\n",
       "    <tr style=\"text-align: right;\">\n",
       "      <th></th>\n",
       "      <th>T</th>\n",
       "      <th>dof</th>\n",
       "      <th>tail</th>\n",
       "      <th>p-val</th>\n",
       "      <th>CI95%</th>\n",
       "      <th>cohen-d</th>\n",
       "      <th>BF10</th>\n",
       "      <th>power</th>\n",
       "    </tr>\n",
       "  </thead>\n",
       "  <tbody>\n",
       "    <tr>\n",
       "      <th>T-test</th>\n",
       "      <td>2.255</td>\n",
       "      <td>19</td>\n",
       "      <td>two-sided</td>\n",
       "      <td>0.036145</td>\n",
       "      <td>[0.34, 9.26]</td>\n",
       "      <td>0.504</td>\n",
       "      <td>1.795</td>\n",
       "      <td>0.571</td>\n",
       "    </tr>\n",
       "  </tbody>\n",
       "</table>\n",
       "</div>"
      ],
      "text/plain": [
       "            T  dof       tail     p-val         CI95%  cohen-d   BF10  power\n",
       "T-test  2.255   19  two-sided  0.036145  [0.34, 9.26]    0.504  1.795  0.571"
      ]
     },
     "execution_count": 6,
     "metadata": {},
     "output_type": "execute_result"
    }
   ],
   "source": [
    "pg.ttest(x=zeppo_df.grades,y=67.5)"
   ]
  },
  {
   "cell_type": "markdown",
   "metadata": {},
   "source": [
    "Easy enough. Now lets go through the output. \n",
    "\n",
    "The first column in the output it the value of the t-statistic (2.255).   The 'dof' refers to the degrees of freedom which is one less than the number of observations in x (so 19).  Here we conductes a two-sided test.  Then the $p$-value (0.036) of the test of the null hypothesis that the population mean equals 67.5 (what we provided as y). The confidence interval around the mean of the provided data $x$. The estimated effect size (cohen's d is 0.504), more on that later.  The final column is a Bayes Factor in support of the alternative hypothesis. Finally, the post-hoc power was estimated to be 0.571.  We will ignore that one for now.\n",
    "\n",
    "So that seems straightforward enough. Now what do we *do* with this output? Well, since we're pretending that we actually care about my toy example, we're overjoyed to discover that the result is statistically significant (i.e. $p$ value below .05). We could report the result by saying something like this:\n",
    "\n",
    "> With a mean grade of 72.3, the psychology students scored slightly higher than the average grade of 67.5 ($t(19) = 2.25$, $p<.05$).\n",
    "\n",
    "where $t(19)$ is shorthand notation for a $t$-statistic that has 19 degrees of freedom. "
   ]
  },
  {
   "cell_type": "markdown",
   "metadata": {},
   "source": [
    "A technical comment... in the same way that we can weaken the assumptions of the $z$-test so that we're only talking about the sampling distribution, we *can* weaken the $t$ test assumptions so that we don't have to assume normality of the population. However, for the $t$-test, it's trickier to do this. As before, we can replace the assumption of population normality with an assumption that the sampling distribution of $\\bar{X}$ is normal. However, remember that we're also relying on a sample estimate of the standard deviation; and so we also require the sampling distribution of $\\hat{\\sigma}$ to be chi-square. That makes things nastier, and this version is rarely used in practice: fortunately, if the population is normal, then both of these two assumptions are met, and as noted earlier, there are standard tools that you can use to check to see if this assumption is met (see below), and other tests you can do in it's place if this assumption is violated (also see below)."
   ]
  },
  {
   "cell_type": "markdown",
   "metadata": {},
   "source": [
    "### Assumptions of the one sample $t$-test\n",
    "\n",
    "Okay, so what assumptions does the one-sample $t$-test make? Well, since the $t$-test is basically a $z$-test with the assumption of known standard deviation removed, you shouldn't be surprised to see that it makes the same assumptions as the $z$-test, minus the one about the known standard deviation. That is\n",
    "\n",
    "- *Normality*. We're still assuming that the the population distribution is normal.\n",
    "- *Independence*. Once again, we have to assume that the observations in our sample are generated independently of one another. See the earlier discussion about the $z$-test for specifics.\n",
    "\n",
    "Overall, these two assumptions aren't terribly unreasonable, and as a consequence the one-sample $t$-test is pretty widely used in practice as a way of comparing a sample mean against a hypothesised population mean.\n",
    "\n"
   ]
  },
  {
   "cell_type": "markdown",
   "metadata": {},
   "source": [
    "## The independent samples $t$-test (Student test)\n",
    "\n",
    "Although the one sample $t$-test has its uses, it's not the most typical example of a $t$-test. A much more common situation arises when you've got two different groups of observations. In psychology, this tends to correspond to two different groups of participants, where each group corresponds to a different condition in your study. For each person in the study, you measure some outcome variable of interest, and the research question that you're asking is whether or not the two groups have the same population mean. This is the situation that the independent samples $t$-test is designed for. "
   ]
  },
  {
   "cell_type": "markdown",
   "metadata": {},
   "source": [
    "### The data\n",
    "\n",
    "Suppose we have 33 students taking Dr Harpo's statistics lectures, and Dr Harpo doesn't grade to a curve. Actually, Dr Harpo's grading is a bit of a mystery, so we don't really know anything about what the average grade is for the class as a whole. There are two tutors for the class, Anastasia and Bernadette. There are $N_1 = 15$ students in Anastasia's tutorials, and $N_2 = 18$ in Bernadette's tutorials. The research question I'm interested in is whether Anastasia or Bernadette is a better tutor, or if it doesn't make much of a difference. Dr Harpo emails me the course grades, in the `harpo.csv` (hosted on the course website) file. As usual, I'll load the file and have a look at what variables it contains:"
   ]
  },
  {
   "cell_type": "code",
   "execution_count": 55,
   "metadata": {},
   "outputs": [
    {
     "data": {
      "text/html": [
       "<div>\n",
       "<style scoped>\n",
       "    .dataframe tbody tr th:only-of-type {\n",
       "        vertical-align: middle;\n",
       "    }\n",
       "\n",
       "    .dataframe tbody tr th {\n",
       "        vertical-align: top;\n",
       "    }\n",
       "\n",
       "    .dataframe thead th {\n",
       "        text-align: right;\n",
       "    }\n",
       "</style>\n",
       "<table border=\"1\" class=\"dataframe\">\n",
       "  <thead>\n",
       "    <tr style=\"text-align: right;\">\n",
       "      <th></th>\n",
       "      <th>grade</th>\n",
       "      <th>tutor</th>\n",
       "    </tr>\n",
       "  </thead>\n",
       "  <tbody>\n",
       "    <tr>\n",
       "      <th>1</th>\n",
       "      <td>65</td>\n",
       "      <td>Anastasia</td>\n",
       "    </tr>\n",
       "    <tr>\n",
       "      <th>2</th>\n",
       "      <td>72</td>\n",
       "      <td>Bernadette</td>\n",
       "    </tr>\n",
       "    <tr>\n",
       "      <th>3</th>\n",
       "      <td>66</td>\n",
       "      <td>Bernadette</td>\n",
       "    </tr>\n",
       "    <tr>\n",
       "      <th>4</th>\n",
       "      <td>74</td>\n",
       "      <td>Anastasia</td>\n",
       "    </tr>\n",
       "    <tr>\n",
       "      <th>5</th>\n",
       "      <td>73</td>\n",
       "      <td>Anastasia</td>\n",
       "    </tr>\n",
       "  </tbody>\n",
       "</table>\n",
       "</div>"
      ],
      "text/plain": [
       "   grade       tutor\n",
       "1     65   Anastasia\n",
       "2     72  Bernadette\n",
       "3     66  Bernadette\n",
       "4     74   Anastasia\n",
       "5     73   Anastasia"
      ]
     },
     "execution_count": 55,
     "metadata": {},
     "output_type": "execute_result"
    }
   ],
   "source": [
    "harpo_df=pd.read_csv('http://gureckislab.org/courses/fall19/labincp/data/harpo.csv',index_col=0)\n",
    "harpo_df.head()"
   ]
  },
  {
   "cell_type": "markdown",
   "metadata": {},
   "source": [
    "As we can see, there's a single data frame with two variables, `grade` and `tutor`. The `grade` variable is a numeric vector, containing the grades for all $N = 33$ students taking Dr Harpo's class; the `tutor` variable is a factor that indicates who each student's tutor was. The first fiv observations in this data set are shown above."
   ]
  },
  {
   "cell_type": "markdown",
   "metadata": {},
   "source": [
    "We can calculate means and standard deviations, using the `mean()` and `sd()` functions. Rather than show the R output, here's a nice little summary table:"
   ]
  },
  {
   "cell_type": "code",
   "execution_count": 56,
   "metadata": {},
   "outputs": [
    {
     "data": {
      "text/html": [
       "<div>\n",
       "<style scoped>\n",
       "    .dataframe tbody tr th:only-of-type {\n",
       "        vertical-align: middle;\n",
       "    }\n",
       "\n",
       "    .dataframe tbody tr th {\n",
       "        vertical-align: top;\n",
       "    }\n",
       "\n",
       "    .dataframe thead tr th {\n",
       "        text-align: left;\n",
       "    }\n",
       "\n",
       "    .dataframe thead tr:last-of-type th {\n",
       "        text-align: right;\n",
       "    }\n",
       "</style>\n",
       "<table border=\"1\" class=\"dataframe\">\n",
       "  <thead>\n",
       "    <tr>\n",
       "      <th></th>\n",
       "      <th colspan=\"8\" halign=\"left\">grade</th>\n",
       "    </tr>\n",
       "    <tr>\n",
       "      <th></th>\n",
       "      <th>count</th>\n",
       "      <th>mean</th>\n",
       "      <th>std</th>\n",
       "      <th>min</th>\n",
       "      <th>25%</th>\n",
       "      <th>50%</th>\n",
       "      <th>75%</th>\n",
       "      <th>max</th>\n",
       "    </tr>\n",
       "    <tr>\n",
       "      <th>tutor</th>\n",
       "      <th></th>\n",
       "      <th></th>\n",
       "      <th></th>\n",
       "      <th></th>\n",
       "      <th></th>\n",
       "      <th></th>\n",
       "      <th></th>\n",
       "      <th></th>\n",
       "    </tr>\n",
       "  </thead>\n",
       "  <tbody>\n",
       "    <tr>\n",
       "      <th>Anastasia</th>\n",
       "      <td>15.0</td>\n",
       "      <td>74.533333</td>\n",
       "      <td>8.998942</td>\n",
       "      <td>55.0</td>\n",
       "      <td>69.00</td>\n",
       "      <td>76.0</td>\n",
       "      <td>79.0</td>\n",
       "      <td>90.0</td>\n",
       "    </tr>\n",
       "    <tr>\n",
       "      <th>Bernadette</th>\n",
       "      <td>18.0</td>\n",
       "      <td>69.055556</td>\n",
       "      <td>5.774918</td>\n",
       "      <td>56.0</td>\n",
       "      <td>66.25</td>\n",
       "      <td>69.0</td>\n",
       "      <td>73.0</td>\n",
       "      <td>79.0</td>\n",
       "    </tr>\n",
       "  </tbody>\n",
       "</table>\n",
       "</div>"
      ],
      "text/plain": [
       "           grade                                                    \n",
       "           count       mean       std   min    25%   50%   75%   max\n",
       "tutor                                                               \n",
       "Anastasia   15.0  74.533333  8.998942  55.0  69.00  76.0  79.0  90.0\n",
       "Bernadette  18.0  69.055556  5.774918  56.0  66.25  69.0  73.0  79.0"
      ]
     },
     "execution_count": 56,
     "metadata": {},
     "output_type": "execute_result"
    }
   ],
   "source": [
    "harpo_df.groupby('tutor').describe()"
   ]
  },
  {
   "cell_type": "markdown",
   "metadata": {},
   "source": [
    "To give you a more detailed sense of what's going on here, I've plotted histograms showing the distribution of grades for both tutors ({numref}`fig:anastasia` and {numref}`fig:bernadette`). Inspection of these histograms suggests that the students in Anastasia's class may be getting slightly better grades on average, though they also seem a little more variable."
   ]
  },
  {
   "cell_type": "code",
   "execution_count": 66,
   "metadata": {
    "tags": [
     "hide_cell"
    ]
   },
   "outputs": [
    {
     "data": {
      "application/papermill.record/image/png": "iVBORw0KGgoAAAANSUhEUgAAAWAAAAFoCAYAAABpMiEhAAAABHNCSVQICAgIfAhkiAAAAAlwSFlzAAALEgAACxIB0t1+/AAAADl0RVh0U29mdHdhcmUAbWF0cGxvdGxpYiB2ZXJzaW9uIDMuMC4yLCBodHRwOi8vbWF0cGxvdGxpYi5vcmcvOIA7rQAAG6lJREFUeJzt3XuUXWWZ5/FvkQShQSlpGQ1GBFp5vAMSxBYYFaK28YIKNg6xGWyucpF0mxGHW4QZUFEgzZKLRjC2NF65zCABbYEWEGxECLSCj/ZqwpgQl6hUI0gkgcwfe5duD6cqlcuu95yq72etWuvs/e79nuecqvrVW+85+z0Da9asQZI0/jYpXYAkTVYGsCQVYgBLUiEGsCQVYgBLUiEGsCQVYgBrg0XEtIh4MCKua/E+To2I/Tbg/CURMbgR6tgqIm5Yj/MOiIh/2cD7/nZEPGdD+lBvMYC1MbwbuAfYLSJe2tJ97ANMW9+TM3OXzBzaCHU8G3jNRuhnfbyp0P2qJVNLF6AJ4WjgK8C/A3OBIyPiDcAZwH8ArwCeARyTmTdGxE7A+cCWwLbAEuDAzFwZEadRBfoTwK+BQ4D3ADOBT0XEk8CP1+X8zFwREWuAbYDHgQuBnYCtgd8CB2VmNh9QRDwP+EdgeMR5TWaeAnwB2DwilgC7AauBbTLzV/V5a4a3I+J0YE5dx88afW8KfBJ4PTAFuAv4UGY+EhFLgUXAvsB2wFcz8yMR8YX69BsjYjbwduCo+nGuBI7MzHvX/q1SL3EErA0SES8DXgt8Dfgi8DcR8ed18x7A2Zm5K3Ax8LF6/+HAFzPzL4EXATsAb4uIF1AF+O6ZORP4NrBHZp4P3AH8j8y8cl3P7yj5rcBQZr42M3cCfgAc2+WhHQ78R2a+GtgbeHFEbAV8AHi8HlE/Ocrzsh+wP7AL8Dpgq0bzR6mCe7fM3Bl4EPhEo33LzNy7Pu+4iNghMz9Qt72xPn4B8FeZuTvwOWCvkWpR7zKAtaE+SDU6/E1m/gC4HziybnsgM5fUt++kGnECnAA8FBEfoRqNbks1ml0O3A3cGRGfBpZk5lVd7nO9z8/MbwCLIuK4iPgH4A31uZ2uA/aPiMX14/loZv7nOjwvs4ArMvO3mbkauKTR9nZgP+CueiT9LuBljfb/U9e6HPglf3zehh/Dk8DXgVsj4jPAf1L9gVOfMYC13iJiC+BgYK+IWFr/+zwdOIZqvvbxxuFrgIH69peBI4AHgHOpwnkgM5+i+rf8EKp/28+tQ7LTep8fER+kCqvfAZfVfQ3Qof5jsgPV6HJ74PaIeN0IT8VA3femIzxeqEa8w6YAx9ej6F2o5pQPaLSP9Lw163s/8A6qaZ8TgCtGqE09zADWhpgD/ArYNjO3z8ztgR2pRpT/ZZTz3gKcnplfpQqYPYApEbEz8CPgvsz8OFW47lyfs5o/vgi3Puc373tRZl4MJFWITeksMCI+AZxSj6CPp5p33qmuY0pEDIfiQ1Tz01DNVQ+7DnhvRAxGxCbA3zTavgUcGxGb1m0LgY+P8nwNexKYFhHPiYifA7/OzAXAyV0ep/qAL8JpQ3wQOKc5F5qZQxFxHtVc7EhOBK6MiN9QjUS/C7woMy+OiK8Bd0TEo1QjwQ/V51wNfLoeZa7P+cM+DXwuIj5AFWg/BF7ZpcYFwBcj4kfA76mmNr5MFcB3AvdFxJ51/+dHxBDwz8CK+nlYHBGvpJq7frg+f5u67/9V13EXVfgvAT48yvM17ArgFqrpi/8NXB8Rj9c1HTaG89VjBlyOUpLKcApCkgoxgCWpEANYkgrpyxfhImIqMANYVr/HUpL6Tl8GMFX43n/99deXrkOSmp72nu3ROAUhSYUYwJJUiAEsSYUYwJJUiAEsSYUYwJJUiAEsSYUYwJJUiAEsSYUYwJJUSOuXIkfEp6g+JfaQjv3bAZdSfXJCAnMy89G265GkXtHqCDgi9qX6fK5uLgAuyMyXUH1qwClt1iJJvaa1AI6IrYEzgDO7tE0D/ivwjXrXIuC9bdUiSb2ozSmIzwInAS/o0vYc4JHGUpIrqFY4e5qIGAQGO3Z3PVaS+kkrI+CIOAz4eWaOtF5ktyXbnhrh2LnA/R1fN29wkVKPWrV6pF+F/roPrV1bI+ADgekRsQTYGtgyIs7NzL+r2x8CnhURU+pP1J0OPDhCXwuopiiaZmAIa4KaNnUTTrzge63ex5lH79lq/xqbVgI4M980fDsiDgHe0AhfMnNVRNxMFdSXAQcD147Q1xAw1NwXES1ULUnja1zfBxwRn4+Id9abRwNHRMS9wN7AyeNZiySV1vr7gDNzEfUUQmYe1tj/APCGtu9fknqVV8JJUiEGsCQVYgBLUiEGsCQVYgBLUiEGsCQVYgBLUiEGsCQVYgBLUiEGsCQVYgBLUiEGsCQVYgBLUiEGsCQVYgBLUiEGsCQVYgBLUiEGsCQVYgBLUiEGsCQVYgBLUiEGsCQVYgBLUiEGsCQVYgBLUiEGsCQVYgBLUiFT2+w8Ik4HDgDWABdn5jkd7acChwIP17sWZub5bdYkSb2itQCOiNcD+wCvAqYB90bENZmZjcN2B96Xmbe1VYck9arWAjgzvxsRb8zM1RHx/Pq+Hus4bCZwQkTsCNwEzMvMlc0DImIQGOw4b0ZbdUvSeGl1DjgzV0XEacC9wPXA8uG2iNgSuAuYB7yaKmRP6dLNXOD+jq+b26xbksZD6y/CZeZ8YBvgBcDhjf2PZubszPz3zFwNnA3M7tLFAmCHjq+9265bktrW5hzwS4DNMnNJZv4uIq6gmg8ebt8OmJWZl9S7BoBVnf1k5hAw1NF3W2VL0rhp810QOwKnRcReVO+C2A+4pNH+OHBWRNwILAWOAa5ssR5J6imtTUFk5mJgMdU87w+BWzPzKxGxOCJmZuZDwJHA1UBSjYDPbqseSeo1rb4PuJ7/nd+xb3bj9uXA5W3WIEm9yivhJKkQA1iSCjGAJakQA1iSCjGAJakQA1iSCjGAJakQA1iSCjGAJakQA1iSCjGAJakQA1iSCjGAJakQA1iSCjGAJakQA1iSCjGAJakQA1iSCjGAJakQA1iSCjGAJakQA1iSCjGAJakQA1iSCjGAJakQA1iSCjGAJamQqW12HhGnAwcAa4CLM/OcjvZdgIXAVsBNwFGZubrNmiSpV7Q2Ao6I1wP7AK8CZgLHRUR0HHYpcFxm7gQMAIe3VY8k9ZrWRsCZ+d2IeGNmro6I59f39dhwe0S8ENg8M79f71oEnAZc2OwnIgaBwY7uZ7RVtySNl1bngDNzVUScBtwLXA8sbzRvC6xobK+ge7DOBe7v+Lq5lYI1Iaxa/VTL/T/Zav+aPFqdAwbIzPkR8Ungaqophs/VTQNdDu/2m7OAanTcNANDWCOYNnUTTrzge631f+bRe7bevyaH1gI4Il4CbJaZSzLzdxFxBdV88LDlwPMa29OBBzv7ycwhYKij7xYqlqTx1eYUxI7Awoh4RkRsCuwH3DLcmJkPACsjYvjP/cHAtS3WI0k9pbUAzszFwGLgLuCHwK2Z+ZWIWBwRM+vD5gDnRsR9wBbAeW3VI0m9ptU54MycD8zv2De7cftu4DVt1iBJvcor4SSpEANYkgoxgCWpEANYkgoxgCWpEANYkgoxgCWpEANYkgoxgCWpEANYkgoxgCWpEANYkgoxgCWpEANYkgoxgCWpEANYkgoxgCWpEANYkgoxgCWpEANYkgoxgCWpEANYkgoxgCWpEANYkgoxgCWpEANYkgqZ2mbnETEf+Ot685rM/EhH+6nAocDD9a6FmXl+mzVJUq9oLYAjYhbwZmBXYA1wXUS8OzOvbBy2O/C+zLytrTokqVe1OQJeAXw4M58AiIj7gO06jpkJnBAROwI3AfMyc2XzgIgYBAY7zpvRTsmSNH5aC+DM/PHw7Yh4MXAg8LrGvi2Bu4B5wFJgEXAKcFJHV3OB+W3VKUmltDoHDBARLweuoRrd/mx4f2Y+CsxuHHc2cAlPD+AFVOHcNAO4uY16JWm8tP0i3J7A5cDczPxKR9t2wKzMvKTeNQCs6uwjM4eAoY5z2ylYksZRmy/CvQC4CjgwM2/ocsjjwFkRcSPVFMQxwJVdjpOkCanNEfA8YDPgnMaI9SLgncCpmXlHRBwJXA1sCtwCnN1iPZLUU9p8Ee544PguTRc1jrmcaopCkiYdr4STpEIMYEkqxACWpEIMYEkqxACWpEIMYEkqxACWpEIMYEkqxACWpEIMYEkqZEwBHBEXd9nnJcSStAFGXQsiIi4Eng/sHRHbNJqmAS9pszBJmujWthjPxcArgJ3500VzVgN+jpskbYBRAzgz7wDuiIjvZOaycapJkiaFsS5H+RcR8SVga6pPrgAgM1/VSlWSNAmMNYDPp/q8tjupPmJekrSBxhrAT2TmOa1WIkmTzFjfB/yjiHhlq5VI0iQz1hHwjsAPI+IBqg/TBJwDlqQNMdYAPqnVKiRpEhprAP9bq1VI0iQ01gD+FdW7Hwb447sgVgAz2ihKkiaDMQVwZv7hxbqImAbsT3V1nCRpPa3zamiZuSozvwK8qYV6JGnSGNMIOCK2bmwOADOBZ7dSkSRNEuszBwzwS+BDrVQkSZPEOs8BS5I2jrFOQWwCzAPeSrUW8LeBMzNz9VrOmw/8db15TWZ+pKN9F2AhsBVwE3DU2vqUpIlirCPbjwP7AP8AnAO8DvjUaCdExCzgzcCuwC7AbhHx7o7DLgWOy8ydqKY3Dh976ZLU38Y6B/xXwMzMXAUQEdcAdwN/N8o5K4APZ+YT9Tn3AdsNN0bEC4HNM/P79a5FwGnAhc1OImIQGOzo2/cfS+p7Yw3gTYbDFyAzfx8Rq0Y7ITN/PHw7Il4MHEg1ch62LVVIDxvpwo65wPwx1ilpDFatfoppU9t7aaft/ieKsQbwkog4F/hMvX0scM9YToyIlwPXAPMy82eNpoEuhz/VZd8CqtFx0wzg5rHcv6SnmzZ1E0684Hut9X/m0Xu21vdEMtYAPgY4D7iVat74OuC4tZ0UEXtSfZbc3PrijablwPMa29OBBzv7yMwhYKij3zGWLUm9a9T/ESJi04j4IrBPZh6Smc8FbgeeBB5Zy7kvAK4CDuoSvmTmA8DKOqQBDgauXY/HIEl9aW0j4NOBZ1GNfIcdDlwAfAw4eZRz5wGbAec0RqwXAe8ETq0/8HMOsDAingncRTXKlqRJYW0B/HZg98xsLsL+YEQcTPWx9CMGcGYeDxzfpemixjF3A69Zp4olaYJY28uUTzTDd1hmPgL8vp2SJGlyWFsAP1lPD/yJet+0dkqSpMlhbQH8ZeDzEbHF8I769uep3t0gSVpPa5sDXkA1Z/uLiPgxVWC/FPgnqhfoJEnradQAzsyngCMi4kzg1VQXStyemU97v64kad2MdTnKpcDSViuRpEnGi7UlqRADWJIKMYAlqRADWJIKMYAlqRADWJIKMYAlqRADWJIKMYAlqRADWJIKMYAlqRADWJIKMYAlqRADWJIKMYAlqRADWJIKMYAlqRADWJIKMYAlqRADWJIKGdOHcm6IiHgWcCvw9vrDPZttpwKHAg/XuxZm5vlt1yRJvaDVAI6IPYCFwE4jHLI78L7MvK3NOiSpF7U9BXE4cAzw4AjtM4ETIuKeiPhMRGzWcj2S1DNaHQFn5mEAEfG0tojYErgLmAcsBRYBpwAndRw3CAx2nD5joxcrSeOs9TngkWTmo8Ds4e2IOBu4hI4ABuYC88exNEkaF8XeBRER20XE3zZ2DQCruhy6ANih42vv9iuUpHYVGwEDjwNnRcSNVFMQxwBXdh6UmUPAUHNftykNSeo34z4CjojFETEzMx8CjgSuBpJqBHz2eNcjSaWMywg4M7dv3J7duH05cPl41CBJvcYr4SSpEANYkgoxgCWpEANYkgoxgCWpEANYkgoxgCWpEANYkgoxgCWpEANYkgoxgCWpEANYkgoxgCWpEANYkgoxgCWpEANYkgoxgCWpEANYkgoxgCWpEANYkgoxgCWpEANYkgoxgCWpEANYkgoxgCWpEANYkgoxgCWpkKlt30FEPAu4FXh7Zi7taNsFWAhsBdwEHJWZq9uuSZJ6Qasj4IjYA7gF2GmEQy4FjsvMnYAB4PA265GkXtL2CPhw4BjgS50NEfFCYPPM/H69axFwGnBhx3GDwGDH6TM2eqWSNM5aDeDMPAwgIro1bwusaGyvoHuwzgXmb/Ti1NWq1U8xbWq7Lw2Mx32orLa/x6tWP8m0qVNa7H98fkZbnwMexUCXfU912beAanTcNAO4eWMXJJg2dRNOvOB7rd7HmUfv2Wr/Kq/tn6Mzj96z9f7HQ8kAXg48r7E9HXiw86DMHAKGmvtGGFFLUl8p9n9gZj4ArIyI4T81BwPXlqpHksbbuAdwRCyOiJn15hzg3Ii4D9gCOG+865GkUsZlCiIzt2/cnt24fTfwmvGoQZJ6jS9FS1IhBrAkFWIAS1IhBrAkFWIAS1IhBrAkFWIAS1IhBrAkFWIAS1IhBrAkFWIAS1IhBrAkFWIAS1IhBrAkFWIAS1IhBrAkFWIAS1IhBrAkFWIAS1IhBrAkFWIAS1IhBrAkFWIAS1IhBrAkFWIAS1IhBrAkFWIAS1IhU9vsPCIOAk4GNgXOzczzO9pPBQ4FHq53Lew8RpImqtYCOCKeD5wB7Ab8Hrg1Im7MzHsbh+0OvC8zb2urDknqVW2OgGcBN2TmbwAi4hvAAcDpjWNmAidExI7ATcC8zFzZ7CQiBoHBjr5ntFa1JI2TNueAtwVWNLZX0AjOiNgSuAuYB7yaKmRP6dLPXOD+jq+b2ylZksZPmyPggS77nhq+kZmPArOHtyPibOAS4KSOcxYAizr2zcAQltTn2gzg5cDeje3pwIPDGxGxHTArMy+pdw0Aqzo7ycwhYKi5LyI2erGSNN7aDODvAB+LiG2Ax4D9gSMa7Y8DZ0XEjcBS4BjgyhbrkaSe0toccGYup5pOuBFYAlyWmbdHxOKImJmZDwFHAlcDSTUCPruteiSp17T6PuDMvAy4rGPf7Mbty4HL26xBknqVV8JJUiEGsCQVYgBLUiEGsCQVYgBLUiEGsCQVYgBLUiEGsCQVYgBLUiEGsCQVYgBLUiEGsCQVYgBLUiEGsCQVYgBLUiEGsCQVYgBLUiEGsCQVYgBLUiEGsCQVYgBLUiEGsCQVYgBLUiEGsCQVYgBLUiEGsCQVMrXNziPiIOBkYFPg3Mw8v6N9F2AhsBVwE3BUZq5usyZJ6hWtjYAj4vnAGcBewM7AERHxso7DLgWOy8ydgAHg8LbqkaRe0+YIeBZwQ2b+BiAivgEcAJxeb78Q2Dwzv18fvwg4Dbiw2UlEDAKDHX2/EOAXv/hFW7VPao898qtW+1+2bFmr/UO7j2HZsmV93f943MdE6H997LvvvtsDy8b6n3ybAbwtsKKxvQJ4zVraZ3TpZy4wv9sdzJkzZwNLVAnXfaF0BRum7frH4/np98fQw/3fD+wALB3LwW0G8ECXfU+tQ/uwBVSj46ZNgR2BnwFPrkNNM4Cbgb2B9odhG1+/1w/9/xj6vX7o/8fQ6/WPuaY2A3g51RM0bDrwYEf780ZpByAzh4ChLv3/dF0Liojhm8syc+m6nl9av9cP/f8Y+r1+6P/H0O/1N7X5NrTvAPtGxDYR8WfA/sB1w42Z+QCwMiL2rHcdDFzbYj2S1FNaC+DMXA6cBNwILAEuy8zbI2JxRMysD5sDnBsR9wFbAOe1VY8k9ZpW3wecmZcBl3Xsm924fTd/+sKcJE0ak+1KuCGqt7p1m1PuB/1eP/T/Y+j3+qH/H0O/1/8HA2vWrCldgyRNSpNtBCxJPcMAlqRCDGBJKqTVd0H0ioj4FLBNZh7STyuwRcQNwHOBVfWuI4G/YJQV5npNRLwD+BjV2wy/lZnHR8Qs4Bxgc+CrmXlywRJHFBGHAcc2du0AfAm4ij6of1hEvB/4n/XmtZk5r89+Dz4KfAD4PdXzfUY/1T+aCT8Cjoh9gUMau/piBbaIGABeAuycmbtk5i5UlziubYW5nhEROwIXAfsBrwReHRFvBS6p970U2L3e13My8/ON534O8Evgk/RJ/QD1RVDnAa+n+pnZu/4D2C+/B7OAg4DdgV2BPSLiPfRJ/WszoQM4IramCqwz6+1uK7C9t0x1axXAGuDaiLg7Io6lscJcZj4GDK8w16veTTViWZaZq4ADgd8BP8vM++sRy6X07veg6ULgROo1SPqo/ilUv+dbANPqr1X0z+/BrlT/OT2SmU9SXU17HP1T/6gmdAADn6W6Gu/henusK7D1gmcD1wPvAvYFjgK2o3/qB3gRMCUivhURdwNH01/fA+APo7DNM/Pr9Fn9mflb4BTgJ1TrrywFnqB/HsOdwFsiYuuI2Ax4J7Ca/ql/VBM2gOv5u59n5vWN3WNdga24zLwtMw/OzMcy81fAxdRrKXfoyfprU6lG7e8HXkt11eMOXY7r5ccA1dz7OfXtvvkZAoiIVwF/S7WG9nSq1QPf3OXQnnwM9e/vIuBfqEa/t1CN6jv1ZP1rM5FfhDsQmB4RS4CtgS2p/qVf6wpsvSAi9gKe0fgDMkA1eumL+mu/AL6TmQ8BRMRVVP8qNpcQ7enHEBGbUs2fHlLvGtMqfj3kLcD1mflLgIhYBMyjTx5DRDwTuCIzz6m3/x54gNFXWuwbE3YEnJlvysxX1C+gnAr838z8AP2zAtsg8KmI2Kz+IfzvVCPJEVeY60HfpPr3cTAipgBvpZq3joh4Ub3vIHr3ewDwKuCn9Zw7wL/SX/XfDcyKiC3qF3bfAXyX/vk92AG4KiKmRsRWwGHA5+mf+kc1YQN4FH2xAltmfhO4BrgL+CFwSWZ+jy4rzJWrcnSZ+a/AWVT/Nt5LNXK5kGo0eXm97ydUodyrdqSxwHZmrqSP6s/MbwNfpvoZuofqRbhP0D+/B/dQPdf3ALcD59W/B31R/9q4FoQkFTIZR8CS1BMMYEkqxACWpEIMYEkqxACWpEIMYKmLiHhORPgWIbXKAJakQibypciaZOp1Yw8Ffku1Ruy7qNYQ2JpqHeVvUq2pcT7VpenbUl3QcmBmrqyXOTyDasW2H3T0fSjVYkKbAL8Gjs3Mn7T/qDSROQLWhBARb6G6Qm13YDfgmY3mP8vMl2fmCVTrxn4xM/+SarW2HYC3RcRzqdb53T8zd6O6am+479dTXQq+d2buSnV13xXtPypNdAawJorZwNczcygz11CNcofd0rh9AvBQRHyE6rLobalGw3sB/5aZ99bHfbZxztuowvrWenGns4Ct6/WmpfXmFIQmitX86VKRzRXXHm3c/jLVz/3XqNba2K4+b03H+c2Pt5kCfKkeQRMRm1AF98NIG8ARsCaKa4D96xWzoJoL7vYuhrcAp2fmV+v2PagC9mbg5RGxc33cIY1zvg38t4iYXm8fRbVYvrRBDGBNCJl5A9WHNN4WEXdQfVjj77oceiJwZX3MRVRLM76oXrP4IOCfIuJOGgvHZ+a3qD4L7p8j4p76uPfUUx3SenM1NE0IETETeF1mnldv/z2wR2YeWLYyaWTOAWui+ClwQkQcQTW18P+AI8qWJI3OEbAkFeIcsCQVYgBLUiEGsCQVYgBLUiEGsCQV8v8BxkkpUsalZGYAAAAASUVORK5CYII=\n",
      "application/papermill.record/text/plain": "<Figure size 360x360 with 1 Axes>"
     },
     "metadata": {
      "scrapbook": {
       "mime_prefix": "application/papermill.record/",
       "name": "anastasia_fig"
      }
     },
     "output_type": "display_data"
    },
    {
     "data": {
      "image/png": "[encoded data removed]",
      "text/plain": [
       "<Figure size 360x360 with 1 Axes>"
      ]
     },
     "metadata": {
      "needs_background": "light"
     },
     "output_type": "display_data"
    }
   ],
   "source": [
    "p1=sns.displot(harpo_df[harpo_df['tutor']==\"Anastasia\"].grade,bins=np.arange(40,100,5))\n",
    "p1.ax.set_title(\"Anastasia students\")\n",
    "glue(\"anastasia_fig\",p1.fig,display=False)"
   ]
  },
  {
   "cell_type": "markdown",
   "metadata": {},
   "source": [
    "```{glue:figure} anastasia_fig\n",
    ":figwidth: 550px\n",
    ":name: \"fig:anastasia\"\n",
    "\n",
    "Histogram showing the overall distribution of grades for students in Anastasia’s class.\n",
    "```"
   ]
  },
  {
   "cell_type": "code",
   "execution_count": 64,
   "metadata": {
    "tags": [
     "hide_cell"
    ]
   },
   "outputs": [
    {
     "data": {
      "application/papermill.record/image/png": "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\n",
      "application/papermill.record/text/plain": "<Figure size 360x360 with 1 Axes>"
     },
     "metadata": {
      "scrapbook": {
       "mime_prefix": "application/papermill.record/",
       "name": "bernadette_fig"
      }
     },
     "output_type": "display_data"
    },
    {
     "data": {
      "image/png": "[encoded data removed]",
      "text/plain": [
       "<Figure size 360x360 with 1 Axes>"
      ]
     },
     "metadata": {
      "needs_background": "light"
     },
     "output_type": "display_data"
    }
   ],
   "source": [
    "p2=sns.displot(harpo_df[harpo_df['tutor']==\"Bernadette\"].grade,bins=np.arange(40,100,5))\n",
    "p2.ax.set_title(\"Bernadette students\")\n",
    "glue(\"bernadette_fig\",p2.fig,display=False)"
   ]
  },
  {
   "cell_type": "markdown",
   "metadata": {},
   "source": [
    "```{glue:figure} bernadette_fig\n",
    ":figwidth: 550px\n",
    ":name: \"fig:bernadette\"\n",
    "\n",
    "Histogram showing the overall distribution of grades for students in Bernadette’s class.\n",
    "```"
   ]
  },
  {
   "cell_type": "markdown",
   "metadata": {},
   "source": [
    "Here is a simpler plot showing the means and corresponding confidence intervals for both groups of students ({numref}`fig:teachers`)."
   ]
  },
  {
   "cell_type": "code",
   "execution_count": 69,
   "metadata": {
    "tags": [
     "hide_cell"
    ]
   },
   "outputs": [
    {
     "data": {
      "application/papermill.record/image/png": "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\n",
      "application/papermill.record/text/plain": "<Figure size 360x360 with 1 Axes>"
     },
     "metadata": {
      "scrapbook": {
       "mime_prefix": "application/papermill.record/",
       "name": "teachers_fig"
      }
     },
     "output_type": "display_data"
    },
    {
     "data": {
      "image/png": "[encoded data removed]",
      "text/plain": [
       "<Figure size 360x360 with 1 Axes>"
      ]
     },
     "metadata": {
      "needs_background": "light"
     },
     "output_type": "display_data"
    }
   ],
   "source": [
    "p1=sns.catplot(x=\"tutor\", y=\"grade\", data=harpo_df, kind='bar',ci=95)\n",
    "glue(\"teachers_fig\",p1.fig,display=False)"
   ]
  },
  {
   "cell_type": "markdown",
   "metadata": {},
   "source": [
    "```{glue:figure} teachers_fig\n",
    ":figwidth: 550px\n",
    ":name: \"fig:teachers\"\n",
    "\n",
    "Plot showing the mean grade for the students in Anastasia’s and Bernadette’s tutorials. Error bars depict 95% confidence intervals around the mean. On the basis of visual inspection, it does look like there’s a real difference between the groups, though it’s hard to say for sure.\n",
    "```"
   ]
  },
  {
   "cell_type": "markdown",
   "metadata": {},
   "source": [
    "### Introducing the test\n",
    "\n",
    "The **_independent samples $t$-test_** comes in two different forms, Student's and Welch's. The original Student $t$-test -- which is the one I'll describe in this section -- is the simpler of the two, but relies on much more restrictive assumptions than the Welch $t$-test. Assuming for the moment that you want to run a two-sided test, the goal is to determine whether two \"independent samples\" of data are drawn from populations with the same mean (the null hypothesis) or different means (the alternative hypothesis). When we say \"independent\" samples, what we really mean here is that there's no special relationship between observations in the two samples. This probably doesn't make a lot of sense right now, but it will be clearer when we come to talk about the paired samples $t$-test later on. For now, let's just point out that if we have an experimental design where participants are randomly allocated to one of two groups, and we want to compare the two groups' mean performance on some outcome measure, then an independent samples $t$-test (rather than a paired samples $t$-test) is what we're after.\n",
    "\n",
    "Okay, so let's let $\\mu_1$ denote the true population mean for group 1 (e.g., Anastasia's students), and $\\mu_2$ will be the true population mean for group 2 (e.g., Bernadette's students),[^funnyquestion] and as usual we'll let $\\bar{X}_1$ and $\\bar{X}_2$ denote the observed sample means for both of these groups. Our null hypothesis states that the two population means are identical ($\\mu_1 = \\mu_2$) and the alternative to this is that they are not ($\\mu_1 \\neq \\mu_2$). Written in mathematical-ese, this is...\n",
    "\n",
    "$\n",
    "\\begin{array}{ll}\n",
    "H_0: & \\mu_1 = \\mu_2  \\\\\n",
    "H_1: & \\mu_1 \\neq \\mu_2\n",
    "\\end{array}\n",
    "$\n",
    "\n",
    "[^funnyquestion]: A funny question almost always pops up at this point: what the heck *is* the population being referred to in this case? Is it the set of students actually taking Dr Harpo's class (all 33 of them)? The set of people who might take the class (an unknown number) of them? Or something else? Does it matter which of these we pick? It's traditional in an introductory behavioral stats class to mumble a lot at this point, but since I get asked this question every year by my students, I'll give a brief answer. Technically yes, it does matter: if you change your definition of what the \"real world\" population actually is, then the sampling distribution of your observed mean $\\bar{X}$ changes too. The $t$-test relies on an assumption that the observations are sampled at random from an infinitely large population; and to the extent that real life isn't like that, then the $t$-test can be wrong. In practice, however, this isn't usually a big deal: even though the assumption is almost always wrong, it doesn't lead to a lot of pathological behavior from the test, so we tend to just ignore it."
   ]
  },
  {
   "cell_type": "code",
   "execution_count": 73,
   "metadata": {
    "tags": [
     "hide_cell"
    ]
   },
   "outputs": [
    {
     "data": {
      "application/papermill.record/image/png": "iVBORw0KGgoAAAANSUhEUgAAAlkAAAENCAYAAAA8D3A7AAAABHNCSVQICAgIfAhkiAAAAAlwSFlzAAALEgAACxIB0t1+/AAAADl0RVh0U29mdHdhcmUAbWF0cGxvdGxpYiB2ZXJzaW9uIDMuMC4yLCBodHRwOi8vbWF0cGxvdGxpYi5vcmcvOIA7rQAAIABJREFUeJzs3Wd0XNl14Pv/rVzIOWeAPAQzO6qT1N2SupVteeRsy3Ek27I8mvc89nte8/ws2WPNWLKlUbBky7aCbSXLUsuSLKuTOrMD2cwELnIORM5VqHDnQ1Wx0WiAAMiqOhX2by2sBoGqezfZ5ME+5+y7j2FZFkIIIYQQIr5sugMQQgghhMhEkmQJIYQQQiSAJFlCCCGEEAkgSZYQQgghRAJIkiWEEEIIkQCSZAkhhBBCJIAkWeJVlFIDSqlblFL3KqUubvH9Lb+egDgKlVKPb/i1pZQqi9O1P6KUem88riWE2B2l1JeUUr8f/fyPlVI/kaT73qqU+nz081uUUt+K03X/RCn1mXhca4f7bIw/ruOvUurflVIH43U98VoO3QEIsY1i4LZEXNg0zT9OxHWFELt2P3A5Sfc6BNQBmKZ5CnhPku4bL1fjjzfTNN+WiOuKV0iSlaGUUvcC/wPoAw4DbuADpmn+WCn1JeCiaZofj772Vb/ehTyl1NeBA4AH+M/AaWAUuN00za7odR8BPgO8G7CAdqAceBj4PdM0A0qpe4CPATnAOvDfTdP8D+CLgFcpdRa4OXrfDyulXgeUAh8zTfOz0fv8BvA7RFZmZ4DfNU2zUyl1N/BXgD16/4+apvmvG3+/SqkPR+Nbj773V03THN/ln4MQYgOllA34BPA6IB8wgN80TfPZDa/5AHAL8DGlVAj4AfC/gDcQ+bd6hsj4sKiUGgBeAI4CfxS99peANwINwDdM0/yD7e4LDAEfAQqVUl8EvkxkTLoLGAb2m6Y5EY3reeDDwGPbxbPFb/mAUurHQDUwCfwc0AJ8HWg0TTOslMoBBoiMwy8C3wHuAYqAvzRN83PR+78P+D0gFL3W7wJrW8T/mvHXNM2nlVKua/w5/jbwW0TGOR/wftM0L0f/fN8DdBIZc/cBYSLj+ftN0wxv8XsWeyDbhZntdiL/iE8Afw/8SZyuWwd8wjTN48DfAH9imuYqkQHgNwGUUq2AAr4ffc8x4E3AwejH+5VSpcC3gP9imuZR4FeAf1JKNQO/BqyZpnncNM1Q9Bp9pmneTCQp+kullFMp9Ybo++6J/j7/Avh29PUfBv4q+p5fJzJ7vkopVQ98CLjVNM1biCR/t8fpz0iIbHQ7UAPcYZrmQSJjwv+z8QXRydEp4L+Zpvmd6PeDwM2maR4DxoD/ueEtF03TbI++FiDPNM17gDuBD0bHiy3va5rmMPDHwNOmaf7ahhgWiCQ7vwSglGonkij9aBfxbNQC/IxpmgeAOV5JKGeAt0Rf83PAY6ZpXon+Oge4FbgX+IhS6ohS6n7gD4D7ovf8KvAQMLJF/K8Zf6Nf3zJupZQd+CTwFtM0bwX+Frh70+/j3UB+9Jq3bvi9iRskSVZmGzRN82z085eBkjhdt9c0zRein58FKqKf/zXwXqWUE3gf8HcbEqQvmaa5bJqmH/gK8CCRgbEndi3TNC8BzxIZfLby1Q33dAMFwNuBNuC56KrXXwAlSqkS4JvAZ5VS/0xkNeyPNl1vFDgHvKyU+jhw1jTNh/b8pyGEAMA0zZPAfycyifo4kVWSvB3e9g7gJ4Az0X/DP0lkIhbz9KbXfzd6r1HgClBynff9ApEJGkQmdV+MrtzsFM9Gj5imORX9/ByvjIWfJbLCD/B+4HMb3vNZ0zQt0zRHgP8AHiCSkH0jdi3TNL8E1AJNW9xzu/F3y7ijY/C/EBkjPwMsEJl0b/QMcEgp9QSRZO2Tpmn2bPN7FnsgSVZmW9vwuUVkCX3z5wCuPV43sNV1o9uE54n8Q/9F4O82vC644XMbkSXxrf7+2QDnte5rmmbswE2DyLL4P0ZXvI4DNxHZipgzTfNvgCPAI0SSuvNKqcLYxaID6huAXyUy8/yEUup/X+s3LoTYnlLq7US2/yCSDH2eV481W7ETWc2O/Ru+jVfXTS1vev1rxrXrua9pms8ADqXUbcAvAP+wy3g22nIsBP4ZuFspdR+RlbenNrxut2OhwdZj4Xb33DZu0zR/CXgn0AP8Ia+s9hP9fj+RyepHiUxeH1VKpVvtWkqSJCs7TRFJRIg+sXdPHK/9WSI1Vi+Ypjm24es/q5RyK6U8RGaP3wOej4SgbovGcgh4PfAEkYHIrpTaaYB+GPh5pVR19Ne/RaSmAqXUc8CJ6KzwfURqIIpjb1RKHQMuAh2maX6USE3Hsev8fQsh4M3A96J1Ri8RWU2xb/G6IK8kED8Cflcp5YrWVn2ByA/7eN134702+zvg08B50zSH4hVPtHzin4gkbp/f9O33AiilGoisYv0wes+fVUqVR7/3a0Qmfj07xL/RlnErpcqUUsPAjGmanySy4veqcS5as/VF4GHTNP8weq3De/k9i61JkpWdPg1UK6VMIjOuJ+J47e8TWabfPLCsEln2vxD97xdN05wGfhr4tFLqApHtwF+LroiNE9ni7IjWbm3JNM0fESn2fEQpdZ7IjPSnoqtdf0Ck5uEM8GPgw6ZpDmx47zkiW4qnlFKniNRt/dcb/P0Lkc0+D7wh+m/xJNALNEd/6G/0PeDjSqlfAf6USGH4GSJPHBrA/x3H+54kUqD+nS3e92XgOK9edY9HPBBJWiqIlEds1KyUOk1kq/D3zIhHiEzyHldKXSIyEX1HdLX9WvFvtGXc0XH2z4DHovf9n0RrZzf4CpGk9HJ0LCwAZFU/DgzLsnZ+lRC7pJS6k8gM6nBsW+86nl4UQoi0FV2B/0MiTxj+9oavDwDvibaSEFlAWjiIuFFKfZlI0fp7N9RNCSFEtukjUpbxLt2BCL1kJUsIIYQQIgGkJksIIYQQIgEkyRJCCCGESABtNVlKKQeRzrUjpmkGd3q9EEKkChm/hBC7obPwvQ7of+yxxzSGIIRIsp36nqULGb+EyE57GsNku1AIIYQQIgEkyRJCCCGESABJsoQQQgghEkCSLCGEEEKIBJAkSwghhBAiASTJEkIIIYRIAEmyhBBCCCESQJIsIYQQQogEkCRLCCGEECIBJMkSQgghhEgASbJEUv3yL/8yvb29AMzNzfGOd7xDc0RCiGyUCmNRKsQgEkuSLJFUg4ODNDc3A2CaJvv379cckRAiG6XCWJQKMYjE0nlAtMgyo6OjVFZWYrNFcnvTNFFKaY5KCJFtthuLVldX+fCHP4zT6eS2227jXe96V9JjGB4e5nOf+xzLy8t86lOfStj9RXLISpZIms7OzlclVZcuXZIkSwiRdNuNRQ8//DAPPvggf/Znf8bjjz+uJYb6+nr+/M//PKH3FskjSZZImo6ODvx+PwADAwM89thjsjwuhEi67caiyclJqqurAbDb7VpiEJklKduFSqkioGjTl+uScW+ROkzTxOVy8a53vQulFG1tbXznO9/hAx/4gO7QhNiWjF+ZZ7uxqLa2lomJCdrb2wmHw1pikPEwsySrJutDwP+fpHuJFGWaJt/+9rfJy8vTHYoQeyHjV4bZbixaXV3lT//0T3niiSe47777tMQwNzfHJz7xCS5fvszf/M3f8P73vz+hcYjESlaS9UngS5u+Vgc8naT7C82Wl5cxDEMSLJGOZPzKINcai3JycvjoRz+qNYbi4mI+8pGPJDwGkRyGZVlabqyUagL6H3vsMerqZOVdiCxh6A4gHmT8EiJr7WkMk8J3IYQQQogEkCRLCCGEECIBJMkSQgghhEgASbKEEEIIIRJAkiwhhBBCiASQJEskXDhsEQwltrGfEEIIkWrkgGiRMOuBEI+8OMS//ribpZV1bj9UzX231HHzgUrdoQkhsswjLwzytUdM7DaDXK+Tt93ZzAO3Nybt/pYVZv6Zb7HS+QJh/wqG3UHpA79BTuuJpMUgkk9WskRCzC/5+cDHHufz3z5PSYGHO4/VcNqc5E++8Dzff6ZPd3hCiCzhD4T41DfO8KlvnqWkwENbfRGWBZ/+5ln+8YcdJKNXpBUKMPVvn2buqW9gc7nw1DQDFhNf/x/MPfVNLEtW+jOVrGSJuAuFLT72T6eYXfDxh796KwfbyjAMg1965yE+87UzfOGhC1SW5HDrwSrdoQohMtxf/vNpTl4Y56fua+Mn7t+HYTMIhcJ8+d8u8c1Hu1haWed33nMsYfe3wiEmvvlR1vrOUXzXOyk6chTDsAgHAkw//TBzT3+DcNBP6f2/nLAYhD6ykiXi7ms/6uR8zzS//pOHObSvHMOINMh12G389s8co6G6gL/4x1MMjC9qjlQIkclOXhjj5IVxfv5BxU++aT+GLTIW2e02fu0nD/PgXU388OQAZ7uuJCyGpTOPsNZ3jrL730Px0UiCBWBzOim/723kHTjGwvP/hn+iP2ExCH0kyRJxdbF3mm882sUbb63nzhOvPW7E7XLwX3/5FlxOO1946IKGCIUQ2WBlLcDnv32BpuoCHrir+TXfNwyDn36zoqIkh89/5wKBYPy37EKrS8w++TU8DQfI36+AV29NGoZB6R33Y/d4mf7BX2OFQ3GPQeglSZaIq689bFJc4OYX3n5w29cUF3h4xxtaOd8zzYXe6SRGJ4TIFl/598vMLfn4zXcfxm7f+kedy2nnF9/WzuiV5YTUis4+8VXCvlXK7n7g6grWZnaPl9K734x/oo/FUz+MewxCL0myRNx0Dsxyvmead9zTgtNpv+Zr77+tgeJ8N/+UpMJTIUT2uDK3yn+cHOCB1zXSUFt0zdceP1DBsf3lfO1hk/klf9xi8E8OsHTmEQpO3IurMP+ar81tbcdb38Lc098kHIhfDEI/SbJE3Hzj0S7yc1y8/pb6HV/rctp5572tXO6f5WzXVBKiE0Jki39/NlLf9Na7WnZ8rWEY/NxbD7DmD/LwC4Nxi2Hhxe9jOF0Un7iVzduEW8VQdOIOwr4Vli89E7cYhH6SZIm46Btd4FTHJG+7qwm3a3cPrb7hlnpKCz187REzwdEJIbKFPxDi4RcGufVQFSXF3l29p7Yin/aWUv7j+QFC4RtfWQ+tLbFy+Vny2m/D7rr2qn6Mp6YBV0kFiy99X1b3M4gkWSIuvvNkD163g/v20NzP6bDzpjua6OifZXRqOYHRCSGyxZMvj7C0GuDNr9tbo9E33tbA1NwaL3dO3nAMS+efwAquU3Dw6K7fYxgGBUduZv3KEL7hjhuOQaQGSbLEDVvzBzl5YZy7j9eS43Xu6b13HavBMODxl4YSFJ0QIltYlsX3n+mjsSqffU0le3rvTQcrKcxz84PnBm44hqWXH8Zd04q7uHhP783bdxib28Pii9+7oRhE6pAkS9yw5y+O418Pccex6j2/t6jAw5G2ch4/NUw4Dsv0Qojs1TkwR//YIg/e2XS1P99uOew23nBLHS93TnJldvW6Y/ANXiQwO0bB4duAvbWFsDmd5LcfZ6XrFMGlueuOQaQOSbLEDXvi9AgVxV5a6vc2a4u5+6Zaphd8XOiRdg5CiOv31NkRnA4btxze+4QP4N5bGwB45MXrL4BfPPMINk8euU3Xdy5i/oGjYIVZ6Tx53TGI1CFJlrghc0s+znZd4a7jNdhse5s5xtzUXkmOx8GjsmUohLhO4bDFc+fHOaHK8biv78S4siIvB5pKeObc2PXFEFxntfs0ufuOY9umN9dOXMVlOIvLWemQpwwzgSRZ4oY8fXaUsAWvO1pz3ddwOe3cfqSakxfGWfUF4hidECJbdA7OMrvo49ZD17eKFXPzoSpGriwzPLm05/eu9Z3DCvjIbd53QzHktip8w10El2XLMN1JkiVuyBOnR2iuKaC64trN9nZyx7Ea/IEQZ6RnlhDiOjx7fgyH3cYxVX5D17nlYCUAJy+M7/m9K+YL2Nw5eKtvLNHLa20HLFY7X7ih6wj9JMkS121qbo3u4XnuOHb9q1gx+xqKyfU6eeHiRBwiE0Jkk3DY4rlzYxzfX47Hs7cnnDcrKfTSWl/Ecxf2tmVohYKsdr9ETssRjBv8yeosLsNZVMqybBmmPUmyxHU7Fe0nc2x/xQ1fy263cXR/Oac6J+PSDFAIkT26hueYXvBx2+GquFzvloOV9I4scGVu908Z+oYuE15bJrflxrYKIdIzK7f1AL7hTkIrCzd8PaGPJFniup3umKSi2EtVeW5crnfiQAVLK+t0DUodghBi9547P47DbnBU3fiED+Dmg5FkbS9bhivmCxgOF96aurjEkNvaDpbFiilbhulMkixxXdYDIc52T3HiQMWe+9Fs58i+cuw2gxcu770WQgiRvU53TnKwuXTPzZC3U1WWS31lPs+d392WoWWFWTFfxNt8CJsjPj9WXSXlOPILWe05FZfrCT0kyRLX5WLvDP71EEf331iR6Ua5Xif7m0p48dKNH2shhMgO0/NrDE0scXR/WVyve/xABZ2Dc7t64nn9yhCh5Vlym258qzDGMAy89c2sDV7CCgXjdl2RXJJkietyqnMSl9POgebSuF73xIEKhieXmJhZiet1hRCZ6WzXFQAOtsY3yTrcVkY4bO2qSfJa/zkAvNW1cY3BW9eCte7DP9YT1+uK5JEkS+yZZVmcujzJ4dZSnM7dnTC/WycORGoqXrosq1lCiJ2dMacozndTW3ljbWQ2a2sowuW08/Iu2sqs9Z/DWVqDIzc+9akx3romMAxWe0/H9boiea6vLe4eKaWKgKJNX45PdaBIurHpFcZnVnjrXU1xv3ZlaS4VJTmc7Z7infe0xP36QuyVjF+pKxS2ONM1xU1xrA2NcTrsHGguubpStp1wcB3fUAf5R+5kr2cV7sTu9uCuqGGt7wzc+4txvbZIjmStZH0I6N/08XSS7i3i7IwZGXQO7YtfPdZG7c0lXOqdkVYOIlXI+JWi+kbnWVpd53BbfLcKYw63lTE2tcLU3Nq2r/EPd2IF1/HWNiQkBm99M/7xAUJre+9AL/RLVpL1SaB508c9Sbq3iLMLvdOUF3spL8lJyPXbW0tZ8QXoH5X+MCIlyPiVol6OTvjaW+NbGxoTS97OXGM1a7X/HNjseKturMv7dnLqWwCLtf7zCbm+SKykbBeapjkPzG/8mlIqGbcWcRYpBJ3h5vb49KPZysFoMf35nina6jfv0giRXDJ+pa4z5hTNNQUU5LkTcv3aijyK8t2c6brCA7c3bvmatf7zeGpasDkdQPxX390VNdhcbtZ6T5N38K64X18klhS+iz0ZmlxiaXU97k8VblRU4KGmPI+z3Ts/1SOEyE6+9SDm4CxH9iVmqxAibRQOtZZxrnua8BblC6HVRdYn+vHWt5GIBAvAsNnw1DaxNnAxIdcXiSVJltiT8z2RJ232NxUn9D7tLSVc7p8hGIpvIakQIjOYg3MEQxaqqSSh9zncVsbSyjoD44uv+d7a4EXAwltTn9AYvDUNBBdnCC7s/KSjSC2SZIk9udg7Q0Wxl7LixNRjxRxsKcW/HqJ7aH7nFwshss6lvhkMA9oaEjvhU80l0fu9dmXdN3QZw+nGXZ6Yh4BiPNWRJG5t6HJC7yPiT5IssWvhsMXF3mkOtSRueT7mQEtkO/Jcj8zchBCvdalvhqbqArye+Byls52yIi8lhR4u9s285nu+oQ481S0YRmKfhHaVVmC43PgGLyT0PiL+JMkSuzY4scjSaoADLYldngfIz3HRUF3A+V10WxZCZJdAMEznwCztCawN3Ug1lXC5fxbLeiWZCvlWWL8yiKdm64L4eDJsNjxVdfiGOxJ+LxFfkmSJXYsdL7E/wTUQMaqpmK7BOanLEkK8Ss/wPOvBMPsbE7tVGKMai5lf8jO+4bgv/0gnYOFJUOuGzbw1DQRmJwitSGubdCJJlti1i30zVJbkUFrkTcr99jeW4A+E6B+TQUUI8YqL0fqofQl+ACcmNrG81PvKlqFvuANsdtzllUmJIVaXJatZ6UWSLLErlmXR0T+LStLMEWBftKD1cv9s0u4phEh9l/pmqKvIIz83Mf2xNqspzyPX6+Ri/ytJ1tpQB+7KRmyO+J7fuh13eTWGw8HagNRlpRNJssSuTMysMr/spy2JSVZJoYeyIi+X+19bcCqEyE6hsMXl/lkONCenbAHAZjPY31jM5Wjxezi4jn+8B09NM4nqj7WZYbfjrqzFNyxPGKYTSbLErnQMRFaTkt2BfV9jMR0Dry44FUJkr/6xBdb8QQ4kaaswRjWVMDGzytyiD/9YN4SCeKpqkhqDt7qB9SvDhH0rO79YpARJssSudA7MkuNxUFuRn9T77msoZm7Rz5VrHNAqhMgendEJX2t98laygKtNTy/2zeAbitRFeSqTU48V466uAyx8Y91Jva+4fpJkiV3pGJhlX30xhs1I6n1jTw/JlqEQAqBzYI7ifDclRZ6k3rexpgCX087l/hl8IybO0hrs7uTUhMV4KiIrZ37ZMkwbkmSJHa36AgxOLLKvMfmHNddV5uN1O6T4XQgBgDk0y76GYgwjuRM+h91Gc20h5sAs/rEuPNXJq8eKsbncOEvK8Y2aSb2vuH6SZIkdmYNzWFby67EgUnDaWl9Ex4CsZAmR7eaX/EzMrLKvIfljEUTGwKXJYcJry7grk1uPFeOprMU/1otlSf/AdCBJlthR58AshgEtdXoGtv2NxQxNLLGyFtByfyFEajAHIyvausai1voi6o3IUV+eBJ9XuB1PVS1h/xqBmTEt9xd7I0mW2NHlgVkaqgrwJPiMsO20NRRhWdA9PKfl/kKI1NA5OIfdZtBUW6jl/q31RTQ5pgjZ3TiLk1t4H+OurAXAPyJbhulAkixxTaGwhTk4x/4En3R/Lc21kVlr56AkWUJkM3NwjqaaApzO5DQA3ay4wEOre4YpeyUGerbrnEWl2NwefCPS+T0dSJIlrmn0yhJr/iCtGuqxYnK9TqrLczElyRIia4VCYbqG59hXr2/CZwV8VBqzdPv0rGIBGIaBu6IG/2iXthjE7kmSJa6payiS2DTX6Vmej2mtK6J7eF6akgqRpQbGF/Gvh2it1zcWBSf7sWFxeaWEmaWQtjg8lbWsT48R9q9qi0HsjiRZ4pq6hubJ8TioLM3VGkdLXRELy36mpCmpEFnJjE74WjSuZIWiTUAHg2V0ja5ri8NdVQtY+Md6tMUgdkeSLHFNXcNztNYVYUtyE9LNYtuVsaeLhBDZxRycozDPRVmxV1sMwfFujMIKfIaHjlG/tjjc0aakvpFObTGI3ZEkS2zLHwgxMLZIm8bl+Zj6qnycDhudQ1KXJUQ26h6eo62+KOlNSGMsyyI43oOrqpGmCifmiL6VLLvbg7OoFP+Y1GWlOkmyxLb6RhYIhS2aavUVvcc47DYaawqu1ogJIbLHqi/AyJVlWjSORdbyLNbKHM7yKlqrnfROBgiF9dWIuiuq8Y/3abu/2B1JssS2uqJ9qVo09aTZrLWuiN6RBYIh6XQsRDbpGZnHsvQ+gBOc6AXAUVpOS5UTf8BiZDqoLR53eTWhlQWCi3IaRiqTJEtsq2tojtJCD4UFyT2IdTut9UUEgmEGxxd1hyKESKLuoXkAmmr0JVmhiV6w2bEXldJaFWnM3DWmvy5Lit9TmyRZYlvdQ/NazivcTmtdrPhdtgyFyCZdw3NUluSQl+vSFkNwog97aQ2G3UZViR2vy6BrTF9dlqusEmw2/GNS/J7KJMkSW1pY9jM+s3I1sUkFZcVe8nKcV7cxhRDZoXt4XutYZFkWock+nBX1gIXNMGiudNI9ru88VZvDgaukXFayUpwkWWJL3cPR5fkUqceCSKfj5tpCekbmdYcihEiS+aVIf7wWjfVY4fkJLP8KjrLKq19rqXIycCVAIKi5+H2iH8uSOtVUJUmW2FLPyDyGAU01BbpDeZXm2iKGJ5fxresrOBVCJE/sYHjt9ViAs7Ts6tdaqpyEwtB/Rd9qlruihrB/jcDshLYYxLU5knETpVQRsHmtty4Z9xbXp2d4npryPDwep+5QXqW5tpBw2KJ/dJH2Zn3nh4nsIeOXXl1D89gMaNQ44QtO9ILDha2wBIisXLVEi9+7x/zsr9FTK/ZK8Xs3rtIaLTGIa9vVSpZSqmznV13Th4D+TR9P3+A1RQJ1D8+nTOuGjZqjMXVLXZbYJRm/0lv38Bx1lfm43UlZE9hScKIPR3kdG/uglhXYKPDaMHUWvxeXYTgc+Eel+D1V7Xa78JJS6p+VUndf530+CTRv+rjnOq8lEmxmYY3ZRd/VhCaVlBR6KMp30zUsdVli12T8SlOWZUUnfBqL3sMhQlf6cVbUEVvFgkiNaEuVkx6Nxe+GzYarrAr/eK+2GMS17XZq0AT8HPBxpVQu8DngH03TXNrNm03TnAde9VNRKbWHMEUy9Y4sAKlXjxXTXFtIjyRZYveakPErLU3NrbG4sq616D00MwLBdRylFa/5XkuVg3MDftbWw3hdekqc3RXVLF0+ixUOYdjsWmIQ29vV3wrTNNdM0/yiaZqvAz4I/D4wppT6rFLqtX/zRFrrHo7UQNRXp26SNTa9zKpP3wxSpA8Zv9JX7EniRo1jUazo3VFS/prvtVQ5sSzom9BY/F5ejRUMEJge0RaD2N6uU2+l1FuUUv8KfAN4CLgTGAb+LUGxCU16RuYjNRAufTUQ19JcW4hlvbLiJsROZPxKTz0j89htBnVV+dpiCE32Y7g82Apeu5rWHCt+H9dXl+UurwKk83uq2tVPUaXUEDAN/DXwS6ZprkW/dUEp9b5EBSeSz7IseobnOa5eO2tLFbFasa7hOY603WhNs8h0Mn6lr57heRqq8nE69W2DBSf7cJQ3YPDaflhFuXaK82xakyxnUSmG04V/vIv842/UFofY2m6XKn7JNM2nNn5BKXXQNM3Lpmm2JCAuocn0vI/5ZX9KFr3HFOS5KS3yXG2YKsQOZPxKQ5Zl0TMyz62HqvTFEAoSmhrCdeQu2CLJAmiudNKrMckyDAN3WaUUv6eoayZZSqlYI6JPK6XuBWIPsDqB7wL7Ehea0KFnRH/jv92Q4nexExm/0tvk7CpLqwGtE77QzAiEAjjKti/da6kVvY0cAAAgAElEQVRycqbXz6o/TI5bX/H74sUzWKEghj01yzyy1U5/I75GZJn9CDAT/XyaSC3Dy4kNTejQPay/BmI3mmsLmZxdZXlV3wxSpDwZv9JYrOZSb9F7HwDO4tJtX9Nc6cQC+iY1F7+HAqxL8XvKuWbKa5rmgwBKqX8wTfPXkxOS0CkVaiB2I7bS1juywLH9qVs/JvSR8Su9dQ/P4bDrnfAFr/RhuLwY+YXA1ucDNldGfox2j/k53OBOYnSvcMWK38d7cFc2aYlBbG2n7cIDpml2Ap9RSt20+fumacpsMINEaiAWuPVg5c4v1ix2cHX3yJwkWWJLMn6lt56ReRqqCnA49E34QhN9OCq2LnqPKcy1U5Jvo1tjU1JnYQmGy836WBccf5O2OMRr7bR5+5fA24F/3eJ7FiBFoxlkam6NpdX1qwlMKsvPcVFW5KV7WNo4iG3J+JWmYhO+O45U64shFCQ0PYTr6D1sV/Qe01zppHdCd/G7dH5PRTttF749+t/m5IQjdEqFxn970VRbQO+oFL+Lrcn4lb4mZlZZWQtonfCFpochFNyy0/tmzZVOTvekQPH7hVNYoQCG3aklBvFaO20Xfupa3zdN8/fiG47QKRUa/+1Fc20hpy5Nsry6Tl6OS3c4IsXI+JW+Yk8Oay16n4wWvZdsX/Qe01wZSWp6J9Y50uhJaFzbcZdXYYWCrE8N466SRdpUsdN24UxSohApIV2K3mOk+F3sQMavNNUzMo/DbqOuUmPR+2QfhjsHI6+A7YreY2LF711jepMsAP94ryRZKWSn7cIPJysQoVc6Fb3HSPG7uBYZv9JXz8g8jVX52B16tt4gcpyOo6IeY4cECyLF76X5Nno0Fr87Coqxudz4x7rgxJu1xSFebaftwmdM07xbKbXEFpV/pmmmR/GO2FE6Fb3HSPG7uBYZv9KTZVn0jqZS0fvupELxu6usivVoby+RGnbaLvzp6H8PJzoQoVe6Fb3HSPG7uAYZv9JQahW9736FvKnSyakePyu+MLkeTcXv5VUsXjwtnd9TyDX/JpimOR797yBwAPgg8FtAQ/RrIkOkW9F7THNtIZMz0vldvJaMX+kpFSZ8rxS97/4A+ljxe9+kvrFoY/G7SA27SreVUn8EfAJYBYLA3yulPpDIwERy9Y4sUF+ZPkXvMRuL34XYioxf6aV3ZB6H3aC2Mk9bDMHJ/g1F77tztfO7xsOi3eWRLVb/eI+2GMSr7XZN8xeA203T/GPTNP8/4HbgdxIXlkim2Gn3Og9ivV4bi9+F2IaMX2kkJTq9T/bhKN9d0XtMrPO71uL3wuJI5/fxbm0xiFfbbZK1BizHfmGa5hzgS0hEIumm5tZYXFlPyyRLit/FLsj4lSYsy6J3ZEHrWBQreneU1+z5valQ/O4uq8Q/LsXvqWKnpwt/KvqpCTyklPo7IAS8FziV4NhEkqRCDcSNaK4tlOJ38RoyfqWfydlVltcCNNVorMfaQ6f3zVKi83t5tRS/p5Cd/g98cNOv/68Nn+/9b6BISela9B7TVFvAS5cmpPO72EzGrzTTnUqd3otL9vze1Ov8LidK6bZTM9L7khWI0CfdOr1vJp3fxVZk/Eo/saJ3nRO+4GQ/hsuLkV/ITp3eN9tY/K4vyXql+F2SLP12tZaolNoH/C6QBxiAHWgzTfOuBMYmkiAdO71vJp3fxbXI+JU+UqbovaJhT0XvMSlX/C6d37Xb7abxVwEXcCcwABwELiQoJpFEV9Kw0/tm+Tkuyoql+F1sS8avNBCb8LWkadF7TGoUv1dJ8XuK2G2SlW+a5m8DPwJ+CLwZuDlhUYmkuVr0rrHQNB6aa6T4XWxLxq80kFqd3q+/ZK+50snYbIhV/95XwuLFXV7F+tQwVkjfipqI2G2SNRv9bw9w2DTNeSJL7iLN9caK3jWedh8PTbUF0vldbEfGrzTQk0pF7yWl132NlqpXit91cVdUS+f3FLHbJKtbKfVJ4Fngg0qpDwLuxIUlkqU7zYveY2J9daTzu9iCjF9poGdkHofdpnXCF5zs23On981iTxh2jek9XgfAP96rLQYRsdsk67eBp03TPAP8LXA/8L6ERSWSItL4Lz07vW8We8Kwa1g6v4vXkPErDfSMzNNUU4Ddoae/FEBo4vqL3mMKcmyU5tu0Hq/jKCjG5nLjHzW1xSAidvW32TTNVeAJpdQ7gH7g10zTfDahkYmEm5xdZWlVbw1EvOTluCgv9l6tMRMiRsav1BcORyd8NRqL3oOBGy56j2mpctI7oa8eyjAM3OXVrE9I8btuuz0g+u1Euib/AfDfgQ6l1OsTGZhIvNjWWrp2et+subaQHtkuFJvI+JX6JmZWWPEFaa7V2el9CMIhHKU33gamucrJxFyI5TV9xe+u8ir8UyNYQSl+12m3Pff/FHiDaZqXAJRSNxFZdr9lN29WShUBRZu+XLfbIEVidA/P4bAb1Kdpp/fNmuuKePHiBAvLfgrzpORGXCXjV4q72uld40rWK0XvZTd8rZYNnd+PNWtqSlpRDeEQ61NDuKtbtcQgdl+TZcUGKADTNF/ew3sBPkRkmX7jx9N7eL9IgO7heRo1N/6LJyl+F9uQ8SvF9YzM43TYqKnI0xZDcKIPw5OHkXvjk86rxe8a67JeKX7v0RaD2PmA6NjhTS8ppX4f+DyRcwZ+FXh8D/f5JPClTV+rQwYqbcJhi56Ree46Vqs7lLiJHSrbNTzHTQfkaLpsJ+NX+ugZmaepugC7XWPR+2T/DRe9x+R5bVQU2unRWfyeX4TN7cE/2gU3Pagtjmy303bhNGAROYoC4C82fM8Cfn83N4n2pXlVRbJSapchikQYn1lhVXMNRLzleJxUleVe3XoQWU/GrzQQKXpf4J4T+iZ8VmCd0Mww7hP3xu2azZVOrcfrxIrf/RPSxkGnnQ6I1jetEAnVPRRpdZAJTxZu1FxbSNfA7M4vFBlPxq/0MDq1zJo/SEudzk7vgxAOYb+BTu+bNVc5eKHLx+JqiIIcPSUZ7vJq5s89Tzi4js3h0hJDttvtAdE2IrO+twJO4GHgz03TDCYwNpFA3SPzuJx2asr11UAkQnNtISfPjTG36KO4QE/BqUgtMn6ltu5obzudRe/B6GpPPIreY2Kd33vGA9zUqinJqqyGcJj1yQE8tfu1xJDtdjvT+yiRBn7/G/grIgetfjxRQYnE6x6ap7mmAJvGGohEiBW/d0u/LPEKGb9SWPfQPB633glfaKIPI6cQIycnbtdsrnRiAF1j/rhdc6/c0Z5f/tEubTFku922cHgLcItpmgEApdQPgHMJi0okVCgUpm9sgTfeWq87lLhrrC7AMKBraI7bDlbpDkekBhm/UljX8ByttYUYNmPnFydIcKIHZ2UDBlbcrpnjtlFdYsfUeLyOIy8fe05etPP7O7TFkc12u4xhiw1QAKZp+gHpcJamhq8s418PXT2KJpN43A5qyvOk+F1sJONXigoEw/SNLtJSt7kNWfJY/lXCs+Nx6fS+WUtVpPjdsuKXvO2Vu6JazjDUaLcrWWeVUp8APhP99QeA84kJSSRaz3BmFr3HtNQVcs6cwrIsDEPf7FikDBm/UtTg+CLBUFjrcTrByT7AwhHHoveY1ionz1z2Mb0Uorxgtz9u48tdUc3qQDdh3wo2T66WGLLZbleyPgAUA88BJ4Fy4IOJCkokVtfwPF63g4rSzPwH11pXxOLKOlfm1nSHIlKDjF8p6mrRu8YJXyhW9F4av6L3mJbqSPF795i+hVN3RbQuS84x1GK3qfX/a5rmryYyEJE83UNztNYVYtNYA5FIsa0Hc3CWypL4FbKKtCXjV4rqHp4nP8dJWbFXWwzBiV5sheUYbjdY8T1rsKHcid0G5qifOw/o+T26y6sB8I+aeJuOaIkhm+12JUsq5jKEPxCif2yR1np9NRCJVleVj9Nhw4z2AhNZT8avFNU9PE9rXZHWbf3gRC/Oyoa4J1gALodBQ7mDbo2d3+0eL46CYvxj3dpiyGa7XcnqU0o9DDwDLMe+aJrmXyUkKpEw/aMLhMKW1sZ/ieaw22isKaB7SIrfBSDjV0ry+YMMTSxyc3ubthjCK/NYSzM4jt6RsHu0VDl5rsNH2LKwaUomI8Xvsl2ow25XsmaBUeBm4G7gcPRDpJnY6k5LbeauZEGkLqt3dJ5QKP6zU5F2ZPxKQb2jC4QtvQ/gJKIJ6WatVU7W1i1GZ/T1vnVX1BBcmiW4LKv7ybbbJOt/ERmU3g78BNAK/EmCYhIJ1DU0R2mhh8IM74beUlfEeiDM4MSS7lCEfjJ+pSBzMPIDv1lj+4bQRC8YNhwl5Qm7R6zze7fGflmeymjx+1iPthiy1W6TrC8CXwC80Y9vAX+fqKBE4nQNzdGWwfVYMbHtUHNIzjEUMn6lInMo8mBKQZ5bWwzB8R7spTWQwJMvaksdeJwGHaP6kixXWSXYbPhHLmuLIVvttiYrxzTNv93w608rpf5zIgISibOw7GdiZpX7b23QHUrCVZTkkJfjpGtonrcmrtxCpAcZv1KQOTjHgeYSbfe3rDChiR7cbcchjp3eN7PZDFqqnFpXsmwOJ+7SSnxyvE7S7TZ971NK3Rn7hVLqMNCfmJBEosS6oDdncNF7jGEYtNQV0SVPGAoZv1LO9PwaMws+2jRuFYZnx7H8qzgr4t/pfbN9NU4GrgTwBfTViLora/CP92OFQ9piyEa7XcmqBZ5USp0DgsAJYEIpdR7ANM2jCYpPxJE5OIfNICOP09lKS10h3/3xFGv+IF63nm7LIiXI+JViYg/g6KzHCo5HWho4ShNXjxXTVuMkFIbeiQCH6vVsj7ora1m8eJrA9AiuikYtMWSj3f7k+W8JjUIkRdfwHPWV+bizJOFoqy/GsiJdpY+2JX4gFSlLxq8UYw7O4bDbaKjO1xZDcLwbw52LraAQSOwKU2u0+L1zxK8tyfJEV+x8I6YkWUm0q5+2pmk+mehARGKFwxbdQ3PceqhKdyhJE2u4erl/VpKsLCbjV+rpGpqjpbYQh8OuLYbQWDeOqkaMBCdYAIW5dioK7XSO6KvLchQWY3N78Y90wk0PaIsj2yTukQqRUkanlllaDdDWUKw7lKTJ9TqpKc+jc0CeMBQiVQRDYbqH52mr11e2YK2vEZoexllRl7R7ttU4McfWsazEFdlfi2EYuCtr8Enn96SSJCtLmIORRCOTj9PZSltDEebQnLaBTQjxagPji6wHQlfPGNUh0oTUwlFWmbR7tlU7mVsOM72kr/DcU1lDYGacsH9VWwzZRpKsLNExMEdejpPK0lzdoSTVvoZillcDjE4t7/xiIUTCxZ74bdE44YsVvTvLEtfpfbO2aheA1i1Dd2UtYElT0iSSJCtLdAzMsr+hGJtN30GsOrQ1RAZy2TIUIjV0DMxSmOeitMirLYbQWA/24ioMZ/KK0BsrHDjt0KmxKak7Vvw+LE1Jk0WSrCywvLrO8OQS+xqya6sQoLosjxyPgw5JsoRICR39sxxoKsHQdFiyZVkEx7txVDaS6KcKN3LYDZoqnZgj/qTdczO724OzpBzfSIe2GLKNJFlZoDN6RlhrffYUvcfYbAat9UVX/wyEEPrMLvqYnF1lv8YHcMLzE1hrizgrE9+EdLP9NU56JwOsB/XViHqq6vCN9khT0iSRJCsLdA7MYrMZNGs87V6nfQ3FDE8usbIW0B2KEFmtoz/6AI7GJCs4agLgTGLRe8z+OhfBEHSPazwsuqoOa93H+tSwthiyiSRZWaBjYJam6oKsaUK6WVtDEZaFHLEjhGaXB2ZwOWw0VhdoiyE42onhycNWmPzyif01keL3S0P6tgw91ZG2Fb5h2TJMBkmyMlwoFKZraE7r8rxurXVFGAZc7p/RHYoQWa2jf5a2+iLsDn0/eoKjJs7q5qQ0Id2sIMdGTYmdy8P6kixHfhH2nDz8Q5e0xZBNJMnKcAPji/jWQ1efsstGXo+ThqoCLvVL8bsQuvj8QXpHF1BNGuuxVhcIz43jrKrXFsP+WhedI+uENTYljdRlmVrun20kycpwl6KrN9lY9L6RairBHJwlEEz+7FUIETk7NRy2tJ46cbUeq1zf8WKq1sWK32J4OqgtBk9VHcHFWYKLsrqfaEkp0lFKFQGbl1KSd55BFrvUN0N5sZfSYn09aVKBairm4ZMD9I7Oc6CxRHc4Io3I+BUfV4veNU74gqMm2J3YS0q1xaDqIodFXx7y01ju1BKDe0NdVt6hu7XEkC2StZL1IaB/08fTSbp31rIsi0t9Mxxs1jegpIr9TZHE6mKvzNzEnsn4FQeXB2apr8wnx6snsYBI0bujsgnDpm8Tp6LQTlGujUsa67LcpZUYDie+YanLSrRk/U37JNC86eOeJN07a41cWWZheV1rDUSqKMxzU1WWy8U+SbLEnsn4dYNCYYvOgVmtY5EV8BO6MoCzqgHQ16fKMAz21Tjp0Hi8jmG3466okScMkyAp24Wmac4D8xu/ppRKxq2z2qVoQrFPtseASF3WqUsThMNW1h0vJK6fjF83rn90gVVfkPZmfWNRcLwHwiGcFfrqsWJUnYuXuv1MLwYpK9DTWsdb28DcS88QWlvG7s3TEkM2kML3DHapb4aifDcVpTm6Q0kJqqmYlbUAQ5NLukMRIqtc6J0GYL/GCV9w+DIYBs6K5Dch3ay9LtIv68Kgxn5ZNY2AJatZCSZJVoayLIuLvdO0N+s7IyzVqKt1WdOaIxEiu1zonaa2PJfCAo+2GILDl3CUN2A49NWExTSUO8hxG5zXmGS5K2ow7A58A+e0xZANJMnKUJOzq0wv+Ghvkq3CmLIiLyWFHqnLEiKJQuHIAzjtLfoewLECfoLj3ThrW9BZjxVjsxm017u0rmTZHA7clbWsDUrxeyJJkpWhrtZjSZJ1lWEYHGgq4WLvDJamRoBCZJtYPdYBjWNRcKwrUo9VVasths0O1ruYnA9xZUFfvyxvbQPrV4YJrS1riyHTSZKVoS72zpCX46S6XAoaNzrYWsrCsp+hCanLEiIZYvVYSmeSNXwZDBvOcv31WDEHG6QuKxtIkpWBLMvibPcUh1vL5Cm6TQ62lAFwtntKcyRCZIcLvdPUaK7HCgxfwlHRiOHQ8yTfVurKHOR5Dc4P+LTFIHVZiSdJVgYam15hen6Nw63ShHSzsmIvFSU5nO2SJEuIRIvVYx3UWY+17iM00YuztplUqMeKsRkG7XUuLgzq65cldVmJJ0lWBoolEAc0Dmyp7FBrKZf6ZgiF5BxDIRKpb3Q+BeqxzJSrx4o5WO9iajHExHwq1GVJCUUiSJKVgc51T1FR7KW8RPpjbeVgaxlr/iA9I/M7v1gIcd1SYcIXGLoENjuustSpx4qJ1WXp3DL01jYBFmsDF7XFkMkkycowobDF+e4pjrSVSX+sbbS3RGbVUpclRGK9bF6huaaAgjy3thiCgxdwVDWDw64thu3UljooyrVxpk9jv6zKWgyXm7WeU9piyGSSZGWY3pF5VnxBDrXJVuF2CnLdNFTlc65bmpIKkSirvgCdA7Mc3VeuLYbw6gKhK/246ttIpXqsGMMwONLo4tyAj1BYT3yGzYa3tpG1/vPS2iYBJMnKMLHledUsSda1tLeW0jkwiz8Q0h2KEBnpYt8MwZCldcIXGLwAgKu6TlsMOznS7GZpzaJ3IqAthpz6FoJLswRmx7TFkKkkycow57qnaKouID9X3/J8OjjSVk4gGJYjdoRIkDPmFdxOO20NxdpiCPafxfDmYS8p0xbDTo40ujGA071r2mLw1rcAsNZ7VlsMmUqSrAyy5g9yuX+Ww7JVuKMDzSW4nDZeujypOxQhMtIZ8wqHWktxaKqFsqwwgcELuOoVBqn7JHFBjo3mSgcva6zLchYU4SgsZq33tLYYMpUkWRnkbNcUwVCYo/srdIeS8lxOO+0tpZzulCRLiHibnF1ldGqFw236VpBCVwaxVhdw1TVri2G3jjS76RpdZ9mnLxnMqWtmbagDK6hv2zITSZKVQU51TJLjcbCvUd/yfDo5tr+CiZlVxqbk3C4h4uls1xUADrXqS7IC0S7mrhTsj7XZsSY3YQvO6WzlUN+CFVzHN9KpLYZMJElWhrAsi1MdkxzdV47dLv9bd+PY/shTTy91yGqWEPH00uVJyoq8VJXnaoshOHAOe1kdhserLYbdaq124nUZnO7V2S+rEWw2VqWVQ1zJT+MM0Te6wOyij+NK3+PS6aa8JIfq8lxOSZIlRNz4AyHOdE1xS3ultl59Yd8KwbEuXA37IYXrsWIcdoPDjS5O9/i0tVGwudx4a5tY7ZYkK54kycoQpzomMQw4rLEnTTo6tr+Ci70z+Pz6jrUQIpOc655iPRDi+AF9Y1Gw/wyEQ7jrmrTFsFc3tXqYXQ7TM66xlUNTG4HZCdZnRrXFkGkkycoQL3VM0lZXpLWzcjo6psoJhsKck+7vQsTFi5cm8LodqCZ9Tzmv95zCyCnAXpo+k84TrW4MA57v0tfKIbdxHwCr5ovaYsg0kmRlgIVlP11DcxxX8lThXqnGErxuBycvTugORYi0Fw5bvHhpghOqHLtDz48XKxggMHAOd9MhDCN9Opjne20cqHXyvKkvyXLkF+Iqq2S1+wVtMWQaSbIywEuXJ7AsOLo/fWZtqcLhsHHiQAUvXhonFEr92g0hUlnPyDxzS35OHNB3GHNw+BKsr+FqbNUWw/W6uc3D0HSQ8Tl95Qs5jfvwjfYQWlnQFkMmkSQrAzxzbozKkhwaagp0h5KWbj5UxdJqgIu9M7pDESKtPX9xHJvN4PA+fa0b1ntPgdONq6JaWwzX6+a2SLnH8+aqthhym/eBZbHa87K2GDKJJFlpbnl1nXPdU9x+uErbkzzp7ui+clxOO8+el3O7hLgRL1yaoL2phNwcl5b7W1aYQO9pXA3tYE+/8bCiyEF9mYPnu/S1cnCVVWHPzWfFPKkthkwiSVaae+HSBMGQxS0Hq3SHkrbcLjvH9pfz/MVxwuH0qeEQIpUMTiwyNLHErYf0bRWGJnqxludwRwu409EtbW46RtZZWNFzeL1hGOS2KNb6zhP261tRyxSSZKW5Z8+PUVbkpbGuUHcoae3mQ5XMLfkxB+d0hyJEWnr67Cg2A24+pG+bbt08CXYHrto6bTHcqNuUB8uCZzr0JTh5bQexQgFWul7SFkOmkCQrja2sBThjTvG6w9WyVXiDTqgKHHYbz56X/jBC7JVlWTx9ZpRDrWUU5utpI2OFw6x3nsTVeAjDqWe7Mh7qyxzUljp48pK+pwzdlbU48gpYufikthgyhSRZaezFyxMEQ2FuOaxveT5TeD1ODreV8cy5MUKyZSjEnvSOLjA2vcIdR/WtYgVHLmOtzOFubQfS99+wYRjc2e6hY2SdKwt6njI0DIPctoOsDlwgtLakJYZMIUlWGnvqzCilhR6aaot0h5IR7jpRy8yCj4s907pDESKtPH1mFLvN4ES7vgnfesez4PTgrqnXFkO83HnAA8BTl/RuGRIOs9L5vLYYMoEkWWlqdtHHy52TvP6mOmw22SqMhxMHKsjxOHjs1JDuUIRIG+GwxVNnRzm+v1zfU4XBAIHuF3G3HE3Lpwo3qyhy0Fbt5EmNSZarrBJnYQnLF5/SFkMmcCTjJkqpImDzckv6ViamgCdODxO24M7jNbpDyRgup53bDlfz3PkxftsfxOtOyj8PkeJk/Lq2y/0zTM+v8TNv3q8thsDAOSz/Cp7WA9piiLc72z185fElhqYCNJQ7k37/2Jbh/OlnCS7O4CjQd0xSOkvWStaHgP5NH08n6d4Zx7IsHn1pGNVYTGVZnu5wMspdJ2rxr4c4eWFcdygidcj4dQ0PvzBIjsfBiYMatwovP4XhzcdRmTmtbF6nPNgMeOzCirYY8tURwGLp3OPaYkh3yUqyPgk0b/q4J0n3zjjdw/MMTy7x+ptkMh1v+xuLKS/2ypah2EjGr20sr67z7Lkx7jpWi9ulZ+U3vDxHoOcUngO3kkkPWRfm2jnR6uaxc6sEQnoK+Z2FxXhqm1g69yiWJceOXY+k/KswTXMemN/4NaVUMm6dkR57aQiXw8YthzNn1pYqDMPgrhO1fPfHPUzOrlJZkqM7JKGZjF/be/LlEdaDYd5wi74Jn//SE2CF8bS1a4shUe4/msPpnjle7FrjrnY9Y1FB+zGuPPpd1vovkNNyTEsM6UwK39OMzx/kyTOj3Ha4Cq8n+fv02eANN0eeTvrhc/2aIxEidVmWxY9eGKS5poCGGj3NkC0rzPr5x3HWKez5mVc6cbTJRVm+jR++vKwthtwWhc3tZenMj7TFkM4kyUozP355hJW1APff1qA7lIxVWuTl5oOVPPzCIP6AnqMthEh13cPz9I8tah2LggPnCS9O4Wm/iXTujbUdm83g3qM5nBtYZ2xWU88su4M8dZiVrlOEVha0xJDOJMlKI5Zl8b2n+2ipLaS1oVh3OBntTa9rYmk1wNNnpAO8EFv54XMDkSdyj+hrQOo//xiGNx93beZOOu894sVmwI/O6FvNKmg/DuEQi2cf1RZDupIkK42c7ZpieHKJt9zZJMfoJFh7cwm1FXl875k+LCvzZshC3IjZRR9PvDzMfbfUaStbCM1PEug9haf9NrBl7r/R4jw7N7e5efjsCr51PcXnrpJyvHXNLL70A6xgQEsM6UqSrDTyb0/3UZjnkoL3JDAMgzfe3kjf6IIcGi3EJt97uo9w2OKBO5q0xeA/9QMwbHgPHNIWQ7K8/dZcln0WPzqjr51D4fHbCa0ssHxJupfshSRZaWJ0aplTHZO8+fZGHA677nCywl0nasn1OvmXx7p1hyJEylj1BfjhyQFuO1xNeWmulhjCqwv4L/0Yz4HbsHm8WmJIpn01LlSdk4deXCaoqZ2Dt64ZV2kl8ye/I+0c9kCSrDTxzUe7cDnt3CcF70njdTt48M4mXrw8Qd+oFHwKAfDIixE6nwcAABHTSURBVEOsrAV4693N2mLwn/kPCAbxHsrMgvetvPPWXKYXQzx1Wc9RO4ZhUHj8dgIzY6z1nNESQzqSJCsNjE4t88TpYR64vZH8PLfucLLKm+9owut28PVHTN2hCKHdeiDEQ0/2crC5hOY6PQfTW+s+/GcfxtV6LCPbNmzneIubujIH33puibCmOtG81nbsuQXMPfsvUqu6S5JkpYGvP2zicNh56z36Zo7ZKtfr5IE7mzh5YZzB8UXd4Qih1b8/N8D0/BrvfmObthh8p3+A5VvBe+RWsmUVCyIrSe+6LZfh6SDPdqzpicFup/jmO/GPdrPac1pLDOlGkqwUNzy5xFNnRnjLHbKKpcuDdzbhcdn56sOdukMRQpuVtQDffLSL4/vLUc1lWmIIr8zje+l7uFqP4ywp0RKDTncc8NBQ7uDLP14gENSTYOYfOIazsITZx/8RKyx9BHciSVaK+8cfduB02HmLxvqHbJeX4+Ktd7fw3PlxLvZO6w5HCC2+80QPS6vr/PSb92uLwXfy2xBcJ/fmu8mmVawYm83g51+fz+R8SFsXeMNup/i21xOYHmH5ojxpuBNJslLYy+YVTl4Y5933tZKXK6tYOr3tnhZKCz387UMXCIWzb3AX2W1mYY2HnurlzqM11Gs6Qic0O4b//KN4Dt+FPU/PU42p4EiTi8ONLr7+zBLLPj1P+eW2tuMqr2Luya8SDvi1xJAuJMlKUYFgiL/9znmqy3J54C5ZxdLN7bLzs285QP/YIo++OKg7HCGS6gsPXSQctvipN+3Tcn/Lslh94ivgcJF79GaycRUrxjAiq1nLa2G++qSep54Nw6D0jjcSXJxh/pl/0RJDupAkK0U99GQvo1MrvPcdB6UvVoq4/Ug1+xuL+cq/d7CwLLM3kR1euDjOs+fHeM8b91GhqS/WesczBPvPknv7WzDcLi0xpJKmSidvOp7D90+t0DGiZyzy1jaSp44y//x38U8OaIkhHUiSlYKGJ5f4+iNd3HqwkkP7ynWHI6IMw+BX3nWIVV+Qz37rnDzCLDLeqi/A5799nsaqfG0r6uGVedZ+/GUc1a149iktMaSin319HqX5Nj71/TnWNRXBl955Pza3h+kf/LUUwW9DkqwUEwiG+Pg/ncbjsvPed2b+cRHppr6qgP/0pn2cvDDOj08P6w5HiIT6u+9eZGbRx2+++wh2e/J/XFiWxerjX8QK+Mi/5y0YhkxsYrwuG7/xQCEjM0G+9rSebUO7J4eyO9+Mf7yXhef/TUsMqU6SrBTzlX/voG9sgff91FEKCzy6wxFbeOvdLaimYj7/7QtMzurpvixEoj320hCPvDjEu+9to1FT41H/2YcJdL1A7m1vyepi9+0cbXbzhsNe/vW5ZU716OmdlbvvILmt7cw+8VXWhi5piSGVSZKVQp6/OM5DT/bywOsaOXqgQnc4Yhs2m8H7/tMxDAP+7B9eYM0f1B2SEHE1ML7IX//reQ63lvIT9+spdg+Omqw98RWcTUfwtB/WEkM6+JU3FtBQ7uAvvzvLxHzyxyLDMCi/9204C4q48p2/Irg8n/QYUpkkWSmia2iOj/3Tadrqi/iZBw/oDkfsoLwkhw/83AmGJpf4+D+flrYOImPMLfn48y+9SK7HwW/99HEMm5H0GMJLsyx/75PY8kspeP2DGMiBxNtxOw3+y/9p7+6joyrvBI5/77xPkpmEhBCCARKkPmDQkoIQqqVbECwo4lFrT2urx+paj+dsj2Vtu9utlB73aM+u59Sz3W5ffCk9u9bWg1Xc3eOeKpSKlig2QgT0IRAwhJCEJGQmk8lkZu69+8ed0BCpoDKTTPL7HIY7c+flPvPMzW9+95nnPs/6EmwbHtrSw2Ay93Xl8vmZds2NWIMxup79VxnWYQRJssaBzt44Dz75OiVFfr75lUX4fHI2YT647BPl3Lp2Pm/s7+DJF/ZJR3iR92KDKTb9ooHeSIL7bv0U4VDux+ez4hH6t/wzpAYpXnUzhke+ps6losTDvdeW8F5Xigef6WYolftY5C+bRvmK60i0abp+9wi2KS38IEnWmGvvjvHd/3iVVNriW7cvlqlz8szV9bNZ/elqXtjZwuNbJdES+SueSPHgEw20dkbZ8JVF1MyckvMyWIkYsS0PYUW7Ca/5Ku7w5JkA+uNaOMfPPWuL2fdekoef7SZl5j4WFc29lKnLP0/8UCNdL/xYzjgEPGNdgMns6IkoG3/+J0zL5p/uXEJFuQSUfGMYBreunY8BvLCzhVTa4utjdCaWEB9VbzTBDx5v4Gh7hG98qY75c3M/N6EZ6SL23L9g9XVQvOY2vGW5T/Ly3ZXzgyRTNo//Psqmp7v5x5vKKArmNhaFa+uwkgl6G/5Ax1Ccihs34PIFc1qG8US+CcbIn5ra+c6/78QwDB7423qqKsdmqgrx8RmGwZfXzufa5XN4cddRNj3WIIOVirxxpD3C/f/2Cu0nY3zrtiv4VG1lzsuQbm+m/9cPYMd6KV57O95pYzMB9UTwucsLuGdNMfuPDXH/5i7ae3P/s11J3TKmLl/DYMtbtP/nA6Sjk3fOV0myciyZMnls69s8/KvdzCgvYuPdy6QFawIwDIMvXjOPu268jP1Hevjmj/4ok0mLcc2ybJ7/4yE2PPoKadNi49311F6S28GPbctksOE5+n+7CcPro2T91/CWl+W0DBPRZ2qDfPeWUqKDJvc90clLewZy3pUhXFvH9DW3kOppp+2xDcQOvJbT7Y8Xxlj1IVFKVQNHtm3bRlVV1ZiUIdfefKeTnz/XREdPnDVXVnPL6nm4pVPnhHPkeISfPN1I16lBVi2ZxR3ragkVyFQgGbk/VS0L8j1+HWrr4/Gt+9jf0sMVtRXcsX5BziehT59oJr59M2bHYXyXLCa0dDmGV3qwXEgnI2l+8X9RDhxLsvjiAHeuKqaqzJvTMqQip+ja9j8MdR6jcF49pSu+infK9JyW4QL7UDFMkqwss22bfS09PPPyQfYcPMlF5YXcfn0t8+ZIc/hENpQ0eX57My++doSAz826q+aw/rMXS7IlSdaYau2IsmV7Mzsa2ygK+vjyGsWn66owjNx9LObJVgZ3bSHV/AZGQZjQVdfjm1kFtgzTkA2WbfP7xjjPvBojlba5pq6Qm5aFqCjJXUJrWxZ9bzXQ1/gatm1TvOjzFC9dhyecl9+DkmSNB/3xJDv3HOflN1ppPtZHSZGf65bXsHJptbReTSJtnf08t62Z3fs78HvdXLVwBquWzGZ+dSmuMRh/aByYEG86n+JXIpnmzXc6een1Vhp1F16PizVX1nDt8jkEA7lp1bCTg6QONzLU9DLptnfAG6Cg7m8IzlsgQzTkSGTA5PmGAbbtjWPbcMXcAKvrCqmrCeD15ObPMh3rp3f3q8T0HsCgcF49oU+uIFh9GYY7b1oxJckaC6m0xdETEd4+1MOf3+3kwJEe0qbNrOkhrl46iyvrqvB6ZfyryepYR5SXdh2loekEiaRJaTjAFZdWsPCScuZXl1JWPGnOvpEkK8ssy6a9O0bToW72Np+k8d0uEkmTKWE/q+tns3zxTEJZ/mnQti2snuOkju0n/d7bpI42gZnCFZ5KsLaewMWXYPjy5kt1QumJmmzbG2d70yD9gxYFfoPFcwN8sjrAgll+Kqe4s96ymYpGiO5/i/533sIaGsQVLKJg7iKC1ZcRmF2LJ1ye09bVD0mSrGxJpS0isSF6owm6TsXp6o1zrDNGa2eUI+1RUmmnuXtmRYiFqpylCyqZOSM8nncWkWOJoTR/PtDBnne7aGruPj0lz9SSINWVYWZVhKicWkhFaQFTS4JMCfkpDHon0j40Id7IWMcv07KJDgzRE0nQG0lwomeA4ydjHOvsp+V4hHhieL8KsFBNY8mCSlR16QUdvd22TOx4FCvWi9XfixXpxDzVgdndinnyPciM+u0KleGvqcU3+2I8U6fJJM/jRCpts781ye6DCRpbhojGne+vUNBFTYWXWVO9zCj1ML3ETVnIuYQKXLguYCyy0mkG244y0HKQeOshrMEYAK6CMP6KGrxTq/CWzsBbMg13qBRPqAxXsBDDGNPWz/GXZCmlSoDRM4zOBnY89dRTTJ/+wZ3gBhIpdjWdwDxjcDX7fddOL0e8J9sGG9tZWpmlbWPhHPFZlk3atE4vU2mbVNpkKG0ylHQu8USKeCJ91jnqwgU+ppcXclF5EbMrw8yeESYckomdxbmZpkV7V4yj7RFaO/rp7B6gozeOaZ7ZN8XtNij0ewkGvAT9bgI+Dz6fC6/Hjc/jxuM28HhcuA0Dt9uFYTjzK7oMnIBoONcNw2BkfBxO3IZXnRk5PiCOnPEasHheBaXF57fPr1y5sgZo01rnzXDQHzd+2bbN3h3bGerrwcYm88/5z3ZikoXtxKVMnLIsG9MGy7JImxZp0yaVtjBNi2TKJJl+f/8lr9sgXOijuMhPcZGP0uIABQGv83n9ZYN/uW4P37bAsrBtC6cAJraVBtMEK42dTmGbKUglsZMJ7NQg9tAgJM8yOboviLtkGp4p5XhKy/GUleMqKJT+VuOcjU3nKYvDJ5Ic70nT1mPS2Zd+38jxhgEFfheFfhcBn0HQZ+DzGPi8Bl6XgccNHreB22XgdoHL5cQgJxYBw8vMaxk46zJ34R+KUBDvIpjoJZDoxTd0CredHlVWg7Q7iOXxY7n9WC4fltuLbXiwXB5sw43tcjtLDDDc2EZmC5nl6dtAUWU1qn7ZedfVh41huUqyNgHfz/qGhBD5oEZrfXSsC3G+JH4JIUY57xiWqx/FHwU2j1rnA+YAzUA+jL1fBewEPgO0jXFZxpLUg0PqwfFR6iHf6msixC+QfRakDoZJPTg+aj2c92NzkmRprfuAvrPcdTAX278QlFLDV9vy6Sj8QpN6cEg9OCZDPUyE+AWT47M6F6kDh9SDIxf1IOfOCiGEEEJkgSRZQgghhBBZIEmWEEIIIUQWSJJ1/vqAH3D2vhmTidSDQ+rBIfWQP+SzkjoYJvXgyHo9jNlgpEIIIYQQE5m0ZAkhhBBCZIEkWUIIIYQQWSBJlhBCCCFEFkiSJYQQQgiRBZJkCSGEEEJkgSRZQgghhBBZkKsJosUEpZTaDOzTWj+S5e2EgReBEmCj1vrZEfc9A7i01jePWHc/sB5YobVOZbNsQoj8JPFLZJskWSJfLAQqtNZzz3LfncCbSqn7tNaPKqVWA38HLJEAJYQYByR+TVKSZInTlFK/BhqHj+qUUvcAnwO+BPwIqAdCgAHcpbV+bdTzbaBca909+rZSah3wPcAHxIH7tda7zlKGG4DvA24gCmwAIsCTwEVKqT3AMq314PBztNb9SqkvAK8opY4BPwZu0Fp3XqCqEUKMcxK/xHgkfbLESI8Bt4+4fUdm3VJgBk5wuBT4FfAP5/uiSqlPAA8Ba7XWdcDdwO+UUoWjHjcP+Blwk9b6cmAjsBU4AdwFHNZaLxwZoIZprZuAbwNbgIe11m+cb/mEEBOCxC8x7kiSJUbaAQSUUouVUpcC5cC2zBHb94CvK6UeAW4Gij7E664CKoFtmSO5pwALGN10viKzvRYArfV2oAtYdJ7bWYkT0K5TSsm+LcTksgOJX2KckQ9SnKa1toEngNtwjgKf0FrbSqlrgf/NPGwrztGa8VdexgBQSvlGrHPjBJ+Fwxecpvt9o557tv3RBXjPVXal1LcBBVwOzMQ5ihRCTBISv8R4JEmWGG0zcD3wBeCXmXWrgP/WWv8U2A3cgBN4RjsJLM5cv3HE+u3A6kxzOkqptUATEBj1/OHHzck8bgVOwHn9gwqslLoa+A5OM313pux/r5S65lxvVggxoWxG4pcYRyTJEmfQWncAjUCT1ro9s/pnwGeVUk3ALuAwUHOWJu1vAD9RSjUCdThN32it9+P0Y/iNUmov8CBwvdZ6YNS2DwD34vR32Af8EFintY78tfIqpaqBp4Gvaa0Pj9jevcB/KaVmfrSaEELkG4lfYrwxbNse6zIIIYQQQkw40pIlhBBCCJEFkmQJIYQQQmSBJFlCCCGEEFkgSZYQQgghRBZIkiWEEEIIkQWSZAkhhBBCZIEkWUIIIYQQWSBJlhBCCCFEFvw/aGt5qp2vLDEAAAAASUVORK5CYII=\n",
      "application/papermill.record/text/plain": "<Figure size 720x288 with 2 Axes>"
     },
     "metadata": {
      "scrapbook": {
       "mime_prefix": "application/papermill.record/",
       "name": "twosamplettestdist_fig"
      }
     },
     "output_type": "display_data"
    },
    {
     "data": {
      "image/png": "[encoded data removed]",
      "text/plain": [
       "<Figure size 720x288 with 2 Axes>"
      ]
     },
     "metadata": {
      "needs_background": "light"
     },
     "output_type": "display_data"
    }
   ],
   "source": [
    "fig, ax = plt.subplots(1,2,figsize=(10,4))\n",
    "\n",
    "\n",
    "x = np.linspace(-5,30,100)\n",
    "y=stats.norm.pdf(x, 12,3.5)\n",
    "y2=stats.norm.pdf(x,15,3.5)\n",
    "\n",
    "ax[0].plot(x,y)\n",
    "ax[0].set_ylabel(\"probability\")\n",
    "ax[0].set_xlabel(\"value of X\")\n",
    "ax[0].set_title(\"null hypothesis\")\n",
    "ax[0].set_ylim(0,0.13)\n",
    "ax[0].fill_between(x,y, where=y>0.0,interpolate=True,facecolor='lightblue',alpha=0.2)\n",
    "ax[0].set_xticklabels([])\n",
    "ax[0].set_yticklabels([])\n",
    "ax[0].annotate(\"$\\mu$\", xy=(12,0.12),xytext=(12,0.12))\n",
    "\n",
    "x = np.linspace(-5,30,100)\n",
    "y=stats.norm.pdf(x, 10,3.5)\n",
    "y2=stats.norm.pdf(x,15,3.5)\n",
    "\n",
    "\n",
    "ax[1].plot(x,y)\n",
    "ax[1].plot(x,y2)\n",
    "ax[1].set_ylabel(\"probability\")\n",
    "ax[1].set_xlabel(\"value of X\")\n",
    "ax[1].set_title(\"alternative hypothesis\")\n",
    "ax[1].set_ylim(0,0.13)\n",
    "ax[1].fill_between(x,y, where=y>0.0,interpolate=True,facecolor='lightblue',alpha=0.2)\n",
    "ax[1].fill_between(x,y2, where=y>0.0,interpolate=True,facecolor='orange',alpha=0.2)\n",
    "ax[1].annotate(\"$\\mu_0$\", xy=(10,0.12),xytext=(10,0.12))\n",
    "ax[1].annotate(\"$\\mu_1$\", xy=(15,0.12),xytext=(15,0.12))\n",
    "ax[1].set_xticklabels([])\n",
    "ax[1].set_yticklabels([])\n",
    "\n",
    "sns.despine(top=True, right=True)\n",
    "glue(\"twosamplettestdist_fig\",fig,display=False)"
   ]
  },
  {
   "cell_type": "markdown",
   "metadata": {},
   "source": [
    "```{glue:figure} twosamplettestdist_fig\n",
    ":figwidth: 650px\n",
    ":name: \"fig:twosamplettestdist\"\n",
    "\n",
    "Graphical illustration of the null and alternative hypotheses assumed by the (two sided) one sample $t$-test. Note the similarity to the $z$-test. The null hypothesis is that the population mean $\\\\mu$ is equal to some specified value $\\\\mu_0$, and the alternative hypothesis is that it is not. Like the $z$-test, we assume that the data are normally distributed; but we do not assume that the population standard deviation $\\\\sigma$ is known in advance.\n",
    "```"
   ]
  },
  {
   "cell_type": "markdown",
   "metadata": {},
   "source": [
    "To construct a hypothesis test that handles this scenario, we start by noting that if the null hypothesis is true, then the difference between the population means is *exactly* zero, \n",
    "\n",
    "$\\mu_1 - \\mu_2 = 0$\n",
    "\n",
    "As a consequence, a diagnostic test statistic will be based on the difference between the two sample means. Because if the null hypothesis is true, then we'd expect \n",
    "\n",
    "$\n",
    "\\bar{X}_1 - \\bar{X}_2\n",
    "$\n",
    "\n",
    "to be *pretty close* to zero. However, just like we saw with our one-sample tests (i.e., the one-sample $z$-test and the one-sample $t$-test) we have to be precise about exactly *how close* to zero this difference should be. And the solution to the problem is more or less the same one: we calculate a standard error estimate (SE), just like last time, and then divide the difference between means by this estimate. So our **_$t$-statistic_** will be of the form\n",
    "\n",
    "$\n",
    "t = \\frac{\\bar{X}_1 - \\bar{X}_2}{\\mbox{SE}}\n",
    "$\n",
    "\n",
    "We just need to figure out what this standard error estimate actually is. This is a bit trickier than was the case for either of the two tests we've looked at so far, so we need to go through it a lot more carefully to understand how it works.\n",
    "\n"
   ]
  },
  {
   "cell_type": "markdown",
   "metadata": {},
   "source": [
    "### A \"pooled estimate\" of the standard deviation\n",
    "\n",
    "In the original \"Student $t$-test\", we make the assumption that the two groups have the same population standard deviation: that is, regardless of whether the population means are the same, we assume that the population standard deviations are identical, $\\sigma_1 = \\sigma_2$. Since we're assuming that the two standard deviations are the same, we drop the subscripts and refer to both of them as $\\sigma$. How should we estimate this? How should we construct a single estimate of a standard deviation when we have two samples? The answer is, basically, we average them. Well, sort of. Actually, what we do is take a *weighed* average of the *variance* estimates, which we use as our **_pooled estimate of the variance_**. The weight assigned to each sample is equal to the number of observations in that sample, minus 1. Mathematically, we can write this as\n",
    "\n",
    "$\n",
    "\\begin{array}{rcl}\n",
    "w_1 &=& N_1 - 1\\\\\n",
    "w_2 &=& N_2 - 1\n",
    "\\end{array}\n",
    "$\n",
    "\n",
    "Now that we've assigned weights to each sample, we calculate the pooled estimate of the variance by taking the weighted average of the two variance estimates, ${\\hat\\sigma_1}^2$ and ${\\hat\\sigma_2}^2$ \n",
    "\n",
    "$\n",
    "\\hat\\sigma^2_p = \\frac{w_1 {\\hat\\sigma_1}^2 + w_2 {\\hat\\sigma_2}^2}{w_1 + w_2}\n",
    "$\n",
    "\n",
    "Finally, we convert the pooled variance estimate to a pooled standard deviation estimate, by taking the square root. This gives us the following formula for $\\hat\\sigma_p$,\n",
    "\n",
    "$\n",
    "\\hat\\sigma_p = \\sqrt{\\frac{w_1 {\\hat\\sigma_1}^2 + w_2 {\\hat\\sigma_2}^2}{w_1 + w_2}}\n",
    "$\n",
    "\n",
    "And if you mentally substitute $w_1 = N_1 -1$ and $w_2 = N_2 -1$ into this equation you get a very ugly looking formula; a very ugly formula that actually seems to be the \"standard\" way of describing the pooled standard deviation estimate. It's not my favourite way of thinking about pooled standard deviations, however."
   ]
  },
  {
   "cell_type": "markdown",
   "metadata": {},
   "source": [
    "### The same pooled estimate, described differently\n",
    "\n",
    "I prefer to think about it like this. Our data set actually corresponds to a set of $N$ observations, which are sorted into two groups. So let's use the notation $X_{ik}$ to refer to the grade received by the $i$-th student in the $k$-th tutorial group: that is, $X_{11}$ is the grade received by the first student in Anastasia's class, $X_{21}$ is her second student, and so on. And we have two separate group means $\\bar{X}_1$ and $\\bar{X}_2$, which we could \"generically\" refer to using the notation $\\bar{X}_k$, i.e., the mean grade for the $k$-th tutorial group. So far, so good. Now, since every single student falls into one of the two tutorials, and so we can describe their deviation from the group mean as the difference\n",
    "$\n",
    "X_{ik} - \\bar{X}_k\n",
    "$\n",
    "So why not just use these deviations (i.e., the extent to which each student's grade differs from the mean grade in their tutorial?) Remember, a variance is just the average of a bunch of squared deviations, so let's do that. Mathematically, we could write it like this:\n",
    "$\n",
    "\\frac{\\sum_{ik} \\left( X_{ik} - \\bar{X}_k \\right)^2}{N}\n",
    "$\n",
    "where the notation \"$\\sum_{ik}$\" is a lazy way of saying \"calculate a sum by looking at all students in all tutorials\", since each \"$ik$\" corresponds to one student. But, as we saw in the previous chapter, calculating the variance by dividing by $N$ produces a biased estimate of the population variance. And previously, we needed to divide by $N-1$ to fix this. However, as I mentioned at the time, the reason why this bias exists is because the variance estimate relies on the sample mean; and to the extent that the sample mean isn't equal to the population mean, it can systematically bias our estimate of the variance. But this time we're relying on *two* sample means! Does this mean that we've got more bias? Yes, yes it does. And does this mean we now need to divide by $N-2$ instead of $N-1$, in order to calculate our pooled variance estimate? Why, yes...\n",
    "$\n",
    "\\hat\\sigma^2_p = \\frac{\\sum_{ik} \\left( X_{ik} - \\bar{X}_k \\right)^2}{N -2}\n",
    "$\n",
    "Oh, and if you take the square root of this then you get $\\hat{\\sigma}_p$, the pooled standard deviation estimate. In other words, the pooled standard deviation calculation is nothing special: it's not terribly different to the regular standard deviation calculation. \n",
    "\n"
   ]
  },
  {
   "cell_type": "markdown",
   "metadata": {},
   "source": [
    "### Completing the test\n",
    "\n",
    "Regardless of which way you want to think about it, we now have our pooled estimate of the standard deviation. From now on, I'll drop the silly $p$ subscript, and just refer to this estimate as $\\hat\\sigma$. Great. Let's now go back to thinking about the bloody hypothesis test, shall we? Our whole reason for calculating this pooled estimate was that we knew it would be helpful when calculating our *standard error* estimate. But, standard error of *what*? In the one-sample $t$-test, it was the standard error of the sample mean, $\\mbox{SE}({\\bar{X}})$, and since $\\mbox{SE}({\\bar{X}}) = \\sigma / \\sqrt{N}$ that's what the denominator of our $t$-statistic looked like. This time around, however, we have *two* sample means. And what we're interested in, specifically, is the the difference between the two $\\bar{X}_1 - \\bar{X}_2$. As a consequence, the standard error that we need to divide by is in fact the **_standard error of the difference_** between means. As long as the two variables really do have the same standard deviation, then our estimate for the standard error is\n",
    "$\n",
    "\\mbox{SE}({\\bar{X}_1 - \\bar{X}_2}) = \\hat\\sigma \\sqrt{\\frac{1}{N_1} + \\frac{1}{N_2}}\n",
    "$\n",
    "and our $t$-statistic is therefore \n",
    "$\n",
    "t = \\frac{\\bar{X}_1 - \\bar{X}_2}{\\mbox{SE}({\\bar{X}_1 - \\bar{X}_2})}\n",
    "$\n",
    "Just as we saw with our one-sample test, the sampling distribution of this $t$-statistic is a $t$-distribution (shocking, isn't it?) as long as the null hypothesis is true, and all of the assumptions of the test are met. The degrees of freedom, however, is slightly different. As usual, we can think of the degrees of freedom to be equal to the number of data points minus the number of constraints. In this case, we have $N$ observations ($N_1$ in sample 1, and $N_2$ in sample 2), and 2 constraints (the sample means). So the total degrees of freedom for this test are $N-2$. \n",
    "\n"
   ]
  },
  {
   "cell_type": "markdown",
   "metadata": {},
   "source": [
    "### Doing the test in Python\n",
    "\n",
    "The independent samples $t$-test is just a special case of the pingouin `ttest()` function we learned about earlier.  Instead of providing argument $y$ as a single number (the null hypothesis in a one sample test), we provide another list of number which is the second group:"
   ]
  },
  {
   "cell_type": "code",
   "execution_count": 8,
   "metadata": {},
   "outputs": [
    {
     "data": {
      "text/html": [
       "<div>\n",
       "<style scoped>\n",
       "    .dataframe tbody tr th:only-of-type {\n",
       "        vertical-align: middle;\n",
       "    }\n",
       "\n",
       "    .dataframe tbody tr th {\n",
       "        vertical-align: top;\n",
       "    }\n",
       "\n",
       "    .dataframe thead th {\n",
       "        text-align: right;\n",
       "    }\n",
       "</style>\n",
       "<table border=\"1\" class=\"dataframe\">\n",
       "  <thead>\n",
       "    <tr style=\"text-align: right;\">\n",
       "      <th></th>\n",
       "      <th>T</th>\n",
       "      <th>dof</th>\n",
       "      <th>tail</th>\n",
       "      <th>p-val</th>\n",
       "      <th>CI95%</th>\n",
       "      <th>cohen-d</th>\n",
       "      <th>BF10</th>\n",
       "      <th>power</th>\n",
       "    </tr>\n",
       "  </thead>\n",
       "  <tbody>\n",
       "    <tr>\n",
       "      <th>T-test</th>\n",
       "      <td>-2.12</td>\n",
       "      <td>31</td>\n",
       "      <td>two-sided</td>\n",
       "      <td>0.04</td>\n",
       "      <td>[-10.76, -0.2]</td>\n",
       "      <td>0.74</td>\n",
       "      <td>1.755</td>\n",
       "      <td>0.54</td>\n",
       "    </tr>\n",
       "  </tbody>\n",
       "</table>\n",
       "</div>"
      ],
      "text/plain": [
       "           T  dof       tail  p-val           CI95%  cohen-d   BF10  power\n",
       "T-test -2.12   31  two-sided   0.04  [-10.76, -0.2]     0.74  1.755   0.54"
      ]
     },
     "execution_count": 8,
     "metadata": {},
     "output_type": "execute_result"
    }
   ],
   "source": [
    "group1 = harpo_df[harpo_df['tutor']==\"Bernadette\"].grade\n",
    "group2 = harpo_df[harpo_df['tutor']==\"Anastasia\"].grade\n",
    "\n",
    "pg.ttest(x=group1, y=group2, correction=False).round(2)"
   ]
  },
  {
   "cell_type": "markdown",
   "metadata": {},
   "source": [
    "Here argument x and y just contain the data from each of the two groups. By saying `correction = False`, what we're really doing is telling pingouin to use the *Student* independent samples $t$-test. More on this later. For now, lets ignore that bit and look at the output:\n",
    "\n",
    "The output has a very familiar form including the test results ($t$-statistic, the degrees of freedom, and the $p$-value). The final section reports two things: it gives you a confidence interval, and an effect size. I'll talk about effect sizes later. The confidence interval, however, I should talk about now. "
   ]
  },
  {
   "cell_type": "code",
   "execution_count": 10,
   "metadata": {},
   "outputs": [
    {
     "data": {
      "text/plain": [
       "(69.05555555555556, 74.53333333333333)"
      ]
     },
     "execution_count": 10,
     "metadata": {},
     "output_type": "execute_result"
    }
   ],
   "source": [
    "group1.mean(), group2.mean()"
   ]
  },
  {
   "cell_type": "markdown",
   "metadata": {},
   "source": [
    "\n",
    "\n",
    "It's pretty important to be clear on what this confidence interval actually refers to: it is a confidence interval for the *difference* between the group means. In our example, Anastasia's students had an average grade of 74.5, and Bernadette's students had an average grade of 69.1, so the difference between the two sample means is 5.4. But of course the difference between population means might be bigger or smaller than this. The confidence interval reported by pingouin `ttest()` function tells you that there's a 95\\% chance that the true difference between means lies between 0.2 and 10.8.  \n",
    "\n",
    "In any case, the difference between the two groups is significant (just barely), so we might write up the result using text like this:"
   ]
  },
  {
   "cell_type": "markdown",
   "metadata": {},
   "source": [
    "> The mean grade in Anastasia's class was 74.5\\% (std dev = 9.0), whereas the mean in Bernadette's class was 69.1\\% (std dev = 5.8). A Student's independent samples $t$-test showed that this 5.4\\% difference was significant ($t(31) = 2.1$, $p<.05$, $CI_{95} = [0.2, 10.8]$, $d = .74$), suggesting that a genuine difference in learning outcomes has occurred.  \n",
    "\n",
    "Notice that I've included the confidence interval and the effect size in the stat block. People don't always do this. At a bare minimum, you'd expect to see the $t$-statistic, the degrees of freedom and the $p$ value. So you should include something like this at a minimum: $t(31) = 2.1$, $p<.05$. If statisticians had their way, everyone would also report the confidence interval and probably the effect size measure too, because they are useful things to know. But real life doesn't always work the way statisticians want it to: you should make a judgment based on whether you think it will help your readers, and (if you're writing a scientific paper) the editorial standard for the journal in question. Some journals expect you to report effect sizes, others don't. Within some scientific communities it is standard practice to report confidence intervals, in other it is not. You'll need to figure out what your audience expects. But, just for the sake of clarity, if you're taking my class: my default position is that it's usually worth includng the effect size, but don't worry about the confidence interval unless the assignment asks you to or implies that you should."
   ]
  },
  {
   "cell_type": "markdown",
   "metadata": {},
   "source": [
    "### Positive and negative $t$ values\n",
    "\n",
    "Before moving on to talk about the assumptions of the $t$-test, there's one additional point I want to make about the use of $t$-tests in practice. The first one relates to the sign of the $t$-statistic (that is, whether it is a positive number or a negative one).  One very common worry that students have when they start running their first $t$-test is that they often end up with negative values for the $t$-statistic, and don't know how to interpret it. In fact, it's not at all uncommon for two  people working independently to end up with python outputs that are almost identical, except that one person has a negative $t$ values and the other one has a positive $t$ value. Assuming that  you're running a two-sided test, then the $p$-values will be identical. On closer inspection, the students will notice that the confidence intervals also have the opposite signs. This is perfectly okay: whenever this happens, what you'll find is that the two versions of the python output arise from slightly different ways of running the $t$-test. What's happening here is very simple. The $t$-statistic that R is calculating here is always of the form \n",
    "$\n",
    "t = \\frac{\\mbox{(mean 1)} -\\mbox{(mean 2)}}{ \\mbox{(SE)}}\n",
    "$\n",
    "If \"mean 1\" is larger than \"mean 2\" the $t$ statistic will be positive, whereas if \"mean 2\" is larger then the $t$ statistic will be negative. Similarly, the confidence interval that R reports is the confidence interval for the difference \"(mean 1) minus (mean 2)\", which will be the reverse of what you'd get if you were calculating the confidence interval for the difference \"(mean 2) minus (mean 1)\".\n",
    "\n",
    "Okay, that's pretty straightforward when you think about it, but now consider our $t$-test comparing Anastasia's class to Bernadette's class. Which one should we call \"mean 1\" and which one should we call \"mean 2\". It's arbitrary. However, you really do need to designate one of them as \"mean 1\" and the other one as \"mean 2\". \n",
    "\n",
    "For example, consider the following two ways to run the above test:"
   ]
  },
  {
   "cell_type": "code",
   "execution_count": 12,
   "metadata": {},
   "outputs": [
    {
     "data": {
      "text/html": [
       "<div>\n",
       "<style scoped>\n",
       "    .dataframe tbody tr th:only-of-type {\n",
       "        vertical-align: middle;\n",
       "    }\n",
       "\n",
       "    .dataframe tbody tr th {\n",
       "        vertical-align: top;\n",
       "    }\n",
       "\n",
       "    .dataframe thead th {\n",
       "        text-align: right;\n",
       "    }\n",
       "</style>\n",
       "<table border=\"1\" class=\"dataframe\">\n",
       "  <thead>\n",
       "    <tr style=\"text-align: right;\">\n",
       "      <th></th>\n",
       "      <th>T</th>\n",
       "      <th>dof</th>\n",
       "      <th>tail</th>\n",
       "      <th>p-val</th>\n",
       "      <th>CI95%</th>\n",
       "      <th>cohen-d</th>\n",
       "      <th>BF10</th>\n",
       "      <th>power</th>\n",
       "    </tr>\n",
       "  </thead>\n",
       "  <tbody>\n",
       "    <tr>\n",
       "      <th>T-test</th>\n",
       "      <td>-2.12</td>\n",
       "      <td>31</td>\n",
       "      <td>two-sided</td>\n",
       "      <td>0.04</td>\n",
       "      <td>[-10.76, -0.2]</td>\n",
       "      <td>0.74</td>\n",
       "      <td>1.755</td>\n",
       "      <td>0.54</td>\n",
       "    </tr>\n",
       "  </tbody>\n",
       "</table>\n",
       "</div>"
      ],
      "text/plain": [
       "           T  dof       tail  p-val           CI95%  cohen-d   BF10  power\n",
       "T-test -2.12   31  two-sided   0.04  [-10.76, -0.2]     0.74  1.755   0.54"
      ]
     },
     "execution_count": 12,
     "metadata": {},
     "output_type": "execute_result"
    }
   ],
   "source": [
    "pg.ttest(x=group1, y=group2, correction=False).round(2)"
   ]
  },
  {
   "cell_type": "code",
   "execution_count": 13,
   "metadata": {},
   "outputs": [
    {
     "data": {
      "text/html": [
       "<div>\n",
       "<style scoped>\n",
       "    .dataframe tbody tr th:only-of-type {\n",
       "        vertical-align: middle;\n",
       "    }\n",
       "\n",
       "    .dataframe tbody tr th {\n",
       "        vertical-align: top;\n",
       "    }\n",
       "\n",
       "    .dataframe thead th {\n",
       "        text-align: right;\n",
       "    }\n",
       "</style>\n",
       "<table border=\"1\" class=\"dataframe\">\n",
       "  <thead>\n",
       "    <tr style=\"text-align: right;\">\n",
       "      <th></th>\n",
       "      <th>T</th>\n",
       "      <th>dof</th>\n",
       "      <th>tail</th>\n",
       "      <th>p-val</th>\n",
       "      <th>CI95%</th>\n",
       "      <th>cohen-d</th>\n",
       "      <th>BF10</th>\n",
       "      <th>power</th>\n",
       "    </tr>\n",
       "  </thead>\n",
       "  <tbody>\n",
       "    <tr>\n",
       "      <th>T-test</th>\n",
       "      <td>2.12</td>\n",
       "      <td>31</td>\n",
       "      <td>two-sided</td>\n",
       "      <td>0.04</td>\n",
       "      <td>[0.2, 10.76]</td>\n",
       "      <td>0.74</td>\n",
       "      <td>1.755</td>\n",
       "      <td>0.54</td>\n",
       "    </tr>\n",
       "  </tbody>\n",
       "</table>\n",
       "</div>"
      ],
      "text/plain": [
       "           T  dof       tail  p-val         CI95%  cohen-d   BF10  power\n",
       "T-test  2.12   31  two-sided   0.04  [0.2, 10.76]     0.74  1.755   0.54"
      ]
     },
     "execution_count": 13,
     "metadata": {},
     "output_type": "execute_result"
    }
   ],
   "source": [
    "pg.ttest(x=group2, y=group1, correction=False).round(2)"
   ]
  },
  {
   "cell_type": "markdown",
   "metadata": {},
   "source": [
    "Notice that evertyhing is the same except the t-value and the confidence intervals which have their signed flipped depending on which one we call $x$ and which we call $y$ (it is arbitrary).\n",
    "\n",
    "Because of this whenever I get a significant $t$-test result, and I want to figure out which mean is the larger one, I don't try to figure it out by looking at the $t$-statistic. Why would I bother doing that? It's foolish. It's easier just look at the actual group means, since the R output actually shows them!\n",
    "\n",
    "\n",
    "Here's the important thing. Because it really doesn't matter what R printed out, I usually try to *report* the $t$-statistic in such a way that the numbers match up with the text. Here's what I mean... suppose that what I want to write in my report is \"Anastasia's class had higher  grades than Bernadette's class\". The phrasing here implies that Anastasia's group comes first, so it makes sense to report the $t$-statistic as if Anastasia's class corresponded to group 1. If so, I would write \n",
    "\n",
    ">Anastasia's class had *higher* grades than Bernadette's class ($t(31)= 2.1, p=.04$). \n",
    "\n",
    "(I wouldn't actually emphasise the word \"higher\" in real life, I'm just doing it to emphasise the point that \"higher\" corresponds to positive $t$ values). On the other hand, suppose the phrasing I wanted to use has Bernadette's class listed first. If so, it makes more sense to treat her class as group 1, and if so, the write up looks like this:\n",
    "\n",
    "> Bernadette's class had *lower* grades than Anastasia's class ($t(31)= -2.1, p=.04$). \n",
    "\n",
    "Because I'm talking about one group having \"lower\" scores this time around, it is more sensible to use the negative form of the $t$-statistic. It just makes it read more cleanly.\n",
    "\n",
    "One last thing: please note that you *can't* do this for other types of test statistics. It works for $t$-tests, but it wouldn't be meaningful for  chi-square testsm $F$-tests or indeed for most of the tests I talk about in this book. So don't overgeneralise this advice! I'm really just talking about $t$-tests here and nothing else!"
   ]
  },
  {
   "cell_type": "markdown",
   "metadata": {},
   "source": [
    "### Assumptions of the test\n",
    "\n",
    "As always, our hypothesis test relies on some assumptions. So what are they? For the Student t-test there are three assumptions, some of which we saw previously in the context of the one sample $t$-test:\n",
    "\n",
    "\n",
    "- *Normality*. Like the one-sample $t$-test, it is assumed that the data are normally distributed. Specifically, we assume that both groups are normally distributed. A bit later we'll discuss how to test for normality, and we'll also discuss possible solutions when data are not normally distributed.\n",
    "- *Independence*. Once again, it is assumed that the observations are independently sampled. In the context of the Student test this has two aspects to it. Firstly, we assume that the observations within each sample are independent of one another (exactly the same as for the one-sample test). However, we also assume that there are no cross-sample dependencies. If, for instance, it turns out that you included some participants in both experimental conditions of your study (e.g., by accidentally allowing the same person to sign up to different conditions), then there are some cross sample dependencies that you'd need to take into account.\n",
    "- *Homogeneity of variance* (also called \"homoscedasticity\"). The third assumption is that the population standard deviation is the same in both groups.  This is not always true for several reasons (if one condition in a experiment is harder it might not *only* influence the mean of the data but also the variability). However, there's a very simple remedy for this assumption, which I'll talk about in the next section."
   ]
  },
  {
   "cell_type": "markdown",
   "metadata": {
    "variables": {
     "\\hat{\\sigma_1": "<p><strong>SyntaxError</strong>: unexpected character after line continuation character (<ipython-input-1-24130662c4d5>, line 1)</p>\n",
     "\\hat{\\sigma_2": "<p><strong>SyntaxError</strong>: unexpected character after line continuation character (<ipython-input-1-71bb114d5bf0>, line 1)</p>\n"
    }
   },
   "source": [
    "## The independent samples $t$-test (Welch test)\n",
    "\n",
    "The biggest problem with using the Student test in practice is the third assumption listed in the previous section: it assumes that both groups have the same standard deviation. This is rarely true in real life: if two samples don't have the same means, why should we expect them to have the same standard deviation? There's really no reason to expect this assumption to be true. We'll talk a little bit about how you can check this assumption later on because it does crop up in a few different places, not just the $t$-test. But right now I'll talk about a different form of the $t$-test {cite}`Welch1947` that does not rely on this assumption. A graphical illustration of what the **_Welch $t$ test_** assumes about the data is shown in Figure 11, to provide a contrast with the Student test version in Figure 10. I'll admit it's a bit odd to talk about the cure before talking about the diagnosis, but as it happens the Welch test is the default $t$-test in R, so this is probably the best place to discuss it. \n",
    "\n",
    "The Welch test is very similar to the Student test. For example, the $t$-statistic that we use in the Welch test is calculated in much the same way as it is for the Student test. That is, we take the difference between the sample means, and then divide it by some estimate of the standard error of that difference:\n",
    "$\n",
    "t = \\frac{\\bar{X}_1 - \\bar{X}_2}{\\mbox{SE}({\\bar{X}_1 - \\bar{X}_2})}\n",
    "$\n",
    "The main difference is that the standard error calculations are different. If the two populations have different standard deviations, then it's a complete nonsense to try to calculate a pooled standard deviation estimate, because you're averaging apples and oranges. (Well, I guess you can average apples and oranges, and what you end up with is a delicious fruit smoothie. But no one really thinks that a fruit smoothie is a very good way to describe the original fruits, do they?) But you can still estimate the standard error of the difference between sample means; it just ends up looking different:\n",
    "$\\mbox{SE}({\\bar{X}_1 - \\bar{X}_2}) = \\sqrt{ \\frac{{\\hat{\\sigma_1}}^2}{N_1} + \\frac{{\\hat{\\sigma_2}}^2}{N_2} }$\n",
    "The reason why it's calculated this way is beyond the scope of this book. What matters for our purposes is that the $t$-statistic that comes out of the Welch test is actually somewhat different to the one that comes from the Student test. \n",
    "\n",
    "The second difference between Welch and Student is that the degrees of freedom are calculated in a very different way. In the Welch test, the \"degrees of freedom \" doesn't have to be a whole number any more, and it doesn't correspond all that closely to the \"number of data points minus the number of constraints\" heuristic that I've been using up to this point. The degrees of freedom are, in fact...\n",
    "$\\mbox{df} = \\frac{ ({\\hat{\\sigma_1}}^2 / N_1 + {\\hat{\\sigma_2}}^2 / N_2)^2 }{  ({\\hat{\\sigma_1}}^2 / N_1)^2 / (N_1 -1 )  + ({\\hat{\\sigma_2}}^2 / N_2)^2 / (N_2 -1 ) } $\n",
    "... which is all pretty straightforward and obvious, right? Well, perhaps not. It doesn't really matter for out purposes. What matters is that you'll see that the \"df\" value that pops out of a Welch test tends to be a little bit smaller than the one used for the Student test, and it doesn't have to be a whole number. "
   ]
  },
  {
   "cell_type": "code",
   "execution_count": 74,
   "metadata": {
    "tags": [
     "hide_cell"
    ]
   },
   "outputs": [
    {
     "data": {
      "application/papermill.record/image/png": "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\n",
      "application/papermill.record/text/plain": "<Figure size 720x288 with 2 Axes>"
     },
     "metadata": {
      "scrapbook": {
       "mime_prefix": "application/papermill.record/",
       "name": "twosamplewelchtestdist_fig"
      }
     },
     "output_type": "display_data"
    },
    {
     "data": {
      "image/png": "[encoded data removed]",
      "text/plain": [
       "<Figure size 720x288 with 2 Axes>"
      ]
     },
     "metadata": {
      "needs_background": "light"
     },
     "output_type": "display_data"
    }
   ],
   "source": [
    "fig, ax = plt.subplots(1,2,figsize=(10,4))\n",
    "\n",
    "x = np.linspace(-5,30,100)\n",
    "y=stats.norm.pdf(x, 12,3.5)\n",
    "y2=stats.norm.pdf(x,15,3.5)\n",
    "\n",
    "ax[0].plot(x,y)\n",
    "ax[0].set_ylabel(\"probability\")\n",
    "ax[0].set_xlabel(\"value of X\")\n",
    "ax[0].set_title(\"null hypothesis\")\n",
    "ax[0].set_ylim(0,0.13)\n",
    "ax[0].fill_between(x,y, where=y>0.0,interpolate=True,facecolor='lightblue',alpha=0.2)\n",
    "ax[0].set_xticklabels([])\n",
    "ax[0].set_yticklabels([])\n",
    "ax[0].annotate(\"$\\mu$\", xy=(12,0.12),xytext=(12,0.12))\n",
    "\n",
    "x = np.linspace(-5,30,100)\n",
    "y=stats.norm.pdf(x, 10,3.5)\n",
    "y2=stats.norm.pdf(x,15,5.5)\n",
    "\n",
    "\n",
    "ax[1].plot(x,y)\n",
    "ax[1].plot(x,y2)\n",
    "ax[1].set_ylabel(\"probability\")\n",
    "ax[1].set_xlabel(\"value of X\")\n",
    "ax[1].set_title(\"alternative hypothesis\")\n",
    "ax[1].set_ylim(0,0.13)\n",
    "ax[1].fill_between(x,y, where=y>0.0,interpolate=True,facecolor='lightblue',alpha=0.2)\n",
    "ax[1].fill_between(x,y2, where=y>0.0,interpolate=True,facecolor='orange',alpha=0.2)\n",
    "ax[1].annotate(\"$\\mu_0$\", xy=(10,0.12),xytext=(10,0.12))\n",
    "ax[1].annotate(\"$\\mu_1$\", xy=(15,0.12),xytext=(15,0.12))\n",
    "ax[1].set_xticklabels([])\n",
    "ax[1].set_yticklabels([])\n",
    "\n",
    "sns.despine(top=True, right=True)\n",
    "glue(\"twosamplewelchtestdist_fig\",fig,display=False)"
   ]
  },
  {
   "cell_type": "markdown",
   "metadata": {},
   "source": [
    "```{glue:figure} twosamplewelchtestdist_fig\n",
    ":figwidth: 650px\n",
    ":name: \"fig:twosamplewelchtestdist\"\n",
    "\n",
    "Graphical illustration of the null and alternative hypotheses assumed by the Welch  $t$-test. Like the Student test we assume that both samples are drawn from a normal population; but the alternative hypothesis no longer requires the two populations to have equal variance.\n",
    "```"
   ]
  },
  {
   "cell_type": "markdown",
   "metadata": {},
   "source": [
    "### Doing the test in Python\n",
    "\n",
    "To run a Welch test in Python is pretty easy. All you have to do in pingouin it to tell the `ttest()` function to not assume equal variances but setting `correction=True`.  I like to do this explicitly.  If you do not provide the correction command to pinguoin it will run a test (see below) to see if the standard deviations seem like they might be different and then choses to use the correct or not.  By being explicit in your code is good practice."
   ]
  },
  {
   "cell_type": "code",
   "execution_count": 21,
   "metadata": {},
   "outputs": [
    {
     "data": {
      "text/html": [
       "<div>\n",
       "<style scoped>\n",
       "    .dataframe tbody tr th:only-of-type {\n",
       "        vertical-align: middle;\n",
       "    }\n",
       "\n",
       "    .dataframe tbody tr th {\n",
       "        vertical-align: top;\n",
       "    }\n",
       "\n",
       "    .dataframe thead th {\n",
       "        text-align: right;\n",
       "    }\n",
       "</style>\n",
       "<table border=\"1\" class=\"dataframe\">\n",
       "  <thead>\n",
       "    <tr style=\"text-align: right;\">\n",
       "      <th></th>\n",
       "      <th>T</th>\n",
       "      <th>dof</th>\n",
       "      <th>tail</th>\n",
       "      <th>p-val</th>\n",
       "      <th>CI95%</th>\n",
       "      <th>cohen-d</th>\n",
       "      <th>BF10</th>\n",
       "      <th>power</th>\n",
       "    </tr>\n",
       "  </thead>\n",
       "  <tbody>\n",
       "    <tr>\n",
       "      <th>T-test</th>\n",
       "      <td>-2.034</td>\n",
       "      <td>23.02</td>\n",
       "      <td>two-sided</td>\n",
       "      <td>0.054</td>\n",
       "      <td>[-11.05, 0.09]</td>\n",
       "      <td>0.74</td>\n",
       "      <td>1.556</td>\n",
       "      <td>0.536</td>\n",
       "    </tr>\n",
       "  </tbody>\n",
       "</table>\n",
       "</div>"
      ],
      "text/plain": [
       "            T    dof       tail  p-val           CI95%  cohen-d   BF10  power\n",
       "T-test -2.034  23.02  two-sided  0.054  [-11.05, 0.09]     0.74  1.556  0.536"
      ]
     },
     "execution_count": 21,
     "metadata": {},
     "output_type": "execute_result"
    }
   ],
   "source": [
    "pg.ttest(x=group1, y=group2, correction=True).round(3)"
   ]
  },
  {
   "cell_type": "markdown",
   "metadata": {},
   "source": [
    "Not too difficult, right? Not surprisingly, the output has exactly the same format as it did last time too.  Of course all the numbers are a bit different. But I hope that the interpretation of this output should be fairly obvious. You read the output in the same way that you would for the Student test. You've got your descriptive statistics, the hypotheses, the test results and some other information. So that's all pretty easy. \n",
    "\n",
    "Except, except... our result isn't significant anymore. When we ran the Student test, we did get a significant effect; but the Welch test on the same data set is not ($t(23.03) = 2.03$, $p = .054$). What does this mean? Should we panic? Is the sky burning? Probably not. The fact that one test is significant and the other isn't doesn't itself mean very much, especially since I kind of rigged the data so that this would happen. As a general rule, it's not a good idea to go out of your way to try to interpret or explain the difference between a $p$-value of .049 and a $p$-value of .051. If this sort of thing happens in real life, the *difference* in these $p$-values is almost certainly due to chance. What does matter is that you take a little bit of care in thinking about what test you use. The Student test and the Welch test have different strengths and weaknesses. If the two populations really do have equal variances, then the Student test is slightly more powerful (lower Type II error rate) than the Welch test. However, if they *don't* have the same variances, then the assumptions of the Student test are violated and you may not be able to trust it: you might end up with a higher Type I error rate. So it's a trade off. However, in real life, I tend to prefer the Welch test; because almost no-one *actually* believes that the population variances are identical."
   ]
  },
  {
   "cell_type": "markdown",
   "metadata": {},
   "source": [
    "### Assumptions of the test\n",
    "\n",
    "The assumptions of the Welch test are very similar to those made by the Student $t$-test, except that the Welch test does not assume homogeneity of variance. This leaves only the assumption of normality, and the assumption of independence. The specifics of these assumptions are the same for the Welch test as for the Student test. \n",
    "\n",
    "\n"
   ]
  },
  {
   "cell_type": "markdown",
   "metadata": {},
   "source": [
    "## The paired-samples $t$-test\n",
    "\n",
    "Regardless of whether we're talking about the Student test or the Welch test, an independent samples $t$-test is intended to be used in a situation where you have two samples that are, well, independent of one another. This situation arises naturally when participants are assigned randomly to one of two experimental conditions, but it provides a very poor approximation to other sorts of research designs. In particular, a repeated measures design -- in which each participant is measured (with respect to the same outcome variable) in both experimental conditions -- is not suited for analysis using independent samples $t$-tests. For example, we might be interested in whether listening to music reduces people's working memory capacity. To that end, we could measure each person's working memory capacity in two conditions: with music, and without music. In an experimental design such as this one, each participant appears in *both* groups. This requires us to approach the problem in a different way; by using the **_paired samples $t$-test_**."
   ]
  },
  {
   "cell_type": "markdown",
   "metadata": {},
   "source": [
    "### The data\n",
    "\n",
    "The data set that we'll use this time comes from Dr Chico's class. In her class, students take two major tests, one early in the semester and one later in the semester. To hear her tell it, she runs a very hard class, one that most students find very challenging; but she argues that by setting hard assessments, students are encouraged to work harder. Her theory is that the first test is a bit of a \"wake up call\" for students: when they realise how hard her class really is, they'll work harder for the second test and get a better mark. Is she right? To test this, let's have a look at the `chico.csv` file: "
   ]
  },
  {
   "cell_type": "code",
   "execution_count": 75,
   "metadata": {},
   "outputs": [
    {
     "data": {
      "text/html": [
       "<div>\n",
       "<style scoped>\n",
       "    .dataframe tbody tr th:only-of-type {\n",
       "        vertical-align: middle;\n",
       "    }\n",
       "\n",
       "    .dataframe tbody tr th {\n",
       "        vertical-align: top;\n",
       "    }\n",
       "\n",
       "    .dataframe thead th {\n",
       "        text-align: right;\n",
       "    }\n",
       "</style>\n",
       "<table border=\"1\" class=\"dataframe\">\n",
       "  <thead>\n",
       "    <tr style=\"text-align: right;\">\n",
       "      <th></th>\n",
       "      <th>id</th>\n",
       "      <th>grade_test1</th>\n",
       "      <th>grade_test2</th>\n",
       "    </tr>\n",
       "  </thead>\n",
       "  <tbody>\n",
       "    <tr>\n",
       "      <th>1</th>\n",
       "      <td>student1</td>\n",
       "      <td>42.9</td>\n",
       "      <td>44.6</td>\n",
       "    </tr>\n",
       "    <tr>\n",
       "      <th>2</th>\n",
       "      <td>student2</td>\n",
       "      <td>51.8</td>\n",
       "      <td>54.0</td>\n",
       "    </tr>\n",
       "    <tr>\n",
       "      <th>3</th>\n",
       "      <td>student3</td>\n",
       "      <td>71.7</td>\n",
       "      <td>72.3</td>\n",
       "    </tr>\n",
       "    <tr>\n",
       "      <th>4</th>\n",
       "      <td>student4</td>\n",
       "      <td>51.6</td>\n",
       "      <td>53.4</td>\n",
       "    </tr>\n",
       "    <tr>\n",
       "      <th>5</th>\n",
       "      <td>student5</td>\n",
       "      <td>63.5</td>\n",
       "      <td>63.8</td>\n",
       "    </tr>\n",
       "  </tbody>\n",
       "</table>\n",
       "</div>"
      ],
      "text/plain": [
       "         id  grade_test1  grade_test2\n",
       "1  student1         42.9         44.6\n",
       "2  student2         51.8         54.0\n",
       "3  student3         71.7         72.3\n",
       "4  student4         51.6         53.4\n",
       "5  student5         63.5         63.8"
      ]
     },
     "execution_count": 75,
     "metadata": {},
     "output_type": "execute_result"
    }
   ],
   "source": [
    "chico_df=pd.read_csv('http://gureckislab.org/courses/fall19/labincp/data/chico.csv',index_col=0)\n",
    "chico_df.head()"
   ]
  },
  {
   "cell_type": "markdown",
   "metadata": {},
   "source": [
    "The pandas data frame `chico` contains three variables: an `id` variable that identifies each student in the class, the `grade_test1` variable that records the student grade for the first test, and the `grade_test2` variable that has the grades for the second test. Above are the first five students.\n",
    "\n",
    "At a glance, it does seem like the class is a hard one (most grades are between 50\\% and 60\\%), but it does look like there's an improvement from the first test to the second one. If we take a quick look at the descriptive statistics"
   ]
  },
  {
   "cell_type": "code",
   "execution_count": 76,
   "metadata": {},
   "outputs": [
    {
     "data": {
      "text/html": [
       "<div>\n",
       "<style scoped>\n",
       "    .dataframe tbody tr th:only-of-type {\n",
       "        vertical-align: middle;\n",
       "    }\n",
       "\n",
       "    .dataframe tbody tr th {\n",
       "        vertical-align: top;\n",
       "    }\n",
       "\n",
       "    .dataframe thead th {\n",
       "        text-align: right;\n",
       "    }\n",
       "</style>\n",
       "<table border=\"1\" class=\"dataframe\">\n",
       "  <thead>\n",
       "    <tr style=\"text-align: right;\">\n",
       "      <th></th>\n",
       "      <th>grade_test1</th>\n",
       "      <th>grade_test2</th>\n",
       "    </tr>\n",
       "  </thead>\n",
       "  <tbody>\n",
       "    <tr>\n",
       "      <th>count</th>\n",
       "      <td>20.000000</td>\n",
       "      <td>20.000000</td>\n",
       "    </tr>\n",
       "    <tr>\n",
       "      <th>mean</th>\n",
       "      <td>56.980000</td>\n",
       "      <td>58.385000</td>\n",
       "    </tr>\n",
       "    <tr>\n",
       "      <th>std</th>\n",
       "      <td>6.616137</td>\n",
       "      <td>6.405612</td>\n",
       "    </tr>\n",
       "    <tr>\n",
       "      <th>min</th>\n",
       "      <td>42.900000</td>\n",
       "      <td>44.600000</td>\n",
       "    </tr>\n",
       "    <tr>\n",
       "      <th>25%</th>\n",
       "      <td>51.750000</td>\n",
       "      <td>53.100000</td>\n",
       "    </tr>\n",
       "    <tr>\n",
       "      <th>50%</th>\n",
       "      <td>57.700000</td>\n",
       "      <td>59.700000</td>\n",
       "    </tr>\n",
       "    <tr>\n",
       "      <th>75%</th>\n",
       "      <td>62.050000</td>\n",
       "      <td>63.050000</td>\n",
       "    </tr>\n",
       "    <tr>\n",
       "      <th>max</th>\n",
       "      <td>71.700000</td>\n",
       "      <td>72.300000</td>\n",
       "    </tr>\n",
       "  </tbody>\n",
       "</table>\n",
       "</div>"
      ],
      "text/plain": [
       "       grade_test1  grade_test2\n",
       "count    20.000000    20.000000\n",
       "mean     56.980000    58.385000\n",
       "std       6.616137     6.405612\n",
       "min      42.900000    44.600000\n",
       "25%      51.750000    53.100000\n",
       "50%      57.700000    59.700000\n",
       "75%      62.050000    63.050000\n",
       "max      71.700000    72.300000"
      ]
     },
     "execution_count": 76,
     "metadata": {},
     "output_type": "execute_result"
    }
   ],
   "source": [
    "chico_df.describe()"
   ]
  },
  {
   "cell_type": "markdown",
   "metadata": {},
   "source": [
    "we see that this impression seems to be supported. Across all 20 students the mean grade for the first test is 57\\%, but this rises to 58\\% for the second test. Although, given that the standard deviations are 6.6\\% and 6.4\\% respectively, it's starting to feel like maybe the improvement is just illusory; maybe just random variation. This impression is reinforced when you see the means and confidence intervals plotted in {numref}`fig:chicogrades`. If we were to rely on this plot alone, we'd come to the same conclusion that we got from looking at the descriptive statistics that the `describe()` function produced. Looking at how wide those confidence intervals are, we'd be tempted to think that the apparent improvement in student performance is pure chance."
   ]
  },
  {
   "cell_type": "code",
   "execution_count": 81,
   "metadata": {
    "tags": [
     "hide_cell"
    ]
   },
   "outputs": [
    {
     "data": {
      "application/papermill.record/image/png": "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\n",
      "application/papermill.record/text/plain": "<Figure size 360x360 with 1 Axes>"
     },
     "metadata": {
      "scrapbook": {
       "mime_prefix": "application/papermill.record/",
       "name": "chicogrades_fig"
      }
     },
     "output_type": "display_data"
    },
    {
     "data": {
      "image/png": "[encoded data removed]",
      "text/plain": [
       "<Figure size 360x360 with 1 Axes>"
      ]
     },
     "metadata": {
      "needs_background": "light"
     },
     "output_type": "display_data"
    }
   ],
   "source": [
    "chico_tidy_df = chico_df.melt(id_vars='id', var_name=\"testgrade\", value_name='grade')\n",
    "fig=sns.catplot(x='testgrade',y='grade',kind='point',data=chico_tidy_df)\n",
    "glue(\"chicogrades_fig\",fig.fig,display=False)"
   ]
  },
  {
   "cell_type": "markdown",
   "metadata": {},
   "source": [
    "```{glue:figure} chicogrades_fig\n",
    ":figwidth: 650px\n",
    ":name: \"fig:chicogrades\"\n",
    "\n",
    "Mean grade for test 1 and test 2, with associated 95% confidence intervals.\n",
    "```"
   ]
  },
  {
   "cell_type": "markdown",
   "metadata": {},
   "source": [
    "Nevertheless, this impression is wrong. To see why, take a look at the scatterplot of the grades for test 1 against the grades for test 2 shown in {numref}`fig:chicogradesscatter`. "
   ]
  },
  {
   "cell_type": "code",
   "execution_count": 78,
   "metadata": {},
   "outputs": [
    {
     "data": {
      "text/html": [
       "<div>\n",
       "<style scoped>\n",
       "    .dataframe tbody tr th:only-of-type {\n",
       "        vertical-align: middle;\n",
       "    }\n",
       "\n",
       "    .dataframe tbody tr th {\n",
       "        vertical-align: top;\n",
       "    }\n",
       "\n",
       "    .dataframe thead th {\n",
       "        text-align: right;\n",
       "    }\n",
       "</style>\n",
       "<table border=\"1\" class=\"dataframe\">\n",
       "  <thead>\n",
       "    <tr style=\"text-align: right;\">\n",
       "      <th></th>\n",
       "      <th>id</th>\n",
       "      <th>grade_test1</th>\n",
       "      <th>grade_test2</th>\n",
       "    </tr>\n",
       "  </thead>\n",
       "  <tbody>\n",
       "    <tr>\n",
       "      <th>1</th>\n",
       "      <td>student1</td>\n",
       "      <td>42.9</td>\n",
       "      <td>44.6</td>\n",
       "    </tr>\n",
       "    <tr>\n",
       "      <th>2</th>\n",
       "      <td>student2</td>\n",
       "      <td>51.8</td>\n",
       "      <td>54.0</td>\n",
       "    </tr>\n",
       "    <tr>\n",
       "      <th>3</th>\n",
       "      <td>student3</td>\n",
       "      <td>71.7</td>\n",
       "      <td>72.3</td>\n",
       "    </tr>\n",
       "    <tr>\n",
       "      <th>4</th>\n",
       "      <td>student4</td>\n",
       "      <td>51.6</td>\n",
       "      <td>53.4</td>\n",
       "    </tr>\n",
       "    <tr>\n",
       "      <th>5</th>\n",
       "      <td>student5</td>\n",
       "      <td>63.5</td>\n",
       "      <td>63.8</td>\n",
       "    </tr>\n",
       "  </tbody>\n",
       "</table>\n",
       "</div>"
      ],
      "text/plain": [
       "         id  grade_test1  grade_test2\n",
       "1  student1         42.9         44.6\n",
       "2  student2         51.8         54.0\n",
       "3  student3         71.7         72.3\n",
       "4  student4         51.6         53.4\n",
       "5  student5         63.5         63.8"
      ]
     },
     "execution_count": 78,
     "metadata": {},
     "output_type": "execute_result"
    }
   ],
   "source": [
    "chico_df.head()"
   ]
  },
  {
   "cell_type": "code",
   "execution_count": 87,
   "metadata": {
    "tags": [
     "hide_cell"
    ]
   },
   "outputs": [
    {
     "data": {
      "application/papermill.record/image/png": "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\n",
      "application/papermill.record/text/plain": "<Figure size 360x360 with 1 Axes>"
     },
     "metadata": {
      "scrapbook": {
       "mime_prefix": "application/papermill.record/",
       "name": "chicogradesscatter_fig"
      }
     },
     "output_type": "display_data"
    },
    {
     "data": {
      "image/png": "[encoded data removed]",
      "text/plain": [
       "<Figure size 360x360 with 1 Axes>"
      ]
     },
     "metadata": {
      "needs_background": "light"
     },
     "output_type": "display_data"
    }
   ],
   "source": [
    "fig=sns.relplot(x=chico_df['grade_test1'],y=chico_df['grade_test2'])\n",
    "x=np.linspace(40,73,100)\n",
    "plt.plot(x,x)\n",
    "glue(\"chicogradesscatter_fig\",fig.fig,display=False)"
   ]
  },
  {
   "cell_type": "markdown",
   "metadata": {},
   "source": [
    "```{glue:figure} chicogradesscatter_fig\n",
    ":figwidth: 650px\n",
    ":name: \"fig:chicogradesscatter\"\n",
    "\n",
    "Scatterplot showing the individual grades for test 1 and test 2.\n",
    "```"
   ]
  },
  {
   "cell_type": "markdown",
   "metadata": {},
   "source": [
    "In this plot, each dot corresponds to the two grades for a given student: if their grade for test 1 ($x$ co-ordinate) equals their grade for test 2 ($y$ co-ordinate), then the dot falls on the line. Points falling above the line are the students that performed better on the second test. Critically, almost all of the data points fall above the diagonal line: almost all of the students *do* seem to have improved their grade, if only by a small amount. This suggests that we should be looking at the *improvement* made by each student from one test to the next, and treating that as our raw data. To do this, we'll need to create a new variable for the `improvement` that each student makes, and add it to the `chico` data frame. The easiest way to do this is as follows: "
   ]
  },
  {
   "cell_type": "code",
   "execution_count": 90,
   "metadata": {},
   "outputs": [],
   "source": [
    "chico_df['improvement']=chico_df['grade_test2']-chico_df['grade_test1']"
   ]
  },
  {
   "cell_type": "markdown",
   "metadata": {},
   "source": [
    "Notice that I assigned the output to a variable called `chico$improvement`. That has the effect of creating a new variable called `improvement` inside the `chico` data frame. So now when I look at the `chico` data frame, I get an output that looks like this:"
   ]
  },
  {
   "cell_type": "code",
   "execution_count": 91,
   "metadata": {},
   "outputs": [
    {
     "data": {
      "text/html": [
       "<div>\n",
       "<style scoped>\n",
       "    .dataframe tbody tr th:only-of-type {\n",
       "        vertical-align: middle;\n",
       "    }\n",
       "\n",
       "    .dataframe tbody tr th {\n",
       "        vertical-align: top;\n",
       "    }\n",
       "\n",
       "    .dataframe thead th {\n",
       "        text-align: right;\n",
       "    }\n",
       "</style>\n",
       "<table border=\"1\" class=\"dataframe\">\n",
       "  <thead>\n",
       "    <tr style=\"text-align: right;\">\n",
       "      <th></th>\n",
       "      <th>id</th>\n",
       "      <th>grade_test1</th>\n",
       "      <th>grade_test2</th>\n",
       "      <th>improvement</th>\n",
       "    </tr>\n",
       "  </thead>\n",
       "  <tbody>\n",
       "    <tr>\n",
       "      <th>1</th>\n",
       "      <td>student1</td>\n",
       "      <td>42.9</td>\n",
       "      <td>44.6</td>\n",
       "      <td>1.7</td>\n",
       "    </tr>\n",
       "    <tr>\n",
       "      <th>2</th>\n",
       "      <td>student2</td>\n",
       "      <td>51.8</td>\n",
       "      <td>54.0</td>\n",
       "      <td>2.2</td>\n",
       "    </tr>\n",
       "    <tr>\n",
       "      <th>3</th>\n",
       "      <td>student3</td>\n",
       "      <td>71.7</td>\n",
       "      <td>72.3</td>\n",
       "      <td>0.6</td>\n",
       "    </tr>\n",
       "    <tr>\n",
       "      <th>4</th>\n",
       "      <td>student4</td>\n",
       "      <td>51.6</td>\n",
       "      <td>53.4</td>\n",
       "      <td>1.8</td>\n",
       "    </tr>\n",
       "    <tr>\n",
       "      <th>5</th>\n",
       "      <td>student5</td>\n",
       "      <td>63.5</td>\n",
       "      <td>63.8</td>\n",
       "      <td>0.3</td>\n",
       "    </tr>\n",
       "  </tbody>\n",
       "</table>\n",
       "</div>"
      ],
      "text/plain": [
       "         id  grade_test1  grade_test2  improvement\n",
       "1  student1         42.9         44.6          1.7\n",
       "2  student2         51.8         54.0          2.2\n",
       "3  student3         71.7         72.3          0.6\n",
       "4  student4         51.6         53.4          1.8\n",
       "5  student5         63.5         63.8          0.3"
      ]
     },
     "execution_count": 91,
     "metadata": {},
     "output_type": "execute_result"
    }
   ],
   "source": [
    "chico_df.head()"
   ]
  },
  {
   "cell_type": "markdown",
   "metadata": {},
   "source": [
    "Now that we've created and stored this `improvement` variable, we can draw a histogram showing the distribution of these improvement scores (using the `hist()` function), shown in Figure {numref}`fig:chicoimprove`. "
   ]
  },
  {
   "cell_type": "code",
   "execution_count": 92,
   "metadata": {
    "tags": [
     "hide_cell"
    ]
   },
   "outputs": [
    {
     "data": {
      "application/papermill.record/image/png": "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\n",
      "application/papermill.record/text/plain": "<Figure size 360x360 with 1 Axes>"
     },
     "metadata": {
      "scrapbook": {
       "mime_prefix": "application/papermill.record/",
       "name": "chicoimprove_fig"
      }
     },
     "output_type": "display_data"
    },
    {
     "data": {
      "image/png": "[encoded data removed]",
      "text/plain": [
       "<Figure size 360x360 with 1 Axes>"
      ]
     },
     "metadata": {
      "needs_background": "light"
     },
     "output_type": "display_data"
    }
   ],
   "source": [
    "fig=sns.displot(chico_df.improvement,kde=False)\n",
    "glue(\"chicoimprove_fig\",fig.fig,display=False)"
   ]
  },
  {
   "cell_type": "markdown",
   "metadata": {},
   "source": [
    "```{glue:figure} chicoimprove_fig\n",
    ":figwidth: 650px\n",
    ":name: \"fig:chicoimprove\"\n",
    "\n",
    "Histogram of improvement variable.\n",
    "```"
   ]
  },
  {
   "cell_type": "markdown",
   "metadata": {},
   "source": [
    "When we look at histogram, it's very clear that there *is* a real improvement here. The vast majority of the students scored higher on the test 2 than on test 1, reflected in the fact that almost the entire histogram is above zero. In fact, if we use `aggregate()` with a custom function (`mean_confidence_interval()`) to compute a confidence interval for the population mean of this new variable, "
   ]
  },
  {
   "cell_type": "code",
   "execution_count": 67,
   "metadata": {},
   "outputs": [
    {
     "data": {
      "text/html": [
       "<div>\n",
       "<style scoped>\n",
       "    .dataframe tbody tr th:only-of-type {\n",
       "        vertical-align: middle;\n",
       "    }\n",
       "\n",
       "    .dataframe tbody tr th {\n",
       "        vertical-align: top;\n",
       "    }\n",
       "\n",
       "    .dataframe thead th {\n",
       "        text-align: right;\n",
       "    }\n",
       "</style>\n",
       "<table border=\"1\" class=\"dataframe\">\n",
       "  <thead>\n",
       "    <tr style=\"text-align: right;\">\n",
       "      <th></th>\n",
       "      <th>mean</th>\n",
       "      <th>lower 95CI</th>\n",
       "      <th>upper 95CI</th>\n",
       "    </tr>\n",
       "  </thead>\n",
       "  <tbody>\n",
       "    <tr>\n",
       "      <th>0</th>\n",
       "      <td>1.4</td>\n",
       "      <td>0.95</td>\n",
       "      <td>1.86</td>\n",
       "    </tr>\n",
       "  </tbody>\n",
       "</table>\n",
       "</div>"
      ],
      "text/plain": [
       "   mean  lower 95CI  upper 95CI\n",
       "0   1.4        0.95        1.86"
      ]
     },
     "execution_count": 67,
     "metadata": {},
     "output_type": "execute_result"
    }
   ],
   "source": [
    "def mean_confidence_interval(data, confidence=0.95):\n",
    "    a = data\n",
    "    n = len(a)\n",
    "    m, se = np.mean(a), stats.sem(a)\n",
    "    h = se * stats.t.ppf((1 + confidence) / 2., n-1)\n",
    "    return pd.DataFrame({\"mean\":[m], \"lower 95CI\": [m-h], \"upper 95CI\":[m+h]})\n",
    "\n",
    "chico_df.improvement.aggregate(mean_confidence_interval).round(2)"
   ]
  },
  {
   "cell_type": "markdown",
   "metadata": {},
   "source": [
    "we see that it is 95\\% certain that the true (population-wide) average improvement would lie between 0.95\\% and 1.86\\%. So you can see, qualitatively, what's going on: there is a real \"within student\" improvement (everyone improves by about 1\\%), but it is very small when set against the quite large \"between student\" differences (student grades vary by about 20\\% or so). "
   ]
  },
  {
   "cell_type": "markdown",
   "metadata": {},
   "source": [
    "### What is the paired samples $t$-test?\n",
    "\n",
    "In light of the previous exploration, let's think about how to construct an appropriate $t$ test. One possibility would be to try to run an independent samples $t$-test using `grade_test1` and `grade_test2` as the variables of interest. However, this is clearly the wrong thing to do: the independent samples $t$-test assumes that there is no particular relationship between the two samples. Yet clearly that's not true in this case, because of the repeated measures structure to the data. To use the language that I introduced in the last section, if we were to try to do an independent samples $t$-test, we would be conflating the **_within subject_** differences (which is what we're interested in testing) with the **_between subject_** variability (which we are not). \n",
    "\n",
    "The solution to the problem is obvious, I hope, since we already did all the hard work in the previous section. Instead of running an independent samples $t$-test on `grade_test1` and `grade_test2`, we run a *one-sample* $t$-test on the within-subject difference variable, `improvement`. To formalise this slightly, if $X_{i1}$ is the score that the $i$-th participant obtained on the first variable, and $X_{i2}$ is the score that the same person obtained on the second one, then the difference score is:\n",
    "$\n",
    "D_{i} = X_{i1} - X_{i2} \n",
    "$\n",
    "Notice that the difference scores is *variable 1 minus variable 2* and not the other way around, so if we want improvement to correspond to a positive valued difference, we actually want \"test 2\" to be our \"variable 1\". Equally, we would say that $\\mu_D = \\mu_1 - \\mu_2$ is the population mean for this difference variable. So, to convert this to a hypothesis test, our null hypothesis is that this mean difference is zero; the alternative hypothesis is that it is not:\n",
    "\n",
    "$\n",
    "\\begin{array}{ll}\n",
    "H_0: & \\mu_D = 0  \\\\\n",
    "H_1: & \\mu_D \\neq 0\n",
    "\\end{array}\n",
    "$\n",
    "\n",
    "(this is assuming we're talking about a two-sided test here). This is more or less identical to the way we described the hypotheses for the one-sample $t$-test: the only difference is that the specific value that the null hypothesis predicts is 0. And so our $t$-statistic is defined in more or less the same way too. If we let $\\bar{D}$ denote the mean of the difference scores, then \n",
    "\n",
    "$\n",
    "t = \\frac{\\bar{D}}{\\mbox{SE}({\\bar{D}})}\n",
    "$\n",
    "\n",
    "which is \n",
    "\n",
    "$\n",
    "t = \\frac{\\bar{D}}{\\hat\\sigma_D / \\sqrt{N}}\n",
    "$\n",
    "\n",
    "where $\\hat\\sigma_D$ is the standard deviation of the difference scores. Since this is just an ordinary, one-sample $t$-test, with nothing special about it, the degrees of freedom are still $N-1$. And that's it: the paired samples $t$-test really isn't a new test at all: it's a one-sample $t$-test, but applied to the difference between two variables. It's actually very simple; the only reason it merits a discussion as long as the one we've just gone through is that you need to be able to recognize *when* a paired samples test is appropriate, and to understand *why* it's better than an independent samples $t$ test."
   ]
  },
  {
   "cell_type": "markdown",
   "metadata": {},
   "source": [
    "### Doing the test in Python\n",
    "\n",
    "\n",
    "How do you do a paired samples $t$-test in python. One possibility is to follow the process I outlined above: create a \"difference\" variable and then run a one sample $t$-test on that. Since we've already created a variable called `chico_df['improvement']`, let's do that:"
   ]
  },
  {
   "cell_type": "code",
   "execution_count": 93,
   "metadata": {},
   "outputs": [
    {
     "data": {
      "text/html": [
       "<div>\n",
       "<style scoped>\n",
       "    .dataframe tbody tr th:only-of-type {\n",
       "        vertical-align: middle;\n",
       "    }\n",
       "\n",
       "    .dataframe tbody tr th {\n",
       "        vertical-align: top;\n",
       "    }\n",
       "\n",
       "    .dataframe thead th {\n",
       "        text-align: right;\n",
       "    }\n",
       "</style>\n",
       "<table border=\"1\" class=\"dataframe\">\n",
       "  <thead>\n",
       "    <tr style=\"text-align: right;\">\n",
       "      <th></th>\n",
       "      <th>T</th>\n",
       "      <th>dof</th>\n",
       "      <th>tail</th>\n",
       "      <th>p-val</th>\n",
       "      <th>CI95%</th>\n",
       "      <th>cohen-d</th>\n",
       "      <th>BF10</th>\n",
       "      <th>power</th>\n",
       "    </tr>\n",
       "  </thead>\n",
       "  <tbody>\n",
       "    <tr>\n",
       "      <th>T-test</th>\n",
       "      <td>6.48</td>\n",
       "      <td>19</td>\n",
       "      <td>two-sided</td>\n",
       "      <td>0.0</td>\n",
       "      <td>[0.95, 1.86]</td>\n",
       "      <td>1.45</td>\n",
       "      <td>5991.577</td>\n",
       "      <td>1.0</td>\n",
       "    </tr>\n",
       "  </tbody>\n",
       "</table>\n",
       "</div>"
      ],
      "text/plain": [
       "           T  dof       tail  p-val         CI95%  cohen-d      BF10  power\n",
       "T-test  6.48   19  two-sided    0.0  [0.95, 1.86]     1.45  5991.577    1.0"
      ]
     },
     "execution_count": 93,
     "metadata": {},
     "output_type": "execute_result"
    }
   ],
   "source": [
    "pg.ttest(x=chico_df['improvement'], y=0).round(2)"
   ]
  },
  {
   "cell_type": "markdown",
   "metadata": {},
   "source": [
    "The output here is (obviously) formatted exactly the same was as it was the last time we used the `ttest()` function, and it confirms our intuition. There's an average improvement of 1.4\\% from test 1 to test 2, and this is significantly different from 0 ($t(19)=6.48, p<.001$). \n",
    "\n",
    "However, suppose you're lazy and you don't want to go to all the effort of creating a new variable. Or perhaps you just want to keep the difference between one-sample and paired-samples tests clear in your head. If so, you can still use the `ttest()` function. Let's assume that your data organised like they are in the `chico` data frame, where there are two separate variables, one for each measurement. You can still provide each column as group 1 and group 2 as before but just indicate they are paried with the argument `paired=True`:"
   ]
  },
  {
   "cell_type": "code",
   "execution_count": 72,
   "metadata": {},
   "outputs": [
    {
     "data": {
      "text/html": [
       "<div>\n",
       "<style scoped>\n",
       "    .dataframe tbody tr th:only-of-type {\n",
       "        vertical-align: middle;\n",
       "    }\n",
       "\n",
       "    .dataframe tbody tr th {\n",
       "        vertical-align: top;\n",
       "    }\n",
       "\n",
       "    .dataframe thead th {\n",
       "        text-align: right;\n",
       "    }\n",
       "</style>\n",
       "<table border=\"1\" class=\"dataframe\">\n",
       "  <thead>\n",
       "    <tr style=\"text-align: right;\">\n",
       "      <th></th>\n",
       "      <th>T</th>\n",
       "      <th>dof</th>\n",
       "      <th>tail</th>\n",
       "      <th>p-val</th>\n",
       "      <th>CI95%</th>\n",
       "      <th>cohen-d</th>\n",
       "      <th>BF10</th>\n",
       "      <th>power</th>\n",
       "    </tr>\n",
       "  </thead>\n",
       "  <tbody>\n",
       "    <tr>\n",
       "      <th>T-test</th>\n",
       "      <td>-6.48</td>\n",
       "      <td>19</td>\n",
       "      <td>two-sided</td>\n",
       "      <td>0.0</td>\n",
       "      <td>[-1.86, -0.95]</td>\n",
       "      <td>0.22</td>\n",
       "      <td>5991.577</td>\n",
       "      <td>0.15</td>\n",
       "    </tr>\n",
       "  </tbody>\n",
       "</table>\n",
       "</div>"
      ],
      "text/plain": [
       "           T  dof       tail  p-val           CI95%  cohen-d      BF10  power\n",
       "T-test -6.48   19  two-sided    0.0  [-1.86, -0.95]     0.22  5991.577   0.15"
      ]
     },
     "execution_count": 72,
     "metadata": {},
     "output_type": "execute_result"
    }
   ],
   "source": [
    "group1 = chico_df.grade_test1\n",
    "group2 = chico_df.grade_test2\n",
    "pg.ttest(x=group1, y=group2, paired=True).round(2)"
   ]
  },
  {
   "cell_type": "markdown",
   "metadata": {},
   "source": [
    "The numbers are identical to those that come from the one sample test on the improvment column, which of course they have to be given that the paired samples $t$-test is just a one sample test under the hood."
   ]
  },
  {
   "cell_type": "markdown",
   "metadata": {},
   "source": [
    "## One sided tests\n",
    "\n",
    "When introducing the theory of null hypothesis tests, I mentioned that there are some situations when it's appropriate to specify a *one-sided* test (see above). So far, all of the $t$-tests have been two-sided tests. For instance, when we specified a one sample $t$-test for the grades in Dr Zeppo's class, the null hypothesis was that the true mean was 67.5\\%. The alternative hypothesis was that the true mean was greater than *or* less than 67.5\\%. Suppose we were only interested in finding out if the true mean is greater than 67.5\\%, and have no interest whatsoever in testing to find out if the true mean is lower than 67.5\\%. If so, our null hypothesis would be that the true mean is 67.5\\% or less, and the alternative hypothesis would be that the true mean is greater than 67.5\\%. The pingouin `ttest()` function lets you do this, by specifying the `tail` argument. If you set `tail=\"greater\"`, it means that you're testing to see if the true mean is larger than `mu`. If you set `tail=\"less\"`, then you're testing to see if the true mean is smaller than `mu`. Here's how it would work for Dr Zeppo's class:"
   ]
  },
  {
   "cell_type": "code",
   "execution_count": 109,
   "metadata": {},
   "outputs": [
    {
     "data": {
      "text/html": [
       "<div>\n",
       "<style scoped>\n",
       "    .dataframe tbody tr th:only-of-type {\n",
       "        vertical-align: middle;\n",
       "    }\n",
       "\n",
       "    .dataframe tbody tr th {\n",
       "        vertical-align: top;\n",
       "    }\n",
       "\n",
       "    .dataframe thead th {\n",
       "        text-align: right;\n",
       "    }\n",
       "</style>\n",
       "<table border=\"1\" class=\"dataframe\">\n",
       "  <thead>\n",
       "    <tr style=\"text-align: right;\">\n",
       "      <th></th>\n",
       "      <th>T</th>\n",
       "      <th>dof</th>\n",
       "      <th>tail</th>\n",
       "      <th>p-val</th>\n",
       "      <th>CI95%</th>\n",
       "      <th>cohen-d</th>\n",
       "      <th>BF10</th>\n",
       "      <th>power</th>\n",
       "    </tr>\n",
       "  </thead>\n",
       "  <tbody>\n",
       "    <tr>\n",
       "      <th>T-test</th>\n",
       "      <td>2.255</td>\n",
       "      <td>19</td>\n",
       "      <td>two-sided</td>\n",
       "      <td>0.036145</td>\n",
       "      <td>[0.34, 9.26]</td>\n",
       "      <td>0.504</td>\n",
       "      <td>1.795</td>\n",
       "      <td>0.571</td>\n",
       "    </tr>\n",
       "  </tbody>\n",
       "</table>\n",
       "</div>"
      ],
      "text/plain": [
       "            T  dof       tail     p-val         CI95%  cohen-d   BF10  power\n",
       "T-test  2.255   19  two-sided  0.036145  [0.34, 9.26]    0.504  1.795  0.571"
      ]
     },
     "execution_count": 109,
     "metadata": {},
     "output_type": "execute_result"
    }
   ],
   "source": [
    "# old version\n",
    "pg.ttest(x=zeppo_df.grades,y=67.5)"
   ]
  },
  {
   "cell_type": "code",
   "execution_count": 110,
   "metadata": {},
   "outputs": [
    {
     "data": {
      "text/html": [
       "<div>\n",
       "<style scoped>\n",
       "    .dataframe tbody tr th:only-of-type {\n",
       "        vertical-align: middle;\n",
       "    }\n",
       "\n",
       "    .dataframe tbody tr th {\n",
       "        vertical-align: top;\n",
       "    }\n",
       "\n",
       "    .dataframe thead th {\n",
       "        text-align: right;\n",
       "    }\n",
       "</style>\n",
       "<table border=\"1\" class=\"dataframe\">\n",
       "  <thead>\n",
       "    <tr style=\"text-align: right;\">\n",
       "      <th></th>\n",
       "      <th>T</th>\n",
       "      <th>dof</th>\n",
       "      <th>tail</th>\n",
       "      <th>p-val</th>\n",
       "      <th>CI95%</th>\n",
       "      <th>cohen-d</th>\n",
       "      <th>BF10</th>\n",
       "      <th>power</th>\n",
       "    </tr>\n",
       "  </thead>\n",
       "  <tbody>\n",
       "    <tr>\n",
       "      <th>T-test</th>\n",
       "      <td>2.255</td>\n",
       "      <td>19</td>\n",
       "      <td>greater</td>\n",
       "      <td>0.018073</td>\n",
       "      <td>[1.12, inf]</td>\n",
       "      <td>0.504</td>\n",
       "      <td>3.59</td>\n",
       "      <td>0.701</td>\n",
       "    </tr>\n",
       "  </tbody>\n",
       "</table>\n",
       "</div>"
      ],
      "text/plain": [
       "            T  dof     tail     p-val        CI95%  cohen-d  BF10  power\n",
       "T-test  2.255   19  greater  0.018073  [1.12, inf]    0.504  3.59  0.701"
      ]
     },
     "execution_count": 110,
     "metadata": {},
     "output_type": "execute_result"
    }
   ],
   "source": [
    "pg.ttest(x=zeppo_df.grades,y=67.5,tail='greater')"
   ]
  },
  {
   "cell_type": "markdown",
   "metadata": {},
   "source": [
    "Notice that there are a few changes from the output that we saw last time. Most important is the fact that the tail output has changed predictably. The second thing to note is that, although the $t$-statistic and degrees of freedom have not changed, the $p$-value has. This is because the one-sided test has a different rejection region from the two-sided test. If you've forgotten why this is and what it means, you may find it helpful to read back over Chapter on hypothesis testing, and Section on one-sided tests in particular. The third thing to note is that the confidence interval is different too: it now reports a \"one-sided\" confidence interval rather than a two-sided one. In a two-sided confidence interval, we're trying to find numbers $a$ and $b$ such that we're 95\\% confident that the true mean lies *between* $a$ and $b$. In a one-sided confidence interval, we're trying to find a single number $a$ such that we're 95\\% confident that the true mean is *greater than* $a$ (or less than $a$ if you set `tail=\"less\"`).\n",
    "\n",
    "So that's how to do a one-sided one sample $t$-test. However, all versions of the $t$-test can be one-sided. For an independent samples $t$ test, you could have a one-sided test if you're only interestd in testing to see if group A has *higher* scores than group B, but have no interest in finding out if group B has higher scores than group A. Let's suppose that, for Dr Harpo's class, you wanted to see if Anastasia's students had higher grades than Bernadette's. The `ttest()` function lets you do this, again by specifying the `tail` argument."
   ]
  },
  {
   "cell_type": "code",
   "execution_count": 78,
   "metadata": {},
   "outputs": [
    {
     "data": {
      "text/html": [
       "<div>\n",
       "<style scoped>\n",
       "    .dataframe tbody tr th:only-of-type {\n",
       "        vertical-align: middle;\n",
       "    }\n",
       "\n",
       "    .dataframe tbody tr th {\n",
       "        vertical-align: top;\n",
       "    }\n",
       "\n",
       "    .dataframe thead th {\n",
       "        text-align: right;\n",
       "    }\n",
       "</style>\n",
       "<table border=\"1\" class=\"dataframe\">\n",
       "  <thead>\n",
       "    <tr style=\"text-align: right;\">\n",
       "      <th></th>\n",
       "      <th>T</th>\n",
       "      <th>dof</th>\n",
       "      <th>tail</th>\n",
       "      <th>p-val</th>\n",
       "      <th>CI95%</th>\n",
       "      <th>cohen-d</th>\n",
       "      <th>BF10</th>\n",
       "      <th>power</th>\n",
       "    </tr>\n",
       "  </thead>\n",
       "  <tbody>\n",
       "    <tr>\n",
       "      <th>T-test</th>\n",
       "      <td>-2.12</td>\n",
       "      <td>31</td>\n",
       "      <td>less</td>\n",
       "      <td>0.02</td>\n",
       "      <td>[-inf, -1.09]</td>\n",
       "      <td>0.74</td>\n",
       "      <td>3.51</td>\n",
       "      <td>0.66</td>\n",
       "    </tr>\n",
       "  </tbody>\n",
       "</table>\n",
       "</div>"
      ],
      "text/plain": [
       "           T  dof  tail  p-val          CI95%  cohen-d  BF10  power\n",
       "T-test -2.12   31  less   0.02  [-inf, -1.09]     0.74  3.51   0.66"
      ]
     },
     "execution_count": 78,
     "metadata": {},
     "output_type": "execute_result"
    }
   ],
   "source": [
    "group1 = harpo_df[harpo_df['tutor']==\"Bernadette\"].grade\n",
    "group2 = harpo_df[harpo_df['tutor']==\"Anastasia\"].grade\n",
    "\n",
    "pg.ttest(x=group1, y=group2, correction=False, tail='one-sided').round(2)"
   ]
  },
  {
   "cell_type": "markdown",
   "metadata": {},
   "source": [
    "Again, the output changes in a predictable way. The definition of the null and alternative hypotheses has changed, the $p$-value has changed, and it now reports a one-sided confidence interval rather than a two-sided one.  You might be surprised that although we specified `tail=\"one-sided\"` in the code, the output says `tail=less`.  This is because pinguoin's `ttest()` function automatically infers which side the one tail should appear on.  Since the t-value is negative here it chose `less` but if you swap the groups arguments it will flip to `greater`:"
   ]
  },
  {
   "cell_type": "code",
   "execution_count": 80,
   "metadata": {},
   "outputs": [
    {
     "data": {
      "text/html": [
       "<div>\n",
       "<style scoped>\n",
       "    .dataframe tbody tr th:only-of-type {\n",
       "        vertical-align: middle;\n",
       "    }\n",
       "\n",
       "    .dataframe tbody tr th {\n",
       "        vertical-align: top;\n",
       "    }\n",
       "\n",
       "    .dataframe thead th {\n",
       "        text-align: right;\n",
       "    }\n",
       "</style>\n",
       "<table border=\"1\" class=\"dataframe\">\n",
       "  <thead>\n",
       "    <tr style=\"text-align: right;\">\n",
       "      <th></th>\n",
       "      <th>T</th>\n",
       "      <th>dof</th>\n",
       "      <th>tail</th>\n",
       "      <th>p-val</th>\n",
       "      <th>CI95%</th>\n",
       "      <th>cohen-d</th>\n",
       "      <th>BF10</th>\n",
       "      <th>power</th>\n",
       "    </tr>\n",
       "  </thead>\n",
       "  <tbody>\n",
       "    <tr>\n",
       "      <th>T-test</th>\n",
       "      <td>2.12</td>\n",
       "      <td>31</td>\n",
       "      <td>greater</td>\n",
       "      <td>0.02</td>\n",
       "      <td>[1.09, inf]</td>\n",
       "      <td>0.74</td>\n",
       "      <td>3.51</td>\n",
       "      <td>0.66</td>\n",
       "    </tr>\n",
       "  </tbody>\n",
       "</table>\n",
       "</div>"
      ],
      "text/plain": [
       "           T  dof     tail  p-val        CI95%  cohen-d  BF10  power\n",
       "T-test  2.12   31  greater   0.02  [1.09, inf]     0.74  3.51   0.66"
      ]
     },
     "execution_count": 80,
     "metadata": {},
     "output_type": "execute_result"
    }
   ],
   "source": [
    "group1 = harpo_df[harpo_df['tutor']==\"Bernadette\"].grade\n",
    "group2 = harpo_df[harpo_df['tutor']==\"Anastasia\"].grade\n",
    "\n",
    "pg.ttest(x=group2, y=group1, correction=False, tail='one-sided').round(2)"
   ]
  },
  {
   "cell_type": "markdown",
   "metadata": {},
   "source": [
    "For this reason as long as you specify the `tail` correct you don't need to worry about it!\n",
    "\n",
    "What about the paired samples $t$-test? Suppose we wanted to test the hypothesis that grades go *up* from test 1 to test 2 in Dr Zeppo's class, and are not prepared to consider the idea that the grades go down. Again, we can use the `tail` argument to specify the one-sided test, and it works the same way it does for the independent samples $t$-test.  If your data are in wide form, as they are in the `chico` data frame, you'd use this command:"
   ]
  },
  {
   "cell_type": "code",
   "execution_count": 79,
   "metadata": {},
   "outputs": [
    {
     "data": {
      "text/html": [
       "<div>\n",
       "<style scoped>\n",
       "    .dataframe tbody tr th:only-of-type {\n",
       "        vertical-align: middle;\n",
       "    }\n",
       "\n",
       "    .dataframe tbody tr th {\n",
       "        vertical-align: top;\n",
       "    }\n",
       "\n",
       "    .dataframe thead th {\n",
       "        text-align: right;\n",
       "    }\n",
       "</style>\n",
       "<table border=\"1\" class=\"dataframe\">\n",
       "  <thead>\n",
       "    <tr style=\"text-align: right;\">\n",
       "      <th></th>\n",
       "      <th>T</th>\n",
       "      <th>dof</th>\n",
       "      <th>tail</th>\n",
       "      <th>p-val</th>\n",
       "      <th>CI95%</th>\n",
       "      <th>cohen-d</th>\n",
       "      <th>BF10</th>\n",
       "      <th>power</th>\n",
       "    </tr>\n",
       "  </thead>\n",
       "  <tbody>\n",
       "    <tr>\n",
       "      <th>T-test</th>\n",
       "      <td>-6.48</td>\n",
       "      <td>19</td>\n",
       "      <td>less</td>\n",
       "      <td>0.0</td>\n",
       "      <td>[-inf, -1.03]</td>\n",
       "      <td>0.22</td>\n",
       "      <td>1.198e+04</td>\n",
       "      <td>0.24</td>\n",
       "    </tr>\n",
       "  </tbody>\n",
       "</table>\n",
       "</div>"
      ],
      "text/plain": [
       "           T  dof  tail  p-val          CI95%  cohen-d       BF10  power\n",
       "T-test -6.48   19  less    0.0  [-inf, -1.03]     0.22  1.198e+04   0.24"
      ]
     },
     "execution_count": 79,
     "metadata": {},
     "output_type": "execute_result"
    }
   ],
   "source": [
    "group1 = chico_df.grade_test1\n",
    "group2 = chico_df.grade_test2\n",
    "pg.ttest(x=group1, y=group2, paired=True, tail='one-sided').round(2)"
   ]
  },
  {
   "cell_type": "markdown",
   "metadata": {},
   "source": [
    "Yet again, the output changes in a predictable way. The hypotheses have changed, the $p$-value has changed, and the confidence interval is now one-sided. "
   ]
  },
  {
   "cell_type": "markdown",
   "metadata": {},
   "source": [
    "## Effect size\n",
    "\n",
    "The most commonly used measure of effect size for a $t$-test is **_Cohen's $d$_** {cite}`Cohen1988`. It's a very simple measure in principle, with quite a few wrinkles when you start digging into the details. Cohen himself defined it primarily in the context of an independent samples $t$-test, specifically the Student test. [^dprime] In that context, a natural way of defining the effect size is to divide the difference between the means by an estimate of the standard deviation. In other words, we're looking to calculate *something* along the lines of this:\n",
    "$\n",
    "d = \\frac{\\mbox{(mean 1)} - \\mbox{(mean 2)}}{\\mbox{std dev}}\n",
    "$\n",
    "and he suggested a rough guide for interpreting $d$ in {numref}`tab:effect_size`. You'd think that this would be pretty unambiguous, but it's not; largely because Cohen wasn't too specific on what he thought should be used as the measure of the standard deviation (in his defence, he was trying to make a broader point in his book, not nitpick about tiny details). As discussed by {cite}`McGrath2006`, there are several different version in common usage, and each author tends to adopt slightly different notation. For the sake of simplicity (as opposed to accuracy) I'll use $d$ to refer to any statistic that you calculate from the sample, and  use $\\delta$ to refer to a theoretical population effect. Obviously, that does mean that there are several different things all called $d$. pingouin has a number of different functions for computing [effect sizes](https://pingouin-stats.org/api.html#effect-sizes).  \n",
    "\n",
    "My suspicion is that the only time that you would want Cohen's $d$ is when you're running a $t$-test, and the good news is that the pingouin `ttest()` function we saw already output the cohen's d for the given test!\n",
    "\n",
    "[^dprime]: It is no accident that cohen's d measure looks and sounds a lot like d' which we will cover in the next chapter!  They measure roughly the same thing!"
   ]
  },
  {
   "cell_type": "code",
   "execution_count": 4,
   "metadata": {
    "tags": [
     "hide_cell"
    ]
   },
   "outputs": [
    {
     "data": {
      "application/papermill.record/text/html": "<div>\n<style scoped>\n    .dataframe tbody tr th:only-of-type {\n        vertical-align: middle;\n    }\n\n    .dataframe tbody tr th {\n        vertical-align: top;\n    }\n\n    .dataframe thead th {\n        text-align: right;\n    }\n</style>\n<table border=\"1\" class=\"dataframe\">\n  <thead>\n    <tr style=\"text-align: right;\">\n      <th></th>\n      <th>rough interpretation</th>\n    </tr>\n    <tr>\n      <th>d-value</th>\n      <th></th>\n    </tr>\n  </thead>\n  <tbody>\n    <tr>\n      <th>about 0.2</th>\n      <td>small effect</td>\n    </tr>\n    <tr>\n      <th>about 0.5</th>\n      <td>moderate effect</td>\n    </tr>\n    <tr>\n      <th>about 0.8</th>\n      <td>large effect</td>\n    </tr>\n  </tbody>\n</table>\n</div>",
      "application/papermill.record/text/plain": "          rough interpretation\nd-value                       \nabout 0.2         small effect\nabout 0.5      moderate effect\nabout 0.8         large effect"
     },
     "metadata": {
      "scrapbook": {
       "mime_prefix": "application/papermill.record/",
       "name": "effect_size_tab"
      }
     },
     "output_type": "display_data"
    }
   ],
   "source": [
    "effect_size_df=pd.DataFrame({\"d-value\": ['about 0.2', 'about 0.5', 'about 0.8'], \"rough interpretation\": ['small effect', 'moderate effect', 'large effect']}).set_index(\"d-value\")\n",
    "glue(\"effect_size_tab\", effect_size_df, display=False)"
   ]
  },
  {
   "cell_type": "markdown",
   "metadata": {},
   "source": [
    "```{glue:figure} effect_size_tab\n",
    ":figwidth: 550px\n",
    ":name: \"tab:effect_size\"\n",
    "\n",
    "A (very) rough guide to interpreting Cohen's $d$. My personal recommendation is to not use these blindly. The $d$ statistic has a natural interpretation in and of itself: it redescribes the different in means as the number of standard deviations that separates those means. So it's generally a good idea to think about what that means in practical terms. In some contexts a \\\"small\\\" effect could be of big practical importance. In other situations a \\\"large\\\" effect may not be all that interesting.\n",
    "```"
   ]
  },
  {
   "cell_type": "markdown",
   "metadata": {},
   "source": [
    "### Cohen's $d$ from one sample\n",
    "\n",
    "The simplest situation to consider is the one corresponding to a one-sample $t$-test. In this case, the one sample mean $\\bar{X}$ and one (hypothesised) population mean $\\mu_o$ to compare it to. Not only that, there's really only one sensible way to estimate the population standard deviation: we just use our usual estimate $\\hat{\\sigma}$. Therefore, we end up with the following as the only way to calculate $d$, \n",
    "$\n",
    "d = \\frac{\\bar{X} - \\mu_0}{\\hat{\\sigma}}\n",
    "$\n",
    "\n",
    "First lets check the output of the t-test again for Dr. Zeppo's class (the one sample t-test):"
   ]
  },
  {
   "cell_type": "code",
   "execution_count": 93,
   "metadata": {},
   "outputs": [
    {
     "data": {
      "text/html": [
       "<div>\n",
       "<style scoped>\n",
       "    .dataframe tbody tr th:only-of-type {\n",
       "        vertical-align: middle;\n",
       "    }\n",
       "\n",
       "    .dataframe tbody tr th {\n",
       "        vertical-align: top;\n",
       "    }\n",
       "\n",
       "    .dataframe thead th {\n",
       "        text-align: right;\n",
       "    }\n",
       "</style>\n",
       "<table border=\"1\" class=\"dataframe\">\n",
       "  <thead>\n",
       "    <tr style=\"text-align: right;\">\n",
       "      <th></th>\n",
       "      <th>T</th>\n",
       "      <th>dof</th>\n",
       "      <th>tail</th>\n",
       "      <th>p-val</th>\n",
       "      <th>CI95%</th>\n",
       "      <th>cohen-d</th>\n",
       "      <th>BF10</th>\n",
       "      <th>power</th>\n",
       "    </tr>\n",
       "  </thead>\n",
       "  <tbody>\n",
       "    <tr>\n",
       "      <th>T-test</th>\n",
       "      <td>2.255</td>\n",
       "      <td>19</td>\n",
       "      <td>two-sided</td>\n",
       "      <td>0.036145</td>\n",
       "      <td>[0.34, 9.26]</td>\n",
       "      <td>0.504</td>\n",
       "      <td>1.795</td>\n",
       "      <td>0.571</td>\n",
       "    </tr>\n",
       "  </tbody>\n",
       "</table>\n",
       "</div>"
      ],
      "text/plain": [
       "            T  dof       tail     p-val         CI95%  cohen-d   BF10  power\n",
       "T-test  2.255   19  two-sided  0.036145  [0.34, 9.26]    0.504  1.795  0.571"
      ]
     },
     "execution_count": 93,
     "metadata": {},
     "output_type": "execute_result"
    }
   ],
   "source": [
    "pg.ttest(x=zeppo_df.grades,y=67.5)"
   ]
  },
  {
   "cell_type": "markdown",
   "metadata": {},
   "source": [
    "And here is how to use the pingouin effect size function:"
   ]
  },
  {
   "cell_type": "code",
   "execution_count": 92,
   "metadata": {},
   "outputs": [
    {
     "data": {
      "text/plain": [
       "0.5041691240370938"
      ]
     },
     "execution_count": 92,
     "metadata": {},
     "output_type": "execute_result"
    }
   ],
   "source": [
    "pg.compute_effsize(x=zeppo_df.grades,y=67.5, eftype='cohen')"
   ]
  },
  {
   "cell_type": "markdown",
   "metadata": {},
   "source": [
    "Yep, same number. Overall, then, the psychology students in Dr Zeppo's class are achieving grades (mean = 72.3\\%) that are about .5 standard deviations higher than the level that you'd expect (67.5\\%) if they were performing at the same level as other students. Judged against Cohen's rough guide, this is a moderate effect size."
   ]
  },
  {
   "cell_type": "markdown",
   "metadata": {},
   "source": [
    "### Cohen's $d$ from a Student $t$ test\n",
    "\n",
    "The majority of discussions of Cohen's $d$ focus on a situation that is analogous to Student's independent samples $t$ test, and it's in this context that the story becomes messier, since there are several different versions of $d$ that you might want to use in this situation, and you can use the `eftype` argument to the `compute_effsize()` function to pick the one you want (see the options [here](https://pingouin-stats.org/generated/pingouin.compute_effsize.html#pingouin.compute_effsize)). To understand why there are multiple versions of $d$, it helps to take the time to write down a formula that corresponds to the true population effect size $\\delta$. It's pretty straightforward, \n",
    "$\n",
    "\\delta = \\frac{\\mu_1 - \\mu_2}{\\sigma}\n",
    "$\n",
    "where, as usual, $\\mu_1$ and $\\mu_2$ are the population means corresponding to group 1 and group 2 respectively, and $\\sigma$ is the standard deviation (the same for both populations). The obvious way to estimate $\\delta$ is to do exactly the same thing that we did in the $t$-test itself: use the sample means as the top line, and a pooled standard deviation estimate for the bottom line:\n",
    "$\n",
    "d = \\frac{\\bar{X}_1 - \\bar{X}_2}{\\hat{\\sigma}_p}\n",
    "$\n",
    "where $\\hat\\sigma_p$ is the exact same pooled standard deviation measure that appears in the $t$-test. This is the most commonly used version of Cohen's $d$ when applied to the outcome of a Student $t$-test ,and is sometimes referred to as Hedges' $g$ statistic {cite}`Hedges1981`. It corresponds to `eftype = \"hedges\"` in the `compute_effsize()` function, and it's the default. \n",
    "\n",
    "However, there are other possibilities, which I'll briefly describe. Firstly, you may have reason to want to use only one of the two groups as the basis for calculating the standard deviation. This approach (often called Glass' $\\Delta$) only makes most sense when you have good reason to treat one of the two groups as a purer reflection of \"natural variation\" than the other. This can happen if, for instance, one of the two groups is a control group. If that's what you want, then use `method = \"glass\"` when using `compute_effsize()`. Note that the pingouin version of this function uses the group with the lowest variance for this calculation rather than letting you choose.  \n",
    "\n",
    "In any case, ignoring all those variations that you could make use of if you wanted, let's have a look at how to calculate the default version."
   ]
  },
  {
   "cell_type": "code",
   "execution_count": 94,
   "metadata": {},
   "outputs": [
    {
     "data": {
      "text/html": [
       "<div>\n",
       "<style scoped>\n",
       "    .dataframe tbody tr th:only-of-type {\n",
       "        vertical-align: middle;\n",
       "    }\n",
       "\n",
       "    .dataframe tbody tr th {\n",
       "        vertical-align: top;\n",
       "    }\n",
       "\n",
       "    .dataframe thead th {\n",
       "        text-align: right;\n",
       "    }\n",
       "</style>\n",
       "<table border=\"1\" class=\"dataframe\">\n",
       "  <thead>\n",
       "    <tr style=\"text-align: right;\">\n",
       "      <th></th>\n",
       "      <th>T</th>\n",
       "      <th>dof</th>\n",
       "      <th>tail</th>\n",
       "      <th>p-val</th>\n",
       "      <th>CI95%</th>\n",
       "      <th>cohen-d</th>\n",
       "      <th>BF10</th>\n",
       "      <th>power</th>\n",
       "    </tr>\n",
       "  </thead>\n",
       "  <tbody>\n",
       "    <tr>\n",
       "      <th>T-test</th>\n",
       "      <td>-2.12</td>\n",
       "      <td>31</td>\n",
       "      <td>two-sided</td>\n",
       "      <td>0.04</td>\n",
       "      <td>[-10.76, -0.2]</td>\n",
       "      <td>0.74</td>\n",
       "      <td>1.755</td>\n",
       "      <td>0.54</td>\n",
       "    </tr>\n",
       "  </tbody>\n",
       "</table>\n",
       "</div>"
      ],
      "text/plain": [
       "           T  dof       tail  p-val           CI95%  cohen-d   BF10  power\n",
       "T-test -2.12   31  two-sided   0.04  [-10.76, -0.2]     0.74  1.755   0.54"
      ]
     },
     "execution_count": 94,
     "metadata": {},
     "output_type": "execute_result"
    }
   ],
   "source": [
    "group1 = harpo_df[harpo_df['tutor']==\"Bernadette\"].grade\n",
    "group2 = harpo_df[harpo_df['tutor']==\"Anastasia\"].grade\n",
    "\n",
    "pg.ttest(x=group1, y=group2, correction=False).round(2)"
   ]
  },
  {
   "cell_type": "code",
   "execution_count": 107,
   "metadata": {},
   "outputs": [
    {
     "name": "stdout",
     "output_type": "stream",
     "text": [
      "Different versions\n",
      "----\n",
      "Cohens: -0.7395614040382655\n",
      "Hedges: -0.7215233210129419\n",
      "Glass (using minimum variance group): -0.9485464839690173\n"
     ]
    }
   ],
   "source": [
    "group1 = harpo_df[harpo_df['tutor']==\"Bernadette\"].grade\n",
    "group2 = harpo_df[harpo_df['tutor']==\"Anastasia\"].grade\n",
    "\n",
    "print(\"Different versions\")\n",
    "print(\"----\")\n",
    "print(\"Cohens:\",pg.compute_effsize(x=group1,y=group2, eftype='cohen'))\n",
    "print(\"Hedges:\",pg.compute_effsize(x=group1,y=group2, eftype='hedges'))\n",
    "print(\"Glass (using minimum variance group):\",pg.compute_effsize(x=group1,y=group2, eftype='glass'))"
   ]
  },
  {
   "cell_type": "markdown",
   "metadata": {},
   "source": [
    "### Cohen's $d$ from a Welch test\n",
    "\n",
    "Suppose the situation you're in is more like the Welch test: you still have two independent samples, but you no longer believe that the corresponding populations have equal variances. When this happens, we have to redefine what we mean by the population effect size. I'll refer to this new measure as $\\delta^\\prime$, so as to keep it distinct from the measure $\\delta$ which we defined previously. What {cite}`Cohen1988` suggests is that we could define our new population effect size by averaging the two population variances. What this means is that we get:\n",
    "$\n",
    "\\delta^\\prime = \\frac{\\mu_1 - \\mu_2}{\\sigma^\\prime}\n",
    "$\n",
    "where \n",
    "$\n",
    "\\sigma^\\prime = \\sqrt{\\displaystyle{\\frac{ {\\sigma_1}^2 + {\\sigma_2}^2}{2}}}\n",
    "$\n",
    "This seems quite reasonable, but notice that none of the measures that we've discussed so far are attempting to estimate this new quantity. It might just be my own ignorance of the topic, but I'm only aware of one version of Cohen's $d$ that actually estimates the unequal-variance effect size $\\delta^\\prime$ rather than the equal-variance effect size $\\delta$.\n",
    "All we do to calculate $d$ for this version (`method = \"unequal\"`) is substitute the sample means $\\bar{X}_1$ and $\\bar{X}_2$ and the corrected sample standard deviations $\\hat{\\sigma}_1$ and $\\hat{\\sigma}_2$ into the equation for $\\delta^\\prime$. This gives us the following equation for $d$, \n",
    "$\n",
    "d = \\frac{\\bar{X}_1 - \\bar{X}_2}{\\sqrt{\\displaystyle{\\frac{ {\\hat\\sigma_1}^2 + {\\hat\\sigma_2}^2}{2}}}}\n",
    "$\n",
    "as our estimate of the effect size. This version is not computed by the current version of pingouin so you'll have to implement it by hand if you want to use it."
   ]
  },
  {
   "cell_type": "code",
   "execution_count": 108,
   "metadata": {},
   "outputs": [
    {
     "data": {
      "text/html": [
       "<div>\n",
       "<style scoped>\n",
       "    .dataframe tbody tr th:only-of-type {\n",
       "        vertical-align: middle;\n",
       "    }\n",
       "\n",
       "    .dataframe tbody tr th {\n",
       "        vertical-align: top;\n",
       "    }\n",
       "\n",
       "    .dataframe thead th {\n",
       "        text-align: right;\n",
       "    }\n",
       "</style>\n",
       "<table border=\"1\" class=\"dataframe\">\n",
       "  <thead>\n",
       "    <tr style=\"text-align: right;\">\n",
       "      <th></th>\n",
       "      <th>T</th>\n",
       "      <th>dof</th>\n",
       "      <th>tail</th>\n",
       "      <th>p-val</th>\n",
       "      <th>CI95%</th>\n",
       "      <th>cohen-d</th>\n",
       "      <th>BF10</th>\n",
       "      <th>power</th>\n",
       "    </tr>\n",
       "  </thead>\n",
       "  <tbody>\n",
       "    <tr>\n",
       "      <th>T-test</th>\n",
       "      <td>-2.034</td>\n",
       "      <td>23.02</td>\n",
       "      <td>two-sided</td>\n",
       "      <td>0.05361</td>\n",
       "      <td>[-11.05, 0.09]</td>\n",
       "      <td>0.74</td>\n",
       "      <td>1.556</td>\n",
       "      <td>0.536</td>\n",
       "    </tr>\n",
       "  </tbody>\n",
       "</table>\n",
       "</div>"
      ],
      "text/plain": [
       "            T    dof       tail    p-val           CI95%  cohen-d   BF10  \\\n",
       "T-test -2.034  23.02  two-sided  0.05361  [-11.05, 0.09]     0.74  1.556   \n",
       "\n",
       "        power  \n",
       "T-test  0.536  "
      ]
     },
     "execution_count": 108,
     "metadata": {},
     "output_type": "execute_result"
    }
   ],
   "source": [
    "pg.ttest(x=group1,y=group2, correction=True)"
   ]
  },
  {
   "cell_type": "markdown",
   "metadata": {},
   "source": [
    "### Cohen's $d$ from a paired-samples test\n",
    "\n",
    "\n",
    "Finally, what should we do for a paired samples $t$-test? In this case, the answer depends on what it is you're trying to do. *If* you want to measure your effect sizes relative to the distribution of difference scores, the measure of $d$ that you calculate is just (`method = \"paired\"`)\n",
    "$\n",
    "d = \\frac{\\bar{D}}{\\hat{\\sigma}_D}\n",
    "$\n",
    "where $\\hat{\\sigma}_D$ is the estimate of the standard deviation of the differences. The calculation here is pretty straightforward.  What we see is that the overall effect of the differences size is quite large ($d$>1.0)."
   ]
  },
  {
   "cell_type": "code",
   "execution_count": 120,
   "metadata": {},
   "outputs": [
    {
     "data": {
      "text/plain": [
       "1.4479515277482184"
      ]
     },
     "execution_count": 120,
     "metadata": {},
     "output_type": "execute_result"
    }
   ],
   "source": [
    "chico_df.improvement.mean()/chico_df.improvement.std()"
   ]
  },
  {
   "cell_type": "code",
   "execution_count": 117,
   "metadata": {},
   "outputs": [
    {
     "data": {
      "text/html": [
       "<div>\n",
       "<style scoped>\n",
       "    .dataframe tbody tr th:only-of-type {\n",
       "        vertical-align: middle;\n",
       "    }\n",
       "\n",
       "    .dataframe tbody tr th {\n",
       "        vertical-align: top;\n",
       "    }\n",
       "\n",
       "    .dataframe thead th {\n",
       "        text-align: right;\n",
       "    }\n",
       "</style>\n",
       "<table border=\"1\" class=\"dataframe\">\n",
       "  <thead>\n",
       "    <tr style=\"text-align: right;\">\n",
       "      <th></th>\n",
       "      <th>T</th>\n",
       "      <th>dof</th>\n",
       "      <th>tail</th>\n",
       "      <th>p-val</th>\n",
       "      <th>CI95%</th>\n",
       "      <th>cohen-d</th>\n",
       "      <th>BF10</th>\n",
       "      <th>power</th>\n",
       "    </tr>\n",
       "  </thead>\n",
       "  <tbody>\n",
       "    <tr>\n",
       "      <th>T-test</th>\n",
       "      <td>6.48</td>\n",
       "      <td>19</td>\n",
       "      <td>two-sided</td>\n",
       "      <td>0.0</td>\n",
       "      <td>[0.95, 1.86]</td>\n",
       "      <td>1.45</td>\n",
       "      <td>5991.577</td>\n",
       "      <td>1.0</td>\n",
       "    </tr>\n",
       "  </tbody>\n",
       "</table>\n",
       "</div>"
      ],
      "text/plain": [
       "           T  dof       tail  p-val         CI95%  cohen-d      BF10  power\n",
       "T-test  6.48   19  two-sided    0.0  [0.95, 1.86]     1.45  5991.577    1.0"
      ]
     },
     "execution_count": 117,
     "metadata": {},
     "output_type": "execute_result"
    }
   ],
   "source": [
    "pg.ttest(x=chico_df.improvement, y=0).round(2)"
   ]
  },
  {
   "cell_type": "code",
   "execution_count": 116,
   "metadata": {},
   "outputs": [
    {
     "name": "stdout",
     "output_type": "stream",
     "text": [
      "Different versions\n",
      "----\n",
      "Cohens: 1.4479515277482184\n",
      "Hedges: 1.4479515277482184\n",
      "Glass (using minimum variance group): 1.4479515277482184\n"
     ]
    }
   ],
   "source": [
    "print(\"Different versions\")\n",
    "print(\"----\")\n",
    "print(\"Cohens:\",pg.compute_effsize(x=chico_df.improvement,y=0, eftype='cohen'))\n",
    "print(\"Hedges:\",pg.compute_effsize(x=chico_df.improvement,y=0, eftype='hedges'))\n",
    "print(\"Glass (using minimum variance group):\",pg.compute_effsize(x=chico_df.improvement,y=0, eftype='glass'))"
   ]
  },
  {
   "cell_type": "markdown",
   "metadata": {},
   "source": [
    "The only wrinkle is figuring out whether this is the measure you want or not. To the extent that you care about the practical consequences of your research, you often want to measure the effect size relative to the *original* variables, not the *difference* scores (e.g., the 1\\% improvement in Dr Chico's class is pretty small when measured against the amount of between-student variation in grades), in which case you use the same versions of Cohen's $d$ that you would use for a Student or Welch test. For instance, when we do that for Dr Chico's class, \n",
    "\n"
   ]
  },
  {
   "cell_type": "code",
   "execution_count": 128,
   "metadata": {},
   "outputs": [
    {
     "data": {
      "text/plain": [
       "0.21579282752456122"
      ]
     },
     "execution_count": 128,
     "metadata": {},
     "output_type": "execute_result"
    }
   ],
   "source": [
    "pg.compute_effsize(x=chico_df.grade_test2,  y=chico_df.grade_test1, paired=True)"
   ]
  },
  {
   "cell_type": "markdown",
   "metadata": {},
   "source": [
    "What we see is that the overall effect size is quite small, when assessed on the scale of the original variables."
   ]
  },
  {
   "cell_type": "markdown",
   "metadata": {},
   "source": [
    "## Checking the normality of a sample\n",
    "\n",
    "All of the tests that we have discussed so far in this chapter have assumed that the data are normally distributed. This assumption is often quite reasonable, because the central limit theorem does tend to ensure that many real world quantities are normally distributed: any time that you suspect that your variable is *actually* an average of lots of different things, there's a pretty good chance that it will be normally distributed; or at least close enough to normal that you can get away with using $t$-tests. However, life doesn't come with guarantees; and besides, there are lots of ways in which you can end up with variables that are highly non-normal. For example, any time you think that your variable is actually the minimum of lots of different things, there's a very good chance it will end up quite skewed. In psychology, response time (RT) data is a good example of this. If you suppose that there are lots of things that could trigger a response from a human participant, then the actual response will occur the first time one of these trigger events occurs. (This is a massive oversimplification.) This means that RT data are systematically non-normal.  Okay, so if normality is assumed by all the tests, and is mostly but not always satisfied (at least approximately) by real world data, how can we check the normality of a sample? In this section I discuss two methods: QQ plots, and the Shapiro-Wilk test."
   ]
  },
  {
   "cell_type": "markdown",
   "metadata": {},
   "source": [
    "### QQ plots"
   ]
  },
  {
   "cell_type": "markdown",
   "metadata": {},
   "source": [
    "One way to check whether a sample violates the normality assumption is to draw a **_\"quantile-quantile\" plot_** (QQ plot). This allows you to visually check whether you're seeing any systematic violations. In a QQ plot, each observation is plotted as a single dot. The x co-ordinate is the theoretical quantile that the observation should fall in, if the data were normally distributed (with mean and variance estimated from the sample) and on the y co-ordinate is the actual quantile of the data within the sample. If the data are normal, the dots should form a straight line. For instance, lets see what happens if we generate data by sampling from a normal distribution, and then drawing a QQ plot using the python function `qqplot()` from the statsmodels package ([documentation here](https://www.statsmodels.org/stable/generated/statsmodels.graphics.gofplots.qqplot.html)). The `qqplot()` function has a few arguments, but the only one we really need to care about here is `data`, a vector specifying the data whose normality we're interested in checking. Here's the Python commands:"
   ]
  },
  {
   "cell_type": "code",
   "execution_count": 5,
   "metadata": {
    "tags": [
     "hide_cell"
    ]
   },
   "outputs": [
    {
     "data": {
      "application/papermill.record/image/png": "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\n",
      "application/papermill.record/text/plain": "<Figure size 360x360 with 1 Axes>"
     },
     "metadata": {
      "scrapbook": {
       "mime_prefix": "application/papermill.record/",
       "name": "normaldata_fig"
      }
     },
     "output_type": "display_data"
    },
    {
     "data": {
      "image/png": "[encoded data removed]",
      "text/plain": [
       "<Figure size 360x360 with 1 Axes>"
      ]
     },
     "metadata": {
      "needs_background": "light"
     },
     "output_type": "display_data"
    }
   ],
   "source": [
    "normal_data = np.random.normal(0,1,100)\n",
    "fig=sns.displot(normal_data,kde=False)\n",
    "glue(\"normaldata_fig\",fig.fig,display=False)"
   ]
  },
  {
   "cell_type": "markdown",
   "metadata": {},
   "source": [
    "```{glue:figure} normaldata_fig\n",
    ":figwidth: 550px\n",
    ":name: \"fig:normal_data\"\n",
    "\n",
    "Histogram of `normal_data`, a normally distributed sample with 100 observations.\n",
    "```"
   ]
  },
  {
   "cell_type": "code",
   "execution_count": 9,
   "metadata": {
    "tags": [
     "hide_cell"
    ]
   },
   "outputs": [
    {
     "data": {
      "application/papermill.record/image/png": "iVBORw0KGgoAAAANSUhEUgAAAWAAAAFgCAYAAACFYaNMAAAABHNCSVQICAgIfAhkiAAAAAlwSFlzAAALEgAACxIB0t1+/AAAADl0RVh0U29mdHdhcmUAbWF0cGxvdGxpYiB2ZXJzaW9uIDMuMC4yLCBodHRwOi8vbWF0cGxvdGxpYi5vcmcvOIA7rQAAD+BJREFUeJzt3V+MXPV1wPHvWl4CSks3UdOEZHFpGnxCKQWaABKGtCoOKhESRSlY5SFFBUwEbXGFhVRCZECqeahq3PxxkQDLBAJEwQJVuFRt7D44hhIlDaUFckpVE8lgFKXVCsVKYY3dh5lxhunaO7vsnTO78/1Ilnbuzp17Bslf/7gzc2fs8OHDSJIGb1n1AJI0qgywJBUxwJJUxABLUhEDLElFDLAkFTHAklTEAEtSEQMsSUUMsCQVWV49QL8iYjkwCezLzIPV80jSu7VoAkwrvnt37txZPYckHc3YXO7sKQhJKmKAJamIAZakIgZYkooYYEkqYoAlqYgBlqQiBliSihhgSSpigCWpiAGWpCIGWJKKGGBJKmKAJamIAdbImj54qHoEYHjm0OAtpusBSwtqfPkybt2yp3oMNt6wqnoEFXEFLElFDLAkFTHAklTEAEtSEQMsSUUMsCQVMcCSVMQAS1IRAyxJRQywJBUxwJJUxABLUhEDLElFDLAkFTHAklTEAEtSEQMsSUUMsCQVMcCSVMQAS1IRAyxJRQywJBUxwJJUxABLUhEDLElFDLAkFTHAklRkeZMPHhEbgCvbN3dk5i0RsRW4EDjQ3n5HZj7e5BySNIwaC3BErAYuBs4GDgN/HxGXA+cAn8rM/U0dW5IWgyZXwPuBmzPzLYCIeAlY0f5zb0SsAB6ntQI+1L1jREwAEz2PN9ngrJI0cI0FODNf6PwcEacCa4ALgN8Grgd+AjwJXAPc27P7OmBDU7NJ0jBo9BwwQEScDuwA1mdmApd3/e7LwOf4/wHeDGzr2TYJ7G5uUkkarKZfhFsFbAfWZeajEXEGsDIzt7fvMgZM9+6XmVPAVM9jNTmqJA1cky/CnQw8AazJzF3tzWPA5ojYResUxFrggaZmkKRh1uQKeD1wPLCpa/V6D3AXsAcYB7Zn5iMNziBJQ6vJF+FuAm46yq+3NHVcSVos/CScJBUxwJJUxABLUhEDLElFDLAkFTHAklTEAEtSEQMsSUUMsCQVMcCSVMQAS1IRAyxJRQywJBUxwJJUxABLUhEDLElFDLAkFTHAklTEAEtSEQMsSUUMsCQVMcCSVMQAS1IRAyxJRQywJBUxwJJUxABLUhEDLElFDLAkFTHAklTEAEtSEQMsSUUMsCQVMcCSVMQAS1IRAyxJRQywJBUxwJJUxABLUhEDLElFDLAkFTHAklTEAEtSEQMsSUWWN/ngEbEBuLJ9c0dm3hIRq4FNwAnANzLztiZnkKRh1dgKuB3ai4GzgbOAT0TEHwBbgcuA04BzIuKSpmaQpGHW5Ap4P3BzZr4FEBEvASuBlzNzb3vbQ8AVwFPdO0bEBDDR83iTDc4qSQPXWIAz84XOzxFxKrAG+BKtMHfsZ+awrgM2NDWb6k0fPMT4cl+C0Ghr9BwwQEScDuwA1gPTQPTc5dAMu20GtvVsmwR2L/R8qjG+fBm3btlTOsPGG1aVHl9q+kW4VcB2YF1mPhoRvwV8qOsuJwGv9e6XmVPAVM9jNTmqJA1cYwGOiJOBJ4A1mbmrvfnZ1q/iY8Be4CpaL8pJ0shpcgW8Hjge2NS1er0HuJrWqvh44O+AxxqcQZKGVpMvwt0E3HSUX5/Z1HElabHwZWhJKmKAJamIAZakIgZYkooYYEkqYoClYtMHZ/ow6OANyxyjpPGPIks6tmH4WDb40ewKroAlqYgBlqQiBliSihhgSSpigCWpiAGWpCIGWJKKGGBJKmKAJamIAZakIgZYkooYYEkqYoAlqYgBlqQiBliSihhgSSpigCWpiAGWpCIGWJKKGGBJKmKAJamIAZakIgZYkooYYEkqYoAlqYgBlqQiBliSihhgSSpigCWpiAGWpCIGWJKK9BXgiLh/hm3bF34cSRody4/1y4j4G+AjwIUR8YGuX40DH29yMEla6o4ZYOB+4NeBM4HuFe9B4JmmhpKkUXDMAGfmd4HvRsS3MnPfgGaSpJEw2wq441cj4kHg/cBYZ2Nm/kYjU0nSCOg3wF8FtgL/AhxubhxJGh39BvitzNw0nwNExInA08ClmflKRGwFLgQOtO9yR2Y+Pp/HlqTFrN8A/3tEnJGZ/zaXB4+I84B7gZVdm88BPpWZ++fyWJK01PQb4I8C34uIHwI/7Wzs4xzwdcCNwIMAEfFeYAVwb0SsAB6ntQI+NNfBJWmx6zfAX5jPg2fmtQAR0dn0QWAXcD3wE+BJ4Bpaq+QjImICmOh5uMn5zCBJw6rfAM/p1MPRZOZ/AZd3bkfEl4HP0RNgYB2wYSGOKUnDqt8A/5jWux/G+Nm7IPYzx1VpRJwBrMzMzoc6xoDpGe66GdjWs20S2D2X40nSMOsrwJl55JoRETEOfJbWp+PmagzYHBG7aJ2CWAs8MMPxpoCp7m1dpzEkaUmY89XQMnM6Mx8FPj2PfZ8H7gL2AC8Cz2XmI3N9HElaCvpaAUfE+7tujgGfBN7X70Ey85Sun7cAW/rdV5KWqvmcAwb4EfCnjUwkSSNizueAJUkLo99TEMuA9cAltK4F/A/Axsw82OBskrSk9buyvQv4HeCvgU3A+cBfNjWUJI2Cfs8B/y7wycycBoiIHcC/An/W1GCStNT1uwJe1okvQGa+ycwfoNCQmz7oZTekYdHvCvi5iLgb+Er79h8Dzzczkpo0vnwZt27ZUz0GG29YVT2CVK7fFfCNtN73+zTwz8AvAn/S1FCSNApm+1bk42hdKOfxzLy6vW0H8DbwRuPTSdISNtsK+E6g840WHdfRulTk7Q3NJEkjYbYAXwpclZk/6mzIzNdoXULy8qPuJUma1WwBfiszf9q7MTPfAN5sZiRJGg2zBfjtiPj53o3tbePNjCRJo2G2AD8C3Nf+LjfgyPe63QdsP+pekqRZzfY+4M3APcDrEfECrWCfBnyd1gt0kqR5OmaA299WvDYiNgK/CRwCvtN+IU6S9C70eznKV4BXGp1EkkaM1/mVpCIGWJKKGGBJKmKAJamIAZakIgZYkooYYEkqYoAlqYgBlqQiBliSihhgScBwfGP2MMwwSP1+K7KkJW4YvjF71L4t2xWwJBUxwJJUxABLUhEDLElFDLAkFTHAklTEAEtSEQMsSUUMsCQVMcCSVMQAS1IRAyxJRQywJBUxwJJUxABLUhEDLElFGr0ge0ScCDwNXJqZr0TEamATcALwjcy8rcnjS9Iwa2wFHBHnAd8GVrZvnwBsBS4DTgPOiYhLmjq+JA27JlfA1wE3Ag+2b58LvJyZewEi4iHgCuCp3h0jYgKY6Nk82dyokjR4jQU4M68FiIjOpg8D+7vusp+jR3UdsKGp2SRpGAzySznHZth2tK9A3Qxs69k2CexeyIEkqdIgA/wq8KGu2ycBr810x8ycAqa6t3WtpCVpSRhkgJ8FIiI+BuwFrqL1opwkjaSBvQ84M/8XuBrYDrwI/AB4bFDHl6Rh0/gKODNP6fp5J3Bm08eUpMXAT8JJUhEDLElFDLAkFTHAklTEAEtSEQMsSUUMsCQVMcCSVMQAS1IRAyxJRQywJBUxwJJUxABLUhEDLElFDLAkFTHAklTEAEtSEQMsSUUMsCQVMcCSVMQAS1IRAyxJRQywJBUxwJJUxABLUhEDLElFDLAkFTHAklTEAEtSEQMsSUUMsCQVMcCSVMQAS1IRAyxJRQywJBUxwJJUxABLUhEDLElFDLAkFTHAklTEAEtSEQMsSUUMsCQVMcCSVGR5xUEjYhfwQWC6ven6zHy2YhZJqjLwAEfEGPBxYEVmHhz08SVpWFSsgAM4DDwVEb8E3JuZX3nHHSImgIme/SYHNJ8kDUTFOeD3ATuB3wMuAj4fEZ/uuc86YG/Pn92DHFKSmjbwFXBmPgM80755ICLuBz4D/GPX3TYD23p2ncQIS1pCKs4BXwC8JzN3tjeN8bMX4wDIzClgqme/wQwoSQNScQ54ArgzIs4HxoE/BD5fMIcklRr4OeDMfBLYAXwf+B6wtX1aQpJGSsn7gDPzi8AXK44tScPCT8JJUhEDLElFDLAkFTHAklTEAEtSEQMsSUUMsCQVMcCSVMQAS1IRAyxJRQywJBUxwJJUxABLUhEDLElFDLAkFVnyAZ4+eKh6BGB45pCG2bD8PRnUHCUXZB+k8eXLuHXLnuox2HjDquoRpKE3an9fl/wKWJKGlQGWpCIGWJKKGGBJKmKAJamIAZakIgZYkooYYEkqYoAlqYgBlqQiBliSihhgSSpigCWpiAGWpCIGWJKKGGBJKmKAJamIAZakIgZYkooYYEkqYoAHZFi+7VXS8Fjy34o8LEbt214lzc4VsCQVMcCSVMQAS1IRAyxJRQywJBUpeRdERFwF3AYcB9ydmV+tmEOSKg18BRwRHwH+ArgAOBNYGxG/Nug5JKlaxQp4NbArM/8HICIeA34fuLNzh4iYACZ69vtlgNdff33OBzzwxo/nO+uC2bdvn3MM2RzDMINzDN8MnTnm46KLLjoF2JeZB/u5/9jhw4fndaD5iog/B96bmbe1b18LnJuZa7vuczuwYaCDSdLC+JXMfKWfO1asgMdm2Nb7Od3NwLaebccBHwVeBt5e+LEGYhLYDVwIzO+f2OHk81pcfF7N6vvYFQF+ldZ/oI6TgNe675CZU8DUDPv+R4NzNS4iOj/u6/dfyMXA57W4+LyGR0WAvwXcHhEfAA4AnwXWHnsXSVp6Bv4uiMx8FfgC8E/Ac8DDmfmdQc8hSdVK3gecmQ8DD1ccW5KGhZ+EG6wp4A5mPr+9mPm8Fhef15AY+NvQJEktroAlqYgBlqQiBliSividcAMWEatofdJvHPhv4I8y84e1Uy2ciLgTOJSZt1fP8m4s5Sv2RcSJwNPApYvlAwuziYgNwJXtmzsy85bKefrlCnjwvg5ck5lntX/+UvE8CyIifiEi7gfWV8/ybi3lK/ZFxHnAt4GV1bMslIhYDVwMnA2cBXwiIi6vnao/BniAIuI9wG2Z+Xx70/PAisKRFtJltK7T8VfVgyyAI1fsy8wDQOeKfUvBdcCN9Hz8f5HbD9ycmW9l5jTwEovk75WnIAYoM98EHgKIiGXA7cATlTMtlMz8Ghy5kt1i92Faf6k79gPnFs2yoDLzWnjHdRMWvcx8ofNzRJwKrAHOr5uofwa4IRFxBXB3z+YfZObqiDgOeIDWf/+NAx/uXTjW86qYpyH9XLFPQyYiTgd2AOsz8+XqefphgBuSmd8Evtm7PSJ+DvhbWi/AXdb+X6ZF42jPa4mZ9Yp9Gi7tF7e3A+sy89HqefplgAfvIeA/gesz048hDiev2LeIRMTJtE7lrcnMXdXzzIUBHqCIOJvWi1UvAt9vn4d7LTM/UzqY3iEzX42IzhX7jgPu84p9Q209cDywqevc9j2ZeU/dSP3xWhCSVMS3oUlSEQMsSUUMsCQVMcCSVMQAS1IRAyxJRQywJBX5P9wBcggjR9aFAAAAAElFTkSuQmCC\n",
      "application/papermill.record/text/plain": "<Figure size 360x360 with 1 Axes>"
     },
     "metadata": {
      "scrapbook": {
       "mime_prefix": "application/papermill.record/",
       "name": "qqplot_fig"
      }
     },
     "output_type": "display_data"
    },
    {
     "data": {
      "image/png": "[encoded data removed]",
      "text/plain": [
       "<Figure size 432x288 with 1 Axes>"
      ]
     },
     "metadata": {
      "needs_background": "light"
     },
     "output_type": "display_data"
    }
   ],
   "source": [
    "import statsmodels.api as sm\n",
    "sm.qqplot(normal_data)\n",
    "glue(\"qqplot_fig\",fig.fig,display=False)"
   ]
  },
  {
   "cell_type": "markdown",
   "metadata": {},
   "source": [
    "```{glue:figure} qqplot_fig\n",
    ":figwidth: 550px\n",
    ":name: \"fig:qqplot\"\n",
    "\n",
    "Normal QQ plot of `normal_data`, a normally distributed sample with 100 observations.\n",
    "```"
   ]
  },
  {
   "cell_type": "markdown",
   "metadata": {},
   "source": [
    "As we can see the QQ plot of random normal data is approximately linear and so we can be lead to believe that this is mostly normal data."
   ]
  },
  {
   "cell_type": "markdown",
   "metadata": {},
   "source": [
    "### Shapiro-Wilk tests\n",
    "\n",
    "Although QQ plots provide a nice way to informally check the normality of your data, sometimes you'll want to do something a bit more formal. And when that moment comes, the **_Shapiro-Wilk test_** {cite}`Shapiro1965` is probably what you're looking for. (Either that, or the Kolmogorov-Smirnov test, which is probably more traditional than the Shapiro-Wilk, though most things I've read seem to suggest Shapiro-Wilk is the better test of normality; although Kolomogorov-Smirnov is a general purpose test of distributional equivalence, so it can be adapted to handle other kinds of distribution tests). As you'd expect, the null hypothesis being tested is that a set of $N$ observations is normally distributed. The test statistic that it calculates is conventionally denoted as $W$, and it's calculated as follows. First, we sort the observations in order of increasing size, and let $X_1$ be the smallest value in the sample, $X_2$ be the second smallest and so on. Then the value of $W$ is given by\n",
    "$\n",
    "W = \\frac{ \\left( \\sum_{i = 1}^N a_i X_i \\right)^2 }{ \\sum_{i = 1}^N (X_i - \\bar{X})^2}\n",
    "$\n",
    "where $\\bar{X}$ is the mean of the observations, and the $a_i$ values are ... mumble, mumble ... something complicated that is a bit beyond the scope of an introductory text. \n",
    "\n",
    "Because it's a little hard to explain the maths behind the $W$ statistic, a better idea is to give a broad brush description of how it behaves. Unlike most of the test statistics that we'll encounter in this book, it's actually *small* values of $W$ that indicated departure from normality. The $W$ statistic has a maximum value of 1, which arises when the data look \"perfectly normal\". The smaller the value of $W$, the less normal the data are. However, the sampling distribution for $W$  -- which is not one of the standard ones that I discussed in Chapter on probability and is in fact a complete pain in the arse to work with -- does depend on the sample size $N$. To give you a feel for what these sampling distributions look like, I've plotted three of them in {numref}`shapiro-wilk`. Notice that, as the sample size starts to get large, the sampling distribution becomes very tightly clumped up near $W=1$, and as a consequence, for larger samples $W$ doesn't have to be very much smaller than 1 in order for the test to be significant. "
   ]
  },
  {
   "cell_type": "markdown",
   "metadata": {},
   "source": [
    "\n",
    "```{figure} ../../images/navarro_img/ttest2/shapirowilkdist-eps-converted-to.pdf\n",
    "---\n",
    "width: 600px\n",
    "name: shapiro-wilk\n",
    "---\n",
    "Sampling distribution of the Shapiro-Wilk $W$ statistic, under the null hypothesis that the data are normally distributed, for samples of size 10, 20 and 50. Note that *small* values of $W$ indicate departure from normality.\n",
    "```"
   ]
  },
  {
   "cell_type": "markdown",
   "metadata": {},
   "source": [
    "To run the test in Python, we use the [scipy shapiro()](https://docs.scipy.org/doc/scipy/reference/generated/scipy.stats.shapiro.html) function ( `stats.shapiro()`). It has only a single argument `x`, which is a numeric vector containing the data whose normality needs to be tested. For example, when we apply this function to  our `normal.data`, we get the following:"
   ]
  },
  {
   "cell_type": "code",
   "execution_count": 157,
   "metadata": {},
   "outputs": [
    {
     "name": "stdout",
     "output_type": "stream",
     "text": [
      "The value of W is 0.9836190342903137, p=0.25148776173591614\n"
     ]
    }
   ],
   "source": [
    "W, p=stats.shapiro(x=normal_data)\n",
    "\n",
    "print(f\"The value of W is {W}, p={p}\")"
   ]
  },
  {
   "cell_type": "markdown",
   "metadata": {},
   "source": [
    "So, not surprisingly, we have no evidence that these data depart from normality, the p value is high and the value of W is close to 1.0.  When reporting the results for a Shapiro-Wilk test, you should (as usual) make sure to include the test statistic $W$ and the $p$ value (the return values of the scipy function), though given that the sampling distribution depends so heavily on $N$ it would probably be a politeness to include $N$ as well."
   ]
  },
  {
   "cell_type": "markdown",
   "metadata": {},
   "source": [
    "### Examples\n",
    "\n",
    "Let's step through a couple examples of this test for a few different simulated data sets."
   ]
  },
  {
   "cell_type": "code",
   "execution_count": 12,
   "metadata": {
    "tags": [
     "hide_cell"
    ]
   },
   "outputs": [
    {
     "name": "stdout",
     "output_type": "stream",
     "text": [
      "The value of W is 0.9843708872795105, p=0.285838782787323\n"
     ]
    },
    {
     "data": {
      "application/papermill.record/image/png": "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\n",
      "application/papermill.record/text/plain": "<Figure size 1440x432 with 2 Axes>"
     },
     "metadata": {
      "scrapbook": {
       "mime_prefix": "application/papermill.record/",
       "name": "exp1_fig"
      }
     },
     "output_type": "display_data"
    },
    {
     "data": {
      "image/png": "[encoded data removed]",
      "text/plain": [
       "<Figure size 1440x432 with 2 Axes>"
      ]
     },
     "metadata": {
      "needs_background": "light"
     },
     "output_type": "display_data"
    }
   ],
   "source": [
    "fig, ax = plt.subplots(1,2, figsize=(20,6))\n",
    "ax = ax.ravel()\n",
    "\n",
    "normal_data = np.random.normal(0,1,100)\n",
    "sns.histplot(normal_data,kde=False,ax=ax[0])\n",
    "\n",
    "sm.qqplot(normal_data, ax=ax[1])\n",
    "\n",
    "W, p=stats.shapiro(x=normal_data)\n",
    "\n",
    "print(f\"The value of W is {W}, p={p}\")\n",
    "\n",
    "glue(\"exp1_fig\",fig,display=False)"
   ]
  },
  {
   "cell_type": "markdown",
   "metadata": {},
   "source": [
    "```{glue:figure} exp1_fig\n",
    ":figwidth: 650px\n",
    ":name: \"fig:exp1\"\n",
    "\n",
    "Normal QQ plot of `normal_data`, a normally distributed sample with 100 observations.  A normal QQ plot of the same data.\n",
    "```"
   ]
  },
  {
   "cell_type": "markdown",
   "metadata": {},
   "source": [
    "As you can see from the code block above, the Shapiro-Wilk statistic associated with the data in Figure 18 is $W ~= 1.0$, indicating that no significant departures from normality were detected. The p-value is also quite high. As you can see, these data form a pretty straight line; which is no surprise given that we sampled them from a normal distribution! \n",
    "\n",
    "In contrast, have a look at the two data sets shown in Figure 19 and 20. Figure 19 shows the histogram and a QQ plot for a data set that is highly skewed: the QQ plot curves downward. As a consequence, the Shapiro-Wilk statistic is $W~=.80$, reflecting a significant departure from normality ($p<.001$). Figure 20 show the same plots for a heavy tailed (i.e., high kurtosis) data set: in this case, the QQ plot flattens in the middle and curves sharply at either end.  The resulting Shapiro-Wilk statistic is $W ~ .80$, again reflecting significant non-normality ($p < .001$)."
   ]
  },
  {
   "cell_type": "code",
   "execution_count": 14,
   "metadata": {
    "tags": [
     "hide_cell"
    ]
   },
   "outputs": [
    {
     "name": "stdout",
     "output_type": "stream",
     "text": [
      "The value of W is 0.8032301664352417, p=3.115032953804331e-10\n"
     ]
    },
    {
     "data": {
      "application/papermill.record/image/png": "iVBORw0KGgoAAAANSUhEUgAABJ0AAAF8CAYAAABlkMrHAAAABHNCSVQICAgIfAhkiAAAAAlwSFlzAAALEgAACxIB0t1+/AAAADl0RVh0U29mdHdhcmUAbWF0cGxvdGxpYiB2ZXJzaW9uIDMuMC4yLCBodHRwOi8vbWF0cGxvdGxpYi5vcmcvOIA7rQAAIABJREFUeJzs3X10nGd57/uv5NdIFtELghDZOYVDdMekdmRMXkw2IQlJ9iFlI7OA0ibnJKkIUAKFtMmhPbw3+zTdQAPZbQmcDWglKZTSwkIOjelOQnCbYsVOHMvWDua23QK1ZYeakUQUqbFlS+ePmZFH47Et2zPzaEbfz1panrnneWYurQV4+Pm6r7tmcnISSZIkSZIkqZhqky5AkiRJkiRJ1cfQSZIkSZIkSUVn6CRJkiRJkqSiM3SSJEmSJElS0Rk6SZIkSZIkqegMnSRJkiRJklR0hk6SJEmSJEkqOkMnSZIkSZIkFZ2hkyRJkiRJkorO0EmSJEmSJElFZ+gkSZIkSZKkopufdAHFFEJYBFwM7AeOJFyOJEkqvnnAK4CnYowHky5GaX4HkySp6p3Wd7CqCp1If9l5IukiJElSyb0B+Oeki9AUv4NJkjQ3nNJ3sGoLnfYDfOMb3+Ccc85JuhZJklRkzz33HDfeeCNk/s7XrOF3MEmSqtjpfgerttDpCMA555zD0qVLk65FkiSVjlu4Zhe/g0mSNDec0ncwB4lLkiRJkiSp6AydJEmSJEmSVHSGTpIkSZIkSSo6QydJkiRJkiQVnaGTJEmSJEmSis7QSZIkSZIkSUVn6CRJkiRJkqSiM3SSJEmSJElS0Rk6SZIkSZIkqejml/LNQwifAn4z8/ThGONHQgjXAJ8HzgK+FWP8eIH7zgO+DrwMiMCNMcYXSlmrJEmSJElSUjZs2Uv3up0MjY7QVN9AV2c7V65eWtGfV7LQKRMuXQesAiaBfwgh/DbwGeCNwB7g4RDCm2OM38+7/T7gvhjj34QQPgF8AvjDUtUqSZIkSZKUlA1b9nLPAzvo7elgcKCF5rYUQ8N9ACUJnsr1eaXcXrcfuCPGeCjGOA7sANqBXTHGn8YYD5PuZnpn7k0hhAXAFcC3M0v3518jSZIkSZJULbrX7aS3p4PUnlYmJ2pJ7Wmlt6eD7nU7K/rzStbpFGN8Nvs4hHA+8C7gz0mHUVn7gfwI7aXA85lQ6njXEEJoBBrzlkvXdyZJkiRJklQCQ6MjDA60TFsbHGhhaHSkoj+v5IPEQwgXAo8CdwL/UuCSibznNTO4BuB24Kd5P0+cfqWaa8YPF/qPVXWZC7+jJEmSJFW6pvoGmttS09aa21I01TdU9OeVepD45cB3gNsz85neCJyTc8krgH15tx0AXhJCmBdjPHKcawDuJb31LtdSDJ40Qwvm1/LR+36UdBkldfdtlyddgiRJkiTpJLo62xka7ps2Y2nN2j66OpdX9OeVcpD4MqAHeFeM8fHM8qb0S+HVpDuTbgC6c++LMY6HEJ4gvR3vr4GbgPxB48QYh4HhvM8s9q8hSZIkSZJUUtnh3d2N/TmnyS0v2el15fq8UnY63QksBj6fEwZ9GbiFdPfTYmA9mYHhIYSvAg/FGB8CbgMeCCF8HPg34LdLWKckSZIkSVKirly9tGQhU1KfV8pB4h8GPnycly8qcP2tOY9/DlxZmsokSZJ0PCGETwG/mXn6cIzxI0nWI0mSKldJZzpJkiSpcoQQrgGuA1YBk8A/hBDeFmP8brKVSZI0e23YspfudTtztqm1l7VjaTYzdJIkSVLWfuCOGOMhgBDCDuC8ZEuSJGn22rBlL/c8sGPaQO6h4T4AgycMnSRJkpQRY3w2+ziEcD7pg11en3tNCKERaMy71W/VkqQ5qXvdTnp7OkjtaQUgtaeV3p4Ouhv7DZ0wdJIkSVKeEMKFwMPAnTHGXXkv3w58qvxVSZI0+wyNjjA40DJtbXCghaHRkYQqml1qky5AkiRJs0cI4XLgB8AfxRgfKHDJvcAr837eUL4KJUmaPZrqG2huS01ba25L0VTfkFBFs4udTpIkSQIghLAM6AHeFWN8vNA1McZhYDjvvjJUJ0nS7NPV2c7QcN+0mU5r1vbR1bk86dJmBUMnSZIkZd0JLAY+nxMkfTnG+OXkSpIkafbKzm3qbuzPOb1uufOcMgydJEmSBECM8cPAh5OuQ5KkSnLl6qWGTMfhTCdJkiRJkiQVnaGTJEmSJEmSis7QSZIqwPjhiaRLKIu58ntKkiRJc4EznSSpAiyYX8tH7/tR0mWU3N23XZ50CZIkSZKKxNBJkiRJkiTNeRu27KV73c6cU+jaHRB+hgydJEmSJEnSnLZhy17ueWAHvT0dDA600NyWYmi4D8Dg6Qw400mSJEmSJM1p3et20tvTQWpPK5MTtaT2tNLb00H3up1Jl1bRDJ0kSZIkSdKcNjQ6wuBAy7S1wYEWhkZHEqqoOhg6SZIkSZKkOa2pvoHmttS0tea2FE31DQlVVB0MnSRJkiRJ0pzW1dnOmrV9tCw7QE3tBC3LDrBmbR9dne1Jl1bRHCQuSZIkSZLmtOyw8O7G/pzT65Y7RPwMGTpJkiRJkqQ578rVSw2ZisztdZIkSZIkSSo6QydJkiRJkiQVnaGTJEmSJEmSis7QSZIkSZIkSUVn6CRJkiRJkqSiM3SSJEmSJElS0Rk6SZIkSZIkqegMnSRJkiRJklR085MuQJIkSZIkqRQ2bNlL97qdDI2O0FTfQFdnO1euXpp0WXOGoZMkSZIkSao6G7bs5Z4HdtDb08HgQAvNbSmGhvsADJ7KpOShUwjhJcBG4C3Aa4C7c15uAzbFGN+Sd89NwGeAX2SWHo4xfqzUtUqSJEmSpMpwsi6m7nU76e3pILWnFYDUnlZ6ezrobuw3dCqTkoZOIYRLga8A7QAxxvXA+sxr5wA/An6/wK0XA38QY/xmKeuTJEmSJEmVZyZdTEOjIwwOtEy7b3CghaHRkbLXO1eVepD4e4APAPsKvPY54Msxxl0FXrsYuCmEsC2E8PUQQlMpi5QkSZIkSZUjt4tpcqL2aBfTup1T1zTVN9Dclpp2X3Nbiqb6hnKXO2eVtNMpxngrQAhh2noI4XzgSuDW49y6H/hvwGbS2/H+Ergx7z0agca8++yPkyRJkiSpCpxo+9xMupi6OtsZGu6b1g21Zm0fXZ3Ly/p7zGVJDRJ/L3BfjPFgoRdjjG/LPg4hfBb41wKX3Q58qjTlSZIkSZKkpJxs+1y2iyk7rwmO7WLKBlTdjf05wdVy5zmVUVKh01rgukIvhBDOBrpijF/ILNUA4wUuvRe4P29tKfBEkWqUJEmSJEkJONkQ8Jl2MV25eqkhU4LKHjqFEF4KnBVj/OlxLnkB+EgIYWOMcRPwQeC7+RfFGIeB4bz3Lna5kiRJkiSpzE62fc4upsqQRKfTq4C9+YshhK8CD8UYHwoh/CbwpRDCWcBO4KYy1yhJkiRJkkroRDObZrp9zpBpditL6BRj/LWcx5uBywpcc2vO4yeA15ajNkmSJEmSVBrHC5ZONrPJIeDVIamZTpIkSZIkqYqdKFg62cwmt89VB0MnSZIkSZJUdCcKlk42swncPlcNapMuQJIkSZIkVZ8TBUvZmU258mc2qfIZOkmSJEmSpKI7UbDU1dnOmrV9tCw7QE3tBC3LDmRmNrUnVK1Kwe11kiRJkiSp6E40DNyZTXODoZMkSZIkSTojxzulDo4fLDmzqfoZOkmSJEmSpNN2olPqDJbmNmc6SZIkSZKk05Z7St3kRO3RU+rW7Uy6NCXM0EmSJEmSJJ22E51Sp7nN7XWSJEmSJGnG8uc31S2oo7ktRWpP69Q12VPqNLcZOkmSJEmSpGMUGg4OHDO/6bK3Pc0lb93K5odWHXNKneY2QydJkiRJkjTN8YaD19UxNb8JILWnlSe/+zredOMzXH9L4VPqNHcZOkmSJEmSpGlyh4MDU8PBL3vHxoLzm8YOvci3/vQ/J1GqZjEHiUuSJEmSpGmONxz8yPg8mttS09ad36TjMXSSJEmSJEnTNNU3FAyXXrJkAWvW9tGy7AA1tRO0LDuQmd/UnlClms3cXidJkiRJkqbp6mxnaLhv2kynNWv7eP87LgSgu9H5TTo5QydJkiRJkjRNNkQ6XrhkyKSZMHSSJEmSJEnHuHL1UsMlnRFDJ6mKjR+eYMH86h/dNld+T0mSJKkYNmzZS/e6nTkdTOl5TPlrBk46U4ZOUhVbML+Wj973o6TLKLm7b7s86RIkSZKkWSs3ZKpbuJiRkRo2P7RqalbT4K+eZuLIvGlrQ8N9gNvodGYMnSRJkiRJqlIbtuzlngd2TA0Ev/LmH7D9sQ5Se1oBSO1pZWxk/jFrvT0ddDf2GzrpjBg6SZIkSZJUpbrX7aS352igVHf2GIMDLdOuKbQ2ONDC0OhI2epUdTJ0kiRJkiSpSuTPaxp6YWRaoDQy2EBzW2oqhAIY+1XdMWvNbSma6hvKWruqj5N3JUmSJEmqAtmtdOvvX8HD9/4X1t+/gsOHFtDclpq6Zvemdi66bistyw5QUztBy7ID1DUc5pK3Tl9bs7ZvasC4dLrsdJIkSZIkqQrkb6VL7WnlX5/5NV57/RaeWb+awYEWDo4t4qz6I7zphj7GxscyJ9WtSN/f3J9zet1y5znpjBk6SZIkSZJUoXK3001Ocsxspl2bLuD8y3Zx/S25gdKKgoGSIZOKzdBJkiRJkqQKkRsy1S1czMhIDZsfWjV1Ml2h2UzNSxp48K6rE6xac5UznSRJkiRJqgD5M5sO/KKWzQ+tIrWnlcmJWuLG5cfMa3I2k5Jkp5MkSZIkSRUgf2ZT3dlj07bT7YtLoWaSizs3MX/hEWczKXElD51CCC8BNgJviTH+LITQDbwBGM1c8scxxu/m3dMBfAU4G/gn4HdjjIdLXaskSdJcl//dLeFyJEk5hkZHpoVMI4MNx2ynOzi6mNamOrfTaVYo6fa6EMKlwD8Dub18FwNXxBg7Mj/fLXDr14HfizG2AzXAe0pZpyRJko773U2SNEs01adDpqzdm9rdTqdZrdSdTu8BPgD8FUAIoR44D/hKCOE84LukO50msjeEEP434KwY45OZpfuBPwa+VOJaJUmS5rpp390kSbNLV2c7Q8N99PZ0MDjQwsGxRZxVf4Q33dDH2PiY2+k065Q0dIox3goQQsguvRx4HHgf8ALw98C7SW+lyzoX2J/zfD9wzH9jQgiNQGPesv/NkiRJOk0Fvrsdw+9gklReuafVNdU38OYrXk5TY//U867OFYZMmrXKOkg8xvivwNuyz0MIfwHcxPTQqabArRMF1m4HPlXUAiVJknQyfgeTpCLLDZbqFi6GyVrGxseoW7iYkZEaNj+0isGBFprbUgyt7eOOm+1mUmUoa+gUQlgBtMcYv5NZqgHG8y4bAM7Jef4KYF+Bt7uX9Na7XEuBJ868UkmSJB2H38Ek6Qzlh0zZYGlR/YtccPkOtj2S3j535c0/YPtjR0+rS+1ppbeng+7GfkMnVYSyhk6kQ6Z7QwiPk95e917ggdwLYow/DyG8GEK4PMb4I9KdUN/Pf6MY4zAwnLt2olZwSZIknTm/g0nSmdmwZS/3PLBjai5TbrB0xU2Ps+2RVVMhU93ZY9NOqwMYHGhhaHQkidKlU1bS0+vyxRi3A38K/Aj4MdAXY/wmQAhhfQjhdZlLbwS+EELYAdQDf17OOiVJkiRJKoXudTvp7UmHTJMTtdOCpYbmkWkh08jg9NPqAJrbUjTVN5S1Zul0laXTKcb4azmP7wPuK3DN9TmPtwGXlKM2SZIkTZf73U2SVFxDo4WDpdSe1mmPAXZvauei67ay7ZGjM53WrO2jq3N5UuVLp6Tc2+skSZIkSZqzmuqPHyzt3nz+tJDp4Ngizqo/wptu6GNsfCxzWp1DxFU5DJ0kSZIkSSqTrs52hob7pmY65QdLdQsX54VMKwyZVLEMnSRJkiRJKpNsgNTd2M/Q6IjBkqqaoZMkSZIkSSW2YcteutftzAma2g2aVPUMnSRJkiRJKrLckKlu4WJGRmrY/NDRgeBDw30ABk+qarVJFyBJkiRJUjXZsGUv9zywg/X3r+Dhe/8LB35Ry+aHVpHa08rkRC2pPa309nTQvW5n0qVKJWWnkyRJkiRJpym/o4nJWp4fPchT6y6dOqGu7uwxBgdapt03ONDC0OhIEiVLZWPoJEmSJEnSCeTPY7ps5Ut5cvsvGXxhhENji3hm/WoW1b/IBZfvYNsjHVz29o3TQqaRwQaa21JTIRRAc1uKpvqGJH4dqWwMnSRJkiRJypMNmnKDpcGBFs6/9Cfs//d/Y+v61Vx4VT/P/nAFqT2tXHHT42x7JL2FLj9k2r2pnYuu28q2R47OdFqzto+uzuUJ/5ZSaRk6SZIkSZLmrELb40YPjU0FTbnBEsA55z/H1vWrSe1ppaF5ZKqjKffx7k3trLy2j+2PdjA40MLBsUWcVX+EN93Qx9j4WOb0uuUOEVfVM3SSJEmSJM1J2YHfvT0d07bH5QZNuWESTA+Xcjuach/vi+kwaeU1fdQ1jtG8pIGuzhWGTJpzPL1OUsUbPzyRdAmSJEmqQN3rdtLb00FqTyuvvmTX1Pa4QsFSVu7zbEdTy7ID7N58Phddt5WWZQeoqZ3g4Ngi6pfAnTeu5sG7rjZw0pxkp5Okirdgfi0fve9HSZdRUnffdnnSJUiSJFWdodHC2+Nyu5byt8o9t+scVl2/ha3rV7N/17ksaX6ei9/6FPMXjlO3aLFb6KQchk6SJEmSpDmpqb7w9rjcoCk/WGpa0sBlK8/lFS/rnzrNrqtzpeGSVIChkyRJkiRpTurqbGdouI/eno6p7XHbHllVMGjKD5Zue0eChUsVwtBJkiRJkjQnZE+qG3xhhMnDC6idP05d/dEtcXUL87fH2cEknQlDJ0mSJElS1cueVLfz6Tbalh+ZmtHU3JZizdo+7rh5tQGTVGSGTpIkSZKkqpXtbjowNMZT6y7lwqv62f5o+sQ6gNSeVnp7Ouhu7Dd0korM0EmSJEmSVFVyt9EdGlvEM+tXc9nbNzI40DLtlLqswYEWhkZHEqpWql6GTpIkSVUghPBKYFmM8Z+SrkWSklAoaLrwqn6e/eGKaafT5Z5Sl9XclqKpviHB6qXqVJt0AZIkSTo9IYT3hxD+OoTwUqAX+EoI4U+TrkuSyi07r2n9/SsYSTXwzPrVpPa0Tutq2r2pnZXX9vHcrnNYeW0fLcsOUFM7QcuyA6xZ20dXZ3vCv4VUfex0kiRJqlzvBn4DeCewDvgA8CTw/yRZlCSVW/e6nfT2dBwTNOV2Ne2L6XlN4fU7OOslY1y69ilq54/TtKSBrs7lznOSSsDQSZIkqXJNxhh/EUK4BvhWjPFwCGFe0kVJUrnkbqkrFDRlu5uyJ9UdHFtE/RK44//0pDqpHAydJEmSKtfBEMJHgDcCt4YQ3g+MJlyTJJVFdktdb08HF17VXzBo2r/rXJY0P8/Fb32K+QvtapLKzdBJkiSpcr0b+L+Bm2OMQyGE/wTcmnBNklQWuVvqTh40rTRokhJg6CRJklShYowxhPB7wKtDCDXArTHG/0i6Lkkqh6HRo1vqsvOaLryqn4aWEZoNmqRZwdPrJEmzxvjhiaRLKIu58nuq9EIIlwH/AjwMtAF7QwivT7YqSSqPpvr07KasfXEpz/5wBc1LGnjwrqsNnKRZwE4nSdKssWB+LR+970dJl1Fyd992edIlqHp8DrgG+EaMcW8I4f8C/jtwcbJlSVLpdXW2MzTcR29Pekh4c1uKNWv76OpcnnRpkjIMnSRJkipXXYzxxyEEAGKM60MIf5JwTZJUFtlOpu7GfoZGR2iqd0i4NNsYOkmSJFWu8RBCEzAJELLpkyTNEVeuXmrIJM1iJQ+dQggvATYCb4kx/iyE8F7gQ6S/HD0NvC/GeCjvnpuAzwC/yCw9HGP8WKlrlSRJqjB/AvwjcE4I4ZvAdcB7ky1Jkkpvw5a9dK/bmdPh1G74JM1CJQ2dQgiXAl8B2jPP20kf67saGAHuBz4AfCHv1ouBP4gxfrOU9UmSJFWyGOP3Qgg7gGuBecB/jTH+OOGyJKmkNmzZyz0P7Jg2y2louA/A4EmaZUrd6fQe0qHSX2WeHwTeH2N8HiCE0A+cV+C+i0kf/ftHQD/wezHGoRLXKkmSVBFCCK/NW9qU+XNxCOG1McZnyl2TJJVL97qd9PZ0kNrTCkBqTyu9PR10N/YbOkmzTElDpxjjrQA5wy1/Dvw8s9YKfBC4pcCt+4H/BmwG7gb+Ergx94IQQiPQmHef/wsjSZLmgu+c4LVJ4FXlKkSSyiW7pW7whREGB1qmvTY40MLQ6EhClUk6nkQGiYcQ2oDvA1+LMW7Ifz3G+Lacaz8L/GuBt7kd+FSpapQkSZqtYoyvTLoGSSqn3C11F17VT3NbaqrTCaC5LUVTfUOCFUoqpOyhUwjhAuAfgL+IMd5T4PWzga4YY3bOUw0wXuCt7iU9EyrXUuCJ4lUrSZI0+4QQPhJj/GwI4c8LvR5j/FC5a5KkUsh2Nx0YGuOpdZeS2tPK7k3trLy2j+2PHp3ptGZtH12dy5MuV1KesoZOIYQG4BHgozHGrx/nsheAj4QQNsYYN5Hegvfd/ItijMPAcN77F7liSZKkWelXmT9TBV6bLGchklQqud1Nl71949SWun0xPVXlwqv6aWgZoXlJA12dy53nJM1C5e50uhV4OXBnCOHOzNpDMcZPhhC+mnn8UAjhN4EvhRDOAnYCN5W5TkmSpFkrxvj/ZR7+e4zxS7mvhRD+MIGSJOmM5c5smjy8gInJianuppHBhmlb6vbFpRwcW8T1t/Tz4F1XJ1y5pOMpS+gUY/y1zMMvZH4KXXNrzuMngPxTWSRJkgSEEH4XqAN+P/OPdFkLgA8Bn0mkMEk6Tdmupp1Pt9G2/AjbH53e3eSWOqkyJTJIXJIkSWdkHFhBOnhakbN+GPi9RCqSpDPQvW7n1JDw7Y92HNPdlN1St/KaPuoax9xSJ1UIQydJkqQKE2P8GvC1EMLaGGNP0vVI0pkaGh1hcKCFhuaR43Y3HRxbRP0SuOPG1YZNUoUwdJIkSapcT4YQPgU0kz7xF/D0OkmVp6k+3dVkd5NUXQydJEmSKte3SJ/muxVPrZNUQfKHhtfMG+e112/h59vPs7tJqiKGTpIkSZXrZTHGNyZdhCSdikJDwwcHWjj/0p/wqtf+jHkLxrl07VPUzh+nye4mqaIZOkmSJFWun4cQ6mOMo0kXIkkzVWhoOMDO3teQ2tvK9bf08+BdVydcpaRiMHSSJEmqXPuBvhDCBuA/sovOdJI0mxUaGp41ONDC0OhIQpVJKjZDJ0mSpMr1s8yPJFWMQkPDs5rbUjTVNyRYnaRiMnSSJEmqUDHGP85fCyHUJ1GLJJ1M7vDwQkPDm9tSrFnbR1fn8qRLlVQkhk6SJEkVKoTQCdwFLAFqgHlAM2CbgKRZJTs8vLfHoeHSXGLoJEmSVLn+DPg48LvAZ4C3Ac8nWpEkFZAdHu7QcGluqU26AEmSJJ220Rjjt4AngReB9wNvSrYkSTpWdnh4LoeGS9VvRqFTCOFrBda+U/xyJEmSdAoOhhAWAbuBjhjjBLAo4ZokacqGLXu56ZOPc/jQPJrbUtNec2i4VP1OuL0uhPAloA14QwihNeelBcAFpSxMkiRJJ7UOeBi4BdgYQngDkDrhHZJUBhu27OVL336WwaFJtq5fzaL6F7nouq1se2SVQ8OlOeRkM52+Bvw6cBGQ29l0GOgtVVGSJEk6uRjj3SGEr8cY92aGil8BfDPpuiTNbdmh4aMv1LL9saNznJisYeU1fdQ1jtHs0HBpTjhh6BRjfBp4OoTwWIxxb5lqkiRJ0gyEEF6b+fOlmaUngKXAvydWlKQ5Lzs0/LK3b5w2x2lfXMr+XefyG7d/z+Hh0hwx09Pr/vcQwl+RPoK3JrsYY1xZkqokSZI0E7md6AuBc4AtwCXJlCNJR4eGjww20NyWOtrphHOcpLlmpqHTF4Fu4BlgsnTlSJIkaaZijK/MfR5CuAx4d0LlSJrjNmzZS/e6nVNDw3dvamfltX1sf7TDOU7SHDXT0OlQjPHzJa1EkiRJZyTG+GQI4b6k65A092TnOPX2dEwbGh43XjA1x6l+YR3vf6dznKS5ZKah0/8KIayIMfaXtBpJkiTNWHamU0YN8DrgrITKkTSHZec4HX9o+GrDJmkOmmno9CpgSwjh58B/ZBed6SRJkpSo3JlOk6QHiL8/oVokzWHZOU5ZDg2XBDMPnT5W0iokSZJ0yvJnOhVDCOEG4OOkB5N/Icb4xWJ/hqTq01Tv0HBJx5pp6OS2OkmSpFkkhLAE+F3gcmAesBG4D+gEBmKMj5/Ge7YBfwKsBg4CG0MIP4wx/rhohUuqSl2d7QwN99Hb49BwSUfNNHT6JemW7RqOnl63H3BTriRJUpmFEJqBXmAH8Ghm+WrgaWAEuOo03/oa4PEY42Dmc74NvAO464wKllQVsqfTDY2OULdwMUzWMnpojMnDC6idP05d/WLedEMfY+NjNNU30NXp0HBprptR6BRjrM0+DiEsAN4OXFSqoiRJknRCfwx8Ncb4uZy1L2ZCovEY4/On+b7nkv6Hxaz9wCW5F4QQGoHGvPv8f5VSlcs/ne6Cy3ew98dttC0fYPuj07ub7rjZoeGS0mpPfsl0McbxGOPfANeWoB5JkiSd3JXA53MXMt1Py0lvjTtdNQXWJvKe3w78NO/niTP4TEmz3IYte/ncA9unTqd79SW72PbIKs45/zm2P5pem5yoJbWnld6eDrrX7Uy6ZEmzxIw6nTJfYrKyx/E2laQiSZIkncxEjPFI3toI6W70vz2D9x0A3pDz/BXAvrxr7gXuz1tbisGTVJWyHU4188anTqdraE6fVJf9M9fgQAtDoyNJlCppFjqdmU6QPo73QyWpSJIkSScVQnhJ7ja6GON4COE5js7fPB2PAZ8OIbQCo6RDrPfmXhBjHAaG82o5g4+UNJt1r9tJb08HF17VP3U63chg+qS67J+eWCfpeE55ppMkSZIS99fA/wgh3BxjPAgQQlgMfBn4xum+aYxxIITwMeCHwELSc6MVRhd0AAAgAElEQVQ2F6NgSZVpaDTdzbR7Uzsrr+1j+6Md7N58Phddt5W9P146teaJdZIKmen2ulrgTuDNwALgEeDuGOPhEtYmSZKkwv6MdLj0ryGEpzNrF5MOi/7sTN44xvjXpEMtSaKpPt3NtC+mB4NfeFU/Dc0jTE7Mo+OKAUYPjXHp2qeonT9O0xJPrJM03Uy31/0p6dPq/jvp4ePvBT4H/P6JbgohvATYCLwlxvizEMI1pIdengV8K8b48QL3nAd8HXgZEIEbY4wvzLBOSZKkqpeZ5/RbIYTXAf8ps/z/xhifSrAsSVWoq7OdoeE+ens62L/rXA6OLWLN2j7uvNlwSdLJzTR0+j+A18UYxwFCCA8D2zhB6BRCuBT4CtCeeX4W0A28EdgDPBxCeHOM8ft5t94H3Bdj/JsQwieATwB/OPNfSZIkaW6IMT4NPH3SCyXpFG3YspfudTsZGh2hrn4xb7qhj7HxMZrq7WaSNHMzDZ1qs4ETQIzxYAhh/EQ3AO8BPgD8Veb5JcCuGONPAUIIXwfeCUyFTiGEBcAVwNrM0v3AP2LoJEmSJEllkT2xrrdn+qymO25ebdgk6ZTMNHTqCyF8AfjLzPMPAttPdEOM8VaYdprJucD+nEv2kz5eN9dLgedzZkUVuobM+zYCjXnL/i+gJEmSJJ2CbFfT4AsjTB5ewMTkBE+tu3TqVLrUnlZ6ezrobuw3dJJ0SmZ6Kt0HgCbS85meJB0O/d4pflZNgbWJ07gm63bgp3k/T5xiTZIkSRUv849xknTKsl1Nmx47h7Ff1bGp52LmzT/C4EDLtOsGB1oYGh1JqEpJleqEoVMIYWEI4QHg6hjjLTHGlwObgSPA86f4WQPAOTnPXwHsy7vmAPCSEMK8E1yTdS/wyryfN5xiTZIkSRUrpD0LPBtCaAsh7AghXJB0XZIqR/e6nfT2dHDO+c+x/dEOUntaGRlMn1iXq7ktRVN9Q0JVSqpUJ+t0ugvInkCX9R7S29o+fYqftYn0d6NXZ0KlG8iZ5wSQmRv1BPCuzNJN+dfkXDscY/xZ7g+w9xRrkiRJqmR/Qbr7+99jjAOZ5/8j2ZIkVYINW/Zy0ycfZ/CFEQYHWmhoHpnqbtq9qZ2V1/bRsuwANbUTtCw7wJq1fXR1tidctaRKc7KZTm8BLo4x/kd2Ica4L4RwE9ALfHymHxRjfDGEcAvwHWAxsB74NkAI4avAQzHGh4DbgAdCCB8H/g347Zn/OpIkSXNKS4zx0ewMzRjjfSGE9yZck6RZZtpJdAsXM354gpGRGrauX82FV/XT3Jaa6m5K7WllX0zPbVp5TR91jWM0L/HEOkmn52Sh06HcwCkrxvh8COHgTD4gxvhrOY9/AFxU4Jpbcx7/HLhyJu8tSZI0x02GEBYDkwAhhHOAeSe+RdJcknsS3aL6F7ng8h1MTsxn+2PprXTZrqaBHW2svLaP7Y+mT6w7OLaI+iVwx42eWCfp9J0sdDoSQmiIMU6bGBdCaAAWlK4sSZIkzcB9wP8EXhZC+FPSHeKfSbYkSbNBtrvpwNDY1El0V9z0ONseWcVlb984tZUu29X06kt3ctZLxrh07VPUzh+nye4mSUVwstDpm8BXQwhdMcZRgBBCPfBV0tvkJEmSlJAYY3cIYTfwG6T/QfC9McZHEi5LUsJyu5tyA6bs3KbcrXSQDp4Oji3i+lv6efCuq5MsXVKVOVnodC/wZeC5zMkotcBy4Bukh4xLkiSpzEIIzTlP/1fmZ+q1GONg+auSNFtkT6TLPYku93F2S112K11zWyozKHx50qVLqjInDJ1ijBPAe0MIdwOvBSaAzTHGfeUoTpIkSQX9kvQcp5qctezzSZzrJM1pQ6PHnkS3/dEOdm8+n4uu28q2R1YRN14wNSi8fmEd73+nW+kkFd/JOp0AiDH+DPhZSSuRJEnSjMQYa5OuQdLs1VR//JPo6hct5k039DE2PkZTfQNdnQ4Kl1Q6MwqdJEmSNPuEEOYB7wP+M3AEeCjGeH+iRUlK1IYtezk4Ps6q67ewdf1qT6KTlChDJ0mSpMr1F8BrgAdJz958dwjh1THGjydblqRyyp5UN/jCCIfGFvHM+tUsqn/R7XOSEmfoJEmSVLmuBV4TYxwHCCF8HdgGGDpJVa5Q0HThVf08+8MVR0+l+8kyWpYd4Ppb+g2cJCXC0EmSJKly/ZL097nxzPMJYDi5ciSV2oYte/nSt59lcGiSrXlBU0Pz0QHiWYMDLQyNjiRUraS5ztBJkiSpcu0Anggh3A8cBt4F/DKE8AcAMcbPJ1ibpCLbsGUv9zywg9EXatn+WMcxQdPI4NEB4lnNbSma6huSKlnSHGfoJEmSVLlqgH5gdeb5zzJ/rgAmkyhIUvFlt9IdGBrjqXWXctnbNxYMmnZvamfltX1sf7SDwYEWmttSrFnbR1fn8oR/A0lzlaGTJElShYox/k7SNUgqrWx3U29Px1TYdLygaf+uc1nS/DwXv/Up5i8cp2lJA12dDhCXlBxDJ0mSpAoVQrgS+COgOXc9xnhJIgVJKpr87qbUntapsOnkQdNKgyZJs4KhkyRJUuX6KvDnwL8kXYik4inU3QRMC5vixgtYeU0fdY1j1C+s4/3vNGiSNPsYOkmSJFWuX8QY/zzpIiQVV/e6nfT2dEzrbkrtaWVfTIdK2bCpeUkDXZ2rDZskzVqGTpIkSZXreyGE24D/CYxnF2OM/5ZcSZJOV3ZL3eALIwW7mwYHWjg4toj6JXDHjYZNkmY/QydJkqTK1QrcDYzmrE0CL0mmHEmnK3dL3YVX9Z+ku8nh4JIqg6GTJElS5Xon8IoY4y+SLkTSmcndUmd3k6RqYegkSZJUuX4BHEi6CElnbmj06Ja6bHfThVf109AyYneTpIpl6CRJklS5ngL+OYTwPeBgdjHG+PnkSpJ0KrJznA4fmje1pQ7SwdPBsUVcf0s/D951dcJVStLpMXSSJEmqXGcBEWhPuhBJpy53jtOi+he56LqtbHtkFYMDLTS3pVizto+uzuVJlylJp83QSZIkqULFGH8n6Roknb7cOU4ATNY4MFxSVTF0kiRJqlAhhDXAHwFLgBpgHvDKGON5iRYm6aQ2bNnL4AtH5zhBekvd/l3n8hu3f88tdZKqgqGTJElS5foq8CDwDuDLwFrgO4lWJOm4svObBl8Y4dDYIg4fqps2xwmguS1FU31DglVKUvHUJl2AJEmSTttkjPEzwAbgJ8A7gSsSrUhSQdn5TevvX8FIqoFn1q8mblzOymv7aFl2gJraCVqWHcjMcXJMm6TqYKeTJElS5RrJ/PkvwK/HGH8UQpiXZEGSCsud39TQnN5WNzmR7gG48Kp+GppHOHJ4Hnfc3OEcJ0lVw9BJxxg/PMGC+TbBSZJUATaFEL4FfAJ4OITQDhxJuCZJBQyNHp3fNDLYMLWtbl9cyr64lJZlB7j+ln4DJ0lVxdBJx1gwv5aP3vejpMsoubtvuzzpEiRJOlO/D1waY9wZQvgwcC1wQ8I1SSqgqf5o0LR7Uzsrr+1j+6MdDA600NyWymyrW550mZJUVIZOkiRJFSiEUAPMizE+GUJoABYD98UYdyVcmqQcucPDX3v9Fp5Zv5r9u85lSfPzXPzWp5i/cJymJQ10dS63y0lS1TF0kiRJqjAhhNcA64EPhhB+AGwGJoG6EMJ7YoyPJlqgNAdlw6Wh0RHqFi6GyVpGD41xaGwRz6xfzeBAC+df+pO8oGmlQZOkqlb20CmEcCvwwZylVwJ/FWP8YM41nwTeDQxllr4SY/xi+aqUJEma1T4HfCzG+PchhN/JrP060Ab8DWDoJJVBbhdTNlxaVP8iF1y+g22PdHDhVf08+8MVpPa0ArCz9zWk9rZy/S39PHjX1QlXL0mlV/bQKcb4VeCrACGEC4Ee4NN5l10M/FaMsbe81UmSJFWE82KM38g8vgpYF2OcAPaEEM5OsC6p6hUKmnLDpStuepxtj6yadkpdrsGBFoZGR47z7pJUXZLeXvcl4KMxxl/mrb8O+MMQwquAfwLujDG+WPbqJEmSZqfcE+peD3wo5/niMtciVbX8bXMjIzVsfmjVtKApN1zKfZx7Sl1Wc1uKpvqGRH4XSSq3xEKnEMI1wFkxxr/LW18CbAXuBH4G3E/6GOCP5V3XCDTmva0boiVJ0lwwGEK4CGgAXgH8I0AI4fXAQJKFSdVkw5a93PPADnp70qfMXXnzD9j+WMcxQVNuuJT72FPqJM11SXY6vQ/4fP5ijPEF4Prs8xDCPUA3eaETcDvwqVIWKEmSNEt9FHgMOBv4SIxxNIRwJ+nvS2sTrUyqIt3rdtLb0zHVqVR39ljBoCk3XNq9+Xwuum4r2x5Z5Sl1kua8REKnEMJC4I3ALQVeOw+4JsbYnVmqAcYLvM29pLugci0FnihaoZIkSbNQjPHJEEIbUBdjHM4sbwQuiTHuSrA0qSrkzm3Kncl0vKApP1yqW7SYN93Qx9j4GE31nlInae5KqtNpJbAzxjha4LX/AD4bQvgh6e11HwC+m39R5gvWcO5aCKH4lUqSJM1CMcZDwKGc5xsTLEeqGrlb6i68qn/aTKbdm9pP0sVkuCRJuZIKnV4F7M1dCCGsBz4ZY3w6hPA+4HvAQuCfgXvKX6IkSZKkapU7ILypvoHLVr6UJ7f/kgNDYzy17tKCM5kOji3irPojdjFJ0gwlEjrFGP8W+Nu8tetzHn8H+E6565IkSZJUvXK3zR0aW8Qz61czONDC+Zf+hP3//m9sXb+ay96+cWpL3b6YDpMuvKqfhpYRmpc00NW5wpBJkmaoNukCJEmSJKnUstvm1t+/gpFUA8+sX01qTyuTE7Wcc/5zbM08z85tytoXl/LsD1fQvKSBB++62sBJkk6BoZMkSZKkqpd7El1D8/QB4bnPs1vqWpYdoKZ2gpZlB1izto+uzvakSpekipXUTCdJkiRJKrrcWU11CxfDZC1j42NMTjIVLOWeQpf/PLulbuU1fdQ1jmW21C23w0mSToOhkyRJkqSqkHvy3KL6F7ng8h1seyQ9BPzKm38wFSzlDwh/btc5rLp+C1szM54Oji2ifgncceNqwyZJOgOGTpIkSZKqQu4Wuituepxtj6ya6maKG5dz0XVb2fbIKvbvOpclzc9z8VufYv7CcZqWNHDZynN5xcv6p06zs7tJks6coZMkSZKkipW7nS53C13+3KZ9cSnUTHJx5ybmLzySCZZWTguWbntH2cuXpKpm6CRJkiSpIuVup8vfQpc/twng4OhiWpvqePCuqxOsWpLmDkMnSZIkSRUjt7NpYnwBm3ouLriFbvfm86ceDw600NyWypxCtzzh30CS5g5DJ0mSJEmzVv5pdCMjNWx+KB0kXf+h751wC13dwsW86YY+xsbHnNMkSQkwdJIkSZI0KxXaPrf9sY6pzia30EnS7GboJEmSJGnWONH2ubqzx6Z1Nu3e1M7Ka/vY/miHW+gkaRYydJIkSZI0K+R3NuVvn8vvbNoXl7Kk+XkuXfsUtQvG3UInSbOMoZMkSZKmCSHcBUzEGD+ddC2aW7rX7aS35/jb53Zvaj9mOHj76wa44+aVBk2SNAsZOkmSJAmAEMLZwOeB3wY+m3A5moOGRkdOuH3u4Ngizqo/4nBwSaoQhk6SJEnK6gR2AfckXYjmpqb6mWyfW2HIJEkVwtBJkiRJAMQYHwQIIXz6eNeEEBqBxrxlEwAVRVdnO0PDfVMzndw+J0mVzdBJkiRpjgkhvBP4Qt7yT2KM18zg9tuBTxW/Ks1FuSfVpbuY2rnj5uV0N/bnrLl9TpIqlaGTJEnSHBNj/Dvg707z9nuB+/PWlgJPnElNmnvyT6prbksxNNzHHTcv58G7rk66PElSERg6SZIkacZijMPAcO5aCCGhalTJ8k+qS+1ppbeng+7GfjubJKlKGDpJkiRJKovc7XSTk0w7qQ7Sz4dGRxKqTpJUbIZOkiRJmibG+Omka1D1yd9Od+XNP5h2Uh1Ac1uKpvqGBKuUJBVTbdIFSJIkSap+udvpJidqiRuXc9F1W2lZdoCa2glalh1gzdo+ujrbky5VklQkdjpJkiRJKrmh0ZFp2+n2xaVQM8nFnZuYv/CIJ9VJUhUydJIkSZJUck31Dcdspzs4upjWpjpPq5OkKmXoJEmSJGnGcoeBp7uT0tvhTrZ22cqXMrS2b2qmU3NbKrOdbnmSv44kqYQMnSRJkiTNSP4w8Oa2FIO/epqJI/PY/NCqE64Nre3jzVe8nKbG/pxwyu10klTNDJ0kSZIkzUjuMHCA1J5Wxkbms/2xk6/19nTQ1NjvVjpJmkM8vU6SJEnSjOQPAweoO3tsRmuDAy0MjY6UvEZJ0uxhp5MkSZKkYxSa3VRoGPjYr+pmtNbclqKpvqGsv4MkKVmGTpIkSZKmKTS7aWg4PZMpfxh4XcNhLnnr1mnzmwqtOTRckuaeREKnEMLjwMuB8czS+2KMm3Jevwb4PHAW8K0Y48fLX6UkSZI0NxWa3ZSdyXTHzcvpnjYMfEX6nuaTrTk0XJLmmrKHTiGEGuAC4LwY4+ECr58FdANvBPYAD4cQ3hxj/H55K5UkSZLmpkKzm7Izma5cvbRgeDTTNUnS3JHEIPEATALfDyFsCyF8MO/1S4BdMcafZkKprwPvLHeRkiRJ0lyVnd2Uy5lMkqRTlcT2uibgB8D7SW+f2xBCiDHGRzOvnwvsz7l+P3DMP5GEEBqBxrxl/ylFkiRJOkNdne0MDU+f3eRMJknSqSp76BRj7AV6M09HQwhfA64HsqFTTYHbJgqs3Q58qvgVHt/44QkWzE+iOUySVE3mwt8nc+F3lKpFoVPqstvips9uciaTJOnUJDHT6T8Bi2KMP8gs1XB0oDjAAHBOzvNXAPsKvNW9wP15a0uBJ4pT6bEWzK/lo/f9qFRvP2vcfdvlSZcgSVVtLvx94t8lUmU43il1wHFnN0mSNFNJbK9rBO4KIbweWADcDPxuzuubgBBCeDXwU+AG0oPFp4kxDgPDuWshhFLVLEmSJFWs43UzHe+Uuu7GfgMnSdIZS2J73d+HEC4FtgLzgC/GGHtDCH3A9THGfSGEW4DvAIuB9cC3y12nJEmSVA1O1M10olPqJEk6U0l0OhFj/ATwiby1jpzHPwAuKnddkiRJUrU5UTdT9pS67GvgKXWSpOJxwqckSZJUxU7UzdTV2c6atX20LDtATe0ELcsOZE6pa0+oWklSNUmk00mSJElSeZyom8lT6iRJpWToJEmSJFWxrs52hob7ps10SnczLQc8pU6SVDqGTpIkSVIVs5tJkpQUQydJkiSpytnNJElKgoPEJUmSJEmSVHSGTpIkSZIkSSo6QydJkiRJkiQVnaGTJEmSJEmSis5B4pIkSVIV2LBlL93rduacUNfu8HBJUqIMnSRJkqQKt2HLXu55YAe9PR0MDrTQ3JZiaLgPwOBJkpQYt9dJkiRJFa573U56ezpI7WllcqKW1J5Wens66F63M+nSJElzmKGTJEmSVOGGRkcYHGiZtjY40MLQ6EhCFUmSZOgkSZIkVbym+gaa21LT1prbUjTVNyRUkSRJznSSJEmSZr2TDQnv6mxnaLhv2kynNWv76OpcnmDVkqS5ztBJkiRJmsVmMiQ8+2d3Y39OMLXcIeKSpEQZOkmSJEmzWO6QcODokPDG/mmh0pWrlxoySZJmFWc6SZIkSbOYQ8IlSZXK0EmSJEmaxRwSLkmqVIZOkiRJ0izW1dnOmrV9tCw7QE3tBC3LDmSGhLcnXZokSSfkTCdJkiRpFnNIuCSpUhk6SZIkSbOcQ8IlSZXI7XWSJEmSJEkqOkMnSZIkSZIkFZ2hkyRJkiRJkorO0EmSJEmSJElFZ+gkSZIkSZKkojN0kiRJkiRJUtEZOkmSJEmSJKnoDJ0kSZIkSZJUdPOT+NAQwqeA38w8fTjG+JG81z8JvBsYyix9Jcb4xTKWKEmSJEmSpDNQ9tAphHANcB2wCpgE/iGE8LYY43dzLrsY+K0YY2+565MkSZLKacOWvXSv28nQ6AhN9Q10dbZz5eqlSZclSdIZS6LTaT9wR4zxEEAIYQdwXt41rwP+MITwKuCfgDtjjC/mXhBCaAQa8+7zb2dJkiRVjA1b9nLPAzvo7elgcKCF5rYUQ8N9AAZPkqSKV/aZTjHGZ2OMTwKEEM4H3gWsz74eQlgCbAXuBF5LOlj6RIG3uh34ad7PEyUtXpIkSSqi7nU76e3pILWnlcmJWlJ7Wunt6aB73c6kS5Mk6YwlMtMJIIRwIfAw6S6mXdn1GOMLwPU5190DdAMfy3uLe4H789aWYvAkSZKkCjE0OsLgQMu0tcGBFoZGRxKqSJKk4klqkPjlwHeA22OMf5P32nnANTHG7sxSDTCe/x4xxmFgOO/e0hQsSZIklUBTfQPNbSlSe1qn1prbUjTVNyRYlSRJxZHEIPFlQA/wrhjj4wUu+Q/gsyGEHwI/Az4AfLfAdZIkSVJF6+psZ2i4b9pMpzVr++jqXJ50aZIknbEkOp3uBBYDn8/pTPoy8FbgkzHGp0MI7wO+BywE/hm4J4E6JUmSpJLKDgvvbuzPOb1uuUPEJUlVoeyhU4zxw/z/7d1/kJ1VecDx7yYSZAANSYNCEqha9ylIJUwsEoFCx9Ba6kywgFSCdRoQaBVkSqq0pEPUothKEzJlGmpdoQLTTsBJ6CCCCrSAUYEhEgs8QStMsoQCm6TSVMKPbP9434t3l/0Rdu/d9969388/e+953z3vc/bsZJ95cs658KkhLq2uu+dmiu13kiRJUtu5+8Et9KzbVFdI6h62kHTi/DkWmSRJk1JlB4lLkiRJk9HdD27hyuseHbBlbvuODQAWlyRJHWVK1QFIkiRJk0nPuk2sXzuPvs2z6N89hb7Ns1i/dh496zZVHZokSRPKopMkSZLUQNt3Ps+23pkD2rb1zmT7zucrikiSpGq4vU6SJEkARMSxwEpgL6APWJKZT1YbVfs5YN/9mTG7j77Ns15tmzG7jwP23b/CqCRJmniudJIkSVLNDcDZmTmvfL2q4nja0pJF3Sw4ZQMz5z5L15TdzJz7LAtO2cCSRd1VhyZJ0oRypZMkSZKIiL2BZZn5cNn0MHBBhSG1rdph4T3TN9Z9et1hHiIuSeo4Fp0kSZJEZu4CrgeIiCnAcmDt4PsiYjowfVCz1ZRBTpw/xyKTJKnjWXSSJEnqMBFxOrBiUPNjmbkwIqYB11HkiV8Y4tsvAi5rcoiSJGkSsOgkSZLUYTJzDbBmcHtE7AfcQnGI+KLMfGmIb18JXDuobQ5wT4PDlCRJbc6ikyRJkmquB34CnJeZ/UPdkJk7gB31bRExAaFV4+4Ht9CzblPd2UzdbpuTJGkPWXSSJEkSEXEUsAh4BHioLCQ9lZknVxpYhe5+cAtXXvco69fOY1vvTGbM7mP7jg0AFp4kSdoDFp0kSZJEZj4EdFUdRyvpWbeJ9Wvn0bd5FgB9m2exfu08eqZvtOgkSdIemFJ1AJIkSVIr2r7zebb1zhzQtq13Jtt3Pl9RRJIktRdXOkmSJGnSacRZTAfsuz8zZve9utIJYMbsPg7Yd/9GhytJ0qRk0UmSJEmTSqPOYlqyqJvtOzYM6GfBKRtYsuiwZoUuSdKkYtFJkiRJTTeRnwLXqLOYavf2TN9YF/dhnuckSdIesugkSZKkpproT4Fr5FlMJ86fY5FJkqQx8iBxSZIkNVX9yqP+3VN+ufJo3aamPK92FlM9z2KSJGniWXSSJElSU030p8AtWdTNglM2MHPus3RN2c3Muc+WZzF1N+V5kiRpaG6vkyRJUlNN9KfAeRaTJEmtwaKTJEmSmqqKT4HzLCZJkqpn0UmSJElN5cojSZI6k0UnSZIkNZ0rjyRJ6jweJC5JkiRJkqSGs+gkSZIkSZKkhrPoJEmSJEmSpIaz6CRJkiRJkqSGs+gkSZIkSZKkhrPoJEmSJEmSpIZ7QxUPjYgzgWXANGBFZl496Po84CvAm4H/AM7PzJcnPFBJkiRJkiSNyYSvdIqI2cDlwHHAkcC5EXH4oNuuBy7IzG6gC/j4xEYpSZIkSZKk8ahie91C4M7M3JaZO4GbgNNqFyPiUGCfzPx+2XQtcPqERylJkiRJkqQxq2J73cHA1rr3W4GjR7k+Z3AnETEdmD6o+VCAp59+uiGBDmXnz59rWt+tYsuWLY5zkuiEMUJnjLMTxgiOczLZsmVLU/qt+xs/tSkP0FhNhebmYJIkqTpjzcGqKDp1DdG2+3Vcr7kIuGyoByxevHgMYanmW1+rOoKJ0Qnj7IQxQmeMsxPGCI5zMpmAMR4E/LTpT9GeOgjMwSRJ6gCvKweroujUCxxf9/4g4KlB1986wvWalRRb7+pNA94OPA68Mt5Am2gOcA/Fz6E5/xWsRnGu2odz1T6cq/bRinM1lSI3uL/qQDTA/RS/J1tp7RysphV/tzWQc9T6nKPW5vy0vnabozHlYFUUnb4DLI+IWcBO4FTg3NrFzHwyIl6IiGMz8z7gj4DbBneSmTuAHUP0v6k5YTdORNRebsnMJyoMRaNwrtqHc9U+nKv20cJz5QqnFpOZu4B7q45jT7Xw77ZKzlHrc45am/PT+tp0jl53DjbhB4lnZi9wKXAXsAG4MTN/GBHfjIj3lLctBlZExKPAvsCqiY5TkiRJkiRJY1fFSicy80bgxkFtJ9e9/hEDDxeXJEmSJElSG5nwlU6SJEmSJEma/Cw6VWMH8FmGPpNKrcW5ah/OVftwrtqHc6XJyt/t1ucctT7nqLU5P62vI+aoq7+/v+oYJEmSJEmSNMm40kmSJEmSJEkNZ9FJkiRJkiRJDVfJp9cJIuJYYCWwF9AHLMnMJ6uNSiOJiM8BuzNzedWxaKCIOBNYBkwDVmTm1RWHpBFExJuA7wEfzMwnKg5Hw4iIy4APl29vzcxPVxmP1AzmY+3BHKz1mHu1PvOt1tZJeZYrnapzA3B2Zp/b8g8AAAdvSURBVM4rX6+qOB4NIyLeHBFfBZZWHYteKyJmA5cDxwFHAudGxOHVRqXhRMR7gXuB7qpj0fAiYiHwO8BRwDxgfkR8qNqopKYwH2th5mCtydyr9ZlvtbZOy7MsOlUgIvYGlmXmw2XTw8AhFYakkS0CHgeurDoQDWkhcGdmbsvMncBNwGkVx6ThfRz4BPBU1YFoRFuBizPzxcx8CXgU/05pkjEfawvmYK3J3Kv1mW+1to7Ks9xeV4HM3AVcDxARU4DlwNoqY9LwMvOfASJiecWhaGgHU/zDXbMVOLqiWDSKzDwHICKqDkUjyMz/rL2OiHcCZwDvqy4iqfHMx1qfOVjLMvdqceZbra3T8iyLTk0WEacDKwY1P5aZCyNiGnAdxTx8YcKD0wAjzVUV8WiPdQ3RtnvCo5AmoYh4F3ArsDQzH686HmmszMdamzlY2zH3khqgU/Isi05NlplrgDWD2yNiP+AWikMrF5XL6lSh4eZKLa8XOL7u/UG4lFgat/KA5ZuBizLzX6qORxoP87HWZg7Wdsy9pHHqpDzLolN1rgd+ApyXmf1VByO1se8AyyNiFrATOBU4t9qQpPYWEXMpthmdkZl3Vh2P1ETmY9LrZ+4ljUOn5VkWnSoQEUdRHIz4CPBQudf2qcw8udLApDaUmb0RcSlwF8XH9v5TZv6w4rCkdrcUeCPwd3XnQazOzNXVhSQ1lvmYNDbmXtK4dVSe1dXf73/qSJIkSZIkqbGmVB2AJEmSJEmSJh+LTpIkSZIkSWo4i06SJEmSJElqOItOkiRJkiRJajiLTpIkSZIkSWq4N1QdgCRJkiRNNhGxCvit8u3hwM+AX5TvFwD/B8zKzOcqiO0O4MzMfC4ivgkszcxHxtDPtcCPM/PLQ1z7VeDzwHspxr0LuCYzvzqe2EeJ5zXjAg4E/j4zj2jWcyUNz6KTJEmSJDVYZl5Yex0RTwCLM/OBurYKonrVSbUXmXlyozuPiLnAeuAvMvOjZdts4IaI6M7MzzT6maXXjCsiDmzSsyTtAYtOkiRJklSNz0bEMcBM4G8z82qAiDgb+FOK41D6gE9m5mMR8WbgamAe0A/cBvxlZr4cEbuAdcCRwGJgJ3BV2fdUYFVm9kTE18pn3xURJwP3AKdl5gMRsQS4GHgFeA74GNALrACOAfYHuoBzMvO+EcZ1CbAmM6+tNWRmb0ScAfwsIq4CuqlbgRQRJ9beR8RbgGuAtwBvBZ4EPpyZz5QFvGuB9wOHAP+amZ8eblz1QUXENOBLwAnlz+Qh4MLM/HlE/AlwPvAi8AJw3lhWf0kayDOdJEmSJKka/5WZ84EPAVdGxF4RcQJFsef4zDwK+BvgG+X9qyiKUL8BvIeiwLS0vDYN+LfMDGADcBNwSdn/CcDSiDgmM/+4vP+3M3NzLZCIOJKiIPOBzHw3cAtwKcX2uIOBBZl5OHAdRVFpJMcB/z64MTP/G3ik7HMkfwisz8wFwNsptiJ+tO76fpl5PPA+4IKIeNtw4xrkEuBlYH5mHgk8BVwREVOBlRRj/03gH8sxSBonVzpJkiRJUjVuLL9uAPYG3gT8PvBrwPfqtuDNiIgZwO8Bx2ZmP7ArIlYDFwFXlPfdU37tBt4B9NT1sQ9wFPD9YWJ5P3B7rWCTmStrFyJiGXBeRLwDOBF4fozjrZk60sXMvCoijo+IPwPeCRwB/KDulnXlfb0R8Qwwg+LMrNF8EJgOnFT+XKYBz2TmKxGxhuJnfitwB7+cG0njYNFJkiRJkqrxEkBm9pdFkC6KgszXa+ceRcQUipVG23ntTpUpwF517/+3/DoV2JGZ82oXyi1r/zNCLC9TbNmr3b8PcChF8eoq4EqKYs9jwFmjjOs+iuLUzWVfB1Ks0JpBcaj6DyhWMHXVfc+0umd/CTga6AHuKsdYf+8v6l73D7o2kqnApzLztvI5+wFvBMjMsyLiCGAh8BngbGDRHvYraRhur5MkSZKk1nEH8JGIOKh8fz7w3fL17cAnIqIrIvYGzgW+PUQfCbwQEWfBqwd7/xiYX15/hYHFKiiKOwvrnnsexda+kyi27f0DcD9wCqOsVAK+CJwaER8r338E2AisBVaXq6meBQ6JiAMjoqvst+Z3gZWZ+XXgmTKG0Z453Ljq3Q58MiKmlcW8rwBfjIhfiYjNQF+5wmsZxdZFSeNk0UmSJEmSWkRm3k5xttK3I+Jh4EzgD8otdRcCB1IUcDZSFJcuH6KPFylW6ZxT9nEH8Fd1h39/A7i3XNlT+56NwJ8D34qIHwEfoCh4rQZOKPtZD/wUeFtZtBluDJuBBRTb2DZRFMdeoigg/XpEvKs8pPsa4AGKLX9b67r4HPDliHiwFivFlsPRvGZcg3weeILiAPFHKFZIXZyZzwF/DXy3fOYVwDl78DxJo+jq7+8f/S5JkiRJksYpIt4NvJCZm6qORVLzWXSSJEmSJElSw7m9TpIkSZIkSQ1n0UmSJEmSJEkNZ9FJkiRJkiRJDWfRSZIkSZIkSQ1n0UmSJEmSJEkNZ9FJkiRJkiRJDWfRSZIkSZIkSQ33/zMITFXsW30dAAAAAElFTkSuQmCC\n",
      "application/papermill.record/text/plain": "<Figure size 1440x432 with 2 Axes>"
     },
     "metadata": {
      "scrapbook": {
       "mime_prefix": "application/papermill.record/",
       "name": "exp2_fig"
      }
     },
     "output_type": "display_data"
    },
    {
     "data": {
      "image/png": "[encoded data removed]",
      "text/plain": [
       "<Figure size 1440x432 with 2 Axes>"
      ]
     },
     "metadata": {
      "needs_background": "light"
     },
     "output_type": "display_data"
    }
   ],
   "source": [
    "fi6, ax = plt.subplots(1,2, figsize=(20,6))\n",
    "ax = ax.ravel()\n",
    "\n",
    "skewed_data = np.random.gamma(1,2,100)\n",
    "sns.histplot(skewed_data,kde=False,ax=ax[0])\n",
    "\n",
    "sm.qqplot(skewed_data, ax=ax[1])\n",
    "\n",
    "W, p=stats.shapiro(x=skewed_data)\n",
    "\n",
    "print(f\"The value of W is {W}, p={p}\")\n",
    "glue(\"exp2_fig\",fig,display=False)"
   ]
  },
  {
   "cell_type": "markdown",
   "metadata": {},
   "source": [
    "```{glue:figure} exp2_fig\n",
    ":figwidth: 650px\n",
    ":name: \"fig:exp2\"\n",
    "\n",
    "Histogram of `skewed_data`, a Gamma(1,2) distributed sample with 100 observations.  A normal QQ plot of the same data.\n",
    "```"
   ]
  },
  {
   "cell_type": "code",
   "execution_count": 15,
   "metadata": {
    "tags": [
     "hide_cell"
    ]
   },
   "outputs": [
    {
     "name": "stdout",
     "output_type": "stream",
     "text": [
      "The value of W is 0.8543360233306885, p=1.7206295055416376e-08\n"
     ]
    },
    {
     "data": {
      "application/papermill.record/image/png": "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\n",
      "application/papermill.record/text/plain": "<Figure size 1440x432 with 2 Axes>"
     },
     "metadata": {
      "scrapbook": {
       "mime_prefix": "application/papermill.record/",
       "name": "exp3_fig"
      }
     },
     "output_type": "display_data"
    },
    {
     "data": {
      "image/png": "[encoded data removed]",
      "text/plain": [
       "<Figure size 1440x432 with 2 Axes>"
      ]
     },
     "metadata": {
      "needs_background": "light"
     },
     "output_type": "display_data"
    }
   ],
   "source": [
    "fig, ax = plt.subplots(1,2, figsize=(20,6))\n",
    "ax = ax.ravel()\n",
    "\n",
    "heavy_tailed_data = np.concatenate((np.random.normal(0,1,80), np.random.normal(1,5,20)))\n",
    "sns.histplot(heavy_tailed_data,kde=False,ax=ax[0])\n",
    "\n",
    "sm.qqplot(heavy_tailed_data, ax=ax[1])\n",
    "\n",
    "W, p=stats.shapiro(x=heavy_tailed_data)\n",
    "\n",
    "print(f\"The value of W is {W}, p={p}\")\n",
    "glue(\"exp3_fig\",fig,display=False)"
   ]
  },
  {
   "cell_type": "markdown",
   "metadata": {},
   "source": [
    "```{glue:figure} exp3_fig\n",
    ":figwidth: 650px\n",
    ":name: \"fig:exp3\"\n",
    "\n",
    "Histogram of `heavy_tailed_data`, a normal (0,1) distributed sample with 80 observations mixed with 20 samples from N(1,5).  A normal QQ plot of the same data.\n",
    "```\n"
   ]
  },
  {
   "cell_type": "markdown",
   "metadata": {},
   "source": [
    "\n",
    "## Testing non-normal data with Wilcoxon tests\n",
    "\n",
    "Okay, suppose your data turn out to be pretty substantially non-normal, but you still want to run something like a $t$-test? This situation occurs a lot in real life.  And this is the situation where you want to use Wilcoxon tests. \n",
    "\n",
    "Like the $t$-test, the Wilcoxon test comes in two forms, one-sample and two-sample, and they're used in more or less the exact same situations as the corresponding $t$-tests. Unlike the $t$-test, the Wilcoxon test doesn't assume normality, which is nice. In fact, they don't make any assumptions about what kind of distribution is involved: in statistical jargon, this makes them **_nonparametric tests_**. While avoiding the normality assumption is nice, there's a drawback: the Wilcoxon test is usually less powerful than the $t$-test (i.e., higher Type II error rate). I won't discuss the Wilcoxon tests in as much detail as the $t$-tests, but I'll give you a brief overview."
   ]
  },
  {
   "cell_type": "markdown",
   "metadata": {},
   "source": [
    "### Two sample Wilcoxon test\n",
    "\n",
    "I'll start by describing the **_two sample Wilcoxon test_** (also known as the Mann-Whitney test), since it's actually simpler than the one sample version. Suppose we're looking at the scores of 10 people on some test. Since my imagination has now failed me completely, let's pretend it's a \"test of awesomeness\", and there are two groups of people, \"A\" and \"B\". I'm curious to know which group is more awesome. The data are included in the file `awesome.csv`, and like many of the data sets I've been using, it contains only a single data frame, in this case called `awesome`. Here's the data:"
   ]
  },
  {
   "cell_type": "code",
   "execution_count": 16,
   "metadata": {},
   "outputs": [
    {
     "data": {
      "text/html": [
       "<div>\n",
       "<style scoped>\n",
       "    .dataframe tbody tr th:only-of-type {\n",
       "        vertical-align: middle;\n",
       "    }\n",
       "\n",
       "    .dataframe tbody tr th {\n",
       "        vertical-align: top;\n",
       "    }\n",
       "\n",
       "    .dataframe thead th {\n",
       "        text-align: right;\n",
       "    }\n",
       "</style>\n",
       "<table border=\"1\" class=\"dataframe\">\n",
       "  <thead>\n",
       "    <tr style=\"text-align: right;\">\n",
       "      <th></th>\n",
       "      <th>scores</th>\n",
       "      <th>group</th>\n",
       "    </tr>\n",
       "  </thead>\n",
       "  <tbody>\n",
       "    <tr>\n",
       "      <th>1</th>\n",
       "      <td>6.4</td>\n",
       "      <td>A</td>\n",
       "    </tr>\n",
       "    <tr>\n",
       "      <th>2</th>\n",
       "      <td>10.7</td>\n",
       "      <td>A</td>\n",
       "    </tr>\n",
       "    <tr>\n",
       "      <th>3</th>\n",
       "      <td>11.9</td>\n",
       "      <td>A</td>\n",
       "    </tr>\n",
       "    <tr>\n",
       "      <th>4</th>\n",
       "      <td>7.3</td>\n",
       "      <td>A</td>\n",
       "    </tr>\n",
       "    <tr>\n",
       "      <th>5</th>\n",
       "      <td>10.0</td>\n",
       "      <td>A</td>\n",
       "    </tr>\n",
       "    <tr>\n",
       "      <th>6</th>\n",
       "      <td>14.5</td>\n",
       "      <td>B</td>\n",
       "    </tr>\n",
       "    <tr>\n",
       "      <th>7</th>\n",
       "      <td>10.4</td>\n",
       "      <td>B</td>\n",
       "    </tr>\n",
       "    <tr>\n",
       "      <th>8</th>\n",
       "      <td>12.9</td>\n",
       "      <td>B</td>\n",
       "    </tr>\n",
       "    <tr>\n",
       "      <th>9</th>\n",
       "      <td>11.7</td>\n",
       "      <td>B</td>\n",
       "    </tr>\n",
       "    <tr>\n",
       "      <th>10</th>\n",
       "      <td>13.0</td>\n",
       "      <td>B</td>\n",
       "    </tr>\n",
       "  </tbody>\n",
       "</table>\n",
       "</div>"
      ],
      "text/plain": [
       "    scores group\n",
       "1      6.4     A\n",
       "2     10.7     A\n",
       "3     11.9     A\n",
       "4      7.3     A\n",
       "5     10.0     A\n",
       "6     14.5     B\n",
       "7     10.4     B\n",
       "8     12.9     B\n",
       "9     11.7     B\n",
       "10    13.0     B"
      ]
     },
     "execution_count": 16,
     "metadata": {},
     "output_type": "execute_result"
    }
   ],
   "source": [
    "awesome_df=pd.read_csv('http://gureckislab.org/courses/fall19/labincp/data/awesome.csv',index_col=0)\n",
    "awesome_df"
   ]
  },
  {
   "cell_type": "markdown",
   "metadata": {},
   "source": [
    "As long as there are no ties (i.e., people with the exact same awesomeness score), then the test that we want to do is surprisingly simple. All we have to do is construct a table that compares every observation in group $A$ against every observation in group $B$. Whenever the group $A$ datum is larger, we place a check mark in the table.\n",
    "\n",
    "We then count up the number of checkmarks. This is our test statistic, $W$. (Actually, there are two different versions of the test statistic; they differ from each other by a constant value. The version that I've described is the one that Python calculates.) The actual sampling distribution for $W$ is somewhat complicated, and I'll skip the details. For our purposes, it's sufficient to note that the interpretation of $W$ is qualitatively the same as the interpretation of $t$ or $z$. That is, if we want a two-sided test, then we reject the null hypothesis when $W$ is very large or very small; but if we have a directional (i.e., one-sided) hypothesis, then we only use one or the other. \n",
    "\n",
    "The test to do this in pingouin is named for the Mann-Whitney version of the test (`mwu()`).  This it the non-parametric version of the independent t-test:"
   ]
  },
  {
   "cell_type": "code",
   "execution_count": 18,
   "metadata": {},
   "outputs": [
    {
     "data": {
      "text/html": [
       "<div>\n",
       "<style scoped>\n",
       "    .dataframe tbody tr th:only-of-type {\n",
       "        vertical-align: middle;\n",
       "    }\n",
       "\n",
       "    .dataframe tbody tr th {\n",
       "        vertical-align: top;\n",
       "    }\n",
       "\n",
       "    .dataframe thead th {\n",
       "        text-align: right;\n",
       "    }\n",
       "</style>\n",
       "<table border=\"1\" class=\"dataframe\">\n",
       "  <thead>\n",
       "    <tr style=\"text-align: right;\">\n",
       "      <th></th>\n",
       "      <th>U-val</th>\n",
       "      <th>tail</th>\n",
       "      <th>p-val</th>\n",
       "      <th>RBC</th>\n",
       "      <th>CLES</th>\n",
       "    </tr>\n",
       "  </thead>\n",
       "  <tbody>\n",
       "    <tr>\n",
       "      <th>MWU</th>\n",
       "      <td>3.0</td>\n",
       "      <td>two-sided</td>\n",
       "      <td>0.060103</td>\n",
       "      <td>0.76</td>\n",
       "      <td>0.88</td>\n",
       "    </tr>\n",
       "  </tbody>\n",
       "</table>\n",
       "</div>"
      ],
      "text/plain": [
       "     U-val       tail     p-val   RBC  CLES\n",
       "MWU    3.0  two-sided  0.060103  0.76  0.88"
      ]
     },
     "execution_count": 18,
     "metadata": {},
     "output_type": "execute_result"
    }
   ],
   "source": [
    "group1=awesome_df.groupby('group').get_group('A').scores\n",
    "group2=awesome_df.groupby('group').get_group('B').scores\n",
    "pg.mwu(x=group1, y=group2, tail='two-sided')"
   ]
  },
  {
   "cell_type": "markdown",
   "metadata": {},
   "source": [
    "The structure of the `mwu()` function should feel very familiar to you by now and is exactly like the pingouin `ttest()`.  Just like we saw with the `ttest()` function, there is an `tail` argument that you can use to switch between two-sided tests and one-sided tests.\n",
    "\n",
    "The paired version of the test is called the Wilcoxon test and is provided by the `wilcoxon()` function in pinouin.  It is otherwise called the same way."
   ]
  },
  {
   "cell_type": "code",
   "execution_count": 206,
   "metadata": {},
   "outputs": [
    {
     "name": "stderr",
     "output_type": "stream",
     "text": [
      "/Users/gureckis/.virtualenvs/science/lib/python3.7/site-packages/scipy/stats/morestats.py:2863: UserWarning: Sample size too small for normal approximation.\n",
      "  warnings.warn(\"Sample size too small for normal approximation.\")\n"
     ]
    },
    {
     "data": {
      "text/html": [
       "<div>\n",
       "<style scoped>\n",
       "    .dataframe tbody tr th:only-of-type {\n",
       "        vertical-align: middle;\n",
       "    }\n",
       "\n",
       "    .dataframe tbody tr th {\n",
       "        vertical-align: top;\n",
       "    }\n",
       "\n",
       "    .dataframe thead th {\n",
       "        text-align: right;\n",
       "    }\n",
       "</style>\n",
       "<table border=\"1\" class=\"dataframe\">\n",
       "  <thead>\n",
       "    <tr style=\"text-align: right;\">\n",
       "      <th></th>\n",
       "      <th>W-val</th>\n",
       "      <th>tail</th>\n",
       "      <th>p-val</th>\n",
       "      <th>RBC</th>\n",
       "      <th>CLES</th>\n",
       "    </tr>\n",
       "  </thead>\n",
       "  <tbody>\n",
       "    <tr>\n",
       "      <th>Wilcoxon</th>\n",
       "      <td>1.0</td>\n",
       "      <td>two-sided</td>\n",
       "      <td>0.105645</td>\n",
       "      <td>-0.867</td>\n",
       "      <td>0.88</td>\n",
       "    </tr>\n",
       "  </tbody>\n",
       "</table>\n",
       "</div>"
      ],
      "text/plain": [
       "          W-val       tail     p-val    RBC  CLES\n",
       "Wilcoxon    1.0  two-sided  0.105645 -0.867  0.88"
      ]
     },
     "execution_count": 206,
     "metadata": {},
     "output_type": "execute_result"
    }
   ],
   "source": [
    "group1=awesome_df.groupby('group').get_group('A').scores\n",
    "group2=awesome_df.groupby('group').get_group('B').scores\n",
    "pg.wilcoxon(x=group1, y=group2, tail='two-sided')"
   ]
  },
  {
   "cell_type": "markdown",
   "metadata": {},
   "source": [
    "Notice that the paired and unpaired versions of the test are slightly different in terms of what p-values you get."
   ]
  },
  {
   "cell_type": "markdown",
   "metadata": {},
   "source": [
    "## Summary\n",
    "\n",
    "- A one sample $t$-test is used to compare a single sample mean against a hypothesised value for the population mean. \n",
    "- An independent samples $t$-test is used to compare the means of two groups, and tests the null hypothesis that they have the same mean. It comes in two forms: the Student test  assumes that the groups have the same standard deviation, the Welch test  does not.\n",
    "- A paired samples $t$-test is used when you have two scores from each person, and you want to test the null hypothesis that the two scores have the same mean. It is equivalent to taking the difference between the two scores for each person, and then running a one sample $t$-test on the difference scores.\n",
    "- Effect size calculations for the difference between means can be calculated via the Cohen's $d$ statistic. \n",
    "- You can check the normality of a sample using QQ plots and the Shapiro-Wilk test. \n",
    "- If your data are non-normal, you can use Wilcoxon tests instead of $t$-tests. "
   ]
  },
  {
   "cell_type": "markdown",
   "metadata": {},
   "source": [
    "## References\n",
    "\n",
    "```{bibliography} ../../references.bib\n",
    ":filter: docname in docnames\n",
    "```"
   ]
  },
  {
   "cell_type": "code",
   "execution_count": null,
   "metadata": {},
   "outputs": [],
   "source": []
  }
 ],
 "metadata": {
  "celltoolbar": "Tags",
  "kernelspec": {
   "display_name": "Python 3",
   "language": "python",
   "name": "python3"
  },
  "toc": {
   "base_numbering": 1,
   "nav_menu": {},
   "number_sections": false,
   "sideBar": true,
   "skip_h1_title": false,
   "title_cell": "Table of Contents",
   "title_sidebar": "Contents",
   "toc_cell": false,
   "toc_position": {},
   "toc_section_display": true,
   "toc_window_display": false
  }
 },
 "nbformat": 4,
 "nbformat_minor": 2
}
