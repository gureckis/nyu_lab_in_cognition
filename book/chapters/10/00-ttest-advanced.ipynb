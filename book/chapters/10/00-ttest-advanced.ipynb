{
 "cells": [
  {
   "cell_type": "code",
   "execution_count": 5,
   "metadata": {
    "tags": [
     "hide_input"
    ]
   },
   "outputs": [],
   "source": [
    "from IPython.core.display import HTML, Markdown, display\n",
    "\n",
    "import numpy.random as npr\n",
    "import numpy as np\n",
    "import pandas as pd\n",
    "import pingouin as pg\n",
    "import seaborn as sns\n",
    "from cycler import cycler\n",
    "import matplotlib.pyplot as plt\n",
    "import scipy.stats as stats\n",
    "import statsmodels.formula.api as smf\n",
    "import ipywidgets as widgets\n",
    "# from matplotlib.patches import Polygon\n",
    "# from matplotlib.gridspec import GridSpec\n",
    "\n",
    "from myst_nb import glue # for the Jupyter book chapter"
   ]
  },
  {
   "cell_type": "markdown",
   "metadata": {},
   "source": [
    "# Comparing two means"
   ]
  },
  {
   "cell_type": "markdown",
   "metadata": {},
   "source": [
    "```{note}\n",
    "This chapter is adapted from Danielle Navarro's excellent [Learning Statistics with R](https://learningstatisticswithr.com) book.  The main text has mainly be left intact with a few modifications, also the code adapted to use python and jupyter.\n",
    "```"
   ]
  },
  {
   "cell_type": "markdown",
   "metadata": {},
   "source": [
    "In many cases in science you will find yourself in a situation where your outcome variable is interval scale or higher, and what you're interested in is whether the average value of the outcome variable is higher in one group or another. For instance, a psychologist might want to know if anxiety levels are higher among parents than non-parents, or if working memory capacity is reduced by listening to music (relative to not listening to music). In a medical context, we might want to know if a new drug increases or decreases blood pressure. An agricultural scientist might want to know whether adding phosphorus to Australian native plants will kill them. In all these situations, our outcome variable is a fairly continuous, interval or ratio scale variable; and our predictor is a binary \"grouping\" variable. In other words, we want to compare the means of the two groups. "
   ]
  },
  {
   "cell_type": "markdown",
   "metadata": {
    "tags": [
     "popout"
    ]
   },
   "source": [
    "Informal experimentation in my garden suggests that yes, it does. Australian natives are adapted to low phosphorus levels relative to everywhere else on Earth, apparently, so if you've bought a house with a bunch of exotics and you want to plant natives, don't follow my example: keep them separate. Nutrients to European plants are poison to Australian ones. There's probably a joke in that, but I can't figure out what it is."
   ]
  },
  {
   "cell_type": "markdown",
   "metadata": {},
   "source": [
    "The standard answer to the problem of comparing means is to use a $t$-test, of which there are several varieties depending on exactly what question you want to solve. As a consequence, the majority of this chapter focuses on different types of $t$-test: one sample $t$-tests are discussed in Section \\@ref(onesamplettest), independent samples $t$-tests are discussed in Sections \\@ref(studentttest) and \\@ref(welchttest), and paired samples $t$-tests are discussed in Section \\@ref(pairedsamplesttest). After that, we'll talk a bit about Cohen's $d$, which is the standard measure of effect size for a $t$-test (Section \\@ref(cohensd)). The later sections of the chapter focus on the assumptions of the $t$-tests, and possible remedies if they are violated. However, before discussing any of these useful things, we'll start with a discussion of the $z$-test. "
   ]
  },
  {
   "cell_type": "markdown",
   "metadata": {},
   "source": [
    "## The one-sample $z$-test\n",
    "\n",
    "In this section I'll describe one of the most useless tests in all of statistics: the **_$z$-test_**. Seriously -- this test is almost never used in real life. Its only real purpose is that, when teaching statistics, it's a very convenient stepping stone along the way towards the $t$-test, which is probably the most (over)used tool in all statistics."
   ]
  },
  {
   "cell_type": "markdown",
   "metadata": {},
   "source": [
    "### The inference problem that the test addresses\n",
    "\n",
    "To introduce the idea behind the $z$-test, let's use a simple example. A friend of mine, Dr Zeppo, grades his introductory statistics class on a curve. Let's suppose that the average grade in his class is 67.5, and the standard deviation is 9.5. Of his many hundreds of students, it turns out that 20 of them also take psychology classes. Out of curiosity, I find myself wondering: do the psychology students tend to get the same grades as everyone else (i.e., mean 67.5) or do they tend to score higher or lower? He emails me the `zeppo.csv` file, which I use to pull up the `grades` of those students, "
   ]
  },
  {
   "cell_type": "code",
   "execution_count": 6,
   "metadata": {},
   "outputs": [
    {
     "data": {
      "text/plain": [
       "1     50\n",
       "2     60\n",
       "3     60\n",
       "4     64\n",
       "5     66\n",
       "6     66\n",
       "7     67\n",
       "8     69\n",
       "9     70\n",
       "10    74\n",
       "11    76\n",
       "12    76\n",
       "13    77\n",
       "14    79\n",
       "15    79\n",
       "16    79\n",
       "17    81\n",
       "18    82\n",
       "19    82\n",
       "20    89\n",
       "Name: grades, dtype: int64"
      ]
     },
     "execution_count": 6,
     "metadata": {},
     "output_type": "execute_result"
    }
   ],
   "source": [
    "zeppo_df=pd.read_csv('http://gureckislab.org/courses/fall19/labincp/data/zeppo.csv',index_col=0)\n",
    "zeppo_df.columns=[\"grades\"]\n",
    "zeppo_df.grades"
   ]
  },
  {
   "cell_type": "markdown",
   "metadata": {},
   "source": [
    "and calculate the mean:"
   ]
  },
  {
   "cell_type": "code",
   "execution_count": 14,
   "metadata": {},
   "outputs": [
    {
     "data": {
      "text/plain": [
       "72.3"
      ]
     },
     "execution_count": 14,
     "metadata": {},
     "output_type": "execute_result"
    }
   ],
   "source": [
    "zeppo_df.grades.mean()"
   ]
  },
  {
   "cell_type": "markdown",
   "metadata": {},
   "source": [
    "Hm. It *might* be that the psychology students are scoring a bit higher than normal: that sample mean of $\\bar{X} = 72.3$ is a fair bit higher than the hypothesised population mean of $\\mu = 67.5$, but on the other hand, a sample size of $N = 20$ isn't all that big. Maybe it's pure chance. \n",
    "\n",
    "To answer the question, it helps to be able to write down what it is that I think I know. Firstly, I know that the sample mean is $\\bar{X} = 72.3$. If I'm willing to assume that the psychology students have the same standard deviation as the rest of the class then I can say that the population standard deviation is $\\sigma = 9.5$. I'll also assume that since Dr Zeppo is grading to a curve, the psychology student grades are normally distributed. \n",
    "\n",
    "Next, it helps to be clear about what I want to learn from the data. In this case, my research hypothesis relates to the *population* mean $\\mu$ for the psychology student grades, which is unknown. Specifically, I want to know if $\\mu = 67.5$ or not. Given that this is what I know, can we devise a hypothesis test to solve our problem? The data, along with the hypothesised distribution from which they are thought to arise, are shown in Figure 1. Not entirely obvious what the right answer is, is it? For this, we are going to need some statistics."
   ]
  },
  {
   "cell_type": "code",
   "execution_count": 11,
   "metadata": {
    "tags": [
     "hide_cell"
    ]
   },
   "outputs": [
    {
     "data": {
      "application/papermill.record/image/png": "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\n",
      "application/papermill.record/text/plain": "<Figure size 360x360 with 1 Axes>"
     },
     "metadata": {
      "scrapbook": {
       "mime_prefix": "application/papermill.record/",
       "name": "zeppo_fig"
      }
     },
     "output_type": "display_data"
    },
    {
     "data": {
      "image/png": "[encoded data removed]",
      "text/plain": [
       "<Figure size 360x360 with 1 Axes>"
      ]
     },
     "metadata": {
      "needs_background": "light"
     },
     "output_type": "display_data"
    }
   ],
   "source": [
    "fig=sns.displot(zeppo_df.grades,bins=np.arange(31,101,5),kde=False)\n",
    "\n",
    "x=np.arange(20,101)\n",
    "y=stats.norm.pdf(x,67.5,9.5)\n",
    "plt.plot(x,y*100)  # just for display purposes scaling the size of the normal distribution\n",
    "#plt.show()\n",
    "\n",
    "glue(\"zeppo_fig\",fig.fig,display=False)"
   ]
  },
  {
   "cell_type": "markdown",
   "metadata": {},
   "source": [
    "```{glue:figure} zeppo_fig\n",
    ":figwidth: 550px\n",
    ":name: \"fig:zeppo\"\n",
    "\n",
    "The theoretical distribution (solid line) from which the psychology student grades (grey bars) are supposed to have been generated.\n",
    "```"
   ]
  },
  {
   "cell_type": "markdown",
   "metadata": {},
   "source": [
    "### Constructing the hypothesis test\n",
    "\n",
    "The first step in constructing a hypothesis test is to be clear about what the null and alternative hypotheses are. This isn't too hard to do. Our null hypothesis, $H_0$, is that the true population mean $\\mu$ for psychology student grades is 67.5\\%; and our alternative hypothesis is that the population mean *isn't* 67.5\\%. If we write this in mathematical notation, these hypotheses become,\n",
    "$\n",
    "\\begin{array}{ll}\n",
    "H_0: & \\mu = 67.5 \\\\\n",
    "H_1: & \\mu \\neq 67.5\n",
    "\\end{array}\n",
    "$\n",
    "though to be honest this notation doesn't add much to our understanding of the problem, it's just a compact way of writing down what we're trying to learn from the data. The null hypotheses $H_0$ and the alternative hypothesis $H_1$ for our test are both illustrated in Figure 2. In addition to providing us with these hypotheses, the scenario outlined above provides us with a fair amount of background knowledge that might be useful. Specifically, there are two special pieces of information that we can add:\n",
    "\n",
    "1. The psychology grades are normally distributed.\n",
    "1. The true standard deviation of these scores $\\sigma$ is known to be 9.5.\n",
    "\n",
    "For the moment, we'll act as if these are absolutely trustworthy facts. In real life, this kind of absolutely trustworthy background knowledge doesn't exist, and so if we want to rely on these facts we'll just have make the *assumption* that these things are true. However, since these assumptions may or may not be warranted, we might need to check them. For now though, we'll keep things simple."
   ]
  },
  {
   "cell_type": "code",
   "execution_count": 199,
   "metadata": {
    "tags": [
     "hide_input",
     "full_width"
    ]
   },
   "outputs": [
    {
     "data": {
      "image/png": "[encoded data removed]",
      "text/plain": [
       "<Figure size 1440x432 with 2 Axes>"
      ]
     },
     "metadata": {},
     "output_type": "display_data"
    },
    {
     "data": {
      "text/html": [
       "<div class=\"alert alert-info\" role=\"alert\"><b>Figure 2.0</b>. Graphical illustration of the null and alternative hypotheses assumed by the one sample $z$-test (the two sided version, that is). The null and alternative hypotheses both assume that the population distribution is normal, and additionally assumes that the population standard deviation is known (fixed at some value $\\sigma_0$). The null hypothesis (left) is that the population mean $\\mu$ is equal to some specified value $\\mu_0$. The alternative hypothesis is that the population mean differs from this value, $\\mu \\neq \\mu_0$.</div>"
      ],
      "text/plain": [
       "<__main__.Caption at 0x12a7d7898>"
      ]
     },
     "metadata": {},
     "output_type": "display_data"
    }
   ],
   "source": [
    "fix, ax = plt.subplots(1,2,figsize=(20,6))\n",
    "\n",
    "\n",
    "x = np.linspace(-5,30,100)\n",
    "x2 = np.linspace(-5,30,100)\n",
    "y=stats.norm.pdf(x, 12,3.5)\n",
    "y2=stats.norm.pdf(x2,15,3.5)\n",
    "\n",
    "ax[0].plot(x,y)\n",
    "ax[0].set_ylabel(\"probability\")\n",
    "ax[0].set_xlabel(\"value of X\")\n",
    "ax[0].set_title(\"null hypothesis\")\n",
    "ax[0].set_ylim(0,0.13)\n",
    "ax[0].fill_between(x,y, where=y>0.0,interpolate=True,facecolor='lightblue',alpha=0.2)\n",
    "ax[0].plot([12,12],[0,0.113],color='k')\n",
    "ax[0].plot([8,12],[0.06,0.06],color='r')\n",
    "ax[0].set_xticklabels([])\n",
    "ax[0].set_yticklabels([])\n",
    "ax[0].annotate(\"$\\sigma$ = $\\sigma_0$\", xy=(2,0.06),xytext=(2,0.06))\n",
    "ax[0].annotate(\"$\\mu$ = $\\mu_0$\", xy=(10,0.12),xytext=(10,0.12))\n",
    "\n",
    "\n",
    "\n",
    "\n",
    "\n",
    "ax[1].plot(x,y)\n",
    "ax[1].set_ylabel(\"probability\")\n",
    "ax[1].set_xlabel(\"value of X\")\n",
    "ax[1].set_title(\"alternative hypothesis\")\n",
    "ax[1].set_ylim(0,0.13)\n",
    "ax[1].fill_between(x,y, where=y>0.0,interpolate=True,facecolor='lightblue',alpha=0.2)\n",
    "ax[1].plot([8,12],[0.06,0.06],color='r')\n",
    "ax[1].plot([18,18],[0,0.113],color='k')\n",
    "ax[1].annotate(\"$\\sigma$ = $\\sigma_0$\", xy=(2,0.06),xytext=(2,0.06))\n",
    "ax[1].annotate(\"$\\mu$ = $\\mu_0$\", xy=(16,0.12),xytext=(16,0.12))\n",
    "ax[1].set_xticklabels([])\n",
    "ax[1].set_yticklabels([])\n",
    "\n",
    "sns.despine(top=True, right=True)\n",
    "\n",
    "plt.show()\n",
    "display(Caption(2.0, \"Graphical illustration of the null and alternative hypotheses assumed by the one sample $z$-test (the two sided version, that is). The null and alternative hypotheses both assume that the population distribution is normal, and additionally assumes that the population standard deviation is known (fixed at some value $\\\\sigma_0$). The null hypothesis (left) is that the population mean $\\\\mu$ is equal to some specified value $\\\\mu_0$. The alternative hypothesis is that the population mean differs from this value, $\\\\mu \\\\neq \\\\mu_0$.\"))"
   ]
  },
  {
   "cell_type": "markdown",
   "metadata": {},
   "source": [
    "The next step is to figure out what we would be a good choice for a diagnostic test statistic; something that would help us discriminate between $H_0$ and $H_1$. Given that the hypotheses all refer to the population mean $\\mu$, you'd feel pretty confident that the sample mean $\\bar{X}$ would be a pretty useful place to start. What we could do, is look at the difference between the sample mean $\\bar{X}$ and the value that the null hypothesis predicts for the population mean. In our example, that would mean we calculate $\\bar{X} - 67.5$. More generally, if we let $\\mu_0$ refer to the value that the null hypothesis claims is our population mean, then we'd want to calculate\n",
    "$\n",
    "\\bar{X} - \\mu_0\n",
    "$\n",
    "If this quantity equals or is very close to 0, things are looking good for the null hypothesis. If this quantity is a long way away from 0, then it's looking less likely that the null hypothesis is worth retaining. But how far away from zero should it be for us to reject $H_0$? \n",
    "\n",
    "To figure that out, we need to be a bit more sneaky, and we'll need to rely on those two pieces of background knowledge that I wrote down previously, namely that the raw data are normally distributed, and we know the value of the population standard deviation $\\sigma$. If the null hypothesis is actually true, and the true mean is $\\mu_0$, then these facts together mean that we know the complete population distribution of the data: a normal distribution with mean $\\mu_0$ and standard deviation $\\sigma$. Adopting the notation from Section \\@ref(normal), a statistician might write this as:\n",
    "$\n",
    "X \\sim \\mbox{Normal}(\\mu_0,\\sigma^2)\n",
    "$\n",
    "\n",
    "\n",
    "\n",
    "Okay, if that's true, then what can we say about the distribution of $\\bar{X}$? Well, as we discussed earlier (see Section \\@ref(clt)), the sampling distribution of the mean $\\bar{X}$ is also normal, and has mean $\\mu$. But the standard deviation of this sampling distribution $\\mbox{SE}({\\bar{X}})$, which is called the *standard error of the mean*, is\n",
    "$\n",
    "\\mbox{SE}({\\bar{X}}) = \\frac{\\sigma}{\\sqrt{N}}\n",
    "$\n",
    "In other words, if the null hypothesis is true then the sampling distribution of the mean can be written as follows:\n",
    "$\n",
    "\\bar{X} \\sim \\mbox{Normal}(\\mu_0,\\mbox{SE}({\\bar{X}}))\n",
    "$\n",
    "Now comes the trick. What we can do is convert the sample mean $\\bar{X}$ into a standard score (Section \\@ref(zscore)). This is conventionally written as $z$, but for now I'm going to refer to it as $z_{\\bar{X}}$. (The reason for using this expanded notation is to help you remember that we're calculating standardised version of a sample mean, *not* a standardised version of a single observation, which is what a $z$-score usually refers to). When we do so, the $z$-score for our sample mean is \n",
    "$\n",
    "z_{\\bar{X}} = \\frac{\\bar{X} - \\mu_0}{\\mbox{SE}({\\bar{X}})}\n",
    "$\n",
    "or, equivalently\n",
    "$\n",
    "z_{\\bar{X}} =  \\frac{\\bar{X} - \\mu_0}{\\sigma / \\sqrt{N}}\n",
    "$\n",
    "This $z$-score is our test statistic. The nice thing about using this as our test statistic is that like all $z$-scores, it has a standard normal distribution:\n",
    "$\n",
    "z_{\\bar{X}} \\sim \\mbox{Normal}(0,1)\n",
    "$\n",
    "(again, see Section \\@ref(zscore) if you've forgotten why this is true). In other words, regardless of what scale the original data are on, the $z$-statistic iteself always has the same interpretation: it's equal to the number of standard errors that separate the observed sample mean $\\bar{X}$ from the population mean $\\mu_0$ predicted by the null hypothesis. Better yet, regardless of what the population parameters for the raw scores actually are, the 5\\% critical regions for $z$-test are always the same, as illustrated in Figures \\@ref(fig:ztest1) and \\@ref(fig:ztest2). And what this meant, way back in the days where people did all their statistics by hand, is that someone could publish a table like this:"
   ]
  },
  {
   "cell_type": "code",
   "execution_count": 112,
   "metadata": {},
   "outputs": [
    {
     "data": {
      "text/html": [
       "<div>\n",
       "<style scoped>\n",
       "    .dataframe tbody tr th:only-of-type {\n",
       "        vertical-align: middle;\n",
       "    }\n",
       "\n",
       "    .dataframe tbody tr th {\n",
       "        vertical-align: top;\n",
       "    }\n",
       "\n",
       "    .dataframe thead th {\n",
       "        text-align: right;\n",
       "    }\n",
       "</style>\n",
       "<table border=\"1\" class=\"dataframe\">\n",
       "  <thead>\n",
       "    <tr style=\"text-align: right;\">\n",
       "      <th></th>\n",
       "      <th>desired alpha level</th>\n",
       "      <th>two-sided test</th>\n",
       "      <th>one-sided test</th>\n",
       "    </tr>\n",
       "  </thead>\n",
       "  <tbody>\n",
       "    <tr>\n",
       "      <th>0</th>\n",
       "      <td>0.100</td>\n",
       "      <td>1.644854</td>\n",
       "      <td>1.281552</td>\n",
       "    </tr>\n",
       "    <tr>\n",
       "      <th>1</th>\n",
       "      <td>0.050</td>\n",
       "      <td>1.959964</td>\n",
       "      <td>1.644854</td>\n",
       "    </tr>\n",
       "    <tr>\n",
       "      <th>2</th>\n",
       "      <td>0.010</td>\n",
       "      <td>2.575829</td>\n",
       "      <td>2.326348</td>\n",
       "    </tr>\n",
       "    <tr>\n",
       "      <th>3</th>\n",
       "      <td>0.001</td>\n",
       "      <td>3.290527</td>\n",
       "      <td>3.090232</td>\n",
       "    </tr>\n",
       "  </tbody>\n",
       "</table>\n",
       "</div>"
      ],
      "text/plain": [
       "   desired alpha level  two-sided test  one-sided test\n",
       "0                0.100        1.644854        1.281552\n",
       "1                0.050        1.959964        1.644854\n",
       "2                0.010        2.575829        2.326348\n",
       "3                0.001        3.290527        3.090232"
      ]
     },
     "execution_count": 112,
     "metadata": {},
     "output_type": "execute_result"
    }
   ],
   "source": [
    "pd.DataFrame({\"desired alpha level\": [.1, 0.05, 0.01, 0.001], \"two-sided test\": [1.644854,1.959964,2.575829,3.290527],\"one-sided test\":[1.281552,1.644854,2.326348,3.090232]})"
   ]
  },
  {
   "cell_type": "markdown",
   "metadata": {},
   "source": [
    "which in turn meant that researchers could calculate their $z$-statistic by hand, and then look up the critical value in a text book.  That was an incredibly handy thing to be able to do back then, but it's kind of unnecessary these days, since it's trivially easy to do it with software like R."
   ]
  },
  {
   "cell_type": "code",
   "execution_count": 140,
   "metadata": {
    "tags": [
     "hide_input"
    ]
   },
   "outputs": [
    {
     "data": {
      "image/png": "[encoded data removed]",
      "text/plain": [
       "<Figure size 720x432 with 1 Axes>"
      ]
     },
     "metadata": {
      "needs_background": "light"
     },
     "output_type": "display_data"
    },
    {
     "data": {
      "text/html": [
       "<div class=\"alert alert-info\" role=\"alert\"><b>Figure 3.0</b>. Rejection regions for the two-sided $z$-test</div>"
      ],
      "text/plain": [
       "<__main__.Caption at 0x12a78a550>"
      ]
     },
     "metadata": {},
     "output_type": "display_data"
    }
   ],
   "source": [
    "fix, ax = plt.subplots(1,1,figsize=(10,6))\n",
    "\n",
    "\n",
    "x=np.linspace(-3.5,3.5,100)\n",
    "y=stats.norm.pdf(x,0,1.0)\n",
    "\n",
    "ax.plot(x,y)\n",
    "ax.set_ylabel(\"probability\")\n",
    "ax.set_xlabel(\"value of z statistic\")\n",
    "ax.set_title(\"Two Sided Test\")\n",
    "#ax.set_ylim(0,0.5)\n",
    "#ax.set_xlim(-3,3)\n",
    "ax.fill_between(x,y,where=x<-1.96,interpolate=True,facecolor='lightblue',alpha=0.2,hatch='/',edgecolor='b')\n",
    "ax.fill_between(x,y,where=x>1.96,interpolate=True,facecolor='lightblue',alpha=0.2,hatch='/',edgecolor='b')\n",
    "ax.set_xticks([-1.96, 0, 1.96])\n",
    "#ax.set_yticklabels([])\n",
    "\n",
    "\n",
    "sns.despine(top=True, right=True, left=True)\n",
    "\n",
    "plt.show()\n",
    "display(Caption(3.0, \"Rejection regions for the two-sided $z$-test\"))"
   ]
  },
  {
   "cell_type": "code",
   "execution_count": 159,
   "metadata": {
    "tags": [
     "hide_input"
    ]
   },
   "outputs": [
    {
     "data": {
      "image/png": "[encoded data removed]",
      "text/plain": [
       "<Figure size 720x432 with 1 Axes>"
      ]
     },
     "metadata": {
      "needs_background": "light"
     },
     "output_type": "display_data"
    },
    {
     "data": {
      "text/html": [
       "<div class=\"alert alert-info\" role=\"alert\"><b>Figure 4.0</b>. Rejection regions for the two-sided $z$-test</div>"
      ],
      "text/plain": [
       "<__main__.Caption at 0x12abe8ba8>"
      ]
     },
     "metadata": {},
     "output_type": "display_data"
    }
   ],
   "source": [
    "fix, ax = plt.subplots(1,1,figsize=(10,6))\n",
    "\n",
    "\n",
    "x=np.linspace(-3.5,3.5,100)\n",
    "y=stats.norm.pdf(x,0,1.0)\n",
    "\n",
    "ax.plot(x,y)\n",
    "ax.set_ylabel(\"probability\")\n",
    "ax.set_xlabel(\"value of z statistic\")\n",
    "ax.set_title(\"One Sided Test\")\n",
    "ax.fill_between(x,y,where=x>1.64,interpolate=True,facecolor='lightblue',alpha=0.2,hatch='/',edgecolor='b')\n",
    "ax.set_xticks([0, 1.64])\n",
    "#ax.set_yticklabels([])\n",
    "\n",
    "\n",
    "sns.despine(top=True, right=True, left=True)\n",
    "\n",
    "plt.show()\n",
    "display(Caption(4.0, \"Rejection regions for the two-sided $z$-test\"))"
   ]
  },
  {
   "cell_type": "markdown",
   "metadata": {},
   "source": [
    "### A worked example using Python\n",
    "\n",
    "Now, as I mentioned earlier, the $z$-test is almost never used in practice.  There is a function called [ztest](https://www.statsmodels.org/stable/generated/statsmodels.stats.weightstats.ztest.html) in statsmodels.  However, the test is so incredibly simple that it's really easy to do one manually. Let's go back to the data from Dr Zeppo's class. Having loaded the `grades` data, the first thing I need to do is calculate the sample mean:"
   ]
  },
  {
   "cell_type": "code",
   "execution_count": 4,
   "metadata": {},
   "outputs": [
    {
     "name": "stdout",
     "output_type": "stream",
     "text": [
      "72.3\n"
     ]
    }
   ],
   "source": [
    "zeppo_df=pd.read_csv('http://gureckislab.org/courses/fall19/labincp/data/zeppo.csv',index_col=0)\n",
    "zeppo_df.columns=[\"grades\"]\n",
    "sample_mean = zeppo_df.grades.mean()\n",
    "print(sample_mean)"
   ]
  },
  {
   "cell_type": "markdown",
   "metadata": {},
   "source": [
    "Then, I create variables corresponding to known population standard deviation ($\\sigma = 9.5$), and the value of the population mean that the null hypothesis specifies ($\\mu_0 = 67.5$):"
   ]
  },
  {
   "cell_type": "code",
   "execution_count": 144,
   "metadata": {},
   "outputs": [],
   "source": [
    "mu_null = 67.5\n",
    "sd_true = 9.5 "
   ]
  },
  {
   "cell_type": "markdown",
   "metadata": {},
   "source": [
    "Let's also create a variable for the sample size. We could count up the number of observations ourselves, and type `N <- 20` at the command prompt, but counting is tedious and repetitive. Let's get R to do the tedious repetitive bit by using the `length()` function, which tells us how many elements there are in a vector:"
   ]
  },
  {
   "cell_type": "code",
   "execution_count": 146,
   "metadata": {},
   "outputs": [
    {
     "name": "stdout",
     "output_type": "stream",
     "text": [
      "20\n"
     ]
    }
   ],
   "source": [
    "N = len( zeppo_df.grades )\n",
    "print( N )"
   ]
  },
  {
   "cell_type": "markdown",
   "metadata": {},
   "source": [
    "Next, let's calculate the (true) standard error of the mean:"
   ]
  },
  {
   "cell_type": "code",
   "execution_count": 149,
   "metadata": {},
   "outputs": [
    {
     "name": "stdout",
     "output_type": "stream",
     "text": [
      "2.1242645786248002\n"
     ]
    }
   ],
   "source": [
    "sem_true = sd_true / np.sqrt(N)\n",
    "print(sem_true)"
   ]
  },
  {
   "cell_type": "markdown",
   "metadata": {},
   "source": [
    "And finally, we calculate our $z$-score:"
   ]
  },
  {
   "cell_type": "code",
   "execution_count": 151,
   "metadata": {},
   "outputs": [
    {
     "name": "stdout",
     "output_type": "stream",
     "text": [
      "2.259605535157681\n"
     ]
    }
   ],
   "source": [
    "z_score = (sample_mean - mu_null) / sem_true\n",
    "print( z_score )"
   ]
  },
  {
   "cell_type": "markdown",
   "metadata": {},
   "source": [
    "At this point, we would traditionally look up the value 2.26 in our table of critical values. Our original hypothesis was two-sided (we didn't really have any theory about whether psych students would be better or worse at statistics than other students) so our hypothesis test is two-sided (or two-tailed) also. Looking at the little table that I showed earlier, we can see that 2.26 is bigger than the critical value of 1.96 that would be required to be significant at $\\alpha = .05$, but smaller than the value of 2.58 that would be required to be significant at a level of $\\alpha = .01$. Therefore, we can conclude that we have a significant effect, which we might write up by saying something like this:\n",
    "\n",
    "> With a mean grade of 73.2 in the sample of psychology students, and assuming a true population standard deviation of 9.5, we can conclude that the psychology students have significantly different statistics scores to the class average ($z = 2.26$, $N=20$, $p<.05$).\n",
    "                                                                                                                                     \n",
    "However, what if want an exact $p$-value? Well, back in the day, the tables of critical values were huge, and so you could look up your actual $z$-value, and find the smallest value of $\\alpha$ for which your data would be significant (which, as discussed earlier, is the very definition of a $p$-value). However, looking things up in books is tedious, and typing things into computers is awesome. So let's do it using python instead. Now, notice that the $\\alpha$ level of a $z$-test (or any other test, for that matter) defines the total area \"under the curve\" for the critical region, right? That is, if we set $\\alpha = .05$ for a two-sided test, then the critical region is set up such that the area under the curve for the critical region is $.05$. And, for the $z$-test, the critical value of 1.96 is chosen that way because the area in the lower tail (i.e., below $-1.96$) is exactly $.025$ and the area under the upper tail (i.e., above $1.96$) is exactly $.025$. So, since our observed $z$-statistic is $2.26$, why not calculate the area under the curve below $-2.26$ or above $2.26$? In R we can calculate this using the `stats.norm.cdf()` function (stands for cumulative density function). For the upper tail:"
   ]
  },
  {
   "cell_type": "code",
   "execution_count": 154,
   "metadata": {},
   "outputs": [
    {
     "name": "stdout",
     "output_type": "stream",
     "text": [
      "0.011922871882469877\n"
     ]
    }
   ],
   "source": [
    "upper_area = 1.0-stats.norm.cdf(z_score)\n",
    "print(upper_area)"
   ]
  },
  {
   "cell_type": "markdown",
   "metadata": {},
   "source": [
    "Notice that I subtract this cdf from 1.0.  This allows me to compute area under the curve from 2.26 *and upwards*. To get the area in the lower tail I just compute the CDF up to the negative of the zscore (the value it would take on the other side of the distribution. There is no need to subtract from 1.0 this time because the CDF calculates from the left up to the z-score you give it."
   ]
  },
  {
   "cell_type": "code",
   "execution_count": 155,
   "metadata": {},
   "outputs": [
    {
     "name": "stdout",
     "output_type": "stream",
     "text": [
      "0.011922871882469896\n"
     ]
    }
   ],
   "source": [
    "lower_area = stats.norm.cdf(-z_score)\n",
    "print(lower_area)"
   ]
  },
  {
   "cell_type": "markdown",
   "metadata": {},
   "source": [
    "Thus we get our $p$-value:"
   ]
  },
  {
   "cell_type": "code",
   "execution_count": 157,
   "metadata": {},
   "outputs": [
    {
     "name": "stdout",
     "output_type": "stream",
     "text": [
      "0.023845743764939774\n"
     ]
    }
   ],
   "source": [
    "p_value = lower_area + upper_area\n",
    "print( p_value )"
   ]
  },
  {
   "cell_type": "markdown",
   "metadata": {},
   "source": [
    "### Assumptions of the $z$-test\n",
    "\n",
    "As I've said before, all statistical tests make assumptions. Some tests make reasonable assumptions, while other tests do not. The test I've just described -- the one sample $z$-test -- makes three basic assumptions.  These are:\n",
    "\n",
    "- *Normality*. As usually described, the $z$-test assumes that the true population distribution is normal.^[Actually this is too strong. Strictly speaking the $z$ test only requires that the sampling distribution of the mean be normally distributed; if the population is normal then it necessarily follows that the sampling distribution of the mean is also normal. However, as we saw when talking about the central limit theorem, it's quite possible (even commonplace) for the sampling distribution to be normal even if the population distribution itself is non-normal. However, in light of the sheer ridiculousness of the assumption that the true standard deviation is known, there really isn't much point in going into details on this front!] is often pretty reasonable, and not only that, it's an assumption that we can check if we feel worried about it (see Section \\@ref(shapiro)). \n",
    "- *Independence*. The second assumption of the test is that the observations in your data set are not correlated with each other, or related to each other in some funny way. This isn't as easy to check statistically: it relies a bit on good experimetal design. An obvious (and stupid) example of something that violates this assumption is a data set where you \"copy\" the same observation over and over again in your data file: so you end up with a massive \"sample size\", consisting of only one genuine observation. More realistically, you have to ask yourself if it's really plausible to imagine that each observation is a completely random sample from the population that you're interested in. In practice, this assumption is never met; but we try our best to design studies that minimise the problems of correlated data. \n",
    "- *Known standard deviation*. The third assumption of the $z$-test is that the true standard deviation of the population is known to the researcher. This is just stupid. In no real world data analysis problem do you know the standard deviation $\\sigma$ of some population, but are completely ignorant about the mean $\\mu$. In other words, this assumption is *always* wrong. \n",
    "\n",
    "In view of the stupidity of assuming that $\\sigma$ is known, let's see if we can live without it. This takes us out of the dreary domain of the $z$-test, and into the magical kingdom of the $t$-test, with unicorns and fairies and leprechauns, and um...\n",
    "\n"
   ]
  },
  {
   "cell_type": "markdown",
   "metadata": {},
   "source": [
    "## The one-sample $t$-test\n",
    "\n",
    "After some thought, I decided that it might not be safe to assume that the psychology student grades necessarily have the same standard deviation as the other students in Dr Zeppo's class. After all, if I'm entertaining the hypothesis that they don't have the same mean, then why should I believe that they absolutely have the same standard deviation? In view of this, I should really stop assuming that I know the true value of $\\sigma$. This violates the assumptions of my $z$-test, so in one sense I'm back to square one. However, it's not like I'm completely bereft of options. After all, I've still got my raw data, and those raw data give me an *estimate* of the population standard deviation:"
   ]
  },
  {
   "cell_type": "code",
   "execution_count": 158,
   "metadata": {},
   "outputs": [
    {
     "data": {
      "text/plain": [
       "9.520614752375915"
      ]
     },
     "execution_count": 158,
     "metadata": {},
     "output_type": "execute_result"
    }
   ],
   "source": [
    "zeppo_df.grades.std()"
   ]
  },
  {
   "cell_type": "markdown",
   "metadata": {},
   "source": [
    "In other words, while I can't say that I know that $\\sigma = 9.5$, I *can* say that $\\hat\\sigma = 9.52$. \n",
    "\n",
    "Okay, cool. The obvious thing that you might think to do is run a $z$-test, but using the estimated standard deviation of 9.52 instead of relying on my assumption that the true standard deviation is 9.5. So, we could just type this new number into python and out would come the answer. And you probably wouldn't be surprised to hear that this would still give us a significant result. This approach is close, but it's not *quite* correct. Because we are now relying on an *estimate* of the population standard deviation, we need to make some adjustment for the fact that we have some uncertainty about what the true population standard deviation actually is. Maybe our data are just a fluke ... maybe the true population standard deviation is 11, for instance. But if that were actually true, and we ran the $z$-test assuming $\\sigma=11$, then the result would end up being *non-significant*. That's a problem, and it's one we're going to have to address."
   ]
  },
  {
   "cell_type": "code",
   "execution_count": 198,
   "metadata": {
    "tags": [
     "hide_input",
     "full_width"
    ]
   },
   "outputs": [
    {
     "data": {
      "image/png": "[encoded data removed]",
      "text/plain": [
       "<Figure size 1440x432 with 2 Axes>"
      ]
     },
     "metadata": {},
     "output_type": "display_data"
    },
    {
     "data": {
      "text/html": [
       "<div class=\"alert alert-info\" role=\"alert\"><b>Figure 5.0</b>. Graphical illustration of the null and alternative hypotheses assumed by the (two sided) one sample $t$-test. Note the similarity to the $z$-test. The null hypothesis is that the population mean $\\mu$ is equal to some specified value $\\mu_0$, and the alternative hypothesis is that it is not. Like the $z$-test, we assume that the data are normally distributed; but we do not assume that the population standard deviation $\\sigma$ is known in advance.</div>"
      ],
      "text/plain": [
       "<__main__.Caption at 0x12bce9748>"
      ]
     },
     "metadata": {},
     "output_type": "display_data"
    }
   ],
   "source": [
    "fix, ax = plt.subplots(1,2,figsize=(20,6))\n",
    "\n",
    "\n",
    "x = np.linspace(-5,30,100)\n",
    "x2 = np.linspace(-5,30,100)\n",
    "y=stats.norm.pdf(x, 12,3.5)\n",
    "y2=stats.norm.pdf(x2,15,3.5)\n",
    "\n",
    "ax[0].plot(x,y)\n",
    "ax[0].set_ylabel(\"probability\")\n",
    "ax[0].set_xlabel(\"value of X\")\n",
    "ax[0].set_title(\"null hypothesis\")\n",
    "ax[0].set_ylim(0,0.13)\n",
    "ax[0].fill_between(x,y, where=y>0.0,interpolate=True,facecolor='lightblue',alpha=0.2)\n",
    "ax[0].plot([12,12],[0,0.113],color='k')\n",
    "ax[0].plot([8,12],[0.06,0.06],color='r')\n",
    "ax[0].set_xticklabels([])\n",
    "ax[0].set_yticklabels([])\n",
    "ax[0].annotate(\"$\\sigma$ = ??\", xy=(2,0.06),xytext=(2,0.06))\n",
    "ax[0].annotate(\"$\\mu$ = $\\mu_0$\", xy=(10,0.12),xytext=(10,0.12))\n",
    "\n",
    "\n",
    "\n",
    "\n",
    "\n",
    "ax[1].plot(x,y)\n",
    "ax[1].set_ylabel(\"probability\")\n",
    "ax[1].set_xlabel(\"value of X\")\n",
    "ax[1].set_title(\"alternative hypothesis\")\n",
    "ax[1].set_ylim(0,0.13)\n",
    "ax[1].fill_between(x,y, where=y>0.0,interpolate=True,facecolor='lightblue',alpha=0.2)\n",
    "ax[1].plot([8,12],[0.06,0.06],color='r')\n",
    "ax[1].plot([18,18],[0,0.113],color='k')\n",
    "ax[1].annotate(\"$\\sigma$ = ??\", xy=(2,0.06),xytext=(2,0.06))\n",
    "ax[1].annotate(\"$\\mu$ = $\\mu_0$\", xy=(16,0.12),xytext=(16,0.12))\n",
    "ax[1].set_xticklabels([])\n",
    "ax[1].set_yticklabels([])\n",
    "\n",
    "sns.despine(top=True, right=True)\n",
    "\n",
    "plt.show()\n",
    "display(Caption(5.0, \"Graphical illustration of the null and alternative hypotheses assumed by the (two sided) one sample $t$-test. Note the similarity to the $z$-test. The null hypothesis is that the population mean $\\\\mu$ is equal to some specified value $\\\\mu_0$, and the alternative hypothesis is that it is not. Like the $z$-test, we assume that the data are normally distributed; but we do not assume that the population standard deviation $\\\\sigma$ is known in advance.\"))"
   ]
  },
  {
   "cell_type": "markdown",
   "metadata": {
    "tags": [
     "popout"
    ]
   },
   "source": [
    "Well, sort of. As I understand the history, Gosset only provided a partial solution: the general solution to the problem was provided by Sir Ronald Fisher."
   ]
  },
  {
   "cell_type": "markdown",
   "metadata": {},
   "source": [
    "### Introducing the $t$-test\n",
    "\n",
    "This ambiguity is annoying, and it was resolved in 1908 by a guy called William Sealy Gosset [@Student1908], who was working as a chemist for the Guinness brewery at the time [see @Box1987]. Because Guinness took a dim view of its employees publishing statistical analysis (apparently they felt it was a trade secret), he published the work under the pseudonym \"A Student\", and to this day, the full name of the $t$-test is actually **_Student's $t$-test_**. The key thing that Gosset figured out is how we should accommodate the fact that we aren't completely sure what the true standard deviation is. The answer is that it subtly changes the sampling distribution. In the $t$-test, our test statistic (now called a $t$-statistic) is calculated in exactly the same way I mentioned above. If our null hypothesis is that the true mean is $\\mu$, but our sample has mean $\\bar{X}$ and our estimate of the population standard deviation is $\\hat{\\sigma}$, then our $t$ statistic is:\n",
    "$\n",
    "t = \\frac{\\bar{X} - \\mu}{\\hat{\\sigma}/\\sqrt{N} }\n",
    "$\n",
    "The only thing that has changed in the equation is that instead of using the known true value $\\sigma$, we use the estimate $\\hat{\\sigma}$. And if this estimate has been constructed from $N$ observations, then the sampling distribution turns into a $t$-distribution with $N-1$ **_degrees of freedom_** (df). The $t$ distribution is very similar to the normal distribution, but has \"heavier\" tails, as discussed earlier in Section \\@ref(otherdists) and illustrated in Figure \\@ref(fig:ttestdist). Notice, though, that as df gets larger, the $t$-distribution starts to look identical to the standard normal distribution. This is as it should be: if you have a sample size of $N = 70,000,000$ then your \"estimate\" of the standard deviation would be pretty much perfect, right? So, you should expect that for large $N$, the $t$-test would behave exactly the same way as a $z$-test. And that's exactly what happens!  "
   ]
  },
  {
   "cell_type": "code",
   "execution_count": 193,
   "metadata": {
    "tags": [
     "hide_input",
     "full_width"
    ]
   },
   "outputs": [
    {
     "data": {
      "image/png": "[encoded data removed]",
      "text/plain": [
       "<Figure size 1440x432 with 2 Axes>"
      ]
     },
     "metadata": {},
     "output_type": "display_data"
    },
    {
     "data": {
      "text/html": [
       "<div class=\"alert alert-info\" role=\"alert\"><b>Figure 6.0</b>. The $t$ distribution with 2 degrees of freedom (left) and 10 degrees of freedom (right), with a standard normal distribution (i.e., mean 0 and std dev 1) plotted as a blue line for comparison purposes. Notice that the $t$ distribution has heavier tails (higher kurtosis) than the normal distribution; this effect is quite exaggerated when the degrees of freedom are very small, but negligible for larger values. In other words, for large $df$ the $t$ distribution is essentially identical to a normal distribution.</div>"
      ],
      "text/plain": [
       "<__main__.Caption at 0x12bcf2a20>"
      ]
     },
     "metadata": {},
     "output_type": "display_data"
    }
   ],
   "source": [
    "fix, ax = plt.subplots(1,2,figsize=(20,6))\n",
    "\n",
    "\n",
    "x = np.linspace(-5,5,100)\n",
    "y=stats.norm.pdf(x, 0,1)\n",
    "y2=stats.t.pdf(x2,2,0,1)\n",
    "\n",
    "ax[0].plot(x,y,label='N($\\mu$=0,sd=1)')\n",
    "ax[0].plot(x,y2,'r',label='t (2)')\n",
    "ax[0].set_ylabel(\"probability\")\n",
    "ax[0].set_xlabel(\"value of X\")\n",
    "#ax[0].fill_between(x,y, where=y>0.0,interpolate=True,facecolor='lightblue',alpha=0.2)\n",
    "ax[0].fill_between(x,y2, where=y>0.0,interpolate=True,facecolor='pink',alpha=0.2)\n",
    "ax[0].legend(loc='best', frameon=False)\n",
    "#ax[0].set_xticklabels([])\n",
    "#ax[0].set_yticklabels([])\n",
    "\n",
    "\n",
    "x = np.linspace(-5,5,100)\n",
    "y=stats.norm.pdf(x,0,1)\n",
    "y2=stats.t.pdf(x2,10,0,1)\n",
    "ax[1].plot(x,y,label='N($\\mu$=0,sd=1)')\n",
    "ax[1].plot(x,y2,'r',label='t (10)')\n",
    "ax[1].set_ylabel(\"probability\")\n",
    "ax[1].set_xlabel(\"value of X\")\n",
    "#ax[1].fill_between(x,y, where=y>0.0,interpolate=True,facecolor='lightblue',alpha=0.2)\n",
    "ax[1].fill_between(x,y2, where=y>0.0,interpolate=True,facecolor='pink',alpha=0.2)\n",
    "ax[1].legend(loc='best', frameon=False)\n",
    "sns.despine(top=True, right=True)\n",
    "\n",
    "plt.show()\n",
    "\n",
    "display(Caption(6.0,\"The $t$ distribution with 2 degrees of freedom (left) and 10 degrees of freedom (right), with a standard normal distribution (i.e., mean 0 and std dev 1) plotted as a blue line for comparison purposes. Notice that the $t$ distribution has heavier tails (higher kurtosis) than the normal distribution; this effect is quite exaggerated when the degrees of freedom are very small, but negligible for larger values. In other words, for large $df$ the $t$ distribution is essentially identical to a normal distribution.\"))\n",
    "\n"
   ]
  },
  {
   "cell_type": "markdown",
   "metadata": {},
   "source": [
    "### Doing the test in Python\n",
    "\n",
    "As you might expect, the mechanics of the $t$-test are almost identical to the mechanics of the $z$-test. So there's not much point in going through the tedious exercise of showing you how to do the calculations using low level commands: it's pretty much identical to the calculations that we did earlier, except that we use the estimated standard deviation (i.e., something like `se_est = grades.std()`), and then we test our hypothesis using the $t$ distribution rather than the normal distribution  (i.e. we use `stats.t.cdf()` rather than `stats.norm.cdf()`. And so instead of going through the calculations in tedious detail for a second time, I'll jump straight to showing you how $t$-tests are actually done in practice. \n",
    "\n",
    "Python has a nice package called [pingouin](https://pingouin-stats.org/index.html) which provides easy access to most common statistics.  Although you can definitely find a t-test in [statsmodels](https://www.statsmodels.org/stable/generated/statsmodels.stats.weightstats.ttest_ind.html) pingouin is really simple and fun.\n",
    "\n",
    "\n",
    "To use this function we just import pinguoin:"
   ]
  },
  {
   "cell_type": "code",
   "execution_count": 5,
   "metadata": {},
   "outputs": [],
   "source": [
    "import pingouin as pg"
   ]
  },
  {
   "cell_type": "markdown",
   "metadata": {},
   "source": [
    "Next we run the function `pg.ttest`.  The documentation for this command is [here](https://pingouin-stats.org/generated/pingouin.ttest.html#pingouin.ttest). It's pretty straightforward to use: all you need to do is specify `x`, the variable containing the data, and `y`, the true population mean according to the null hypothesis. All you need to type is this:"
   ]
  },
  {
   "cell_type": "code",
   "execution_count": 6,
   "metadata": {},
   "outputs": [
    {
     "data": {
      "text/html": [
       "<div>\n",
       "<style scoped>\n",
       "    .dataframe tbody tr th:only-of-type {\n",
       "        vertical-align: middle;\n",
       "    }\n",
       "\n",
       "    .dataframe tbody tr th {\n",
       "        vertical-align: top;\n",
       "    }\n",
       "\n",
       "    .dataframe thead th {\n",
       "        text-align: right;\n",
       "    }\n",
       "</style>\n",
       "<table border=\"1\" class=\"dataframe\">\n",
       "  <thead>\n",
       "    <tr style=\"text-align: right;\">\n",
       "      <th></th>\n",
       "      <th>T</th>\n",
       "      <th>dof</th>\n",
       "      <th>tail</th>\n",
       "      <th>p-val</th>\n",
       "      <th>CI95%</th>\n",
       "      <th>cohen-d</th>\n",
       "      <th>BF10</th>\n",
       "      <th>power</th>\n",
       "    </tr>\n",
       "  </thead>\n",
       "  <tbody>\n",
       "    <tr>\n",
       "      <th>T-test</th>\n",
       "      <td>2.255</td>\n",
       "      <td>19</td>\n",
       "      <td>two-sided</td>\n",
       "      <td>0.036145</td>\n",
       "      <td>[0.34, 9.26]</td>\n",
       "      <td>0.504</td>\n",
       "      <td>1.795</td>\n",
       "      <td>0.571</td>\n",
       "    </tr>\n",
       "  </tbody>\n",
       "</table>\n",
       "</div>"
      ],
      "text/plain": [
       "            T  dof       tail     p-val         CI95%  cohen-d   BF10  power\n",
       "T-test  2.255   19  two-sided  0.036145  [0.34, 9.26]    0.504  1.795  0.571"
      ]
     },
     "execution_count": 6,
     "metadata": {},
     "output_type": "execute_result"
    }
   ],
   "source": [
    "pg.ttest(x=zeppo_df.grades,y=67.5)"
   ]
  },
  {
   "cell_type": "markdown",
   "metadata": {},
   "source": [
    "Easy enough. Now lets go through the output. \n",
    "\n",
    "The first column in the output it the value of the t-statistic (2.255).   The 'dof' refers to the degrees of freedom which is one less than the number of observations in x (so 19).  Here we conductes a two-sided test.  Then the $p$-value (0.036) of the test of the null hypothesis that the population mean equals 67.5 (what we provided as y). The confidence interval around the mean of the provided data $x$. The estimated effect size (cohen's d is 0.504), more on that later.  The final column is a Bayes Factor in support of the alternative hypothesis. Finally, the power was estimated to be 0.571.  And  We will ignore that one for now.\n",
    "\n",
    "So that seems straightforward enough. Now what do we *do* with this output? Well, since we're pretending that we actually care about my toy example, we're overjoyed to discover that the result is statistically significant (i.e. $p$ value below .05). We could report the result by saying something like this:\n",
    "\n",
    "> With a mean grade of 72.3, the psychology students scored slightly higher than the average grade of 67.5 ($t(19) = 2.25$, $p<.05$).\n",
    "\n",
    "where $t(19)$ is shorthand notation for a $t$-statistic that has 19 degrees of freedom. "
   ]
  },
  {
   "cell_type": "markdown",
   "metadata": {},
   "source": [
    "A technical comment... in the same way that we can weaken the assumptions of the $z$-test so that we're only talking about the sampling distribution, we *can* weaken the $t$ test assumptions so that we don't have to assume normality of the population. However, for the $t$-test, it's trickier to do this. As before, we can replace the assumption of population normality with an assumption that the sampling distribution of $\\bar{X}$ is normal. However, remember that we're also relying on a sample estimate of the standard deviation; and so we also require the sampling distribution of $\\hat{\\sigma}$ to be chi-square. That makes things nastier, and this version is rarely used in practice: fortunately, if the population is normal, then both of these two assumptions are met., and as noted earlier, there are standard tools that you can use to check to see if this assumption is met (Section \\@ref(shapiro)), and other tests you can do in it's place if this assumption is violated (Section \\@ref(wilcox))"
   ]
  },
  {
   "cell_type": "markdown",
   "metadata": {},
   "source": [
    "### Assumptions of the one sample $t$-test\n",
    "\n",
    "Okay, so what assumptions does the one-sample $t$-test make? Well, since the $t$-test is basically a $z$-test with the assumption of known standard deviation removed, you shouldn't be surprised to see that it makes the same assumptions as the $z$-test, minus the one about the known standard deviation. That is\n",
    "\n",
    "- *Normality*. We're still assuming that the the population distribution is normal.\n",
    "- *Independence*. Once again, we have to assume that the observations in our sample are generated independently of one another. See the earlier discussion about the $z$-test for specifics.\n",
    "\n",
    "Overall, these two assumptions aren't terribly unreasonable, and as a consequence the one-sample $t$-test is pretty widely used in practice as a way of comparing a sample mean against a hypothesised population mean.\n",
    "\n"
   ]
  },
  {
   "cell_type": "markdown",
   "metadata": {},
   "source": [
    "## The independent samples $t$-test (Student test)\n",
    "\n",
    "Although the one sample $t$-test has its uses, it's not the most typical example of a $t$-test. A much more common situation arises when you've got two different groups of observations. In psychology, this tends to correspond to two different groups of participants, where each group corresponds to a different condition in your study. For each person in the study, you measure some outcome variable of interest, and the research question that you're asking is whether or not the two groups have the same population mean. This is the situation that the independent samples $t$-test is designed for. "
   ]
  },
  {
   "cell_type": "markdown",
   "metadata": {},
   "source": [
    "### The data\n",
    "\n",
    "Suppose we have 33 students taking Dr Harpo's statistics lectures, and Dr Harpo doesn't grade to a curve. Actually, Dr Harpo's grading is a bit of a mystery, so we don't really know anything about what the average grade is for the class as a whole. There are two tutors for the class, Anastasia and Bernadette. There are $N_1 = 15$ students in Anastasia's tutorials, and $N_2 = 18$ in Bernadette's tutorials. The research question I'm interested in is whether Anastasia or Bernadette is a better tutor, or if it doesn't make much of a difference. Dr Harpo emails me the course grades, in the `harpo.csv` (hosted on the course website) file. As usual, I'll load the file and have a look at what variables it contains:"
   ]
  },
  {
   "cell_type": "code",
   "execution_count": 7,
   "metadata": {},
   "outputs": [
    {
     "data": {
      "text/html": [
       "<div>\n",
       "<style scoped>\n",
       "    .dataframe tbody tr th:only-of-type {\n",
       "        vertical-align: middle;\n",
       "    }\n",
       "\n",
       "    .dataframe tbody tr th {\n",
       "        vertical-align: top;\n",
       "    }\n",
       "\n",
       "    .dataframe thead th {\n",
       "        text-align: right;\n",
       "    }\n",
       "</style>\n",
       "<table border=\"1\" class=\"dataframe\">\n",
       "  <thead>\n",
       "    <tr style=\"text-align: right;\">\n",
       "      <th></th>\n",
       "      <th>grade</th>\n",
       "      <th>tutor</th>\n",
       "    </tr>\n",
       "  </thead>\n",
       "  <tbody>\n",
       "    <tr>\n",
       "      <th>1</th>\n",
       "      <td>65</td>\n",
       "      <td>Anastasia</td>\n",
       "    </tr>\n",
       "    <tr>\n",
       "      <th>2</th>\n",
       "      <td>72</td>\n",
       "      <td>Bernadette</td>\n",
       "    </tr>\n",
       "    <tr>\n",
       "      <th>3</th>\n",
       "      <td>66</td>\n",
       "      <td>Bernadette</td>\n",
       "    </tr>\n",
       "    <tr>\n",
       "      <th>4</th>\n",
       "      <td>74</td>\n",
       "      <td>Anastasia</td>\n",
       "    </tr>\n",
       "    <tr>\n",
       "      <th>5</th>\n",
       "      <td>73</td>\n",
       "      <td>Anastasia</td>\n",
       "    </tr>\n",
       "  </tbody>\n",
       "</table>\n",
       "</div>"
      ],
      "text/plain": [
       "   grade       tutor\n",
       "1     65   Anastasia\n",
       "2     72  Bernadette\n",
       "3     66  Bernadette\n",
       "4     74   Anastasia\n",
       "5     73   Anastasia"
      ]
     },
     "execution_count": 7,
     "metadata": {},
     "output_type": "execute_result"
    }
   ],
   "source": [
    "harpo_df=pd.read_csv('http://gureckislab.org/courses/fall19/labincp/data/harpo.csv',index_col=0)\n",
    "harpo_df.head()"
   ]
  },
  {
   "cell_type": "markdown",
   "metadata": {},
   "source": [
    "As we can see, there's a single data frame with two variables, `grade` and `tutor`. The `grade` variable is a numeric vector, containing the grades for all $N = 33$ students taking Dr Harpo's class; the `tutor` variable is a factor that indicates who each student's tutor was. The first fiv observations in this data set are shown above."
   ]
  },
  {
   "cell_type": "markdown",
   "metadata": {},
   "source": [
    "We can calculate means and standard deviations, using the `mean()` and `sd()` functions. Rather than show the R output, here's a nice little summary table:"
   ]
  },
  {
   "cell_type": "code",
   "execution_count": 8,
   "metadata": {},
   "outputs": [
    {
     "data": {
      "text/html": [
       "<div>\n",
       "<style scoped>\n",
       "    .dataframe tbody tr th:only-of-type {\n",
       "        vertical-align: middle;\n",
       "    }\n",
       "\n",
       "    .dataframe tbody tr th {\n",
       "        vertical-align: top;\n",
       "    }\n",
       "\n",
       "    .dataframe thead tr th {\n",
       "        text-align: left;\n",
       "    }\n",
       "\n",
       "    .dataframe thead tr:last-of-type th {\n",
       "        text-align: right;\n",
       "    }\n",
       "</style>\n",
       "<table border=\"1\" class=\"dataframe\">\n",
       "  <thead>\n",
       "    <tr>\n",
       "      <th></th>\n",
       "      <th colspan=\"8\" halign=\"left\">grade</th>\n",
       "    </tr>\n",
       "    <tr>\n",
       "      <th></th>\n",
       "      <th>count</th>\n",
       "      <th>mean</th>\n",
       "      <th>std</th>\n",
       "      <th>min</th>\n",
       "      <th>25%</th>\n",
       "      <th>50%</th>\n",
       "      <th>75%</th>\n",
       "      <th>max</th>\n",
       "    </tr>\n",
       "    <tr>\n",
       "      <th>tutor</th>\n",
       "      <th></th>\n",
       "      <th></th>\n",
       "      <th></th>\n",
       "      <th></th>\n",
       "      <th></th>\n",
       "      <th></th>\n",
       "      <th></th>\n",
       "      <th></th>\n",
       "    </tr>\n",
       "  </thead>\n",
       "  <tbody>\n",
       "    <tr>\n",
       "      <th>Anastasia</th>\n",
       "      <td>15.0</td>\n",
       "      <td>74.533333</td>\n",
       "      <td>8.998942</td>\n",
       "      <td>55.0</td>\n",
       "      <td>69.00</td>\n",
       "      <td>76.0</td>\n",
       "      <td>79.0</td>\n",
       "      <td>90.0</td>\n",
       "    </tr>\n",
       "    <tr>\n",
       "      <th>Bernadette</th>\n",
       "      <td>18.0</td>\n",
       "      <td>69.055556</td>\n",
       "      <td>5.774918</td>\n",
       "      <td>56.0</td>\n",
       "      <td>66.25</td>\n",
       "      <td>69.0</td>\n",
       "      <td>73.0</td>\n",
       "      <td>79.0</td>\n",
       "    </tr>\n",
       "  </tbody>\n",
       "</table>\n",
       "</div>"
      ],
      "text/plain": [
       "           grade                                                    \n",
       "           count       mean       std   min    25%   50%   75%   max\n",
       "tutor                                                               \n",
       "Anastasia   15.0  74.533333  8.998942  55.0  69.00  76.0  79.0  90.0\n",
       "Bernadette  18.0  69.055556  5.774918  56.0  66.25  69.0  73.0  79.0"
      ]
     },
     "execution_count": 8,
     "metadata": {},
     "output_type": "execute_result"
    }
   ],
   "source": [
    "harpo_df.groupby('tutor').describe()"
   ]
  },
  {
   "cell_type": "markdown",
   "metadata": {},
   "source": [
    "To give you a more detailed sense of what's going on here, I've plotted histograms showing the distribution of grades for both tutors (Figure 7 and 8). Inspection of these histograms suggests that the students in Anastasia's class may be getting slightly better grades on average, though they also seem a little more variable."
   ]
  },
  {
   "cell_type": "code",
   "execution_count": 29,
   "metadata": {
    "tags": [
     "hide_input"
    ]
   },
   "outputs": [
    {
     "data": {
      "image/png": "[encoded data removed]",
      "text/plain": [
       "<Figure size 432x288 with 1 Axes>"
      ]
     },
     "metadata": {
      "needs_background": "light"
     },
     "output_type": "display_data"
    },
    {
     "data": {
      "text/html": [
       "<div class=\"alert alert-info\" role=\"alert\"><b>Figure 7.0</b>. Histogram showing the overall distribution of grades for students in Anastasia’s class</div>"
      ],
      "text/plain": [
       "<__main__.Caption at 0x12bc2fb38>"
      ]
     },
     "metadata": {},
     "output_type": "display_data"
    }
   ],
   "source": [
    "p1=sns.distplot(harpo_df[harpo_df['tutor']==\"Anastasia\"].grade,bins=np.arange(40,100,5)).set_title(\"Anastasia students\")\n",
    "plt.show()\n",
    "display(Caption(7.0,\"Histogram showing the overall distribution of grades for students in Anastasia’s class\"))"
   ]
  },
  {
   "cell_type": "code",
   "execution_count": 30,
   "metadata": {
    "tags": [
     "hide_input"
    ]
   },
   "outputs": [
    {
     "data": {
      "image/png": "[encoded data removed]",
      "text/plain": [
       "<Figure size 432x288 with 1 Axes>"
      ]
     },
     "metadata": {
      "needs_background": "light"
     },
     "output_type": "display_data"
    },
    {
     "data": {
      "text/html": [
       "<div class=\"alert alert-info\" role=\"alert\"><b>Figure 8.0</b>. Histogram showing the overall distribution of grades for students in Bernadette’s class</div>"
      ],
      "text/plain": [
       "<__main__.Caption at 0x12bc3e5c0>"
      ]
     },
     "metadata": {},
     "output_type": "display_data"
    }
   ],
   "source": [
    "p2=sns.distplot(harpo_df[harpo_df['tutor']==\"Bernadette\"].grade,bins=np.arange(40,100,5)).set_title(\"Bernadette students\")\n",
    "plt.show()\n",
    "display(Caption(8.0,\"Histogram showing the overall distribution of grades for students in Bernadette’s class\"))"
   ]
  },
  {
   "cell_type": "markdown",
   "metadata": {},
   "source": [
    "Here is a simpler plot showing the means and corresponding confidence intervals for both groups of students (Figure 9)."
   ]
  },
  {
   "cell_type": "code",
   "execution_count": 46,
   "metadata": {},
   "outputs": [
    {
     "data": {
      "image/png": "[encoded data removed]",
      "text/plain": [
       "<Figure size 360x360 with 1 Axes>"
      ]
     },
     "metadata": {
      "needs_background": "light"
     },
     "output_type": "display_data"
    },
    {
     "data": {
      "text/html": [
       "<div class=\"alert alert-info\" role=\"alert\"><b>Figure 9.0</b>. Plots showing the mean grade for the students in Anastasia’s and Bernadette’s tutorials. Error bars depict 95% confidence intervals around the mean. On the basis of visual inspection, it does look like there’s a real difference between the groups, though it’s hard to say for sure.</div>"
      ],
      "text/plain": [
       "<__main__.Caption at 0x12b4d9128>"
      ]
     },
     "metadata": {},
     "output_type": "display_data"
    }
   ],
   "source": [
    "sns.catplot(x=\"tutor\", y=\"grade\", data=harpo_df, kind='bar',ci=95)\n",
    "plt.show()\n",
    "display(Caption(9.0,\"Plots showing the mean grade for the students in Anastasia’s and Bernadette’s tutorials. Error bars depict 95% confidence intervals around the mean. On the basis of visual inspection, it does look like there’s a real difference between the groups, though it’s hard to say for sure.\"))"
   ]
  },
  {
   "cell_type": "markdown",
   "metadata": {},
   "source": [
    "### Introducing the test\n",
    "\n",
    "The **_independent samples $t$-test_** comes in two different forms, Student's and Welch's. The original Student $t$-test -- which is the one I'll describe in this section -- is the simpler of the two, but relies on much more restrictive assumptions than the Welch $t$-test. Assuming for the moment that you want to run a two-sided test, the goal is to determine whether two \"independent samples\" of data are drawn from populations with the same mean (the null hypothesis) or different means (the alternative hypothesis). When we say \"independent\" samples, what we really mean here is that there's no special relationship between observations in the two samples. This probably doesn't make a lot of sense right now, but it will be clearer when we come to talk about the paired samples $t$-test later on. For now, let's just point out that if we have an experimental design where participants are randomly allocated to one of two groups, and we want to compare the two groups' mean performance on some outcome measure, then an independent samples $t$-test (rather than a paired samples $t$-test) is what we're after.\n",
    "\n",
    "Okay, so let's let $\\mu_1$ denote the true population mean for group 1 (e.g., Anastasia's students), and $\\mu_2$ will be the true population mean for group 2 (e.g., Bernadette's students),^[A funny question almost always pops up at this point: what the heck *is* the population being referred to in this case? Is it the set of students actually taking Dr Harpo's class (all 33 of them)? The set of people who might take the class (an unknown number) of them? Or something else? Does it matter which of these we pick? It's traditional in an introductory behavioural stats class to mumble a lot at this point, but since I get asked this question every year by my students, I'll give a brief answer. Technically yes, it does matter: if you change your definition of what the \"real world\" population actually is, then the sampling distribution of your observed mean $\\bar{X}$ changes too. The $t$-test relies on an assumption that the observations are sampled at random from an infinitely large population; and to the extent that real life isn't like that, then the $t$-test can be wrong. In practice, however, this isn't usually a big deal: even though the assumption is almost always wrong, it doesn't lead to a lot of pathological behaviour from the test, so we tend to just ignore it.] and as usual we'll let $\\bar{X}_1$ and $\\bar{X}_2$ denote the observed sample means for both of these groups. Our null hypothesis states that the two population means are identical ($\\mu_1 = \\mu_2$) and the alternative to this is that they are not ($\\mu_1 \\neq \\mu_2$). Written in mathematical-ese, this is...\n",
    "$\n",
    "\\begin{array}{ll}\n",
    "H_0: & \\mu_1 = \\mu_2  \\\\\n",
    "H_1: & \\mu_1 \\neq \\mu_2\n",
    "\\end{array}\n",
    "$"
   ]
  },
  {
   "cell_type": "code",
   "execution_count": 16,
   "metadata": {
    "tags": [
     "hide_input",
     "full_width"
    ]
   },
   "outputs": [
    {
     "data": {
      "image/png": "[encoded data removed]",
      "text/plain": [
       "<Figure size 1440x432 with 2 Axes>"
      ]
     },
     "metadata": {
      "needs_background": "light"
     },
     "output_type": "display_data"
    },
    {
     "data": {
      "text/html": [
       "<div class=\"alert alert-info\" role=\"alert\"><b>Figure 10.0</b>. Graphical illustration of the null and alternative hypotheses assumed by the (two sided) one sample $t$-test. Note the similarity to the $z$-test. The null hypothesis is that the population mean $\\mu$ is equal to some specified value $\\mu_0$, and the alternative hypothesis is that it is not. Like the $z$-test, we assume that the data are normally distributed; but we do not assume that the population standard deviation $\\sigma$ is known in advance.</div>"
      ],
      "text/plain": [
       "<__main__.Caption at 0x12b868630>"
      ]
     },
     "metadata": {},
     "output_type": "display_data"
    }
   ],
   "source": [
    "fix, ax = plt.subplots(1,2,figsize=(20,6))\n",
    "\n",
    "\n",
    "x = np.linspace(-5,30,100)\n",
    "y=stats.norm.pdf(x, 12,3.5)\n",
    "y2=stats.norm.pdf(x,15,3.5)\n",
    "\n",
    "ax[0].plot(x,y)\n",
    "ax[0].set_ylabel(\"probability\")\n",
    "ax[0].set_xlabel(\"value of X\")\n",
    "ax[0].set_title(\"null hypothesis\")\n",
    "ax[0].set_ylim(0,0.13)\n",
    "ax[0].fill_between(x,y, where=y>0.0,interpolate=True,facecolor='lightblue',alpha=0.2)\n",
    "ax[0].set_xticklabels([])\n",
    "ax[0].set_yticklabels([])\n",
    "ax[0].annotate(\"$\\mu$\", xy=(12,0.12),xytext=(12,0.12))\n",
    "\n",
    "x = np.linspace(-5,30,100)\n",
    "y=stats.norm.pdf(x, 10,3.5)\n",
    "y2=stats.norm.pdf(x,15,3.5)\n",
    "\n",
    "\n",
    "ax[1].plot(x,y)\n",
    "ax[1].plot(x,y2)\n",
    "ax[1].set_ylabel(\"probability\")\n",
    "ax[1].set_xlabel(\"value of X\")\n",
    "ax[1].set_title(\"alternative hypothesis\")\n",
    "ax[1].set_ylim(0,0.13)\n",
    "ax[1].fill_between(x,y, where=y>0.0,interpolate=True,facecolor='lightblue',alpha=0.2)\n",
    "ax[1].fill_between(x,y2, where=y>0.0,interpolate=True,facecolor='orange',alpha=0.2)\n",
    "ax[1].annotate(\"$\\mu_0$\", xy=(10,0.12),xytext=(10,0.12))\n",
    "ax[1].annotate(\"$\\mu_1$\", xy=(15,0.12),xytext=(15,0.12))\n",
    "ax[1].set_xticklabels([])\n",
    "ax[1].set_yticklabels([])\n",
    "\n",
    "sns.despine(top=True, right=True)\n",
    "\n",
    "plt.show()\n",
    "display(Caption(10.0, \"Graphical illustration of the null and alternative hypotheses assumed by the (two sided) one sample $t$-test. Note the similarity to the $z$-test. The null hypothesis is that the population mean $\\\\mu$ is equal to some specified value $\\\\mu_0$, and the alternative hypothesis is that it is not. Like the $z$-test, we assume that the data are normally distributed; but we do not assume that the population standard deviation $\\\\sigma$ is known in advance.\"))"
   ]
  },
  {
   "cell_type": "markdown",
   "metadata": {},
   "source": [
    "To construct a hypothesis test that handles this scenario, we start by noting that if the null hypothesis is true, then the difference between the population means is *exactly* zero, \n",
    "$\\mu_1 - \\mu_2 = 0$\n",
    "As a consequence, a diagnostic test statistic will be based on the difference between the two sample means. Because if the null hypothesis is true, then we'd expect \n",
    "$$\n",
    "\\bar{X}_1 - \\bar{X}_2\n",
    "$$\n",
    "to be *pretty close* to zero. However, just like we saw with our one-sample tests (i.e., the one-sample $z$-test and the one-sample $t$-test) we have to be precise about exactly *how close* to zero this difference should be. And the solution to the problem is more or less the same one: we calculate a standard error estimate (SE), just like last time, and then divide the difference between means by this estimate. So our **_$t$-statistic_** will be of the form\n",
    "$$\n",
    "t = \\frac{\\bar{X}_1 - \\bar{X}_2}{\\mbox{SE}}\n",
    "$$\n",
    "We just need to figure out what this standard error estimate actually is. This is a bit trickier than was the case for either of the two tests we've looked at so far, so we need to go through it a lot more carefully to understand how it works.\n",
    "\n"
   ]
  },
  {
   "cell_type": "markdown",
   "metadata": {},
   "source": [
    "### A \"pooled estimate\" of the standard deviation\n",
    "\n",
    "In the original \"Student $t$-test\", we make the assumption that the two groups have the same population standard deviation: that is, regardless of whether the population means are the same, we assume that the population standard deviations are identical, $\\sigma_1 = \\sigma_2$. Since we're assuming that the two standard deviations are the same, we drop the subscripts and refer to both of them as $\\sigma$. How should we estimate this? How should we construct a single estimate of a standard deviation when we have two samples? The answer is, basically, we average them. Well, sort of. Actually, what we do is take a *weighed* average of the *variance* estimates, which we use as our **_pooled estimate of the variance_**. The weight assigned to each sample is equal to the number of observations in that sample, minus 1. Mathematically, we can write this as\n",
    "$\n",
    "\\begin{array}{rcl}\n",
    "w_1 &=& N_1 - 1\\\\\n",
    "w_2 &=& N_2 - 1\n",
    "\\end{array}\n",
    "$\n",
    "Now that we've assigned weights to each sample, we calculate the pooled estimate of the variance by taking the weighted average of the two variance estimates, ${\\hat\\sigma_1}^2$ and ${\\hat\\sigma_2}^2$ \n",
    "$\n",
    "\\hat\\sigma^2_p = \\frac{w_1 {\\hat\\sigma_1}^2 + w_2 {\\hat\\sigma_2}^2}{w_1 + w_2}\n",
    "$\n",
    "Finally, we convert the pooled variance estimate to a pooled standard deviation estimate, by taking the square root. This gives us the following formula for $\\hat\\sigma_p$,\n",
    "$\n",
    "\\hat\\sigma_p = \\sqrt{\\frac{w_1 {\\hat\\sigma_1}^2 + w_2 {\\hat\\sigma_2}^2}{w_1 + w_2}}\n",
    "$\n",
    "And if you mentally substitute $w_1 = N_1 -1$ and $w_2 = N_2 -1$ into this equation you get a very ugly looking formula; a very ugly formula that actually seems to be the \"standard\" way of describing the pooled standard deviation estimate. It's not my favourite way of thinking about pooled standard deviations, however."
   ]
  },
  {
   "cell_type": "markdown",
   "metadata": {},
   "source": [
    "### The same pooled estimate, described differently\n",
    "\n",
    "I prefer to think about it like this. Our data set actually corresponds to a set of $N$ observations, which are sorted into two groups. So let's use the notation $X_{ik}$ to refer to the grade received by the $i$-th student in the $k$-th tutorial group: that is, $X_{11}$ is the grade received by the first student in Anastasia's class, $X_{21}$ is her second student, and so on. And we have two separate group means $\\bar{X}_1$ and $\\bar{X}_2$, which we could \"generically\" refer to using the notation $\\bar{X}_k$, i.e., the mean grade for the $k$-th tutorial group. So far, so good. Now, since every single student falls into one of the two tutorials, and so we can describe their deviation from the group mean as the difference\n",
    "$\n",
    "X_{ik} - \\bar{X}_k\n",
    "$\n",
    "So why not just use these deviations (i.e., the extent to which each student's grade differs from the mean grade in their tutorial?) Remember, a variance is just the average of a bunch of squared deviations, so let's do that. Mathematically, we could write it like this:\n",
    "$\n",
    "\\frac{\\sum_{ik} \\left( X_{ik} - \\bar{X}_k \\right)^2}{N}\n",
    "$\n",
    "where the notation \"$\\sum_{ik}$\" is a lazy way of saying \"calculate a sum by looking at all students in all tutorials\", since each \"$ik$\" corresponds to one student.^[A more correct notation will be introduced in a later Chapter on ANOVA] But, as we saw in the Chapter on Estimation, calculating the variance by dividing by $N$ produces a biased estimate of the population variance. And previously, we needed to divide by $N-1$ to fix this. However, as I mentioned at the time, the reason why this bias exists is because the variance estimate relies on the sample mean; and to the extent that the sample mean isn't equal to the population mean, it can systematically bias our estimate of the variance. But this time we're relying on *two* sample means! Does this mean that we've got more bias? Yes, yes it does. And does this mean we now need to divide by $N-2$ instead of $N-1$, in order to calculate our pooled variance estimate? Why, yes...\n",
    "$\n",
    "\\hat\\sigma^2_p = \\frac{\\sum_{ik} \\left( X_{ik} - \\bar{X}_k \\right)^2}{N -2}\n",
    "$\n",
    "Oh, and if you take the square root of this then you get $\\hat{\\sigma}_p$, the pooled standard deviation estimate. In other words, the pooled standard deviation calculation is nothing special: it's not terribly different to the regular standard deviation calculation. \n",
    "\n"
   ]
  },
  {
   "cell_type": "markdown",
   "metadata": {},
   "source": [
    "### Completing the test\n",
    "\n",
    "Regardless of which way you want to think about it, we now have our pooled estimate of the standard deviation. From now on, I'll drop the silly $p$ subscript, and just refer to this estimate as $\\hat\\sigma$. Great. Let's now go back to thinking about the bloody hypothesis test, shall we? Our whole reason for calculating this pooled estimate was that we knew it would be helpful when calculating our *standard error* estimate. But, standard error of *what*? In the one-sample $t$-test, it was the standard error of the sample mean, $\\mbox{SE}({\\bar{X}})$, and since $\\mbox{SE}({\\bar{X}}) = \\sigma / \\sqrt{N}$ that's what the denominator of our $t$-statistic looked like. This time around, however, we have *two* sample means. And what we're interested in, specifically, is the the difference between the two $\\bar{X}_1 - \\bar{X}_2$. As a consequence, the standard error that we need to divide by is in fact the **_standard error of the difference_** between means. As long as the two variables really do have the same standard deviation, then our estimate for the standard error is\n",
    "$\n",
    "\\mbox{SE}({\\bar{X}_1 - \\bar{X}_2}) = \\hat\\sigma \\sqrt{\\frac{1}{N_1} + \\frac{1}{N_2}}\n",
    "$\n",
    "and our $t$-statistic is therefore \n",
    "$\n",
    "t = \\frac{\\bar{X}_1 - \\bar{X}_2}{\\mbox{SE}({\\bar{X}_1 - \\bar{X}_2})}\n",
    "$\n",
    "Just as we saw with our one-sample test, the sampling distribution of this $t$-statistic is a $t$-distribution (shocking, isn't it?) as long as the null hypothesis is true, and all of the assumptions of the test are met. The degrees of freedom, however, is slightly different. As usual, we can think of the degrees of freedom to be equal to the number of data points minus the number of constraints. In this case, we have $N$ observations ($N_1$ in sample 1, and $N_2$ in sample 2), and 2 constraints (the sample means). So the total degrees of freedom for this test are $N-2$. \n",
    "\n"
   ]
  },
  {
   "cell_type": "markdown",
   "metadata": {},
   "source": [
    "### Doing the test in Python\n",
    "\n",
    "The independent samples $t$-test is just a special case of the pingouin `ttest()` function we learned about earlier.  Instead of providing argument $y$ as a single number (the null hypothesis in a one sample test), we provide another list of number which is the second group:"
   ]
  },
  {
   "cell_type": "code",
   "execution_count": 8,
   "metadata": {},
   "outputs": [
    {
     "data": {
      "text/html": [
       "<div>\n",
       "<style scoped>\n",
       "    .dataframe tbody tr th:only-of-type {\n",
       "        vertical-align: middle;\n",
       "    }\n",
       "\n",
       "    .dataframe tbody tr th {\n",
       "        vertical-align: top;\n",
       "    }\n",
       "\n",
       "    .dataframe thead th {\n",
       "        text-align: right;\n",
       "    }\n",
       "</style>\n",
       "<table border=\"1\" class=\"dataframe\">\n",
       "  <thead>\n",
       "    <tr style=\"text-align: right;\">\n",
       "      <th></th>\n",
       "      <th>T</th>\n",
       "      <th>dof</th>\n",
       "      <th>tail</th>\n",
       "      <th>p-val</th>\n",
       "      <th>CI95%</th>\n",
       "      <th>cohen-d</th>\n",
       "      <th>BF10</th>\n",
       "      <th>power</th>\n",
       "    </tr>\n",
       "  </thead>\n",
       "  <tbody>\n",
       "    <tr>\n",
       "      <th>T-test</th>\n",
       "      <td>-2.12</td>\n",
       "      <td>31</td>\n",
       "      <td>two-sided</td>\n",
       "      <td>0.04</td>\n",
       "      <td>[-10.76, -0.2]</td>\n",
       "      <td>0.74</td>\n",
       "      <td>1.755</td>\n",
       "      <td>0.54</td>\n",
       "    </tr>\n",
       "  </tbody>\n",
       "</table>\n",
       "</div>"
      ],
      "text/plain": [
       "           T  dof       tail  p-val           CI95%  cohen-d   BF10  power\n",
       "T-test -2.12   31  two-sided   0.04  [-10.76, -0.2]     0.74  1.755   0.54"
      ]
     },
     "execution_count": 8,
     "metadata": {},
     "output_type": "execute_result"
    }
   ],
   "source": [
    "group1 = harpo_df[harpo_df['tutor']==\"Bernadette\"].grade\n",
    "group2 = harpo_df[harpo_df['tutor']==\"Anastasia\"].grade\n",
    "\n",
    "pg.ttest(x=group1, y=group2, correction=False).round(2)"
   ]
  },
  {
   "cell_type": "markdown",
   "metadata": {},
   "source": [
    "Here argument x and y just contain the data from each of the two groups. By saying `correct = False`, what we're really doing is telling pingouin to use the *Student* independent samples $t$-test. More on this later. For now, lets ignore that bit and look at the output:\n",
    "\n",
    "The output has a very familiar form including the test results ($t$-statistic, the degrees of freedom, and the $p$-value). The final section reports two things: it gives you a confidence interval, and an effect size. I'll talk about effect sizes later. The confidence interval, however, I should talk about now. "
   ]
  },
  {
   "cell_type": "code",
   "execution_count": 10,
   "metadata": {},
   "outputs": [
    {
     "data": {
      "text/plain": [
       "(69.05555555555556, 74.53333333333333)"
      ]
     },
     "execution_count": 10,
     "metadata": {},
     "output_type": "execute_result"
    }
   ],
   "source": [
    "group1.mean(), group2.mean()"
   ]
  },
  {
   "cell_type": "markdown",
   "metadata": {},
   "source": [
    "\n",
    "\n",
    "It's pretty important to be clear on what this confidence interval actually refers to: it is a confidence interval for the *difference* between the group means. In our example, Anastasia's students had an average grade of 74.5, and Bernadette's students had an average grade of 69.1, so the difference between the two sample means is 5.4. But of course the difference between population means might be bigger or smaller than this. The confidence interval reported by pingouin `ttest()` function tells you that there's a 95\\% chance that the true difference between means lies between 0.2 and 10.8.  \n",
    "\n",
    "In any case, the difference between the two groups is significant (just barely), so we might write up the result using text like this:"
   ]
  },
  {
   "cell_type": "markdown",
   "metadata": {},
   "source": [
    "> The mean grade in Anastasia's class was 74.5\\% (std dev = 9.0), whereas the mean in Bernadette's class was 69.1\\% (std dev = 5.8). A Student's independent samples $t$-test showed that this 5.4\\% difference was significant ($t(31) = 2.1$, $p<.05$, $CI_{95} = [0.2, 10.8]$, $d = .74$), suggesting that a genuine difference in learning outcomes has occurred.  \n",
    "\n",
    "Notice that I've included the confidence interval and the effect size in the stat block. People don't always do this. At a bare minimum, you'd expect to see the $t$-statistic, the degrees of freedom and the $p$ value. So you should include something like this at a minimum: $t(31) = 2.1$, $p<.05$. If statisticians had their way, everyone would also report the confidence interval and probably the effect size measure too, because they are useful things to know. But real life doesn't always work the way statisticians want it to: you should make a judgment based on whether you think it will help your readers, and (if you're writing a scientific paper) the editorial standard for the journal in question. Some journals expect you to report effect sizes, others don't. Within some scientific communities it is standard practice to report confidence intervals, in other it is not. You'll need to figure out what your audience expects. But, just for the sake of clarity, if you're taking my class: my default position is that it's usually worth includng the effect size, but don't worry about the confidence interval unless the assignment asks you to or implies that you should."
   ]
  },
  {
   "cell_type": "markdown",
   "metadata": {},
   "source": [
    "### Positive and negative $t$ values\n",
    "\n",
    "Before moving on to talk about the assumptions of the $t$-test, there's one additional point I want to make about the use of $t$-tests in practice. The first one relates to the sign of the $t$-statistic (that is, whether it is a positive number or a negative one).  One very common worry that students have when they start running their first $t$-test is that they often end up with negative values for the $t$-statistic, and don't know how to interpret it. In fact, it's not at all uncommon for two  people working independently to end up with python outputs that are almost identical, except that one person has a negative $t$ values and the other one has a positive $t$ value. Assuming that  you're running a two-sided test, then the $p$-values will be identical. On closer inspection, the students will notice that the confidence intervals also have the opposite signs. This is perfectly okay: whenever this happens, what you'll find is that the two versions of the python output arise from slightly different ways of running the $t$-test. What's happening here is very simple. The $t$-statistic that R is calculating here is always of the form \n",
    "$\n",
    "t = \\frac{\\mbox{(mean 1)} -\\mbox{(mean 2)}}{ \\mbox{(SE)}}\n",
    "$\n",
    "If \"mean 1\" is larger than \"mean 2\" the $t$ statistic will be positive, whereas if \"mean 2\" is larger then the $t$ statistic will be negative. Similarly, the confidence interval that R reports is the confidence interval for the difference \"(mean 1) minus (mean 2)\", which will be the reverse of what you'd get if you were calculating the confidence interval for the difference \"(mean 2) minus (mean 1)\".\n",
    "\n",
    "Okay, that's pretty straightforward when you think about it, but now consider our $t$-test comparing Anastasia's class to Bernadette's class. Which one should we call \"mean 1\" and which one should we call \"mean 2\". It's arbitrary. However, you really do need to designate one of them as \"mean 1\" and the other one as \"mean 2\". \n",
    "\n",
    "For example, consider the following two ways to run the above test:"
   ]
  },
  {
   "cell_type": "code",
   "execution_count": 12,
   "metadata": {},
   "outputs": [
    {
     "data": {
      "text/html": [
       "<div>\n",
       "<style scoped>\n",
       "    .dataframe tbody tr th:only-of-type {\n",
       "        vertical-align: middle;\n",
       "    }\n",
       "\n",
       "    .dataframe tbody tr th {\n",
       "        vertical-align: top;\n",
       "    }\n",
       "\n",
       "    .dataframe thead th {\n",
       "        text-align: right;\n",
       "    }\n",
       "</style>\n",
       "<table border=\"1\" class=\"dataframe\">\n",
       "  <thead>\n",
       "    <tr style=\"text-align: right;\">\n",
       "      <th></th>\n",
       "      <th>T</th>\n",
       "      <th>dof</th>\n",
       "      <th>tail</th>\n",
       "      <th>p-val</th>\n",
       "      <th>CI95%</th>\n",
       "      <th>cohen-d</th>\n",
       "      <th>BF10</th>\n",
       "      <th>power</th>\n",
       "    </tr>\n",
       "  </thead>\n",
       "  <tbody>\n",
       "    <tr>\n",
       "      <th>T-test</th>\n",
       "      <td>-2.12</td>\n",
       "      <td>31</td>\n",
       "      <td>two-sided</td>\n",
       "      <td>0.04</td>\n",
       "      <td>[-10.76, -0.2]</td>\n",
       "      <td>0.74</td>\n",
       "      <td>1.755</td>\n",
       "      <td>0.54</td>\n",
       "    </tr>\n",
       "  </tbody>\n",
       "</table>\n",
       "</div>"
      ],
      "text/plain": [
       "           T  dof       tail  p-val           CI95%  cohen-d   BF10  power\n",
       "T-test -2.12   31  two-sided   0.04  [-10.76, -0.2]     0.74  1.755   0.54"
      ]
     },
     "execution_count": 12,
     "metadata": {},
     "output_type": "execute_result"
    }
   ],
   "source": [
    "pg.ttest(x=group1, y=group2, correction=False).round(2)"
   ]
  },
  {
   "cell_type": "code",
   "execution_count": 13,
   "metadata": {},
   "outputs": [
    {
     "data": {
      "text/html": [
       "<div>\n",
       "<style scoped>\n",
       "    .dataframe tbody tr th:only-of-type {\n",
       "        vertical-align: middle;\n",
       "    }\n",
       "\n",
       "    .dataframe tbody tr th {\n",
       "        vertical-align: top;\n",
       "    }\n",
       "\n",
       "    .dataframe thead th {\n",
       "        text-align: right;\n",
       "    }\n",
       "</style>\n",
       "<table border=\"1\" class=\"dataframe\">\n",
       "  <thead>\n",
       "    <tr style=\"text-align: right;\">\n",
       "      <th></th>\n",
       "      <th>T</th>\n",
       "      <th>dof</th>\n",
       "      <th>tail</th>\n",
       "      <th>p-val</th>\n",
       "      <th>CI95%</th>\n",
       "      <th>cohen-d</th>\n",
       "      <th>BF10</th>\n",
       "      <th>power</th>\n",
       "    </tr>\n",
       "  </thead>\n",
       "  <tbody>\n",
       "    <tr>\n",
       "      <th>T-test</th>\n",
       "      <td>2.12</td>\n",
       "      <td>31</td>\n",
       "      <td>two-sided</td>\n",
       "      <td>0.04</td>\n",
       "      <td>[0.2, 10.76]</td>\n",
       "      <td>0.74</td>\n",
       "      <td>1.755</td>\n",
       "      <td>0.54</td>\n",
       "    </tr>\n",
       "  </tbody>\n",
       "</table>\n",
       "</div>"
      ],
      "text/plain": [
       "           T  dof       tail  p-val         CI95%  cohen-d   BF10  power\n",
       "T-test  2.12   31  two-sided   0.04  [0.2, 10.76]     0.74  1.755   0.54"
      ]
     },
     "execution_count": 13,
     "metadata": {},
     "output_type": "execute_result"
    }
   ],
   "source": [
    "pg.ttest(x=group2, y=group1, correction=False).round(2)"
   ]
  },
  {
   "cell_type": "markdown",
   "metadata": {},
   "source": [
    "Notice that evertyhing is the same except the t-value and the confidence intervals which have their signed flipped depending on which one we call $x$ and which we call $y$ (it is arbitrary).\n",
    "\n",
    "Because of this whenever I get a significant $t$-test result, and I want to figure out which mean is the larger one, I don't try to figure it out by looking at the $t$-statistic. Why would I bother doing that? It's foolish. It's easier just look at the actual group means, since the R output actually shows them!\n",
    "\n",
    "\n",
    "Here's the important thing. Because it really doesn't matter what R printed out, I usually try to *report* the $t$-statistic in such a way that the numbers match up with the text. Here's what I mean... suppose that what I want to write in my report is \"Anastasia's class had higher  grades than Bernadette's class\". The phrasing here implies that Anastasia's group comes first, so it makes sense to report the $t$-statistic as if Anastasia's class corresponded to group 1. If so, I would write \n",
    "\n",
    ">Anastasia's class had *higher* grades than Bernadette's class ($t(31)= 2.1, p=.04$). \n",
    "\n",
    "(I wouldn't actually emphasise the word \"higher\" in real life, I'm just doing it to emphasise the point that \"higher\" corresponds to positive $t$ values). On the other hand, suppose the phrasing I wanted to use has Bernadette's class listed first. If so, it makes more sense to treat her class as group 1, and if so, the write up looks like this:\n",
    "\n",
    "> Bernadette's class had *lower* grades than Anastasia's class ($t(31)= -2.1, p=.04$). \n",
    "\n",
    "Because I'm talking about one group having \"lower\" scores this time around, it is more sensible to use the negative form of the $t$-statistic. It just makes it read more cleanly.\n",
    "\n",
    "One last thing: please note that you *can't* do this for other types of test statistics. It works for $t$-tests, but it wouldn't be meaningful for  chi-square testsm $F$-tests or indeed for most of the tests I talk about in this book. So don't overgeneralise this advice! I'm really just talking about $t$-tests here and nothing else!"
   ]
  },
  {
   "cell_type": "markdown",
   "metadata": {},
   "source": [
    "### Assumptions of the test\n",
    "\n",
    "As always, our hypothesis test relies on some assumptions. So what are they? For the Student t-test there are three assumptions, some of which we saw previously in the context of the one sample $t$-test:\n",
    "\n",
    "\n",
    "- *Normality*. Like the one-sample $t$-test, it is assumed that the data are normally distributed. Specifically, we assume that both groups are normally distributed. In Section \\@ref(shapiro) we'll discuss how to test for normality, and in Section \\@ref(wilcox) we'll discuss possible solutions.\n",
    "- *Independence*. Once again, it is assumed that the observations are independently sampled. In the context of the Student test this has two aspects to it. Firstly, we assume that the observations within each sample are independent of one another (exactly the same as for the one-sample test). However, we also assume that there are no cross-sample dependencies. If, for instance, it turns out that you included some participants in both experimental conditions of your study (e.g., by accidentally allowing the same person to sign up to different conditions), then there are some cross sample dependencies that you'd need to take into account.\n",
    "- *Homogeneity of variance* (also called \"homoscedasticity\"). The third assumption is that the population standard deviation is the same in both groups. You can test this assumption using the Levene test, which I'll talk about later on in the book (Section \\@ref(levene)). However, there's a very simple remedy for this assumption, which I'll talk about in the next section."
   ]
  },
  {
   "cell_type": "markdown",
   "metadata": {
    "variables": {
     "\\hat{\\sigma_1": "<p><strong>SyntaxError</strong>: unexpected character after line continuation character (<ipython-input-1-24130662c4d5>, line 1)</p>\n",
     "\\hat{\\sigma_2": "<p><strong>SyntaxError</strong>: unexpected character after line continuation character (<ipython-input-1-71bb114d5bf0>, line 1)</p>\n"
    }
   },
   "source": [
    "## The independent samples $t$-test (Welch test)\n",
    "\n",
    "The biggest problem with using the Student test in practice is the third assumption listed in the previous section: it assumes that both groups have the same standard deviation. This is rarely true in real life: if two samples don't have the same means, why should we expect them to have the same standard deviation? There's really no reason to expect this assumption to be true. We'll talk a little bit about how you can check this assumption later on because it does crop up in a few different places, not just the $t$-test. But right now I'll talk about a different form of the $t$-test [@Welch1947] that does not rely on this assumption. A graphical illustration of what the **_Welch $t$ test_** assumes about the data is shown in Figure 11, to provide a contrast with the Student test version in Figure 10. I'll admit it's a bit odd to talk about the cure before talking about the diagnosis, but as it happens the Welch test is the default $t$-test in R, so this is probably the best place to discuss it. \n",
    "\n",
    "The Welch test is very similar to the Student test. For example, the $t$-statistic that we use in the Welch test is calculated in much the same way as it is for the Student test. That is, we take the difference between the sample means, and then divide it by some estimate of the standard error of that difference:\n",
    "$\n",
    "t = \\frac{\\bar{X}_1 - \\bar{X}_2}{\\mbox{SE}({\\bar{X}_1 - \\bar{X}_2})}\n",
    "$\n",
    "The main difference is that the standard error calculations are different. If the two populations have different standard deviations, then it's a complete nonsense to try to calculate a pooled standard deviation estimate, because you're averaging apples and oranges. (Well, I guess you can average apples and oranges, and what you end up with is a delicious fruit smoothie. But no one really thinks that a fruit smoothie is a very good way to describe the original fruits, do they?) But you can still estimate the standard error of the difference between sample means; it just ends up looking different:\n",
    "$\\mbox{SE}({\\bar{X}_1 - \\bar{X}_2}) = \\sqrt{ \\frac{{\\hat{\\sigma_1}}^2}{N_1} + \\frac{{\\hat{\\sigma_2}}^2}{N_2} }$\n",
    "The reason why it's calculated this way is beyond the scope of this book. What matters for our purposes is that the $t$-statistic that comes out of the Welch test is actually somewhat different to the one that comes from the Student test. \n",
    "\n",
    "The second difference between Welch and Student is that the degrees of freedom are calculated in a very different way. In the Welch test, the \"degrees of freedom \" doesn't have to be a whole number any more, and it doesn't correspond all that closely to the \"number of data points minus the number of constraints\" heuristic that I've been using up to this point. The degrees of freedom are, in fact...\n",
    "$\\mbox{df} = \\frac{ ({\\hat{\\sigma_1}}^2 / N_1 + {\\hat{\\sigma_2}}^2 / N_2)^2 }{  ({\\hat{\\sigma_1}}^2 / N_1)^2 / (N_1 -1 )  + ({\\hat{\\sigma_2}}^2 / N_2)^2 / (N_2 -1 ) } $\n",
    "... which is all pretty straightforward and obvious, right? Well, perhaps not. It doesn't really matter for out purposes. What matters is that you'll see that the \"df\" value that pops out of a Welch test tends to be a little bit smaller than the one used for the Student test, and it doesn't have to be a whole number. "
   ]
  },
  {
   "cell_type": "code",
   "execution_count": 18,
   "metadata": {
    "tags": [
     "hide_input",
     "full_width"
    ]
   },
   "outputs": [
    {
     "data": {
      "image/png": "[encoded data removed]",
      "text/plain": [
       "<Figure size 1440x432 with 2 Axes>"
      ]
     },
     "metadata": {
      "needs_background": "light"
     },
     "output_type": "display_data"
    },
    {
     "data": {
      "text/html": [
       "<div class=\"alert alert-info\" role=\"alert\"><b>Figure 11.0</b>. Graphical illustration of the null and alternative hypotheses assumed by the Welch  $t$-test. Like the Student test we assume that both samples are drawn from a normal population; but the alternative hypothesis no longer requires the two populations to have equal variance.</div>"
      ],
      "text/plain": [
       "<__main__.Caption at 0x12c286438>"
      ]
     },
     "metadata": {},
     "output_type": "display_data"
    }
   ],
   "source": [
    "fix, ax = plt.subplots(1,2,figsize=(20,6))\n",
    "\n",
    "\n",
    "x = np.linspace(-5,30,100)\n",
    "y=stats.norm.pdf(x, 12,3.5)\n",
    "y2=stats.norm.pdf(x,15,3.5)\n",
    "\n",
    "ax[0].plot(x,y)\n",
    "ax[0].set_ylabel(\"probability\")\n",
    "ax[0].set_xlabel(\"value of X\")\n",
    "ax[0].set_title(\"null hypothesis\")\n",
    "ax[0].set_ylim(0,0.13)\n",
    "ax[0].fill_between(x,y, where=y>0.0,interpolate=True,facecolor='lightblue',alpha=0.2)\n",
    "ax[0].set_xticklabels([])\n",
    "ax[0].set_yticklabels([])\n",
    "ax[0].annotate(\"$\\mu$\", xy=(12,0.12),xytext=(12,0.12))\n",
    "\n",
    "x = np.linspace(-5,30,100)\n",
    "y=stats.norm.pdf(x, 10,3.5)\n",
    "y2=stats.norm.pdf(x,15,5.5)\n",
    "\n",
    "\n",
    "ax[1].plot(x,y)\n",
    "ax[1].plot(x,y2)\n",
    "ax[1].set_ylabel(\"probability\")\n",
    "ax[1].set_xlabel(\"value of X\")\n",
    "ax[1].set_title(\"alternative hypothesis\")\n",
    "ax[1].set_ylim(0,0.13)\n",
    "ax[1].fill_between(x,y, where=y>0.0,interpolate=True,facecolor='lightblue',alpha=0.2)\n",
    "ax[1].fill_between(x,y2, where=y>0.0,interpolate=True,facecolor='orange',alpha=0.2)\n",
    "ax[1].annotate(\"$\\mu_0$\", xy=(10,0.12),xytext=(10,0.12))\n",
    "ax[1].annotate(\"$\\mu_1$\", xy=(15,0.12),xytext=(15,0.12))\n",
    "ax[1].set_xticklabels([])\n",
    "ax[1].set_yticklabels([])\n",
    "\n",
    "sns.despine(top=True, right=True)\n",
    "\n",
    "plt.show()\n",
    "display(Caption(11.0, \"Graphical illustration of the null and alternative hypotheses assumed by the Welch  $t$-test. Like the Student test we assume that both samples are drawn from a normal population; but the alternative hypothesis no longer requires the two populations to have equal variance.\"))"
   ]
  },
  {
   "cell_type": "markdown",
   "metadata": {},
   "source": [
    "### Doing the test in Python\n",
    "\n",
    "To run a Welch test in Python is pretty easy. All you have to do in pingouin it to tell the `ttest()` function to not assume equal variances but setting `correction=True`.  I like to do this explicitly.  If you do not provide the correction command to pinguoin it will run a test (see below) to see if the standard devications seem like they might be different and then choses to use the correct or not.  By being explicit in your code is good practice."
   ]
  },
  {
   "cell_type": "code",
   "execution_count": 21,
   "metadata": {},
   "outputs": [
    {
     "data": {
      "text/html": [
       "<div>\n",
       "<style scoped>\n",
       "    .dataframe tbody tr th:only-of-type {\n",
       "        vertical-align: middle;\n",
       "    }\n",
       "\n",
       "    .dataframe tbody tr th {\n",
       "        vertical-align: top;\n",
       "    }\n",
       "\n",
       "    .dataframe thead th {\n",
       "        text-align: right;\n",
       "    }\n",
       "</style>\n",
       "<table border=\"1\" class=\"dataframe\">\n",
       "  <thead>\n",
       "    <tr style=\"text-align: right;\">\n",
       "      <th></th>\n",
       "      <th>T</th>\n",
       "      <th>dof</th>\n",
       "      <th>tail</th>\n",
       "      <th>p-val</th>\n",
       "      <th>CI95%</th>\n",
       "      <th>cohen-d</th>\n",
       "      <th>BF10</th>\n",
       "      <th>power</th>\n",
       "    </tr>\n",
       "  </thead>\n",
       "  <tbody>\n",
       "    <tr>\n",
       "      <th>T-test</th>\n",
       "      <td>-2.034</td>\n",
       "      <td>23.02</td>\n",
       "      <td>two-sided</td>\n",
       "      <td>0.054</td>\n",
       "      <td>[-11.05, 0.09]</td>\n",
       "      <td>0.74</td>\n",
       "      <td>1.556</td>\n",
       "      <td>0.536</td>\n",
       "    </tr>\n",
       "  </tbody>\n",
       "</table>\n",
       "</div>"
      ],
      "text/plain": [
       "            T    dof       tail  p-val           CI95%  cohen-d   BF10  power\n",
       "T-test -2.034  23.02  two-sided  0.054  [-11.05, 0.09]     0.74  1.556  0.536"
      ]
     },
     "execution_count": 21,
     "metadata": {},
     "output_type": "execute_result"
    }
   ],
   "source": [
    "pg.ttest(x=group1, y=group2, correction=True).round(3)"
   ]
  },
  {
   "cell_type": "markdown",
   "metadata": {},
   "source": [
    "Not too difficult, right? Not surprisingly, the output has exactly the same format as it did last time too.  Of course all the numbers are a bit different. But I hope that the interpretation of this output should be fairly obvious. You read the output in the same way that you would for the Student test. You've got your descriptive statistics, the hypotheses, the test results and some other information. So that's all pretty easy. \n",
    "\n",
    "Except, except... our result isn't significant anymore. When we ran the Student test, we did get a significant effect; but the Welch test on the same data set is not ($t(23.03) = 2.03$, $p = .054$). What does this mean? Should we panic? Is the sky burning? Probably not. The fact that one test is significant and the other isn't doesn't itself mean very much, especially since I kind of rigged the data so that this would happen. As a general rule, it's not a good idea to go out of your way to try to interpret or explain the difference between a $p$-value of .049 and a $p$-value of .051. If this sort of thing happens in real life, the *difference* in these $p$-values is almost certainly due to chance. What does matter is that you take a little bit of care in thinking about what test you use. The Student test and the Welch test have different strengths and weaknesses. If the two populations really do have equal variances, then the Student test is slightly more powerful (lower Type II error rate) than the Welch test. However, if they *don't* have the same variances, then the assumptions of the Student test are violated and you may not be able to trust it: you might end up with a higher Type I error rate. So it's a trade off. However, in real life, I tend to prefer the Welch test; because almost no-one *actually* believes that the population variances are identical."
   ]
  },
  {
   "cell_type": "markdown",
   "metadata": {},
   "source": [
    "### Assumptions of the test\n",
    "\n",
    "The assumptions of the Welch test are very similar to those made by the Student $t$-test, except that the Welch test does not assume homogeneity of variance. This leaves only the assumption of normality, and the assumption of independence. The specifics of these assumptions are the same for the Welch test as for the Student test. \n",
    "\n",
    "\n"
   ]
  },
  {
   "cell_type": "markdown",
   "metadata": {},
   "source": [
    "## The paired-samples $t$-test\n",
    "\n",
    "Regardless of whether we're talking about the Student test or the Welch test, an independent samples $t$-test is intended to be used in a situation where you have two samples that are, well, independent of one another. This situation arises naturally when participants are assigned randomly to one of two experimental conditions, but it provides a very poor approximation to other sorts of research designs. In particular, a repeated measures design -- in which each participant is measured (with respect to the same outcome variable) in both experimental conditions -- is not suited for analysis using independent samples $t$-tests. For example, we might be interested in whether listening to music reduces people's working memory capacity. To that end, we could measure each person's working memory capacity in two conditions: with music, and without music. In an experimental design such as this one, each participant appears in *both* groups. This requires us to approach the problem in a different way; by using the **_paired samples $t$-test_**."
   ]
  },
  {
   "cell_type": "markdown",
   "metadata": {
    "tags": [
     "popout"
    ]
   },
   "source": [
    "At this point we have Drs Harpo, Chico and Zeppo. No prizes for guessing who Dr Groucho is."
   ]
  },
  {
   "cell_type": "markdown",
   "metadata": {},
   "source": [
    "### The data\n",
    "\n",
    "The data set that we'll use this time comes from Dr Chico's class. In her class, students take two major tests, one early in the semester and one later in the semester. To hear her tell it, she runs a very hard class, one that most students find very challenging; but she argues that by setting hard assessments, students are encouraged to work harder. Her theory is that the first test is a bit of a \"wake up call\" for students: when they realise how hard her class really is, they'll work harder for the second test and get a better mark. Is she right? To test this, let's have a look at the `chico.csv` file: "
   ]
  },
  {
   "cell_type": "code",
   "execution_count": 22,
   "metadata": {},
   "outputs": [
    {
     "data": {
      "text/html": [
       "<div>\n",
       "<style scoped>\n",
       "    .dataframe tbody tr th:only-of-type {\n",
       "        vertical-align: middle;\n",
       "    }\n",
       "\n",
       "    .dataframe tbody tr th {\n",
       "        vertical-align: top;\n",
       "    }\n",
       "\n",
       "    .dataframe thead th {\n",
       "        text-align: right;\n",
       "    }\n",
       "</style>\n",
       "<table border=\"1\" class=\"dataframe\">\n",
       "  <thead>\n",
       "    <tr style=\"text-align: right;\">\n",
       "      <th></th>\n",
       "      <th>id</th>\n",
       "      <th>grade_test1</th>\n",
       "      <th>grade_test2</th>\n",
       "    </tr>\n",
       "  </thead>\n",
       "  <tbody>\n",
       "    <tr>\n",
       "      <th>1</th>\n",
       "      <td>student1</td>\n",
       "      <td>42.9</td>\n",
       "      <td>44.6</td>\n",
       "    </tr>\n",
       "    <tr>\n",
       "      <th>2</th>\n",
       "      <td>student2</td>\n",
       "      <td>51.8</td>\n",
       "      <td>54.0</td>\n",
       "    </tr>\n",
       "    <tr>\n",
       "      <th>3</th>\n",
       "      <td>student3</td>\n",
       "      <td>71.7</td>\n",
       "      <td>72.3</td>\n",
       "    </tr>\n",
       "    <tr>\n",
       "      <th>4</th>\n",
       "      <td>student4</td>\n",
       "      <td>51.6</td>\n",
       "      <td>53.4</td>\n",
       "    </tr>\n",
       "    <tr>\n",
       "      <th>5</th>\n",
       "      <td>student5</td>\n",
       "      <td>63.5</td>\n",
       "      <td>63.8</td>\n",
       "    </tr>\n",
       "  </tbody>\n",
       "</table>\n",
       "</div>"
      ],
      "text/plain": [
       "         id  grade_test1  grade_test2\n",
       "1  student1         42.9         44.6\n",
       "2  student2         51.8         54.0\n",
       "3  student3         71.7         72.3\n",
       "4  student4         51.6         53.4\n",
       "5  student5         63.5         63.8"
      ]
     },
     "execution_count": 22,
     "metadata": {},
     "output_type": "execute_result"
    }
   ],
   "source": [
    "chico_df=pd.read_csv('http://gureckislab.org/courses/fall19/labincp/data/chico.csv',index_col=0)\n",
    "chico_df.head()"
   ]
  },
  {
   "cell_type": "markdown",
   "metadata": {},
   "source": [
    "The pandas data frame `chico` contains three variables: an `id` variable that identifies each student in the class, the `grade_test1` variable that records the student grade for the first test, and the `grade_test2` variable that has the grades for the second test. Above are the first five students.\n",
    "\n",
    "At a glance, it does seem like the class is a hard one (most grades are between 50\\% and 60\\%), but it does look like there's an improvement from the first test to the second one. If we take a quick look at the descriptive statistics"
   ]
  },
  {
   "cell_type": "code",
   "execution_count": 23,
   "metadata": {},
   "outputs": [
    {
     "data": {
      "text/html": [
       "<div>\n",
       "<style scoped>\n",
       "    .dataframe tbody tr th:only-of-type {\n",
       "        vertical-align: middle;\n",
       "    }\n",
       "\n",
       "    .dataframe tbody tr th {\n",
       "        vertical-align: top;\n",
       "    }\n",
       "\n",
       "    .dataframe thead th {\n",
       "        text-align: right;\n",
       "    }\n",
       "</style>\n",
       "<table border=\"1\" class=\"dataframe\">\n",
       "  <thead>\n",
       "    <tr style=\"text-align: right;\">\n",
       "      <th></th>\n",
       "      <th>grade_test1</th>\n",
       "      <th>grade_test2</th>\n",
       "    </tr>\n",
       "  </thead>\n",
       "  <tbody>\n",
       "    <tr>\n",
       "      <th>count</th>\n",
       "      <td>20.000000</td>\n",
       "      <td>20.000000</td>\n",
       "    </tr>\n",
       "    <tr>\n",
       "      <th>mean</th>\n",
       "      <td>56.980000</td>\n",
       "      <td>58.385000</td>\n",
       "    </tr>\n",
       "    <tr>\n",
       "      <th>std</th>\n",
       "      <td>6.616137</td>\n",
       "      <td>6.405612</td>\n",
       "    </tr>\n",
       "    <tr>\n",
       "      <th>min</th>\n",
       "      <td>42.900000</td>\n",
       "      <td>44.600000</td>\n",
       "    </tr>\n",
       "    <tr>\n",
       "      <th>25%</th>\n",
       "      <td>51.750000</td>\n",
       "      <td>53.100000</td>\n",
       "    </tr>\n",
       "    <tr>\n",
       "      <th>50%</th>\n",
       "      <td>57.700000</td>\n",
       "      <td>59.700000</td>\n",
       "    </tr>\n",
       "    <tr>\n",
       "      <th>75%</th>\n",
       "      <td>62.050000</td>\n",
       "      <td>63.050000</td>\n",
       "    </tr>\n",
       "    <tr>\n",
       "      <th>max</th>\n",
       "      <td>71.700000</td>\n",
       "      <td>72.300000</td>\n",
       "    </tr>\n",
       "  </tbody>\n",
       "</table>\n",
       "</div>"
      ],
      "text/plain": [
       "       grade_test1  grade_test2\n",
       "count    20.000000    20.000000\n",
       "mean     56.980000    58.385000\n",
       "std       6.616137     6.405612\n",
       "min      42.900000    44.600000\n",
       "25%      51.750000    53.100000\n",
       "50%      57.700000    59.700000\n",
       "75%      62.050000    63.050000\n",
       "max      71.700000    72.300000"
      ]
     },
     "execution_count": 23,
     "metadata": {},
     "output_type": "execute_result"
    }
   ],
   "source": [
    "chico_df.describe()"
   ]
  },
  {
   "cell_type": "markdown",
   "metadata": {},
   "source": [
    "we see that this impression seems to be supported. Across all 20 students the mean grade for the first test is 57\\%, but this rises to 58\\% for the second test. Although, given that the standard deviations are 6.6\\% and 6.4\\% respectively, it's starting to feel like maybe the improvement is just illusory; maybe just random variation. This impression is reinforced when you see the means and confidence intervals plotted in Figure 12. If we were to rely on this plot alone, we'd come to the same conclusion that we got from looking at the descriptive statistics that the `describe()` function produced. Looking at how wide those confidence intervals are, we'd be tempted to think that the apparent improvement in student performance is pure chance."
   ]
  },
  {
   "cell_type": "code",
   "execution_count": 35,
   "metadata": {
    "tags": [
     "hide_input"
    ]
   },
   "outputs": [
    {
     "data": {
      "image/png": "[encoded data removed]",
      "text/plain": [
       "<Figure size 360x360 with 1 Axes>"
      ]
     },
     "metadata": {
      "needs_background": "light"
     },
     "output_type": "display_data"
    },
    {
     "data": {
      "text/html": [
       "<div class=\"alert alert-info\" role=\"alert\"><b>Figure 12.0</b>. Mean grade for test 1 and test 2, with associated 95% confidence intervals.</div>"
      ],
      "text/plain": [
       "<__main__.Caption at 0x127e932e8>"
      ]
     },
     "metadata": {},
     "output_type": "display_data"
    }
   ],
   "source": [
    "chico_tidy_df = chico_df.melt(id_vars='id', var_name=\"testgrade\", value_name='grade')\n",
    "sns.catplot(x='testgrade',y='grade',kind='point',data=chico_tidy_df)\n",
    "\n",
    "plt.show()\n",
    "display(Caption(12.0, \"Mean grade for test 1 and test 2, with associated 95% confidence intervals.\"))"
   ]
  },
  {
   "cell_type": "markdown",
   "metadata": {},
   "source": [
    "Nevertheless, this impression is wrong. To see why, take a look at the scatterplot of the grades for test 1 against the grades for test 2 shown in Figure 12. "
   ]
  },
  {
   "cell_type": "code",
   "execution_count": 36,
   "metadata": {},
   "outputs": [
    {
     "data": {
      "text/html": [
       "<div>\n",
       "<style scoped>\n",
       "    .dataframe tbody tr th:only-of-type {\n",
       "        vertical-align: middle;\n",
       "    }\n",
       "\n",
       "    .dataframe tbody tr th {\n",
       "        vertical-align: top;\n",
       "    }\n",
       "\n",
       "    .dataframe thead th {\n",
       "        text-align: right;\n",
       "    }\n",
       "</style>\n",
       "<table border=\"1\" class=\"dataframe\">\n",
       "  <thead>\n",
       "    <tr style=\"text-align: right;\">\n",
       "      <th></th>\n",
       "      <th>id</th>\n",
       "      <th>grade_test1</th>\n",
       "      <th>grade_test2</th>\n",
       "    </tr>\n",
       "  </thead>\n",
       "  <tbody>\n",
       "    <tr>\n",
       "      <th>1</th>\n",
       "      <td>student1</td>\n",
       "      <td>42.9</td>\n",
       "      <td>44.6</td>\n",
       "    </tr>\n",
       "    <tr>\n",
       "      <th>2</th>\n",
       "      <td>student2</td>\n",
       "      <td>51.8</td>\n",
       "      <td>54.0</td>\n",
       "    </tr>\n",
       "    <tr>\n",
       "      <th>3</th>\n",
       "      <td>student3</td>\n",
       "      <td>71.7</td>\n",
       "      <td>72.3</td>\n",
       "    </tr>\n",
       "    <tr>\n",
       "      <th>4</th>\n",
       "      <td>student4</td>\n",
       "      <td>51.6</td>\n",
       "      <td>53.4</td>\n",
       "    </tr>\n",
       "    <tr>\n",
       "      <th>5</th>\n",
       "      <td>student5</td>\n",
       "      <td>63.5</td>\n",
       "      <td>63.8</td>\n",
       "    </tr>\n",
       "  </tbody>\n",
       "</table>\n",
       "</div>"
      ],
      "text/plain": [
       "         id  grade_test1  grade_test2\n",
       "1  student1         42.9         44.6\n",
       "2  student2         51.8         54.0\n",
       "3  student3         71.7         72.3\n",
       "4  student4         51.6         53.4\n",
       "5  student5         63.5         63.8"
      ]
     },
     "execution_count": 36,
     "metadata": {},
     "output_type": "execute_result"
    }
   ],
   "source": [
    "chico_df.head()"
   ]
  },
  {
   "cell_type": "code",
   "execution_count": 43,
   "metadata": {},
   "outputs": [
    {
     "data": {
      "image/png": "[encoded data removed]",
      "text/plain": [
       "<Figure size 432x288 with 1 Axes>"
      ]
     },
     "metadata": {
      "needs_background": "light"
     },
     "output_type": "display_data"
    },
    {
     "data": {
      "text/html": [
       "<div class=\"alert alert-info\" role=\"alert\"><b>Figure 13.0</b>. Scatterplot showing the individual grades for test 1 and test 2</div>"
      ],
      "text/plain": [
       "<__main__.Caption at 0x12cebfda0>"
      ]
     },
     "metadata": {},
     "output_type": "display_data"
    }
   ],
   "source": [
    "sns.scatterplot(x=chico_df['grade_test1'],y=chico_df['grade_test2'])\n",
    "x=np.linspace(40,73,100)\n",
    "plt.plot(x,x)\n",
    "plt.show()\n",
    "display(Caption(13.0, \"Scatterplot showing the individual grades for test 1 and test 2\"))"
   ]
  },
  {
   "cell_type": "markdown",
   "metadata": {},
   "source": [
    "In this plot, each dot corresponds to the two grades for a given student: if their grade for test 1 ($x$ co-ordinate) equals their grade for test 2 ($y$ co-ordinate), then the dot falls on the line. Points falling above the line are the students that performed better on the second test. Critically, almost all of the data points fall above the diagonal line: almost all of the students *do* seem to have improved their grade, if only by a small amount. This suggests that we should be looking at the *improvement* made by each student from one test to the next, and treating that as our raw data. To do this, we'll need to create a new variable for the `improvement` that each student makes, and add it to the `chico` data frame. The easiest way to do this is as follows: "
   ]
  },
  {
   "cell_type": "code",
   "execution_count": 45,
   "metadata": {},
   "outputs": [],
   "source": [
    "chico_df['improvement']=chico_df['grade_test2']-chico_df['grade_test1']"
   ]
  },
  {
   "cell_type": "markdown",
   "metadata": {},
   "source": [
    "Notice that I assigned the output to a variable called `chico$improvement`. That has the effect of creating a new variable called `improvement` inside the `chico` data frame. So now when I look at the `chico` data frame, I get an output that looks like this:"
   ]
  },
  {
   "cell_type": "code",
   "execution_count": 46,
   "metadata": {},
   "outputs": [
    {
     "data": {
      "text/html": [
       "<div>\n",
       "<style scoped>\n",
       "    .dataframe tbody tr th:only-of-type {\n",
       "        vertical-align: middle;\n",
       "    }\n",
       "\n",
       "    .dataframe tbody tr th {\n",
       "        vertical-align: top;\n",
       "    }\n",
       "\n",
       "    .dataframe thead th {\n",
       "        text-align: right;\n",
       "    }\n",
       "</style>\n",
       "<table border=\"1\" class=\"dataframe\">\n",
       "  <thead>\n",
       "    <tr style=\"text-align: right;\">\n",
       "      <th></th>\n",
       "      <th>id</th>\n",
       "      <th>grade_test1</th>\n",
       "      <th>grade_test2</th>\n",
       "      <th>improvement</th>\n",
       "    </tr>\n",
       "  </thead>\n",
       "  <tbody>\n",
       "    <tr>\n",
       "      <th>1</th>\n",
       "      <td>student1</td>\n",
       "      <td>42.9</td>\n",
       "      <td>44.6</td>\n",
       "      <td>1.7</td>\n",
       "    </tr>\n",
       "    <tr>\n",
       "      <th>2</th>\n",
       "      <td>student2</td>\n",
       "      <td>51.8</td>\n",
       "      <td>54.0</td>\n",
       "      <td>2.2</td>\n",
       "    </tr>\n",
       "    <tr>\n",
       "      <th>3</th>\n",
       "      <td>student3</td>\n",
       "      <td>71.7</td>\n",
       "      <td>72.3</td>\n",
       "      <td>0.6</td>\n",
       "    </tr>\n",
       "    <tr>\n",
       "      <th>4</th>\n",
       "      <td>student4</td>\n",
       "      <td>51.6</td>\n",
       "      <td>53.4</td>\n",
       "      <td>1.8</td>\n",
       "    </tr>\n",
       "    <tr>\n",
       "      <th>5</th>\n",
       "      <td>student5</td>\n",
       "      <td>63.5</td>\n",
       "      <td>63.8</td>\n",
       "      <td>0.3</td>\n",
       "    </tr>\n",
       "  </tbody>\n",
       "</table>\n",
       "</div>"
      ],
      "text/plain": [
       "         id  grade_test1  grade_test2  improvement\n",
       "1  student1         42.9         44.6          1.7\n",
       "2  student2         51.8         54.0          2.2\n",
       "3  student3         71.7         72.3          0.6\n",
       "4  student4         51.6         53.4          1.8\n",
       "5  student5         63.5         63.8          0.3"
      ]
     },
     "execution_count": 46,
     "metadata": {},
     "output_type": "execute_result"
    }
   ],
   "source": [
    "chico_df.head()"
   ]
  },
  {
   "cell_type": "markdown",
   "metadata": {},
   "source": [
    "Now that we've created and stored this `improvement` variable, we can draw a histogram showing the distribution of these improvement scores (using the `hist()` function), shown in Figure 14. "
   ]
  },
  {
   "cell_type": "code",
   "execution_count": 129,
   "metadata": {},
   "outputs": [
    {
     "data": {
      "image/png": "[encoded data removed]",
      "text/plain": [
       "<Figure size 432x288 with 1 Axes>"
      ]
     },
     "metadata": {
      "needs_background": "light"
     },
     "output_type": "display_data"
    },
    {
     "data": {
      "text/html": [
       "<div class=\"alert alert-info\" role=\"alert\"><b>Figure 14.0</b>. Histogram of improvement variable.</div>"
      ],
      "text/plain": [
       "<__main__.Caption at 0x12cee2fd0>"
      ]
     },
     "metadata": {},
     "output_type": "display_data"
    }
   ],
   "source": [
    "sns.distplot(chico_df.improvement,kde=False)\n",
    "plt.show()\n",
    "display(Caption(14.0, \"Histogram of improvement variable.\"))"
   ]
  },
  {
   "cell_type": "markdown",
   "metadata": {},
   "source": [
    "When we look at histogram, it's very clear that there *is* a real improvement here. The vast majority of the students scored higher on the test 2 than on test 1, reflected in the fact that almost the entire histogram is above zero. In fact, if we use `ciMean()` to compute a confidence interval for the population mean of this new variable, "
   ]
  },
  {
   "cell_type": "code",
   "execution_count": 67,
   "metadata": {},
   "outputs": [
    {
     "data": {
      "text/html": [
       "<div>\n",
       "<style scoped>\n",
       "    .dataframe tbody tr th:only-of-type {\n",
       "        vertical-align: middle;\n",
       "    }\n",
       "\n",
       "    .dataframe tbody tr th {\n",
       "        vertical-align: top;\n",
       "    }\n",
       "\n",
       "    .dataframe thead th {\n",
       "        text-align: right;\n",
       "    }\n",
       "</style>\n",
       "<table border=\"1\" class=\"dataframe\">\n",
       "  <thead>\n",
       "    <tr style=\"text-align: right;\">\n",
       "      <th></th>\n",
       "      <th>mean</th>\n",
       "      <th>lower 95CI</th>\n",
       "      <th>upper 95CI</th>\n",
       "    </tr>\n",
       "  </thead>\n",
       "  <tbody>\n",
       "    <tr>\n",
       "      <th>0</th>\n",
       "      <td>1.4</td>\n",
       "      <td>0.95</td>\n",
       "      <td>1.86</td>\n",
       "    </tr>\n",
       "  </tbody>\n",
       "</table>\n",
       "</div>"
      ],
      "text/plain": [
       "   mean  lower 95CI  upper 95CI\n",
       "0   1.4        0.95        1.86"
      ]
     },
     "execution_count": 67,
     "metadata": {},
     "output_type": "execute_result"
    }
   ],
   "source": [
    "def mean_confidence_interval(data, confidence=0.95):\n",
    "    a = data\n",
    "    n = len(a)\n",
    "    m, se = np.mean(a), stats.sem(a)\n",
    "    h = se * stats.t.ppf((1 + confidence) / 2., n-1)\n",
    "    return pd.DataFrame({\"mean\":[m], \"lower 95CI\": [m-h], \"upper 95CI\":[m+h]})\n",
    "\n",
    "chico_df.improvement.aggregate(mean_confidence_interval).round(2)"
   ]
  },
  {
   "cell_type": "markdown",
   "metadata": {},
   "source": [
    "we see that it is 95\\% certain that the true (population-wide) average improvement would lie between 0.95\\% and 1.86\\%. So you can see, qualitatively, what's going on: there is a real \"within student\" improvement (everyone improves by about 1\\%), but it is very small when set against the quite large \"between student\" differences (student grades vary by about 20\\% or so). "
   ]
  },
  {
   "cell_type": "markdown",
   "metadata": {},
   "source": [
    "### What is the paired samples $t$-test?\n",
    "\n",
    "In light of the previous exploration, let's think about how to construct an appropriate $t$ test. One possibility would be to try to run an independent samples $t$-test using `grade_test1` and `grade_test2` as the variables of interest. However, this is clearly the wrong thing to do: the independent samples $t$-test assumes that there is no particular relationship between the two samples. Yet clearly that's not true in this case, because of the repeated measures structure to the data. To use the language that I introduced in the last section, if we were to try to do an independent samples $t$-test, we would be conflating the **_within subject_** differences (which is what we're interested in testing) with the **_between subject_** variability (which we are not). \n",
    "\n",
    "The solution to the problem is obvious, I hope, since we already did all the hard work in the previous section. Instead of running an independent samples $t$-test on `grade_test1` and `grade_test2`, we run a *one-sample* $t$-test on the within-subject difference variable, `improvement`. To formalise this slightly, if $X_{i1}$ is the score that the $i$-th participant obtained on the first variable, and $X_{i2}$ is the score that the same person obtained on the second one, then the difference score is:\n",
    "$\n",
    "D_{i} = X_{i1} - X_{i2} \n",
    "$\n",
    "Notice that the difference scores is *variable 1 minus variable 2* and not the other way around, so if we want improvement to correspond to a positive valued difference, we actually want \"test 2\" to be our \"variable 1\". Equally, we would say that $\\mu_D = \\mu_1 - \\mu_2$ is the population mean for this difference variable. So, to convert this to a hypothesis test, our null hypothesis is that this mean difference is zero; the alternative hypothesis is that it is not:\n",
    "$\n",
    "\\begin{array}{ll}\n",
    "H_0: & \\mu_D = 0  \\\\\n",
    "H_1: & \\mu_D \\neq 0\n",
    "\\end{array}\n",
    "$\n",
    "(this is assuming we're talking about a two-sided test here). This is more or less identical to the way we described the hypotheses for the one-sample $t$-test: the only difference is that the specific value that the null hypothesis predicts is 0. And so our $t$-statistic is defined in more or less the same way too. If we let $\\bar{D}$ denote the mean of the difference scores, then \n",
    "$\n",
    "t = \\frac{\\bar{D}}{\\mbox{SE}({\\bar{D}})}\n",
    "$\n",
    "which is \n",
    "$\n",
    "t = \\frac{\\bar{D}}{\\hat\\sigma_D / \\sqrt{N}}\n",
    "$\n",
    "where $\\hat\\sigma_D$ is the standard deviation of the difference scores. Since this is just an ordinary, one-sample $t$-test, with nothing special about it, the degrees of freedom are still $N-1$. And that's it: the paired samples $t$-test really isn't a new test at all: it's a one-sample $t$-test, but applied to the difference between two variables. It's actually very simple; the only reason it merits a discussion as long as the one we've just gone through is that you need to be able to recognise *when* a paired samples test is appropriate, and to understand *why* it's better than an independent samples $t$ test."
   ]
  },
  {
   "cell_type": "markdown",
   "metadata": {},
   "source": [
    "## Doing the test in Python\n",
    "\n",
    "\n",
    "How do you do a paired samples $t$-test in python. One possibility is to follow the process I outlined above: create a \"difference\" variable and then run a one sample $t$-test on that. Since we've already created a variable called `chico$improvement`, let's do that:"
   ]
  },
  {
   "cell_type": "code",
   "execution_count": 69,
   "metadata": {},
   "outputs": [
    {
     "data": {
      "text/html": [
       "<div>\n",
       "<style scoped>\n",
       "    .dataframe tbody tr th:only-of-type {\n",
       "        vertical-align: middle;\n",
       "    }\n",
       "\n",
       "    .dataframe tbody tr th {\n",
       "        vertical-align: top;\n",
       "    }\n",
       "\n",
       "    .dataframe thead th {\n",
       "        text-align: right;\n",
       "    }\n",
       "</style>\n",
       "<table border=\"1\" class=\"dataframe\">\n",
       "  <thead>\n",
       "    <tr style=\"text-align: right;\">\n",
       "      <th></th>\n",
       "      <th>T</th>\n",
       "      <th>dof</th>\n",
       "      <th>tail</th>\n",
       "      <th>p-val</th>\n",
       "      <th>CI95%</th>\n",
       "      <th>cohen-d</th>\n",
       "      <th>BF10</th>\n",
       "      <th>power</th>\n",
       "    </tr>\n",
       "  </thead>\n",
       "  <tbody>\n",
       "    <tr>\n",
       "      <th>T-test</th>\n",
       "      <td>6.48</td>\n",
       "      <td>19</td>\n",
       "      <td>two-sided</td>\n",
       "      <td>0.0</td>\n",
       "      <td>[0.95, 1.86]</td>\n",
       "      <td>1.45</td>\n",
       "      <td>5991.577</td>\n",
       "      <td>1.0</td>\n",
       "    </tr>\n",
       "  </tbody>\n",
       "</table>\n",
       "</div>"
      ],
      "text/plain": [
       "           T  dof       tail  p-val         CI95%  cohen-d      BF10  power\n",
       "T-test  6.48   19  two-sided    0.0  [0.95, 1.86]     1.45  5991.577    1.0"
      ]
     },
     "execution_count": 69,
     "metadata": {},
     "output_type": "execute_result"
    }
   ],
   "source": [
    "pg.ttest(x=chico_df.improvement, y=0).round(2)"
   ]
  },
  {
   "cell_type": "markdown",
   "metadata": {},
   "source": [
    "The output here is (obviously) formatted exactly the same was as it was the last time we used the `ttest()` function, and it confirms our intuition. There's an average improvement of 1.4\\% from test 1 to test 2, and this is significantly different from 0 ($t(19)=6.48, p<.001$). \n",
    "\n",
    "However, suppose you're lazy and you don't want to go to all the effort of creating a new variable. Or perhaps you just want to keep the difference between one-sample and paired-samples tests clear in your head. If so, you can still use the `ttest()` function. Let's assume that your data organised like they are in the `chico` data frame, where there are two separate variables, one for each measurement. You can still provide each column as group 1 and group 2 as before but just indicate they are paried with the argument `paired=True`:"
   ]
  },
  {
   "cell_type": "code",
   "execution_count": 72,
   "metadata": {},
   "outputs": [
    {
     "data": {
      "text/html": [
       "<div>\n",
       "<style scoped>\n",
       "    .dataframe tbody tr th:only-of-type {\n",
       "        vertical-align: middle;\n",
       "    }\n",
       "\n",
       "    .dataframe tbody tr th {\n",
       "        vertical-align: top;\n",
       "    }\n",
       "\n",
       "    .dataframe thead th {\n",
       "        text-align: right;\n",
       "    }\n",
       "</style>\n",
       "<table border=\"1\" class=\"dataframe\">\n",
       "  <thead>\n",
       "    <tr style=\"text-align: right;\">\n",
       "      <th></th>\n",
       "      <th>T</th>\n",
       "      <th>dof</th>\n",
       "      <th>tail</th>\n",
       "      <th>p-val</th>\n",
       "      <th>CI95%</th>\n",
       "      <th>cohen-d</th>\n",
       "      <th>BF10</th>\n",
       "      <th>power</th>\n",
       "    </tr>\n",
       "  </thead>\n",
       "  <tbody>\n",
       "    <tr>\n",
       "      <th>T-test</th>\n",
       "      <td>-6.48</td>\n",
       "      <td>19</td>\n",
       "      <td>two-sided</td>\n",
       "      <td>0.0</td>\n",
       "      <td>[-1.86, -0.95]</td>\n",
       "      <td>0.22</td>\n",
       "      <td>5991.577</td>\n",
       "      <td>0.15</td>\n",
       "    </tr>\n",
       "  </tbody>\n",
       "</table>\n",
       "</div>"
      ],
      "text/plain": [
       "           T  dof       tail  p-val           CI95%  cohen-d      BF10  power\n",
       "T-test -6.48   19  two-sided    0.0  [-1.86, -0.95]     0.22  5991.577   0.15"
      ]
     },
     "execution_count": 72,
     "metadata": {},
     "output_type": "execute_result"
    }
   ],
   "source": [
    "group1 = chico_df.grade_test1\n",
    "group2 = chico_df.grade_test2\n",
    "pg.ttest(x=group1, y=group2, paired=True).round(2)"
   ]
  },
  {
   "cell_type": "markdown",
   "metadata": {},
   "source": [
    "The numbers are identical to those that come from the one sample test on the improvment column, which of course they have to be given that the paired samples $t$-test is just a one sample test under the hood."
   ]
  },
  {
   "cell_type": "markdown",
   "metadata": {},
   "source": [
    "## One sided tests\n",
    "\n",
    "When introducing the theory of null hypothesis tests, I mentioned that there are some situations when it's appropriate to specify a *one-sided* test (see above). So far, all of the $t$-tests have been two-sided tests. For instance, when we specified a one sample $t$-test for the grades in Dr Zeppo's class, the null hypothesis was that the true mean was 67.5\\%. The alternative hypothesis was that the true mean was greater than *or* less than 67.5\\%. Suppose we were only interested in finding out if the true mean is greater than 67.5\\%, and have no interest whatsoever in testing to find out if the true mean is lower than 67.5\\%. If so, our null hypothesis would be that the true mean is 67.5\\% or less, and the alternative hypothesis would be that the true mean is greater than 67.5\\%. The pingouin `ttest()` function lets you do this, by specifying the `tail` argument. If you set `tail=\"greater\"`, it means that you're testing to see if the true mean is larger than `mu`. If you set `tail=\"less\"`, then you're testing to see if the true mean is smaller than `mu`. Here's how it would work for Dr Zeppo's class:"
   ]
  },
  {
   "cell_type": "code",
   "execution_count": 109,
   "metadata": {},
   "outputs": [
    {
     "data": {
      "text/html": [
       "<div>\n",
       "<style scoped>\n",
       "    .dataframe tbody tr th:only-of-type {\n",
       "        vertical-align: middle;\n",
       "    }\n",
       "\n",
       "    .dataframe tbody tr th {\n",
       "        vertical-align: top;\n",
       "    }\n",
       "\n",
       "    .dataframe thead th {\n",
       "        text-align: right;\n",
       "    }\n",
       "</style>\n",
       "<table border=\"1\" class=\"dataframe\">\n",
       "  <thead>\n",
       "    <tr style=\"text-align: right;\">\n",
       "      <th></th>\n",
       "      <th>T</th>\n",
       "      <th>dof</th>\n",
       "      <th>tail</th>\n",
       "      <th>p-val</th>\n",
       "      <th>CI95%</th>\n",
       "      <th>cohen-d</th>\n",
       "      <th>BF10</th>\n",
       "      <th>power</th>\n",
       "    </tr>\n",
       "  </thead>\n",
       "  <tbody>\n",
       "    <tr>\n",
       "      <th>T-test</th>\n",
       "      <td>2.255</td>\n",
       "      <td>19</td>\n",
       "      <td>two-sided</td>\n",
       "      <td>0.036145</td>\n",
       "      <td>[0.34, 9.26]</td>\n",
       "      <td>0.504</td>\n",
       "      <td>1.795</td>\n",
       "      <td>0.571</td>\n",
       "    </tr>\n",
       "  </tbody>\n",
       "</table>\n",
       "</div>"
      ],
      "text/plain": [
       "            T  dof       tail     p-val         CI95%  cohen-d   BF10  power\n",
       "T-test  2.255   19  two-sided  0.036145  [0.34, 9.26]    0.504  1.795  0.571"
      ]
     },
     "execution_count": 109,
     "metadata": {},
     "output_type": "execute_result"
    }
   ],
   "source": [
    "# old version\n",
    "pg.ttest(x=zeppo_df.grades,y=67.5)"
   ]
  },
  {
   "cell_type": "code",
   "execution_count": 110,
   "metadata": {},
   "outputs": [
    {
     "data": {
      "text/html": [
       "<div>\n",
       "<style scoped>\n",
       "    .dataframe tbody tr th:only-of-type {\n",
       "        vertical-align: middle;\n",
       "    }\n",
       "\n",
       "    .dataframe tbody tr th {\n",
       "        vertical-align: top;\n",
       "    }\n",
       "\n",
       "    .dataframe thead th {\n",
       "        text-align: right;\n",
       "    }\n",
       "</style>\n",
       "<table border=\"1\" class=\"dataframe\">\n",
       "  <thead>\n",
       "    <tr style=\"text-align: right;\">\n",
       "      <th></th>\n",
       "      <th>T</th>\n",
       "      <th>dof</th>\n",
       "      <th>tail</th>\n",
       "      <th>p-val</th>\n",
       "      <th>CI95%</th>\n",
       "      <th>cohen-d</th>\n",
       "      <th>BF10</th>\n",
       "      <th>power</th>\n",
       "    </tr>\n",
       "  </thead>\n",
       "  <tbody>\n",
       "    <tr>\n",
       "      <th>T-test</th>\n",
       "      <td>2.255</td>\n",
       "      <td>19</td>\n",
       "      <td>greater</td>\n",
       "      <td>0.018073</td>\n",
       "      <td>[1.12, inf]</td>\n",
       "      <td>0.504</td>\n",
       "      <td>3.59</td>\n",
       "      <td>0.701</td>\n",
       "    </tr>\n",
       "  </tbody>\n",
       "</table>\n",
       "</div>"
      ],
      "text/plain": [
       "            T  dof     tail     p-val        CI95%  cohen-d  BF10  power\n",
       "T-test  2.255   19  greater  0.018073  [1.12, inf]    0.504  3.59  0.701"
      ]
     },
     "execution_count": 110,
     "metadata": {},
     "output_type": "execute_result"
    }
   ],
   "source": [
    "pg.ttest(x=zeppo_df.grades,y=67.5,tail='greater')"
   ]
  },
  {
   "cell_type": "markdown",
   "metadata": {},
   "source": [
    "Notice that there are a few changes from the output that we saw last time. Most important is the fact that the tail output has changed predictably. The second thing to note is that, although the $t$-statistic and degrees of freedom have not changed, the $p$-value has. This is because the one-sided test has a different rejection region from the two-sided test. If you've forgotten why this is and what it means, you may find it helpful to read back over Chapter on hypothesis testing, and Section on one-sided tests in particular. The third thing to note is that the confidence interval is different too: it now reports a \"one-sided\" confidence interval rather than a two-sided one. In a two-sided confidence interval, we're trying to find numbers $a$ and $b$ such that we're 95\\% confident that the true mean lies *between* $a$ and $b$. In a one-sided confidence interval, we're trying to find a single number $a$ such that we're 95\\% confident that the true mean is *greater than* $a$ (or less than $a$ if you set `tail=\"less\"`).\n",
    "\n",
    "So that's how to do a one-sided one sample $t$-test. However, all versions of the $t$-test can be one-sided. For an independent samples $t$ test, you could have a one-sided test if you're only interestd in testing to see if group A has *higher* scores than group B, but have no interest in finding out if group B has higher scores than group A. Let's suppose that, for Dr Harpo's class, you wanted to see if Anastasia's students had higher grades than Bernadette's. The `ttest()` function lets you do this, again by specifying the `tail` argument."
   ]
  },
  {
   "cell_type": "code",
   "execution_count": 78,
   "metadata": {},
   "outputs": [
    {
     "data": {
      "text/html": [
       "<div>\n",
       "<style scoped>\n",
       "    .dataframe tbody tr th:only-of-type {\n",
       "        vertical-align: middle;\n",
       "    }\n",
       "\n",
       "    .dataframe tbody tr th {\n",
       "        vertical-align: top;\n",
       "    }\n",
       "\n",
       "    .dataframe thead th {\n",
       "        text-align: right;\n",
       "    }\n",
       "</style>\n",
       "<table border=\"1\" class=\"dataframe\">\n",
       "  <thead>\n",
       "    <tr style=\"text-align: right;\">\n",
       "      <th></th>\n",
       "      <th>T</th>\n",
       "      <th>dof</th>\n",
       "      <th>tail</th>\n",
       "      <th>p-val</th>\n",
       "      <th>CI95%</th>\n",
       "      <th>cohen-d</th>\n",
       "      <th>BF10</th>\n",
       "      <th>power</th>\n",
       "    </tr>\n",
       "  </thead>\n",
       "  <tbody>\n",
       "    <tr>\n",
       "      <th>T-test</th>\n",
       "      <td>-2.12</td>\n",
       "      <td>31</td>\n",
       "      <td>less</td>\n",
       "      <td>0.02</td>\n",
       "      <td>[-inf, -1.09]</td>\n",
       "      <td>0.74</td>\n",
       "      <td>3.51</td>\n",
       "      <td>0.66</td>\n",
       "    </tr>\n",
       "  </tbody>\n",
       "</table>\n",
       "</div>"
      ],
      "text/plain": [
       "           T  dof  tail  p-val          CI95%  cohen-d  BF10  power\n",
       "T-test -2.12   31  less   0.02  [-inf, -1.09]     0.74  3.51   0.66"
      ]
     },
     "execution_count": 78,
     "metadata": {},
     "output_type": "execute_result"
    }
   ],
   "source": [
    "group1 = harpo_df[harpo_df['tutor']==\"Bernadette\"].grade\n",
    "group2 = harpo_df[harpo_df['tutor']==\"Anastasia\"].grade\n",
    "\n",
    "pg.ttest(x=group1, y=group2, correction=False, tail='one-sided').round(2)"
   ]
  },
  {
   "cell_type": "markdown",
   "metadata": {},
   "source": [
    "Again, the output changes in a predictable way. The definition of the null and alternative hypotheses has changed, the $p$-value has changed, and it now reports a one-sided confidence interval rather than a two-sided one.  You might be surprised that although we specified `tail=\"one-sided\"` in the code, the output says `tail=less`.  This is because pinguoin's `ttest()` function automatically infers which side the one tail should appear on.  Since the t-value is negative here it chose `less` but if you swap the groups arguments it will flip to `greater`:"
   ]
  },
  {
   "cell_type": "code",
   "execution_count": 80,
   "metadata": {},
   "outputs": [
    {
     "data": {
      "text/html": [
       "<div>\n",
       "<style scoped>\n",
       "    .dataframe tbody tr th:only-of-type {\n",
       "        vertical-align: middle;\n",
       "    }\n",
       "\n",
       "    .dataframe tbody tr th {\n",
       "        vertical-align: top;\n",
       "    }\n",
       "\n",
       "    .dataframe thead th {\n",
       "        text-align: right;\n",
       "    }\n",
       "</style>\n",
       "<table border=\"1\" class=\"dataframe\">\n",
       "  <thead>\n",
       "    <tr style=\"text-align: right;\">\n",
       "      <th></th>\n",
       "      <th>T</th>\n",
       "      <th>dof</th>\n",
       "      <th>tail</th>\n",
       "      <th>p-val</th>\n",
       "      <th>CI95%</th>\n",
       "      <th>cohen-d</th>\n",
       "      <th>BF10</th>\n",
       "      <th>power</th>\n",
       "    </tr>\n",
       "  </thead>\n",
       "  <tbody>\n",
       "    <tr>\n",
       "      <th>T-test</th>\n",
       "      <td>2.12</td>\n",
       "      <td>31</td>\n",
       "      <td>greater</td>\n",
       "      <td>0.02</td>\n",
       "      <td>[1.09, inf]</td>\n",
       "      <td>0.74</td>\n",
       "      <td>3.51</td>\n",
       "      <td>0.66</td>\n",
       "    </tr>\n",
       "  </tbody>\n",
       "</table>\n",
       "</div>"
      ],
      "text/plain": [
       "           T  dof     tail  p-val        CI95%  cohen-d  BF10  power\n",
       "T-test  2.12   31  greater   0.02  [1.09, inf]     0.74  3.51   0.66"
      ]
     },
     "execution_count": 80,
     "metadata": {},
     "output_type": "execute_result"
    }
   ],
   "source": [
    "group1 = harpo_df[harpo_df['tutor']==\"Bernadette\"].grade\n",
    "group2 = harpo_df[harpo_df['tutor']==\"Anastasia\"].grade\n",
    "\n",
    "pg.ttest(x=group2, y=group1, correction=False, tail='one-sided').round(2)"
   ]
  },
  {
   "cell_type": "markdown",
   "metadata": {},
   "source": [
    "For this reason as long as you specify the `tail` correct you don't need to worry about it!\n",
    "\n",
    "What about the paired samples $t$-test? Suppose we wanted to test the hypothesis that grades go *up* from test 1 to test 2 in Dr Zeppo's class, and are not prepared to consider the idea that the grades go down. Again, we can use the `tail` argument to specify the one-sided test, and it works the same way it does for the independent samples $t$-test.  If your data are in wide form, as they are in the `chico` data frame, you'd use this command:"
   ]
  },
  {
   "cell_type": "code",
   "execution_count": 79,
   "metadata": {},
   "outputs": [
    {
     "data": {
      "text/html": [
       "<div>\n",
       "<style scoped>\n",
       "    .dataframe tbody tr th:only-of-type {\n",
       "        vertical-align: middle;\n",
       "    }\n",
       "\n",
       "    .dataframe tbody tr th {\n",
       "        vertical-align: top;\n",
       "    }\n",
       "\n",
       "    .dataframe thead th {\n",
       "        text-align: right;\n",
       "    }\n",
       "</style>\n",
       "<table border=\"1\" class=\"dataframe\">\n",
       "  <thead>\n",
       "    <tr style=\"text-align: right;\">\n",
       "      <th></th>\n",
       "      <th>T</th>\n",
       "      <th>dof</th>\n",
       "      <th>tail</th>\n",
       "      <th>p-val</th>\n",
       "      <th>CI95%</th>\n",
       "      <th>cohen-d</th>\n",
       "      <th>BF10</th>\n",
       "      <th>power</th>\n",
       "    </tr>\n",
       "  </thead>\n",
       "  <tbody>\n",
       "    <tr>\n",
       "      <th>T-test</th>\n",
       "      <td>-6.48</td>\n",
       "      <td>19</td>\n",
       "      <td>less</td>\n",
       "      <td>0.0</td>\n",
       "      <td>[-inf, -1.03]</td>\n",
       "      <td>0.22</td>\n",
       "      <td>1.198e+04</td>\n",
       "      <td>0.24</td>\n",
       "    </tr>\n",
       "  </tbody>\n",
       "</table>\n",
       "</div>"
      ],
      "text/plain": [
       "           T  dof  tail  p-val          CI95%  cohen-d       BF10  power\n",
       "T-test -6.48   19  less    0.0  [-inf, -1.03]     0.22  1.198e+04   0.24"
      ]
     },
     "execution_count": 79,
     "metadata": {},
     "output_type": "execute_result"
    }
   ],
   "source": [
    "group1 = chico_df.grade_test1\n",
    "group2 = chico_df.grade_test2\n",
    "pg.ttest(x=group1, y=group2, paired=True, tail='one-sided').round(2)"
   ]
  },
  {
   "cell_type": "markdown",
   "metadata": {},
   "source": [
    "Yet again, the output changes in a predictable way. The hypotheses have changed, the $p$-value has changed, and the confidence interval is now one-sided. "
   ]
  },
  {
   "cell_type": "markdown",
   "metadata": {},
   "source": [
    "## Effect size\n",
    "\n",
    "The most commonly used measure of effect size for a $t$-test is **_Cohen's $d$_** [@Cohen1988]. It's a very simple measure in principle, with quite a few wrinkles when you start digging into the details. Cohen himself defined it primarily in the context of an independent samples $t$-test, specifically the Student test. In that context, a natural way of defining the effect size is to divide the difference between the means by an estimate of the standard deviation. In other words, we're looking to calculate *something* along the lines of this:\n",
    "$\n",
    "d = \\frac{\\mbox{(mean 1)} - \\mbox{(mean 2)}}{\\mbox{std dev}}\n",
    "$\n",
    "and he suggested a rough guide for interpreting $d$ in Table 1. You'd think that this would be pretty unambiguous, but it's not; largely because Cohen wasn't too specific on what he thought should be used as the measure of the standard deviation (in his defence, he was trying to make a broader point in his book, not nitpick about tiny details). As discussed by @McGrath2006, there are several different version in common usage, and each author tends to adopt slightly different notation. For the sake of simplicity (as opposed to accuracy) I'll use $d$ to refer to any statistic that you calculate from the sample, and  use $\\delta$ to refer to a theoretical population effect. Obviously, that does mean that there are several different things all called $d$. pinouin has a number of different functions for computing [effect sizes](https://pingouin-stats.org/api.html#effect-sizes).  \n",
    "\n",
    "My suspicion is that the only time that you would want Cohen's $d$ is when you're running a $t$-test, and the good news is that the pingouin `ttest()` function we saw already output the cohen's d for the given test!"
   ]
  },
  {
   "cell_type": "code",
   "execution_count": 88,
   "metadata": {
    "tags": [
     "hide_input"
    ]
   },
   "outputs": [
    {
     "data": {
      "text/html": [
       "<div class=\"alert alert-info\" role=\"alert\"><b>Table 1.0</b>. A (very) rough guide to interpreting Cohen's $d$. My personal recommendation is to not use these blindly. The $d$ statistic has a natural interpretation in and of itself: it redescribes the different in means as the number of standard deviations that separates those means. So it's generally a good idea to think about what that means in practical terms. In some contexts a \"small\" effect could be of big practical importance. In other situations a \"large\" effect may not be all that interesting.</div>"
      ],
      "text/plain": [
       "<__main__.Caption at 0x12cd76240>"
      ]
     },
     "metadata": {},
     "output_type": "display_data"
    },
    {
     "data": {
      "text/html": [
       "<div>\n",
       "<style scoped>\n",
       "    .dataframe tbody tr th:only-of-type {\n",
       "        vertical-align: middle;\n",
       "    }\n",
       "\n",
       "    .dataframe tbody tr th {\n",
       "        vertical-align: top;\n",
       "    }\n",
       "\n",
       "    .dataframe thead th {\n",
       "        text-align: right;\n",
       "    }\n",
       "</style>\n",
       "<table border=\"1\" class=\"dataframe\">\n",
       "  <thead>\n",
       "    <tr style=\"text-align: right;\">\n",
       "      <th></th>\n",
       "      <th>rough interpretation</th>\n",
       "    </tr>\n",
       "    <tr>\n",
       "      <th>d-value</th>\n",
       "      <th></th>\n",
       "    </tr>\n",
       "  </thead>\n",
       "  <tbody>\n",
       "    <tr>\n",
       "      <th>about 0.2</th>\n",
       "      <td>small effect</td>\n",
       "    </tr>\n",
       "    <tr>\n",
       "      <th>about 0.5</th>\n",
       "      <td>moderate effect</td>\n",
       "    </tr>\n",
       "    <tr>\n",
       "      <th>about 0.8</th>\n",
       "      <td>large effect</td>\n",
       "    </tr>\n",
       "  </tbody>\n",
       "</table>\n",
       "</div>"
      ],
      "text/plain": [
       "          rough interpretation\n",
       "d-value                       \n",
       "about 0.2         small effect\n",
       "about 0.5      moderate effect\n",
       "about 0.8         large effect"
      ]
     },
     "execution_count": 88,
     "metadata": {},
     "output_type": "execute_result"
    }
   ],
   "source": [
    "display(Caption(1.0, \"A (very) rough guide to interpreting Cohen's $d$. My personal recommendation is to not use these blindly. The $d$ statistic has a natural interpretation in and of itself: it redescribes the different in means as the number of standard deviations that separates those means. So it's generally a good idea to think about what that means in practical terms. In some contexts a \\\"small\\\" effect could be of big practical importance. In other situations a \\\"large\\\" effect may not be all that interesting.\", c_type='t'))\n",
    "\n",
    "pd.DataFrame({\"d-value\": ['about 0.2', 'about 0.5', 'about 0.8'], \"rough interpretation\": ['small effect', 'moderate effect', 'large effect']}).set_index(\"d-value\")"
   ]
  },
  {
   "cell_type": "markdown",
   "metadata": {
    "tags": [
     "popout"
    ]
   },
   "source": [
    "It is no accident that cohen's d measure looks and sounds a lot like d' from our signal detection lab!  They measure roughly the same thing!"
   ]
  },
  {
   "cell_type": "markdown",
   "metadata": {},
   "source": [
    "### Cohen's $d$ from one sample\n",
    "\n",
    "The simplest situation to consider is the one corresponding to a one-sample $t$-test. In this case, the one sample mean $\\bar{X}$ and one (hypothesised) population mean $\\mu_o$ to compare it to. Not only that, there's really only one sensible way to estimate the population standard deviation: we just use our usual estimate $\\hat{\\sigma}$. Therefore, we end up with the following as the only way to calculate $d$, \n",
    "$\n",
    "d = \\frac{\\bar{X} - \\mu_0}{\\hat{\\sigma}}\n",
    "$\n",
    "\n",
    "First lets check the output of the t-test again for Dr. Zeppo's class (the one sample t-test):"
   ]
  },
  {
   "cell_type": "code",
   "execution_count": 93,
   "metadata": {},
   "outputs": [
    {
     "data": {
      "text/html": [
       "<div>\n",
       "<style scoped>\n",
       "    .dataframe tbody tr th:only-of-type {\n",
       "        vertical-align: middle;\n",
       "    }\n",
       "\n",
       "    .dataframe tbody tr th {\n",
       "        vertical-align: top;\n",
       "    }\n",
       "\n",
       "    .dataframe thead th {\n",
       "        text-align: right;\n",
       "    }\n",
       "</style>\n",
       "<table border=\"1\" class=\"dataframe\">\n",
       "  <thead>\n",
       "    <tr style=\"text-align: right;\">\n",
       "      <th></th>\n",
       "      <th>T</th>\n",
       "      <th>dof</th>\n",
       "      <th>tail</th>\n",
       "      <th>p-val</th>\n",
       "      <th>CI95%</th>\n",
       "      <th>cohen-d</th>\n",
       "      <th>BF10</th>\n",
       "      <th>power</th>\n",
       "    </tr>\n",
       "  </thead>\n",
       "  <tbody>\n",
       "    <tr>\n",
       "      <th>T-test</th>\n",
       "      <td>2.255</td>\n",
       "      <td>19</td>\n",
       "      <td>two-sided</td>\n",
       "      <td>0.036145</td>\n",
       "      <td>[0.34, 9.26]</td>\n",
       "      <td>0.504</td>\n",
       "      <td>1.795</td>\n",
       "      <td>0.571</td>\n",
       "    </tr>\n",
       "  </tbody>\n",
       "</table>\n",
       "</div>"
      ],
      "text/plain": [
       "            T  dof       tail     p-val         CI95%  cohen-d   BF10  power\n",
       "T-test  2.255   19  two-sided  0.036145  [0.34, 9.26]    0.504  1.795  0.571"
      ]
     },
     "execution_count": 93,
     "metadata": {},
     "output_type": "execute_result"
    }
   ],
   "source": [
    "pg.ttest(x=zeppo_df.grades,y=67.5)"
   ]
  },
  {
   "cell_type": "markdown",
   "metadata": {},
   "source": [
    "And here is how to use the pingouin effect size function:"
   ]
  },
  {
   "cell_type": "code",
   "execution_count": 92,
   "metadata": {},
   "outputs": [
    {
     "data": {
      "text/plain": [
       "0.5041691240370938"
      ]
     },
     "execution_count": 92,
     "metadata": {},
     "output_type": "execute_result"
    }
   ],
   "source": [
    "pg.compute_effsize(x=zeppo_df.grades,y=67.5, eftype='cohen')"
   ]
  },
  {
   "cell_type": "markdown",
   "metadata": {},
   "source": [
    "Yep, same number. Overall, then, the psychology students in Dr Zeppo's class are achieving grades (mean = 72.3\\%) that are about .5 standard deviations higher than the level that you'd expect (67.5\\%) if they were performing at the same level as other students. Judged against Cohen's rough guide, this is a moderate effect size."
   ]
  },
  {
   "cell_type": "markdown",
   "metadata": {},
   "source": [
    "### Cohen's $d$ from a Student $t$ test\n",
    "\n",
    "The majority of discussions of Cohen's $d$ focus on a situation that is analogous to Student's independent samples $t$ test, and it's in this context that the story becomes messier, since there are several different versions of $d$ that you might want to use in this situation, and you can use the `eftype` argument to the `compute_effsize()` function to pick the one you want (see the options [here](https://pingouin-stats.org/generated/pingouin.compute_effsize.html#pingouin.compute_effsize)). To understand why there are multiple versions of $d$, it helps to take the time to write down a formula that corresponds to the true population effect size $\\delta$. It's pretty straightforward, \n",
    "$\n",
    "\\delta = \\frac{\\mu_1 - \\mu_2}{\\sigma}\n",
    "$\n",
    "where, as usual, $\\mu_1$ and $\\mu_2$ are the population means corresponding to group 1 and group 2 respectively, and $\\sigma$ is the standard deviation (the same for both populations). The obvious way to estimate $\\delta$ is to do exactly the same thing that we did in the $t$-test itself: use the sample means as the top line, and a pooled standard deviation estimate for the bottom line:\n",
    "$\n",
    "d = \\frac{\\bar{X}_1 - \\bar{X}_2}{\\hat{\\sigma}_p}\n",
    "$\n",
    "where $\\hat\\sigma_p$ is the exact same pooled standard deviation measure that appears in the $t$-test. This is the most commonly used version of Cohen's $d$ when applied to the outcome of a Student $t$-test ,and is sometimes referred to as Hedges' $g$ statistic [@Hedges1981]. It corresponds to `eftype = \"hedges\"` in the `compute_effsize()` function, and it's the default. \n",
    "\n",
    "However, there are other possibilities, which I'll briefly describe. Firstly, you may have reason to want to use only one of the two groups as the basis for calculating the standard deviation. This approach (often called Glass' $\\Delta$) only makes most sense when you have good reason to treat one of the two groups as a purer reflection of \"natural variation\" than the other. This can happen if, for instance, one of the two groups is a control group. If that's what you want, then use `method = \"glass\"` when using `compute_effsize()`. Note that the pingouin version of this function uses the group with the lowest variance for this calculation rather than letting you choose.  \n",
    "\n",
    "In any case, ignoring all those variations that you could make use of if you wanted, let's have a look at how to calculate the default version."
   ]
  },
  {
   "cell_type": "code",
   "execution_count": 94,
   "metadata": {},
   "outputs": [
    {
     "data": {
      "text/html": [
       "<div>\n",
       "<style scoped>\n",
       "    .dataframe tbody tr th:only-of-type {\n",
       "        vertical-align: middle;\n",
       "    }\n",
       "\n",
       "    .dataframe tbody tr th {\n",
       "        vertical-align: top;\n",
       "    }\n",
       "\n",
       "    .dataframe thead th {\n",
       "        text-align: right;\n",
       "    }\n",
       "</style>\n",
       "<table border=\"1\" class=\"dataframe\">\n",
       "  <thead>\n",
       "    <tr style=\"text-align: right;\">\n",
       "      <th></th>\n",
       "      <th>T</th>\n",
       "      <th>dof</th>\n",
       "      <th>tail</th>\n",
       "      <th>p-val</th>\n",
       "      <th>CI95%</th>\n",
       "      <th>cohen-d</th>\n",
       "      <th>BF10</th>\n",
       "      <th>power</th>\n",
       "    </tr>\n",
       "  </thead>\n",
       "  <tbody>\n",
       "    <tr>\n",
       "      <th>T-test</th>\n",
       "      <td>-2.12</td>\n",
       "      <td>31</td>\n",
       "      <td>two-sided</td>\n",
       "      <td>0.04</td>\n",
       "      <td>[-10.76, -0.2]</td>\n",
       "      <td>0.74</td>\n",
       "      <td>1.755</td>\n",
       "      <td>0.54</td>\n",
       "    </tr>\n",
       "  </tbody>\n",
       "</table>\n",
       "</div>"
      ],
      "text/plain": [
       "           T  dof       tail  p-val           CI95%  cohen-d   BF10  power\n",
       "T-test -2.12   31  two-sided   0.04  [-10.76, -0.2]     0.74  1.755   0.54"
      ]
     },
     "execution_count": 94,
     "metadata": {},
     "output_type": "execute_result"
    }
   ],
   "source": [
    "group1 = harpo_df[harpo_df['tutor']==\"Bernadette\"].grade\n",
    "group2 = harpo_df[harpo_df['tutor']==\"Anastasia\"].grade\n",
    "\n",
    "pg.ttest(x=group1, y=group2, correction=False).round(2)"
   ]
  },
  {
   "cell_type": "code",
   "execution_count": 107,
   "metadata": {},
   "outputs": [
    {
     "name": "stdout",
     "output_type": "stream",
     "text": [
      "Different versions\n",
      "----\n",
      "Cohens: -0.7395614040382655\n",
      "Hedges: -0.7215233210129419\n",
      "Glass (using minimum variance group): -0.9485464839690173\n"
     ]
    }
   ],
   "source": [
    "group1 = harpo_df[harpo_df['tutor']==\"Bernadette\"].grade\n",
    "group2 = harpo_df[harpo_df['tutor']==\"Anastasia\"].grade\n",
    "\n",
    "print(\"Different versions\")\n",
    "print(\"----\")\n",
    "print(\"Cohens:\",pg.compute_effsize(x=group1,y=group2, eftype='cohen'))\n",
    "print(\"Hedges:\",pg.compute_effsize(x=group1,y=group2, eftype='hedges'))\n",
    "print(\"Glass (using minimum variance group):\",pg.compute_effsize(x=group1,y=group2, eftype='glass'))"
   ]
  },
  {
   "cell_type": "markdown",
   "metadata": {},
   "source": [
    "### Cohen's $d$ from a Welch test\n",
    "\n",
    "Suppose the situation you're in is more like the Welch test: you still have two independent samples, but you no longer believe that the corresponding populations have equal variances. When this happens, we have to redefine what we mean by the population effect size. I'll refer to this new measure as $\\delta^\\prime$, so as to keep it distinct from the measure $\\delta$ which we defined previously. What @Cohen1988 suggests is that we could define our new population effect size by averaging the two population variances. What this means is that we get:\n",
    "$\n",
    "\\delta^\\prime = \\frac{\\mu_1 - \\mu_2}{\\sigma^\\prime}\n",
    "$\n",
    "where \n",
    "$\n",
    "\\sigma^\\prime = \\sqrt{\\displaystyle{\\frac{ {\\sigma_1}^2 + {\\sigma_2}^2}{2}}}\n",
    "$\n",
    "This seems quite reasonable, but notice that none of the measures that we've discussed so far are attempting to estimate this new quantity. It might just be my own ignorance of the topic, but I'm only aware of one version of Cohen's $d$ that actually estimates the unequal-variance effect size $\\delta^\\prime$ rather than the equal-variance effect size $\\delta$.\n",
    "All we do to calculate $d$ for this version (`method = \"unequal\"`) is substitute the sample means $\\bar{X}_1$ and $\\bar{X}_2$ and the corrected sample standard deviations $\\hat{\\sigma}_1$ and $\\hat{\\sigma}_2$ into the equation for $\\delta^\\prime$. This gives us the following equation for $d$, \n",
    "$\n",
    "d = \\frac{\\bar{X}_1 - \\bar{X}_2}{\\sqrt{\\displaystyle{\\frac{ {\\hat\\sigma_1}^2 + {\\hat\\sigma_2}^2}{2}}}}\n",
    "$\n",
    "as our estimate of the effect size. This version is not computed by the current version of pingouin so you'll have to implement it by hand if you want to use it."
   ]
  },
  {
   "cell_type": "code",
   "execution_count": 108,
   "metadata": {},
   "outputs": [
    {
     "data": {
      "text/html": [
       "<div>\n",
       "<style scoped>\n",
       "    .dataframe tbody tr th:only-of-type {\n",
       "        vertical-align: middle;\n",
       "    }\n",
       "\n",
       "    .dataframe tbody tr th {\n",
       "        vertical-align: top;\n",
       "    }\n",
       "\n",
       "    .dataframe thead th {\n",
       "        text-align: right;\n",
       "    }\n",
       "</style>\n",
       "<table border=\"1\" class=\"dataframe\">\n",
       "  <thead>\n",
       "    <tr style=\"text-align: right;\">\n",
       "      <th></th>\n",
       "      <th>T</th>\n",
       "      <th>dof</th>\n",
       "      <th>tail</th>\n",
       "      <th>p-val</th>\n",
       "      <th>CI95%</th>\n",
       "      <th>cohen-d</th>\n",
       "      <th>BF10</th>\n",
       "      <th>power</th>\n",
       "    </tr>\n",
       "  </thead>\n",
       "  <tbody>\n",
       "    <tr>\n",
       "      <th>T-test</th>\n",
       "      <td>-2.034</td>\n",
       "      <td>23.02</td>\n",
       "      <td>two-sided</td>\n",
       "      <td>0.05361</td>\n",
       "      <td>[-11.05, 0.09]</td>\n",
       "      <td>0.74</td>\n",
       "      <td>1.556</td>\n",
       "      <td>0.536</td>\n",
       "    </tr>\n",
       "  </tbody>\n",
       "</table>\n",
       "</div>"
      ],
      "text/plain": [
       "            T    dof       tail    p-val           CI95%  cohen-d   BF10  \\\n",
       "T-test -2.034  23.02  two-sided  0.05361  [-11.05, 0.09]     0.74  1.556   \n",
       "\n",
       "        power  \n",
       "T-test  0.536  "
      ]
     },
     "execution_count": 108,
     "metadata": {},
     "output_type": "execute_result"
    }
   ],
   "source": [
    "pg.ttest(x=group1,y=group2, correction=True)"
   ]
  },
  {
   "cell_type": "markdown",
   "metadata": {},
   "source": [
    "### Cohen's $d$ from a paired-samples test\n",
    "\n",
    "\n",
    "Finally, what should we do for a paired samples $t$-test? In this case, the answer depends on what it is you're trying to do. *If* you want to measure your effect sizes relative to the distribution of difference scores, the measure of $d$ that you calculate is just (`method = \"paired\"`)\n",
    "$\n",
    "d = \\frac{\\bar{D}}{\\hat{\\sigma}_D}\n",
    "$\n",
    "where $\\hat{\\sigma}_D$ is the estimate of the standard deviation of the differences. The calculation here is pretty straightforward.  What we see is that the overall effect of the differences size is quite large ($d$>1.0)."
   ]
  },
  {
   "cell_type": "code",
   "execution_count": 120,
   "metadata": {},
   "outputs": [
    {
     "data": {
      "text/plain": [
       "1.4479515277482184"
      ]
     },
     "execution_count": 120,
     "metadata": {},
     "output_type": "execute_result"
    }
   ],
   "source": [
    "chico_df.improvement.mean()/chico_df.improvement.std()"
   ]
  },
  {
   "cell_type": "code",
   "execution_count": 117,
   "metadata": {},
   "outputs": [
    {
     "data": {
      "text/html": [
       "<div>\n",
       "<style scoped>\n",
       "    .dataframe tbody tr th:only-of-type {\n",
       "        vertical-align: middle;\n",
       "    }\n",
       "\n",
       "    .dataframe tbody tr th {\n",
       "        vertical-align: top;\n",
       "    }\n",
       "\n",
       "    .dataframe thead th {\n",
       "        text-align: right;\n",
       "    }\n",
       "</style>\n",
       "<table border=\"1\" class=\"dataframe\">\n",
       "  <thead>\n",
       "    <tr style=\"text-align: right;\">\n",
       "      <th></th>\n",
       "      <th>T</th>\n",
       "      <th>dof</th>\n",
       "      <th>tail</th>\n",
       "      <th>p-val</th>\n",
       "      <th>CI95%</th>\n",
       "      <th>cohen-d</th>\n",
       "      <th>BF10</th>\n",
       "      <th>power</th>\n",
       "    </tr>\n",
       "  </thead>\n",
       "  <tbody>\n",
       "    <tr>\n",
       "      <th>T-test</th>\n",
       "      <td>6.48</td>\n",
       "      <td>19</td>\n",
       "      <td>two-sided</td>\n",
       "      <td>0.0</td>\n",
       "      <td>[0.95, 1.86]</td>\n",
       "      <td>1.45</td>\n",
       "      <td>5991.577</td>\n",
       "      <td>1.0</td>\n",
       "    </tr>\n",
       "  </tbody>\n",
       "</table>\n",
       "</div>"
      ],
      "text/plain": [
       "           T  dof       tail  p-val         CI95%  cohen-d      BF10  power\n",
       "T-test  6.48   19  two-sided    0.0  [0.95, 1.86]     1.45  5991.577    1.0"
      ]
     },
     "execution_count": 117,
     "metadata": {},
     "output_type": "execute_result"
    }
   ],
   "source": [
    "pg.ttest(x=chico_df.improvement, y=0).round(2)"
   ]
  },
  {
   "cell_type": "code",
   "execution_count": 116,
   "metadata": {},
   "outputs": [
    {
     "name": "stdout",
     "output_type": "stream",
     "text": [
      "Different versions\n",
      "----\n",
      "Cohens: 1.4479515277482184\n",
      "Hedges: 1.4479515277482184\n",
      "Glass (using minimum variance group): 1.4479515277482184\n"
     ]
    }
   ],
   "source": [
    "print(\"Different versions\")\n",
    "print(\"----\")\n",
    "print(\"Cohens:\",pg.compute_effsize(x=chico_df.improvement,y=0, eftype='cohen'))\n",
    "print(\"Hedges:\",pg.compute_effsize(x=chico_df.improvement,y=0, eftype='hedges'))\n",
    "print(\"Glass (using minimum variance group):\",pg.compute_effsize(x=chico_df.improvement,y=0, eftype='glass'))"
   ]
  },
  {
   "cell_type": "markdown",
   "metadata": {},
   "source": [
    "The only wrinkle is figuring out whether this is the measure you want or not. To the extent that you care about the practical consequences of your research, you often want to measure the effect size relative to the *original* variables, not the *difference* scores (e.g., the 1\\% improvement in Dr Chico's class is pretty small when measured against the amount of between-student variation in grades), in which case you use the same versions of Cohen's $d$ that you would use for a Student or Welch test. For instance, when we do that for Dr Chico's class, \n",
    "\n"
   ]
  },
  {
   "cell_type": "code",
   "execution_count": 128,
   "metadata": {},
   "outputs": [
    {
     "data": {
      "text/plain": [
       "0.21579282752456122"
      ]
     },
     "execution_count": 128,
     "metadata": {},
     "output_type": "execute_result"
    }
   ],
   "source": [
    "pg.compute_effsize(x=chico_df.grade_test2,  y=chico_df.grade_test1, paired=True)"
   ]
  },
  {
   "cell_type": "markdown",
   "metadata": {},
   "source": [
    "What we see is that the overall effect size is quite small, when assessed on the scale of the original variables."
   ]
  },
  {
   "cell_type": "markdown",
   "metadata": {},
   "source": [
    "## Checking the normality of a sample\n",
    "\n",
    "All of the tests that we have discussed so far in this chapter have assumed that the data are normally distributed. This assumption is often quite reasonable, because the central limit theorem does tend to ensure that many real world quantities are normally distributed: any time that you suspect that your variable is *actually* an average of lots of different things, there's a pretty good chance that it will be normally distributed; or at least close enough to normal that you can get away with using $t$-tests. However, life doesn't come with guarantees; and besides, there are lots of ways in which you can end up with variables that are highly non-normal. For example, any time you think that your variable is actually the minimum of lots of different things, there's a very good chance it will end up quite skewed. In psychology, response time (RT) data is a good example of this. If you suppose that there are lots of things that could trigger a response from a human participant, then the actual response will occur the first time one of these trigger events occurs. (This is a massive oversimplification.) This means that RT data are systematically non-normal.  Okay, so if normality is assumed by all the tests, and is mostly but not always satisfied (at least approximately) by real world data, how can we check the normality of a sample? In this section I discuss two methods: QQ plots, and the Shapiro-Wilk test."
   ]
  },
  {
   "cell_type": "markdown",
   "metadata": {},
   "source": [
    "### QQ plots"
   ]
  },
  {
   "cell_type": "markdown",
   "metadata": {},
   "source": [
    "One way to check whether a sample violates the normality assumption is to draw a **_\"quantile-quantile\" plot_** (QQ plot). This allows you to visually check whether you're seeing any systematic violations. In a QQ plot, each observation is plotted as a single dot. The x co-ordinate is the theoretical quantile that the observation should fall in, if the data were normally distributed (with mean and variance estimated from the sample) and on the y co-ordinate is the actual quantile of the data within the sample. If the data are normal, the dots should form a straight line. For instance, lets see what happens if we generate data by sampling from a normal distribution, and then drawing a QQ plot using the python function `qqplot()` from the statsmodels package ([documentation here](https://www.statsmodels.org/stable/generated/statsmodels.graphics.gofplots.qqplot.html)). The `qqplot()` function has a few arguments, but the only one we really need to care about here is `data`, a vector specifying the data whose normality we're interested in checking. Here's the Python commands:"
   ]
  },
  {
   "cell_type": "code",
   "execution_count": 141,
   "metadata": {},
   "outputs": [
    {
     "data": {
      "image/png": "[encoded data removed]",
      "text/plain": [
       "<Figure size 432x288 with 1 Axes>"
      ]
     },
     "metadata": {
      "needs_background": "light"
     },
     "output_type": "display_data"
    },
    {
     "data": {
      "text/html": [
       "<div class=\"alert alert-info\" role=\"alert\"><b>Figure 15.0</b>. Histogram of `normal_data`, a normally distributed sample with 100 observations.</div>"
      ],
      "text/plain": [
       "<__main__.Caption at 0x12d5403c8>"
      ]
     },
     "metadata": {},
     "output_type": "display_data"
    }
   ],
   "source": [
    "normal_data = np.random.normal(0,1,100)\n",
    "sns.distplot(normal_data,kde=False)\n",
    "plt.show()\n",
    "display(Caption(15.0, \"Histogram of `normal_data`, a normally distributed sample with 100 observations.\"))"
   ]
  },
  {
   "cell_type": "code",
   "execution_count": 142,
   "metadata": {},
   "outputs": [
    {
     "data": {
      "image/png": "[encoded data removed]",
      "text/plain": [
       "<Figure size 432x288 with 1 Axes>"
      ]
     },
     "metadata": {
      "needs_background": "light"
     },
     "output_type": "display_data"
    },
    {
     "data": {
      "text/html": [
       "<div class=\"alert alert-info\" role=\"alert\"><b>Figure 16.0</b>. Normal QQ plot of `normal_data`, a normally distributed sample with 100 observations.</div>"
      ],
      "text/plain": [
       "<__main__.Caption at 0x12d574438>"
      ]
     },
     "metadata": {},
     "output_type": "display_data"
    }
   ],
   "source": [
    "import statsmodels.api as sm\n",
    "sm.qqplot(normal_data)\n",
    "plt.show()\n",
    "display(Caption(16.0, \"Normal QQ plot of `normal_data`, a normally distributed sample with 100 observations.\"))"
   ]
  },
  {
   "cell_type": "markdown",
   "metadata": {},
   "source": [
    "As we can see the QQ plot of random normal data is approximately linear and so we can be lead to believe that this is mostly normal data."
   ]
  },
  {
   "cell_type": "markdown",
   "metadata": {},
   "source": [
    "### Shapiro-Wilk tests\n",
    "\n",
    "Although QQ plots provide a nice way to informally check the normality of your data, sometimes you'll want to do something a bit more formal. And when that moment comes, the **_Shapiro-Wilk test_** [@Shapiro1965] is probably what you're looking for. (Either that, or the Kolmogorov-Smirnov test, which is probably more traditional than the Shapiro-Wilk, though most things I've read seem to suggest Shapiro-Wilk is the better test of normality; although Kolomogorov-Smirnov is a general purpose test of distributional equivalence, so it can be adapted to handle other kinds of distribution tests). As you'd expect, the null hypothesis being tested is that a set of $N$ observations is normally distributed. The test statistic that it calculates is conventionally denoted as $W$, and it's calculated as follows. First, we sort the observations in order of increasing size, and let $X_1$ be the smallest value in the sample, $X_2$ be the second smallest and so on. Then the value of $W$ is given by\n",
    "$\n",
    "W = \\frac{ \\left( \\sum_{i = 1}^N a_i X_i \\right)^2 }{ \\sum_{i = 1}^N (X_i - \\bar{X})^2}\n",
    "$\n",
    "where $\\bar{X}$ is the mean of the observations, and the $a_i$ values are ... mumble, mumble ... something complicated that is a bit beyond the scope of an introductory text. \n",
    "\n",
    "Because it's a little hard to explain the maths behind the $W$ statistic, a better idea is to give a broad brush description of how it behaves. Unlike most of the test statistics that we'll encounter in this book, it's actually *small* values of $W$ that indicated departure from normality. The $W$ statistic has a maximum value of 1, which arises when the data look \"perfectly normal\". The smaller the value of $W$, the less normal the data are. However, the sampling distribution for $W$  -- which is not one of the standard ones that I discussed in Chapter on probability and is in fact a complete pain in the arse to work with -- does depend on the sample size $N$. To give you a feel for what these sampling distributions look like, I've plotted three of them in Figure \\@ref(fig:swdist). Notice that, as the sample size starts to get large, the sampling distribution becomes very tightly clumped up near $W=1$, and as a consequence, for larger samples $W$ doesn't have to be very much smaller than 1 in order for the test to be significant. "
   ]
  },
  {
   "cell_type": "code",
   "execution_count": 158,
   "metadata": {
    "tags": [
     "hide_input"
    ]
   },
   "outputs": [
    {
     "data": {
      "text/html": [
       "<img src='../../images/navarro_img/ttest2/shapirowilkdist-eps-converted-to.pdf' width='600'>"
      ],
      "text/plain": [
       "<IPython.core.display.HTML object>"
      ]
     },
     "metadata": {},
     "output_type": "display_data"
    },
    {
     "data": {
      "text/html": [
       "<div class=\"alert alert-info\" role=\"alert\"><b>Figure 17</b>. Sampling distribution of the Shapiro-Wilk $W$ statistic, under the null hypothesis that the data are normally distributed, for samples of size 10, 20 and 50. Note that *small* values of $W$ indicate departure from normality.</div>"
      ],
      "text/plain": [
       "<__main__.Caption at 0x12d5858d0>"
      ]
     },
     "metadata": {},
     "output_type": "display_data"
    }
   ],
   "source": [
    "display(HTML(\"<img src='../../images/navarro_img/ttest2/shapirowilkdist-eps-converted-to.pdf' width='600'>\"))\n",
    "                                                                 \n",
    "display(Caption(17,\"Sampling distribution of the Shapiro-Wilk $W$ statistic, under the null hypothesis that the data are normally distributed, for samples of size 10, 20 and 50. Note that *small* values of $W$ indicate departure from normality.\"))"
   ]
  },
  {
   "cell_type": "markdown",
   "metadata": {},
   "source": [
    "To run the test in R, we use the [scipi shapiro()](https://docs.scipy.org/doc/scipy/reference/generated/scipy.stats.shapiro.html) function ( `stats.shapiro()`). It has only a single argument `x`, which is a numeric vector containing the data whose normality needs to be tested. For example, when we apply this function to  our `normal.data`, we get the following:"
   ]
  },
  {
   "cell_type": "code",
   "execution_count": 157,
   "metadata": {},
   "outputs": [
    {
     "name": "stdout",
     "output_type": "stream",
     "text": [
      "The value of W is 0.9836190342903137, p=0.25148776173591614\n"
     ]
    }
   ],
   "source": [
    "W, p=stats.shapiro(x=normal_data)\n",
    "\n",
    "print(f\"The value of W is {W}, p={p}\")"
   ]
  },
  {
   "cell_type": "markdown",
   "metadata": {},
   "source": [
    "So, not surprisingly, we have no evidence that these data depart from normality, the p value is high and the value of W is close to 1.0.  When reporting the results for a Shapiro-Wilk test, you should (as usual) make sure to include the test statistic $W$ and the $p$ value (the return values of the scipy function), though given that the sampling distribution depends so heavily on $N$ it would probably be a politeness to include $N$ as well."
   ]
  },
  {
   "cell_type": "markdown",
   "metadata": {},
   "source": [
    "### Examples\n",
    "\n",
    "Let's step through a couple examples of this test for a few different simulated data sets."
   ]
  },
  {
   "cell_type": "code",
   "execution_count": 168,
   "metadata": {},
   "outputs": [
    {
     "name": "stdout",
     "output_type": "stream",
     "text": [
      "The value of W is 0.9846897125244141, p=0.3015797734260559\n"
     ]
    },
    {
     "data": {
      "image/png": "[encoded data removed]",
      "text/plain": [
       "<Figure size 1440x432 with 2 Axes>"
      ]
     },
     "metadata": {
      "needs_background": "light"
     },
     "output_type": "display_data"
    },
    {
     "data": {
      "text/html": [
       "<div class=\"alert alert-info\" role=\"alert\"><b>Figure 18</b>. Histogram of `normal_data`, a normally distributed sample with 100 observations.  A normal QQ plot of</div>"
      ],
      "text/plain": [
       "<__main__.Caption at 0x12d5acb00>"
      ]
     },
     "metadata": {},
     "output_type": "display_data"
    }
   ],
   "source": [
    "fix, ax = plt.subplots(1,2, figsize=(20,6))\n",
    "ax = ax.ravel()\n",
    "\n",
    "normal_data = np.random.normal(0,1,100)\n",
    "sns.distplot(normal_data,kde=False,ax=ax[0])\n",
    "\n",
    "sm.qqplot(normal_data, ax=ax[1])\n",
    "\n",
    "W, p=stats.shapiro(x=normal_data)\n",
    "\n",
    "print(f\"The value of W is {W}, p={p}\")\n",
    "\n",
    "plt.show()\n",
    "display(Caption(18, \"Histogram of `normal_data`, a normally distributed sample with 100 observations.  A normal QQ plot of\"))"
   ]
  },
  {
   "cell_type": "markdown",
   "metadata": {},
   "source": [
    "As you can see from the code block above, the Shapiro-Wilk statistic associated with the data in Figure 18 is $W ~= 1.0$, indicating that no significant departures from normality were detected. The p-value is also quite high. As you can see, these data form a pretty straight line; which is no surprise given that we sampled them from a normal distribution! \n",
    "\n",
    "In contrast, have a look at the two data sets shown in Figure 19 and 20. Figure 19 shows the histogram and a QQ plot for a data set that is highly skewed: the QQ plot curves downward. As a consequence, the Shapiro-Wilk statistic is $W~=.80$, reflecting a significant departure from normality ($p<.001$). Figure 20 show the same plots for a heavy tailed (i.e., high kurtosis) data set: in this case, the QQ plot flattens in the middle and curves sharply at either end.  The resulting Shapiro-Wilk statistic is $W ~ .80$, again reflecting significant non-normality ($p < .001$)."
   ]
  },
  {
   "cell_type": "code",
   "execution_count": 180,
   "metadata": {},
   "outputs": [
    {
     "name": "stdout",
     "output_type": "stream",
     "text": [
      "The value of W is 0.8626810312271118, p=3.5924156094324644e-08\n"
     ]
    },
    {
     "data": {
      "image/png": "[encoded data removed]",
      "text/plain": [
       "<Figure size 1440x432 with 2 Axes>"
      ]
     },
     "metadata": {
      "needs_background": "light"
     },
     "output_type": "display_data"
    },
    {
     "data": {
      "text/html": [
       "<div class=\"alert alert-info\" role=\"alert\"><b>Figure 19</b>. Histogram of `skewed_data`, a Gamma(1,2) distributed sample with 100 observations.  A normal QQ plot of the same data.</div>"
      ],
      "text/plain": [
       "<__main__.Caption at 0x12d531438>"
      ]
     },
     "metadata": {},
     "output_type": "display_data"
    }
   ],
   "source": [
    "fix, ax = plt.subplots(1,2, figsize=(20,6))\n",
    "ax = ax.ravel()\n",
    "\n",
    "skewed_data = np.random.gamma(1,2,100)\n",
    "sns.distplot(skewed_data,kde=False,ax=ax[0])\n",
    "\n",
    "sm.qqplot(skewed_data, ax=ax[1])\n",
    "\n",
    "W, p=stats.shapiro(x=skewed_data)\n",
    "\n",
    "print(f\"The value of W is {W}, p={p}\")\n",
    "\n",
    "plt.show()\n",
    "display(Caption(19, \"Histogram of `skewed_data`, a Gamma(1,2) distributed sample with 100 observations.  A normal QQ plot of the same data.\"))"
   ]
  },
  {
   "cell_type": "code",
   "execution_count": 182,
   "metadata": {},
   "outputs": [
    {
     "name": "stdout",
     "output_type": "stream",
     "text": [
      "The value of W is 0.8173249363899231, p=8.741585233451588e-10\n"
     ]
    },
    {
     "data": {
      "image/png": "[encoded data removed]",
      "text/plain": [
       "<Figure size 1440x432 with 2 Axes>"
      ]
     },
     "metadata": {
      "needs_background": "light"
     },
     "output_type": "display_data"
    },
    {
     "data": {
      "text/html": [
       "<div class=\"alert alert-info\" role=\"alert\"><b>Figure 20</b>. Histogram of `heavy_tailed_data`, a normal (0,1) distributed sample with 80 observations mixed with 20 samples from N(1,5).  A normal QQ plot of the same data.</div>"
      ],
      "text/plain": [
       "<__main__.Caption at 0x12d614278>"
      ]
     },
     "metadata": {},
     "output_type": "display_data"
    }
   ],
   "source": [
    "fix, ax = plt.subplots(1,2, figsize=(20,6))\n",
    "ax = ax.ravel()\n",
    "\n",
    "heavy_tailed_data = np.concatenate((np.random.normal(0,1,80), np.random.normal(1,5,20)))\n",
    "sns.distplot(heavy_tailed_data,kde=False,ax=ax[0])\n",
    "\n",
    "sm.qqplot(heavy_tailed_data, ax=ax[1])\n",
    "\n",
    "W, p=stats.shapiro(x=heavy_tailed_data)\n",
    "\n",
    "print(f\"The value of W is {W}, p={p}\")\n",
    "\n",
    "plt.show()\n",
    "display(Caption(20, \"Histogram of `heavy_tailed_data`, a normal (0,1) distributed sample with 80 observations mixed with 20 samples from N(1,5).  A normal QQ plot of the same data.\"))"
   ]
  },
  {
   "cell_type": "markdown",
   "metadata": {},
   "source": [
    "\n",
    "## Testing non-normal data with Wilcoxon tests\n",
    "\n",
    "Okay, suppose your data turn out to be pretty substantially non-normal, but you still want to run something like a $t$-test? This situation occurs a lot in real life.  And this is the situation where you want to use Wilcoxon tests. \n",
    "\n",
    "Like the $t$-test, the Wilcoxon test comes in two forms, one-sample and two-sample, and they're used in more or less the exact same situations as the corresponding $t$-tests. Unlike the $t$-test, the Wilcoxon test doesn't assume normality, which is nice. In fact, they don't make any assumptions about what kind of distribution is involved: in statistical jargon, this makes them **_nonparametric tests_**. While avoiding the normality assumption is nice, there's a drawback: the Wilcoxon test is usually less powerful than the $t$-test (i.e., higher Type II error rate). I won't discuss the Wilcoxon tests in as much detail as the $t$-tests, but I'll give you a brief overview."
   ]
  },
  {
   "cell_type": "markdown",
   "metadata": {},
   "source": [
    "### Two sample Wilcoxon test\n",
    "\n",
    "I'll start by describing the **_two sample Wilcoxon test_** (also known as the Mann-Whitney test), since it's actually simpler than the one sample version. Suppose we're looking at the scores of 10 people on some test. Since my imagination has now failed me completely, let's pretend it's a \"test of awesomeness\", and there are two groups of people, \"A\" and \"B\". I'm curious to know which group is more awesome. The data are included in the file `awesome.csv`, and like many of the data sets I've been using, it contains only a single data frame, in this case called `awesome`. Here's the data:"
   ]
  },
  {
   "cell_type": "code",
   "execution_count": 201,
   "metadata": {},
   "outputs": [
    {
     "data": {
      "text/html": [
       "<div>\n",
       "<style scoped>\n",
       "    .dataframe tbody tr th:only-of-type {\n",
       "        vertical-align: middle;\n",
       "    }\n",
       "\n",
       "    .dataframe tbody tr th {\n",
       "        vertical-align: top;\n",
       "    }\n",
       "\n",
       "    .dataframe thead th {\n",
       "        text-align: right;\n",
       "    }\n",
       "</style>\n",
       "<table border=\"1\" class=\"dataframe\">\n",
       "  <thead>\n",
       "    <tr style=\"text-align: right;\">\n",
       "      <th></th>\n",
       "      <th>scores</th>\n",
       "      <th>group</th>\n",
       "    </tr>\n",
       "  </thead>\n",
       "  <tbody>\n",
       "    <tr>\n",
       "      <th>1</th>\n",
       "      <td>6.4</td>\n",
       "      <td>A</td>\n",
       "    </tr>\n",
       "    <tr>\n",
       "      <th>2</th>\n",
       "      <td>10.7</td>\n",
       "      <td>A</td>\n",
       "    </tr>\n",
       "    <tr>\n",
       "      <th>3</th>\n",
       "      <td>11.9</td>\n",
       "      <td>A</td>\n",
       "    </tr>\n",
       "    <tr>\n",
       "      <th>4</th>\n",
       "      <td>7.3</td>\n",
       "      <td>A</td>\n",
       "    </tr>\n",
       "    <tr>\n",
       "      <th>5</th>\n",
       "      <td>10.0</td>\n",
       "      <td>A</td>\n",
       "    </tr>\n",
       "    <tr>\n",
       "      <th>6</th>\n",
       "      <td>14.5</td>\n",
       "      <td>B</td>\n",
       "    </tr>\n",
       "    <tr>\n",
       "      <th>7</th>\n",
       "      <td>10.4</td>\n",
       "      <td>B</td>\n",
       "    </tr>\n",
       "    <tr>\n",
       "      <th>8</th>\n",
       "      <td>12.9</td>\n",
       "      <td>B</td>\n",
       "    </tr>\n",
       "    <tr>\n",
       "      <th>9</th>\n",
       "      <td>11.7</td>\n",
       "      <td>B</td>\n",
       "    </tr>\n",
       "    <tr>\n",
       "      <th>10</th>\n",
       "      <td>13.0</td>\n",
       "      <td>B</td>\n",
       "    </tr>\n",
       "  </tbody>\n",
       "</table>\n",
       "</div>"
      ],
      "text/plain": [
       "    scores group\n",
       "1      6.4     A\n",
       "2     10.7     A\n",
       "3     11.9     A\n",
       "4      7.3     A\n",
       "5     10.0     A\n",
       "6     14.5     B\n",
       "7     10.4     B\n",
       "8     12.9     B\n",
       "9     11.7     B\n",
       "10    13.0     B"
      ]
     },
     "execution_count": 201,
     "metadata": {},
     "output_type": "execute_result"
    }
   ],
   "source": [
    "awesome_df=pd.read_csv('http://gureckislab.org/courses/fall19/labincp/data/awesome.csv',index_col=0)\n",
    "awesome_df"
   ]
  },
  {
   "cell_type": "markdown",
   "metadata": {},
   "source": [
    "As long as there are no ties (i.e., people with the exact same awesomeness score), then the test that we want to do is surprisingly simple. All we have to do is construct a table that compares every observation in group $A$ against every observation in group $B$. Whenever the group $A$ datum is larger, we place a check mark in the table.\n",
    "\n",
    "We then count up the number of checkmarks. This is our test statistic, $W$. (Actually, there are two different versions of the test statistic; they differ from each other by a constant value. The version that I've described is the one that Python calculates.) The actual sampling distribution for $W$ is somewhat complicated, and I'll skip the details. For our purposes, it's sufficient to note that the interpretation of $W$ is qualitatively the same as the interpretation of $t$ or $z$. That is, if we want a two-sided test, then we reject the null hypothesis when $W$ is very large or very small; but if we have a directional (i.e., one-sided) hypothesis, then we only use one or the other. \n",
    "\n",
    "The test to do this in pingouin is named for the Mann-Whitney version of the test (`mwu()`).  This it the non-parametric version of the independent t-test:"
   ]
  },
  {
   "cell_type": "code",
   "execution_count": 205,
   "metadata": {},
   "outputs": [
    {
     "data": {
      "text/html": [
       "<div>\n",
       "<style scoped>\n",
       "    .dataframe tbody tr th:only-of-type {\n",
       "        vertical-align: middle;\n",
       "    }\n",
       "\n",
       "    .dataframe tbody tr th {\n",
       "        vertical-align: top;\n",
       "    }\n",
       "\n",
       "    .dataframe thead th {\n",
       "        text-align: right;\n",
       "    }\n",
       "</style>\n",
       "<table border=\"1\" class=\"dataframe\">\n",
       "  <thead>\n",
       "    <tr style=\"text-align: right;\">\n",
       "      <th></th>\n",
       "      <th>U-val</th>\n",
       "      <th>tail</th>\n",
       "      <th>p-val</th>\n",
       "      <th>RBC</th>\n",
       "      <th>CLES</th>\n",
       "    </tr>\n",
       "  </thead>\n",
       "  <tbody>\n",
       "    <tr>\n",
       "      <th>MWU</th>\n",
       "      <td>3.0</td>\n",
       "      <td>two-sided</td>\n",
       "      <td>0.060103</td>\n",
       "      <td>0.76</td>\n",
       "      <td>0.88</td>\n",
       "    </tr>\n",
       "  </tbody>\n",
       "</table>\n",
       "</div>"
      ],
      "text/plain": [
       "     U-val       tail     p-val   RBC  CLES\n",
       "MWU    3.0  two-sided  0.060103  0.76  0.88"
      ]
     },
     "execution_count": 205,
     "metadata": {},
     "output_type": "execute_result"
    }
   ],
   "source": [
    "group1=awesome_df.groupby('group').get_group('A').scores\n",
    "group2=awesome_df.groupby('group').get_group('B').scores\n",
    "pg.mwu(x=group1, y=group2, tail='two-sided')"
   ]
  },
  {
   "cell_type": "markdown",
   "metadata": {},
   "source": [
    "The structure of the `mwu()` function should feel very familiar to you by now and is exactly like the pingouin `ttest()`.  Just like we saw with the `ttest()` function, there is an `tail` argument that you can use to switch between two-sided tests and one-sided tests.\n",
    "\n",
    "The paired version of the test is called the Wilcoxon test and is provided by the `wilcoxon()` function in pinouin.  It is otherwise called the same way."
   ]
  },
  {
   "cell_type": "code",
   "execution_count": 206,
   "metadata": {},
   "outputs": [
    {
     "name": "stderr",
     "output_type": "stream",
     "text": [
      "/Users/gureckis/.virtualenvs/science/lib/python3.7/site-packages/scipy/stats/morestats.py:2863: UserWarning: Sample size too small for normal approximation.\n",
      "  warnings.warn(\"Sample size too small for normal approximation.\")\n"
     ]
    },
    {
     "data": {
      "text/html": [
       "<div>\n",
       "<style scoped>\n",
       "    .dataframe tbody tr th:only-of-type {\n",
       "        vertical-align: middle;\n",
       "    }\n",
       "\n",
       "    .dataframe tbody tr th {\n",
       "        vertical-align: top;\n",
       "    }\n",
       "\n",
       "    .dataframe thead th {\n",
       "        text-align: right;\n",
       "    }\n",
       "</style>\n",
       "<table border=\"1\" class=\"dataframe\">\n",
       "  <thead>\n",
       "    <tr style=\"text-align: right;\">\n",
       "      <th></th>\n",
       "      <th>W-val</th>\n",
       "      <th>tail</th>\n",
       "      <th>p-val</th>\n",
       "      <th>RBC</th>\n",
       "      <th>CLES</th>\n",
       "    </tr>\n",
       "  </thead>\n",
       "  <tbody>\n",
       "    <tr>\n",
       "      <th>Wilcoxon</th>\n",
       "      <td>1.0</td>\n",
       "      <td>two-sided</td>\n",
       "      <td>0.105645</td>\n",
       "      <td>-0.867</td>\n",
       "      <td>0.88</td>\n",
       "    </tr>\n",
       "  </tbody>\n",
       "</table>\n",
       "</div>"
      ],
      "text/plain": [
       "          W-val       tail     p-val    RBC  CLES\n",
       "Wilcoxon    1.0  two-sided  0.105645 -0.867  0.88"
      ]
     },
     "execution_count": 206,
     "metadata": {},
     "output_type": "execute_result"
    }
   ],
   "source": [
    "group1=awesome_df.groupby('group').get_group('A').scores\n",
    "group2=awesome_df.groupby('group').get_group('B').scores\n",
    "pg.wilcoxon(x=group1, y=group2, tail='two-sided')"
   ]
  },
  {
   "cell_type": "markdown",
   "metadata": {},
   "source": [
    "Notice that the paired and unpaired versions of the test are slightly different in terms of what p-values you get."
   ]
  },
  {
   "cell_type": "markdown",
   "metadata": {},
   "source": [
    "## Summary\n",
    "\n",
    "- A one sample $t$-test is used to compare a single sample mean against a hypothesised value for the population mean. \n",
    "- An independent samples $t$-test is used to compare the means of two groups, and tests the null hypothesis that they have the same mean. It comes in two forms: the Student test  assumes that the groups have the same standard deviation, the Welch test  does not.\n",
    "- A paired samples $t$-test is used when you have two scores from each person, and you want to test the null hypothesis that the two scores have the same mean. It is equivalent to taking the difference between the two scores for each person, and then running a one sample $t$-test on the difference scores.\n",
    "- Effect size calculations for the difference between means can be calculated via the Cohen's $d$ statistic. \n",
    "- You can check the normality of a sample using QQ plots and the Shapiro-Wilk test. \n",
    "- If your data are non-normal, you can use Wilcoxon tests instead of $t$-tests. "
   ]
  },
  {
   "cell_type": "markdown",
   "metadata": {},
   "source": [
    "## References\n",
    "\n",
    "```{bibliography} ../../references.bib\n",
    ":filter: docname in docnames\n",
    "```"
   ]
  },
  {
   "cell_type": "code",
   "execution_count": null,
   "metadata": {},
   "outputs": [],
   "source": []
  }
 ],
 "metadata": {
  "celltoolbar": "Tags",
  "kernelspec": {
   "display_name": "Python 3",
   "language": "python",
   "name": "python3"
  },
  "language_info": {
   "codemirror_mode": {
    "name": "ipython",
    "version": 3
   },
   "file_extension": ".py",
   "mimetype": "text/x-python",
   "name": "python",
   "nbconvert_exporter": "python",
   "pygments_lexer": "ipython3",
   "version": "3.7.3"
  },
  "toc": {
   "base_numbering": 1,
   "nav_menu": {},
   "number_sections": false,
   "sideBar": true,
   "skip_h1_title": false,
   "title_cell": "Table of Contents",
   "title_sidebar": "Contents",
   "toc_cell": false,
   "toc_position": {},
   "toc_section_display": true,
   "toc_window_display": false
  }
 },
 "nbformat": 4,
 "nbformat_minor": 2
}
