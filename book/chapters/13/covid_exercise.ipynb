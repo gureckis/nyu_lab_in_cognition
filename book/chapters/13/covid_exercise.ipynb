{
 "cells": [
  {
   "cell_type": "markdown",
   "metadata": {},
   "source": [
    "# COVID Deaths by ZipCode in NYC"
   ]
  },
  {
   "cell_type": "code",
   "execution_count": 1,
   "metadata": {},
   "outputs": [],
   "source": [
    "import numpy.random as npr\n",
    "import numpy as np\n",
    "import pandas as pd\n",
    "import seaborn as sns\n",
    "import matplotlib.pyplot as plt\n",
    "import scipy.stats as stats\n",
    "import statsmodels.formula.api as smf\n",
    "\n",
    "import warnings\n",
    "warnings.filterwarnings(\"ignore\")\n",
    "\n",
    "from myst_nb import glue # for the Jupyter book chapter"
   ]
  },
  {
   "cell_type": "code",
   "execution_count": 2,
   "metadata": {},
   "outputs": [],
   "source": [
    "race_df=pd.read_csv('covid_data/data-6RFy5.csv').set_index('Zipcode')\n",
    "income_df=pd.read_csv('covid_data/data-dAArg.csv').set_index('Zipcode')\n",
    "asthma_df=pd.read_csv('covid_data/data-oMup5.csv').set_index('Zipcode')\n",
    "pop_df=pd.read_csv('covid_data/data-rtgjl.csv').set_index('Zipcode')\n",
    "age_df=pd.read_csv('covid_data/data-vS9Is.csv').set_index('Zipcode')\n",
    "house_size_df = pd.read_csv('covid_data/data-yReq2.csv').set_index('Zipcode')"
   ]
  },
  {
   "cell_type": "code",
   "execution_count": 3,
   "metadata": {},
   "outputs": [],
   "source": [
    "covid_df = race_df.join(income_df, rsuffix=\"DROP\").filter(regex=\"^(?!.*DROP)\")\n",
    "covid_df = covid_df.join(asthma_df, rsuffix=\"DROP\").filter(regex=\"^(?!.*DROP)\")\n",
    "covid_df = covid_df.join(pop_df, rsuffix=\"DROP\").filter(regex=\"^(?!.*DROP)\")\n",
    "covid_df = covid_df.join(age_df, rsuffix=\"DROP\").filter(regex=\"^(?!.*DROP)\")\n",
    "covid_df = covid_df.join(house_size_df, rsuffix=\"DROP\").filter(regex=\"^(?!.*DROP)\")\n",
    "covid_df=covid_df.reset_index()"
   ]
  },
  {
   "cell_type": "code",
   "execution_count": 4,
   "metadata": {},
   "outputs": [],
   "source": [
    "covid_df.columns =  ['zip','borough','neighborhood','deathper100k', 'whitepct', 'medianincome', 'asthmapct', 'popdens','medianage', 'housesize']"
   ]
  },
  {
   "cell_type": "code",
   "execution_count": 5,
   "metadata": {},
   "outputs": [],
   "source": [
    "covid_df.to_csv('covid.csv')"
   ]
  },
  {
   "cell_type": "code",
   "execution_count": 46,
   "metadata": {},
   "outputs": [
    {
     "data": {
      "text/html": [
       "<div>\n",
       "<style scoped>\n",
       "    .dataframe tbody tr th:only-of-type {\n",
       "        vertical-align: middle;\n",
       "    }\n",
       "\n",
       "    .dataframe tbody tr th {\n",
       "        vertical-align: top;\n",
       "    }\n",
       "\n",
       "    .dataframe thead th {\n",
       "        text-align: right;\n",
       "    }\n",
       "</style>\n",
       "<table border=\"1\" class=\"dataframe\">\n",
       "  <thead>\n",
       "    <tr style=\"text-align: right;\">\n",
       "      <th></th>\n",
       "      <th>zip</th>\n",
       "      <th>borough</th>\n",
       "      <th>neighborhood</th>\n",
       "      <th>deathper100k</th>\n",
       "      <th>whitepct</th>\n",
       "      <th>medianincome</th>\n",
       "      <th>asthmapct</th>\n",
       "      <th>popdens</th>\n",
       "      <th>medianage</th>\n",
       "      <th>housesize</th>\n",
       "    </tr>\n",
       "  </thead>\n",
       "  <tbody>\n",
       "    <tr>\n",
       "      <th>0</th>\n",
       "      <td>10001</td>\n",
       "      <td>Manhattan</td>\n",
       "      <td>Chelsea/NoMad/West Chelsea</td>\n",
       "      <td>94.16</td>\n",
       "      <td>62.91</td>\n",
       "      <td>88526</td>\n",
       "      <td>9.6</td>\n",
       "      <td>37291.65</td>\n",
       "      <td>37</td>\n",
       "      <td>1.76</td>\n",
       "    </tr>\n",
       "    <tr>\n",
       "      <th>1</th>\n",
       "      <td>10002</td>\n",
       "      <td>Manhattan</td>\n",
       "      <td>Chinatown/Lower East Side</td>\n",
       "      <td>252.25</td>\n",
       "      <td>32.23</td>\n",
       "      <td>35859</td>\n",
       "      <td>9.2</td>\n",
       "      <td>85336.07</td>\n",
       "      <td>44</td>\n",
       "      <td>2.18</td>\n",
       "    </tr>\n",
       "    <tr>\n",
       "      <th>2</th>\n",
       "      <td>10003</td>\n",
       "      <td>Manhattan</td>\n",
       "      <td>East Village/Gramercy/Greenwich Village</td>\n",
       "      <td>68.55</td>\n",
       "      <td>75.91</td>\n",
       "      <td>112131</td>\n",
       "      <td>10.1</td>\n",
       "      <td>94859.59</td>\n",
       "      <td>32</td>\n",
       "      <td>1.70</td>\n",
       "    </tr>\n",
       "    <tr>\n",
       "      <th>3</th>\n",
       "      <td>10004</td>\n",
       "      <td>Manhattan</td>\n",
       "      <td>Financial District</td>\n",
       "      <td>67.29</td>\n",
       "      <td>62.81</td>\n",
       "      <td>157645</td>\n",
       "      <td>9.2</td>\n",
       "      <td>5554.12</td>\n",
       "      <td>37</td>\n",
       "      <td>1.82</td>\n",
       "    </tr>\n",
       "    <tr>\n",
       "      <th>4</th>\n",
       "      <td>10005</td>\n",
       "      <td>Manhattan</td>\n",
       "      <td>Financial District</td>\n",
       "      <td>0.00</td>\n",
       "      <td>73.42</td>\n",
       "      <td>173333</td>\n",
       "      <td>9.4</td>\n",
       "      <td>121496.87</td>\n",
       "      <td>30</td>\n",
       "      <td>2.02</td>\n",
       "    </tr>\n",
       "  </tbody>\n",
       "</table>\n",
       "</div>"
      ],
      "text/plain": [
       "     zip    borough                             neighborhood  deathper100k  \\\n",
       "0  10001  Manhattan               Chelsea/NoMad/West Chelsea         94.16   \n",
       "1  10002  Manhattan                Chinatown/Lower East Side        252.25   \n",
       "2  10003  Manhattan  East Village/Gramercy/Greenwich Village         68.55   \n",
       "3  10004  Manhattan                       Financial District         67.29   \n",
       "4  10005  Manhattan                       Financial District          0.00   \n",
       "\n",
       "   whitepct  medianincome  asthmapct    popdens  medianage  housesize  \n",
       "0     62.91         88526        9.6   37291.65         37       1.76  \n",
       "1     32.23         35859        9.2   85336.07         44       2.18  \n",
       "2     75.91        112131       10.1   94859.59         32       1.70  \n",
       "3     62.81        157645        9.2    5554.12         37       1.82  \n",
       "4     73.42        173333        9.4  121496.87         30       2.02  "
      ]
     },
     "execution_count": 46,
     "metadata": {},
     "output_type": "execute_result"
    }
   ],
   "source": [
    "covid_df.head()"
   ]
  },
  {
   "cell_type": "code",
   "execution_count": 59,
   "metadata": {},
   "outputs": [],
   "source": [
    "covid_df['whitepct_z'] = covid_df['whitepct'].transform(lambda x: (x-x.mean())/x.std())\n",
    "covid_df['medianincome_z'] = covid_df['medianincome'].transform(lambda x: (x-x.mean())/x.std())\n",
    "covid_df['asthmapct_z'] = covid_df['asthmapct'].transform(lambda x: (x-x.mean())/x.std())\n",
    "covid_df['popdens_z'] = covid_df['popdens'].transform(lambda x: (x-x.mean())/x.std())\n",
    "covid_df['medianage_z'] = covid_df['medianage'].transform(lambda x: (x-x.mean())/x.std())\n",
    "covid_df['housesize_z'] = covid_df['housesize'].transform(lambda x: (x-x.mean())/x.std())"
   ]
  },
  {
   "cell_type": "code",
   "execution_count": 60,
   "metadata": {},
   "outputs": [
    {
     "name": "stdout",
     "output_type": "stream",
     "text": [
      "                            OLS Regression Results                            \n",
      "==============================================================================\n",
      "Dep. Variable:           deathper100k   R-squared:                       0.450\n",
      "Model:                            OLS   Adj. R-squared:                  0.430\n",
      "Method:                 Least Squares   F-statistic:                     23.15\n",
      "Date:                Fri, 29 Jan 2021   Prob (F-statistic):           7.05e-20\n",
      "Time:                        00:21:49   Log-Likelihood:                -1048.7\n",
      "No. Observations:                 177   AIC:                             2111.\n",
      "Df Residuals:                     170   BIC:                             2134.\n",
      "Df Model:                           6                                         \n",
      "Covariance Type:            nonrobust                                         \n",
      "==================================================================================\n",
      "                     coef    std err          t      P>|t|      [0.025      0.975]\n",
      "----------------------------------------------------------------------------------\n",
      "Intercept        242.7485      6.944     34.960      0.000     229.042     256.455\n",
      "whitepct_z       -18.4624     10.856     -1.701      0.091     -39.892       2.967\n",
      "medianincome_z   -55.2522      9.014     -6.130      0.000     -73.045     -37.459\n",
      "asthmapct_z       14.1777      8.715      1.627      0.106      -3.027      31.382\n",
      "popdens_z         -3.7443      8.643     -0.433      0.665     -20.805      13.317\n",
      "medianage_z       42.1309      7.988      5.274      0.000      26.361      57.900\n",
      "housesize_z        9.0325      9.489      0.952      0.342      -9.699      27.763\n",
      "==============================================================================\n",
      "Omnibus:                       62.138   Durbin-Watson:                   1.791\n",
      "Prob(Omnibus):                  0.000   Jarque-Bera (JB):              147.955\n",
      "Skew:                           1.551   Prob(JB):                     7.45e-33\n",
      "Kurtosis:                       6.232   Cond. No.                         3.15\n",
      "==============================================================================\n",
      "\n",
      "Notes:\n",
      "[1] Standard Errors assume that the covariance matrix of the errors is correctly specified.\n",
      "0.6705297908833188\n"
     ]
    }
   ],
   "source": [
    "lr = smf.ols(formula=\"deathper100k ~ whitepct_z+medianincome_z+asthmapct_z+popdens_z+medianage_z+housesize_z\", data=covid_df).fit()\n",
    "print(lr.summary())\n",
    "print(np.sqrt(lr.rsquared))"
   ]
  },
  {
   "cell_type": "code",
   "execution_count": 52,
   "metadata": {},
   "outputs": [
    {
     "name": "stdout",
     "output_type": "stream",
     "text": [
      "                            OLS Regression Results                            \n",
      "==============================================================================\n",
      "Dep. Variable:           deathper100k   R-squared:                       0.183\n",
      "Model:                            OLS   Adj. R-squared:                  0.179\n",
      "Method:                 Least Squares   F-statistic:                     39.27\n",
      "Date:                Fri, 29 Jan 2021   Prob (F-statistic):           2.78e-09\n",
      "Time:                        00:09:34   Log-Likelihood:                -1083.6\n",
      "No. Observations:                 177   AIC:                             2171.\n",
      "Df Residuals:                     175   BIC:                             2178.\n",
      "Df Model:                           1                                         \n",
      "Covariance Type:            nonrobust                                         \n",
      "==============================================================================\n",
      "                 coef    std err          t      P>|t|      [0.025      0.975]\n",
      "------------------------------------------------------------------------------\n",
      "Intercept    336.5031     17.127     19.648      0.000     302.702     370.304\n",
      "whitepct      -2.0280      0.324     -6.267      0.000      -2.667      -1.389\n",
      "==============================================================================\n",
      "Omnibus:                       59.700   Durbin-Watson:                   1.584\n",
      "Prob(Omnibus):                  0.000   Jarque-Bera (JB):              141.670\n",
      "Skew:                           1.485   Prob(JB):                     1.73e-31\n",
      "Kurtosis:                       6.224   Cond. No.                         109.\n",
      "==============================================================================\n",
      "\n",
      "Notes:\n",
      "[1] Standard Errors assume that the covariance matrix of the errors is correctly specified.\n",
      "0.42811524129531964\n"
     ]
    }
   ],
   "source": [
    "lr = smf.ols(formula=\"deathper100k ~ whitepct\", data=covid_df).fit()\n",
    "print(lr.summary())\n",
    "print(np.sqrt(lr.rsquared))"
   ]
  },
  {
   "cell_type": "code",
   "execution_count": 53,
   "metadata": {},
   "outputs": [
    {
     "name": "stdout",
     "output_type": "stream",
     "text": [
      "                            OLS Regression Results                            \n",
      "==============================================================================\n",
      "Dep. Variable:           deathper100k   R-squared:                       0.304\n",
      "Model:                            OLS   Adj. R-squared:                  0.300\n",
      "Method:                 Least Squares   F-statistic:                     76.37\n",
      "Date:                Fri, 29 Jan 2021   Prob (F-statistic):           1.87e-15\n",
      "Time:                        00:09:55   Log-Likelihood:                -1069.5\n",
      "No. Observations:                 177   AIC:                             2143.\n",
      "Df Residuals:                     175   BIC:                             2149.\n",
      "Df Model:                           1                                         \n",
      "Covariance Type:            nonrobust                                         \n",
      "================================================================================\n",
      "                   coef    std err          t      P>|t|      [0.025      0.975]\n",
      "--------------------------------------------------------------------------------\n",
      "Intercept      378.7742     17.364     21.813      0.000     344.504     413.045\n",
      "medianincome    -0.0018      0.000     -8.739      0.000      -0.002      -0.001\n",
      "==============================================================================\n",
      "Omnibus:                       62.147   Durbin-Watson:                   1.714\n",
      "Prob(Omnibus):                  0.000   Jarque-Bera (JB):              144.216\n",
      "Skew:                           1.568   Prob(JB):                     4.83e-32\n",
      "Kurtosis:                       6.118   Cond. No.                     1.85e+05\n",
      "==============================================================================\n",
      "\n",
      "Notes:\n",
      "[1] Standard Errors assume that the covariance matrix of the errors is correctly specified.\n",
      "[2] The condition number is large, 1.85e+05. This might indicate that there are\n",
      "strong multicollinearity or other numerical problems.\n",
      "0.551194337178\n"
     ]
    }
   ],
   "source": [
    "lr = smf.ols(formula=\"deathper100k ~ medianincome\", data=covid_df).fit()\n",
    "print(lr.summary())\n",
    "print(np.sqrt(lr.rsquared))"
   ]
  },
  {
   "cell_type": "code",
   "execution_count": 54,
   "metadata": {},
   "outputs": [
    {
     "name": "stdout",
     "output_type": "stream",
     "text": [
      "                            OLS Regression Results                            \n",
      "==============================================================================\n",
      "Dep. Variable:           deathper100k   R-squared:                       0.123\n",
      "Model:                            OLS   Adj. R-squared:                  0.118\n",
      "Method:                 Least Squares   F-statistic:                     24.61\n",
      "Date:                Fri, 29 Jan 2021   Prob (F-statistic):           1.65e-06\n",
      "Time:                        00:10:15   Log-Likelihood:                -1089.9\n",
      "No. Observations:                 177   AIC:                             2184.\n",
      "Df Residuals:                     175   BIC:                             2190.\n",
      "Df Model:                           1                                         \n",
      "Covariance Type:            nonrobust                                         \n",
      "==============================================================================\n",
      "                 coef    std err          t      P>|t|      [0.025      0.975]\n",
      "------------------------------------------------------------------------------\n",
      "Intercept     21.0393     45.517      0.462      0.644     -68.793     110.871\n",
      "housesize     84.0869     16.949      4.961      0.000      50.636     117.538\n",
      "==============================================================================\n",
      "Omnibus:                       71.803   Durbin-Watson:                   1.589\n",
      "Prob(Omnibus):                  0.000   Jarque-Bera (JB):              229.238\n",
      "Skew:                           1.645   Prob(JB):                     1.67e-50\n",
      "Kurtosis:                       7.500   Cond. No.                         16.1\n",
      "==============================================================================\n",
      "\n",
      "Notes:\n",
      "[1] Standard Errors assume that the covariance matrix of the errors is correctly specified.\n",
      "0.35114253540837154\n"
     ]
    }
   ],
   "source": [
    "lr = smf.ols(formula=\"deathper100k ~ housesize\", data=covid_df).fit()\n",
    "print(lr.summary())\n",
    "print(np.sqrt(lr.rsquared))"
   ]
  },
  {
   "cell_type": "code",
   "execution_count": null,
   "metadata": {},
   "outputs": [],
   "source": [
    "lr = smf.ols(formula=\"deathper100k ~ housesize\", data=covid_df).fit()\n",
    "print(lr.summary())\n",
    "print(np.sqrt(lr.rsquared))"
   ]
  }
 ],
 "metadata": {
  "kernelspec": {
   "display_name": "Python 3",
   "language": "python",
   "name": "python3"
  },
  "language_info": {
   "codemirror_mode": {
    "name": "ipython",
    "version": 3
   },
   "file_extension": ".py",
   "mimetype": "text/x-python",
   "name": "python",
   "nbconvert_exporter": "python",
   "pygments_lexer": "ipython3",
   "version": "3.7.3-final"
  }
 },
 "nbformat": 4,
 "nbformat_minor": 4
}