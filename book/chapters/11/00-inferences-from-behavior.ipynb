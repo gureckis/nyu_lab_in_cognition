{
 "cells": [
  {
   "cell_type": "code",
   "execution_count": 1,
   "metadata": {
    "tags": [
     "hide_input"
    ]
   },
   "outputs": [],
   "source": [
    "from IPython.core.display import HTML, Markdown, display\n",
    "\n",
    "import numpy.random as npr\n",
    "import numpy as np\n",
    "import pandas as pd\n",
    "import seaborn as sns\n",
    "from cycler import cycler\n",
    "import matplotlib.pyplot as plt\n",
    "import scipy.stats as stats\n",
    "import statsmodels.formula.api as smf\n",
    "from celluloid import Camera\n",
    "import ipywidgets as widgets\n",
    "from matplotlib.patches import Polygon\n",
    "from matplotlib.gridspec import GridSpec\n",
    "from myst_nb import glue # for the Jupyter book chapter"
   ]
  },
  {
   "cell_type": "markdown",
   "metadata": {},
   "source": [
    "## Measuring Behavior"
   ]
  },
  {
   "cell_type": "markdown",
   "metadata": {},
   "source": [
    "```{note}\n",
    "This chapter authored [Todd M. Gureckis](http://gureckislab.org/~gureckis) and is released under the [license](/LICENSE.html) for the book.  [David Heeger](https://www.cns.nyu.edu/~david/) made several contributions by allowing sourcing some material from his lecture notes posted [here](https://www.cns.nyu.edu/~david/handouts/sdt/sdt.html).\n",
    "```"
   ]
  },
  {
   "cell_type": "markdown",
   "metadata": {},
   "source": [
    "The last few chapters have provided a review and update to your understanding of statistical analysis.  However, lets not lose sight of what we are analyzing and why.  In cognitive science, the goal is to understand the way the mind works.  However, we can only do this typically by observing the behavior of a person.  The goal of experimental approaches to behavior is to record how people behave in different circumstances and to infer from that aspect of how their mind must be functioning. \n",
    "\n",
    "In this chapter we are just going to step through some of the different measurements of behavior commonly used in research into human cognition and perception.  Our goal in this review is to make sure everyone is aware of these different measures, what they are good for, discuss some of the technical issues with the measure, and some of the issues in analysis and interpretation of these measures.  Generally when doing research projects researchers spend a lot of time discussing with their students and colleagues the best behavioral measures to use for the task at hand and so creatively using these measures is an important part of the scientific process.  The list we consider here is not comprehensive but gives a general overview of many of the most common measurement approaches."
   ]
  },
  {
   "cell_type": "code",
   "execution_count": 4,
   "metadata": {},
   "outputs": [],
   "source": [
    "# Common dependent measures\n",
    "    # problems with accuracy\n",
    "    # leads into SDT analysis\n",
    "    # self report and the lack of quality access\n",
    "    # response time\n",
    "    # discrimination\n",
    "    # accuracy\n",
    "    # ratings"
   ]
  },
  {
   "cell_type": "markdown",
   "metadata": {},
   "source": [
    "### Self-report\n",
    "\n",
    "Perhaps the most obvious approach to studying internal cognitive and perceptual processes is just to ask people questions.  Think of the classic Rorchact test which simply shows a subject an unfamiliar shape or picture and ask \"what does this remind you of?\"\n",
    "\n",
    "{numref}`fig:rorschach`\n",
    "\n",
    "```{figure} ./images/Four-examples-of-the-original-Rorschach-inkblots.png\n",
    "---\n",
    "width: 500px\n",
    "name: fig:rorschach\n",
    "---\n",
    "Examples of the original Rorschach inkblot stimuli.\n",
    "```\n",
    "\n",
    "In cognition our questions might be more targeted toward what is known as **introspection** about how a particular judgment, inference, or reason was made.  For example, if you see someone buy something in the store, you might ask \"Why did you buy that item?\" and \"What can you tell me about the steps you took mentally when making that decision?\"  To this a person might answer \"Well, I always attend to price and quality when making supermarket purchases and so I weighted them carefully and decided that this particular product best met my needs.\""
   ]
  },
  {
   "cell_type": "markdown",
   "metadata": {},
   "source": [
    "### Ratings\n",
    "\n",
    "- likert scales?\n",
    "- analysis of these types of scales?"
   ]
  },
  {
   "cell_type": "markdown",
   "metadata": {},
   "source": [
    "### Accuracy"
   ]
  },
  {
   "cell_type": "code",
   "execution_count": null,
   "metadata": {},
   "outputs": [],
   "source": []
  },
  {
   "cell_type": "markdown",
   "metadata": {},
   "source": [
    "### Reaction time\n",
    "https://lindeloev.shinyapps.io/shiny-rt/#1_opinion:_three_important_types_of_parameters"
   ]
  },
  {
   "cell_type": "markdown",
   "metadata": {},
   "source": [
    "### Mouse tracking\n",
    "\n",
    "\n",
    "{numref}`fig:mousetracking`\n",
    "\n",
    "```{figure} ./images/mouse-tracking-example.png\n",
    "---\n",
    "width: 500px\n",
    "name: fig:mousetracking\n",
    "---\n",
    "Examples of a mouse tracking experiment.\n",
    "```\n",
    "\n"
   ]
  },
  {
   "cell_type": "markdown",
   "metadata": {},
   "source": [
    "### Eye movements"
   ]
  },
  {
   "cell_type": "markdown",
   "metadata": {},
   "source": [
    "### Pupil dilation"
   ]
  },
  {
   "cell_type": "markdown",
   "metadata": {},
   "source": [
    "### Naturalistic Behavior"
   ]
  },
  {
   "cell_type": "code",
   "execution_count": null,
   "metadata": {},
   "outputs": [],
   "source": []
  }
 ],
 "metadata": {
  "celltoolbar": "Tags",
  "kernelspec": {
   "display_name": "Python 3",
   "language": "python",
   "name": "python3"
  },
  "language_info": {
   "codemirror_mode": {
    "name": "ipython",
    "version": 3
   },
   "file_extension": ".py",
   "mimetype": "text/x-python",
   "name": "python",
   "nbconvert_exporter": "python",
   "pygments_lexer": "ipython3",
   "version": "3.7.3"
  },
  "toc": {
   "base_numbering": 1,
   "nav_menu": {},
   "number_sections": false,
   "sideBar": true,
   "skip_h1_title": false,
   "title_cell": "Table of Contents",
   "title_sidebar": "Contents",
   "toc_cell": false,
   "toc_position": {},
   "toc_section_display": true,
   "toc_window_display": false
  }
 },
 "nbformat": 4,
 "nbformat_minor": 4
}
