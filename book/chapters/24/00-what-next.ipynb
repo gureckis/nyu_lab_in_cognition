{
 "cells": [
  {
   "cell_type": "markdown",
   "metadata": {},
   "source": [
    "## What Next?"
   ]
  },
  {
   "cell_type": "markdown",
   "metadata": {},
   "source": [
    "```{note}\n",
    "This chapter authored by [Todd M. Gureckis](http://gureckislab.org/~gureckis) is released under the [license](/LICENSE.html) for the book.\n",
    "```"
   ]
  },
  {
   "cell_type": "markdown",
   "metadata": {},
   "source": [
    "Congratulations! You made it through **Lab in Cognition and Perception**.  Hopefully you learned some new skills as well as got to know more about psychological research in cognition, perception, and cognitive science.  At the end of the semester, I frequently get requests from students looking for what they can do in the future to continue to develop their skills. The good news is that in this course you learned a little bit of Python programming and this opens up and world of fun things you can play with and learn."
   ]
  },
  {
   "cell_type": "markdown",
   "metadata": {},
   "source": [
    "### This website\n",
    "\n",
    "Feel free to bookmark this class website and refer back to the readings and videos anytime!  I will aim to keep these materials alive at this link for as long as I can and all the materials are free to everyone to download.  Remember that every chapter of the book/readings is itself a Jupyter notebook (with a bit of extra \"book\" formatting) and you can download it and run it yourself.  Refer back to the chapter \"[Introduction to Jupyter](../02/00-jupyter.html#every-chapter-of-the-class-website-textbook-is-a-notebook)\" for a remind of how you can access and make the chapters computable.\n",
    "\n",
    "Although at the end of the semester the university will delete your personal Jupyterhub instance, free Jupyter computing nodes are available on several places:\n",
    "\n",
    "- [Google Collaboratory](https://colab.research.google.com)\n",
    "- [Mybinder.org](https://mybinder.org)\n",
    "- [Kaggle Kernels](https://www.kaggle.com/kernels)\n",
    "- [CoCalc](https://cocalc.com/doc/jupyter-notebook.html)\n",
    "\n",
    "You can simply download the notebooks from this book or the exercises we did this semester and you can uploading them these services and run them (although you might need to install some of the specialized statistics packages which are also free).\n",
    "You can also install Python and Jupyter on your own computer.  [Anaconda](https://www.anaconda.com) is a popular way to do this."
   ]
  },
  {
   "cell_type": "markdown",
   "metadata": {},
   "source": [
    "### Downloading your files\n",
    "\n",
    "Speaking of, some students would like to download all the work they did this semester.  To make this easier I have shared [this simple Jupyter notebook](zipall.ipynb) which was provided by a previous student in this class!  Download it and upload it to the class Jupyterhub using the \"upload\" option in the file browser menu.  Then run the cell in the notebook and it will create a .zip file of all the files in your personal directory.  You can then download this zip file in the Jupyter file browser interface."
   ]
  },
  {
   "cell_type": "markdown",
   "metadata": {},
   "source": [
    "### Learning more about Cognitive Science\n",
    "\n",
    "As mentioned at the start of the course, Cognitive Science is a dynamic, interdisciplinary field working on some of the hardest problems in the sciences.  Research in cognitive science touches on issues in artificial intelligence, education, human-computer interaction, data analysis and statistics, computer science, neuroscience, evolution, anthropology, linguistics, and more.  There are several resources for learning more about cognitive science.\n",
    "\n",
    "First, I run a web page about [Computational Cognitive Science at NYU](http://gureckislab.org/cogsci/index.html).  This includes resources and links to faculty who do research on cognitive science topics.  Check here to learn about about the NYU faculty working in this area.  Most faculty have a website which lists their publications, and reading these papers can be an excellent way to familiarize yourself with the field.\n",
    "\n",
    "Sam Gershman has a great [reading list](http://gershmanlab.webfactional.com/docs/Getting_started_cogsci.pdf) for students looking to learn more about Cognitive Science.\n",
    "\n",
    "This is the website of the [Cognitive Science Society](https://cognitivesciencesociety.org).  A related society devoted the experimental psychology is the [Psychonomic Society](https://www.psychonomic.org).  The [Vision Sciences Society](https://www.visionsciences.org) focuses on perception and vision.  All of these organizations have resources to support new students interested in the field including videos and other resources for learning more about the field (and scholarship to attend the annual conferences and workshops).\n"
   ]
  },
  {
   "cell_type": "markdown",
   "metadata": {},
   "source": [
    "### Research Opportunities at NYU in the Psychology Department\n",
    "\n",
    "In addition to the [Computational Cognitive Science at NYU](http://gureckislab.org/cogsci/index.html) website, the Psychology department has a [webpage](https://as.nyu.edu/content/nyu-as/as/departments/psychology/undergraduate/research-opportunities.html) about how to get involved in research."
   ]
  },
  {
   "cell_type": "markdown",
   "metadata": {},
   "source": [
    "### Post-Undergrad Educational Programs"
   ]
  },
  {
   "cell_type": "markdown",
   "metadata": {},
   "source": [
    "Many students who take the lab course are junior or seniors in the Psychology major.  As a result, the looming pressure of \"what do I want to do with my life when I grow up?\" is settling in.  There are several different avenues you might consider if you enjoyed this course:\n",
    "\n",
    "1. A Masters (MA) degree.  A MA degree is typically a two year program which gives graduate training in a field.  NYU has two very relevant MA programs for students who enjoyed this class.  One is the NYU Psychology [MA program](https://as.nyu.edu/content/nyu-as/as/departments/psychology/graduate/ma-psychology.html) which has a focus for Cognition/Perception and Neuroscience among other subfields.  In addition the NYU Center for Data Science [MA program](https://cds.nyu.edu/masters-program/) is one of the most selective and successful programs in Data Science in the world.\n",
    "1. A Phd degree: For those that really have passion and who earned a top grade in the class I might expect a PhD could be well suited.  A PhD will spend a lot of time working on data analysis and exploring the topics we covered in class.  There isn't enough room here to give a full summary of what is required to consider a PhD but happy to chat about it."
   ]
  },
  {
   "cell_type": "markdown",
   "metadata": {},
   "source": [
    "### More Python learning"
   ]
  },
  {
   "cell_type": "markdown",
   "metadata": {},
   "source": [
    "This is a collection of useful python resources including videos and online tutorials.  This can help student how have less familiarity with programming in general or with python specifically.\n",
    "\n",
    "- A nice, free textbook <a href=\"https://www.digitalocean.com/community/tutorials/digitalocean-ebook-how-to-code-in-python?refcode=4d2af78748bd&utm_source=ebook&utm_medium=ebook&utm_campaign=pythonebook\">\"How to Code in Python\"</a> by Lisa Tagliaferri\n",
    "- CodeAcademy has a variety of courses on data analysis with Python.  There is a free tutorial on Python 2.0.  Although this class uses Python 3.0 and there are minor difference, a beginning programmer who didn't want to pay for the code academy content might benefit from these tutorials on basic python syntax: [Python 2.0 tutorial](https://www.codecademy.com/learn/learn-python)\n",
    "- Microsoft has an [Introduction to Python](https://docs.microsoft.com/en-us/learn/modules/intro-to-python/?WT.mc_id=python-c9-niner) video series.  Each video is about 10 minutes long and introduces very basic python features.\n",
    "- A nice multi-part tutorial on [Data Visualization with Python and Seaborn](https://medium.com/@neuralnets/statistical-data-visualization-series-with-python-and-seaborn-for-data-science-5a73b128851d) that gets into many more details about Seaborn than we have time to cover in class.\n",
    "- A six hour (free) video course on <a href=\"https://www.youtube.com/watch?v=_uQrJ0TkZlc\">basic Python programming</a> on youtube"
   ]
  },
  {
   "cell_type": "markdown",
   "metadata": {},
   "source": [
    "### Cool things you can do with Python that aren't just statistical analyses"
   ]
  },
  {
   "cell_type": "markdown",
   "metadata": {},
   "source": [
    "In this class we emphasized data analysis and statistical analysis with Python.  However, Python is used for much more than this!  Here are some example skills you can build upon what you learned this semester:\n",
    "\n",
    "1. [Program a robot with Python](https://learn.adafruit.com/welcome-to-circuitpython/what-is-circuitpython)\n",
    "1. [Make art!](http://jakobglock.me/projects/2018-11-24/selected-generative-art)\n",
    "1. [Make a bot to buy Supreme stuff](https://www.youtube.com/watch?v=AGpKm0pdTMM)\n",
    "1. [Build a neural network](https://towardsdatascience.com/how-to-build-your-own-neural-network-from-scratch-in-python-68998a08e4f6)\n",
    "1. [Build a custom website](https://medium.com/better-programming/building-your-first-website-with-flask-part-1-903a8b44e806)\n",
    "1. [Automate your life with python](https://www.amazon.com/dp/1593275994/?tag=devdetailpage02-20)\n",
    "1. [Download your workout data from Strava and analyze it](https://medium.com/swlh/using-python-to-connect-to-stravas-api-and-analyse-your-activities-dummies-guide-5f49727aac86)\n",
    "1. [Write your own video game](https://www.pygame.org/docs/)\n",
    "1. [Give yourself a Python challenge](http://www.pythonchallenge.com)\n",
    "1. [Become a data journalist and use python to explore political issues](https://www.classcentral.com/course/independent-python-for-data-journalists-analyzing-money-in-politics-9092)\n",
    "1. [Learn Python and computer modeling of climate change](https://www.youtube.com/watch?v=HAOduvba7mE)\n",
    "1. [Design a solar system for your house](https://pvlib-python.readthedocs.io/en/stable/index.html)\n",
    "1. [Find a new pet](https://medium.com/analytics-vidhya/how-to-scrape-thousands-of-adoptable-pet-photos-from-petfinder-using-petpy-api-part-1-b55e3a890845)"
   ]
  },
  {
   "cell_type": "markdown",
   "metadata": {},
   "source": [
    "### Cheat Sheets"
   ]
  },
  {
   "cell_type": "markdown",
   "metadata": {},
   "source": [
    "Cheat sheets are short 1-2 page PDF documents that give a quick visual summary of the many options or commands within a library.  A few examples relevant for data analysis in psychology are provided here:"
   ]
  },
  {
   "cell_type": "markdown",
   "metadata": {},
   "source": [
    "- <a href=\"images/Pandas_Cheat_Sheet.pdf\">Pandas Cheat Sheet</a>\n",
    "- <a href=\"images/Python_Seaborn_Cheat_Sheet.pdf\">Seaborn Cheat Sheet</a>\n",
    "- <a href=\"images/beginners_python_cheat_sheet_pcc_all.pdf\">Beginner Python Cheat Sheet</a>"
   ]
  },
  {
   "cell_type": "code",
   "execution_count": null,
   "metadata": {},
   "outputs": [],
   "source": []
  }
 ],
 "metadata": {
  "celltoolbar": "Tags",
  "kernelspec": {
   "display_name": "Python 3",
   "language": "python",
   "name": "python3"
  },
  "language_info": {
   "codemirror_mode": {
    "name": "ipython",
    "version": 3
   },
   "file_extension": ".py",
   "mimetype": "text/x-python",
   "name": "python",
   "nbconvert_exporter": "python",
   "pygments_lexer": "ipython3",
   "version": "3.7.3"
  },
  "toc": {
   "base_numbering": 1,
   "nav_menu": {},
   "number_sections": true,
   "sideBar": true,
   "skip_h1_title": false,
   "title_cell": "Table of Contents",
   "title_sidebar": "Contents",
   "toc_cell": false,
   "toc_position": {},
   "toc_section_display": true,
   "toc_window_display": false
  }
 },
 "nbformat": 4,
 "nbformat_minor": 2
}
