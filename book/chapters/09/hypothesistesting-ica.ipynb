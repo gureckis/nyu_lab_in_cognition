{
 "metadata": {
  "language_info": {
   "codemirror_mode": {
    "name": "ipython",
    "version": 3
   },
   "file_extension": ".py",
   "mimetype": "text/x-python",
   "name": "python",
   "nbconvert_exporter": "python",
   "pygments_lexer": "ipython3",
   "version": 3
  },
  "orig_nbformat": 2
 },
 "nbformat": 4,
 "nbformat_minor": 2,
 "cells": [
  {
   "source": [
    "# Hypothesis Testing - In Class Activity"
   ],
   "cell_type": "markdown",
   "metadata": {}
  },
  {
   "source": [
    "```{note}\n",
    "This exercise authored by [Todd M. Gureckis](http://gureckislab.org/~gureckis) is released under the [license](/LICENSE.html).\n",
    "```"
   ],
   "cell_type": "markdown",
   "metadata": {}
  },
  {
   "source": [
    "In the chapter and lecture we discussed the construction of hypothesis tests (the statistical kind).  In this notebook you will explore a bit more about how to construct a hypothesis test, how to interpret various outcomes of a hypothesis test, and how to report a hypothesis test in a paper."
   ],
   "cell_type": "markdown",
   "metadata": {}
  },
  {
   "cell_type": "code",
   "execution_count": null,
   "metadata": {},
   "outputs": [],
   "source": []
  }
 ]
}