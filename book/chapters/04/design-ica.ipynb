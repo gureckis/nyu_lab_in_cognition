{
 "metadata": {
  "language_info": {
   "codemirror_mode": {
    "name": "ipython",
    "version": 3
   },
   "file_extension": ".py",
   "mimetype": "text/x-python",
   "name": "python",
   "nbconvert_exporter": "python",
   "pygments_lexer": "ipython3",
   "version": 3
  },
  "orig_nbformat": 2
 },
 "nbformat": 4,
 "nbformat_minor": 2,
 "cells": [
  {
   "source": [
    "# In Class Activity - Evaluating Research Designs"
   ],
   "cell_type": "markdown",
   "metadata": {}
  },
  {
   "source": [
    "Evaluating research designs.  In the lecture and reading this week we talked about various aspects of research design and measurement.  In particular, much of the discussion was about assessing things that possibly can affect the validity of a research study.\n",
    "\n",
    "Psychological Science is one of the more \"flashy\" journals in the field of Psychology.  The journal website is [here](https://journals.sagepub.com/home/pss) where, if you are logged into NYU, you can access the PDFs of papers published by the journal.\n",
    "\n",
    "In this in class activity you will find a paper your group things is interesting from a recent publication in the journal.  Then you will assess the following about the paper:\n",
    "\n",
    "- Is the design and experimental or observational study?\n",
    "- What is the main dependent measure (outcome) and what are the various indepdenent measures (predictors)?\n",
    "- Do the authors report anything about the reliability of their measurement?  Is there reason to be concerned about it?\n",
    "- What are some factors that might impact the validity of the study?  Please discuss why these might be an issue and how serious they might be.\n",
    "\n",
    "You *don't* have to read the paper line by line to answer these questions typically.  Papers are organized into subsections like \"Intro\", \"Methods\", \"Conclusion\" which can help you jump around and access the relevant information.\n",
    "\n",
    "You will summarize your findings and present them to the class."
   ],
   "cell_type": "markdown",
   "metadata": {}
  },
  {
   "cell_type": "code",
   "execution_count": null,
   "metadata": {},
   "outputs": [],
   "source": []
  }
 ]
}