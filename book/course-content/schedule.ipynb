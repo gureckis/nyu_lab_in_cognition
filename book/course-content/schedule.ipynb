{
 "cells": [
  {
   "cell_type": "markdown",
   "metadata": {},
   "source": [
    "# Schedule\n",
    "\n",
    "This is the schedule for the semester.  This page will be frequently updated based on how we progress and everything is subject to change. Homeworks and links to the lecture will be provided here for easy reference to the calendar."
   ]
  },
  {
   "cell_type": "markdown",
   "metadata": {},
   "source": [
    "**Date**|**Lecture**|**Lab** \n",
    ":--- | :--- | :------\n",
    "*Wed, Sept 2* | Introductions, course policies <br>[<a href=../chapters/00/00-cogsci.html>Chapter 1</a>] - read before next class<br> | [<a href=https://forms.gle/Nqqm2LhR1x3Z53Kj7>HW1: Pre-class Survey</a>]<br>  \n",
    "~~*Mon, Sept 7*~~ |  **No class, Labor Day**  |\n",
    "*Wed, Sept 9* |  Introduction to Jupyter<br>[<a href=\"https://www.nature.com/articles/d41586-018-07196-1\">Article about Jupyter</a>] - read before next class | Quick intro to JupyerHub, Accessing JupyterHub, basics of Jupyter, python, and markdown<br>\n",
    "*Mon, Sept 14* | What is Cognitive Science?<br> [<a href=../lectures/lecture1.html data-turbolinks=false>Lecture 1</a>] <br> [<a href=../chapters/03/00-python.html>Chapter 2</a>] - read before next class  | Intro to Python: Numbers, variables, indenting, using existing functions, importing libraries<br>[<a href=../labs/pythonintro.html>Lab: Python Intro</a>]<br>[<a href=../homeworks/homework2.html>HW2: Intro to Jupyter</a>]- Due Mon Septh 21st\n",
    "*Wed, Sept 16* | What is an experiment?  How does science use experiments to advance knowledge? Why do we do statistics?<br>[<a href=../lectures/lecture2.html data-turbolinks=false>Lecture 2</a>]<br>[<a href=../chapters/01/00-whystats>Chapter 3</a>] - read before next class<br> | Lists and dictionaries, Loops, and other control structures \n",
    "*Mon, Sept 21* | Basic experiment Design: Randomization, stratification, counter-balancing, factorial designs<br>[<a href=../lectures/lecture3.html data-turbolinks=false>Lecture 3</a>]<br>[<a href=../chapters/03/00-python>Chapter 4</a>] - read before next class  | Intro to Python continued: Functions and organizing code blocks<br>\n",
    "*Wed, Sept 23* | Measure, Reliability, and Validity <br>[<a href=../lectures/lecture4.html data-turbolinks=false>Lecture 4</a>]<br>[<a href=../chapters/04/00-describingdata>Chapter 5</a>] - read before next class | Intro to Python continued<br>[<a href=../labs/fortyforloops.html>Tips: Tons of Python Loops</a>] \n",
    "*Mon, Sept 28* | Measures of central tendency, variance<br>[<a href=../lectures/lecture5.html data-turbolinks=false>Lecture 5</a>]   <br>[<a href=../chapters/05/00-data>Chapter 6</a>] - read before next class<br>[<a href=https://www.npr.org/2019/08/28/755191639/episode-936-the-modal-american>Podcast</a>] - listen before class | <br>Intro to Dataframe and Plotting<br>[<a href=../labs/dataframesplotting.html>Lab: DataFrames and plotting</a>]\n",
    "*Wed, Sept 30* | Random processes, probabilities, distributions, and sampling<br>[<a href=../lectures/lecture6.html data-turbolinks=false>Lecture 6</a>]<br>[<a href=../chapters/06/00-probability>Chapter 7.1</a>] - read before next class     |  Visualizing data with Seaborn<br>[<a href=../labs/exploringdata.html>Lab: Exploring Data</a>] \n",
    "*Mon, Oct 5* |  Exploratory Data Analysis<br>[<a href=../chapters/06/01-sampling>Chapter 7.2</a>] - read before next class |  Accessing existing data sets<br>[<a href=../homeworks/hw3/homework3.html>HW3: Python for Data Analysis</a>]  \n",
    "*Wed, Oct 7* |  Sampling and Estimation<br>[<a href=../lectures/lecture6.html#84 data-turbolinks=false>Lecture 6 (Cont)</a>] <br>[<a href=../chapters/06/02-estimation>Chapter 7.3</a>] - read before next class  | Overview of writing a scientific paper\n",
    "*Mon, Oct 12* |  Signal Detection Theory<br>[<a href=../lectures/lecture11.html data-turbolinks=false>Lecture 11</a>] <br>[<a href=../chapters/07/00-hypothesistesting.html>Chapter 8</a>] - read before thurs<br>[<a href=../chapters/08/00-ttest.html>Chapter 9</a>] - read before thurs | [<a href=../labs/labsdt-ttest.html>Lab 2: T-test lecture</a>]\n",
    "*Wed, Oct 14* |  Signal Detection Theory - Perception<br>[<a href=../lectures/lecture10.html#1 data-turbolinks=false>Lecture 10</a>]<br>[<a href=../chapters/09/00-plots.html>Chapter 10</a>] - read before tues<br>[<a href=../chapters/10/00-sdt.html>Chapter 11</a>] - read before tues |   [<a href=../labs/labsdt-pt1.html>Lab 2: Signal Detection Theory</a>]\n",
    "*Mon, Oct 19* | Signal Detection Theory - Perception | [<a href=../labs/labsdt-pt2.html>Lab 2: Signal Detection Theory (perception)</a>]\n",
    "*Wed, Oct 21* | Signal Detection Theory - Perception |  \n",
    "*Mon, Oct 26* |  Signal Detection Theory - Perception |  \n",
    "*Wed, Oct 28* |  Signal Detection Theory - Perception |  \n",
    "*Mon, Nov 2* |  Relating multiple variables (correlation) and Regression<br>[<a href=../lectures/lecture7.html data-turbolinks=false>Lecture 7</a>]<br>[<a href=../chapters/11/00-correlation>Chapter 12</a>] - read before next class |   \n",
    "*Wed, Nov 4* |  Begin Lab 2 on regression<br>[<a href=../chapters/12/00-linearregression>Chapter 13</a>] - read before next class  |  [<a href=../labs/labreg-introtoregression.html>Lab: Intro to Regression</a>]\n",
    "*Mon, Nov 9* |  Mental Rotation/Simulation<br>[<a href=../lectures/lecture8.html data-turbolinks=false>Lecture 8</a>]<br>[<a href=../chapters/15/00-mentalsimulation>Chapter 14</a>] - read before next class |  [<a href=../labs/labreg-advancedregression.html>Lab: Advanced Regression</a>] \n",
    "*Wed, Nov 11* |  Mental rotation lab |  [<a href=../labs/labreg-advancedregression.html>Lab: Advanced Regression</a>]\n",
    "*Mon, Nov 16* |  No lecture<br>[<a href=../chapters/16/00-mri>Chapter 15</a>] - read before next class |  [<a href=../labs/lab1mentalrotation.html>Lab: Mental Rotation</a>]\n",
    "*Wed, Nov 18* |  Functional Magnetic Resonance Imaging (fMRI) part 1 |  [<a href=../labs/labreg-mri-pt1.html>Lab: fMRI</a>]\n",
    "*Mon, Nov 23* |  Hypothesis testing and Multiple Comparisons |  [<a href=../labs/labreg-mri-pt2.html>Lab: fMRI pt2</a>]\n",
    "*Wed, Nov 25* |  Computational modeling, intro to RL, final projects |  [<a href=../labs/labrl-pt1.html>Lab 3: Reinforcement Learning</a>] \n",
    "*Mon, Nov 30* |  Computational modeling, intro to RL, final projects |  [<a href=../labs/labrl-pt1.html>Lab 3: Reinforcement Learning</a>] \n",
    "*Wed, Dec 2* |  Computational modeling, intro to RL, final projects |  [<a href=../labs/labrl-pt2.html>Lab 3: Reinforcement Learning</a>] \n",
    "*Mon, Dec 7* |  Literature reviews, findings papers online, reference managers and citations | [<a href=../labs/labrl-pt2.html>Lab 3: Reinforcement Learning</a>] \n",
    "*Wed, Dec 9* |  Replication crisis, HARKing, p-hacking, blinding, preregistration, open science  | Final projects \n",
    "*Scheduled Final Example Time* |  Final oral presentation, final papers due |  "
   ]
  },
  {
   "cell_type": "code",
   "execution_count": null,
   "metadata": {},
   "outputs": [],
   "source": []
  }
 ],
 "metadata": {
  "celltoolbar": "Tags",
  "kernelspec": {
   "display_name": "Python 3",
   "language": "python",
   "name": "python3"
  },
  "language_info": {
   "codemirror_mode": {
    "name": "ipython",
    "version": 3
   },
   "file_extension": ".py",
   "mimetype": "text/x-python",
   "name": "python",
   "nbconvert_exporter": "python",
   "pygments_lexer": "ipython3",
   "version": "3.7.3"
  },
  "toc": {
   "base_numbering": 1,
   "nav_menu": {},
   "number_sections": true,
   "sideBar": true,
   "skip_h1_title": false,
   "title_cell": "Table of Contents",
   "title_sidebar": "Contents",
   "toc_cell": false,
   "toc_position": {},
   "toc_section_display": true,
   "toc_window_display": false
  }
 },
 "nbformat": 4,
 "nbformat_minor": 2
}
