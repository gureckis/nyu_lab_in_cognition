{
 "cells": [
  {
   "cell_type": "code",
   "execution_count": 2,
   "metadata": {},
   "outputs": [],
   "source": [
    "from IPython.core.display import HTML, Markdown, display\n",
    "\n",
    "import numpy.random as npr\n",
    "import numpy as np\n",
    "import pandas as pd\n",
    "import seaborn as sns\n",
    "import matplotlib.pyplot as plt\n",
    "import scipy.stats as stats\n",
    "import statsmodels.formula.api as smf\n",
    "import ipywidgets as widgets\n",
    "\n",
    "import os"
   ]
  },
  {
   "cell_type": "markdown",
   "metadata": {},
   "source": [
    "<img src=\"./images/shepard_stims.png\" width=\"400\">"
   ]
  },
  {
   "cell_type": "markdown",
   "metadata": {},
   "source": [
    "# Lab 1: Mental Rotation"
   ]
  },
  {
   "cell_type": "markdown",
   "metadata": {},
   "source": [
    "As described in the reading, in the Shepard & Metzler (1971) experiments, the time it took people to decide if an object was the same (just rotated) or different (a mirror reflection) depended on the angle of rotation: \n",
    "\n",
    "<img src=\"./images/shepardresult.png\" width=\"300\">\n",
    "\n",
    "In other words, it would take you longer to decide if the 30 degree rotated version of your cup was the same as the upright version relative to the 15 degree rotated version. The idea is that in order to make the same/mirror judgement, people actually mentally rotate the object. Bigger angles require more time to “rotate” in your mind just as they would in the real world (see Figure below). As mentioned in class, Cooper (1976) performed an even more interesting followup which provided even stronger evidence that people rotate objects when doing the matching task. Thus, most people agree that people do seem to perform some kind of mental rotation."
   ]
  },
  {
   "cell_type": "markdown",
   "metadata": {},
   "source": [
    "<div class=\"alert alert-info\" role=\"alert\">\n",
    "  <strong>Question 1</strong> <br>\n",
    "    Picking up from last time, read in all the files from the lab session and combine them into one larger pandas data frame using the `pd.concat()` command.  Or you can simply read the combined file that you saved at the end of the last lab session.\n",
    "</div>"
   ]
  },
  {
   "cell_type": "code",
   "execution_count": 39,
   "metadata": {},
   "outputs": [],
   "source": [
    "# this is an example list comprehension which reads in the all the files.\n",
    "# the f.startswith() part just gets rid of any junk files in that folder \n",
    "filenames=['lab1-data/'+f for f in os.listdir('lab1-data') if not f.startswith('.')]"
   ]
  },
  {
   "cell_type": "markdown",
   "metadata": {},
   "source": [
    "<div class=\"alert alert-warning\" role=\"alert\">\n",
    "  <strong>Your Answer</strong> <br>\n",
    "  Delete this text and put your answer here.  The code for your analysis should appear in the cells below.\n",
    "</div>"
   ]
  },
  {
   "cell_type": "markdown",
   "metadata": {},
   "source": [
    "<div class=\"alert alert-info\" role=\"alert\">\n",
    "  <strong>Question 2</strong> <br>\n",
    "   The data from our experiment is conceptually a replication of <a href=\"https://openpsychologydata.metajnl.com/articles/10.5334/jopd.ai/\">this paper</a> using the same stimuli.  Jump to the methods section of this paper and determine what quality control measures they applied to their data.  For instance what kind of trials were analyzed and which were excluded.  Where there any basis for excluding an entire participant?  In a markdown cell describe the set of exclusion criterion that the authors used.  Next, create a new data frame of the data from our experiment applying the same exclusion criterion. \n",
    "</div>"
   ]
  },
  {
   "cell_type": "markdown",
   "metadata": {},
   "source": [
    "<div class=\"alert alert-warning\" role=\"alert\">\n",
    "  <strong>Your Answer</strong> <br>\n",
    "  Delete this text and put your answer here.  The code for your analysis should appear in the cells below.\n",
    "</div>"
   ]
  },
  {
   "cell_type": "markdown",
   "metadata": {},
   "source": [
    "<div class=\"alert alert-info\" role=\"alert\">\n",
    "  <strong>Question 3</strong> <br>\n",
    "    Use the pandas 'groupby' function to compute the average reaction time as a function of the angle of the stimulus.  It may help to go back to the <a href=\"http://gureckislab.org/courses/fall19/labincp/labs/dataframesplotting.html\">notebook on dataframes</a> and plotting and searching for the groupby example.\n",
    "</div>"
   ]
  },
  {
   "cell_type": "markdown",
   "metadata": {},
   "source": [
    "<div class=\"alert alert-warning\" role=\"alert\">\n",
    "  <strong>Your Answer</strong> <br>\n",
    "  Delete this text and put your answer here.  The code for your analysis should appear in the cells below.\n",
    "</div>"
   ]
  },
  {
   "cell_type": "markdown",
   "metadata": {},
   "source": [
    "<div class=\"alert alert-info\" role=\"alert\">\n",
    "  <strong>Question 4</strong> <br>\n",
    "    Use the pandas 'groupby' function to compute the average accuracy per participant.  Again, it may help to go back to the <a href=\"http://gureckislab.org/courses/fall19/labincp/labs/dataframesplotting.html\">notebook on dataframes</a> and plotting and searching for the groupby example.\n",
    "</div>"
   ]
  },
  {
   "cell_type": "markdown",
   "metadata": {},
   "source": [
    "<div class=\"alert alert-warning\" role=\"alert\">\n",
    "  <strong>Your Answer</strong> <br>\n",
    "  Delete this text and put your answer here.  The code for your analysis should appear in the cells below.\n",
    "</div>"
   ]
  },
  {
   "cell_type": "markdown",
   "metadata": {},
   "source": [
    "<div class=\"alert alert-info\" role=\"alert\">\n",
    "  <strong>Question 5</strong> <br>\n",
    "    Together question 3 and 4 allow you to essentially re-create Table 1 from the paper.  Recreate this table for our dataset using a pandas dataframe. Although this table has a heirarchical, two layer column label it is fine if you just label the columns using \"Mean RT\" and \"Mean error\", etc...\n",
    "</div>"
   ]
  },
  {
   "cell_type": "markdown",
   "metadata": {},
   "source": [
    "<div class=\"alert alert-warning\" role=\"alert\">\n",
    "  <strong>Your Answer</strong> <br>\n",
    "  Delete this text and put your answer here.  The code for your analysis should appear in the cells below.\n",
    "</div>"
   ]
  },
  {
   "cell_type": "markdown",
   "metadata": {},
   "source": [
    "<div class=\"alert alert-info\" role=\"alert\">\n",
    "  <strong>Question 6</strong> <br>\n",
    "    Using the seaborn 'scatterplot()' function (<a href=\"https://seaborn.pydata.org/generated/seaborn.scatterplot.html#seaborn.scatterplot\">docs</a>), create a plot of angle versus reaction time collapsing across all the subjects in the task.  You should restrict you analysis the same trials that were analyzed in the target reading.\n",
    "</div>"
   ]
  },
  {
   "cell_type": "markdown",
   "metadata": {},
   "source": [
    "<div class=\"alert alert-warning\" role=\"alert\">\n",
    "  <strong>Your Answer</strong> <br>\n",
    "  Delete this text and put your answer here.  The code for your analysis should appear in the cells below.\n",
    "</div>"
   ]
  },
  {
   "cell_type": "markdown",
   "metadata": {},
   "source": [
    "<div class=\"alert alert-info\" role=\"alert\">\n",
    "  <strong>Question 7</strong> <br>\n",
    "    As you have seen the regplot() and scatterplot() types in seaborn are quite related.  Replot the data from above this time using regplot so you can get a sense of the best fit regression line fit to the overall dataset.  Again, you should restrict you analysis the same trials that were analyzed in the target reading.\n",
    "</div>"
   ]
  },
  {
   "cell_type": "markdown",
   "metadata": {},
   "source": [
    "<div class=\"alert alert-warning\" role=\"alert\">\n",
    "  <strong>Your Answer</strong> <br>\n",
    "  Delete this text and put your answer here.  The code for your analysis should appear in the cells below.\n",
    "</div>"
   ]
  },
  {
   "cell_type": "markdown",
   "metadata": {},
   "source": [
    "<div class=\"alert alert-info\" role=\"alert\">\n",
    "  <strong>Question 8</strong> <br>\n",
    "    Using the statsmodels ordinary least squares regression peform a regression of angle (predictor) onto reaction time (outcome) for the entire class data.  Compare the cofficients you obtained to the ones reported in the results section of the paper.\n",
    "</div>"
   ]
  },
  {
   "cell_type": "markdown",
   "metadata": {},
   "source": [
    "<div class=\"alert alert-warning\" role=\"alert\">\n",
    "  <strong>Your Answer</strong> <br>\n",
    "  Delete this text and put your answer here.  The code for your analysis should appear in the cells below.\n",
    "</div>"
   ]
  },
  {
   "cell_type": "markdown",
   "metadata": {},
   "source": [
    "<div class=\"alert alert-info\" role=\"alert\">\n",
    "  <strong>Question 9</strong> <br>\n",
    "    Although in the previous step we might see evidence of the increase of reaction time with angle we averaged across a number of other relevant aspects of our data frame.  For instance we averaged across both the subjects (participants column) and the type of stimuli (if it was 'same' or 'different' - this is in the 'corrAns' column).  Using the example groupby command displayed in class, find the average reaction time as a function of angle and same/different for each individual subject.\n",
    "</div>"
   ]
  },
  {
   "cell_type": "markdown",
   "metadata": {},
   "source": [
    "<div class=\"alert alert-warning\" role=\"alert\">\n",
    "  <strong>Your Answer</strong> <br>\n",
    "  Delete this text and put your answer here.  The code for your analysis should appear in the cells below.\n",
    "</div>"
   ]
  },
  {
   "cell_type": "markdown",
   "metadata": {},
   "source": [
    "<div class=\"alert alert-info\" role=\"alert\">\n",
    "  <strong>Question 10</strong> <br>\n",
    "    Using the dataframe you constructed in the last step recreate Figure 3 from the paper.  Hint: the plot in Figure three is akin to the 'catplot' in seaborn.  Consult the seaborn documentation for information on this plot type.\n",
    "</div>"
   ]
  },
  {
   "cell_type": "markdown",
   "metadata": {},
   "source": [
    "<div class=\"alert alert-warning\" role=\"alert\">\n",
    "  <strong>Your Answer</strong> <br>\n",
    "  Delete this text and put your answer here.  The code for your analysis should appear in the cells below.\n",
    "</div>"
   ]
  },
  {
   "cell_type": "markdown",
   "metadata": {},
   "source": [
    "<div class=\"alert alert-info\" role=\"alert\">\n",
    "  <strong>Question 11</strong> <br>\n",
    "    The analyses we have considered so far combine across subjects.  However we would often like to analyze the effect in terms of individuals.  Does every individual show this pattern or only some?  Let's approach this two ways.  One, graphically by making a plot of every individual subject.  Two, analytically but running a separate regression model for each subject.  For the plot use the seaborn `regplot`.  Some code is provided to show and example of iterating with a for loop over individual subjects in the data frame.\n",
    "</div>"
   ]
  },
  {
   "cell_type": "markdown",
   "metadata": {},
   "source": [
    "<div class=\"alert alert-warning\" role=\"alert\">\n",
    "  <strong>Your Answer</strong> <br>\n",
    "  Delete this text and put your answer here.  The code for your analysis should appear in the cells below.\n",
    "</div>"
   ]
  },
  {
   "cell_type": "markdown",
   "metadata": {},
   "source": [
    "This gives a list of all the unique subjects in our data frame"
   ]
  },
  {
   "cell_type": "code",
   "execution_count": 46,
   "metadata": {},
   "outputs": [
    {
     "data": {
      "text/plain": [
       "array(['todd', 'db12', 'MC24', 'iw44', 'SK36', 'nd24', 'si13', 'so30',\n",
       "       'AB29', 'bk90', 'Monishee Matin', 'j98', 'kc10', 'ml98', 'vt15',\n",
       "       'Cc01', 'de24', 'ek87', 'pr27', 'kd27', 'JL29'], dtype=object)"
      ]
     },
     "execution_count": 46,
     "metadata": {},
     "output_type": "execute_result"
    }
   ],
   "source": [
    "all_df.participant.unique()"
   ]
  },
  {
   "cell_type": "markdown",
   "metadata": {},
   "source": [
    "This selects only the data from the second subject (db12)"
   ]
  },
  {
   "cell_type": "code",
   "execution_count": 57,
   "metadata": {},
   "outputs": [
    {
     "name": "stdout",
     "output_type": "stream",
     "text": [
      "21\n"
     ]
    },
    {
     "data": {
      "text/html": [
       "<div>\n",
       "<style scoped>\n",
       "    .dataframe tbody tr th:only-of-type {\n",
       "        vertical-align: middle;\n",
       "    }\n",
       "\n",
       "    .dataframe tbody tr th {\n",
       "        vertical-align: top;\n",
       "    }\n",
       "\n",
       "    .dataframe thead th {\n",
       "        text-align: right;\n",
       "    }\n",
       "</style>\n",
       "<table border=\"1\" class=\"dataframe\">\n",
       "  <thead>\n",
       "    <tr style=\"text-align: right;\">\n",
       "      <th></th>\n",
       "      <th>trialResp.keys</th>\n",
       "      <th>trialResp.corr</th>\n",
       "      <th>trialResp.rt</th>\n",
       "      <th>loop.thisRepN</th>\n",
       "      <th>loop.thisTrialN</th>\n",
       "      <th>loop.thisN</th>\n",
       "      <th>loop.thisIndex</th>\n",
       "      <th>loop.ran</th>\n",
       "      <th>loop.order</th>\n",
       "      <th>imagefile</th>\n",
       "      <th>corrAns</th>\n",
       "      <th>angle</th>\n",
       "      <th>participant</th>\n",
       "      <th>session</th>\n",
       "      <th>date</th>\n",
       "      <th>expName</th>\n",
       "      <th>psychopyVersion</th>\n",
       "      <th>frameRate</th>\n",
       "    </tr>\n",
       "  </thead>\n",
       "  <tbody>\n",
       "    <tr>\n",
       "      <th>0</th>\n",
       "      <td>s</td>\n",
       "      <td>1</td>\n",
       "      <td>2.970</td>\n",
       "      <td>1</td>\n",
       "      <td>0</td>\n",
       "      <td>100</td>\n",
       "      <td>36</td>\n",
       "      <td>1</td>\n",
       "      <td>99</td>\n",
       "      <td>i17_50.jpg</td>\n",
       "      <td>s</td>\n",
       "      <td>50</td>\n",
       "      <td>db12</td>\n",
       "      <td>1</td>\n",
       "      <td>2019-10-16_10h07.25.323</td>\n",
       "      <td>MentalRotationFinal</td>\n",
       "      <td>3.1.2</td>\n",
       "      <td>60</td>\n",
       "    </tr>\n",
       "    <tr>\n",
       "      <th>1</th>\n",
       "      <td>s</td>\n",
       "      <td>1</td>\n",
       "      <td>5.654</td>\n",
       "      <td>1</td>\n",
       "      <td>0</td>\n",
       "      <td>100</td>\n",
       "      <td>11</td>\n",
       "      <td>1</td>\n",
       "      <td>99</td>\n",
       "      <td>i5_100.jpg</td>\n",
       "      <td>s</td>\n",
       "      <td>100</td>\n",
       "      <td>db12</td>\n",
       "      <td>1</td>\n",
       "      <td>2019-10-16_10h07.25.323</td>\n",
       "      <td>MentalRotationFinal</td>\n",
       "      <td>3.1.2</td>\n",
       "      <td>60</td>\n",
       "    </tr>\n",
       "    <tr>\n",
       "      <th>2</th>\n",
       "      <td>d</td>\n",
       "      <td>1</td>\n",
       "      <td>7.175</td>\n",
       "      <td>1</td>\n",
       "      <td>0</td>\n",
       "      <td>100</td>\n",
       "      <td>93</td>\n",
       "      <td>1</td>\n",
       "      <td>99</td>\n",
       "      <td>i43_100_R.jpg</td>\n",
       "      <td>d</td>\n",
       "      <td>100</td>\n",
       "      <td>db12</td>\n",
       "      <td>1</td>\n",
       "      <td>2019-10-16_10h07.25.323</td>\n",
       "      <td>MentalRotationFinal</td>\n",
       "      <td>3.1.2</td>\n",
       "      <td>60</td>\n",
       "    </tr>\n",
       "    <tr>\n",
       "      <th>3</th>\n",
       "      <td>s</td>\n",
       "      <td>1</td>\n",
       "      <td>2.922</td>\n",
       "      <td>1</td>\n",
       "      <td>0</td>\n",
       "      <td>100</td>\n",
       "      <td>77</td>\n",
       "      <td>1</td>\n",
       "      <td>99</td>\n",
       "      <td>i35_150.jpg</td>\n",
       "      <td>s</td>\n",
       "      <td>150</td>\n",
       "      <td>db12</td>\n",
       "      <td>1</td>\n",
       "      <td>2019-10-16_10h07.25.323</td>\n",
       "      <td>MentalRotationFinal</td>\n",
       "      <td>3.1.2</td>\n",
       "      <td>60</td>\n",
       "    </tr>\n",
       "    <tr>\n",
       "      <th>4</th>\n",
       "      <td>d</td>\n",
       "      <td>1</td>\n",
       "      <td>4.004</td>\n",
       "      <td>1</td>\n",
       "      <td>0</td>\n",
       "      <td>100</td>\n",
       "      <td>96</td>\n",
       "      <td>1</td>\n",
       "      <td>99</td>\n",
       "      <td>i45_100_R.jpg</td>\n",
       "      <td>d</td>\n",
       "      <td>100</td>\n",
       "      <td>db12</td>\n",
       "      <td>1</td>\n",
       "      <td>2019-10-16_10h07.25.323</td>\n",
       "      <td>MentalRotationFinal</td>\n",
       "      <td>3.1.2</td>\n",
       "      <td>60</td>\n",
       "    </tr>\n",
       "  </tbody>\n",
       "</table>\n",
       "</div>"
      ],
      "text/plain": [
       "  trialResp.keys  trialResp.corr  trialResp.rt  loop.thisRepN  \\\n",
       "0              s               1         2.970              1   \n",
       "1              s               1         5.654              1   \n",
       "2              d               1         7.175              1   \n",
       "3              s               1         2.922              1   \n",
       "4              d               1         4.004              1   \n",
       "\n",
       "   loop.thisTrialN  loop.thisN  loop.thisIndex  loop.ran  loop.order  \\\n",
       "0                0         100              36         1          99   \n",
       "1                0         100              11         1          99   \n",
       "2                0         100              93         1          99   \n",
       "3                0         100              77         1          99   \n",
       "4                0         100              96         1          99   \n",
       "\n",
       "       imagefile corrAns  angle participant  session                     date  \\\n",
       "0     i17_50.jpg       s     50        db12        1  2019-10-16_10h07.25.323   \n",
       "1     i5_100.jpg       s    100        db12        1  2019-10-16_10h07.25.323   \n",
       "2  i43_100_R.jpg       d    100        db12        1  2019-10-16_10h07.25.323   \n",
       "3    i35_150.jpg       s    150        db12        1  2019-10-16_10h07.25.323   \n",
       "4  i45_100_R.jpg       d    100        db12        1  2019-10-16_10h07.25.323   \n",
       "\n",
       "               expName psychopyVersion  frameRate  \n",
       "0  MentalRotationFinal           3.1.2         60  \n",
       "1  MentalRotationFinal           3.1.2         60  \n",
       "2  MentalRotationFinal           3.1.2         60  \n",
       "3  MentalRotationFinal           3.1.2         60  \n",
       "4  MentalRotationFinal           3.1.2         60  "
      ]
     },
     "execution_count": 57,
     "metadata": {},
     "output_type": "execute_result"
    }
   ],
   "source": [
    "subs = all_df.participant.unique()\n",
    "print(len(subs))\n",
    "part_df=all_df[all_df.participant==subs[1]]\n",
    "part_df.head()"
   ]
  },
  {
   "cell_type": "markdown",
   "metadata": {},
   "source": [
    "This plot reaction time as a function of angle separately for the same and different trial for this one participant."
   ]
  },
  {
   "cell_type": "code",
   "execution_count": null,
   "metadata": {},
   "outputs": [],
   "source": [
    "for i,s in enumerate(subs):\n",
    "    print(i)\n",
    "    part_df = all_df[all_df.participant==s]\n",
    "    print(part_df.head())\n",
    "    print('----')\n",
    "    print()"
   ]
  },
  {
   "cell_type": "markdown",
   "metadata": {},
   "source": [
    "<div class=\"alert alert-info\" role=\"alert\">\n",
    "  <strong>Question 12</strong> <br>\n",
    "    In your own word summarize the results of the analyses you conducted above.  Specifically you should mention what the regresssion results imply about the data.  How consistent is the pattern across subjects?  Does the experiment we ran in class replicate the finding in the target paper?\n",
    "</div>"
   ]
  },
  {
   "cell_type": "markdown",
   "metadata": {},
   "source": [
    "<div class=\"alert alert-warning\" role=\"alert\">\n",
    "  <strong>Your Answer</strong> <br>\n",
    "  Delete this text and put your answer here.  The code for your analysis should appear in the cells below.\n",
    "</div>"
   ]
  },
  {
   "cell_type": "code",
   "execution_count": null,
   "metadata": {},
   "outputs": [],
   "source": []
  }
 ],
 "metadata": {
  "kernelspec": {
   "display_name": "Python 3",
   "language": "python",
   "name": "python3"
  },
  "language_info": {
   "codemirror_mode": {
    "name": "ipython",
    "version": 3
   },
   "file_extension": ".py",
   "mimetype": "text/x-python",
   "name": "python",
   "nbconvert_exporter": "python",
   "pygments_lexer": "ipython3",
   "version": "3.7.3"
  },
  "toc": {
   "base_numbering": 1,
   "nav_menu": {},
   "number_sections": true,
   "sideBar": true,
   "skip_h1_title": false,
   "title_cell": "Table of Contents",
   "title_sidebar": "Contents",
   "toc_cell": false,
   "toc_position": {},
   "toc_section_display": true,
   "toc_window_display": false
  }
 },
 "nbformat": 4,
 "nbformat_minor": 2
}
