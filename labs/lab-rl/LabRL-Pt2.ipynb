{
 "cells": [
  {
   "cell_type": "code",
   "execution_count": 3,
   "metadata": {},
   "outputs": [],
   "source": [
    "from IPython.core.display import HTML, Markdown, display\n",
    "\n",
    "import numpy.random as npr\n",
    "import numpy as np\n",
    "import pandas as pd\n",
    "import seaborn as sns\n",
    "import matplotlib.pyplot as plt\n",
    "import scipy.stats as stats\n",
    "import statsmodels.formula.api as smf\n",
    "import pingouin as pg\n",
    "import random\n",
    "\n",
    "import ipywidgets as widgets\n",
    "\n",
    "from rl_exp import *\n",
    "# Enable plots inside the Jupyter Notebook\n",
    "%matplotlib inline"
   ]
  },
  {
   "cell_type": "markdown",
   "metadata": {},
   "source": [
    "# Lab: Reinforcement Learning (Part II)"
   ]
  },
  {
   "cell_type": "markdown",
   "metadata": {},
   "source": [
    "Authored by *Todd Gureckis* and *Hillary Raab*\n",
    "Aspects borrowed from [Computational Cognitive Modeling](https://brendenlake.github.io/CCM-site/) graduate course."
   ]
  },
  {
   "cell_type": "markdown",
   "metadata": {},
   "source": [
    "---"
   ]
  },
  {
   "cell_type": "markdown",
   "metadata": {},
   "source": [
    "## Building and Artificial Agent that learns from reinforcement\n",
    "\n",
    "The previous part of the lab you took part in a simple **reinforcement learning** experiment known as the multi-armed bandit.  In addition, we analyzed some of our data to understand how our patterns of choices related to the rewards.  In this part of the lab we are going to build an artificial agent that learns to perform the same task by itself.\n",
    "\n",
    "This gives you some initial understanding of the field of computational cognitive science and computational modeling of human behavior."
   ]
  },
  {
   "cell_type": "markdown",
   "metadata": {},
   "source": [
    "## The mental steps in performing the multi-armed \"bandit\" task"
   ]
  },
  {
   "cell_type": "markdown",
   "metadata": {},
   "source": [
    "When we build a model we often have to think about the sequence of steps that are needed in order to perform a task.  What do you think those are for the multi-armed bandit?"
   ]
  },
  {
   "cell_type": "markdown",
   "metadata": {},
   "source": [
    "<div class=\"alert alert-success\" role=\"alert\">\n",
    "  <strong>Stop and think</strong> <br>\n",
    "    Discuss with your neighbors/group for five minutes some of the ingredients you think might be needed in order to solve the task.  For example what information do you need to keep track of?  How do you make decisions about which arm of the bandit to choose?\n",
    "</div>"
   ]
  },
  {
   "cell_type": "markdown",
   "metadata": {},
   "source": [
    "## The environment"
   ]
  },
  {
   "cell_type": "markdown",
   "metadata": {},
   "source": [
    "To get started, we need to define the RL environment for the agent.  Let's apply this agent to the same task you performed.  Read in your data file from the experiment phase using the following command:"
   ]
  },
  {
   "cell_type": "code",
   "execution_count": 6,
   "metadata": {},
   "outputs": [
    {
     "data": {
      "text/html": [
       "<div>\n",
       "<style scoped>\n",
       "    .dataframe tbody tr th:only-of-type {\n",
       "        vertical-align: middle;\n",
       "    }\n",
       "\n",
       "    .dataframe tbody tr th {\n",
       "        vertical-align: top;\n",
       "    }\n",
       "\n",
       "    .dataframe thead th {\n",
       "        text-align: right;\n",
       "    }\n",
       "</style>\n",
       "<table border=\"1\" class=\"dataframe\">\n",
       "  <thead>\n",
       "    <tr style=\"text-align: right;\">\n",
       "      <th></th>\n",
       "      <th>Unnamed: 0</th>\n",
       "      <th>subject</th>\n",
       "      <th>trial</th>\n",
       "      <th>block</th>\n",
       "      <th>choice</th>\n",
       "      <th>reward</th>\n",
       "      <th>best_resp</th>\n",
       "      <th>max</th>\n",
       "      <th>reward0</th>\n",
       "      <th>reward1</th>\n",
       "      <th>reward2</th>\n",
       "      <th>reward3</th>\n",
       "      <th>total_reward</th>\n",
       "      <th>rt</th>\n",
       "    </tr>\n",
       "  </thead>\n",
       "  <tbody>\n",
       "    <tr>\n",
       "      <th>0</th>\n",
       "      <td>0</td>\n",
       "      <td>XXX</td>\n",
       "      <td>0</td>\n",
       "      <td>0</td>\n",
       "      <td>0</td>\n",
       "      <td>-0.457636</td>\n",
       "      <td>2</td>\n",
       "      <td>0</td>\n",
       "      <td>-0.457636</td>\n",
       "      <td>-0.210389</td>\n",
       "      <td>8.975787</td>\n",
       "      <td>0.093462</td>\n",
       "      <td>-0.457636</td>\n",
       "      <td>2095.666</td>\n",
       "    </tr>\n",
       "    <tr>\n",
       "      <th>1</th>\n",
       "      <td>1</td>\n",
       "      <td>XXX</td>\n",
       "      <td>1</td>\n",
       "      <td>1</td>\n",
       "      <td>1</td>\n",
       "      <td>-1.015812</td>\n",
       "      <td>2</td>\n",
       "      <td>0</td>\n",
       "      <td>4.647578</td>\n",
       "      <td>-1.015812</td>\n",
       "      <td>6.898189</td>\n",
       "      <td>-3.375761</td>\n",
       "      <td>-1.473447</td>\n",
       "      <td>268.223</td>\n",
       "    </tr>\n",
       "    <tr>\n",
       "      <th>2</th>\n",
       "      <td>2</td>\n",
       "      <td>XXX</td>\n",
       "      <td>2</td>\n",
       "      <td>2</td>\n",
       "      <td>0</td>\n",
       "      <td>1.699317</td>\n",
       "      <td>2</td>\n",
       "      <td>0</td>\n",
       "      <td>1.699317</td>\n",
       "      <td>-0.414074</td>\n",
       "      <td>4.219976</td>\n",
       "      <td>1.887663</td>\n",
       "      <td>0.225870</td>\n",
       "      <td>281.481</td>\n",
       "    </tr>\n",
       "    <tr>\n",
       "      <th>3</th>\n",
       "      <td>3</td>\n",
       "      <td>XXX</td>\n",
       "      <td>3</td>\n",
       "      <td>3</td>\n",
       "      <td>1</td>\n",
       "      <td>-2.582218</td>\n",
       "      <td>2</td>\n",
       "      <td>0</td>\n",
       "      <td>5.869208</td>\n",
       "      <td>-2.582218</td>\n",
       "      <td>5.883738</td>\n",
       "      <td>1.177207</td>\n",
       "      <td>-2.356349</td>\n",
       "      <td>398.100</td>\n",
       "    </tr>\n",
       "    <tr>\n",
       "      <th>4</th>\n",
       "      <td>4</td>\n",
       "      <td>XXX</td>\n",
       "      <td>4</td>\n",
       "      <td>4</td>\n",
       "      <td>2</td>\n",
       "      <td>1.674251</td>\n",
       "      <td>2</td>\n",
       "      <td>1</td>\n",
       "      <td>1.596461</td>\n",
       "      <td>-3.899903</td>\n",
       "      <td>1.674251</td>\n",
       "      <td>0.346435</td>\n",
       "      <td>-0.682098</td>\n",
       "      <td>163.687</td>\n",
       "    </tr>\n",
       "  </tbody>\n",
       "</table>\n",
       "</div>"
      ],
      "text/plain": [
       "   Unnamed: 0 subject  trial  block  choice    reward  best_resp  max  \\\n",
       "0           0     XXX      0      0       0 -0.457636          2    0   \n",
       "1           1     XXX      1      1       1 -1.015812          2    0   \n",
       "2           2     XXX      2      2       0  1.699317          2    0   \n",
       "3           3     XXX      3      3       1 -2.582218          2    0   \n",
       "4           4     XXX      4      4       2  1.674251          2    1   \n",
       "\n",
       "    reward0   reward1   reward2   reward3  total_reward        rt  \n",
       "0 -0.457636 -0.210389  8.975787  0.093462     -0.457636  2095.666  \n",
       "1  4.647578 -1.015812  6.898189 -3.375761     -1.473447   268.223  \n",
       "2  1.699317 -0.414074  4.219976  1.887663      0.225870   281.481  \n",
       "3  5.869208 -2.582218  5.883738  1.177207     -2.356349   398.100  \n",
       "4  1.596461 -3.899903  1.674251  0.346435     -0.682098   163.687  "
      ]
     },
     "execution_count": 6,
     "metadata": {},
     "output_type": "execute_result"
    }
   ],
   "source": [
    "rl_df = pd.read_csv(\"rlexp-XXX.csv\")\n",
    "rl_df.head()"
   ]
  },
  {
   "cell_type": "markdown",
   "metadata": {},
   "source": [
    "Ok, in this data frame columns 'reward0', 'reward1', 'reward2', and 'reward3' define the amount of reward you *would* have gotten by selected each of the respective arms of the bandit.  As a result, we can use these rewards to test out our artificial agent."
   ]
  },
  {
   "cell_type": "markdown",
   "metadata": {},
   "source": [
    "## A basic agent"
   ]
  },
  {
   "cell_type": "markdown",
   "metadata": {},
   "source": [
    "Let's begin by creating a very simple agent that randomly choose arms.  This bandit is going to be really simple and trivial.  It is the same as an agent that choose randomly with its eyes closed.  However, it is a useful starting point for coding smarter agents."
   ]
  },
  {
   "cell_type": "code",
   "execution_count": 7,
   "metadata": {},
   "outputs": [],
   "source": [
    "class RandomAgent():\n",
    "    def __init__(self, k):\n",
    "        self.num_actions = k\n",
    "        # you could add parameters to your agent here\n",
    "        pass\n",
    "    \n",
    "    def choose(self):\n",
    "        return random.randrange(self.num_actions)\n",
    "    \n",
    "    def learn(self, reward, action): # this agent doesn't learn\n",
    "        pass"
   ]
  },
  {
   "cell_type": "markdown",
   "metadata": {},
   "source": [
    "Here we use a python 'class' which is an object-oriented framework for combining multiple functions and variables together.  Notice that the class definition starts with the name of the agent and then includes a few functions.  These functions are tabbed over so there are \"within\" the definition of the agent.  We can think of these functions as adding \"powers\" to our agent.  We have defined three functions.  The `__init__()` function is a special one.  It is a function that gets run when our agent is \"created\" or born.  Here it just intialized the number of available actions to k (k=4 in our experiment).  The other two functions are `choose()` and `learn()`.  These two functions allow us to make decisions and learn, respectively.\n",
    "\n",
    "Right now our agent is really dumb.  In the learn function it just uses the `pass` keyword which means nothing happens.  So our agent is unable to learn.  The `choose` function is similarly dumb.  It randomly chooses an action from the available set.  Thus this agent is neither strategic nor able to learn.  Let's make it better!  \n",
    "\n",
    "But first, let's see exactly how bad this little guy is!"
   ]
  },
  {
   "cell_type": "code",
   "execution_count": 26,
   "metadata": {},
   "outputs": [],
   "source": [
    "# keep track of a few things\n",
    "agent_choices = []\n",
    "agent_rewards = []\n",
    "agent_max = []\n",
    "\n",
    "# create our random agent\n",
    "dumbagent = RandomAgent(4)\n",
    "\n",
    "# for each row in our original data\n",
    "for idx, row in rl_df.iterrows():\n",
    "    choice = dumbagent.choose() # have the agent choose\n",
    "    reward = row[f'reward{choice}'] # get the reward for that choice\n",
    "    max_r = choice==row['best_resp'] # is it the \"maximizing\" response?\n",
    "    #track everything for analysis\n",
    "    agent_choices.append(choice)\n",
    "    agent_rewards.append(reward)\n",
    "    agent_max.append(max_r)\n",
    "\n",
    "# add new columns to the data frame similar to our human data \n",
    "# that are for the agent\n",
    "rl_df['agent_choice'] =  agent_choices\n",
    "rl_df['agent_reward'] =  agent_rewards\n",
    "rl_df['agent_max'] =  agent_max"
   ]
  },
  {
   "cell_type": "markdown",
   "metadata": {},
   "source": [
    "Great!  Now we have let our agent play the exact same game and we can compare the agent to how we performed!"
   ]
  },
  {
   "cell_type": "code",
   "execution_count": 30,
   "metadata": {},
   "outputs": [
    {
     "name": "stdout",
     "output_type": "stream",
     "text": [
      "Agent earned: 295.9213494013014 , Chose best response: 0.23809523809523808\n",
      "Human earned: 751.5638874975159 , Chose best response: 0.5904761904761905\n"
     ]
    },
    {
     "data": {
      "image/png": "[encoded data removed]",
      "text/plain": [
       "<Figure size 432x288 with 1 Axes>"
      ]
     },
     "metadata": {
      "needs_background": "light"
     },
     "output_type": "display_data"
    }
   ],
   "source": [
    "w=15\n",
    "plt.plot(rl_df['max'].rolling(window=w).mean())\n",
    "plt.plot(rl_df['agent_max'].rolling(window=w).mean())\n",
    "print(\"Agent earned:\", rl_df['agent_reward'].sum(), \", Chose best response:\", rl_df['agent_max'].sum()/rl_df['agent_max'].count())\n",
    "print(\"Human earned:\", rl_df['reward'].sum(), \", Chose best response:\", rl_df['max'].sum()/rl_df['max'].count())"
   ]
  },
  {
   "cell_type": "markdown",
   "metadata": {},
   "source": [
    "Interesting!  The agent seemed to earn significant less and also chose the best response about 25% of the time.  That last part is expected (it chose randomly from four options).  However, the fact that it earned so much less reward than you is because it doesn't know how to learn or make smart decisions."
   ]
  },
  {
   "cell_type": "markdown",
   "metadata": {},
   "source": [
    "## A smarter agent"
   ]
  },
  {
   "cell_type": "markdown",
   "metadata": {},
   "source": [
    "We would like to make our agent smarter.  One way is to keep track of the rewards it has received from each option and to choose the arm of the bandit with the most total reward"
   ]
  },
  {
   "cell_type": "code",
   "execution_count": 82,
   "metadata": {},
   "outputs": [],
   "source": [
    "class SmarterAgent():\n",
    "    def __init__(self, k):\n",
    "        self.num_actions = k\n",
    "        self.reward_history = [[0], [0], [0], [0]]\n",
    "        pass\n",
    "    \n",
    "    def choose(self):\n",
    "        reward_avg = np.array([np.mean(i) for i in self.reward_history])\n",
    "        max_reward=npr.choice(np.flatnonzero(reward_avg == reward_avg.max()))\n",
    "        return max_reward\n",
    "    \n",
    "    def learn(self, reward, action): # this agent doesn't learn\n",
    "        self.reward_history[action].append(reward)"
   ]
  },
  {
   "cell_type": "code",
   "execution_count": 83,
   "metadata": {},
   "outputs": [],
   "source": [
    "# keep track of a few things\n",
    "agent_choices = []\n",
    "agent_rewards = []\n",
    "agent_max = []\n",
    "\n",
    "# create our random agent\n",
    "agent = SmarterAgent(4)\n",
    "\n",
    "# for each row in our original data\n",
    "for idx, row in rl_df.iterrows():\n",
    "    choice = agent.choose() # have the agent choose\n",
    "    reward = row[f'reward{choice}'] # get the reward for that choice\n",
    "    max_r = choice==row['best_resp'] # is it the \"maximizing\" response?\n",
    "    \n",
    "    # NOW THE AGENT LEARNS!!!\n",
    "    agent.learn(reward, choice)\n",
    "    #track everything for analysis\n",
    "    agent_choices.append(choice)\n",
    "    agent_rewards.append(reward)\n",
    "    agent_max.append(max_r)\n",
    "\n",
    "# add new columns to the data frame similar to our human data \n",
    "# that are for the agent\n",
    "rl_df['agent_choice'] =  agent_choices\n",
    "rl_df['agent_reward'] =  agent_rewards\n",
    "rl_df['agent_max'] =  agent_max"
   ]
  },
  {
   "cell_type": "markdown",
   "metadata": {},
   "source": [
    "<div class=\"alert alert-info\" role=\"alert\">\n",
    "<h3> Problem 1</h3><br>\n",
    "Based on the way we analyzed the behavior of the RandomAgent, make a similar plot for the SmarterAgent.  How does it do?  Why do you think the outputs look like the do.  Write a few sentences describing your obsrvations.\n",
    "</div>"
   ]
  },
  {
   "cell_type": "markdown",
   "metadata": {},
   "source": [
    "## Exploring to Learn"
   ]
  },
  {
   "cell_type": "markdown",
   "metadata": {},
   "source": [
    "The SmarterAgent we just considered keeps track of the average reward from each bandit arm in a list.  However, it always **chooses** the best action so far.  What is wrong with this strategy?"
   ]
  },
  {
   "cell_type": "markdown",
   "metadata": {},
   "source": [
    "<div class=\"alert alert-success\" role=\"alert\">\n",
    "  <strong>Stop and think</strong> <br>\n",
    "    Discuss with your neighbors/group for five minutes what is wrong with this strategy.  Enter a markdown cell below with the notes from your discussion.\n",
    "</div>"
   ]
  },
  {
   "cell_type": "markdown",
   "metadata": {},
   "source": [
    "The agent would do better if we can inject some randomness into its decisions.  Not as much as the random agent but something close.  One common strategy for this in computer science is called Epislon-greedy or $\\epsilon$-greedy.  Under this strategy, you choose the best action **most** of the time but with probability equal to $\\epsilon$ (a small number) you chose randomly.  Thus, this agent would kind of combine elements of both the random and smarter agents."
   ]
  },
  {
   "cell_type": "markdown",
   "metadata": {},
   "source": [
    "<div class=\"alert alert-info\" role=\"alert\">\n",
    "<h3> Problem 2</h3><br>\n",
    "Below I provided a template for a SmarterExploringAgent.  This agent is similar to the one above but I have deleted the choose function and will ask you to implement that decision rule.  Your code should use the parameter epsilon to decide to either choose randomly (see RandomAgent) or choose the best option with the highest average reward (like SmarterAgent).  After you implement it run it on the problem and see how it does.  Remember you will need to provide the epsilon parameter to the choose() function in your code.  You should make this number relatively small (like 0.01) but you can play with different numbers.</div>"
   ]
  },
  {
   "cell_type": "code",
   "execution_count": 88,
   "metadata": {},
   "outputs": [],
   "source": [
    "class SmarterExploringAgent():\n",
    "    def __init__(self, k):\n",
    "        self.num_actions = k\n",
    "        self.reward_history = [[0], [0], [0], [0]]\n",
    "        pass\n",
    "    \n",
    "    def choose(self, epsilon):\n",
    "        \n",
    "        pass\n",
    "    \n",
    "    def learn(self, reward, action): # this agent doesn't learn\n",
    "        self.reward_history[action].append(reward)"
   ]
  },
  {
   "cell_type": "markdown",
   "metadata": {},
   "source": [
    "## Learning incrementally"
   ]
  },
  {
   "cell_type": "markdown",
   "metadata": {},
   "source": [
    "The agent we have made learns but it does this in a somewhat unrealistic way.  We could say it has a **memory** for every past reward it has recieved and each time it makes a choice it computes the average of those experiences.  As the amount of trials in the experiment (or episodes in life) increase, this agent will have to grow a really large memory and possibly it won't fit in the computer anymore.  This seems unrealistic compared to how we solved the problem, right?"
   ]
  },
  {
   "cell_type": "markdown",
   "metadata": {},
   "source": [
    "But there is still *another* problem with this approach.  Your Smarter agent probably still didn't do that well because it has TOO much memory...  These bandits are changing how good they are from time to time and this bandit tracks the overall average.  This means it'll still be averaging together values from the past even when things change.  It is like even after your favorite restaurant becomes bad you still use the good experiences you had long ago to make your decision today.  The best thing to do sometimes is to forget the past and move on!"
   ]
  },
  {
   "cell_type": "markdown",
   "metadata": {},
   "source": [
    "A common solution to this is to track the average *incrementally*.  Incremental tracking of an average can be done with much less memory.  To do this we will calculate something called the Q value for each bandit on every trial. The Q value can be estimated by taking the Q value on the previous trial and adding the prediction error, scaled by the learning rate. \n",
    "\n",
    "Okay, don't be scared, but let's write this out as a mathematical equation.\n",
    "Again we have:\n",
    "- the value of a particular machine: Q(s,a)\n",
    "- the learning rate which can be written as alpha\n",
    "- the prediction error\n",
    "\n",
    "The preciction error is calculate by subtracting what you expected (the value of a particular machine) from the reinforcement, which we can define as r (always 1 for reward or 0 if there is no reweard).\n",
    "Here is the prediction error equation: $[r - Q(s,a)]$\n",
    "\n",
    "\n",
    "Then we can update the Q values in Q-learning as follows:\n",
    "\n",
    "$Q(s,a) = Q(s,a) + \\alpha [r - Q(s,a)] $"
   ]
  },
  {
   "cell_type": "markdown",
   "metadata": {},
   "source": [
    "<div class=\"alert alert-info\" role=\"alert\">\n",
    "<h3>Problem 3</h3><br>\n",
    "Before we continue, let's get a little more experience with the prediction error. If you get a reward of 1, and the Q value is .6 (this is what you expect). Is this a positive or negative prediction error? What is the value of the prediction error?\n",
    "</div>"
   ]
  },
  {
   "cell_type": "markdown",
   "metadata": {},
   "source": [
    "<div class=\"alert alert-info\" role=\"alert\">\n",
    "    Your answer here!\n",
    "</div>"
   ]
  },
  {
   "cell_type": "markdown",
   "metadata": {},
   "source": [
    "<div class=\"alert alert-info\" role=\"alert\">\n",
    "<h3>Problem 4</h3><br>\n",
    "Below I provided a template for a SmarterExploringIncrementalAgent. You should first implement the learn function.  I have provided the first bit of code to help you update the value of the chose q_value.  This should be 1 line of code and you are just putting the variables together like in the quation (self.q_values[action] = Q(s,a) in the equation, reward is r, and alpha is the alpha). Next you have to adapt the choice function from above to use the q-values.</div> "
   ]
  },
  {
   "cell_type": "code",
   "execution_count": null,
   "metadata": {},
   "outputs": [],
   "source": [
    "class SmarterExploringIncrementalAgent():\n",
    "    def __init__(self, k):\n",
    "        self.num_actions = k\n",
    "        self.q_values = np.zeros(4)\n",
    "        pass\n",
    "    \n",
    "    def choose(self, epsilon):\n",
    "        # modify your choice rule from the previous agent to use the q_values\n",
    "        pass\n",
    "    \n",
    "    def learn(self, reward, action, alpha): # this agent doesn't learn\n",
    "        # replace this line here with the q-learning equation\n",
    "        self.q_values[action] = reward"
   ]
  },
  {
   "cell_type": "markdown",
   "metadata": {},
   "source": [
    "<div class=\"alert alert-info\" role=\"alert\">\n",
    "<h3>Problem 5</h3><br>\n",
    "Copy the code from above to apply this agent to the task and evaluate its performance.  How does it do?  How does learning change when you move around the learning rate? What happens when the learning rate is 0? What happens when the learning rate (alpha) is 1? What about as it approaches 0 or 1?\n",
    "</div> "
   ]
  },
  {
   "cell_type": "markdown",
   "metadata": {},
   "source": [
    "<div class=\"alert alert-info\" role=\"alert\">Your answer here!</div>"
   ]
  },
  {
   "cell_type": "markdown",
   "metadata": {},
   "source": [
    "<div class=\"alert alert-info\" role=\"alert\">\n",
    "<h3>Problem 6</h3><br>\n",
    "You created a bunch of agents in this exercise, each trying to be more and more similar to humans.  What aspect do you think these agents still lack compared to the way you solved the problem?\n",
    "</div>"
   ]
  },
  {
   "cell_type": "markdown",
   "metadata": {},
   "source": [
    "<div class=\"alert alert-info\" role=\"alert\">Your answer here!</div>"
   ]
  },
  {
   "cell_type": "code",
   "execution_count": null,
   "metadata": {},
   "outputs": [],
   "source": []
  }
 ],
 "metadata": {
  "kernel_info": {
   "name": "python3"
  },
  "kernelspec": {
   "display_name": "Python 3",
   "language": "python",
   "name": "python3"
  },
  "language_info": {
   "codemirror_mode": {
    "name": "ipython",
    "version": 3
   },
   "file_extension": ".py",
   "mimetype": "text/x-python",
   "name": "python",
   "nbconvert_exporter": "python",
   "pygments_lexer": "ipython3",
   "version": "3.7.3"
  },
  "nteract": {
   "version": "0.15.0"
  },
  "toc": {
   "base_numbering": 1,
   "nav_menu": {},
   "number_sections": true,
   "sideBar": true,
   "skip_h1_title": false,
   "title_cell": "Table of Contents",
   "title_sidebar": "Contents",
   "toc_cell": false,
   "toc_position": {
    "height": "calc(100% - 180px)",
    "left": "10px",
    "top": "150px",
    "width": "288.796875px"
   },
   "toc_section_display": true,
   "toc_window_display": true
  }
 },
 "nbformat": 4,
 "nbformat_minor": 2
}
